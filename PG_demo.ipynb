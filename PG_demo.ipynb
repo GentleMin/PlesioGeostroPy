{
 "cells": [
  {
   "cell_type": "markdown",
   "id": "311e3d32-b7e1-473b-b849-e31090b30474",
   "metadata": {
    "tags": []
   },
   "source": [
    "# Equations and ingredients of Plesio-Geostrophy Model\n",
    "\n",
    "This notebook is used for inspecting equations, transformations and their linearized versions of the plesio-geostrophy (PG) model. Plesio-Geostrophy model (see [Jackson and Maffei, 2020](https://doi.org/10.1098/rspa.2020.0513)) is a 2-D reduced model for 3-D MHD in rapidly rotating frame, based on near-geostrophic flows in an axisymmetric cavity."
   ]
  },
  {
   "cell_type": "code",
   "execution_count": 27,
   "id": "3d36e330-e34c-4d95-90a9-d8fdaa2bc134",
   "metadata": {},
   "outputs": [
    {
     "name": "stdout",
     "output_type": "stream",
     "text": [
      "The autoreload extension is already loaded. To reload it, use:\n",
      "  %reload_ext autoreload\n"
     ]
    }
   ],
   "source": [
    "%load_ext autoreload\n",
    "%autoreload 2\n",
    "\n",
    "# Symbolics\n",
    "import sympy\n",
    "from sympy import S, diff\n",
    "from sympy import Derivative as diff_u\n",
    "import pg_utils.sympy_supp.vector_calculus_3d as v3d\n",
    "\n",
    "# PG Model\n",
    "from pg_utils.pg_model import *\n",
    "from pg_utils.pg_model import core, eqs, pg_forcing\n",
    "from pg_utils.pg_model import base_utils as pgutils"
   ]
  },
  {
   "cell_type": "markdown",
   "id": "401b4c20-1ce6-4c63-9bf3-ebd0bafc5de9",
   "metadata": {},
   "source": [
    "Conventions for fields"
   ]
  },
  {
   "cell_type": "code",
   "execution_count": 48,
   "id": "42a4336e-18a1-45d1-97f7-1414f511ee6d",
   "metadata": {},
   "outputs": [],
   "source": [
    "def display_eqs(lhs, rhs):\n",
    "    display(*(sympy.Eq(lhs_tmp, rhs[idx]) for idx, lhs_tmp in enumerate(lhs)))"
   ]
  },
  {
   "cell_type": "markdown",
   "id": "96aa8d2f-1131-4656-b45d-165ff33945fc",
   "metadata": {
    "tags": []
   },
   "source": [
    "## Inspection and comparison of the equations"
   ]
  },
  {
   "cell_type": "code",
   "execution_count": 4,
   "id": "4b6e9378-3487-4d81-8a98-e1f69c91e6f2",
   "metadata": {},
   "outputs": [
    {
     "data": {
      "text/latex": [
       "$\\displaystyle \\frac{\\partial}{\\partial t} \\widetilde{zm_{s\\phi}}{\\left(s,\\phi,t \\right)} = - U^{0}_{s}{\\left(s,\\phi,z \\right)} \\frac{\\partial}{\\partial s} \\widetilde{zm_{s\\phi}}{\\left(s,\\phi,t \\right)} + \\widetilde{zm_{s\\phi}}{\\left(s,\\phi,t \\right)} \\frac{\\partial}{\\partial z} U^{0}_{z}{\\left(s,\\phi,z \\right)} + \\widetilde{zm_{ss}}{\\left(s,\\phi,t \\right)} \\frac{\\partial}{\\partial s} U^{0}_{\\phi}{\\left(s,\\phi,z \\right)} - \\frac{\\widetilde{zM_{ss}}^0{\\left(s,\\phi \\right)} \\frac{\\partial^{2}}{\\partial s^{2}} \\psi{\\left(s,\\phi,t \\right)}}{H{\\left(s \\right)}} + \\frac{\\widetilde{zM_{ss}}^0{\\left(s,\\phi \\right)} \\frac{d}{d s} H{\\left(s \\right)} \\frac{\\partial}{\\partial s} \\psi{\\left(s,\\phi,t \\right)}}{H^{2}{\\left(s \\right)}} - \\frac{U^{0}_{\\phi}{\\left(s,\\phi,z \\right)} \\widetilde{zm_{ss}}{\\left(s,\\phi,t \\right)}}{s} - \\frac{U^{0}_{\\phi}{\\left(s,\\phi,z \\right)} \\frac{\\partial}{\\partial \\phi} \\widetilde{zm_{s\\phi}}{\\left(s,\\phi,t \\right)}}{s} + \\frac{\\widetilde{zm_{\\phi\\phi}}{\\left(s,\\phi,t \\right)} \\frac{\\partial}{\\partial \\phi} U^{0}_{s}{\\left(s,\\phi,z \\right)}}{s} + \\frac{\\widetilde{zM_{ss}}^0{\\left(s,\\phi \\right)} \\frac{\\partial}{\\partial s} \\psi{\\left(s,\\phi,t \\right)}}{s H{\\left(s \\right)}} - \\frac{\\frac{\\partial}{\\partial \\phi} \\psi{\\left(s,\\phi,t \\right)} \\frac{\\partial}{\\partial s} \\widetilde{zM_{s\\phi}}^0{\\left(s,\\phi \\right)}}{s H{\\left(s \\right)}} + \\frac{\\frac{\\partial}{\\partial s} \\psi{\\left(s,\\phi,t \\right)} \\frac{\\partial}{\\partial \\phi} \\widetilde{zM_{s\\phi}}^0{\\left(s,\\phi \\right)}}{s H{\\left(s \\right)}} + \\frac{\\widetilde{zM_{s\\phi}}^0{\\left(s,\\phi \\right)} \\frac{d}{d s} H{\\left(s \\right)} \\frac{\\partial}{\\partial \\phi} \\psi{\\left(s,\\phi,t \\right)}}{s H^{2}{\\left(s \\right)}} + \\frac{\\widetilde{zM_{\\phi\\phi}}^0{\\left(s,\\phi \\right)} \\frac{\\partial^{2}}{\\partial \\phi^{2}} \\psi{\\left(s,\\phi,t \\right)}}{s^{2} H{\\left(s \\right)}}$"
      ],
      "text/plain": [
       "Eq(Derivative(\\widetilde{zm_{s\\phi}}(s, \\phi, t), t), -U_s^0(s, \\phi, z)*Derivative(\\widetilde{zm_{s\\phi}}(s, \\phi, t), s) + \\widetilde{zm_{s\\phi}}(s, \\phi, t)*Derivative(U_z^0(s, \\phi, z), z) + \\widetilde{zm_{ss}}(s, \\phi, t)*Derivative(U_\\phi^0(s, \\phi, z), s) - \\widetilde{zM_{ss}}^0(s, \\phi)*Derivative(\\psi(s, \\phi, t), (s, 2))/H(s) + \\widetilde{zM_{ss}}^0(s, \\phi)*Derivative(H(s), s)*Derivative(\\psi(s, \\phi, t), s)/H(s)**2 - U_\\phi^0(s, \\phi, z)*\\widetilde{zm_{ss}}(s, \\phi, t)/s - U_\\phi^0(s, \\phi, z)*Derivative(\\widetilde{zm_{s\\phi}}(s, \\phi, t), \\phi)/s + \\widetilde{zm_{\\phi\\phi}}(s, \\phi, t)*Derivative(U_s^0(s, \\phi, z), \\phi)/s + \\widetilde{zM_{ss}}^0(s, \\phi)*Derivative(\\psi(s, \\phi, t), s)/(s*H(s)) - Derivative(\\psi(s, \\phi, t), \\phi)*Derivative(\\widetilde{zM_{s\\phi}}^0(s, \\phi), s)/(s*H(s)) + Derivative(\\psi(s, \\phi, t), s)*Derivative(\\widetilde{zM_{s\\phi}}^0(s, \\phi), \\phi)/(s*H(s)) + \\widetilde{zM_{s\\phi}}^0(s, \\phi)*Derivative(H(s), s)*Derivative(\\psi(s, \\phi, t), \\phi)/(s*H(s)**2) + \\widetilde{zM_{\\phi\\phi}}^0(s, \\phi)*Derivative(\\psi(s, \\phi, t), (\\phi, 2))/(s**2*H(s)))"
      ]
     },
     "execution_count": 4,
     "metadata": {},
     "output_type": "execute_result"
    }
   ],
   "source": [
    "eqs.eqs_pg_lin.zMsp"
   ]
  },
  {
   "cell_type": "markdown",
   "id": "f30846f4-bd6b-43e6-bcb7-32cbc32fc577",
   "metadata": {},
   "source": [
    "- The vorticity equation has been validated against `quad_malkus_reg_diff.nb`, and has passed the test.\n",
    "- Induction terms of $\\overline{m_{ss}}$, $\\overline{m_{\\phi\\phi}}$, $\\overline{m_{s\\phi}}$, $\\widetilde{m_{sz}}$, $\\widetilde{m_{\\phi z}}$, $\\widetilde{zm_{ss}}$, $z\\widetilde{m_{\\phi\\phi}}$, $z\\widetilde{m_{s\\phi}}$, as well as $b_{es}$ and $b_{e\\phi}$ (i.e. the linearized induction term), have been validated against `quad_malkus_reg_diff.nb` and have passed the test."
   ]
  },
  {
   "cell_type": "code",
   "execution_count": 7,
   "id": "34379e1a-c160-4722-986e-26a6a826a473",
   "metadata": {},
   "outputs": [
    {
     "data": {
      "text/latex": [
       "$\\displaystyle \\frac{\\partial}{\\partial t} b^{+}_{s}{\\left(s,\\phi,t \\right)} = - \\frac{z \\frac{\\partial}{\\partial z} B^{0}_{s}{\\left(s,\\phi,z \\right)} \\frac{d}{d s} H{\\left(s \\right)} \\frac{\\partial}{\\partial \\phi} \\psi{\\left(s,\\phi,t \\right)}}{s H^{2}{\\left(s \\right)}} + \\frac{B_s^{0+}{\\left(s,\\phi \\right)} \\frac{\\partial^{2}}{\\partial s\\partial \\phi} \\psi{\\left(s,\\phi,t \\right)}}{s H{\\left(s \\right)}} - \\frac{B_s^{0+}{\\left(s,\\phi \\right)} \\frac{d}{d s} H{\\left(s \\right)} \\frac{\\partial}{\\partial \\phi} \\psi{\\left(s,\\phi,t \\right)}}{s H^{2}{\\left(s \\right)}} + \\frac{\\frac{\\partial}{\\partial \\phi} B^{0}_{s}{\\left(s,\\phi,z \\right)} \\frac{\\partial}{\\partial s} \\psi{\\left(s,\\phi,t \\right)}}{s H{\\left(s \\right)}} - \\frac{\\frac{\\partial}{\\partial s} B^{0}_{s}{\\left(s,\\phi,z \\right)} \\frac{\\partial}{\\partial \\phi} \\psi{\\left(s,\\phi,t \\right)}}{s H{\\left(s \\right)}} + \\frac{B_\\phi^{0+}{\\left(s,\\phi \\right)} \\frac{\\partial^{2}}{\\partial \\phi^{2}} \\psi{\\left(s,\\phi,t \\right)}}{s^{2} H{\\left(s \\right)}} - \\frac{B_s^{0+}{\\left(s,\\phi \\right)} \\frac{\\partial}{\\partial \\phi} \\psi{\\left(s,\\phi,t \\right)}}{s^{2} H{\\left(s \\right)}}$"
      ],
      "text/plain": [
       "Eq(Derivative(b_s^+(s, \\phi, t), t), -z*Derivative(B_s^0(s, \\phi, z), z)*Derivative(H(s), s)*Derivative(\\psi(s, \\phi, t), \\phi)/(s*H(s)**2) + B_s^{0+}(s, \\phi)*Derivative(\\psi(s, \\phi, t), \\phi, s)/(s*H(s)) - B_s^{0+}(s, \\phi)*Derivative(H(s), s)*Derivative(\\psi(s, \\phi, t), \\phi)/(s*H(s)**2) + Derivative(B_s^0(s, \\phi, z), \\phi)*Derivative(\\psi(s, \\phi, t), s)/(s*H(s)) - Derivative(B_s^0(s, \\phi, z), s)*Derivative(\\psi(s, \\phi, t), \\phi)/(s*H(s)) + B_\\phi^{0+}(s, \\phi)*Derivative(\\psi(s, \\phi, t), (\\phi, 2))/(s**2*H(s)) - B_s^{0+}(s, \\phi)*Derivative(\\psi(s, \\phi, t), \\phi)/(s**2*H(s)))"
      ]
     },
     "execution_count": 7,
     "metadata": {},
     "output_type": "execute_result"
    }
   ],
   "source": [
    "eqs.eqs_pg_lin.Bs_p.subs({core.U0_vec.s: 0, core.U0_vec.p: 0, core.U0_vec.z: 0}).doit()"
   ]
  },
  {
   "cell_type": "markdown",
   "id": "2d054c86-20a6-4284-97e3-0a73f9f54487",
   "metadata": {},
   "source": [
    "- Induction terms of $b_s^\\pm$, $b_\\phi^\\pm$, $b_z^\\pm$ has been validated against the expressions in the document [PG_Assim.pdf](./doc/PG_Assim.pdf), which are derived by hand. The validation is successful.\n",
    "- The validation is performed under zero background velocity."
   ]
  },
  {
   "cell_type": "code",
   "execution_count": 5,
   "id": "7e28316d-f5a1-4694-91f1-91a47c5dbe71",
   "metadata": {},
   "outputs": [
    {
     "data": {
      "text/latex": [
       "$\\displaystyle \\frac{2 s B_s^{0+}{\\left(s,\\phi \\right)} b^{+}_{s}{\\left(s,\\phi,t \\right)}}{H{\\left(s \\right)}} + \\frac{2 s B_s^{0-}{\\left(s,\\phi \\right)} b^{-}_{s}{\\left(s,\\phi,t \\right)}}{H{\\left(s \\right)}} + B_s^{0+}{\\left(s,\\phi \\right)} b^{+}_{z}{\\left(s,\\phi,t \\right)} - B_s^{0-}{\\left(s,\\phi \\right)} b^{-}_{z}{\\left(s,\\phi,t \\right)} + B_z^{0+}{\\left(s,\\phi \\right)} b^{+}_{s}{\\left(s,\\phi,t \\right)} - B_z^{0-}{\\left(s,\\phi \\right)} b^{-}_{s}{\\left(s,\\phi,t \\right)} + \\frac{\\partial}{\\partial s} \\overline{m_{ss}}{\\left(s,\\phi,t \\right)} - \\frac{\\overline{m_{\\phi\\phi}}{\\left(s,\\phi,t \\right)}}{s} + \\frac{\\overline{m_{ss}}{\\left(s,\\phi,t \\right)}}{s} + \\frac{\\frac{\\partial}{\\partial \\phi} \\overline{m_{s\\phi}}{\\left(s,\\phi,t \\right)}}{s}$"
      ],
      "text/plain": [
       "2*s*B_s^{0+}(s, \\phi)*b_s^+(s, \\phi, t)/H(s) + 2*s*B_s^{0-}(s, \\phi)*b_s^-(s, \\phi, t)/H(s) + B_s^{0+}(s, \\phi)*b_z^+(s, \\phi, t) - B_s^{0-}(s, \\phi)*b_z^-(s, \\phi, t) + B_z^{0+}(s, \\phi)*b_s^+(s, \\phi, t) - B_z^{0-}(s, \\phi)*b_s^-(s, \\phi, t) + Derivative(\\overline{m_{ss}}(s, \\phi, t), s) - \\overline{m_{\\phi\\phi}}(s, \\phi, t)/s + \\overline{m_{ss}}(s, \\phi, t)/s + Derivative(\\overline{m_{s\\phi}}(s, \\phi, t), \\phi)/s"
      ]
     },
     "execution_count": 5,
     "metadata": {},
     "output_type": "execute_result"
    }
   ],
   "source": [
    "pg_forcing.Ls_sym_lin"
   ]
  },
  {
   "cell_type": "markdown",
   "id": "911f167c-13d3-44e9-b430-7a8ad450cf60",
   "metadata": {},
   "source": [
    "Linearized expressions for Lorentz force are validated against `quad_malkus_reg_diff.nb`.\n",
    "- $\\overline{L_\\phi}$, $\\widetilde{L_z}$ and $L_\\phi(z=0)$ passed the validation;\n",
    "- The $s$-component of the equatorial Lorentz force in `quad_malkus_reg_diff` has a $\\frac{s^2}{H}$ coefficient, while the current derivation (and others) indicate this coefficient should be $\\frac{s}{H}$"
   ]
  }
 ],
 "metadata": {
  "kernelspec": {
   "display_name": "Python3 (geomag)",
   "language": "python",
   "name": "geomag"
  },
  "language_info": {
   "codemirror_mode": {
    "name": "ipython",
    "version": 3
   },
   "file_extension": ".py",
   "mimetype": "text/x-python",
   "name": "python",
   "nbconvert_exporter": "python",
   "pygments_lexer": "ipython3",
   "version": "3.8.13"
  }
 },
 "nbformat": 4,
 "nbformat_minor": 5
}
