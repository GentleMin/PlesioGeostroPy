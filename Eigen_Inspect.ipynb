{
 "cells": [
  {
   "cell_type": "markdown",
   "id": "d5b61716-e79f-4c56-a273-95ac71416505",
   "metadata": {},
   "source": [
    "# Inspecting the eigensolver steps"
   ]
  },
  {
   "cell_type": "code",
   "execution_count": 1,
   "id": "bfb400fc-5288-4518-bd0a-96dceec04f86",
   "metadata": {},
   "outputs": [],
   "source": [
    "%load_ext autoreload\n",
    "%autoreload 2\n",
    "\n",
    "import sympy as sp\n",
    "import numpy as np\n",
    "import matplotlib.pyplot as plt\n",
    "import os, json\n",
    "from pg_utils.pg_model import base, base_utils, core, expansion, forcing\n",
    "from pg_utils.sympy_supp import simplify as simp_supp\n",
    "from pg_utils import eigen\n",
    "from IPython.display import display, Math, Markdown\n",
    "\n",
    "def display_equality(lhs, rhs, _filter=lambda lhs, rhs, idx: True):\n",
    "    display(*(sp.Eq(lhs_tmp, rhs[idx]) for idx, lhs_tmp in enumerate(lhs) if _filter(lhs_tmp, rhs[idx], idx)))\n",
    "\n",
    "def display_eq_collection(eqs, _filter=lambda eq, idx: True):\n",
    "    display(*(eq for idx, eq in enumerate(eqs) if _filter(eq, idx)))"
   ]
  },
  {
   "cell_type": "markdown",
   "id": "531d6e6b-791c-41e8-8fba-a02d62315b32",
   "metadata": {},
   "source": [
    "---\n",
    "## Background field"
   ]
  },
  {
   "cell_type": "code",
   "execution_count": null,
   "id": "6992e308-aae2-45be-bfab-f4952c52c11e",
   "metadata": {},
   "outputs": [],
   "source": [
    "from pg_utils.pg_model import bg_fields\n",
    "\n",
    "bg_cfg = bg_fields.Background_S_l2_n2()\n",
    "\n",
    "display_equality(core.U0_vec, bg_cfg.U0_val)\n",
    "display_equality(core.B0_vec, bg_cfg.B0_val)"
   ]
  },
  {
   "cell_type": "code",
   "execution_count": null,
   "id": "e3484104-d897-43cd-a987-3ff9aeab85b1",
   "metadata": {},
   "outputs": [],
   "source": [
    "bg_pg = base_utils.assemble_background(bg_cfg.B0_val)\n",
    "# bg_pg.apply(lambda expr: expr.subs({core.H_s: core.H, core.H_s**2: core.H**2}).simplify(), inplace=True)\n",
    "bg_pg.apply(lambda expr: expr.subs({core.H: core.H_s}).simplify(), inplace=True)\n",
    "display_equality(core.pgvar_bg, bg_pg)"
   ]
  },
  {
   "cell_type": "code",
   "execution_count": null,
   "id": "ab2160db-336f-4e4c-9139-82a6a4fd422d",
   "metadata": {},
   "outputs": [],
   "source": [
    "bg_placeholders = base.map_collection(core.pgvar_bg, base_utils.extract_symbols(core.pgvar_bg))\n",
    "placeholder_h = {core.H: sp.Symbol(\"H\")}\n",
    "for fname in bg_pg._field_names:\n",
    "    if fname == \"Br_b\":\n",
    "        continue\n",
    "    o_str = sp.latex(sp.Eq(core.pgvar_bg[fname].subs(bg_placeholders), bg_pg[fname].subs(placeholder_h)))\n",
    "    print(o_str)"
   ]
  },
  {
   "cell_type": "markdown",
   "id": "47043669-2bbc-46b3-af99-5a83e5f8f4d6",
   "metadata": {},
   "source": [
    "---\n",
    "## Equations"
   ]
  },
  {
   "cell_type": "code",
   "execution_count": null,
   "id": "64a3fa6b-7c13-420a-b618-97d044b9fb17",
   "metadata": {},
   "outputs": [],
   "source": [
    "placeholders_map = {\n",
    "    **base.map_collection(core.pgvar_ptb, base_utils.extract_symbols(core.pgvar_ptb)),\n",
    "    **base.map_collection(core.pgvar_bg, base_utils.extract_symbols(core.pgvar_bg))\n",
    "}\n",
    "placeholder_h = {core.H: sp.Symbol(\"H\")}\n",
    "for fname in eqs_pg_lin._field_names:\n",
    "    if fname == \"Br_b\":\n",
    "        continue\n",
    "    o_str = sp.latex(eqs_pg_lin[fname].subs(placeholder_h))\n",
    "    for var_old, var_new in placeholders_map.items():\n",
    "        o_str = o_str.replace(sp.latex(var_old), sp.latex(var_new))\n",
    "    # print(o_str)\n",
    "    display(Math(o_str))"
   ]
  },
  {
   "cell_type": "markdown",
   "id": "151feddc-8943-4788-94fb-ba0e64b59d8a",
   "metadata": {},
   "source": [
    "### PG system"
   ]
  },
  {
   "cell_type": "code",
   "execution_count": 10,
   "id": "1a80b5d7-2120-4054-8920-1724053bb89a",
   "metadata": {},
   "outputs": [],
   "source": [
    "# eqs_file = \"./out/eigen/Toroidal_Quadrupole/eqs_pg.json\"\n",
    "# eqs_file = \"./out/eigen/Poloidal_Dipole/eqs_pg.json\"\n",
    "eqs_file = './out/eigen/S_L2_N2/eqs_pg_ideal.json'\n",
    "with open(eqs_file, 'r') as fread:\n",
    "    eqs_pg = base.CollectionPG.deserialize(json.load(fread)[\"equations\"], parser=sp.parse_expr)"
   ]
  },
  {
   "cell_type": "markdown",
   "id": "4dea1f6c-8be1-441c-8d61-d6b157f8f41f",
   "metadata": {},
   "source": [
    "Convert to ODE in cylindrical radius $s$ (equiv. convert to frequency-wavenumber domain)"
   ]
  },
  {
   "cell_type": "code",
   "execution_count": 11,
   "id": "e3d50c69-1b30-428d-8c33-e6604fe0d8a2",
   "metadata": {},
   "outputs": [],
   "source": [
    "ode_s_fd = eigen.to_fd_ode_pg(eqs_pg, core.pgvar_ptb)"
   ]
  },
  {
   "cell_type": "markdown",
   "id": "5299fc00-5e2c-4939-846f-c6ff427c0752",
   "metadata": {},
   "source": [
    "Some further manipulations before output"
   ]
  },
  {
   "cell_type": "code",
   "execution_count": null,
   "id": "e32b04ef-56bf-4c03-9021-4265048d95da",
   "metadata": {},
   "outputs": [],
   "source": [
    "from pg_utils.sympy_supp import simplify\n",
    "from pg_utils.numerics import utils as nutils\n",
    "\n",
    "# bg_subs = {bg_cfg.params[0]: sp.sqrt(sp.pi/3)*bg_cfg.params[0]}\n",
    "bg_subs = {bg_cfg.params[0]: 2*sp.sqrt(sp.pi/5)/3}\n",
    "\n",
    "def common_denom_simplify(expr):\n",
    "    expr = expr.together()\n",
    "    num, denom = sp.fraction(expr)\n",
    "    # num = num.subs({core.H: core.H_s}).simplify().factor().subs({core.H_s: core.H, core.H_s**2: core.H**2})\n",
    "    # num = num.subs([(sp.diff(core.H, (core.s, 2)), -/core.H**3), (sp.diff(core.H, core.s), -core.s/core.H)])\n",
    "    # num = num.subs({core.H: core.H_s}).doit().factor().subs({core.H_s: core.H, core.H_s**2: core.H**2})\n",
    "    num = num.subs({core.H: core.H_s}).simplify().factor()\n",
    "    out = num/denom\n",
    "    num, denom = sp.fraction(out)\n",
    "    num = num.simplify().subs({core.H_s: core.H, core.H_s**2: core.H**2})\n",
    "    denom = denom.simplify().subs({core.H_s: core.H, core.H_s**2: core.H**2})\n",
    "    return num/denom\n",
    "\n",
    "# eq_grouped = simplify.recursive_collect_tree(eq_rad_std.lhs, (expansion.pgvar_s.Psi, expansion.omega))\n",
    "# simplify.process_leaf_node(eq_grouped, common_denom_simplify)\n",
    "# eq_grouped = sp.Eq(simplify.recursive_eval_tree(eq_grouped), eq_rad_std.rhs)\n",
    "\n",
    "proc_timer = nutils.ProcTimer(start=True)\n",
    "\n",
    "# factor = 1/sp.I/expansion.omega\n",
    "factor = 1\n",
    "\n",
    "def factoring(fname, eq):\n",
    "    \n",
    "    if fname == \"Psi\":\n",
    "        # pass\n",
    "        expr_grouped = (eq.rhs.subs(bg_subs)*factor).expand().collect([var for var in expansion.pgvar_s if var is not None], evaluate=False)\n",
    "        for term in expr_grouped:\n",
    "            expr_grouped[term] = common_denom_simplify(expr_grouped[term])\n",
    "        proc_timer.flag(loginfo=fname, print_str=True, increment=True)\n",
    "        return sp.Eq((eq.lhs*factor).expand(), sp.Add(*[term*coeff for term, coeff in expr_grouped.items()]))\n",
    "    \n",
    "    elif fname == \"Br_b\":\n",
    "        proc_timer.flag(loginfo=fname, print_str=True, increment=True)\n",
    "        return None\n",
    "    \n",
    "    else:\n",
    "        expr_grouped = (eq.rhs.subs(bg_subs)*factor).expand().collect([expansion.pgvar_s.Psi,], evaluate=False)\n",
    "        for term in expr_grouped:\n",
    "            expr_grouped[term] = common_denom_simplify(expr_grouped[term])\n",
    "        proc_timer.flag(loginfo=fname, print_str=True, increment=True)\n",
    "        return sp.Eq(\n",
    "            (eq.lhs*factor).expand(), \n",
    "            # (eq.rhs*factor).expand().collect(expansion.pgvar_s.Psi)\n",
    "            factor*sp.Add(*[term*coeff for term, coeff in expr_grouped.items()])\n",
    "        )\n",
    "\n",
    "ode_s_fd.apply(factoring, inplace=True, metadata=True)\n",
    "proc_timer.print_elapse(increment=False)\n",
    "display_eq_collection(ode_s_fd)"
   ]
  },
  {
   "cell_type": "code",
   "execution_count": null,
   "id": "4802ee28-0688-4a48-9844-ea29b4c03fdc",
   "metadata": {},
   "outputs": [],
   "source": [
    "placeholders_map = base.map_collection(expansion.pgvar_s, base_utils.extract_symbols(core.pgvar_ptb))\n",
    "placeholder_h = {core.H: sp.Symbol(\"H\")}\n",
    "for fname in ode_s_fd._field_names:\n",
    "    if fname == \"Br_b\":\n",
    "        continue\n",
    "    o_str = sp.latex(ode_s_fd[fname].subs(placeholder_h))\n",
    "    for var_old, var_new in placeholders_map.items():\n",
    "        o_str = o_str.replace(sp.latex(var_old), sp.latex(var_new))\n",
    "    # print(o_str)\n",
    "    display(Math(o_str))"
   ]
  },
  {
   "cell_type": "markdown",
   "id": "92d0de5d-cf50-48a4-88e9-bb40d54be910",
   "metadata": {},
   "source": [
    "Convert directly to reduced form in Fourier domain"
   ]
  },
  {
   "cell_type": "code",
   "execution_count": null,
   "id": "2576b3d1-d23d-4916-b054-5a6652ec8219",
   "metadata": {},
   "outputs": [],
   "source": [
    "# reduce_map = {expansion.pgvar_s[fname]: ode_s_fd[fname].rhs if fname not in (\"Bp_p\", \"Bp_m\") else sp.S.Zero for fname in ode_s_fd._field_names if fname not in (\"Psi\", \"Br_b\")}\n",
    "reduce_map = {expansion.pgvar_s[fname]: ode_s_fd[fname].rhs/sp.I/expansion.omega for fname in ode_s_fd._field_names if fname not in (\"Psi\", \"Br_b\")}\n",
    "# ode_psi = sp.Eq((ode_s_fd.Psi.lhs - ode_s_fd.Psi.rhs.subs(reduce_map)).subs({core.H: core.H_s}).doit().subs({core.H_s: core.H, core.H_s**2: core.H**2}).expand(), sp.S.Zero)\n",
    "ode_psi = sp.Eq((ode_s_fd.Psi.lhs - ode_s_fd.Psi.rhs.subs(reduce_map)).doit().subs({core.H_s: core.H, core.H_s**2: core.H**2}).expand(), sp.S.Zero)\n",
    "(ode_psi.lhs*sp.I*expansion.omega).expand()"
   ]
  },
  {
   "cell_type": "code",
   "execution_count": null,
   "id": "6f812288-84f0-4233-94de-abd875d5b5da",
   "metadata": {},
   "outputs": [],
   "source": [
    "def common_denom_simplify(expr):\n",
    "    expr = expr.together()\n",
    "    num, denom = sp.fraction(expr)\n",
    "    num = num.subs({core.H: core.H_s}).simplify().factor().subs({core.H_s: core.H, core.H_s**2: core.H**2}).collect(expansion.m)\n",
    "    return num/denom.factor()\n",
    "\n",
    "eq_grouped = simplify.recursive_collect_tree((ode_psi.lhs*expansion.omega).expand(), (expansion.pgvar_s.Psi, expansion.omega, expansion.m))\n",
    "simplify.process_leaf_node(eq_grouped, common_denom_simplify)\n",
    "eq_grouped = sp.Eq(simplify.recursive_eval_tree(eq_grouped), ode_psi.rhs)\n",
    "eq_grouped"
   ]
  },
  {
   "cell_type": "code",
   "execution_count": null,
   "id": "e6e4baa5-d71e-420d-b244-69ec7b121877",
   "metadata": {},
   "outputs": [],
   "source": [
    "denom_poles = sp.fraction(leading_cf)[0]/(sp.I*bg_cfg.params[0]**2)"
   ]
  },
  {
   "cell_type": "code",
   "execution_count": null,
   "id": "47592ff8-dbc9-461b-87c0-58a7f60119a2",
   "metadata": {},
   "outputs": [],
   "source": [
    "denom_func = sp.lambdify([core.s,], denom_poles, modules=['numpy', 'scipy'])"
   ]
  },
  {
   "cell_type": "code",
   "execution_count": null,
   "id": "f787b929-2049-43f9-86dc-96448209d564",
   "metadata": {},
   "outputs": [],
   "source": [
    "s = np.linspace(0, 1, num=100)\n",
    "fig, ax = plt.subplots(figsize=(9, 6))\n",
    "ax.plot(s, denom_func(s))\n",
    "ax.grid(which='both')\n",
    "plt.show()"
   ]
  },
  {
   "cell_type": "code",
   "execution_count": null,
   "id": "81b99d9e-9e95-46c9-9a55-5d858933d905",
   "metadata": {},
   "outputs": [],
   "source": [
    "ord_max = 4\n",
    "leading_cf = ode_psi.lhs.coeff(sp.diff(expansion.pgvar_s.Psi, (core.s, ord_max))).together().subs({core.H_s: core.H, core.H_s**2: core.H**2})\n",
    "ode_psi = sp.Eq((ode_psi.lhs/leading_cf).expand(), ode_psi.rhs/leading_cf)\n",
    "sp.Eq(ode_psi.lhs.collect(expansion.pgvar_s.Psi), ode_psi.rhs)\n",
    "\n",
    "from pg_utils.sympy_supp import simplify\n",
    "\n",
    "def common_denom_simplify(expr):\n",
    "    expr = expr.together()\n",
    "    num, denom = sp.fraction(expr)\n",
    "    num = num.subs({core.H: core.H_s}).simplify().factor().subs({core.H_s: core.H, core.H_s**2: core.H**2}).collect(expansion.m)\n",
    "    return num/denom.factor()\n",
    "\n",
    "eq_grouped = simplify.recursive_collect_tree(ode_psi.lhs, (expansion.pgvar_s.Psi, expansion.omega))\n",
    "simplify.process_leaf_node(eq_grouped, common_denom_simplify)\n",
    "eq_grouped = sp.Eq(simplify.recursive_eval_tree(eq_grouped), ode_psi.rhs)\n",
    "eq_grouped"
   ]
  },
  {
   "cell_type": "code",
   "execution_count": null,
   "id": "c40aaee3-631d-4231-b002-acfdea9ae68f",
   "metadata": {},
   "outputs": [],
   "source": [
    "o_str = sp.latex(eq_grouped.subs(placeholder_h))\n",
    "for var_old, var_new in placeholders_map.items():\n",
    "    o_str = o_str.replace(sp.latex(var_old), sp.latex(var_new))\n",
    "print(o_str)"
   ]
  },
  {
   "cell_type": "markdown",
   "id": "ddb736da-41c7-465f-86ed-a41b5e048dc1",
   "metadata": {},
   "source": [
    "### Transformed variables"
   ]
  },
  {
   "cell_type": "code",
   "execution_count": null,
   "id": "550714b1-2317-4d7f-9259-983462da15a6",
   "metadata": {},
   "outputs": [],
   "source": [
    "eqs_file = \"./out/eigen/Poloidal_Dipole/eqs_cg.json\"\n",
    "with open(eqs_file, 'r') as fread:\n",
    "    eqs_cg = base.CollectionConjugate.deserialize(json.load(fread)[\"equations\"], parser=sp.parse_expr)\n",
    "display_eq_collection(eqs_cg)\n",
    "# eqs_cg.Psi"
   ]
  },
  {
   "cell_type": "code",
   "execution_count": null,
   "id": "998d4891-be75-41f3-9d44-51cf592874c4",
   "metadata": {},
   "outputs": [],
   "source": [
    "ode_s_fd_cg = eigen.to_fd_ode_cg(eqs_cg, core.cgvar_ptb)"
   ]
  },
  {
   "cell_type": "markdown",
   "id": "af389c97-1ae7-4576-90a9-787b6ead5aca",
   "metadata": {},
   "source": [
    "Some further manipulations before output"
   ]
  },
  {
   "cell_type": "code",
   "execution_count": null,
   "id": "298404a7-5171-4e0d-a4f7-62c7c477800e",
   "metadata": {},
   "outputs": [],
   "source": [
    "from pg_utils.sympy_supp import simplify\n",
    "\n",
    "def common_denom_simplify(expr):\n",
    "    expr = expr.together()\n",
    "    num, denom = sp.fraction(expr)\n",
    "    num = num.subs({core.H: core.H_s}).simplify().factor().subs({core.H_s: core.H, core.H_s**2: core.H**2})\n",
    "    return num/denom\n",
    "\n",
    "# eq_grouped = simplify.recursive_collect_tree(eq_rad_std.lhs, (expansion.pgvar_s.Psi, expansion.omega))\n",
    "# simplify.process_leaf_node(eq_grouped, common_denom_simplify)\n",
    "# eq_grouped = sp.Eq(simplify.recursive_eval_tree(eq_grouped), eq_rad_std.rhs)\n",
    "\n",
    "# factor = 1/sp.I/expansion.omega\n",
    "factor = 1\n",
    "def factoring(fname, eq):\n",
    "    if fname != \"Psi\":\n",
    "        expr_grouped = (eq.rhs*factor).expand().collect([expansion.cgvar_s.Psi,], evaluate=False)\n",
    "        for term in expr_grouped:\n",
    "            expr_grouped[term] = common_denom_simplify(expr_grouped[term])\n",
    "        return sp.Eq(\n",
    "            (eq.lhs*factor).expand(), \n",
    "            # (eq.rhs*factor).expand().collect(expansion.pgvar_s.Psi)\n",
    "            factor*sp.Add(*[term*coeff for term, coeff in expr_grouped.items()])\n",
    "        )\n",
    "    else:\n",
    "        expr_grouped = (eq.rhs*factor).expand().collect([var for var in expansion.cgvar_s if var is not None], evaluate=False)\n",
    "        for term in expr_grouped:\n",
    "            expr_grouped[term] = common_denom_simplify(expr_grouped[term])\n",
    "        return sp.Eq((eq.lhs*factor).expand(), sp.Add(*[term*coeff for term, coeff in expr_grouped.items()]))\n",
    "\n",
    "ode_s_fd_cg.apply(factoring, inplace=True, metadata=True)\n",
    "display_eq_collection(ode_s_fd_cg)"
   ]
  },
  {
   "cell_type": "code",
   "execution_count": null,
   "id": "e420fef4-9e9b-4344-8073-ce4fc7f0efc8",
   "metadata": {},
   "outputs": [],
   "source": [
    "forcing = ode_s_fd_cg.M_zp.rhs.subs(\n",
    "    {expansion.cgvar_s.Psi: core.s**expansion.m*core.H**3*sp.jacobi(expansion.n, sp.Rational(3, 2), expansion.m, 2*core.s**2 - 1)})"
   ]
  },
  {
   "cell_type": "code",
   "execution_count": null,
   "id": "a90e6f75-bf57-43d3-a394-9762eca7dcbd",
   "metadata": {},
   "outputs": [],
   "source": [
    "forcing = forcing.doit().subs({sp.diff(core.H, core.s): -core.s/core.H}).doit().subs({sp.diff(core.H, core.s): -core.s/core.H})"
   ]
  },
  {
   "cell_type": "code",
   "execution_count": null,
   "id": "66ddff30-d548-4793-945b-1e73e772ba58",
   "metadata": {},
   "outputs": [],
   "source": [
    "forcing.expand()"
   ]
  },
  {
   "cell_type": "code",
   "execution_count": null,
   "id": "a6cf51a7-38a4-43c2-b6be-5fe58b0f6891",
   "metadata": {},
   "outputs": [],
   "source": [
    "forcing.expand().collect(core.H)"
   ]
  },
  {
   "cell_type": "code",
   "execution_count": null,
   "id": "4ae30b5b-6d27-4a4e-b5db-08c2e6389a56",
   "metadata": {},
   "outputs": [],
   "source": [
    "placeholders_map = base.map_collection(expansion.cgvar_s, base_utils.extract_symbols(core.cgvar_ptb))\n",
    "placeholder_h = {core.H: sp.Symbol(\"H\")}\n",
    "for fname in ode_s_fd_cg._field_names:\n",
    "    if fname == \"Br_b\":\n",
    "        continue\n",
    "    o_str = sp.latex(ode_s_fd_cg[fname].subs(placeholder_h))\n",
    "    for var_old, var_new in placeholders_map.items():\n",
    "        o_str = o_str.replace(sp.latex(var_old), sp.latex(var_new))\n",
    "    # print(o_str)\n",
    "    display(Math(o_str))"
   ]
  },
  {
   "cell_type": "code",
   "execution_count": null,
   "id": "102c6329-acc7-4b3c-ad47-96be23a0fbd5",
   "metadata": {},
   "outputs": [],
   "source": [
    "map_cg_pg = core.map_conjugate_to_pg(core.cgvar_ptb, core.pgvar_ptb)"
   ]
  },
  {
   "cell_type": "code",
   "execution_count": null,
   "id": "e55d81c6-9f42-4821-ba2a-a7fcdd8737b1",
   "metadata": {},
   "outputs": [],
   "source": [
    "eqs_pg_from_cg = eqs_cg.apply(lambda eq: eq.subs(map_cg_pg))\n",
    "eqs_pg_from_cg = core.conjugate_to_PG(eqs_pg_from_cg).apply(lambda eq: eq.doit().expand())"
   ]
  },
  {
   "cell_type": "code",
   "execution_count": null,
   "id": "59fa1a60-9050-405b-b5f4-e3669d2a07b5",
   "metadata": {},
   "outputs": [],
   "source": [
    "display_eq_collection(eqs_pg_from_cg)"
   ]
  },
  {
   "cell_type": "code",
   "execution_count": null,
   "id": "bf7c6437-05b6-403a-add8-76d4b716d2ec",
   "metadata": {},
   "outputs": [],
   "source": [
    "ode_s_fd_from_cg = eigen.to_fd_ode_pg(eqs_pg_from_cg, core.pgvar_ptb)"
   ]
  },
  {
   "cell_type": "markdown",
   "id": "50f5883e-b1ad-482a-b0ed-4e8f10078846",
   "metadata": {},
   "source": [
    "Some further manipulations before output"
   ]
  },
  {
   "cell_type": "code",
   "execution_count": null,
   "id": "a61f12be-0745-4d49-a160-50b129122122",
   "metadata": {},
   "outputs": [],
   "source": [
    "from pg_utils.sympy_supp import simplify\n",
    "\n",
    "def common_denom_simplify(expr):\n",
    "    expr = expr.together()\n",
    "    num, denom = sp.fraction(expr)\n",
    "    num = num.subs({core.H: core.H_s}).simplify().factor().subs({core.H_s: core.H, core.H_s**2: core.H**2})\n",
    "    return num/denom\n",
    "\n",
    "# eq_grouped = simplify.recursive_collect_tree(eq_rad_std.lhs, (expansion.pgvar_s.Psi, expansion.omega))\n",
    "# simplify.process_leaf_node(eq_grouped, common_denom_simplify)\n",
    "# eq_grouped = sp.Eq(simplify.recursive_eval_tree(eq_grouped), eq_rad_std.rhs)\n",
    "\n",
    "# factor = 1/sp.I/expansion.omega\n",
    "factor = 1\n",
    "def factoring(fname, eq):\n",
    "    if fname != \"Psi\":\n",
    "        expr_grouped = (eq.rhs*factor).expand().collect([expansion.pgvar_s.Psi,], evaluate=False)\n",
    "        for term in expr_grouped:\n",
    "            expr_grouped[term] = common_denom_simplify(expr_grouped[term])\n",
    "        return sp.Eq(\n",
    "            (eq.lhs*factor).expand(), \n",
    "            # (eq.rhs*factor).expand().collect(expansion.pgvar_s.Psi)\n",
    "            factor*sp.Add(*[term*coeff for term, coeff in expr_grouped.items()])\n",
    "        )\n",
    "    else:\n",
    "        expr_grouped = (eq.rhs*factor).expand().collect([var for var in expansion.pgvar_s if var is not None], evaluate=False)\n",
    "        for term in expr_grouped:\n",
    "            expr_grouped[term] = common_denom_simplify(expr_grouped[term])\n",
    "        return sp.Eq((eq.lhs*factor).expand(), sp.Add(*[term*coeff for term, coeff in expr_grouped.items()]))\n",
    "\n",
    "ode_s_fd_from_cg.apply(factoring, inplace=True, metadata=True)\n",
    "# display_eq_collection(ode_s_fd)"
   ]
  },
  {
   "cell_type": "code",
   "execution_count": null,
   "id": "04546b3d-4872-4c35-9753-2a03c0bad88d",
   "metadata": {},
   "outputs": [],
   "source": [
    "placeholders_map = base.map_collection(expansion.pgvar_s, base_utils.extract_symbols(core.pgvar_ptb))\n",
    "placeholder_h = {core.H: sp.Symbol(\"H\")}\n",
    "for fname in ode_s_fd._field_names:\n",
    "    if fname == \"Br_b\":\n",
    "        continue\n",
    "    o_str = sp.latex(ode_s_fd_from_cg[fname].subs(placeholder_h))\n",
    "    for var_old, var_new in placeholders_map.items():\n",
    "        o_str = o_str.replace(sp.latex(var_old), sp.latex(var_new))\n",
    "    # print(o_str)\n",
    "    display(Math(o_str))"
   ]
  },
  {
   "cell_type": "markdown",
   "id": "0789ec68-5681-4e16-ae5c-e9a42edc4f4a",
   "metadata": {},
   "source": [
    "Is the equation equivalent to the one by PG?"
   ]
  },
  {
   "cell_type": "code",
   "execution_count": null,
   "id": "5504bb80-f69d-4ad8-ae21-749bccb0e582",
   "metadata": {},
   "outputs": [],
   "source": [
    "for fname in ode_s_fd._field_names:\n",
    "    if ode_s_fd_from_cg[fname].rhs.subs({core.H: core.H_s}).equals(ode_s_fd[fname].rhs.subs({core.H: core.H_s})) \\\n",
    "        and ode_s_fd_from_cg[fname].lhs.equals(ode_s_fd[fname].lhs):\n",
    "        display(Markdown(\"${}$: Equivalent\".format(core.pgvar_ptb[fname])))\n",
    "    else:\n",
    "        display(Markdown(\"${}$: NOT equivalent!, difference = ${}$\".format(\n",
    "            core.pgvar_ptb[fname], \n",
    "            sp.latex(ode_s_fd_from_cg[fname].rhs.subs({core.H: core.H_s}) - ode_s_fd[fname].rhs.subs({core.H: core.H_s}))\n",
    "        )))"
   ]
  },
  {
   "cell_type": "markdown",
   "id": "6b32ca30-f242-4f31-aabe-19df11a04905",
   "metadata": {},
   "source": [
    "### Reduced dimensional system"
   ]
  },
  {
   "cell_type": "code",
   "execution_count": null,
   "id": "52ddbc6b-34fd-43ea-b72e-f99c1d09568c",
   "metadata": {},
   "outputs": [],
   "source": [
    "str(sp.Rational(1, 2))"
   ]
  },
  {
   "cell_type": "code",
   "execution_count": null,
   "id": "28e9cb0c-ab41-4371-9262-c3928cf3d12b",
   "metadata": {},
   "outputs": [],
   "source": [
    "eqs_file = \"./out/eigen/Toroidal_Quadrupole/eqs_reduced_v0.json\"\n",
    "with open(eqs_file, 'r') as fread:\n",
    "    eqs_reduced = base.LabeledCollection.deserialize(json.load(fread)[\"equations\"], parser=sp.parse_expr)\n",
    "\n",
    "display_eq_collection(eqs_reduced)"
   ]
  },
  {
   "cell_type": "code",
   "execution_count": null,
   "id": "6de733a0-f04a-4705-ba35-36621e76ec27",
   "metadata": {},
   "outputs": [],
   "source": [
    "eqs_file = \"./out/eigen/Toroidal_Quadrupole/eqs_reduced.json\"\n",
    "with open(eqs_file, 'r') as fread:\n",
    "    eqs_reduced = base.LabeledCollection.deserialize(json.load(fread)[\"equations\"], parser=sp.parse_expr)\n",
    "\n",
    "display_eq_collection(eqs_reduced)"
   ]
  },
  {
   "cell_type": "code",
   "execution_count": null,
   "id": "1b4884dd-7e97-4e31-8b25-a875983f5f82",
   "metadata": {},
   "outputs": [],
   "source": [
    "eqs_2ord = sp.Eq(sp.diff(eqs_reduced.Psi.lhs, core.t), sp.diff(eqs_reduced.Psi.rhs, core.t).subs({eqs_reduced.F_ext.lhs: eqs_reduced.F_ext.rhs}))\n",
    "eq_rad = eigen.to_fd_ode_psi(eqs_2ord)\n",
    "eq_rad = sp.Eq(eq_rad.lhs - eq_rad.rhs, sp.S.Zero)"
   ]
  },
  {
   "cell_type": "code",
   "execution_count": null,
   "id": "c069b709-8ec9-470a-82f2-0806bc0ee3d5",
   "metadata": {},
   "outputs": [],
   "source": [
    "def common_denom_simplify(expr):\n",
    "    expr = expr.together()\n",
    "    num, denom = sp.fraction(expr)\n",
    "    num = num.subs({core.H: core.H_s}).simplify().factor().subs({core.H_s: core.H, core.H_s**2: core.H**2}).collect(expansion.m)\n",
    "    return num/denom.factor()\n",
    "\n",
    "eq_grouped = simplify.recursive_collect_tree(eq_rad.lhs, (expansion.pgvar_s.Psi, expansion.omega, expansion.m))\n",
    "simplify.process_leaf_node(eq_grouped, common_denom_simplify)\n",
    "eq_grouped = sp.Eq(simplify.recursive_eval_tree(eq_grouped), eq_rad.rhs)\n",
    "eq_grouped"
   ]
  },
  {
   "cell_type": "code",
   "execution_count": null,
   "id": "8fee5fa1-532f-4b01-a33f-032642975f00",
   "metadata": {},
   "outputs": [],
   "source": [
    "eqs_2ord = sp.Eq(sp.diff(eqs_reduced.Psi.lhs, core.t), sp.diff(eqs_reduced.Psi.rhs, core.t).subs({eqs_reduced.F_ext.lhs: eqs_reduced.F_ext.rhs}))\n",
    "eq_rad = eigen.to_fd_ode_psi(eqs_2ord)\n",
    "eq_rad = sp.Eq(eq_rad.lhs - eq_rad.rhs, sp.S.Zero)"
   ]
  },
  {
   "cell_type": "code",
   "execution_count": null,
   "id": "2c0fbb86-28f7-400d-bf49-89f056606ca5",
   "metadata": {},
   "outputs": [],
   "source": [
    "def common_denom_simplify(expr):\n",
    "    expr = expr.together()\n",
    "    num, denom = sp.fraction(expr)\n",
    "    num = num.subs({core.H: core.H_s}).simplify().factor().subs({core.H_s: core.H, core.H_s**2: core.H**2}).collect(expansion.m)\n",
    "    return num/denom.factor()\n",
    "\n",
    "eq_grouped = simplify.recursive_collect_tree(eq_rad.lhs, (expansion.pgvar_s.Psi, expansion.omega, expansion.m))\n",
    "simplify.process_leaf_node(eq_grouped, common_denom_simplify)\n",
    "eq_grouped = sp.Eq(simplify.recursive_eval_tree(eq_grouped), eq_rad.rhs)\n",
    "eq_grouped"
   ]
  },
  {
   "cell_type": "code",
   "execution_count": null,
   "id": "227c190e-68a5-40cc-9947-acbb33c514d8",
   "metadata": {},
   "outputs": [],
   "source": [
    "eqs_2ord = sp.Eq(\n",
    "    sp.diff(eqs_reduced.Psi.lhs, core.t),\n",
    "    sp.diff(eqs_reduced.Psi.rhs, core.t).subs({eqs_reduced.F_ext.lhs: eqs_reduced.F_ext.rhs}).doit().expand()\n",
    ")\n",
    "eq_rad = eigen.to_fd_ode_psi(eqs_2ord)\n",
    "eq_rad = sp.Eq(eq_rad.lhs - eq_rad.rhs, sp.S.Zero)"
   ]
  },
  {
   "cell_type": "markdown",
   "id": "48625ef9-75e0-4d61-823a-3130bb50e41f",
   "metadata": {},
   "source": [
    "### Second-order form"
   ]
  },
  {
   "cell_type": "code",
   "execution_count": null,
   "id": "53784228-9f38-499c-9843-cbc17c46edf8",
   "metadata": {},
   "outputs": [],
   "source": [
    "eqs_file = \"./out/eigen/Poloidal_Dipole/eqs_pg.json\"\n",
    "with open(eqs_file, 'r') as fread:\n",
    "    eqs_pg = base.CollectionPG.deserialize(json.load(fread)[\"equations\"], parser=sp.parse_expr)\n",
    "eqs_pg_select = eqs_pg.copy()\n",
    "# for i_eq in range(14, 21):\n",
    "#     eqs_pg_select[i_eq] = sp.Eq(eqs_pg_select[i_eq].lhs, sp.S.Zero)\n",
    "eqs_pg_select[16] = sp.Eq(eqs_pg_select[16].lhs, sp.S.Zero)\n",
    "eqs_pg_select[19] = sp.Eq(eqs_pg_select[19].lhs, sp.S.Zero)\n",
    "\n",
    "eqs_2ord = eigen.reduce_eqsys_to_psi(eqs_pg_select, verbose=5)\n",
    "eq_rad = eigen.to_fd_ode_psi(eqs_2ord)\n",
    "eq_rad = sp.Eq(eq_rad.lhs - eq_rad.rhs, sp.S.Zero)"
   ]
  },
  {
   "cell_type": "code",
   "execution_count": null,
   "id": "dc8bfc8c-b0e1-4b9b-9de6-227fa7a71a05",
   "metadata": {},
   "outputs": [],
   "source": [
    "eqs_pg_select[0]"
   ]
  },
  {
   "cell_type": "markdown",
   "id": "81ebaaea-1892-44d2-a60e-59788536c227",
   "metadata": {},
   "source": [
    "Further simplifications: standard ODE form"
   ]
  },
  {
   "cell_type": "code",
   "execution_count": null,
   "id": "8c93d30d-6c36-4ad7-b619-8f3500dbcea7",
   "metadata": {},
   "outputs": [],
   "source": [
    "eq_rad"
   ]
  },
  {
   "cell_type": "code",
   "execution_count": null,
   "id": "f1f41f85-3783-44e1-981b-ee242d21ac79",
   "metadata": {},
   "outputs": [],
   "source": [
    "ord_max = 4\n",
    "leading_cf = eq_rad.lhs.coeff(sp.diff(expansion.pgvar_s.Psi, (core.s, ord_max))).together().subs({core.H_s: core.H, core.H_s**2: core.H**2})\n",
    "eq_rad_std = sp.Eq((eq_rad.lhs/leading_cf).expand(), eq_rad.rhs/leading_cf)\n",
    "sp.Eq(eq_rad_std.lhs.collect(expansion.pgvar_s.Psi), eq_rad_std.rhs)"
   ]
  },
  {
   "cell_type": "markdown",
   "id": "f56bc16d-31e7-402c-a202-09d0ebef0e5d",
   "metadata": {},
   "source": [
    "Group the coefficients"
   ]
  },
  {
   "cell_type": "code",
   "execution_count": null,
   "id": "4894cd52-506b-4327-9d99-24292c6496f5",
   "metadata": {},
   "outputs": [],
   "source": [
    "from pg_utils.sympy_supp import simplify\n",
    "\n",
    "def common_denom_simplify(expr):\n",
    "    expr = expr.together()\n",
    "    num, denom = sp.fraction(expr)\n",
    "    num = num.subs({core.H: core.H_s}).simplify().factor().subs({core.H_s: core.H, core.H_s**2: core.H**2})\n",
    "    return num/denom\n",
    "\n",
    "eq_grouped = simplify.recursive_collect_tree(eq_rad_std.lhs, (expansion.pgvar_s.Psi, expansion.omega))\n",
    "simplify.process_leaf_node(eq_grouped, common_denom_simplify)\n",
    "eq_grouped = sp.Eq(simplify.recursive_eval_tree(eq_grouped), eq_rad_std.rhs)\n",
    "eq_grouped"
   ]
  },
  {
   "cell_type": "markdown",
   "id": "b5ef2687-5181-4bc3-bc18-73dd61910524",
   "metadata": {},
   "source": [
    "Output"
   ]
  },
  {
   "cell_type": "code",
   "execution_count": null,
   "id": "245ddf4b-1272-4f22-b947-28984fbe87b1",
   "metadata": {},
   "outputs": [],
   "source": [
    "sp.print_latex(eq_grouped)"
   ]
  },
  {
   "cell_type": "markdown",
   "id": "5e829e27-32d7-45f5-8657-29d20034a711",
   "metadata": {},
   "source": [
    "## Matrix elements"
   ]
  },
  {
   "cell_type": "code",
   "execution_count": null,
   "id": "4234f8ac-a144-4769-b45d-4804a9ec8d7b",
   "metadata": {},
   "outputs": [],
   "source": [
    "from pg_utils.numerics import matrices as nmatrix\n",
    "\n",
    "matrix_file = \"./out/eigen/Malkus/Transformed/matrix_expr.json\"\n",
    "with open(matrix_file, 'r') as fread:\n",
    "    matrix_obj = json.load(fread)\n",
    "\n",
    "M_expr = expansion.SystemMatrix.deserialize(matrix_obj[\"M\"])\n",
    "K_expr = expansion.SystemMatrix.deserialize(matrix_obj[\"K\"])\n",
    "par_list = [sp.parse_expr(par) for par in matrix_obj[\"params\"]]"
   ]
  },
  {
   "cell_type": "code",
   "execution_count": null,
   "id": "6c8be3fe-2ea6-4ad9-9d46-99d4239373c4",
   "metadata": {},
   "outputs": [],
   "source": [
    "iprod = nmatrix.InnerQuad_GaussJacobi(M_expr[\"B_em\", \"B_em\"], automatic=True)"
   ]
  },
  {
   "cell_type": "code",
   "execution_count": null,
   "id": "6fd5cf4d-f768-4df5-bba9-4b61feeac2ca",
   "metadata": {},
   "outputs": [],
   "source": [
    "iprod.deduce_params_outer(51, 51)"
   ]
  },
  {
   "cell_type": "code",
   "execution_count": null,
   "id": "74cc98fa-4c39-4d1b-a739-bff06679eb8d",
   "metadata": {},
   "outputs": [],
   "source": [
    "M_expr[\"B_em\", \"B_em\"]._opd_A"
   ]
  },
  {
   "cell_type": "code",
   "execution_count": null,
   "id": "194c7078-4068-4b0b-9ff2-5c45197db886",
   "metadata": {},
   "outputs": [],
   "source": [
    "nmatrix.InnerQuad_GaussJacobi.get_powers(expansion.xi, M_expr[\"B_em\", \"B_em\"]._opd_A.doit())"
   ]
  },
  {
   "cell_type": "code",
   "execution_count": null,
   "id": "7fd0d174-2ecc-4208-90d5-3056aa0463ae",
   "metadata": {},
   "outputs": [],
   "source": [
    "opd_A_terms = nmatrix.InnerQuad_GaussJacobi.get_powers(expansion.xi, K_expr[\"F_ext\", \"Psi\"]._opd_A, return_expr=True)\n",
    "if not isinstance(opd_A_terms, list):\n",
    "    opd_A_terms = [opd_A_terms]\n",
    "\n",
    "for term in opd_A_terms:\n",
    "    display(term[1])\n",
    "    print(term[0])"
   ]
  },
  {
   "cell_type": "code",
   "execution_count": null,
   "id": "323478d0-97a5-4b84-a203-1b97be2f2b44",
   "metadata": {},
   "outputs": [],
   "source": [
    "opd_B_terms = nmatrix.InnerQuad_GaussJacobi.get_powers(expansion.xi, K_expr[\"F_ext\", \"Psi\"]._opd_B.doit(), return_expr=True)\n",
    "if not isinstance(opd_B_terms, list):\n",
    "    opd_B_terms = [opd_B_terms]"
   ]
  },
  {
   "cell_type": "code",
   "execution_count": null,
   "id": "724472a9-6044-4a22-98c3-a33c2ace94db",
   "metadata": {},
   "outputs": [],
   "source": [
    "for term in opd_B_terms:\n",
    "    if term[0][0] > -1:\n",
    "        continue\n",
    "    display(term[1])\n",
    "    print(term[0])"
   ]
  },
  {
   "cell_type": "code",
   "execution_count": null,
   "id": "80d28ec8-ab18-4621-9bf7-95a6f98da855",
   "metadata": {},
   "outputs": [],
   "source": [
    "term_singular = sp.S.Zero\n",
    "for term in opd_B_terms:\n",
    "    if term[0][0] <= -1:\n",
    "        term_singular += term[1]"
   ]
  },
  {
   "cell_type": "code",
   "execution_count": null,
   "id": "58a6b104-fab7-4d89-a35f-07eb7e644845",
   "metadata": {},
   "outputs": [],
   "source": [
    "term_singular"
   ]
  },
  {
   "cell_type": "code",
   "execution_count": null,
   "id": "57878fee-28cc-4e3a-8384-4f7c654bd2b1",
   "metadata": {},
   "outputs": [],
   "source": [
    "term_singular.subs({sp.Symbol(r\"p_2\", positive=True): 2 - sp.Symbol(r\"p_1\", positive=True)}).simplify().subs({2 - sp.Symbol(r\"p_1\", positive=True): sp.Symbol(r\"p_2\", positive=True)})"
   ]
  },
  {
   "cell_type": "code",
   "execution_count": null,
   "id": "362815b1-a340-4760-99b2-728e4521ad08",
   "metadata": {},
   "outputs": [],
   "source": [
    "[term[0] for term in opd_B_terms]"
   ]
  },
  {
   "cell_type": "code",
   "execution_count": null,
   "id": "94f2204f-6ecc-44bf-a5b0-4c695369ace3",
   "metadata": {},
   "outputs": [],
   "source": [
    "with open(\"./out/symbolic/eqs_pg_lin.json\", 'r') as fread:\n",
    "    eqs = base.LabeledCollection.load_json(fread, parser=sp.parse_expr)"
   ]
  },
  {
   "cell_type": "code",
   "execution_count": null,
   "id": "36b47653-72cd-4447-a2d5-b5acf0d2fd20",
   "metadata": {},
   "outputs": [],
   "source": [
    "eqs.Psi"
   ]
  },
  {
   "cell_type": "code",
   "execution_count": null,
   "id": "2e6669f1-9bcf-4207-8628-22d48dae7456",
   "metadata": {},
   "outputs": [],
   "source": [
    "eqs.dBp_dz_e"
   ]
  },
  {
   "cell_type": "code",
   "execution_count": null,
   "id": "d0aa2136-7d9d-4518-9561-ca7e18b21c11",
   "metadata": {},
   "outputs": [],
   "source": [
    "(sp.diff(core.s*sp.diff(core.s**expansion.m*core.H_s**3, core.s), core.s)/expansion.H_s).expand()"
   ]
  },
  {
   "cell_type": "code",
   "execution_count": null,
   "id": "f453a534-cfb5-4acd-a330-2ed0a16cebe9",
   "metadata": {},
   "outputs": [],
   "source": [
    "sp.diff(core.s**expansion.m, core.s).subs({expansion.m: 0})"
   ]
  },
  {
   "cell_type": "code",
   "execution_count": null,
   "id": "aaa7a60d-e71d-4b53-a56f-267c94e35bf7",
   "metadata": {},
   "outputs": [],
   "source": [
    "(sp.diff(core.s**expansion.m*core.H_s**3, core.s)/expansion.H_s).expand()"
   ]
  },
  {
   "cell_type": "markdown",
   "id": "1d36e3d2-edf5-48fb-9716-c7c8a522183e",
   "metadata": {},
   "source": [
    "---\n",
    "## General equations inspection"
   ]
  },
  {
   "cell_type": "code",
   "execution_count": 12,
   "id": "1cb23b1d-033f-4bcf-8af5-59455aea40b9",
   "metadata": {},
   "outputs": [],
   "source": [
    "with open('./out/symbolic/eqs-pg__boundIE-Bcyl.json', 'r') as fread:\n",
    "    eqs_pg = base.LabeledCollection.load_json(fread, parser=sp.parse_expr)"
   ]
  },
  {
   "cell_type": "code",
   "execution_count": 11,
   "id": "0d2b652e-12cd-410a-a2dd-f86c8d977d65",
   "metadata": {},
   "outputs": [
    {
     "data": {
      "text/plain": [
       "<pg_utils.pg_model.base.LabeledCollection at 0x258551c47c0>"
      ]
     },
     "execution_count": 11,
     "metadata": {},
     "output_type": "execute_result"
    }
   ],
   "source": [
    "with open('./out/symbolic/eqs-pg__boundIE-Bcyl.json', 'r') as fread:\n",
    "    eqs_pg_lin = base.LabeledCollection.load_json(fread, parser=sp.parse_expr)\n",
    "    \n",
    "zero_bg_u_map = {\n",
    "    core.U0_vec[0]: 0,\n",
    "    core.U0_vec[1]: 0,\n",
    "    core.U0_vec[2]: 0\n",
    "}\n",
    "eqs_pg_lin.apply(lambda eq: sp.Eq(eq.lhs, eq.rhs.subs(zero_bg_u_map).doit()) if eq is not None else None, inplace=True)"
   ]
  },
  {
   "cell_type": "code",
   "execution_count": null,
   "id": "9d76b82c-9357-49c8-a9a3-24eee9565388",
   "metadata": {},
   "outputs": [],
   "source": [
    "display_eq_collection(eqs_pg)"
   ]
  },
  {
   "cell_type": "markdown",
   "id": "3e25de4d-1d6b-4b8a-9583-7c6d5ff6431a",
   "metadata": {},
   "source": [
    "---\n",
    "## Equation sequence inspection"
   ]
  },
  {
   "cell_type": "code",
   "execution_count": 2,
   "id": "e192a19a-a9a1-4189-a414-a0b2b2f5d129",
   "metadata": {},
   "outputs": [],
   "source": [
    "# Original linearised equation\n",
    "with open('./out/symbolic/eqs-pg__boundIE-Bcyl__lin.json', 'r') as fread:\n",
    "    eqs_pg_lin = base.LabeledCollection.load_json(fread, parser=sp.parse_expr)\n",
    "eqs_pg_lin, _ = eigen.assemble_forcing(eqs_pg_lin, 'Lorentz', timescale='Alfven', verbose=0)\n",
    "eqs_pg_lin.Psi = sp.Eq(eqs_pg_lin.Psi.lhs, eqs_pg_lin.Psi.rhs.subs(forcing.force_explicit_lin).doit().expand())\n",
    "    \n",
    "# Background-specific eigenvalue equation\n",
    "dir_bg = './out/eigen/S_L2_N1/'\n",
    "with open(os.path.join(dir_bg, 'eqs_pg_ideal_vsH.json'), 'r') as fread:\n",
    "    load_array = json.load(fread)\n",
    "    eqs_eigen_bg = base.LabeledCollection.deserialize(load_array['equations'], parser=sp.parse_expr)\n",
    "    \n",
    "# Matrix elements\n",
    "dir_spec = os.path.join(dir_bg, 'Original')\n",
    "with open(os.path.join(dir_spec, 'matrix_expr_ideal_vsH.json'), 'r') as fread:\n",
    "    matrix_obj = json.load(fread)\n",
    "M_expr = expansion.SystemMatrix.deserialize(matrix_obj[\"M\"])\n",
    "K_expr = expansion.SystemMatrix.deserialize(matrix_obj[\"K\"])"
   ]
  },
  {
   "cell_type": "code",
   "execution_count": 3,
   "id": "91d7ffc7-3221-43f0-b96a-5a33dd8a314a",
   "metadata": {},
   "outputs": [],
   "source": [
    "from pg_utils.pg_model import expand_pg_partial_ext as xpd_cfg\n",
    "\n",
    "eqs_eigen_selected = eqs_eigen_bg.generate_collection(xpd_cfg.field_indexer)\n",
    "M_simp, K_simp = eigen.equations_to_matrices(eqs_eigen_selected, xpd_cfg.recipe)"
   ]
  },
  {
   "cell_type": "markdown",
   "id": "1828e2dd-18a6-44af-89fb-bedf451b669c",
   "metadata": {},
   "source": [
    "### Show element"
   ]
  },
  {
   "cell_type": "code",
   "execution_count": 4,
   "id": "5e985b0f",
   "metadata": {},
   "outputs": [
    {
     "data": {
      "text/plain": [
       "['Psi',\n",
       " 'Mss',\n",
       " 'Mpp',\n",
       " 'Msp',\n",
       " 'Msz',\n",
       " 'Mpz',\n",
       " 'zMss',\n",
       " 'zMpp',\n",
       " 'zMsp',\n",
       " 'Bs_e',\n",
       " 'Bp_e',\n",
       " 'Bz_e',\n",
       " 'dBs_dz_e',\n",
       " 'dBp_dz_e',\n",
       " 'Br_b',\n",
       " 'Bs_p',\n",
       " 'Bp_p',\n",
       " 'Bz_p',\n",
       " 'Bs_m',\n",
       " 'Bp_m',\n",
       " 'Bz_m']"
      ]
     },
     "execution_count": 4,
     "metadata": {},
     "output_type": "execute_result"
    }
   ],
   "source": [
    "eqs_pg_lin._field_names"
   ]
  },
  {
   "cell_type": "code",
   "execution_count": 31,
   "id": "db2442af-e8c1-40af-9b8d-6750096707ba",
   "metadata": {},
   "outputs": [],
   "source": [
    "name_eqn = 'Bz_m'\n",
    "name_term = 'Psi'\n",
    "\n",
    "k = sp.Symbol('k', positive=True)\n",
    "H1 = sp.Symbol('H', positive=True)\n",
    "Jac = 1/(4*sp.sqrt((1 + expansion.xi)/2))\n",
    "sub_ab = {(1 - expansion.xi)/2: H1**2, (1 + expansion.xi)/2: core.s**2, (expansion.xi + 1)/2: core.s**2, 1 - expansion.xi: 2*H1**2, expansion.xi - 1: -2*H1**2}"
   ]
  },
  {
   "cell_type": "code",
   "execution_count": 32,
   "id": "14ff79d8-e930-44ba-ab84-1c28eea0439a",
   "metadata": {},
   "outputs": [
    {
     "data": {
      "text/latex": [
       "$\\displaystyle \\frac{z B_s^{0-}{\\left(s,\\phi \\right)} \\frac{d}{d s} H{\\left(s \\right)} \\frac{\\partial^{2}}{\\partial s\\partial \\phi} \\psi{\\left(s,\\phi,t \\right)}}{s H^{2}{\\left(s \\right)}} + \\frac{z B_s^{0-}{\\left(s,\\phi \\right)} \\frac{d^{2}}{d s^{2}} H{\\left(s \\right)} \\frac{\\partial}{\\partial \\phi} \\psi{\\left(s,\\phi,t \\right)}}{s H^{2}{\\left(s \\right)}} - \\frac{2 z B_s^{0-}{\\left(s,\\phi \\right)} \\left(\\frac{d}{d s} H{\\left(s \\right)}\\right)^{2} \\frac{\\partial}{\\partial \\phi} \\psi{\\left(s,\\phi,t \\right)}}{s H^{3}{\\left(s \\right)}} - \\frac{z \\frac{\\partial}{\\partial z} B^{0}_{z}{\\left(s,\\phi,z \\right)} \\frac{d}{d s} H{\\left(s \\right)} \\frac{\\partial}{\\partial \\phi} \\psi{\\left(s,\\phi,t \\right)}}{s H^{2}{\\left(s \\right)}} + \\frac{B_z^{0-}{\\left(s,\\phi \\right)} \\frac{d}{d s} H{\\left(s \\right)} \\frac{\\partial}{\\partial \\phi} \\psi{\\left(s,\\phi,t \\right)}}{s H^{2}{\\left(s \\right)}} + \\frac{\\frac{\\partial}{\\partial \\phi} B^{0}_{z}{\\left(s,\\phi,z \\right)} \\frac{\\partial}{\\partial s} \\psi{\\left(s,\\phi,t \\right)}}{s H{\\left(s \\right)}} - \\frac{\\frac{\\partial}{\\partial s} B^{0}_{z}{\\left(s,\\phi,z \\right)} \\frac{\\partial}{\\partial \\phi} \\psi{\\left(s,\\phi,t \\right)}}{s H{\\left(s \\right)}} + \\frac{z B_\\phi^{0-}{\\left(s,\\phi \\right)} \\frac{d}{d s} H{\\left(s \\right)} \\frac{\\partial^{2}}{\\partial \\phi^{2}} \\psi{\\left(s,\\phi,t \\right)}}{s^{2} H^{2}{\\left(s \\right)}} - \\frac{z B_s^{0-}{\\left(s,\\phi \\right)} \\frac{d}{d s} H{\\left(s \\right)} \\frac{\\partial}{\\partial \\phi} \\psi{\\left(s,\\phi,t \\right)}}{s^{2} H^{2}{\\left(s \\right)}}$"
      ],
      "text/plain": [
       "z*B_s^{0-}(s, \\phi)*Derivative(H(s), s)*Derivative(\\psi(s, \\phi, t), \\phi, s)/(s*H(s)**2) + z*B_s^{0-}(s, \\phi)*Derivative(H(s), (s, 2))*Derivative(\\psi(s, \\phi, t), \\phi)/(s*H(s)**2) - 2*z*B_s^{0-}(s, \\phi)*Derivative(H(s), s)**2*Derivative(\\psi(s, \\phi, t), \\phi)/(s*H(s)**3) - z*Derivative(B_z^0(s, \\phi, z), z)*Derivative(H(s), s)*Derivative(\\psi(s, \\phi, t), \\phi)/(s*H(s)**2) + B_z^{0-}(s, \\phi)*Derivative(H(s), s)*Derivative(\\psi(s, \\phi, t), \\phi)/(s*H(s)**2) + Derivative(B_z^0(s, \\phi, z), \\phi)*Derivative(\\psi(s, \\phi, t), s)/(s*H(s)) - Derivative(B_z^0(s, \\phi, z), s)*Derivative(\\psi(s, \\phi, t), \\phi)/(s*H(s)) + z*B_\\phi^{0-}(s, \\phi)*Derivative(H(s), s)*Derivative(\\psi(s, \\phi, t), (\\phi, 2))/(s**2*H(s)**2) - z*B_s^{0-}(s, \\phi)*Derivative(H(s), s)*Derivative(\\psi(s, \\phi, t), \\phi)/(s**2*H(s)**2)"
      ]
     },
     "metadata": {},
     "output_type": "display_data"
    },
    {
     "data": {
      "text/latex": [
       "$\\displaystyle \\frac{30 \\sqrt{5} \\gamma s^{4} \\frac{\\partial}{\\partial \\phi} \\psi{\\left(s,\\phi,t \\right)}}{\\sqrt{\\pi} H^{4}{\\left(s \\right)}} + \\frac{15 \\sqrt{5} \\gamma s^{3} \\frac{\\partial^{2}}{\\partial s\\partial \\phi} \\psi{\\left(s,\\phi,t \\right)}}{\\sqrt{\\pi} H^{2}{\\left(s \\right)}} - \\frac{30 \\sqrt{5} \\gamma s^{2} \\frac{\\partial}{\\partial \\phi} \\psi{\\left(s,\\phi,t \\right)}}{\\sqrt{\\pi} H^{2}{\\left(s \\right)}} - \\frac{9 \\sqrt{5} \\gamma s^{2} \\frac{\\partial}{\\partial \\phi} \\psi{\\left(s,\\phi,t \\right)}}{\\sqrt{\\pi} H^{4}{\\left(s \\right)}} - \\frac{12 \\sqrt{5} \\gamma s \\frac{\\partial^{2}}{\\partial s\\partial \\phi} \\psi{\\left(s,\\phi,t \\right)}}{\\sqrt{\\pi} H^{2}{\\left(s \\right)}} + \\frac{15 \\sqrt{5} \\gamma \\frac{\\partial}{\\partial \\phi} \\psi{\\left(s,\\phi,t \\right)}}{\\sqrt{\\pi}} + \\frac{27 \\sqrt{5} \\gamma \\frac{\\partial}{\\partial \\phi} \\psi{\\left(s,\\phi,t \\right)}}{\\sqrt{\\pi} H^{2}{\\left(s \\right)}} - \\frac{12 \\sqrt{5} \\gamma \\frac{\\partial}{\\partial \\phi} \\psi{\\left(s,\\phi,t \\right)}}{\\sqrt{\\pi} H^{4}{\\left(s \\right)}}$"
      ],
      "text/plain": [
       "30*sqrt(5)*\\gamma*s**4*Derivative(\\psi(s, \\phi, t), \\phi)/(sqrt(pi)*H(s)**4) + 15*sqrt(5)*\\gamma*s**3*Derivative(\\psi(s, \\phi, t), \\phi, s)/(sqrt(pi)*H(s)**2) - 30*sqrt(5)*\\gamma*s**2*Derivative(\\psi(s, \\phi, t), \\phi)/(sqrt(pi)*H(s)**2) - 9*sqrt(5)*\\gamma*s**2*Derivative(\\psi(s, \\phi, t), \\phi)/(sqrt(pi)*H(s)**4) - 12*sqrt(5)*\\gamma*s*Derivative(\\psi(s, \\phi, t), \\phi, s)/(sqrt(pi)*H(s)**2) + 15*sqrt(5)*\\gamma*Derivative(\\psi(s, \\phi, t), \\phi)/sqrt(pi) + 27*sqrt(5)*\\gamma*Derivative(\\psi(s, \\phi, t), \\phi)/(sqrt(pi)*H(s)**2) - 12*sqrt(5)*\\gamma*Derivative(\\psi(s, \\phi, t), \\phi)/(sqrt(pi)*H(s)**4)"
      ]
     },
     "metadata": {},
     "output_type": "display_data"
    },
    {
     "data": {
      "text/latex": [
       "$\\displaystyle \\frac{3 \\sqrt{5} i \\gamma m s^{m} \\left(5 m s^{2} H^{2}{\\left(s \\right)} - 4 m H^{2}{\\left(s \\right)} - 5 s^{4} - 10 s^{2} H^{2}{\\left(s \\right)} + 9 s^{2} + 5 H^{4}{\\left(s \\right)} + 9 H^{2}{\\left(s \\right)} - 4\\right) P_{\\ell}^{\\left(\\frac{3}{2},m\\right)}\\left(\\xi\\right)}{\\sqrt{\\pi} H{\\left(s \\right)}} + \\frac{3 \\sqrt{5} i \\gamma m s^{m + 2} \\left(10 \\ell s^{2} - 8 \\ell + 10 m s^{2} - 8 m + 25 s^{2} - 20\\right) H{\\left(s \\right)} P_{\\ell - 1}^{\\left(\\frac{5}{2},m + 1\\right)}\\left(\\xi\\right)}{\\sqrt{\\pi}}$"
      ],
      "text/plain": [
       "3*sqrt(5)*I*\\gamma*m*s**m*(5*m*s**2*H(s)**2 - 4*m*H(s)**2 - 5*s**4 - 10*s**2*H(s)**2 + 9*s**2 + 5*H(s)**4 + 9*H(s)**2 - 4)*jacobi(\\ell, 3/2, m, \\xi)/(sqrt(pi)*H(s)) + 3*sqrt(5)*I*\\gamma*m*s**(m + 2)*(10*\\ell*s**2 - 8*\\ell + 10*m*s**2 - 8*m + 25*s**2 - 20)*H(s)*jacobi(\\ell - 1, 5/2, m + 1, \\xi)/sqrt(pi)"
      ]
     },
     "metadata": {},
     "output_type": "display_data"
    }
   ],
   "source": [
    "term_pg_lin = simp_supp.summands_dep(eqs_pg_lin[name_eqn].rhs, core.pgvar_ptb[name_term])\n",
    "term_eigen = simp_supp.summands_dep(eqs_eigen_bg[name_eqn].rhs, core.pgvar_ptb[name_term])\n",
    "\n",
    "element_eigen = K_simp[name_eqn, name_term]\n",
    "if isinstance(element_eigen, expansion.InnerProduct1D):\n",
    "    arg_simp = element_eigen._opd_B.subs({expansion.m: sp.Integer(2) + k}).doit().subs({k: expansion.m - sp.Integer(2)})\n",
    "    arg_simp_terms = simp_supp.collect_jacobi(arg_simp, evaluate=False)\n",
    "    arg_simp = sp.Add(*[cf.simplify()*basis for basis, cf in arg_simp_terms.items()])\n",
    "    # (element_eigen.args[1].subs({expansion.m: sp.Integer(2) + k}).doit().subs({k: expansion.m - sp.Integer(2)}).xreplace(sub_ab)/Jac.xreplace(sub_ab)).simplify().xreplace(sub_ab).simplify()\n",
    "else:\n",
    "    arg_simp = element_eigen\n",
    "\n",
    "display(term_pg_lin, term_eigen, arg_simp)"
   ]
  },
  {
   "cell_type": "code",
   "execution_count": 46,
   "id": "b0c8d6cb",
   "metadata": {},
   "outputs": [
    {
     "data": {
      "text/plain": [
       "98.0"
      ]
     },
     "execution_count": 46,
     "metadata": {},
     "output_type": "execute_result"
    }
   ],
   "source": [
    "4410/45"
   ]
  },
  {
   "cell_type": "markdown",
   "id": "ce44ae89-63e5-431d-979d-8a51809c9cef",
   "metadata": {},
   "source": [
    "### Background field"
   ]
  },
  {
   "cell_type": "code",
   "execution_count": 9,
   "id": "1da329eb-4ec8-4cf8-b52c-6aedabbcf225",
   "metadata": {},
   "outputs": [
    {
     "data": {
      "text/latex": [
       "$\\displaystyle U^{0}_{s}{\\left(s,\\phi,z \\right)} = 0$"
      ],
      "text/plain": [
       "Eq(U_s^0(s, \\phi, z), 0)"
      ]
     },
     "metadata": {},
     "output_type": "display_data"
    },
    {
     "data": {
      "text/latex": [
       "$\\displaystyle U^{0}_{\\phi}{\\left(s,\\phi,z \\right)} = 0$"
      ],
      "text/plain": [
       "Eq(U_\\phi^0(s, \\phi, z), 0)"
      ]
     },
     "metadata": {},
     "output_type": "display_data"
    },
    {
     "data": {
      "text/latex": [
       "$\\displaystyle U^{0}_{z}{\\left(s,\\phi,z \\right)} = 0$"
      ],
      "text/plain": [
       "Eq(U_z^0(s, \\phi, z), 0)"
      ]
     },
     "metadata": {},
     "output_type": "display_data"
    },
    {
     "data": {
      "text/latex": [
       "$\\displaystyle B^{0}_{s}{\\left(s,\\phi,z \\right)} = \\frac{3 \\sqrt{5} \\gamma s \\left(- 5 s^{2} - 15 z^{2} + 7\\right)}{2 \\sqrt{\\pi}}$"
      ],
      "text/plain": [
       "Eq(B_s^0(s, \\phi, z), 3*sqrt(5)*\\gamma*s*(-5*s**2 - 15*z**2 + 7)/(2*sqrt(pi)))"
      ]
     },
     "metadata": {},
     "output_type": "display_data"
    },
    {
     "data": {
      "text/latex": [
       "$\\displaystyle B^{0}_{\\phi}{\\left(s,\\phi,z \\right)} = 0$"
      ],
      "text/plain": [
       "Eq(B_\\phi^0(s, \\phi, z), 0)"
      ]
     },
     "metadata": {},
     "output_type": "display_data"
    },
    {
     "data": {
      "text/latex": [
       "$\\displaystyle B^{0}_{z}{\\left(s,\\phi,z \\right)} = \\frac{3 \\sqrt{5} \\gamma z \\left(10 s^{2} + 5 z^{2} - 7\\right)}{\\sqrt{\\pi}}$"
      ],
      "text/plain": [
       "Eq(B_z^0(s, \\phi, z), 3*sqrt(5)*\\gamma*z*(10*s**2 + 5*z**2 - 7)/sqrt(pi))"
      ]
     },
     "metadata": {},
     "output_type": "display_data"
    }
   ],
   "source": [
    "from pg_utils.pg_model import bg_fields\n",
    "\n",
    "bg_cfg = bg_fields.Background_S_l2_n1()\n",
    "\n",
    "display_equality(core.U0_vec, bg_cfg.U0_val)\n",
    "display_equality(core.B0_vec, bg_cfg.B0_val)"
   ]
  },
  {
   "cell_type": "code",
   "execution_count": 10,
   "id": "888dd691-f212-4c8b-96bb-95ebc26bfca0",
   "metadata": {},
   "outputs": [
    {
     "data": {
      "text/latex": [
       "$\\displaystyle \\Psi^{0}{\\left(s,\\phi \\right)} = 0$"
      ],
      "text/plain": [
       "Eq(\\Psi^0(s, \\phi), 0)"
      ]
     },
     "metadata": {},
     "output_type": "display_data"
    },
    {
     "data": {
      "text/latex": [
       "$\\displaystyle \\overline{M_{ss}}^0{\\left(s,\\phi \\right)} = \\frac{\\gamma^{2} s^{2} \\sqrt{1 - s^{2}} \\left(450 s^{4} - 900 s^{2} + 540\\right)}{\\pi}$"
      ],
      "text/plain": [
       "Eq(\\overline{M_{ss}}^0(s, \\phi), \\gamma**2*s**2*sqrt(1 - s**2)*(450*s**4 - 900*s**2 + 540)/pi)"
      ]
     },
     "metadata": {},
     "output_type": "display_data"
    },
    {
     "data": {
      "text/latex": [
       "$\\displaystyle \\overline{M_{\\phi\\phi}}^0{\\left(s,\\phi \\right)} = 0$"
      ],
      "text/plain": [
       "Eq(\\overline{M_{\\phi\\phi}}^0(s, \\phi), 0)"
      ]
     },
     "metadata": {},
     "output_type": "display_data"
    },
    {
     "data": {
      "text/latex": [
       "$\\displaystyle \\overline{M_{s\\phi}}^0{\\left(s,\\phi \\right)} = 0$"
      ],
      "text/plain": [
       "Eq(\\overline{M_{s\\phi}}^0(s, \\phi), 0)"
      ]
     },
     "metadata": {},
     "output_type": "display_data"
    },
    {
     "data": {
      "text/latex": [
       "$\\displaystyle \\widetilde{M_{sz}}^0{\\left(s,\\phi \\right)} = \\frac{45 \\gamma^{2} s \\left(- 25 s^{6} + 30 s^{4} + 3 s^{2} - 8\\right)}{4 \\pi}$"
      ],
      "text/plain": [
       "Eq(\\widetilde{M_{sz}}^0(s, \\phi), 45*\\gamma**2*s*(-25*s**6 + 30*s**4 + 3*s**2 - 8)/(4*pi))"
      ]
     },
     "metadata": {},
     "output_type": "display_data"
    },
    {
     "data": {
      "text/latex": [
       "$\\displaystyle \\widetilde{M_{\\phi z}}^0{\\left(s,\\phi \\right)} = 0$"
      ],
      "text/plain": [
       "Eq(\\widetilde{M_{\\phi z}}^0(s, \\phi), 0)"
      ]
     },
     "metadata": {},
     "output_type": "display_data"
    },
    {
     "data": {
      "text/latex": [
       "$\\displaystyle \\widetilde{zM_{ss}}^0{\\left(s,\\phi \\right)} = \\frac{45 \\gamma^{2} s^{2} \\left(- 25 s^{6} + 65 s^{4} - 59 s^{2} + 19\\right)}{4 \\pi}$"
      ],
      "text/plain": [
       "Eq(\\widetilde{zM_{ss}}^0(s, \\phi), 45*\\gamma**2*s**2*(-25*s**6 + 65*s**4 - 59*s**2 + 19)/(4*pi))"
      ]
     },
     "metadata": {},
     "output_type": "display_data"
    },
    {
     "data": {
      "text/latex": [
       "$\\displaystyle \\widetilde{zM_{\\phi\\phi}}^0{\\left(s,\\phi \\right)} = 0$"
      ],
      "text/plain": [
       "Eq(\\widetilde{zM_{\\phi\\phi}}^0(s, \\phi), 0)"
      ]
     },
     "metadata": {},
     "output_type": "display_data"
    },
    {
     "data": {
      "text/latex": [
       "$\\displaystyle \\widetilde{zM_{s\\phi}}^0{\\left(s,\\phi \\right)} = 0$"
      ],
      "text/plain": [
       "Eq(\\widetilde{zM_{s\\phi}}^0(s, \\phi), 0)"
      ]
     },
     "metadata": {},
     "output_type": "display_data"
    },
    {
     "data": {
      "text/latex": [
       "$\\displaystyle B_{s}^{0e}{\\left(s,\\phi \\right)} = \\frac{3 \\sqrt{5} \\gamma s \\left(7 - 5 s^{2}\\right)}{2 \\sqrt{\\pi}}$"
      ],
      "text/plain": [
       "Eq(B_{s}^{0e}(s, \\phi), 3*sqrt(5)*\\gamma*s*(7 - 5*s**2)/(2*sqrt(pi)))"
      ]
     },
     "metadata": {},
     "output_type": "display_data"
    },
    {
     "data": {
      "text/latex": [
       "$\\displaystyle B_{\\phi}^{0e}{\\left(s,\\phi \\right)} = 0$"
      ],
      "text/plain": [
       "Eq(B_{\\phi}^{0e}(s, \\phi), 0)"
      ]
     },
     "metadata": {},
     "output_type": "display_data"
    },
    {
     "data": {
      "text/latex": [
       "$\\displaystyle B_{z}^{0e}{\\left(s,\\phi \\right)} = 0$"
      ],
      "text/plain": [
       "Eq(B_{z}^{0e}(s, \\phi), 0)"
      ]
     },
     "metadata": {},
     "output_type": "display_data"
    },
    {
     "data": {
      "text/latex": [
       "$\\displaystyle B_{s, z}^{0e}{\\left(s,\\phi \\right)} = 0$"
      ],
      "text/plain": [
       "Eq(B_{s, z}^{0e}(s, \\phi), 0)"
      ]
     },
     "metadata": {},
     "output_type": "display_data"
    },
    {
     "data": {
      "text/latex": [
       "$\\displaystyle B_{\\phi, z}^{0e}{\\left(s,\\phi \\right)} = 0$"
      ],
      "text/plain": [
       "Eq(B_{\\phi, z}^{0e}(s, \\phi), 0)"
      ]
     },
     "metadata": {},
     "output_type": "display_data"
    },
    {
     "data": {
      "text/latex": [
       "$\\displaystyle B_{r1}^0{\\left(\\theta,\\phi \\right)} = \\frac{3 \\sqrt{5} \\gamma \\left(- 5 s^{4} + 5 s^{2} z^{2} + 7 s^{2} + 10 z^{4} - 14 z^{2}\\right)}{2 \\sqrt{\\pi}}$"
      ],
      "text/plain": [
       "Eq(B_{r1}^0(\\theta, \\phi), 3*sqrt(5)*\\gamma*(-5*s**4 + 5*s**2*z**2 + 7*s**2 + 10*z**4 - 14*z**2)/(2*sqrt(pi)))"
      ]
     },
     "metadata": {},
     "output_type": "display_data"
    },
    {
     "data": {
      "text/latex": [
       "$\\displaystyle B_s^{0+}{\\left(s,\\phi \\right)} = \\frac{3 \\sqrt{5} \\gamma s \\left(5 s^{2} - 4\\right)}{\\sqrt{\\pi}}$"
      ],
      "text/plain": [
       "Eq(B_s^{0+}(s, \\phi), 3*sqrt(5)*\\gamma*s*(5*s**2 - 4)/sqrt(pi))"
      ]
     },
     "metadata": {},
     "output_type": "display_data"
    },
    {
     "data": {
      "text/latex": [
       "$\\displaystyle B_\\phi^{0+}{\\left(s,\\phi \\right)} = 0$"
      ],
      "text/plain": [
       "Eq(B_\\phi^{0+}(s, \\phi), 0)"
      ]
     },
     "metadata": {},
     "output_type": "display_data"
    },
    {
     "data": {
      "text/latex": [
       "$\\displaystyle B_z^{0+}{\\left(s,\\phi \\right)} = \\frac{3 \\gamma \\sqrt{5 - 5 s^{2}} \\left(5 s^{2} - 2\\right)}{\\sqrt{\\pi}}$"
      ],
      "text/plain": [
       "Eq(B_z^{0+}(s, \\phi), 3*\\gamma*sqrt(5 - 5*s**2)*(5*s**2 - 2)/sqrt(pi))"
      ]
     },
     "metadata": {},
     "output_type": "display_data"
    },
    {
     "data": {
      "text/latex": [
       "$\\displaystyle B_s^{0-}{\\left(s,\\phi \\right)} = \\frac{3 \\sqrt{5} \\gamma s \\left(5 s^{2} - 4\\right)}{\\sqrt{\\pi}}$"
      ],
      "text/plain": [
       "Eq(B_s^{0-}(s, \\phi), 3*sqrt(5)*\\gamma*s*(5*s**2 - 4)/sqrt(pi))"
      ]
     },
     "metadata": {},
     "output_type": "display_data"
    },
    {
     "data": {
      "text/latex": [
       "$\\displaystyle B_\\phi^{0-}{\\left(s,\\phi \\right)} = 0$"
      ],
      "text/plain": [
       "Eq(B_\\phi^{0-}(s, \\phi), 0)"
      ]
     },
     "metadata": {},
     "output_type": "display_data"
    },
    {
     "data": {
      "text/latex": [
       "$\\displaystyle B_z^{0-}{\\left(s,\\phi \\right)} = \\frac{3 \\gamma \\left(2 - 5 s^{2}\\right) \\sqrt{5 - 5 s^{2}}}{\\sqrt{\\pi}}$"
      ],
      "text/plain": [
       "Eq(B_z^{0-}(s, \\phi), 3*\\gamma*(2 - 5*s**2)*sqrt(5 - 5*s**2)/sqrt(pi))"
      ]
     },
     "metadata": {},
     "output_type": "display_data"
    }
   ],
   "source": [
    "bg_pg = base_utils.assemble_background(bg_cfg.B0_val, mode='PG')\n",
    "# bg_pg.apply(lambda expr: expr.subs({core.H_s: core.H, core.H_s**2: core.H**2}).simplify(), inplace=True)\n",
    "bg_pg.apply(lambda expr: expr.subs({core.H: core.H_s}).simplify(), inplace=True)\n",
    "display_equality(core.pgvar_bg, bg_pg)"
   ]
  },
  {
   "cell_type": "code",
   "execution_count": null,
   "id": "e09106d0-c8a1-48ea-86fd-3aa5f53fe431",
   "metadata": {},
   "outputs": [],
   "source": []
  }
 ],
 "metadata": {
  "kernelspec": {
   "display_name": "geomag",
   "language": "python",
   "name": "python3"
  },
  "language_info": {
   "codemirror_mode": {
    "name": "ipython",
    "version": 3
   },
   "file_extension": ".py",
   "mimetype": "text/x-python",
   "name": "python",
   "nbconvert_exporter": "python",
   "pygments_lexer": "ipython3",
   "version": "3.8.13"
  }
 },
 "nbformat": 4,
 "nbformat_minor": 5
}
