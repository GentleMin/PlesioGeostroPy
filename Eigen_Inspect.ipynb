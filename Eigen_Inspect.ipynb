{
 "cells": [
  {
   "cell_type": "markdown",
   "id": "d5b61716-e79f-4c56-a273-95ac71416505",
   "metadata": {},
   "source": [
    "# Inspecting the eigensolver steps"
   ]
  },
  {
   "cell_type": "code",
   "execution_count": 1,
   "id": "bfb400fc-5288-4518-bd0a-96dceec04f86",
   "metadata": {},
   "outputs": [],
   "source": [
    "%load_ext autoreload\n",
    "%autoreload 2\n",
    "\n",
    "import sympy as sp\n",
    "import numpy as np\n",
    "import matplotlib.pyplot as plt\n",
    "import json\n",
    "from pg_utils.pg_model import base, base_utils, core, expansion\n",
    "from pg_utils import eigen\n",
    "from IPython.display import display, Math, Markdown\n",
    "\n",
    "def display_equality(lhs, rhs, _filter=lambda lhs, rhs, idx: True):\n",
    "    display(*(sp.Eq(lhs_tmp, rhs[idx]) for idx, lhs_tmp in enumerate(lhs) if _filter(lhs_tmp, rhs[idx], idx)))\n",
    "\n",
    "def display_eq_collection(eqs, _filter=lambda eq, idx: True):\n",
    "    display(*(eq for idx, eq in enumerate(eqs) if _filter(eq, idx)))"
   ]
  },
  {
   "cell_type": "markdown",
   "id": "531d6e6b-791c-41e8-8fba-a02d62315b32",
   "metadata": {},
   "source": [
    "---\n",
    "## Background field"
   ]
  },
  {
   "cell_type": "code",
   "execution_count": 2,
   "id": "6992e308-aae2-45be-bfab-f4952c52c11e",
   "metadata": {},
   "outputs": [
    {
     "data": {
      "text/latex": [
       "$\\displaystyle U^{0}_{s}{\\left(s,\\phi,z \\right)} = 0$"
      ],
      "text/plain": [
       "Eq(U_s^0(s, \\phi, z), 0)"
      ]
     },
     "metadata": {},
     "output_type": "display_data"
    },
    {
     "data": {
      "text/latex": [
       "$\\displaystyle U^{0}_{\\phi}{\\left(s,\\phi,z \\right)} = 0$"
      ],
      "text/plain": [
       "Eq(U_\\phi^0(s, \\phi, z), 0)"
      ]
     },
     "metadata": {},
     "output_type": "display_data"
    },
    {
     "data": {
      "text/latex": [
       "$\\displaystyle U^{0}_{z}{\\left(s,\\phi,z \\right)} = 0$"
      ],
      "text/plain": [
       "Eq(U_z^0(s, \\phi, z), 0)"
      ]
     },
     "metadata": {},
     "output_type": "display_data"
    },
    {
     "data": {
      "text/latex": [
       "$\\displaystyle B^{0}_{s}{\\left(s,\\phi,z \\right)} = 0$"
      ],
      "text/plain": [
       "Eq(B_s^0(s, \\phi, z), 0)"
      ]
     },
     "metadata": {},
     "output_type": "display_data"
    },
    {
     "data": {
      "text/latex": [
       "$\\displaystyle B^{0}_{\\phi}{\\left(s,\\phi,z \\right)} = \\gamma s \\left(- s^{2} - z^{2} + 1\\right)$"
      ],
      "text/plain": [
       "Eq(B_\\phi^0(s, \\phi, z), \\gamma*s*(-s**2 - z**2 + 1))"
      ]
     },
     "metadata": {},
     "output_type": "display_data"
    },
    {
     "data": {
      "text/latex": [
       "$\\displaystyle B^{0}_{z}{\\left(s,\\phi,z \\right)} = 0$"
      ],
      "text/plain": [
       "Eq(B_z^0(s, \\phi, z), 0)"
      ]
     },
     "metadata": {},
     "output_type": "display_data"
    }
   ],
   "source": [
    "from pg_utils.pg_model import bg_fields\n",
    "\n",
    "bg_cfg = bg_fields.BackgroundToroidalQuadrupole()\n",
    "\n",
    "display_equality(core.U0_vec, bg_cfg.U0_val)\n",
    "display_equality(core.B0_vec, bg_cfg.B0_val)"
   ]
  },
  {
   "cell_type": "code",
   "execution_count": 3,
   "id": "e3484104-d897-43cd-a987-3ff9aeab85b1",
   "metadata": {},
   "outputs": [
    {
     "data": {
      "text/latex": [
       "$\\displaystyle \\Psi^{0}{\\left(s,\\phi \\right)} = 0$"
      ],
      "text/plain": [
       "Eq(\\Psi^0(s, \\phi), 0)"
      ]
     },
     "metadata": {},
     "output_type": "display_data"
    },
    {
     "data": {
      "text/latex": [
       "$\\displaystyle \\overline{M_{ss}}^0{\\left(s,\\phi \\right)} = 0$"
      ],
      "text/plain": [
       "Eq(\\overline{M_{ss}}^0(s, \\phi), 0)"
      ]
     },
     "metadata": {},
     "output_type": "display_data"
    },
    {
     "data": {
      "text/latex": [
       "$\\displaystyle \\overline{M_{\\phi\\phi}}^0{\\left(s,\\phi \\right)} = \\frac{2 \\gamma^{2} s^{2} H^{5}{\\left(s \\right)}}{5} + 2 \\cdot \\left(\\frac{2 \\gamma^{2} s^{4}}{3} - \\frac{2 \\gamma^{2} s^{2}}{3}\\right) H^{3}{\\left(s \\right)} + 2 \\left(\\gamma^{2} s^{6} - 2 \\gamma^{2} s^{4} + \\gamma^{2} s^{2}\\right) H{\\left(s \\right)}$"
      ],
      "text/plain": [
       "Eq(\\overline{M_{\\phi\\phi}}^0(s, \\phi), 2*\\gamma**2*s**2*H(s)**5/5 + 2*(2*\\gamma**2*s**4/3 - 2*\\gamma**2*s**2/3)*H(s)**3 + 2*(\\gamma**2*s**6 - 2*\\gamma**2*s**4 + \\gamma**2*s**2)*H(s))"
      ]
     },
     "metadata": {},
     "output_type": "display_data"
    },
    {
     "data": {
      "text/latex": [
       "$\\displaystyle \\overline{M_{s\\phi}}^0{\\left(s,\\phi \\right)} = 0$"
      ],
      "text/plain": [
       "Eq(\\overline{M_{s\\phi}}^0(s, \\phi), 0)"
      ]
     },
     "metadata": {},
     "output_type": "display_data"
    },
    {
     "data": {
      "text/latex": [
       "$\\displaystyle \\widetilde{M_{sz}}^0{\\left(s,\\phi \\right)} = 0$"
      ],
      "text/plain": [
       "Eq(\\widetilde{M_{sz}}^0(s, \\phi), 0)"
      ]
     },
     "metadata": {},
     "output_type": "display_data"
    },
    {
     "data": {
      "text/latex": [
       "$\\displaystyle \\widetilde{M_{\\phi z}}^0{\\left(s,\\phi \\right)} = 0$"
      ],
      "text/plain": [
       "Eq(\\widetilde{M_{\\phi z}}^0(s, \\phi), 0)"
      ]
     },
     "metadata": {},
     "output_type": "display_data"
    },
    {
     "data": {
      "text/latex": [
       "$\\displaystyle \\widetilde{zM_{ss}}^0{\\left(s,\\phi \\right)} = 0$"
      ],
      "text/plain": [
       "Eq(\\widetilde{zM_{ss}}^0(s, \\phi), 0)"
      ]
     },
     "metadata": {},
     "output_type": "display_data"
    },
    {
     "data": {
      "text/latex": [
       "$\\displaystyle \\widetilde{zM_{\\phi\\phi}}^0{\\left(s,\\phi \\right)} = \\frac{\\gamma^{2} s^{2} H^{6}{\\left(s \\right)}}{3} + 2 \\left(\\frac{\\gamma^{2} s^{4}}{2} - \\frac{\\gamma^{2} s^{2}}{2}\\right) H^{4}{\\left(s \\right)} + 2 \\left(\\frac{\\gamma^{2} s^{6}}{2} - \\gamma^{2} s^{4} + \\frac{\\gamma^{2} s^{2}}{2}\\right) H^{2}{\\left(s \\right)}$"
      ],
      "text/plain": [
       "Eq(\\widetilde{zM_{\\phi\\phi}}^0(s, \\phi), \\gamma**2*s**2*H(s)**6/3 + 2*(\\gamma**2*s**4/2 - \\gamma**2*s**2/2)*H(s)**4 + 2*(\\gamma**2*s**6/2 - \\gamma**2*s**4 + \\gamma**2*s**2/2)*H(s)**2)"
      ]
     },
     "metadata": {},
     "output_type": "display_data"
    },
    {
     "data": {
      "text/latex": [
       "$\\displaystyle \\widetilde{zM_{s\\phi}}^0{\\left(s,\\phi \\right)} = 0$"
      ],
      "text/plain": [
       "Eq(\\widetilde{zM_{s\\phi}}^0(s, \\phi), 0)"
      ]
     },
     "metadata": {},
     "output_type": "display_data"
    },
    {
     "data": {
      "text/latex": [
       "$\\displaystyle B_{s}^{0e}{\\left(s,\\phi \\right)} = 0$"
      ],
      "text/plain": [
       "Eq(B_{s}^{0e}(s, \\phi), 0)"
      ]
     },
     "metadata": {},
     "output_type": "display_data"
    },
    {
     "data": {
      "text/latex": [
       "$\\displaystyle B_{\\phi}^{0e}{\\left(s,\\phi \\right)} = \\gamma s H^{2}{\\left(s \\right)}$"
      ],
      "text/plain": [
       "Eq(B_{\\phi}^{0e}(s, \\phi), \\gamma*s*H(s)**2)"
      ]
     },
     "metadata": {},
     "output_type": "display_data"
    },
    {
     "data": {
      "text/latex": [
       "$\\displaystyle B_{z}^{0e}{\\left(s,\\phi \\right)} = 0$"
      ],
      "text/plain": [
       "Eq(B_{z}^{0e}(s, \\phi), 0)"
      ]
     },
     "metadata": {},
     "output_type": "display_data"
    },
    {
     "data": {
      "text/latex": [
       "$\\displaystyle B_{s, z}^{0e}{\\left(s,\\phi \\right)} = 0$"
      ],
      "text/plain": [
       "Eq(B_{s, z}^{0e}(s, \\phi), 0)"
      ]
     },
     "metadata": {},
     "output_type": "display_data"
    },
    {
     "data": {
      "text/latex": [
       "$\\displaystyle B_{\\phi, z}^{0e}{\\left(s,\\phi \\right)} = 0$"
      ],
      "text/plain": [
       "Eq(B_{\\phi, z}^{0e}(s, \\phi), 0)"
      ]
     },
     "metadata": {},
     "output_type": "display_data"
    },
    {
     "data": {
      "text/latex": [
       "$\\displaystyle B_{r1}^0{\\left(\\theta,\\phi \\right)} = 0$"
      ],
      "text/plain": [
       "Eq(B_{r1}^0(\\theta, \\phi), 0)"
      ]
     },
     "metadata": {},
     "output_type": "display_data"
    },
    {
     "data": {
      "text/latex": [
       "$\\displaystyle B_s^{0+}{\\left(s,\\phi \\right)} = 0$"
      ],
      "text/plain": [
       "Eq(B_s^{0+}(s, \\phi), 0)"
      ]
     },
     "metadata": {},
     "output_type": "display_data"
    },
    {
     "data": {
      "text/latex": [
       "$\\displaystyle B_\\phi^{0+}{\\left(s,\\phi \\right)} = 0$"
      ],
      "text/plain": [
       "Eq(B_\\phi^{0+}(s, \\phi), 0)"
      ]
     },
     "metadata": {},
     "output_type": "display_data"
    },
    {
     "data": {
      "text/latex": [
       "$\\displaystyle B_z^{0+}{\\left(s,\\phi \\right)} = 0$"
      ],
      "text/plain": [
       "Eq(B_z^{0+}(s, \\phi), 0)"
      ]
     },
     "metadata": {},
     "output_type": "display_data"
    },
    {
     "data": {
      "text/latex": [
       "$\\displaystyle B_s^{0-}{\\left(s,\\phi \\right)} = 0$"
      ],
      "text/plain": [
       "Eq(B_s^{0-}(s, \\phi), 0)"
      ]
     },
     "metadata": {},
     "output_type": "display_data"
    },
    {
     "data": {
      "text/latex": [
       "$\\displaystyle B_\\phi^{0-}{\\left(s,\\phi \\right)} = 0$"
      ],
      "text/plain": [
       "Eq(B_\\phi^{0-}(s, \\phi), 0)"
      ]
     },
     "metadata": {},
     "output_type": "display_data"
    },
    {
     "data": {
      "text/latex": [
       "$\\displaystyle B_z^{0-}{\\left(s,\\phi \\right)} = 0$"
      ],
      "text/plain": [
       "Eq(B_z^{0-}(s, \\phi), 0)"
      ]
     },
     "metadata": {},
     "output_type": "display_data"
    }
   ],
   "source": [
    "bg_pg = base_utils.assemble_background(bg_cfg.B0_val)\n",
    "bg_pg.apply(lambda expr: expr.subs({core.H_s: core.H, core.H_s**2: core.H**2}), inplace=True)\n",
    "display_equality(core.pgvar_bg, bg_pg)"
   ]
  },
  {
   "cell_type": "code",
   "execution_count": null,
   "id": "ab2160db-336f-4e4c-9139-82a6a4fd422d",
   "metadata": {},
   "outputs": [],
   "source": [
    "bg_placeholders = base.map_collection(core.pgvar_bg, base_utils.extract_symbols(core.pgvar_bg))\n",
    "placeholder_h = {core.H: sp.Symbol(\"H\")}\n",
    "for fname in bg_pg._field_names:\n",
    "    if fname == \"Br_b\":\n",
    "        continue\n",
    "    o_str = sp.latex(sp.Eq(core.pgvar_bg[fname].subs(bg_placeholders), bg_pg[fname].subs(placeholder_h)))\n",
    "    print(o_str)"
   ]
  },
  {
   "cell_type": "markdown",
   "id": "47043669-2bbc-46b3-af99-5a83e5f8f4d6",
   "metadata": {},
   "source": [
    "---\n",
    "## Equations"
   ]
  },
  {
   "cell_type": "markdown",
   "id": "151feddc-8943-4788-94fb-ba0e64b59d8a",
   "metadata": {},
   "source": [
    "### PG system"
   ]
  },
  {
   "cell_type": "code",
   "execution_count": 2,
   "id": "1a80b5d7-2120-4054-8920-1724053bb89a",
   "metadata": {},
   "outputs": [],
   "source": [
    "# eqs_file = \"./out/eigen/Toroidal_Quadrupole/eqs_pg.json\"\n",
    "eqs_file = \"./out/eigen/Poloidal_Dipole/eqs_pg.json\"\n",
    "with open(eqs_file, 'r') as fread:\n",
    "    eqs_pg = base.CollectionPG.deserialize(json.load(fread)[\"equations\"], parser=sp.parse_expr)"
   ]
  },
  {
   "cell_type": "markdown",
   "id": "4dea1f6c-8be1-441c-8d61-d6b157f8f41f",
   "metadata": {},
   "source": [
    "Convert to ODE in cylindrical radius $s$ (equiv. convert to frequency-wavenumber domain)"
   ]
  },
  {
   "cell_type": "code",
   "execution_count": 8,
   "id": "e3d50c69-1b30-428d-8c33-e6604fe0d8a2",
   "metadata": {},
   "outputs": [],
   "source": [
    "ode_s_fd = eigen.to_fd_ode_pg(eqs_pg, core.pgvar_ptb)"
   ]
  },
  {
   "cell_type": "markdown",
   "id": "5299fc00-5e2c-4939-846f-c6ff427c0752",
   "metadata": {},
   "source": [
    "Some further manipulations before output"
   ]
  },
  {
   "cell_type": "code",
   "execution_count": 11,
   "id": "e32b04ef-56bf-4c03-9021-4265048d95da",
   "metadata": {},
   "outputs": [
    {
     "data": {
      "text/latex": [
       "$\\displaystyle - \\frac{i \\omega m^{2} s \\Psi^{m}{\\left(s \\right)}}{2 H^{3}{\\left(s \\right)}} - \\frac{i \\omega m^{2} \\Psi^{m}{\\left(s \\right)}}{s H{\\left(s \\right)}} + \\frac{i \\omega s^{2} \\frac{d}{d s} \\Psi^{m}{\\left(s \\right)}}{H^{3}{\\left(s \\right)}} + \\frac{i \\omega s \\frac{d^{2}}{d s^{2}} \\Psi^{m}{\\left(s \\right)}}{H{\\left(s \\right)}} + \\frac{i \\omega \\frac{d}{d s} \\Psi^{m}{\\left(s \\right)}}{H{\\left(s \\right)}} = \\frac{m^{2} \\widetilde{M_{\\phi z}}^{m}{\\left(s \\right)}}{2 H^{2}{\\left(s \\right)}} - \\frac{m^{2} \\overline{M_{s\\phi}}^{m}{\\left(s \\right)}}{2 s H{\\left(s \\right)}} + \\frac{4 i m s \\left(6 s^{2} - 5\\right) B_{z}^{em}{\\left(s \\right)}}{H^{2}{\\left(s \\right)}} + \\frac{i m s B_z^{+m}{\\left(s \\right)}}{H^{2}{\\left(s \\right)}} + \\frac{i m s B_z^{-m}{\\left(s \\right)}}{H^{2}{\\left(s \\right)}} - \\frac{i m s \\frac{d}{d s} \\widetilde{M_{sz}}^{m}{\\left(s \\right)}}{2 H^{2}{\\left(s \\right)}} + \\frac{i m \\left(- H^{2}{\\left(s \\right)} - 1\\right) B_s^{+m}{\\left(s \\right)}}{H^{3}{\\left(s \\right)}} - \\frac{i m \\left(- H^{2}{\\left(s \\right)} - 1\\right) B_s^{-m}{\\left(s \\right)}}{H^{3}{\\left(s \\right)}} - \\frac{i m \\frac{d}{d s} \\overline{M_{\\phi\\phi}}^{m}{\\left(s \\right)}}{2 H{\\left(s \\right)}} + \\frac{i m \\frac{d}{d s} \\overline{M_{ss}}^{m}{\\left(s \\right)}}{2 H{\\left(s \\right)}} - \\frac{i m \\widetilde{M_{sz}}^{m}{\\left(s \\right)}}{2 H^{2}{\\left(s \\right)}} - \\frac{i m \\overline{M_{\\phi\\phi}}^{m}{\\left(s \\right)}}{2 s H{\\left(s \\right)}} + \\frac{i m \\overline{M_{ss}}^{m}{\\left(s \\right)}}{2 s H{\\left(s \\right)}} - \\frac{2 s^{2} \\cdot \\left(6 s^{2} - 5\\right) B_{\\phi, z}^{em}{\\left(s \\right)}}{H^{2}{\\left(s \\right)}} + \\frac{2 s \\frac{d}{d s} B_\\phi^{+m}{\\left(s \\right)}}{H{\\left(s \\right)}} - \\frac{2 s \\frac{d}{d s} B_\\phi^{-m}{\\left(s \\right)}}{H{\\left(s \\right)}} - \\frac{s \\frac{d^{2}}{d s^{2}} \\overline{M_{s\\phi}}^{m}{\\left(s \\right)}}{2 H{\\left(s \\right)}} + \\frac{2 B_\\phi^{+m}{\\left(s \\right)}}{H{\\left(s \\right)}} - \\frac{2 B_\\phi^{-m}{\\left(s \\right)}}{H{\\left(s \\right)}} - \\frac{3 \\frac{d}{d s} \\overline{M_{s\\phi}}^{m}{\\left(s \\right)}}{2 H{\\left(s \\right)}} + \\frac{2 i m s \\Psi^{m}{\\left(s \\right)}}{\\mathrm{Le} H^{3}{\\left(s \\right)}}$"
      ],
      "text/plain": [
       "Eq(-I*\\omega*m**2*s*\\Psi^{m}(s)/(2*H(s)**3) - I*\\omega*m**2*\\Psi^{m}(s)/(s*H(s)) + I*\\omega*s**2*Derivative(\\Psi^{m}(s), s)/H(s)**3 + I*\\omega*s*Derivative(\\Psi^{m}(s), (s, 2))/H(s) + I*\\omega*Derivative(\\Psi^{m}(s), s)/H(s), m**2*\\widetilde{M_{\\phi z}}^{m}(s)/(2*H(s)**2) - m**2*\\overline{M_{s\\phi}}^{m}(s)/(2*s*H(s)) + 4*I*m*s*(6*s**2 - 5)*B_{z}^{em}(s)/H(s)**2 + I*m*s*B_z^{+m}(s)/H(s)**2 + I*m*s*B_z^{-m}(s)/H(s)**2 - I*m*s*Derivative(\\widetilde{M_{sz}}^{m}(s), s)/(2*H(s)**2) + I*m*(-H(s)**2 - 1)*B_s^{+m}(s)/H(s)**3 - I*m*(-H(s)**2 - 1)*B_s^{-m}(s)/H(s)**3 - I*m*Derivative(\\overline{M_{\\phi\\phi}}^{m}(s), s)/(2*H(s)) + I*m*Derivative(\\overline{M_{ss}}^{m}(s), s)/(2*H(s)) - I*m*\\widetilde{M_{sz}}^{m}(s)/(2*H(s)**2) - I*m*\\overline{M_{\\phi\\phi}}^{m}(s)/(2*s*H(s)) + I*m*\\overline{M_{ss}}^{m}(s)/(2*s*H(s)) - 2*s**2*(6*s**2 - 5)*B_{\\phi, z}^{em}(s)/H(s)**2 + 2*s*Derivative(B_\\phi^{+m}(s), s)/H(s) - 2*s*Derivative(B_\\phi^{-m}(s), s)/H(s) - s*Derivative(\\overline{M_{s\\phi}}^{m}(s), (s, 2))/(2*H(s)) + 2*B_\\phi^{+m}(s)/H(s) - 2*B_\\phi^{-m}(s)/H(s) - 3*Derivative(\\overline{M_{s\\phi}}^{m}(s), s)/(2*H(s)) + 2*I*m*s*\\Psi^{m}(s)/(\\mathrm{Le}*H(s)**3))"
      ]
     },
     "metadata": {},
     "output_type": "display_data"
    },
    {
     "data": {
      "text/latex": [
       "$\\displaystyle i \\omega \\overline{M_{ss}}^{m}{\\left(s \\right)} = - 48 i m s \\left(s - 1\\right) \\left(s + 1\\right) \\frac{d}{d s} \\Psi^{m}{\\left(s \\right)} + 96 i m \\left(2 s^{2} - 1\\right) \\Psi^{m}{\\left(s \\right)}$"
      ],
      "text/plain": [
       "Eq(I*\\omega*\\overline{M_{ss}}^{m}(s), -48*I*m*s*(s - 1)*(s + 1)*Derivative(\\Psi^{m}(s), s) + 96*I*m*(2*s**2 - 1)*\\Psi^{m}(s))"
      ]
     },
     "metadata": {},
     "output_type": "display_data"
    },
    {
     "data": {
      "text/latex": [
       "$\\displaystyle i \\omega \\overline{M_{\\phi\\phi}}^{m}{\\left(s \\right)} = 0$"
      ],
      "text/plain": [
       "Eq(I*\\omega*\\overline{M_{\\phi\\phi}}^{m}(s), 0)"
      ]
     },
     "metadata": {},
     "output_type": "display_data"
    },
    {
     "data": {
      "text/latex": [
       "$\\displaystyle i \\omega \\overline{M_{s\\phi}}^{m}{\\left(s \\right)} = 24 s^{2} \\left(s - 1\\right) \\left(s + 1\\right) \\frac{d^{2}}{d s^{2}} \\Psi^{m}{\\left(s \\right)} - 24 s \\left(2 s^{2} - 1\\right) \\frac{d}{d s} \\Psi^{m}{\\left(s \\right)}$"
      ],
      "text/plain": [
       "Eq(I*\\omega*\\overline{M_{s\\phi}}^{m}(s), 24*s**2*(s - 1)*(s + 1)*Derivative(\\Psi^{m}(s), (s, 2)) - 24*s*(2*s**2 - 1)*Derivative(\\Psi^{m}(s), s))"
      ]
     },
     "metadata": {},
     "output_type": "display_data"
    },
    {
     "data": {
      "text/latex": [
       "$\\displaystyle i \\omega \\widetilde{M_{sz}}^{m}{\\left(s \\right)} = \\frac{6 i m \\left(s - 1\\right) \\left(s + 1\\right) \\left(12 s^{2} - 7\\right) \\frac{d}{d s} \\Psi^{m}{\\left(s \\right)}}{H{\\left(s \\right)}} - \\frac{6 i m \\left(3 s^{2} - 2\\right) \\left(18 s^{2} - 7\\right) \\Psi^{m}{\\left(s \\right)}}{s H{\\left(s \\right)}}$"
      ],
      "text/plain": [
       "Eq(I*\\omega*\\widetilde{M_{sz}}^{m}(s), 6*I*m*(s - 1)*(s + 1)*(12*s**2 - 7)*Derivative(\\Psi^{m}(s), s)/H(s) - 6*I*m*(3*s**2 - 2)*(18*s**2 - 7)*\\Psi^{m}(s)/(s*H(s)))"
      ]
     },
     "metadata": {},
     "output_type": "display_data"
    },
    {
     "data": {
      "text/latex": [
       "$\\displaystyle i \\omega \\widetilde{M_{\\phi z}}^{m}{\\left(s \\right)} = 6 s \\sqrt{1 - s} \\sqrt{s + 1} \\cdot \\left(9 s^{2} - 7\\right) \\frac{d^{2}}{d s^{2}} \\Psi^{m}{\\left(s \\right)} + \\frac{6 \\cdot \\left(2 s^{2} - 1\\right) \\left(9 s^{2} - 7\\right) \\frac{d}{d s} \\Psi^{m}{\\left(s \\right)}}{H{\\left(s \\right)}}$"
      ],
      "text/plain": [
       "Eq(I*\\omega*\\widetilde{M_{\\phi z}}^{m}(s), 6*s*sqrt(1 - s)*sqrt(s + 1)*(9*s**2 - 7)*Derivative(\\Psi^{m}(s), (s, 2)) + 6*(2*s**2 - 1)*(9*s**2 - 7)*Derivative(\\Psi^{m}(s), s)/H(s))"
      ]
     },
     "metadata": {},
     "output_type": "display_data"
    },
    {
     "data": {
      "text/latex": [
       "$\\displaystyle i \\omega \\widetilde{zM_{ss}}^{m}{\\left(s \\right)} = - 36 i m s \\sqrt{1 - s} \\left(s - 1\\right) \\left(s + 1\\right)^{\\frac{3}{2}} \\frac{d}{d s} \\Psi^{m}{\\left(s \\right)} + 72 i m \\sqrt{1 - s} \\sqrt{s + 1} \\cdot \\left(2 s^{2} - 1\\right) \\Psi^{m}{\\left(s \\right)}$"
      ],
      "text/plain": [
       "Eq(I*\\omega*\\widetilde{zM_{ss}}^{m}(s), -36*I*m*s*sqrt(1 - s)*(s - 1)*(s + 1)**(3/2)*Derivative(\\Psi^{m}(s), s) + 72*I*m*sqrt(1 - s)*sqrt(s + 1)*(2*s**2 - 1)*\\Psi^{m}(s))"
      ]
     },
     "metadata": {},
     "output_type": "display_data"
    },
    {
     "data": {
      "text/latex": [
       "$\\displaystyle i \\omega \\widetilde{zM_{\\phi\\phi}}^{m}{\\left(s \\right)} = 0$"
      ],
      "text/plain": [
       "Eq(I*\\omega*\\widetilde{zM_{\\phi\\phi}}^{m}(s), 0)"
      ]
     },
     "metadata": {},
     "output_type": "display_data"
    },
    {
     "data": {
      "text/latex": [
       "$\\displaystyle i \\omega \\widetilde{zM_{\\phi s}}^{m}{\\left(s \\right)} = - 18 s^{2} \\left(1 - s\\right)^{\\frac{3}{2}} \\left(s + 1\\right)^{\\frac{3}{2}} \\frac{d^{2}}{d s^{2}} \\Psi^{m}{\\left(s \\right)} - 18 s \\sqrt{1 - s} \\sqrt{s + 1} \\cdot \\left(2 s^{2} - 1\\right) \\frac{d}{d s} \\Psi^{m}{\\left(s \\right)}$"
      ],
      "text/plain": [
       "Eq(I*\\omega*\\widetilde{zM_{\\phi s}}^{m}(s), -18*s**2*(1 - s)**(3/2)*(s + 1)**(3/2)*Derivative(\\Psi^{m}(s), (s, 2)) - 18*s*sqrt(1 - s)*sqrt(s + 1)*(2*s**2 - 1)*Derivative(\\Psi^{m}(s), s))"
      ]
     },
     "metadata": {},
     "output_type": "display_data"
    },
    {
     "data": {
      "text/latex": [
       "$\\displaystyle i \\omega B_{s}^{em}{\\left(s \\right)} = 0$"
      ],
      "text/plain": [
       "Eq(I*\\omega*B_{s}^{em}(s), 0)"
      ]
     },
     "metadata": {},
     "output_type": "display_data"
    },
    {
     "data": {
      "text/latex": [
       "$\\displaystyle i \\omega B_{\\phi}^{em}{\\left(s \\right)} = 0$"
      ],
      "text/plain": [
       "Eq(I*\\omega*B_{\\phi}^{em}(s), 0)"
      ]
     },
     "metadata": {},
     "output_type": "display_data"
    },
    {
     "data": {
      "text/latex": [
       "$\\displaystyle i \\omega B_{z}^{em}{\\left(s \\right)} = \\frac{2 i m \\left(6 s^{2} - 7\\right) \\Psi^{m}{\\left(s \\right)}}{H^{3}{\\left(s \\right)}}$"
      ],
      "text/plain": [
       "Eq(I*\\omega*B_{z}^{em}(s), 2*I*m*(6*s**2 - 7)*\\Psi^{m}(s)/H(s)**3)"
      ]
     },
     "metadata": {},
     "output_type": "display_data"
    },
    {
     "data": {
      "text/latex": [
       "$\\displaystyle i \\omega B_{s, z}^{em}{\\left(s \\right)} = - \\frac{6 i m \\frac{d}{d s} \\Psi^{m}{\\left(s \\right)}}{H{\\left(s \\right)}} - \\frac{12 i m \\left(2 s^{2} - 1\\right) \\Psi^{m}{\\left(s \\right)}}{s H^{3}{\\left(s \\right)}}$"
      ],
      "text/plain": [
       "Eq(I*\\omega*B_{s, z}^{em}(s), -6*I*m*Derivative(\\Psi^{m}(s), s)/H(s) - 12*I*m*(2*s**2 - 1)*\\Psi^{m}(s)/(s*H(s)**3))"
      ]
     },
     "metadata": {},
     "output_type": "display_data"
    },
    {
     "data": {
      "text/latex": [
       "$\\displaystyle i \\omega B_{\\phi, z}^{em}{\\left(s \\right)} = \\frac{6 s \\frac{d^{2}}{d s^{2}} \\Psi^{m}{\\left(s \\right)}}{H{\\left(s \\right)}} + \\frac{6 \\cdot \\left(2 s^{2} - 1\\right) \\frac{d}{d s} \\Psi^{m}{\\left(s \\right)}}{H^{3}{\\left(s \\right)}}$"
      ],
      "text/plain": [
       "Eq(I*\\omega*B_{\\phi, z}^{em}(s), 6*s*Derivative(\\Psi^{m}(s), (s, 2))/H(s) + 6*(2*s**2 - 1)*Derivative(\\Psi^{m}(s), s)/H(s)**3)"
      ]
     },
     "metadata": {},
     "output_type": "display_data"
    },
    {
     "data": {
      "text/latex": [
       "$\\displaystyle e^{- i \\omega t} e^{- i \\phi m} \\frac{\\partial}{\\partial t} b_{r1}{\\left(\\theta,\\phi,t \\right)} = - \\frac{\\left(U^{0}_{\\phi}{\\left(r,\\theta,\\phi \\right)} \\frac{\\partial}{\\partial \\phi} b_{r1}{\\left(\\theta,\\phi,t \\right)} + U^{0}_{\\theta}{\\left(r,\\theta,\\phi \\right)} b_{r1}{\\left(\\theta,\\phi,t \\right)} \\cos{\\left(\\theta \\right)} + U^{0}_{\\theta}{\\left(r,\\theta,\\phi \\right)} \\sin{\\left(\\theta \\right)} \\frac{\\partial}{\\partial \\theta} b_{r1}{\\left(\\theta,\\phi,t \\right)} + b_{r1}{\\left(\\theta,\\phi,t \\right)} \\sin{\\left(\\theta \\right)} \\frac{\\partial}{\\partial \\theta} U^{0}_{\\theta}{\\left(r,\\theta,\\phi \\right)} + b_{r1}{\\left(\\theta,\\phi,t \\right)} \\frac{\\partial}{\\partial \\phi} U^{0}_{\\phi}{\\left(r,\\theta,\\phi \\right)}\\right) e^{- i \\omega t} e^{- i \\phi m}}{r \\cos{\\left(\\theta \\right)} \\tan{\\left(\\theta \\right)}}$"
      ],
      "text/plain": [
       "Eq(exp(-I*\\omega*t)*exp(-I*\\phi*m)*Derivative(b_{r1}(\\theta, \\phi, t), t), -(U_\\phi^0(r, \\theta, \\phi)*Derivative(b_{r1}(\\theta, \\phi, t), \\phi) + U_\\theta^0(r, \\theta, \\phi)*b_{r1}(\\theta, \\phi, t)*cos(\\theta) + U_\\theta^0(r, \\theta, \\phi)*sin(\\theta)*Derivative(b_{r1}(\\theta, \\phi, t), \\theta) + b_{r1}(\\theta, \\phi, t)*sin(\\theta)*Derivative(U_\\theta^0(r, \\theta, \\phi), \\theta) + b_{r1}(\\theta, \\phi, t)*Derivative(U_\\phi^0(r, \\theta, \\phi), \\phi))*exp(-I*\\omega*t)*exp(-I*\\phi*m)/(r*cos(\\theta)*tan(\\theta)))"
      ]
     },
     "metadata": {},
     "output_type": "display_data"
    },
    {
     "data": {
      "text/latex": [
       "$\\displaystyle i \\omega B_s^{+m}{\\left(s \\right)} = - 6 i m \\frac{d}{d s} \\Psi^{m}{\\left(s \\right)} - \\frac{12 i m \\left(2 s^{2} - 1\\right) \\Psi^{m}{\\left(s \\right)}}{s H^{2}{\\left(s \\right)}}$"
      ],
      "text/plain": [
       "Eq(I*\\omega*B_s^{+m}(s), -6*I*m*Derivative(\\Psi^{m}(s), s) - 12*I*m*(2*s**2 - 1)*\\Psi^{m}(s)/(s*H(s)**2))"
      ]
     },
     "metadata": {},
     "output_type": "display_data"
    },
    {
     "data": {
      "text/latex": [
       "$\\displaystyle i \\omega B_\\phi^{+m}{\\left(s \\right)} = 6 s \\frac{d^{2}}{d s^{2}} \\Psi^{m}{\\left(s \\right)} + \\frac{6 \\cdot \\left(2 s^{2} - 1\\right) \\frac{d}{d s} \\Psi^{m}{\\left(s \\right)}}{H^{2}{\\left(s \\right)}}$"
      ],
      "text/plain": [
       "Eq(I*\\omega*B_\\phi^{+m}(s), 6*s*Derivative(\\Psi^{m}(s), (s, 2)) + 6*(2*s**2 - 1)*Derivative(\\Psi^{m}(s), s)/H(s)**2)"
      ]
     },
     "metadata": {},
     "output_type": "display_data"
    },
    {
     "data": {
      "text/latex": [
       "$\\displaystyle i \\omega B_z^{+m}{\\left(s \\right)} = \\frac{6 i m s \\frac{d}{d s} \\Psi^{m}{\\left(s \\right)}}{H{\\left(s \\right)}} + \\frac{8 i m \\left(3 s^{2} - 1\\right) \\Psi^{m}{\\left(s \\right)}}{H^{3}{\\left(s \\right)}}$"
      ],
      "text/plain": [
       "Eq(I*\\omega*B_z^{+m}(s), 6*I*m*s*Derivative(\\Psi^{m}(s), s)/H(s) + 8*I*m*(3*s**2 - 1)*\\Psi^{m}(s)/H(s)**3)"
      ]
     },
     "metadata": {},
     "output_type": "display_data"
    },
    {
     "data": {
      "text/latex": [
       "$\\displaystyle i \\omega B_s^{-m}{\\left(s \\right)} = 6 i m \\frac{d}{d s} \\Psi^{m}{\\left(s \\right)} + \\frac{12 i m \\left(2 s^{2} - 1\\right) \\Psi^{m}{\\left(s \\right)}}{s H^{2}{\\left(s \\right)}}$"
      ],
      "text/plain": [
       "Eq(I*\\omega*B_s^{-m}(s), 6*I*m*Derivative(\\Psi^{m}(s), s) + 12*I*m*(2*s**2 - 1)*\\Psi^{m}(s)/(s*H(s)**2))"
      ]
     },
     "metadata": {},
     "output_type": "display_data"
    },
    {
     "data": {
      "text/latex": [
       "$\\displaystyle i \\omega B_\\phi^{-m}{\\left(s \\right)} = - 6 s \\frac{d^{2}}{d s^{2}} \\Psi^{m}{\\left(s \\right)} - \\frac{6 \\cdot \\left(2 s^{2} - 1\\right) \\frac{d}{d s} \\Psi^{m}{\\left(s \\right)}}{H^{2}{\\left(s \\right)}}$"
      ],
      "text/plain": [
       "Eq(I*\\omega*B_\\phi^{-m}(s), -6*s*Derivative(\\Psi^{m}(s), (s, 2)) - 6*(2*s**2 - 1)*Derivative(\\Psi^{m}(s), s)/H(s)**2)"
      ]
     },
     "metadata": {},
     "output_type": "display_data"
    },
    {
     "data": {
      "text/latex": [
       "$\\displaystyle i \\omega B_z^{-m}{\\left(s \\right)} = \\frac{6 i m s \\frac{d}{d s} \\Psi^{m}{\\left(s \\right)}}{H{\\left(s \\right)}} + \\frac{8 i m \\left(3 s^{2} - 1\\right) \\Psi^{m}{\\left(s \\right)}}{H^{3}{\\left(s \\right)}}$"
      ],
      "text/plain": [
       "Eq(I*\\omega*B_z^{-m}(s), 6*I*m*s*Derivative(\\Psi^{m}(s), s)/H(s) + 8*I*m*(3*s**2 - 1)*\\Psi^{m}(s)/H(s)**3)"
      ]
     },
     "metadata": {},
     "output_type": "display_data"
    }
   ],
   "source": [
    "from pg_utils.sympy_supp import simplify\n",
    "\n",
    "def common_denom_simplify(expr):\n",
    "    expr = expr.together()\n",
    "    num, denom = sp.fraction(expr)\n",
    "    num = num.subs({core.H: core.H_s}).simplify().factor().subs({core.H_s: core.H, core.H_s**2: core.H**2})\n",
    "    return num/denom\n",
    "\n",
    "# eq_grouped = simplify.recursive_collect_tree(eq_rad_std.lhs, (expansion.pgvar_s.Psi, expansion.omega))\n",
    "# simplify.process_leaf_node(eq_grouped, common_denom_simplify)\n",
    "# eq_grouped = sp.Eq(simplify.recursive_eval_tree(eq_grouped), eq_rad_std.rhs)\n",
    "\n",
    "# factor = 1/sp.I/expansion.omega\n",
    "factor = 1\n",
    "def factoring(fname, eq):\n",
    "    if fname != \"Psi\":\n",
    "        expr_grouped = (eq.rhs*factor).expand().collect([expansion.pgvar_s.Psi,], evaluate=False)\n",
    "        for term in expr_grouped:\n",
    "            expr_grouped[term] = common_denom_simplify(expr_grouped[term])\n",
    "        return sp.Eq(\n",
    "            (eq.lhs*factor).expand(), \n",
    "            # (eq.rhs*factor).expand().collect(expansion.pgvar_s.Psi)\n",
    "            factor*sp.Add(*[term*coeff for term, coeff in expr_grouped.items()])\n",
    "        )\n",
    "    else:\n",
    "        expr_grouped = (eq.rhs*factor).expand().collect([var for var in expansion.pgvar_s if var is not None], evaluate=False)\n",
    "        for term in expr_grouped:\n",
    "            expr_grouped[term] = common_denom_simplify(expr_grouped[term])\n",
    "        return sp.Eq((eq.lhs*factor).expand(), sp.Add(*[term*coeff for term, coeff in expr_grouped.items()]))\n",
    "\n",
    "ode_s_fd.apply(factoring, inplace=True, metadata=True)\n",
    "display_eq_collection(ode_s_fd)"
   ]
  },
  {
   "cell_type": "code",
   "execution_count": 14,
   "id": "4802ee28-0688-4a48-9844-ea29b4c03fdc",
   "metadata": {},
   "outputs": [
    {
     "data": {
      "text/latex": [
       "$\\displaystyle - \\frac{i \\omega m^{2} \\psi}{H s} + \\frac{i \\omega s \\frac{d^{2}}{d s^{2}} \\psi}{H} + \\frac{i \\omega \\frac{d}{d s} \\psi}{H} - \\frac{i \\omega m^{2} s \\psi}{2 H^{3}} + \\frac{i \\omega s^{2} \\frac{d}{d s} \\psi}{H^{3}} = - \\frac{m^{2} \\overline{m_{s\\phi}}}{2 H s} - \\frac{i m \\frac{d}{d s} \\overline{m_{\\phi\\phi}}}{2 H} + \\frac{i m \\frac{d}{d s} \\overline{m_{ss}}}{2 H} - \\frac{i m \\overline{m_{\\phi\\phi}}}{2 H s} + \\frac{i m \\overline{m_{ss}}}{2 H s} + \\frac{2 s \\frac{d}{d s} b^{+}_{\\phi}}{H} - \\frac{2 s \\frac{d}{d s} b^{-}_{\\phi}}{H} - \\frac{s \\frac{d^{2}}{d s^{2}} \\overline{m_{s\\phi}}}{2 H} + \\frac{2 b^{+}_{\\phi}}{H} - \\frac{2 b^{-}_{\\phi}}{H} - \\frac{3 \\frac{d}{d s} \\overline{m_{s\\phi}}}{2 H} + \\frac{m^{2} \\widetilde{m_{\\phi z}}}{2 H^{2}} + \\frac{4 i m s \\left(6 s^{2} - 5\\right) b_{z}^e}{H^{2}} + \\frac{i m s b^{+}_{z}}{H^{2}} + \\frac{i m s b^{-}_{z}}{H^{2}} - \\frac{i m s \\frac{d}{d s} \\widetilde{m_{sz}}}{2 H^{2}} - \\frac{i m \\widetilde{m_{sz}}}{2 H^{2}} - \\frac{2 s^{2} \\cdot \\left(6 s^{2} - 5\\right) b_{\\phi, z}^e}{H^{2}} + \\frac{i m \\left(- H^{2} - 1\\right) b^{+}_{s}}{H^{3}} - \\frac{i m \\left(- H^{2} - 1\\right) b^{-}_{s}}{H^{3}} + \\frac{2 i m s \\psi}{H^{3} \\mathrm{Le}}$"
      ],
      "text/plain": [
       "<IPython.core.display.Math object>"
      ]
     },
     "metadata": {},
     "output_type": "display_data"
    },
    {
     "data": {
      "text/latex": [
       "$\\displaystyle i \\omega \\overline{m_{ss}} = - 48 i m s \\left(s - 1\\right) \\left(s + 1\\right) \\frac{d}{d s} \\psi + 96 i m \\left(2 s^{2} - 1\\right) \\psi$"
      ],
      "text/plain": [
       "<IPython.core.display.Math object>"
      ]
     },
     "metadata": {},
     "output_type": "display_data"
    },
    {
     "data": {
      "text/latex": [
       "$\\displaystyle i \\omega \\overline{m_{\\phi\\phi}} = 0$"
      ],
      "text/plain": [
       "<IPython.core.display.Math object>"
      ]
     },
     "metadata": {},
     "output_type": "display_data"
    },
    {
     "data": {
      "text/latex": [
       "$\\displaystyle i \\omega \\overline{m_{s\\phi}} = 24 s^{2} \\left(s - 1\\right) \\left(s + 1\\right) \\frac{d^{2}}{d s^{2}} \\psi - 24 s \\left(2 s^{2} - 1\\right) \\frac{d}{d s} \\psi$"
      ],
      "text/plain": [
       "<IPython.core.display.Math object>"
      ]
     },
     "metadata": {},
     "output_type": "display_data"
    },
    {
     "data": {
      "text/latex": [
       "$\\displaystyle i \\omega \\widetilde{m_{sz}} = \\frac{6 i m \\left(s - 1\\right) \\left(s + 1\\right) \\left(12 s^{2} - 7\\right) \\frac{d}{d s} \\psi}{H} - \\frac{6 i m \\left(3 s^{2} - 2\\right) \\left(18 s^{2} - 7\\right) \\psi}{H s}$"
      ],
      "text/plain": [
       "<IPython.core.display.Math object>"
      ]
     },
     "metadata": {},
     "output_type": "display_data"
    },
    {
     "data": {
      "text/latex": [
       "$\\displaystyle i \\omega \\widetilde{m_{\\phi z}} = 6 s \\sqrt{1 - s} \\sqrt{s + 1} \\cdot \\left(9 s^{2} - 7\\right) \\frac{d^{2}}{d s^{2}} \\psi + \\frac{6 \\cdot \\left(2 s^{2} - 1\\right) \\left(9 s^{2} - 7\\right) \\frac{d}{d s} \\psi}{H}$"
      ],
      "text/plain": [
       "<IPython.core.display.Math object>"
      ]
     },
     "metadata": {},
     "output_type": "display_data"
    },
    {
     "data": {
      "text/latex": [
       "$\\displaystyle i \\omega \\widetilde{zm_{ss}} = - 36 i m s \\sqrt{1 - s} \\left(s - 1\\right) \\left(s + 1\\right)^{\\frac{3}{2}} \\frac{d}{d s} \\psi + 72 i m \\sqrt{1 - s} \\sqrt{s + 1} \\cdot \\left(2 s^{2} - 1\\right) \\psi$"
      ],
      "text/plain": [
       "<IPython.core.display.Math object>"
      ]
     },
     "metadata": {},
     "output_type": "display_data"
    },
    {
     "data": {
      "text/latex": [
       "$\\displaystyle i \\omega \\widetilde{zm_{\\phi\\phi}} = 0$"
      ],
      "text/plain": [
       "<IPython.core.display.Math object>"
      ]
     },
     "metadata": {},
     "output_type": "display_data"
    },
    {
     "data": {
      "text/latex": [
       "$\\displaystyle i \\omega \\widetilde{zm_{s\\phi}} = - 18 s^{2} \\left(1 - s\\right)^{\\frac{3}{2}} \\left(s + 1\\right)^{\\frac{3}{2}} \\frac{d^{2}}{d s^{2}} \\psi - 18 s \\sqrt{1 - s} \\sqrt{s + 1} \\cdot \\left(2 s^{2} - 1\\right) \\frac{d}{d s} \\psi$"
      ],
      "text/plain": [
       "<IPython.core.display.Math object>"
      ]
     },
     "metadata": {},
     "output_type": "display_data"
    },
    {
     "data": {
      "text/latex": [
       "$\\displaystyle i \\omega b_{s}^e = 0$"
      ],
      "text/plain": [
       "<IPython.core.display.Math object>"
      ]
     },
     "metadata": {},
     "output_type": "display_data"
    },
    {
     "data": {
      "text/latex": [
       "$\\displaystyle i \\omega b_{\\phi}^e = 0$"
      ],
      "text/plain": [
       "<IPython.core.display.Math object>"
      ]
     },
     "metadata": {},
     "output_type": "display_data"
    },
    {
     "data": {
      "text/latex": [
       "$\\displaystyle i \\omega b_{z}^e = \\frac{2 i m \\left(6 s^{2} - 7\\right) \\psi}{H^{3}}$"
      ],
      "text/plain": [
       "<IPython.core.display.Math object>"
      ]
     },
     "metadata": {},
     "output_type": "display_data"
    },
    {
     "data": {
      "text/latex": [
       "$\\displaystyle i \\omega b_{s, z}^e = - \\frac{6 i m \\frac{d}{d s} \\psi}{H} - \\frac{12 i m \\left(2 s^{2} - 1\\right) \\psi}{H^{3} s}$"
      ],
      "text/plain": [
       "<IPython.core.display.Math object>"
      ]
     },
     "metadata": {},
     "output_type": "display_data"
    },
    {
     "data": {
      "text/latex": [
       "$\\displaystyle i \\omega b_{\\phi, z}^e = \\frac{6 s \\frac{d^{2}}{d s^{2}} \\psi}{H} + \\frac{6 \\cdot \\left(2 s^{2} - 1\\right) \\frac{d}{d s} \\psi}{H^{3}}$"
      ],
      "text/plain": [
       "<IPython.core.display.Math object>"
      ]
     },
     "metadata": {},
     "output_type": "display_data"
    },
    {
     "data": {
      "text/latex": [
       "$\\displaystyle i \\omega b^{+}_{s} = - 6 i m \\frac{d}{d s} \\psi - \\frac{12 i m \\left(2 s^{2} - 1\\right) \\psi}{H^{2} s}$"
      ],
      "text/plain": [
       "<IPython.core.display.Math object>"
      ]
     },
     "metadata": {},
     "output_type": "display_data"
    },
    {
     "data": {
      "text/latex": [
       "$\\displaystyle i \\omega b^{+}_{\\phi} = 6 s \\frac{d^{2}}{d s^{2}} \\psi + \\frac{6 \\cdot \\left(2 s^{2} - 1\\right) \\frac{d}{d s} \\psi}{H^{2}}$"
      ],
      "text/plain": [
       "<IPython.core.display.Math object>"
      ]
     },
     "metadata": {},
     "output_type": "display_data"
    },
    {
     "data": {
      "text/latex": [
       "$\\displaystyle i \\omega b^{+}_{z} = \\frac{6 i m s \\frac{d}{d s} \\psi}{H} + \\frac{8 i m \\left(3 s^{2} - 1\\right) \\psi}{H^{3}}$"
      ],
      "text/plain": [
       "<IPython.core.display.Math object>"
      ]
     },
     "metadata": {},
     "output_type": "display_data"
    },
    {
     "data": {
      "text/latex": [
       "$\\displaystyle i \\omega b^{-}_{s} = 6 i m \\frac{d}{d s} \\psi + \\frac{12 i m \\left(2 s^{2} - 1\\right) \\psi}{H^{2} s}$"
      ],
      "text/plain": [
       "<IPython.core.display.Math object>"
      ]
     },
     "metadata": {},
     "output_type": "display_data"
    },
    {
     "data": {
      "text/latex": [
       "$\\displaystyle i \\omega b^{-}_{\\phi} = - 6 s \\frac{d^{2}}{d s^{2}} \\psi - \\frac{6 \\cdot \\left(2 s^{2} - 1\\right) \\frac{d}{d s} \\psi}{H^{2}}$"
      ],
      "text/plain": [
       "<IPython.core.display.Math object>"
      ]
     },
     "metadata": {},
     "output_type": "display_data"
    },
    {
     "data": {
      "text/latex": [
       "$\\displaystyle i \\omega b^{-}_{z} = \\frac{6 i m s \\frac{d}{d s} \\psi}{H} + \\frac{8 i m \\left(3 s^{2} - 1\\right) \\psi}{H^{3}}$"
      ],
      "text/plain": [
       "<IPython.core.display.Math object>"
      ]
     },
     "metadata": {},
     "output_type": "display_data"
    }
   ],
   "source": [
    "placeholders_map = base.map_collection(expansion.pgvar_s, base_utils.extract_symbols(core.pgvar_ptb))\n",
    "placeholder_h = {core.H: sp.Symbol(\"H\")}\n",
    "for fname in ode_s_fd._field_names:\n",
    "    if fname == \"Br_b\":\n",
    "        continue\n",
    "    o_str = sp.latex(ode_s_fd[fname].subs(placeholder_h))\n",
    "    for var_old, var_new in placeholders_map.items():\n",
    "        o_str = o_str.replace(sp.latex(var_old), sp.latex(var_new))\n",
    "    # print(o_str)\n",
    "    display(Math(o_str))"
   ]
  },
  {
   "cell_type": "markdown",
   "id": "92d0de5d-cf50-48a4-88e9-bb40d54be910",
   "metadata": {},
   "source": [
    "Convert directly to reduced form in Fourier domain"
   ]
  },
  {
   "cell_type": "code",
   "execution_count": 14,
   "id": "2576b3d1-d23d-4916-b054-5a6652ec8219",
   "metadata": {},
   "outputs": [
    {
     "data": {
      "text/latex": [
       "$\\displaystyle \\frac{i \\gamma^{2} m^{4} s^{5} \\Psi^{m}{\\left(s \\right)}}{6 \\omega H^{3}{\\left(s \\right)}} + \\frac{8 i \\gamma^{2} m^{4} s^{3} \\Psi^{m}{\\left(s \\right)}}{15 \\omega H{\\left(s \\right)}} - \\frac{i \\gamma^{2} m^{4} s^{3} \\Psi^{m}{\\left(s \\right)}}{3 \\omega H^{3}{\\left(s \\right)}} - \\frac{16 i \\gamma^{2} m^{4} s \\Psi^{m}{\\left(s \\right)}}{15 \\omega H{\\left(s \\right)}} + \\frac{i \\gamma^{2} m^{4} s \\Psi^{m}{\\left(s \\right)}}{6 \\omega H^{3}{\\left(s \\right)}} + \\frac{8 i \\gamma^{2} m^{4} \\Psi^{m}{\\left(s \\right)}}{15 \\omega s H{\\left(s \\right)}} - \\frac{8 i \\gamma^{2} m^{2} s^{5} \\frac{d^{2}}{d s^{2}} \\Psi^{m}{\\left(s \\right)}}{15 \\omega H{\\left(s \\right)}} - \\frac{5 i \\gamma^{2} m^{2} s^{4} \\frac{d}{d s} \\Psi^{m}{\\left(s \\right)}}{3 \\omega H{\\left(s \\right)}} - \\frac{4 i \\gamma^{2} m^{2} s^{3} \\sqrt{1 - s} \\sqrt{s + 1} \\Psi^{m}{\\left(s \\right)}}{\\omega H^{2}{\\left(s \\right)}} + \\frac{62 i \\gamma^{2} m^{2} s^{3} \\Psi^{m}{\\left(s \\right)}}{15 \\omega H{\\left(s \\right)}} + \\frac{16 i \\gamma^{2} m^{2} s^{3} \\frac{d^{2}}{d s^{2}} \\Psi^{m}{\\left(s \\right)}}{15 \\omega H{\\left(s \\right)}} + \\frac{11 i \\gamma^{2} m^{2} s^{2} \\frac{d}{d s} \\Psi^{m}{\\left(s \\right)}}{5 \\omega H{\\left(s \\right)}} + \\frac{2 i \\gamma^{2} m^{2} s \\sqrt{1 - s} \\sqrt{s + 1} \\Psi^{m}{\\left(s \\right)}}{\\omega H^{2}{\\left(s \\right)}} - \\frac{32 i \\gamma^{2} m^{2} s \\Psi^{m}{\\left(s \\right)}}{15 \\omega H{\\left(s \\right)}} - \\frac{8 i \\gamma^{2} m^{2} s \\frac{d^{2}}{d s^{2}} \\Psi^{m}{\\left(s \\right)}}{15 \\omega H{\\left(s \\right)}} - \\frac{8 i \\gamma^{2} m^{2} \\frac{d}{d s} \\Psi^{m}{\\left(s \\right)}}{15 \\omega H{\\left(s \\right)}} - \\frac{i \\omega m^{2} s \\Psi^{m}{\\left(s \\right)}}{2 H^{3}{\\left(s \\right)}} - \\frac{i \\omega m^{2} \\Psi^{m}{\\left(s \\right)}}{s H{\\left(s \\right)}} + \\frac{i \\omega s^{2} \\frac{d}{d s} \\Psi^{m}{\\left(s \\right)}}{H^{3}{\\left(s \\right)}} + \\frac{i \\omega s \\frac{d^{2}}{d s^{2}} \\Psi^{m}{\\left(s \\right)}}{H{\\left(s \\right)}} + \\frac{i \\omega \\frac{d}{d s} \\Psi^{m}{\\left(s \\right)}}{H{\\left(s \\right)}} - \\frac{2 i m s \\Psi^{m}{\\left(s \\right)}}{\\mathrm{Le} H^{3}{\\left(s \\right)}}$"
      ],
      "text/plain": [
       "I*\\gamma**2*m**4*s**5*\\Psi^{m}(s)/(6*\\omega*H(s)**3) + 8*I*\\gamma**2*m**4*s**3*\\Psi^{m}(s)/(15*\\omega*H(s)) - I*\\gamma**2*m**4*s**3*\\Psi^{m}(s)/(3*\\omega*H(s)**3) - 16*I*\\gamma**2*m**4*s*\\Psi^{m}(s)/(15*\\omega*H(s)) + I*\\gamma**2*m**4*s*\\Psi^{m}(s)/(6*\\omega*H(s)**3) + 8*I*\\gamma**2*m**4*\\Psi^{m}(s)/(15*\\omega*s*H(s)) - 8*I*\\gamma**2*m**2*s**5*Derivative(\\Psi^{m}(s), (s, 2))/(15*\\omega*H(s)) - 5*I*\\gamma**2*m**2*s**4*Derivative(\\Psi^{m}(s), s)/(3*\\omega*H(s)) - 4*I*\\gamma**2*m**2*s**3*sqrt(1 - s)*sqrt(s + 1)*\\Psi^{m}(s)/(\\omega*H(s)**2) + 62*I*\\gamma**2*m**2*s**3*\\Psi^{m}(s)/(15*\\omega*H(s)) + 16*I*\\gamma**2*m**2*s**3*Derivative(\\Psi^{m}(s), (s, 2))/(15*\\omega*H(s)) + 11*I*\\gamma**2*m**2*s**2*Derivative(\\Psi^{m}(s), s)/(5*\\omega*H(s)) + 2*I*\\gamma**2*m**2*s*sqrt(1 - s)*sqrt(s + 1)*\\Psi^{m}(s)/(\\omega*H(s)**2) - 32*I*\\gamma**2*m**2*s*\\Psi^{m}(s)/(15*\\omega*H(s)) - 8*I*\\gamma**2*m**2*s*Derivative(\\Psi^{m}(s), (s, 2))/(15*\\omega*H(s)) - 8*I*\\gamma**2*m**2*Derivative(\\Psi^{m}(s), s)/(15*\\omega*H(s)) - I*\\omega*m**2*s*\\Psi^{m}(s)/(2*H(s)**3) - I*\\omega*m**2*\\Psi^{m}(s)/(s*H(s)) + I*\\omega*s**2*Derivative(\\Psi^{m}(s), s)/H(s)**3 + I*\\omega*s*Derivative(\\Psi^{m}(s), (s, 2))/H(s) + I*\\omega*Derivative(\\Psi^{m}(s), s)/H(s) - 2*I*m*s*\\Psi^{m}(s)/(\\mathrm{Le}*H(s)**3)"
      ]
     },
     "execution_count": 14,
     "metadata": {},
     "output_type": "execute_result"
    }
   ],
   "source": [
    "reduce_map = {expansion.pgvar_s[fname]: ode_s_fd[fname].rhs if fname not in (\"Bp_p\", \"Bp_m\") else sp.S.Zero for fname in ode_s_fd._field_names if fname not in (\"Psi\", \"Br_b\")}\n",
    "ode_psi = sp.Eq((ode_s_fd.Psi.lhs - ode_s_fd.Psi.rhs.subs(reduce_map)).subs({core.H: core.H_s}).doit().subs({core.H_s: core.H, core.H_s**2: core.H**2}).expand(), sp.S.Zero)\n",
    "(ode_psi.lhs*sp.I*expansion.omega).expand()"
   ]
  },
  {
   "cell_type": "code",
   "execution_count": 15,
   "id": "6f812288-84f0-4233-94de-abd875d5b5da",
   "metadata": {},
   "outputs": [
    {
     "data": {
      "text/latex": [
       "$\\displaystyle \\left(- \\frac{8 \\gamma^{2} m^{2} s \\left(s - 1\\right)^{2} \\left(s + 1\\right)^{2}}{15 H{\\left(s \\right)}} + \\frac{\\omega^{2} s}{H{\\left(s \\right)}}\\right) \\frac{d^{2}}{d s^{2}} \\Psi^{m}{\\left(s \\right)} + \\left(- \\frac{\\gamma^{2} m^{2} \\left(s - 1\\right) \\left(s + 1\\right) \\left(25 s^{2} - 8\\right)}{15 H{\\left(s \\right)}} + \\frac{\\omega^{2}}{H^{3}{\\left(s \\right)}}\\right) \\frac{d}{d s} \\Psi^{m}{\\left(s \\right)} + \\left(- \\frac{\\gamma^{2} m^{4} \\left(s - 1\\right)^{2} \\left(s + 1\\right)^{2} \\cdot \\left(11 s^{2} - 16\\right)}{30 s H^{3}{\\left(s \\right)}} - \\frac{2 \\gamma^{2} m^{2} s \\left(1 - s\\right)^{\\frac{3}{2}} \\left(s + 1\\right)^{\\frac{3}{2}}}{15 H^{2}{\\left(s \\right)}} + \\frac{\\omega^{2} m^{2} \\left(- H^{2}{\\left(s \\right)} - 1\\right)}{2 s H^{3}{\\left(s \\right)}} - \\frac{2 \\omega m s}{\\mathrm{Le} H^{3}{\\left(s \\right)}}\\right) \\Psi^{m}{\\left(s \\right)} = 0$"
      ],
      "text/plain": [
       "Eq((-8*\\gamma**2*m**2*s*(s - 1)**2*(s + 1)**2/(15*H(s)) + \\omega**2*s/H(s))*Derivative(\\Psi^{m}(s), (s, 2)) + (-\\gamma**2*m**2*(s - 1)*(s + 1)*(25*s**2 - 8)/(15*H(s)) + \\omega**2/H(s)**3)*Derivative(\\Psi^{m}(s), s) + (-\\gamma**2*m**4*(s - 1)**2*(s + 1)**2*(11*s**2 - 16)/(30*s*H(s)**3) - 2*\\gamma**2*m**2*s*(1 - s)**(3/2)*(s + 1)**(3/2)/(15*H(s)**2) + \\omega**2*m**2*(-H(s)**2 - 1)/(2*s*H(s)**3) - 2*\\omega*m*s/(\\mathrm{Le}*H(s)**3))*\\Psi^{m}(s), 0)"
      ]
     },
     "execution_count": 15,
     "metadata": {},
     "output_type": "execute_result"
    }
   ],
   "source": [
    "def common_denom_simplify(expr):\n",
    "    expr = expr.together()\n",
    "    num, denom = sp.fraction(expr)\n",
    "    num = num.subs({core.H: core.H_s}).simplify().factor().subs({core.H_s: core.H, core.H_s**2: core.H**2}).collect(expansion.m)\n",
    "    return num/denom.factor()\n",
    "\n",
    "eq_grouped = simplify.recursive_collect_tree((ode_psi.lhs*expansion.omega**2).expand(), (expansion.pgvar_s.Psi, expansion.omega, expansion.m))\n",
    "simplify.process_leaf_node(eq_grouped, common_denom_simplify)\n",
    "eq_grouped = sp.Eq(simplify.recursive_eval_tree(eq_grouped), ode_psi.rhs)\n",
    "eq_grouped"
   ]
  },
  {
   "cell_type": "code",
   "execution_count": 80,
   "id": "81b99d9e-9e95-46c9-9a55-5d858933d905",
   "metadata": {},
   "outputs": [
    {
     "data": {
      "text/latex": [
       "$\\displaystyle \\left(- \\frac{8 \\gamma^{2} m^{2} s^{5}}{- 8 \\gamma^{2} m^{2} s^{5} + 16 \\gamma^{2} m^{2} s^{3} - 8 \\gamma^{2} m^{2} s + 15 \\omega^{2} s} + \\frac{16 \\gamma^{2} m^{2} s^{3}}{- 8 \\gamma^{2} m^{2} s^{5} + 16 \\gamma^{2} m^{2} s^{3} - 8 \\gamma^{2} m^{2} s + 15 \\omega^{2} s} - \\frac{8 \\gamma^{2} m^{2} s}{- 8 \\gamma^{2} m^{2} s^{5} + 16 \\gamma^{2} m^{2} s^{3} - 8 \\gamma^{2} m^{2} s + 15 \\omega^{2} s} + \\frac{15 \\omega^{2} s}{- 8 \\gamma^{2} m^{2} s^{5} + 16 \\gamma^{2} m^{2} s^{3} - 8 \\gamma^{2} m^{2} s + 15 \\omega^{2} s}\\right) \\frac{d^{2}}{d s^{2}} \\Psi^{m}{\\left(s \\right)} + \\left(- \\frac{25 \\gamma^{2} m^{2} s^{4}}{- 8 \\gamma^{2} m^{2} s^{5} + 16 \\gamma^{2} m^{2} s^{3} - 8 \\gamma^{2} m^{2} s + 15 \\omega^{2} s} + \\frac{33 \\gamma^{2} m^{2} s^{2}}{- 8 \\gamma^{2} m^{2} s^{5} + 16 \\gamma^{2} m^{2} s^{3} - 8 \\gamma^{2} m^{2} s + 15 \\omega^{2} s} - \\frac{8 \\gamma^{2} m^{2}}{- 8 \\gamma^{2} m^{2} s^{5} + 16 \\gamma^{2} m^{2} s^{3} - 8 \\gamma^{2} m^{2} s + 15 \\omega^{2} s} + \\frac{15 \\omega^{2} s^{2}}{- 8 \\gamma^{2} m^{2} s^{5} H^{2}{\\left(s \\right)} + 16 \\gamma^{2} m^{2} s^{3} H^{2}{\\left(s \\right)} - 8 \\gamma^{2} m^{2} s H^{2}{\\left(s \\right)} + 15 \\omega^{2} s H^{2}{\\left(s \\right)}} + \\frac{15 \\omega^{2}}{- 8 \\gamma^{2} m^{2} s^{5} + 16 \\gamma^{2} m^{2} s^{3} - 8 \\gamma^{2} m^{2} s + 15 \\omega^{2} s}\\right) \\frac{d}{d s} \\Psi^{m}{\\left(s \\right)} + \\left(\\frac{5 \\gamma^{2} m^{4} s^{5}}{- 16 \\gamma^{2} m^{2} s^{5} H^{2}{\\left(s \\right)} + 32 \\gamma^{2} m^{2} s^{3} H^{2}{\\left(s \\right)} - 16 \\gamma^{2} m^{2} s H^{2}{\\left(s \\right)} + 30 \\omega^{2} s H^{2}{\\left(s \\right)}} - \\frac{5 \\gamma^{2} m^{4} s^{3}}{- 8 \\gamma^{2} m^{2} s^{5} H^{2}{\\left(s \\right)} + 16 \\gamma^{2} m^{2} s^{3} H^{2}{\\left(s \\right)} - 8 \\gamma^{2} m^{2} s H^{2}{\\left(s \\right)} + 15 \\omega^{2} s H^{2}{\\left(s \\right)}} + \\frac{8 \\gamma^{2} m^{4} s^{3}}{- 8 \\gamma^{2} m^{2} s^{5} + 16 \\gamma^{2} m^{2} s^{3} - 8 \\gamma^{2} m^{2} s + 15 \\omega^{2} s} + \\frac{5 \\gamma^{2} m^{4} s}{- 16 \\gamma^{2} m^{2} s^{5} H^{2}{\\left(s \\right)} + 32 \\gamma^{2} m^{2} s^{3} H^{2}{\\left(s \\right)} - 16 \\gamma^{2} m^{2} s H^{2}{\\left(s \\right)} + 30 \\omega^{2} s H^{2}{\\left(s \\right)}} - \\frac{16 \\gamma^{2} m^{4} s}{- 8 \\gamma^{2} m^{2} s^{5} + 16 \\gamma^{2} m^{2} s^{3} - 8 \\gamma^{2} m^{2} s + 15 \\omega^{2} s} + \\frac{8 \\gamma^{2} m^{4}}{- 8 \\gamma^{2} m^{2} s^{6} + 16 \\gamma^{2} m^{2} s^{4} - 8 \\gamma^{2} m^{2} s^{2} + 15 \\omega^{2} s^{2}} - \\frac{60 \\gamma^{2} m^{2} s^{3} \\sqrt{1 - s} \\sqrt{s + 1}}{- 8 \\gamma^{2} m^{2} s^{5} H{\\left(s \\right)} + 16 \\gamma^{2} m^{2} s^{3} H{\\left(s \\right)} - 8 \\gamma^{2} m^{2} s H{\\left(s \\right)} + 15 \\omega^{2} s H{\\left(s \\right)}} + \\frac{62 \\gamma^{2} m^{2} s^{3}}{- 8 \\gamma^{2} m^{2} s^{5} + 16 \\gamma^{2} m^{2} s^{3} - 8 \\gamma^{2} m^{2} s + 15 \\omega^{2} s} + \\frac{30 \\gamma^{2} m^{2} s \\sqrt{1 - s} \\sqrt{s + 1}}{- 8 \\gamma^{2} m^{2} s^{5} H{\\left(s \\right)} + 16 \\gamma^{2} m^{2} s^{3} H{\\left(s \\right)} - 8 \\gamma^{2} m^{2} s H{\\left(s \\right)} + 15 \\omega^{2} s H{\\left(s \\right)}} - \\frac{32 \\gamma^{2} m^{2} s}{- 8 \\gamma^{2} m^{2} s^{5} + 16 \\gamma^{2} m^{2} s^{3} - 8 \\gamma^{2} m^{2} s + 15 \\omega^{2} s} - \\frac{15 \\omega^{2} m^{2} s}{- 16 \\gamma^{2} m^{2} s^{5} H^{2}{\\left(s \\right)} + 32 \\gamma^{2} m^{2} s^{3} H^{2}{\\left(s \\right)} - 16 \\gamma^{2} m^{2} s H^{2}{\\left(s \\right)} + 30 \\omega^{2} s H^{2}{\\left(s \\right)}} - \\frac{15 \\omega^{2} m^{2}}{- 8 \\gamma^{2} m^{2} s^{6} + 16 \\gamma^{2} m^{2} s^{4} - 8 \\gamma^{2} m^{2} s^{2} + 15 \\omega^{2} s^{2}} - \\frac{30 \\omega m s}{- 8 \\gamma^{2} \\mathrm{Le} m^{2} s^{5} H^{2}{\\left(s \\right)} + 16 \\gamma^{2} \\mathrm{Le} m^{2} s^{3} H^{2}{\\left(s \\right)} - 8 \\gamma^{2} \\mathrm{Le} m^{2} s H^{2}{\\left(s \\right)} + 15 \\mathrm{Le} \\omega^{2} s H^{2}{\\left(s \\right)}}\\right) \\Psi^{m}{\\left(s \\right)} = 0$"
      ],
      "text/plain": [
       "Eq((-8*\\gamma**2*m**2*s**5/(-8*\\gamma**2*m**2*s**5 + 16*\\gamma**2*m**2*s**3 - 8*\\gamma**2*m**2*s + 15*\\omega**2*s) + 16*\\gamma**2*m**2*s**3/(-8*\\gamma**2*m**2*s**5 + 16*\\gamma**2*m**2*s**3 - 8*\\gamma**2*m**2*s + 15*\\omega**2*s) - 8*\\gamma**2*m**2*s/(-8*\\gamma**2*m**2*s**5 + 16*\\gamma**2*m**2*s**3 - 8*\\gamma**2*m**2*s + 15*\\omega**2*s) + 15*\\omega**2*s/(-8*\\gamma**2*m**2*s**5 + 16*\\gamma**2*m**2*s**3 - 8*\\gamma**2*m**2*s + 15*\\omega**2*s))*Derivative(\\Psi^{m}(s), (s, 2)) + (-25*\\gamma**2*m**2*s**4/(-8*\\gamma**2*m**2*s**5 + 16*\\gamma**2*m**2*s**3 - 8*\\gamma**2*m**2*s + 15*\\omega**2*s) + 33*\\gamma**2*m**2*s**2/(-8*\\gamma**2*m**2*s**5 + 16*\\gamma**2*m**2*s**3 - 8*\\gamma**2*m**2*s + 15*\\omega**2*s) - 8*\\gamma**2*m**2/(-8*\\gamma**2*m**2*s**5 + 16*\\gamma**2*m**2*s**3 - 8*\\gamma**2*m**2*s + 15*\\omega**2*s) + 15*\\omega**2*s**2/(-8*\\gamma**2*m**2*s**5*H(s)**2 + 16*\\gamma**2*m**2*s**3*H(s)**2 - 8*\\gamma**2*m**2*s*H(s)**2 + 15*\\omega**2*s*H(s)**2) + 15*\\omega**2/(-8*\\gamma**2*m**2*s**5 + 16*\\gamma**2*m**2*s**3 - 8*\\gamma**2*m**2*s + 15*\\omega**2*s))*Derivative(\\Psi^{m}(s), s) + (5*\\gamma**2*m**4*s**5/(-16*\\gamma**2*m**2*s**5*H(s)**2 + 32*\\gamma**2*m**2*s**3*H(s)**2 - 16*\\gamma**2*m**2*s*H(s)**2 + 30*\\omega**2*s*H(s)**2) - 5*\\gamma**2*m**4*s**3/(-8*\\gamma**2*m**2*s**5*H(s)**2 + 16*\\gamma**2*m**2*s**3*H(s)**2 - 8*\\gamma**2*m**2*s*H(s)**2 + 15*\\omega**2*s*H(s)**2) + 8*\\gamma**2*m**4*s**3/(-8*\\gamma**2*m**2*s**5 + 16*\\gamma**2*m**2*s**3 - 8*\\gamma**2*m**2*s + 15*\\omega**2*s) + 5*\\gamma**2*m**4*s/(-16*\\gamma**2*m**2*s**5*H(s)**2 + 32*\\gamma**2*m**2*s**3*H(s)**2 - 16*\\gamma**2*m**2*s*H(s)**2 + 30*\\omega**2*s*H(s)**2) - 16*\\gamma**2*m**4*s/(-8*\\gamma**2*m**2*s**5 + 16*\\gamma**2*m**2*s**3 - 8*\\gamma**2*m**2*s + 15*\\omega**2*s) + 8*\\gamma**2*m**4/(-8*\\gamma**2*m**2*s**6 + 16*\\gamma**2*m**2*s**4 - 8*\\gamma**2*m**2*s**2 + 15*\\omega**2*s**2) - 60*\\gamma**2*m**2*s**3*sqrt(1 - s)*sqrt(s + 1)/(-8*\\gamma**2*m**2*s**5*H(s) + 16*\\gamma**2*m**2*s**3*H(s) - 8*\\gamma**2*m**2*s*H(s) + 15*\\omega**2*s*H(s)) + 62*\\gamma**2*m**2*s**3/(-8*\\gamma**2*m**2*s**5 + 16*\\gamma**2*m**2*s**3 - 8*\\gamma**2*m**2*s + 15*\\omega**2*s) + 30*\\gamma**2*m**2*s*sqrt(1 - s)*sqrt(s + 1)/(-8*\\gamma**2*m**2*s**5*H(s) + 16*\\gamma**2*m**2*s**3*H(s) - 8*\\gamma**2*m**2*s*H(s) + 15*\\omega**2*s*H(s)) - 32*\\gamma**2*m**2*s/(-8*\\gamma**2*m**2*s**5 + 16*\\gamma**2*m**2*s**3 - 8*\\gamma**2*m**2*s + 15*\\omega**2*s) - 15*\\omega**2*m**2*s/(-16*\\gamma**2*m**2*s**5*H(s)**2 + 32*\\gamma**2*m**2*s**3*H(s)**2 - 16*\\gamma**2*m**2*s*H(s)**2 + 30*\\omega**2*s*H(s)**2) - 15*\\omega**2*m**2/(-8*\\gamma**2*m**2*s**6 + 16*\\gamma**2*m**2*s**4 - 8*\\gamma**2*m**2*s**2 + 15*\\omega**2*s**2) - 30*\\omega*m*s/(-8*\\gamma**2*\\mathrm{Le}*m**2*s**5*H(s)**2 + 16*\\gamma**2*\\mathrm{Le}*m**2*s**3*H(s)**2 - 8*\\gamma**2*\\mathrm{Le}*m**2*s*H(s)**2 + 15*\\mathrm{Le}*\\omega**2*s*H(s)**2))*\\Psi^{m}(s), 0)"
      ]
     },
     "execution_count": 80,
     "metadata": {},
     "output_type": "execute_result"
    }
   ],
   "source": [
    "ord_max = 2\n",
    "leading_cf = ode_psi.lhs.coeff(sp.diff(expansion.pgvar_s.Psi, (core.s, ord_max))).together().subs({core.H_s: core.H, core.H_s**2: core.H**2})\n",
    "ode_psi = sp.Eq((ode_psi.lhs/leading_cf).expand(), ode_psi.rhs/leading_cf)\n",
    "sp.Eq(ode_psi.lhs.collect(expansion.pgvar_s.Psi), ode_psi.rhs)\n",
    "\n",
    "from pg_utils.sympy_supp import simplify\n",
    "\n",
    "def common_denom_simplify(expr):\n",
    "    expr = expr.together()\n",
    "    num, denom = sp.fraction(expr)\n",
    "    num = num.subs({core.H: core.H_s}).simplify().factor().subs({core.H_s: core.H, core.H_s**2: core.H**2}).collect(expansion.m)\n",
    "    return num/denom.factor()\n",
    "\n",
    "eq_grouped = simplify.recursive_collect_tree(ode_psi.lhs, (expansion.pgvar_s.Psi, expansion.omega))\n",
    "simplify.process_leaf_node(eq_grouped, common_denom_simplify)\n",
    "eq_grouped = sp.Eq(simplify.recursive_eval_tree(eq_grouped), ode_psi.rhs)\n",
    "eq_grouped"
   ]
  },
  {
   "cell_type": "code",
   "execution_count": 89,
   "id": "c40aaee3-631d-4231-b002-acfdea9ae68f",
   "metadata": {},
   "outputs": [
    {
     "name": "stdout",
     "output_type": "stream",
     "text": [
      "\\left(- \\frac{8 \\gamma^{2} m^{2} s \\left(s - 1\\right)^{2} \\left(s + 1\\right)^{2}}{15 H} + \\frac{\\omega^{2} s}{H}\\right) \\frac{d^{2}}{d s^{2}} \\psi + \\left(- \\frac{\\gamma^{2} m^{2} \\left(s - 1\\right) \\left(s + 1\\right) \\left(25 s^{2} - 8\\right)}{15 H} + \\frac{\\omega^{2}}{H^{3}}\\right) \\frac{d}{d s} \\psi + \\left(- \\frac{2 \\gamma^{2} m^{2} s \\left(1 - s\\right)^{\\frac{3}{2}} \\left(s + 1\\right)^{\\frac{3}{2}}}{15 H^{2}} - \\frac{\\gamma^{2} m^{4} \\left(s - 1\\right)^{2} \\left(s + 1\\right)^{2} \\cdot \\left(11 s^{2} - 16\\right)}{30 H^{3} s} + \\frac{\\omega^{2} m^{2} \\left(- H^{2} - 1\\right)}{2 H^{3} s} - \\frac{2 \\omega m s}{H^{3} \\mathrm{Le}}\\right) \\psi = 0\n"
     ]
    }
   ],
   "source": [
    "o_str = sp.latex(eq_grouped.subs(placeholder_h))\n",
    "for var_old, var_new in placeholders_map.items():\n",
    "    o_str = o_str.replace(sp.latex(var_old), sp.latex(var_new))\n",
    "print(o_str)"
   ]
  },
  {
   "cell_type": "markdown",
   "id": "ddb736da-41c7-465f-86ed-a41b5e048dc1",
   "metadata": {},
   "source": [
    "### Transformed variables"
   ]
  },
  {
   "cell_type": "code",
   "execution_count": null,
   "id": "550714b1-2317-4d7f-9259-983462da15a6",
   "metadata": {},
   "outputs": [],
   "source": [
    "eqs_file = \"./out/eigen/Poloidal_Dipole/eqs_cg.json\"\n",
    "with open(eqs_file, 'r') as fread:\n",
    "    eqs_cg = base.CollectionConjugate.deserialize(json.load(fread)[\"equations\"], parser=sp.parse_expr)\n",
    "display_eq_collection(eqs_cg)\n",
    "# eqs_cg.Psi"
   ]
  },
  {
   "cell_type": "code",
   "execution_count": 3,
   "id": "998d4891-be75-41f3-9d44-51cf592874c4",
   "metadata": {},
   "outputs": [],
   "source": [
    "ode_s_fd_cg = eigen.to_fd_ode_cg(eqs_cg, core.cgvar_ptb)"
   ]
  },
  {
   "cell_type": "markdown",
   "id": "af389c97-1ae7-4576-90a9-787b6ead5aca",
   "metadata": {},
   "source": [
    "Some further manipulations before output"
   ]
  },
  {
   "cell_type": "code",
   "execution_count": 4,
   "id": "298404a7-5171-4e0d-a4f7-62c7c477800e",
   "metadata": {},
   "outputs": [
    {
     "data": {
      "text/latex": [
       "$\\displaystyle - \\frac{i \\omega m^{2} s \\Psi^{m}{\\left(s \\right)}}{2 H^{3}{\\left(s \\right)}} - \\frac{i \\omega m^{2} \\Psi^{m}{\\left(s \\right)}}{s H{\\left(s \\right)}} + \\frac{i \\omega s^{2} \\frac{d}{d s} \\Psi^{m}{\\left(s \\right)}}{H^{3}{\\left(s \\right)}} + \\frac{i \\omega s \\frac{d^{2}}{d s^{2}} \\Psi^{m}{\\left(s \\right)}}{H{\\left(s \\right)}} + \\frac{i \\omega \\frac{d}{d s} \\Psi^{m}{\\left(s \\right)}}{H{\\left(s \\right)}} = \\frac{4 i m s \\left(6 s^{2} - 5\\right) B_{z}^{em}{\\left(s \\right)}}{H^{2}{\\left(s \\right)}} + \\frac{i m s B_z^{+m}{\\left(s \\right)}}{H^{2}{\\left(s \\right)}} + \\frac{i m s B_z^{-m}{\\left(s \\right)}}{H^{2}{\\left(s \\right)}} - \\frac{\\sqrt{2} i m s \\frac{d}{d s} \\widetilde{M_{z+}}^m{\\left(s \\right)}}{4 H^{2}{\\left(s \\right)}} - \\frac{\\sqrt{2} i m s \\frac{d}{d s} \\widetilde{M_{z-}}^m{\\left(s \\right)}}{4 H^{2}{\\left(s \\right)}} + \\frac{\\sqrt{2} i m \\left(m - 1\\right) \\widetilde{M_{z-}}^m{\\left(s \\right)}}{4 H^{2}{\\left(s \\right)}} - \\frac{\\sqrt{2} i m \\left(m + 1\\right) \\widetilde{M_{z+}}^m{\\left(s \\right)}}{4 H^{2}{\\left(s \\right)}} - \\frac{i m \\left(m - 2\\right) \\overline{M_-}^m{\\left(s \\right)}}{4 s H{\\left(s \\right)}} + \\frac{i m \\left(m + 2\\right) \\overline{M_+}^m{\\left(s \\right)}}{4 s H{\\left(s \\right)}} + \\frac{\\sqrt{2} i s^{2} \\cdot \\left(6 s^{2} - 5\\right) B_{+, z}^{em}{\\left(s \\right)}}{H^{2}{\\left(s \\right)}} - \\frac{\\sqrt{2} i s^{2} \\cdot \\left(6 s^{2} - 5\\right) B_{-, z}^{em}{\\left(s \\right)}}{H^{2}{\\left(s \\right)}} - \\frac{\\sqrt{2} i s \\frac{d}{d s} B_+^{+m}{\\left(s \\right)}}{H{\\left(s \\right)}} + \\frac{\\sqrt{2} i s \\frac{d}{d s} B_+^{-m}{\\left(s \\right)}}{H{\\left(s \\right)}} + \\frac{\\sqrt{2} i s \\frac{d}{d s} B_-^{+m}{\\left(s \\right)}}{H{\\left(s \\right)}} - \\frac{\\sqrt{2} i s \\frac{d}{d s} B_-^{-m}{\\left(s \\right)}}{H{\\left(s \\right)}} + \\frac{i s \\frac{d^{2}}{d s^{2}} \\overline{M_+}^m{\\left(s \\right)}}{4 H{\\left(s \\right)}} - \\frac{i s \\frac{d^{2}}{d s^{2}} \\overline{M_-}^m{\\left(s \\right)}}{4 H{\\left(s \\right)}} + \\frac{i \\left(2 m - 3\\right) \\frac{d}{d s} \\overline{M_-}^m{\\left(s \\right)}}{4 H{\\left(s \\right)}} + \\frac{i \\left(2 m + 3\\right) \\frac{d}{d s} \\overline{M_+}^m{\\left(s \\right)}}{4 H{\\left(s \\right)}} + \\frac{\\sqrt{2} i \\left(m s^{2} - 2 m - 2 s^{2} + 2\\right) B_-^{+m}{\\left(s \\right)}}{2 H^{3}{\\left(s \\right)}} - \\frac{\\sqrt{2} i \\left(m s^{2} - 2 m - 2 s^{2} + 2\\right) B_-^{-m}{\\left(s \\right)}}{2 H^{3}{\\left(s \\right)}} + \\frac{\\sqrt{2} i \\left(m s^{2} - 2 m + 2 s^{2} - 2\\right) B_+^{+m}{\\left(s \\right)}}{2 H^{3}{\\left(s \\right)}} - \\frac{\\sqrt{2} i \\left(m s^{2} - 2 m + 2 s^{2} - 2\\right) B_+^{-m}{\\left(s \\right)}}{2 H^{3}{\\left(s \\right)}} + \\frac{2 i m s \\Psi^{m}{\\left(s \\right)}}{\\mathrm{Le} H^{3}{\\left(s \\right)}}$"
      ],
      "text/plain": [
       "Eq(-I*\\omega*m**2*s*\\Psi^{m}(s)/(2*H(s)**3) - I*\\omega*m**2*\\Psi^{m}(s)/(s*H(s)) + I*\\omega*s**2*Derivative(\\Psi^{m}(s), s)/H(s)**3 + I*\\omega*s*Derivative(\\Psi^{m}(s), (s, 2))/H(s) + I*\\omega*Derivative(\\Psi^{m}(s), s)/H(s), 4*I*m*s*(6*s**2 - 5)*B_{z}^{em}(s)/H(s)**2 + I*m*s*B_z^{+m}(s)/H(s)**2 + I*m*s*B_z^{-m}(s)/H(s)**2 - sqrt(2)*I*m*s*Derivative(\\widetilde{M_{z+}}^m(s), s)/(4*H(s)**2) - sqrt(2)*I*m*s*Derivative(\\widetilde{M_{z-}}^m(s), s)/(4*H(s)**2) + sqrt(2)*I*m*(m - 1)*\\widetilde{M_{z-}}^m(s)/(4*H(s)**2) - sqrt(2)*I*m*(m + 1)*\\widetilde{M_{z+}}^m(s)/(4*H(s)**2) - I*m*(m - 2)*\\overline{M_-}^m(s)/(4*s*H(s)) + I*m*(m + 2)*\\overline{M_+}^m(s)/(4*s*H(s)) + sqrt(2)*I*s**2*(6*s**2 - 5)*B_{+, z}^{em}(s)/H(s)**2 - sqrt(2)*I*s**2*(6*s**2 - 5)*B_{-, z}^{em}(s)/H(s)**2 - sqrt(2)*I*s*Derivative(B_+^{+m}(s), s)/H(s) + sqrt(2)*I*s*Derivative(B_+^{-m}(s), s)/H(s) + sqrt(2)*I*s*Derivative(B_-^{+m}(s), s)/H(s) - sqrt(2)*I*s*Derivative(B_-^{-m}(s), s)/H(s) + I*s*Derivative(\\overline{M_+}^m(s), (s, 2))/(4*H(s)) - I*s*Derivative(\\overline{M_-}^m(s), (s, 2))/(4*H(s)) + I*(2*m - 3)*Derivative(\\overline{M_-}^m(s), s)/(4*H(s)) + I*(2*m + 3)*Derivative(\\overline{M_+}^m(s), s)/(4*H(s)) + sqrt(2)*I*(m*s**2 - 2*m - 2*s**2 + 2)*B_-^{+m}(s)/(2*H(s)**3) - sqrt(2)*I*(m*s**2 - 2*m - 2*s**2 + 2)*B_-^{-m}(s)/(2*H(s)**3) + sqrt(2)*I*(m*s**2 - 2*m + 2*s**2 - 2)*B_+^{+m}(s)/(2*H(s)**3) - sqrt(2)*I*(m*s**2 - 2*m + 2*s**2 - 2)*B_+^{-m}(s)/(2*H(s)**3) + 2*I*m*s*\\Psi^{m}(s)/(\\mathrm{Le}*H(s)**3))"
      ]
     },
     "metadata": {},
     "output_type": "display_data"
    },
    {
     "data": {
      "text/latex": [
       "$\\displaystyle i \\omega \\overline{M_1}^m{\\left(s \\right)} = - 24 i m s \\left(s - 1\\right) \\left(s + 1\\right) \\frac{d}{d s} \\Psi^{m}{\\left(s \\right)} + 48 i m \\left(2 s^{2} - 1\\right) \\Psi^{m}{\\left(s \\right)}$"
      ],
      "text/plain": [
       "Eq(I*\\omega*\\overline{M_1}^m(s), -24*I*m*s*(s - 1)*(s + 1)*Derivative(\\Psi^{m}(s), s) + 48*I*m*(2*s**2 - 1)*\\Psi^{m}(s))"
      ]
     },
     "metadata": {},
     "output_type": "display_data"
    },
    {
     "data": {
      "text/latex": [
       "$\\displaystyle i \\omega \\overline{M_+}^m{\\left(s \\right)} = 48 i m \\left(2 s^{2} - 1\\right) \\Psi^{m}{\\left(s \\right)} + 24 i s^{2} \\left(s - 1\\right) \\left(s + 1\\right) \\frac{d^{2}}{d s^{2}} \\Psi^{m}{\\left(s \\right)} - 24 i s \\left(m s^{2} - m + 2 s^{2} - 1\\right) \\frac{d}{d s} \\Psi^{m}{\\left(s \\right)}$"
      ],
      "text/plain": [
       "Eq(I*\\omega*\\overline{M_+}^m(s), 48*I*m*(2*s**2 - 1)*\\Psi^{m}(s) + 24*I*s**2*(s - 1)*(s + 1)*Derivative(\\Psi^{m}(s), (s, 2)) - 24*I*s*(m*s**2 - m + 2*s**2 - 1)*Derivative(\\Psi^{m}(s), s))"
      ]
     },
     "metadata": {},
     "output_type": "display_data"
    },
    {
     "data": {
      "text/latex": [
       "$\\displaystyle i \\omega \\overline{M_-}^m{\\left(s \\right)} = 48 i m \\left(2 s^{2} - 1\\right) \\Psi^{m}{\\left(s \\right)} - 24 i s^{2} \\left(s - 1\\right) \\left(s + 1\\right) \\frac{d^{2}}{d s^{2}} \\Psi^{m}{\\left(s \\right)} - 24 i s \\left(m s^{2} - m - 2 s^{2} + 1\\right) \\frac{d}{d s} \\Psi^{m}{\\left(s \\right)}$"
      ],
      "text/plain": [
       "Eq(I*\\omega*\\overline{M_-}^m(s), 48*I*m*(2*s**2 - 1)*\\Psi^{m}(s) - 24*I*s**2*(s - 1)*(s + 1)*Derivative(\\Psi^{m}(s), (s, 2)) - 24*I*s*(m*s**2 - m - 2*s**2 + 1)*Derivative(\\Psi^{m}(s), s))"
      ]
     },
     "metadata": {},
     "output_type": "display_data"
    },
    {
     "data": {
      "text/latex": [
       "$\\displaystyle i \\omega \\widetilde{M_{z+}}^m{\\left(s \\right)} = - \\frac{3 \\sqrt{2} i m \\left(3 s^{2} - 2\\right) \\left(18 s^{2} - 7\\right) \\Psi^{m}{\\left(s \\right)}}{s H{\\left(s \\right)}} - \\frac{3 \\sqrt{2} i s \\left(s - 1\\right) \\left(s + 1\\right) \\left(9 s^{2} - 7\\right) \\frac{d^{2}}{d s^{2}} \\Psi^{m}{\\left(s \\right)}}{H{\\left(s \\right)}} + \\frac{3 \\sqrt{2} i \\left(12 m s^{4} - 19 m s^{2} + 7 m + 18 s^{4} - 23 s^{2} + 7\\right) \\frac{d}{d s} \\Psi^{m}{\\left(s \\right)}}{H{\\left(s \\right)}}$"
      ],
      "text/plain": [
       "Eq(I*\\omega*\\widetilde{M_{z+}}^m(s), -3*sqrt(2)*I*m*(3*s**2 - 2)*(18*s**2 - 7)*\\Psi^{m}(s)/(s*H(s)) - 3*sqrt(2)*I*s*(s - 1)*(s + 1)*(9*s**2 - 7)*Derivative(\\Psi^{m}(s), (s, 2))/H(s) + 3*sqrt(2)*I*(12*m*s**4 - 19*m*s**2 + 7*m + 18*s**4 - 23*s**2 + 7)*Derivative(\\Psi^{m}(s), s)/H(s))"
      ]
     },
     "metadata": {},
     "output_type": "display_data"
    },
    {
     "data": {
      "text/latex": [
       "$\\displaystyle i \\omega \\widetilde{M_{z-}}^m{\\left(s \\right)} = - \\frac{3 \\sqrt{2} i m \\left(3 s^{2} - 2\\right) \\left(18 s^{2} - 7\\right) \\Psi^{m}{\\left(s \\right)}}{s H{\\left(s \\right)}} + \\frac{3 \\sqrt{2} i s \\left(s - 1\\right) \\left(s + 1\\right) \\left(9 s^{2} - 7\\right) \\frac{d^{2}}{d s^{2}} \\Psi^{m}{\\left(s \\right)}}{H{\\left(s \\right)}} + \\frac{3 \\sqrt{2} i \\left(12 m s^{4} - 19 m s^{2} + 7 m - 18 s^{4} + 23 s^{2} - 7\\right) \\frac{d}{d s} \\Psi^{m}{\\left(s \\right)}}{H{\\left(s \\right)}}$"
      ],
      "text/plain": [
       "Eq(I*\\omega*\\widetilde{M_{z-}}^m(s), -3*sqrt(2)*I*m*(3*s**2 - 2)*(18*s**2 - 7)*\\Psi^{m}(s)/(s*H(s)) + 3*sqrt(2)*I*s*(s - 1)*(s + 1)*(9*s**2 - 7)*Derivative(\\Psi^{m}(s), (s, 2))/H(s) + 3*sqrt(2)*I*(12*m*s**4 - 19*m*s**2 + 7*m - 18*s**4 + 23*s**2 - 7)*Derivative(\\Psi^{m}(s), s)/H(s))"
      ]
     },
     "metadata": {},
     "output_type": "display_data"
    },
    {
     "data": {
      "text/latex": [
       "$\\displaystyle i \\omega \\widetilde{zM_1}^m{\\left(s \\right)} = 18 i m s \\left(1 - s\\right)^{\\frac{3}{2}} \\left(s + 1\\right)^{\\frac{3}{2}} \\frac{d}{d s} \\Psi^{m}{\\left(s \\right)} + 36 i m \\sqrt{1 - s} \\sqrt{s + 1} \\cdot \\left(2 s^{2} - 1\\right) \\Psi^{m}{\\left(s \\right)}$"
      ],
      "text/plain": [
       "Eq(I*\\omega*\\widetilde{zM_1}^m(s), 18*I*m*s*(1 - s)**(3/2)*(s + 1)**(3/2)*Derivative(\\Psi^{m}(s), s) + 36*I*m*sqrt(1 - s)*sqrt(s + 1)*(2*s**2 - 1)*\\Psi^{m}(s))"
      ]
     },
     "metadata": {},
     "output_type": "display_data"
    },
    {
     "data": {
      "text/latex": [
       "$\\displaystyle i \\omega \\widetilde{zM_+}^m{\\left(s \\right)} = 36 i m \\sqrt{1 - s} \\sqrt{s + 1} \\cdot \\left(2 s^{2} - 1\\right) \\Psi^{m}{\\left(s \\right)} - 18 i s^{2} \\left(1 - s\\right)^{\\frac{3}{2}} \\left(s + 1\\right)^{\\frac{3}{2}} \\frac{d^{2}}{d s^{2}} \\Psi^{m}{\\left(s \\right)} - 18 i s \\sqrt{1 - s} \\sqrt{s + 1} \\left(m s^{2} - m + 2 s^{2} - 1\\right) \\frac{d}{d s} \\Psi^{m}{\\left(s \\right)}$"
      ],
      "text/plain": [
       "Eq(I*\\omega*\\widetilde{zM_+}^m(s), 36*I*m*sqrt(1 - s)*sqrt(s + 1)*(2*s**2 - 1)*\\Psi^{m}(s) - 18*I*s**2*(1 - s)**(3/2)*(s + 1)**(3/2)*Derivative(\\Psi^{m}(s), (s, 2)) - 18*I*s*sqrt(1 - s)*sqrt(s + 1)*(m*s**2 - m + 2*s**2 - 1)*Derivative(\\Psi^{m}(s), s))"
      ]
     },
     "metadata": {},
     "output_type": "display_data"
    },
    {
     "data": {
      "text/latex": [
       "$\\displaystyle i \\omega \\widetilde{zM_-}^m{\\left(s \\right)} = 36 i m \\sqrt{1 - s} \\sqrt{s + 1} \\cdot \\left(2 s^{2} - 1\\right) \\Psi^{m}{\\left(s \\right)} + 18 i s^{2} \\left(1 - s\\right)^{\\frac{3}{2}} \\left(s + 1\\right)^{\\frac{3}{2}} \\frac{d^{2}}{d s^{2}} \\Psi^{m}{\\left(s \\right)} - 18 i s \\sqrt{1 - s} \\sqrt{s + 1} \\left(m s^{2} - m - 2 s^{2} + 1\\right) \\frac{d}{d s} \\Psi^{m}{\\left(s \\right)}$"
      ],
      "text/plain": [
       "Eq(I*\\omega*\\widetilde{zM_-}^m(s), 36*I*m*sqrt(1 - s)*sqrt(s + 1)*(2*s**2 - 1)*\\Psi^{m}(s) + 18*I*s**2*(1 - s)**(3/2)*(s + 1)**(3/2)*Derivative(\\Psi^{m}(s), (s, 2)) - 18*I*s*sqrt(1 - s)*sqrt(s + 1)*(m*s**2 - m - 2*s**2 + 1)*Derivative(\\Psi^{m}(s), s))"
      ]
     },
     "metadata": {},
     "output_type": "display_data"
    },
    {
     "data": {
      "text/latex": [
       "$\\displaystyle i \\omega B_{+}^{em}{\\left(s \\right)} = 0$"
      ],
      "text/plain": [
       "Eq(I*\\omega*B_{+}^{em}(s), 0)"
      ]
     },
     "metadata": {},
     "output_type": "display_data"
    },
    {
     "data": {
      "text/latex": [
       "$\\displaystyle i \\omega B_{-}^{em}{\\left(s \\right)} = 0$"
      ],
      "text/plain": [
       "Eq(I*\\omega*B_{-}^{em}(s), 0)"
      ]
     },
     "metadata": {},
     "output_type": "display_data"
    },
    {
     "data": {
      "text/latex": [
       "$\\displaystyle i \\omega B_{z}^{em}{\\left(s \\right)} = \\frac{2 i m \\left(6 s^{2} - 7\\right) \\Psi^{m}{\\left(s \\right)}}{H^{3}{\\left(s \\right)}}$"
      ],
      "text/plain": [
       "Eq(I*\\omega*B_{z}^{em}(s), 2*I*m*(6*s**2 - 7)*\\Psi^{m}(s)/H(s)**3)"
      ]
     },
     "metadata": {},
     "output_type": "display_data"
    },
    {
     "data": {
      "text/latex": [
       "$\\displaystyle i \\omega B_{+, z}^{em}{\\left(s \\right)} = - \\frac{6 \\sqrt{2} i m \\left(2 s^{2} - 1\\right) \\Psi^{m}{\\left(s \\right)}}{s H^{3}{\\left(s \\right)}} + \\frac{3 \\sqrt{2} i s \\frac{d^{2}}{d s^{2}} \\Psi^{m}{\\left(s \\right)}}{H{\\left(s \\right)}} + \\frac{3 \\sqrt{2} i \\left(m s^{2} - m + 2 s^{2} - 1\\right) \\frac{d}{d s} \\Psi^{m}{\\left(s \\right)}}{H^{3}{\\left(s \\right)}}$"
      ],
      "text/plain": [
       "Eq(I*\\omega*B_{+, z}^{em}(s), -6*sqrt(2)*I*m*(2*s**2 - 1)*\\Psi^{m}(s)/(s*H(s)**3) + 3*sqrt(2)*I*s*Derivative(\\Psi^{m}(s), (s, 2))/H(s) + 3*sqrt(2)*I*(m*s**2 - m + 2*s**2 - 1)*Derivative(\\Psi^{m}(s), s)/H(s)**3)"
      ]
     },
     "metadata": {},
     "output_type": "display_data"
    },
    {
     "data": {
      "text/latex": [
       "$\\displaystyle i \\omega B_{-, z}^{em}{\\left(s \\right)} = - \\frac{6 \\sqrt{2} i m \\left(2 s^{2} - 1\\right) \\Psi^{m}{\\left(s \\right)}}{s H^{3}{\\left(s \\right)}} - \\frac{3 \\sqrt{2} i s \\frac{d^{2}}{d s^{2}} \\Psi^{m}{\\left(s \\right)}}{H{\\left(s \\right)}} + \\frac{3 \\sqrt{2} i \\left(m s^{2} - m - 2 s^{2} + 1\\right) \\frac{d}{d s} \\Psi^{m}{\\left(s \\right)}}{H^{3}{\\left(s \\right)}}$"
      ],
      "text/plain": [
       "Eq(I*\\omega*B_{-, z}^{em}(s), -6*sqrt(2)*I*m*(2*s**2 - 1)*\\Psi^{m}(s)/(s*H(s)**3) - 3*sqrt(2)*I*s*Derivative(\\Psi^{m}(s), (s, 2))/H(s) + 3*sqrt(2)*I*(m*s**2 - m - 2*s**2 + 1)*Derivative(\\Psi^{m}(s), s)/H(s)**3)"
      ]
     },
     "metadata": {},
     "output_type": "display_data"
    },
    {
     "data": {
      "text/latex": [
       "$\\displaystyle e^{- i \\omega t} e^{- i \\phi m} \\frac{\\partial}{\\partial t} b_{r1}{\\left(\\theta,\\phi,t \\right)} = - \\frac{\\left(U^{0}_{\\phi}{\\left(r,\\theta,\\phi \\right)} \\cos{\\left(\\theta \\right)} \\tan{\\left(\\theta \\right)} \\frac{\\partial}{\\partial \\phi} b_{r1}{\\left(\\theta,\\phi,t \\right)} + U^{0}_{\\theta}{\\left(r,\\theta,\\phi \\right)} b_{r1}{\\left(\\theta,\\phi,t \\right)} \\sin{\\left(\\theta \\right)} \\cos{\\left(\\theta \\right)} + U^{0}_{\\theta}{\\left(r,\\theta,\\phi \\right)} \\sin^{2}{\\left(\\theta \\right)} \\frac{\\partial}{\\partial \\theta} b_{r1}{\\left(\\theta,\\phi,t \\right)} + b_{r1}{\\left(\\theta,\\phi,t \\right)} \\sin^{2}{\\left(\\theta \\right)} \\frac{\\partial}{\\partial \\theta} U^{0}_{\\theta}{\\left(r,\\theta,\\phi \\right)} + b_{r1}{\\left(\\theta,\\phi,t \\right)} \\cos{\\left(\\theta \\right)} \\tan{\\left(\\theta \\right)} \\frac{\\partial}{\\partial \\phi} U^{0}_{\\phi}{\\left(r,\\theta,\\phi \\right)}\\right) e^{- i \\omega t} e^{- i \\phi m}}{r \\sin{\\left(\\theta \\right)} \\cos{\\left(\\theta \\right)} \\tan{\\left(\\theta \\right)}}$"
      ],
      "text/plain": [
       "Eq(exp(-I*\\omega*t)*exp(-I*\\phi*m)*Derivative(b_{r1}(\\theta, \\phi, t), t), -(U_\\phi^0(r, \\theta, \\phi)*cos(\\theta)*tan(\\theta)*Derivative(b_{r1}(\\theta, \\phi, t), \\phi) + U_\\theta^0(r, \\theta, \\phi)*b_{r1}(\\theta, \\phi, t)*sin(\\theta)*cos(\\theta) + U_\\theta^0(r, \\theta, \\phi)*sin(\\theta)**2*Derivative(b_{r1}(\\theta, \\phi, t), \\theta) + b_{r1}(\\theta, \\phi, t)*sin(\\theta)**2*Derivative(U_\\theta^0(r, \\theta, \\phi), \\theta) + b_{r1}(\\theta, \\phi, t)*cos(\\theta)*tan(\\theta)*Derivative(U_\\phi^0(r, \\theta, \\phi), \\phi))*exp(-I*\\omega*t)*exp(-I*\\phi*m)/(r*sin(\\theta)*cos(\\theta)*tan(\\theta)))"
      ]
     },
     "metadata": {},
     "output_type": "display_data"
    },
    {
     "data": {
      "text/latex": [
       "$\\displaystyle i \\omega B_+^{+m}{\\left(s \\right)} = - \\frac{6 \\sqrt{2} i m \\left(2 s^{2} - 1\\right) \\Psi^{m}{\\left(s \\right)}}{s H^{2}{\\left(s \\right)}} + 3 \\sqrt{2} i s \\frac{d^{2}}{d s^{2}} \\Psi^{m}{\\left(s \\right)} + \\frac{3 \\sqrt{2} i \\left(m s^{2} - m + 2 s^{2} - 1\\right) \\frac{d}{d s} \\Psi^{m}{\\left(s \\right)}}{H^{2}{\\left(s \\right)}}$"
      ],
      "text/plain": [
       "Eq(I*\\omega*B_+^{+m}(s), -6*sqrt(2)*I*m*(2*s**2 - 1)*\\Psi^{m}(s)/(s*H(s)**2) + 3*sqrt(2)*I*s*Derivative(\\Psi^{m}(s), (s, 2)) + 3*sqrt(2)*I*(m*s**2 - m + 2*s**2 - 1)*Derivative(\\Psi^{m}(s), s)/H(s)**2)"
      ]
     },
     "metadata": {},
     "output_type": "display_data"
    },
    {
     "data": {
      "text/latex": [
       "$\\displaystyle i \\omega B_-^{+m}{\\left(s \\right)} = - \\frac{6 \\sqrt{2} i m \\left(2 s^{2} - 1\\right) \\Psi^{m}{\\left(s \\right)}}{s H^{2}{\\left(s \\right)}} - 3 \\sqrt{2} i s \\frac{d^{2}}{d s^{2}} \\Psi^{m}{\\left(s \\right)} + \\frac{3 \\sqrt{2} i \\left(m s^{2} - m - 2 s^{2} + 1\\right) \\frac{d}{d s} \\Psi^{m}{\\left(s \\right)}}{H^{2}{\\left(s \\right)}}$"
      ],
      "text/plain": [
       "Eq(I*\\omega*B_-^{+m}(s), -6*sqrt(2)*I*m*(2*s**2 - 1)*\\Psi^{m}(s)/(s*H(s)**2) - 3*sqrt(2)*I*s*Derivative(\\Psi^{m}(s), (s, 2)) + 3*sqrt(2)*I*(m*s**2 - m - 2*s**2 + 1)*Derivative(\\Psi^{m}(s), s)/H(s)**2)"
      ]
     },
     "metadata": {},
     "output_type": "display_data"
    },
    {
     "data": {
      "text/latex": [
       "$\\displaystyle i \\omega B_z^{+m}{\\left(s \\right)} = \\frac{6 i m s \\frac{d}{d s} \\Psi^{m}{\\left(s \\right)}}{H{\\left(s \\right)}} + \\frac{8 i m \\left(3 s^{2} - 1\\right) \\Psi^{m}{\\left(s \\right)}}{H^{3}{\\left(s \\right)}}$"
      ],
      "text/plain": [
       "Eq(I*\\omega*B_z^{+m}(s), 6*I*m*s*Derivative(\\Psi^{m}(s), s)/H(s) + 8*I*m*(3*s**2 - 1)*\\Psi^{m}(s)/H(s)**3)"
      ]
     },
     "metadata": {},
     "output_type": "display_data"
    },
    {
     "data": {
      "text/latex": [
       "$\\displaystyle i \\omega B_+^{-m}{\\left(s \\right)} = \\frac{6 \\sqrt{2} i m \\left(2 s^{2} - 1\\right) \\Psi^{m}{\\left(s \\right)}}{s H^{2}{\\left(s \\right)}} - 3 \\sqrt{2} i s \\frac{d^{2}}{d s^{2}} \\Psi^{m}{\\left(s \\right)} - \\frac{3 \\sqrt{2} i \\left(m s^{2} - m + 2 s^{2} - 1\\right) \\frac{d}{d s} \\Psi^{m}{\\left(s \\right)}}{H^{2}{\\left(s \\right)}}$"
      ],
      "text/plain": [
       "Eq(I*\\omega*B_+^{-m}(s), 6*sqrt(2)*I*m*(2*s**2 - 1)*\\Psi^{m}(s)/(s*H(s)**2) - 3*sqrt(2)*I*s*Derivative(\\Psi^{m}(s), (s, 2)) - 3*sqrt(2)*I*(m*s**2 - m + 2*s**2 - 1)*Derivative(\\Psi^{m}(s), s)/H(s)**2)"
      ]
     },
     "metadata": {},
     "output_type": "display_data"
    },
    {
     "data": {
      "text/latex": [
       "$\\displaystyle i \\omega B_-^{-m}{\\left(s \\right)} = \\frac{6 \\sqrt{2} i m \\left(2 s^{2} - 1\\right) \\Psi^{m}{\\left(s \\right)}}{s H^{2}{\\left(s \\right)}} + 3 \\sqrt{2} i s \\frac{d^{2}}{d s^{2}} \\Psi^{m}{\\left(s \\right)} - \\frac{3 \\sqrt{2} i \\left(m s^{2} - m - 2 s^{2} + 1\\right) \\frac{d}{d s} \\Psi^{m}{\\left(s \\right)}}{H^{2}{\\left(s \\right)}}$"
      ],
      "text/plain": [
       "Eq(I*\\omega*B_-^{-m}(s), 6*sqrt(2)*I*m*(2*s**2 - 1)*\\Psi^{m}(s)/(s*H(s)**2) + 3*sqrt(2)*I*s*Derivative(\\Psi^{m}(s), (s, 2)) - 3*sqrt(2)*I*(m*s**2 - m - 2*s**2 + 1)*Derivative(\\Psi^{m}(s), s)/H(s)**2)"
      ]
     },
     "metadata": {},
     "output_type": "display_data"
    },
    {
     "data": {
      "text/latex": [
       "$\\displaystyle i \\omega B_z^{-m}{\\left(s \\right)} = \\frac{6 i m s \\frac{d}{d s} \\Psi^{m}{\\left(s \\right)}}{H{\\left(s \\right)}} + \\frac{8 i m \\left(3 s^{2} - 1\\right) \\Psi^{m}{\\left(s \\right)}}{H^{3}{\\left(s \\right)}}$"
      ],
      "text/plain": [
       "Eq(I*\\omega*B_z^{-m}(s), 6*I*m*s*Derivative(\\Psi^{m}(s), s)/H(s) + 8*I*m*(3*s**2 - 1)*\\Psi^{m}(s)/H(s)**3)"
      ]
     },
     "metadata": {},
     "output_type": "display_data"
    }
   ],
   "source": [
    "from pg_utils.sympy_supp import simplify\n",
    "\n",
    "def common_denom_simplify(expr):\n",
    "    expr = expr.together()\n",
    "    num, denom = sp.fraction(expr)\n",
    "    num = num.subs({core.H: core.H_s}).simplify().factor().subs({core.H_s: core.H, core.H_s**2: core.H**2})\n",
    "    return num/denom\n",
    "\n",
    "# eq_grouped = simplify.recursive_collect_tree(eq_rad_std.lhs, (expansion.pgvar_s.Psi, expansion.omega))\n",
    "# simplify.process_leaf_node(eq_grouped, common_denom_simplify)\n",
    "# eq_grouped = sp.Eq(simplify.recursive_eval_tree(eq_grouped), eq_rad_std.rhs)\n",
    "\n",
    "# factor = 1/sp.I/expansion.omega\n",
    "factor = 1\n",
    "def factoring(fname, eq):\n",
    "    if fname != \"Psi\":\n",
    "        expr_grouped = (eq.rhs*factor).expand().collect([expansion.cgvar_s.Psi,], evaluate=False)\n",
    "        for term in expr_grouped:\n",
    "            expr_grouped[term] = common_denom_simplify(expr_grouped[term])\n",
    "        return sp.Eq(\n",
    "            (eq.lhs*factor).expand(), \n",
    "            # (eq.rhs*factor).expand().collect(expansion.pgvar_s.Psi)\n",
    "            factor*sp.Add(*[term*coeff for term, coeff in expr_grouped.items()])\n",
    "        )\n",
    "    else:\n",
    "        expr_grouped = (eq.rhs*factor).expand().collect([var for var in expansion.cgvar_s if var is not None], evaluate=False)\n",
    "        for term in expr_grouped:\n",
    "            expr_grouped[term] = common_denom_simplify(expr_grouped[term])\n",
    "        return sp.Eq((eq.lhs*factor).expand(), sp.Add(*[term*coeff for term, coeff in expr_grouped.items()]))\n",
    "\n",
    "ode_s_fd_cg.apply(factoring, inplace=True, metadata=True)\n",
    "display_eq_collection(ode_s_fd_cg)"
   ]
  },
  {
   "cell_type": "code",
   "execution_count": 26,
   "id": "e420fef4-9e9b-4344-8073-ce4fc7f0efc8",
   "metadata": {},
   "outputs": [],
   "source": [
    "forcing = ode_s_fd_cg.M_zp.rhs.subs(\n",
    "    {expansion.cgvar_s.Psi: core.s**expansion.m*core.H**3*sp.jacobi(expansion.n, sp.Rational(3, 2), expansion.m, 2*core.s**2 - 1)})"
   ]
  },
  {
   "cell_type": "code",
   "execution_count": 28,
   "id": "a90e6f75-bf57-43d3-a394-9762eca7dcbd",
   "metadata": {},
   "outputs": [],
   "source": [
    "forcing = forcing.doit().subs({sp.diff(core.H, core.s): -core.s/core.H}).doit().subs({sp.diff(core.H, core.s): -core.s/core.H})"
   ]
  },
  {
   "cell_type": "code",
   "execution_count": 32,
   "id": "66ddff30-d548-4793-945b-1e73e772ba58",
   "metadata": {},
   "outputs": [
    {
     "data": {
      "text/latex": [
       "$\\displaystyle - 108 \\sqrt{2} i m^{2} s^{7} s^{m} H^{2}{\\left(s \\right)} P_{n - 2}^{\\left(\\frac{7}{2},m + 2\\right)}\\left(2 s^{2} - 1\\right) + 192 \\sqrt{2} i m^{2} s^{5} s^{m} H^{2}{\\left(s \\right)} P_{n - 2}^{\\left(\\frac{7}{2},m + 2\\right)}\\left(2 s^{2} - 1\\right) - 36 \\sqrt{2} i m^{2} s^{5} s^{m} H^{2}{\\left(s \\right)} P_{n - 1}^{\\left(\\frac{5}{2},m + 1\\right)}\\left(2 s^{2} - 1\\right) + 9 \\sqrt{2} i m^{2} s^{3} s^{m} H^{2}{\\left(s \\right)} P_{n}^{\\left(\\frac{3}{2},m\\right)}\\left(2 s^{2} - 1\\right) - 84 \\sqrt{2} i m^{2} s^{3} s^{m} H^{2}{\\left(s \\right)} P_{n - 2}^{\\left(\\frac{7}{2},m + 2\\right)}\\left(2 s^{2} - 1\\right) + 78 \\sqrt{2} i m^{2} s^{3} s^{m} H^{2}{\\left(s \\right)} P_{n - 1}^{\\left(\\frac{5}{2},m + 1\\right)}\\left(2 s^{2} - 1\\right) - 9 \\sqrt{2} i m^{2} s s^{m} H^{2}{\\left(s \\right)} P_{n}^{\\left(\\frac{3}{2},m\\right)}\\left(2 s^{2} - 1\\right) - 42 \\sqrt{2} i m^{2} s s^{m} H^{2}{\\left(s \\right)} P_{n - 1}^{\\left(\\frac{5}{2},m + 1\\right)}\\left(2 s^{2} - 1\\right) - 216 \\sqrt{2} i m n s^{7} s^{m} H^{2}{\\left(s \\right)} P_{n - 2}^{\\left(\\frac{7}{2},m + 2\\right)}\\left(2 s^{2} - 1\\right) + 384 \\sqrt{2} i m n s^{5} s^{m} H^{2}{\\left(s \\right)} P_{n - 2}^{\\left(\\frac{7}{2},m + 2\\right)}\\left(2 s^{2} - 1\\right) - 36 \\sqrt{2} i m n s^{5} s^{m} H^{2}{\\left(s \\right)} P_{n - 1}^{\\left(\\frac{5}{2},m + 1\\right)}\\left(2 s^{2} - 1\\right) - 168 \\sqrt{2} i m n s^{3} s^{m} H^{2}{\\left(s \\right)} P_{n - 2}^{\\left(\\frac{7}{2},m + 2\\right)}\\left(2 s^{2} - 1\\right) + 78 \\sqrt{2} i m n s^{3} s^{m} H^{2}{\\left(s \\right)} P_{n - 1}^{\\left(\\frac{5}{2},m + 1\\right)}\\left(2 s^{2} - 1\\right) - 42 \\sqrt{2} i m n s s^{m} H^{2}{\\left(s \\right)} P_{n - 1}^{\\left(\\frac{5}{2},m + 1\\right)}\\left(2 s^{2} - 1\\right) - 648 \\sqrt{2} i m s^{7} s^{m} H^{2}{\\left(s \\right)} P_{n - 2}^{\\left(\\frac{7}{2},m + 2\\right)}\\left(2 s^{2} - 1\\right) + 324 \\sqrt{2} i m s^{7} s^{m} P_{n - 1}^{\\left(\\frac{5}{2},m + 1\\right)}\\left(2 s^{2} - 1\\right) + 1152 \\sqrt{2} i m s^{5} s^{m} H^{2}{\\left(s \\right)} P_{n - 2}^{\\left(\\frac{7}{2},m + 2\\right)}\\left(2 s^{2} - 1\\right) - 36 \\sqrt{2} i m s^{5} s^{m} H^{2}{\\left(s \\right)} P_{n - 1}^{\\left(\\frac{5}{2},m + 1\\right)}\\left(2 s^{2} - 1\\right) + 54 \\sqrt{2} i m s^{5} s^{m} P_{n}^{\\left(\\frac{3}{2},m\\right)}\\left(2 s^{2} - 1\\right) - 576 \\sqrt{2} i m s^{5} s^{m} P_{n - 1}^{\\left(\\frac{5}{2},m + 1\\right)}\\left(2 s^{2} - 1\\right) - 81 \\sqrt{2} i m s^{3} s^{m} H^{2}{\\left(s \\right)} P_{n}^{\\left(\\frac{3}{2},m\\right)}\\left(2 s^{2} - 1\\right) - 504 \\sqrt{2} i m s^{3} s^{m} H^{2}{\\left(s \\right)} P_{n - 2}^{\\left(\\frac{7}{2},m + 2\\right)}\\left(2 s^{2} - 1\\right) + 153 \\sqrt{2} i m s^{3} s^{m} H^{2}{\\left(s \\right)} P_{n - 1}^{\\left(\\frac{5}{2},m + 1\\right)}\\left(2 s^{2} - 1\\right) - 117 \\sqrt{2} i m s^{3} s^{m} P_{n}^{\\left(\\frac{3}{2},m\\right)}\\left(2 s^{2} - 1\\right) + 252 \\sqrt{2} i m s^{3} s^{m} P_{n - 1}^{\\left(\\frac{5}{2},m + 1\\right)}\\left(2 s^{2} - 1\\right) + 54 \\sqrt{2} i m s s^{m} H^{2}{\\left(s \\right)} P_{n}^{\\left(\\frac{3}{2},m\\right)}\\left(2 s^{2} - 1\\right) - 105 \\sqrt{2} i m s s^{m} H^{2}{\\left(s \\right)} P_{n - 1}^{\\left(\\frac{5}{2},m + 1\\right)}\\left(2 s^{2} - 1\\right) + 63 \\sqrt{2} i m s s^{m} P_{n}^{\\left(\\frac{3}{2},m\\right)}\\left(2 s^{2} - 1\\right) - 108 \\sqrt{2} i n^{2} s^{7} s^{m} H^{2}{\\left(s \\right)} P_{n - 2}^{\\left(\\frac{7}{2},m + 2\\right)}\\left(2 s^{2} - 1\\right) + 192 \\sqrt{2} i n^{2} s^{5} s^{m} H^{2}{\\left(s \\right)} P_{n - 2}^{\\left(\\frac{7}{2},m + 2\\right)}\\left(2 s^{2} - 1\\right) - 84 \\sqrt{2} i n^{2} s^{3} s^{m} H^{2}{\\left(s \\right)} P_{n - 2}^{\\left(\\frac{7}{2},m + 2\\right)}\\left(2 s^{2} - 1\\right) - 648 \\sqrt{2} i n s^{7} s^{m} H^{2}{\\left(s \\right)} P_{n - 2}^{\\left(\\frac{7}{2},m + 2\\right)}\\left(2 s^{2} - 1\\right) + 324 \\sqrt{2} i n s^{7} s^{m} P_{n - 1}^{\\left(\\frac{5}{2},m + 1\\right)}\\left(2 s^{2} - 1\\right) + 1152 \\sqrt{2} i n s^{5} s^{m} H^{2}{\\left(s \\right)} P_{n - 2}^{\\left(\\frac{7}{2},m + 2\\right)}\\left(2 s^{2} - 1\\right) + 54 \\sqrt{2} i n s^{5} s^{m} H^{2}{\\left(s \\right)} P_{n - 1}^{\\left(\\frac{5}{2},m + 1\\right)}\\left(2 s^{2} - 1\\right) - 576 \\sqrt{2} i n s^{5} s^{m} P_{n - 1}^{\\left(\\frac{5}{2},m + 1\\right)}\\left(2 s^{2} - 1\\right) - 504 \\sqrt{2} i n s^{3} s^{m} H^{2}{\\left(s \\right)} P_{n - 2}^{\\left(\\frac{7}{2},m + 2\\right)}\\left(2 s^{2} - 1\\right) - 42 \\sqrt{2} i n s^{3} s^{m} H^{2}{\\left(s \\right)} P_{n - 1}^{\\left(\\frac{5}{2},m + 1\\right)}\\left(2 s^{2} - 1\\right) + 252 \\sqrt{2} i n s^{3} s^{m} P_{n - 1}^{\\left(\\frac{5}{2},m + 1\\right)}\\left(2 s^{2} - 1\\right) - 945 \\sqrt{2} i s^{7} s^{m} H^{2}{\\left(s \\right)} P_{n - 2}^{\\left(\\frac{7}{2},m + 2\\right)}\\left(2 s^{2} - 1\\right) + 810 \\sqrt{2} i s^{7} s^{m} P_{n - 1}^{\\left(\\frac{5}{2},m + 1\\right)}\\left(2 s^{2} - 1\\right) - \\frac{81 \\sqrt{2} i s^{7} s^{m} P_{n}^{\\left(\\frac{3}{2},m\\right)}\\left(2 s^{2} - 1\\right)}{H^{2}{\\left(s \\right)}} + 1680 \\sqrt{2} i s^{5} s^{m} H^{2}{\\left(s \\right)} P_{n - 2}^{\\left(\\frac{7}{2},m + 2\\right)}\\left(2 s^{2} - 1\\right) + 135 \\sqrt{2} i s^{5} s^{m} H^{2}{\\left(s \\right)} P_{n - 1}^{\\left(\\frac{5}{2},m + 1\\right)}\\left(2 s^{2} - 1\\right) - 81 \\sqrt{2} i s^{5} s^{m} P_{n}^{\\left(\\frac{3}{2},m\\right)}\\left(2 s^{2} - 1\\right) - 1440 \\sqrt{2} i s^{5} s^{m} P_{n - 1}^{\\left(\\frac{5}{2},m + 1\\right)}\\left(2 s^{2} - 1\\right) + \\frac{144 \\sqrt{2} i s^{5} s^{m} P_{n}^{\\left(\\frac{3}{2},m\\right)}\\left(2 s^{2} - 1\\right)}{H^{2}{\\left(s \\right)}} - 735 \\sqrt{2} i s^{3} s^{m} H^{2}{\\left(s \\right)} P_{n - 2}^{\\left(\\frac{7}{2},m + 2\\right)}\\left(2 s^{2} - 1\\right) - 105 \\sqrt{2} i s^{3} s^{m} H^{2}{\\left(s \\right)} P_{n - 1}^{\\left(\\frac{5}{2},m + 1\\right)}\\left(2 s^{2} - 1\\right) + 63 \\sqrt{2} i s^{3} s^{m} P_{n}^{\\left(\\frac{3}{2},m\\right)}\\left(2 s^{2} - 1\\right) + 630 \\sqrt{2} i s^{3} s^{m} P_{n - 1}^{\\left(\\frac{5}{2},m + 1\\right)}\\left(2 s^{2} - 1\\right) - \\frac{63 \\sqrt{2} i s^{3} s^{m} P_{n}^{\\left(\\frac{3}{2},m\\right)}\\left(2 s^{2} - 1\\right)}{H^{2}{\\left(s \\right)}}$"
      ],
      "text/plain": [
       "-108*sqrt(2)*I*m**2*s**7*s**m*H(s)**2*jacobi(n - 2, 7/2, m + 2, 2*s**2 - 1) + 192*sqrt(2)*I*m**2*s**5*s**m*H(s)**2*jacobi(n - 2, 7/2, m + 2, 2*s**2 - 1) - 36*sqrt(2)*I*m**2*s**5*s**m*H(s)**2*jacobi(n - 1, 5/2, m + 1, 2*s**2 - 1) + 9*sqrt(2)*I*m**2*s**3*s**m*H(s)**2*jacobi(n, 3/2, m, 2*s**2 - 1) - 84*sqrt(2)*I*m**2*s**3*s**m*H(s)**2*jacobi(n - 2, 7/2, m + 2, 2*s**2 - 1) + 78*sqrt(2)*I*m**2*s**3*s**m*H(s)**2*jacobi(n - 1, 5/2, m + 1, 2*s**2 - 1) - 9*sqrt(2)*I*m**2*s*s**m*H(s)**2*jacobi(n, 3/2, m, 2*s**2 - 1) - 42*sqrt(2)*I*m**2*s*s**m*H(s)**2*jacobi(n - 1, 5/2, m + 1, 2*s**2 - 1) - 216*sqrt(2)*I*m*n*s**7*s**m*H(s)**2*jacobi(n - 2, 7/2, m + 2, 2*s**2 - 1) + 384*sqrt(2)*I*m*n*s**5*s**m*H(s)**2*jacobi(n - 2, 7/2, m + 2, 2*s**2 - 1) - 36*sqrt(2)*I*m*n*s**5*s**m*H(s)**2*jacobi(n - 1, 5/2, m + 1, 2*s**2 - 1) - 168*sqrt(2)*I*m*n*s**3*s**m*H(s)**2*jacobi(n - 2, 7/2, m + 2, 2*s**2 - 1) + 78*sqrt(2)*I*m*n*s**3*s**m*H(s)**2*jacobi(n - 1, 5/2, m + 1, 2*s**2 - 1) - 42*sqrt(2)*I*m*n*s*s**m*H(s)**2*jacobi(n - 1, 5/2, m + 1, 2*s**2 - 1) - 648*sqrt(2)*I*m*s**7*s**m*H(s)**2*jacobi(n - 2, 7/2, m + 2, 2*s**2 - 1) + 324*sqrt(2)*I*m*s**7*s**m*jacobi(n - 1, 5/2, m + 1, 2*s**2 - 1) + 1152*sqrt(2)*I*m*s**5*s**m*H(s)**2*jacobi(n - 2, 7/2, m + 2, 2*s**2 - 1) - 36*sqrt(2)*I*m*s**5*s**m*H(s)**2*jacobi(n - 1, 5/2, m + 1, 2*s**2 - 1) + 54*sqrt(2)*I*m*s**5*s**m*jacobi(n, 3/2, m, 2*s**2 - 1) - 576*sqrt(2)*I*m*s**5*s**m*jacobi(n - 1, 5/2, m + 1, 2*s**2 - 1) - 81*sqrt(2)*I*m*s**3*s**m*H(s)**2*jacobi(n, 3/2, m, 2*s**2 - 1) - 504*sqrt(2)*I*m*s**3*s**m*H(s)**2*jacobi(n - 2, 7/2, m + 2, 2*s**2 - 1) + 153*sqrt(2)*I*m*s**3*s**m*H(s)**2*jacobi(n - 1, 5/2, m + 1, 2*s**2 - 1) - 117*sqrt(2)*I*m*s**3*s**m*jacobi(n, 3/2, m, 2*s**2 - 1) + 252*sqrt(2)*I*m*s**3*s**m*jacobi(n - 1, 5/2, m + 1, 2*s**2 - 1) + 54*sqrt(2)*I*m*s*s**m*H(s)**2*jacobi(n, 3/2, m, 2*s**2 - 1) - 105*sqrt(2)*I*m*s*s**m*H(s)**2*jacobi(n - 1, 5/2, m + 1, 2*s**2 - 1) + 63*sqrt(2)*I*m*s*s**m*jacobi(n, 3/2, m, 2*s**2 - 1) - 108*sqrt(2)*I*n**2*s**7*s**m*H(s)**2*jacobi(n - 2, 7/2, m + 2, 2*s**2 - 1) + 192*sqrt(2)*I*n**2*s**5*s**m*H(s)**2*jacobi(n - 2, 7/2, m + 2, 2*s**2 - 1) - 84*sqrt(2)*I*n**2*s**3*s**m*H(s)**2*jacobi(n - 2, 7/2, m + 2, 2*s**2 - 1) - 648*sqrt(2)*I*n*s**7*s**m*H(s)**2*jacobi(n - 2, 7/2, m + 2, 2*s**2 - 1) + 324*sqrt(2)*I*n*s**7*s**m*jacobi(n - 1, 5/2, m + 1, 2*s**2 - 1) + 1152*sqrt(2)*I*n*s**5*s**m*H(s)**2*jacobi(n - 2, 7/2, m + 2, 2*s**2 - 1) + 54*sqrt(2)*I*n*s**5*s**m*H(s)**2*jacobi(n - 1, 5/2, m + 1, 2*s**2 - 1) - 576*sqrt(2)*I*n*s**5*s**m*jacobi(n - 1, 5/2, m + 1, 2*s**2 - 1) - 504*sqrt(2)*I*n*s**3*s**m*H(s)**2*jacobi(n - 2, 7/2, m + 2, 2*s**2 - 1) - 42*sqrt(2)*I*n*s**3*s**m*H(s)**2*jacobi(n - 1, 5/2, m + 1, 2*s**2 - 1) + 252*sqrt(2)*I*n*s**3*s**m*jacobi(n - 1, 5/2, m + 1, 2*s**2 - 1) - 945*sqrt(2)*I*s**7*s**m*H(s)**2*jacobi(n - 2, 7/2, m + 2, 2*s**2 - 1) + 810*sqrt(2)*I*s**7*s**m*jacobi(n - 1, 5/2, m + 1, 2*s**2 - 1) - 81*sqrt(2)*I*s**7*s**m*jacobi(n, 3/2, m, 2*s**2 - 1)/H(s)**2 + 1680*sqrt(2)*I*s**5*s**m*H(s)**2*jacobi(n - 2, 7/2, m + 2, 2*s**2 - 1) + 135*sqrt(2)*I*s**5*s**m*H(s)**2*jacobi(n - 1, 5/2, m + 1, 2*s**2 - 1) - 81*sqrt(2)*I*s**5*s**m*jacobi(n, 3/2, m, 2*s**2 - 1) - 1440*sqrt(2)*I*s**5*s**m*jacobi(n - 1, 5/2, m + 1, 2*s**2 - 1) + 144*sqrt(2)*I*s**5*s**m*jacobi(n, 3/2, m, 2*s**2 - 1)/H(s)**2 - 735*sqrt(2)*I*s**3*s**m*H(s)**2*jacobi(n - 2, 7/2, m + 2, 2*s**2 - 1) - 105*sqrt(2)*I*s**3*s**m*H(s)**2*jacobi(n - 1, 5/2, m + 1, 2*s**2 - 1) + 63*sqrt(2)*I*s**3*s**m*jacobi(n, 3/2, m, 2*s**2 - 1) + 630*sqrt(2)*I*s**3*s**m*jacobi(n - 1, 5/2, m + 1, 2*s**2 - 1) - 63*sqrt(2)*I*s**3*s**m*jacobi(n, 3/2, m, 2*s**2 - 1)/H(s)**2"
      ]
     },
     "execution_count": 32,
     "metadata": {},
     "output_type": "execute_result"
    }
   ],
   "source": [
    "forcing.expand()"
   ]
  },
  {
   "cell_type": "code",
   "execution_count": 37,
   "id": "a6cf51a7-38a4-43c2-b6be-5fe58b0f6891",
   "metadata": {},
   "outputs": [
    {
     "data": {
      "text/latex": [
       "$\\displaystyle 324 \\sqrt{2} i m s^{7} s^{m} P_{n - 1}^{\\left(\\frac{5}{2},m + 1\\right)}\\left(2 s^{2} - 1\\right) + 54 \\sqrt{2} i m s^{5} s^{m} P_{n}^{\\left(\\frac{3}{2},m\\right)}\\left(2 s^{2} - 1\\right) - 576 \\sqrt{2} i m s^{5} s^{m} P_{n - 1}^{\\left(\\frac{5}{2},m + 1\\right)}\\left(2 s^{2} - 1\\right) - 117 \\sqrt{2} i m s^{3} s^{m} P_{n}^{\\left(\\frac{3}{2},m\\right)}\\left(2 s^{2} - 1\\right) + 252 \\sqrt{2} i m s^{3} s^{m} P_{n - 1}^{\\left(\\frac{5}{2},m + 1\\right)}\\left(2 s^{2} - 1\\right) + 63 \\sqrt{2} i m s s^{m} P_{n}^{\\left(\\frac{3}{2},m\\right)}\\left(2 s^{2} - 1\\right) + 324 \\sqrt{2} i n s^{7} s^{m} P_{n - 1}^{\\left(\\frac{5}{2},m + 1\\right)}\\left(2 s^{2} - 1\\right) - 576 \\sqrt{2} i n s^{5} s^{m} P_{n - 1}^{\\left(\\frac{5}{2},m + 1\\right)}\\left(2 s^{2} - 1\\right) + 252 \\sqrt{2} i n s^{3} s^{m} P_{n - 1}^{\\left(\\frac{5}{2},m + 1\\right)}\\left(2 s^{2} - 1\\right) + 810 \\sqrt{2} i s^{7} s^{m} P_{n - 1}^{\\left(\\frac{5}{2},m + 1\\right)}\\left(2 s^{2} - 1\\right) - 81 \\sqrt{2} i s^{5} s^{m} P_{n}^{\\left(\\frac{3}{2},m\\right)}\\left(2 s^{2} - 1\\right) - 1440 \\sqrt{2} i s^{5} s^{m} P_{n - 1}^{\\left(\\frac{5}{2},m + 1\\right)}\\left(2 s^{2} - 1\\right) + 63 \\sqrt{2} i s^{3} s^{m} P_{n}^{\\left(\\frac{3}{2},m\\right)}\\left(2 s^{2} - 1\\right) + 630 \\sqrt{2} i s^{3} s^{m} P_{n - 1}^{\\left(\\frac{5}{2},m + 1\\right)}\\left(2 s^{2} - 1\\right) + \\frac{- 81 \\sqrt{2} i s^{7} s^{m} P_{n}^{\\left(\\frac{3}{2},m\\right)}\\left(2 s^{2} - 1\\right) + 144 \\sqrt{2} i s^{5} s^{m} P_{n}^{\\left(\\frac{3}{2},m\\right)}\\left(2 s^{2} - 1\\right) - 63 \\sqrt{2} i s^{3} s^{m} P_{n}^{\\left(\\frac{3}{2},m\\right)}\\left(2 s^{2} - 1\\right)}{H^{2}{\\left(s \\right)}} + \\left(- 108 \\sqrt{2} i m^{2} s^{7} s^{m} P_{n - 2}^{\\left(\\frac{7}{2},m + 2\\right)}\\left(2 s^{2} - 1\\right) + 192 \\sqrt{2} i m^{2} s^{5} s^{m} P_{n - 2}^{\\left(\\frac{7}{2},m + 2\\right)}\\left(2 s^{2} - 1\\right) - 36 \\sqrt{2} i m^{2} s^{5} s^{m} P_{n - 1}^{\\left(\\frac{5}{2},m + 1\\right)}\\left(2 s^{2} - 1\\right) + 9 \\sqrt{2} i m^{2} s^{3} s^{m} P_{n}^{\\left(\\frac{3}{2},m\\right)}\\left(2 s^{2} - 1\\right) - 84 \\sqrt{2} i m^{2} s^{3} s^{m} P_{n - 2}^{\\left(\\frac{7}{2},m + 2\\right)}\\left(2 s^{2} - 1\\right) + 78 \\sqrt{2} i m^{2} s^{3} s^{m} P_{n - 1}^{\\left(\\frac{5}{2},m + 1\\right)}\\left(2 s^{2} - 1\\right) - 9 \\sqrt{2} i m^{2} s s^{m} P_{n}^{\\left(\\frac{3}{2},m\\right)}\\left(2 s^{2} - 1\\right) - 42 \\sqrt{2} i m^{2} s s^{m} P_{n - 1}^{\\left(\\frac{5}{2},m + 1\\right)}\\left(2 s^{2} - 1\\right) - 216 \\sqrt{2} i m n s^{7} s^{m} P_{n - 2}^{\\left(\\frac{7}{2},m + 2\\right)}\\left(2 s^{2} - 1\\right) + 384 \\sqrt{2} i m n s^{5} s^{m} P_{n - 2}^{\\left(\\frac{7}{2},m + 2\\right)}\\left(2 s^{2} - 1\\right) - 36 \\sqrt{2} i m n s^{5} s^{m} P_{n - 1}^{\\left(\\frac{5}{2},m + 1\\right)}\\left(2 s^{2} - 1\\right) - 168 \\sqrt{2} i m n s^{3} s^{m} P_{n - 2}^{\\left(\\frac{7}{2},m + 2\\right)}\\left(2 s^{2} - 1\\right) + 78 \\sqrt{2} i m n s^{3} s^{m} P_{n - 1}^{\\left(\\frac{5}{2},m + 1\\right)}\\left(2 s^{2} - 1\\right) - 42 \\sqrt{2} i m n s s^{m} P_{n - 1}^{\\left(\\frac{5}{2},m + 1\\right)}\\left(2 s^{2} - 1\\right) - 648 \\sqrt{2} i m s^{7} s^{m} P_{n - 2}^{\\left(\\frac{7}{2},m + 2\\right)}\\left(2 s^{2} - 1\\right) + 1152 \\sqrt{2} i m s^{5} s^{m} P_{n - 2}^{\\left(\\frac{7}{2},m + 2\\right)}\\left(2 s^{2} - 1\\right) - 36 \\sqrt{2} i m s^{5} s^{m} P_{n - 1}^{\\left(\\frac{5}{2},m + 1\\right)}\\left(2 s^{2} - 1\\right) - 81 \\sqrt{2} i m s^{3} s^{m} P_{n}^{\\left(\\frac{3}{2},m\\right)}\\left(2 s^{2} - 1\\right) - 504 \\sqrt{2} i m s^{3} s^{m} P_{n - 2}^{\\left(\\frac{7}{2},m + 2\\right)}\\left(2 s^{2} - 1\\right) + 153 \\sqrt{2} i m s^{3} s^{m} P_{n - 1}^{\\left(\\frac{5}{2},m + 1\\right)}\\left(2 s^{2} - 1\\right) + 54 \\sqrt{2} i m s s^{m} P_{n}^{\\left(\\frac{3}{2},m\\right)}\\left(2 s^{2} - 1\\right) - 105 \\sqrt{2} i m s s^{m} P_{n - 1}^{\\left(\\frac{5}{2},m + 1\\right)}\\left(2 s^{2} - 1\\right) - 108 \\sqrt{2} i n^{2} s^{7} s^{m} P_{n - 2}^{\\left(\\frac{7}{2},m + 2\\right)}\\left(2 s^{2} - 1\\right) + 192 \\sqrt{2} i n^{2} s^{5} s^{m} P_{n - 2}^{\\left(\\frac{7}{2},m + 2\\right)}\\left(2 s^{2} - 1\\right) - 84 \\sqrt{2} i n^{2} s^{3} s^{m} P_{n - 2}^{\\left(\\frac{7}{2},m + 2\\right)}\\left(2 s^{2} - 1\\right) - 648 \\sqrt{2} i n s^{7} s^{m} P_{n - 2}^{\\left(\\frac{7}{2},m + 2\\right)}\\left(2 s^{2} - 1\\right) + 1152 \\sqrt{2} i n s^{5} s^{m} P_{n - 2}^{\\left(\\frac{7}{2},m + 2\\right)}\\left(2 s^{2} - 1\\right) + 54 \\sqrt{2} i n s^{5} s^{m} P_{n - 1}^{\\left(\\frac{5}{2},m + 1\\right)}\\left(2 s^{2} - 1\\right) - 504 \\sqrt{2} i n s^{3} s^{m} P_{n - 2}^{\\left(\\frac{7}{2},m + 2\\right)}\\left(2 s^{2} - 1\\right) - 42 \\sqrt{2} i n s^{3} s^{m} P_{n - 1}^{\\left(\\frac{5}{2},m + 1\\right)}\\left(2 s^{2} - 1\\right) - 945 \\sqrt{2} i s^{7} s^{m} P_{n - 2}^{\\left(\\frac{7}{2},m + 2\\right)}\\left(2 s^{2} - 1\\right) + 1680 \\sqrt{2} i s^{5} s^{m} P_{n - 2}^{\\left(\\frac{7}{2},m + 2\\right)}\\left(2 s^{2} - 1\\right) + 135 \\sqrt{2} i s^{5} s^{m} P_{n - 1}^{\\left(\\frac{5}{2},m + 1\\right)}\\left(2 s^{2} - 1\\right) - 735 \\sqrt{2} i s^{3} s^{m} P_{n - 2}^{\\left(\\frac{7}{2},m + 2\\right)}\\left(2 s^{2} - 1\\right) - 105 \\sqrt{2} i s^{3} s^{m} P_{n - 1}^{\\left(\\frac{5}{2},m + 1\\right)}\\left(2 s^{2} - 1\\right)\\right) H^{2}{\\left(s \\right)}$"
      ],
      "text/plain": [
       "324*sqrt(2)*I*m*s**7*s**m*jacobi(n - 1, 5/2, m + 1, 2*s**2 - 1) + 54*sqrt(2)*I*m*s**5*s**m*jacobi(n, 3/2, m, 2*s**2 - 1) - 576*sqrt(2)*I*m*s**5*s**m*jacobi(n - 1, 5/2, m + 1, 2*s**2 - 1) - 117*sqrt(2)*I*m*s**3*s**m*jacobi(n, 3/2, m, 2*s**2 - 1) + 252*sqrt(2)*I*m*s**3*s**m*jacobi(n - 1, 5/2, m + 1, 2*s**2 - 1) + 63*sqrt(2)*I*m*s*s**m*jacobi(n, 3/2, m, 2*s**2 - 1) + 324*sqrt(2)*I*n*s**7*s**m*jacobi(n - 1, 5/2, m + 1, 2*s**2 - 1) - 576*sqrt(2)*I*n*s**5*s**m*jacobi(n - 1, 5/2, m + 1, 2*s**2 - 1) + 252*sqrt(2)*I*n*s**3*s**m*jacobi(n - 1, 5/2, m + 1, 2*s**2 - 1) + 810*sqrt(2)*I*s**7*s**m*jacobi(n - 1, 5/2, m + 1, 2*s**2 - 1) - 81*sqrt(2)*I*s**5*s**m*jacobi(n, 3/2, m, 2*s**2 - 1) - 1440*sqrt(2)*I*s**5*s**m*jacobi(n - 1, 5/2, m + 1, 2*s**2 - 1) + 63*sqrt(2)*I*s**3*s**m*jacobi(n, 3/2, m, 2*s**2 - 1) + 630*sqrt(2)*I*s**3*s**m*jacobi(n - 1, 5/2, m + 1, 2*s**2 - 1) + (-81*sqrt(2)*I*s**7*s**m*jacobi(n, 3/2, m, 2*s**2 - 1) + 144*sqrt(2)*I*s**5*s**m*jacobi(n, 3/2, m, 2*s**2 - 1) - 63*sqrt(2)*I*s**3*s**m*jacobi(n, 3/2, m, 2*s**2 - 1))/H(s)**2 + (-108*sqrt(2)*I*m**2*s**7*s**m*jacobi(n - 2, 7/2, m + 2, 2*s**2 - 1) + 192*sqrt(2)*I*m**2*s**5*s**m*jacobi(n - 2, 7/2, m + 2, 2*s**2 - 1) - 36*sqrt(2)*I*m**2*s**5*s**m*jacobi(n - 1, 5/2, m + 1, 2*s**2 - 1) + 9*sqrt(2)*I*m**2*s**3*s**m*jacobi(n, 3/2, m, 2*s**2 - 1) - 84*sqrt(2)*I*m**2*s**3*s**m*jacobi(n - 2, 7/2, m + 2, 2*s**2 - 1) + 78*sqrt(2)*I*m**2*s**3*s**m*jacobi(n - 1, 5/2, m + 1, 2*s**2 - 1) - 9*sqrt(2)*I*m**2*s*s**m*jacobi(n, 3/2, m, 2*s**2 - 1) - 42*sqrt(2)*I*m**2*s*s**m*jacobi(n - 1, 5/2, m + 1, 2*s**2 - 1) - 216*sqrt(2)*I*m*n*s**7*s**m*jacobi(n - 2, 7/2, m + 2, 2*s**2 - 1) + 384*sqrt(2)*I*m*n*s**5*s**m*jacobi(n - 2, 7/2, m + 2, 2*s**2 - 1) - 36*sqrt(2)*I*m*n*s**5*s**m*jacobi(n - 1, 5/2, m + 1, 2*s**2 - 1) - 168*sqrt(2)*I*m*n*s**3*s**m*jacobi(n - 2, 7/2, m + 2, 2*s**2 - 1) + 78*sqrt(2)*I*m*n*s**3*s**m*jacobi(n - 1, 5/2, m + 1, 2*s**2 - 1) - 42*sqrt(2)*I*m*n*s*s**m*jacobi(n - 1, 5/2, m + 1, 2*s**2 - 1) - 648*sqrt(2)*I*m*s**7*s**m*jacobi(n - 2, 7/2, m + 2, 2*s**2 - 1) + 1152*sqrt(2)*I*m*s**5*s**m*jacobi(n - 2, 7/2, m + 2, 2*s**2 - 1) - 36*sqrt(2)*I*m*s**5*s**m*jacobi(n - 1, 5/2, m + 1, 2*s**2 - 1) - 81*sqrt(2)*I*m*s**3*s**m*jacobi(n, 3/2, m, 2*s**2 - 1) - 504*sqrt(2)*I*m*s**3*s**m*jacobi(n - 2, 7/2, m + 2, 2*s**2 - 1) + 153*sqrt(2)*I*m*s**3*s**m*jacobi(n - 1, 5/2, m + 1, 2*s**2 - 1) + 54*sqrt(2)*I*m*s*s**m*jacobi(n, 3/2, m, 2*s**2 - 1) - 105*sqrt(2)*I*m*s*s**m*jacobi(n - 1, 5/2, m + 1, 2*s**2 - 1) - 108*sqrt(2)*I*n**2*s**7*s**m*jacobi(n - 2, 7/2, m + 2, 2*s**2 - 1) + 192*sqrt(2)*I*n**2*s**5*s**m*jacobi(n - 2, 7/2, m + 2, 2*s**2 - 1) - 84*sqrt(2)*I*n**2*s**3*s**m*jacobi(n - 2, 7/2, m + 2, 2*s**2 - 1) - 648*sqrt(2)*I*n*s**7*s**m*jacobi(n - 2, 7/2, m + 2, 2*s**2 - 1) + 1152*sqrt(2)*I*n*s**5*s**m*jacobi(n - 2, 7/2, m + 2, 2*s**2 - 1) + 54*sqrt(2)*I*n*s**5*s**m*jacobi(n - 1, 5/2, m + 1, 2*s**2 - 1) - 504*sqrt(2)*I*n*s**3*s**m*jacobi(n - 2, 7/2, m + 2, 2*s**2 - 1) - 42*sqrt(2)*I*n*s**3*s**m*jacobi(n - 1, 5/2, m + 1, 2*s**2 - 1) - 945*sqrt(2)*I*s**7*s**m*jacobi(n - 2, 7/2, m + 2, 2*s**2 - 1) + 1680*sqrt(2)*I*s**5*s**m*jacobi(n - 2, 7/2, m + 2, 2*s**2 - 1) + 135*sqrt(2)*I*s**5*s**m*jacobi(n - 1, 5/2, m + 1, 2*s**2 - 1) - 735*sqrt(2)*I*s**3*s**m*jacobi(n - 2, 7/2, m + 2, 2*s**2 - 1) - 105*sqrt(2)*I*s**3*s**m*jacobi(n - 1, 5/2, m + 1, 2*s**2 - 1))*H(s)**2"
      ]
     },
     "execution_count": 37,
     "metadata": {},
     "output_type": "execute_result"
    }
   ],
   "source": [
    "forcing.expand().collect(core.H)"
   ]
  },
  {
   "cell_type": "code",
   "execution_count": 22,
   "id": "4ae30b5b-6d27-4a4e-b5db-08c2e6389a56",
   "metadata": {},
   "outputs": [
    {
     "data": {
      "text/latex": [
       "$\\displaystyle - \\frac{i \\omega m^{2} \\psi}{H s} + \\frac{i \\omega s \\frac{d^{2}}{d s^{2}} \\psi}{H} + \\frac{i \\omega \\frac{d}{d s} \\psi}{H} - \\frac{i \\omega m^{2} s \\psi}{2 H^{3}} + \\frac{i \\omega s^{2} \\frac{d}{d s} \\psi}{H^{3}} = \\frac{4 i m s \\left(6 s^{2} - 5\\right) b_{z}^e}{H^{2}} + \\frac{i m s b^{+}_{z}}{H^{2}} + \\frac{i m s b^{-}_{z}}{H^{2}} - \\frac{\\sqrt{2} i m s \\frac{d}{d s} \\widetilde{m_{z+}}}{4 H^{2}} - \\frac{\\sqrt{2} i m s \\frac{d}{d s} \\widetilde{m_{z-}}}{4 H^{2}} + \\frac{\\sqrt{2} i m \\left(m - 1\\right) \\widetilde{m_{z-}}}{4 H^{2}} - \\frac{\\sqrt{2} i m \\left(m + 1\\right) \\widetilde{m_{z+}}}{4 H^{2}} + \\frac{\\sqrt{2} i s^{2} \\cdot \\left(6 s^{2} - 5\\right) b_{+, z}^e}{H^{2}} - \\frac{\\sqrt{2} i s^{2} \\cdot \\left(6 s^{2} - 5\\right) b_{-, z}^e}{H^{2}} + \\frac{i m \\left(m - 2\\right) \\left(s - 1\\right) \\left(s + 1\\right) \\overline{m_-}}{4 H^{3} s} - \\frac{i m \\left(m + 2\\right) \\left(s - 1\\right) \\left(s + 1\\right) \\overline{m_+}}{4 H^{3} s} + \\frac{\\sqrt{2} i s \\left(s - 1\\right) \\left(s + 1\\right) \\frac{d}{d s} b^{+}_{+}}{H^{3}} - \\frac{\\sqrt{2} i s \\left(s - 1\\right) \\left(s + 1\\right) \\frac{d}{d s} b^{-}_{+}}{H^{3}} - \\frac{\\sqrt{2} i s \\left(s - 1\\right) \\left(s + 1\\right) \\frac{d}{d s} b^{+}_{-}}{H^{3}} + \\frac{\\sqrt{2} i s \\left(s - 1\\right) \\left(s + 1\\right) \\frac{d}{d s} b^{-}_{-}}{H^{3}} - \\frac{i s \\left(s - 1\\right) \\left(s + 1\\right) \\frac{d^{2}}{d s^{2}} \\overline{m_+}}{4 H^{3}} + \\frac{i s \\left(s - 1\\right) \\left(s + 1\\right) \\frac{d^{2}}{d s^{2}} \\overline{m_-}}{4 H^{3}} - \\frac{i \\left(2 m - 3\\right) \\left(s - 1\\right) \\left(s + 1\\right) \\frac{d}{d s} \\overline{m_-}}{4 H^{3}} - \\frac{i \\left(2 m + 3\\right) \\left(s - 1\\right) \\left(s + 1\\right) \\frac{d}{d s} \\overline{m_+}}{4 H^{3}} + \\frac{\\sqrt{2} i \\left(m s^{2} - 2 m - 2 s^{2} + 2\\right) b^{+}_{-}}{2 H^{3}} - \\frac{\\sqrt{2} i \\left(m s^{2} - 2 m - 2 s^{2} + 2\\right) b^{-}_{-}}{2 H^{3}} + \\frac{\\sqrt{2} i \\left(m s^{2} - 2 m + 2 s^{2} - 2\\right) b^{+}_{+}}{2 H^{3}} - \\frac{\\sqrt{2} i \\left(m s^{2} - 2 m + 2 s^{2} - 2\\right) b^{-}_{+}}{2 H^{3}} + \\frac{2 i m s \\psi}{H^{3} \\mathrm{Le}}$"
      ],
      "text/plain": [
       "<IPython.core.display.Math object>"
      ]
     },
     "metadata": {},
     "output_type": "display_data"
    },
    {
     "data": {
      "text/latex": [
       "$\\displaystyle i \\omega \\overline{m_1} = - 24 i m s \\left(s - 1\\right) \\left(s + 1\\right) \\frac{d}{d s} \\psi + 48 i m \\left(2 s^{2} - 1\\right) \\psi$"
      ],
      "text/plain": [
       "<IPython.core.display.Math object>"
      ]
     },
     "metadata": {},
     "output_type": "display_data"
    },
    {
     "data": {
      "text/latex": [
       "$\\displaystyle i \\omega \\overline{m_+} = 48 i m \\left(2 s^{2} - 1\\right) \\psi + 24 i s^{2} \\left(s - 1\\right) \\left(s + 1\\right) \\frac{d^{2}}{d s^{2}} \\psi - 24 i s \\left(m s^{2} - m + 2 s^{2} - 1\\right) \\frac{d}{d s} \\psi$"
      ],
      "text/plain": [
       "<IPython.core.display.Math object>"
      ]
     },
     "metadata": {},
     "output_type": "display_data"
    },
    {
     "data": {
      "text/latex": [
       "$\\displaystyle i \\omega \\overline{m_-} = 48 i m \\left(2 s^{2} - 1\\right) \\psi - 24 i s^{2} \\left(s - 1\\right) \\left(s + 1\\right) \\frac{d^{2}}{d s^{2}} \\psi - 24 i s \\left(m s^{2} - m - 2 s^{2} + 1\\right) \\frac{d}{d s} \\psi$"
      ],
      "text/plain": [
       "<IPython.core.display.Math object>"
      ]
     },
     "metadata": {},
     "output_type": "display_data"
    },
    {
     "data": {
      "text/latex": [
       "$\\displaystyle i \\omega \\widetilde{m_{z+}} = - \\frac{3 \\sqrt{2} i m \\left(3 s^{2} - 2\\right) \\left(18 s^{2} - 7\\right) \\psi}{H s} - \\frac{3 \\sqrt{2} i s \\left(s - 1\\right) \\left(s + 1\\right) \\left(9 s^{2} - 7\\right) \\frac{d^{2}}{d s^{2}} \\psi}{H} + \\frac{3 \\sqrt{2} i \\left(12 m s^{4} - 19 m s^{2} + 7 m + 18 s^{4} - 23 s^{2} + 7\\right) \\frac{d}{d s} \\psi}{H}$"
      ],
      "text/plain": [
       "<IPython.core.display.Math object>"
      ]
     },
     "metadata": {},
     "output_type": "display_data"
    },
    {
     "data": {
      "text/latex": [
       "$\\displaystyle i \\omega \\widetilde{m_{z-}} = - \\frac{3 \\sqrt{2} i m \\left(3 s^{2} - 2\\right) \\left(18 s^{2} - 7\\right) \\psi}{H s} + \\frac{3 \\sqrt{2} i s \\left(s - 1\\right) \\left(s + 1\\right) \\left(9 s^{2} - 7\\right) \\frac{d^{2}}{d s^{2}} \\psi}{H} + \\frac{3 \\sqrt{2} i \\left(12 m s^{4} - 19 m s^{2} + 7 m - 18 s^{4} + 23 s^{2} - 7\\right) \\frac{d}{d s} \\psi}{H}$"
      ],
      "text/plain": [
       "<IPython.core.display.Math object>"
      ]
     },
     "metadata": {},
     "output_type": "display_data"
    },
    {
     "data": {
      "text/latex": [
       "$\\displaystyle i \\omega \\widetilde{zm_1} = - 18 i m s \\sqrt{1 - s} \\left(s - 1\\right) \\left(s + 1\\right)^{\\frac{3}{2}} \\frac{d}{d s} \\psi + 36 i m \\sqrt{1 - s} \\sqrt{s + 1} \\cdot \\left(2 s^{2} - 1\\right) \\psi$"
      ],
      "text/plain": [
       "<IPython.core.display.Math object>"
      ]
     },
     "metadata": {},
     "output_type": "display_data"
    },
    {
     "data": {
      "text/latex": [
       "$\\displaystyle i \\omega \\widetilde{zm_+} = 36 i m \\sqrt{1 - s} \\sqrt{s + 1} \\cdot \\left(2 s^{2} - 1\\right) \\psi + 18 i s^{2} \\sqrt{1 - s} \\left(s - 1\\right) \\left(s + 1\\right)^{\\frac{3}{2}} \\frac{d^{2}}{d s^{2}} \\psi - 18 i s \\sqrt{1 - s} \\sqrt{s + 1} \\left(m s^{2} - m + 2 s^{2} - 1\\right) \\frac{d}{d s} \\psi$"
      ],
      "text/plain": [
       "<IPython.core.display.Math object>"
      ]
     },
     "metadata": {},
     "output_type": "display_data"
    },
    {
     "data": {
      "text/latex": [
       "$\\displaystyle i \\omega \\widetilde{zm_-} = 36 i m \\sqrt{1 - s} \\sqrt{s + 1} \\cdot \\left(2 s^{2} - 1\\right) \\psi - 18 i s^{2} \\sqrt{1 - s} \\left(s - 1\\right) \\left(s + 1\\right)^{\\frac{3}{2}} \\frac{d^{2}}{d s^{2}} \\psi - 18 i s \\sqrt{1 - s} \\sqrt{s + 1} \\left(m s^{2} - m - 2 s^{2} + 1\\right) \\frac{d}{d s} \\psi$"
      ],
      "text/plain": [
       "<IPython.core.display.Math object>"
      ]
     },
     "metadata": {},
     "output_type": "display_data"
    },
    {
     "data": {
      "text/latex": [
       "$\\displaystyle i \\omega b_{+}^e = 0$"
      ],
      "text/plain": [
       "<IPython.core.display.Math object>"
      ]
     },
     "metadata": {},
     "output_type": "display_data"
    },
    {
     "data": {
      "text/latex": [
       "$\\displaystyle i \\omega b_{-}^e = 0$"
      ],
      "text/plain": [
       "<IPython.core.display.Math object>"
      ]
     },
     "metadata": {},
     "output_type": "display_data"
    },
    {
     "data": {
      "text/latex": [
       "$\\displaystyle i \\omega b_{z}^e = \\frac{2 i m \\left(6 s^{2} - 7\\right) \\psi}{H^{3}}$"
      ],
      "text/plain": [
       "<IPython.core.display.Math object>"
      ]
     },
     "metadata": {},
     "output_type": "display_data"
    },
    {
     "data": {
      "text/latex": [
       "$\\displaystyle i \\omega b_{+, z}^e = \\frac{3 \\sqrt{2} i s \\frac{d^{2}}{d s^{2}} \\psi}{H} - \\frac{6 \\sqrt{2} i m \\left(2 s^{2} - 1\\right) \\psi}{H^{3} s} + \\frac{3 \\sqrt{2} i \\left(m s^{2} - m + 2 s^{2} - 1\\right) \\frac{d}{d s} \\psi}{H^{3}}$"
      ],
      "text/plain": [
       "<IPython.core.display.Math object>"
      ]
     },
     "metadata": {},
     "output_type": "display_data"
    },
    {
     "data": {
      "text/latex": [
       "$\\displaystyle i \\omega b_{-, z}^e = - \\frac{3 \\sqrt{2} i s \\frac{d^{2}}{d s^{2}} \\psi}{H} - \\frac{6 \\sqrt{2} i m \\left(2 s^{2} - 1\\right) \\psi}{H^{3} s} + \\frac{3 \\sqrt{2} i \\left(m s^{2} - m - 2 s^{2} + 1\\right) \\frac{d}{d s} \\psi}{H^{3}}$"
      ],
      "text/plain": [
       "<IPython.core.display.Math object>"
      ]
     },
     "metadata": {},
     "output_type": "display_data"
    },
    {
     "data": {
      "text/latex": [
       "$\\displaystyle i \\omega b^{+}_{+} = 3 \\sqrt{2} i s \\frac{d^{2}}{d s^{2}} \\psi - \\frac{6 \\sqrt{2} i m \\left(2 s^{2} - 1\\right) \\psi}{H^{2} s} + \\frac{3 \\sqrt{2} i \\left(m s^{2} - m + 2 s^{2} - 1\\right) \\frac{d}{d s} \\psi}{H^{2}}$"
      ],
      "text/plain": [
       "<IPython.core.display.Math object>"
      ]
     },
     "metadata": {},
     "output_type": "display_data"
    },
    {
     "data": {
      "text/latex": [
       "$\\displaystyle i \\omega b^{+}_{-} = - 3 \\sqrt{2} i s \\frac{d^{2}}{d s^{2}} \\psi - \\frac{6 \\sqrt{2} i m \\left(2 s^{2} - 1\\right) \\psi}{H^{2} s} + \\frac{3 \\sqrt{2} i \\left(m s^{2} - m - 2 s^{2} + 1\\right) \\frac{d}{d s} \\psi}{H^{2}}$"
      ],
      "text/plain": [
       "<IPython.core.display.Math object>"
      ]
     },
     "metadata": {},
     "output_type": "display_data"
    },
    {
     "data": {
      "text/latex": [
       "$\\displaystyle i \\omega b^{+}_{z} = \\frac{6 i m s \\frac{d}{d s} \\psi}{H} + \\frac{8 i m \\left(3 s^{2} - 1\\right) \\psi}{H^{3}}$"
      ],
      "text/plain": [
       "<IPython.core.display.Math object>"
      ]
     },
     "metadata": {},
     "output_type": "display_data"
    },
    {
     "data": {
      "text/latex": [
       "$\\displaystyle i \\omega b^{-}_{+} = - 3 \\sqrt{2} i s \\frac{d^{2}}{d s^{2}} \\psi + \\frac{6 \\sqrt{2} i m \\left(2 s^{2} - 1\\right) \\psi}{H^{2} s} - \\frac{3 \\sqrt{2} i \\left(m s^{2} - m + 2 s^{2} - 1\\right) \\frac{d}{d s} \\psi}{H^{2}}$"
      ],
      "text/plain": [
       "<IPython.core.display.Math object>"
      ]
     },
     "metadata": {},
     "output_type": "display_data"
    },
    {
     "data": {
      "text/latex": [
       "$\\displaystyle i \\omega b^{-}_{-} = 3 \\sqrt{2} i s \\frac{d^{2}}{d s^{2}} \\psi + \\frac{6 \\sqrt{2} i m \\left(2 s^{2} - 1\\right) \\psi}{H^{2} s} - \\frac{3 \\sqrt{2} i \\left(m s^{2} - m - 2 s^{2} + 1\\right) \\frac{d}{d s} \\psi}{H^{2}}$"
      ],
      "text/plain": [
       "<IPython.core.display.Math object>"
      ]
     },
     "metadata": {},
     "output_type": "display_data"
    },
    {
     "data": {
      "text/latex": [
       "$\\displaystyle i \\omega b^{-}_{z} = \\frac{6 i m s \\frac{d}{d s} \\psi}{H} + \\frac{8 i m \\left(3 s^{2} - 1\\right) \\psi}{H^{3}}$"
      ],
      "text/plain": [
       "<IPython.core.display.Math object>"
      ]
     },
     "metadata": {},
     "output_type": "display_data"
    }
   ],
   "source": [
    "placeholders_map = base.map_collection(expansion.cgvar_s, base_utils.extract_symbols(core.cgvar_ptb))\n",
    "placeholder_h = {core.H: sp.Symbol(\"H\")}\n",
    "for fname in ode_s_fd_cg._field_names:\n",
    "    if fname == \"Br_b\":\n",
    "        continue\n",
    "    o_str = sp.latex(ode_s_fd_cg[fname].subs(placeholder_h))\n",
    "    for var_old, var_new in placeholders_map.items():\n",
    "        o_str = o_str.replace(sp.latex(var_old), sp.latex(var_new))\n",
    "    # print(o_str)\n",
    "    display(Math(o_str))"
   ]
  },
  {
   "cell_type": "code",
   "execution_count": 23,
   "id": "102c6329-acc7-4b3c-ad47-96be23a0fbd5",
   "metadata": {},
   "outputs": [],
   "source": [
    "map_cg_pg = core.map_conjugate_to_pg(core.cgvar_ptb, core.pgvar_ptb)"
   ]
  },
  {
   "cell_type": "code",
   "execution_count": 26,
   "id": "e55d81c6-9f42-4821-ba2a-a7fcdd8737b1",
   "metadata": {},
   "outputs": [],
   "source": [
    "eqs_pg_from_cg = eqs_cg.apply(lambda eq: eq.subs(map_cg_pg))\n",
    "eqs_pg_from_cg = core.conjugate_to_PG(eqs_pg_from_cg).apply(lambda eq: eq.doit().expand())"
   ]
  },
  {
   "cell_type": "code",
   "execution_count": 27,
   "id": "59fa1a60-9050-405b-b5f4-e3669d2a07b5",
   "metadata": {},
   "outputs": [
    {
     "data": {
      "text/latex": [
       "$\\displaystyle \\frac{s^{2} \\frac{\\partial^{2}}{\\partial t\\partial s} \\psi{\\left(s,\\phi,t \\right)}}{H^{3}{\\left(s \\right)}} + \\frac{s \\frac{\\partial^{3}}{\\partial t\\partial s^{2}} \\psi{\\left(s,\\phi,t \\right)}}{H{\\left(s \\right)}} + \\frac{s \\frac{\\partial^{3}}{\\partial t\\partial \\phi^{2}} \\psi{\\left(s,\\phi,t \\right)}}{2 H^{3}{\\left(s \\right)}} + \\frac{\\frac{\\partial^{2}}{\\partial t\\partial s} \\psi{\\left(s,\\phi,t \\right)}}{H{\\left(s \\right)}} + \\frac{\\frac{\\partial^{3}}{\\partial t\\partial \\phi^{2}} \\psi{\\left(s,\\phi,t \\right)}}{s H{\\left(s \\right)}} = - \\frac{12 s^{4} b_{\\phi, z}^e{\\left(s,\\phi,t \\right)}}{H^{2}{\\left(s \\right)}} - \\frac{3 s^{4} \\frac{\\partial}{\\partial \\phi} b^{+}_{s}{\\left(s,\\phi,t \\right)}}{H^{3}{\\left(s \\right)}} + \\frac{3 s^{4} \\frac{\\partial}{\\partial \\phi} b^{-}_{s}{\\left(s,\\phi,t \\right)}}{H^{3}{\\left(s \\right)}} - \\frac{3 s^{3} \\frac{\\partial}{\\partial \\phi} b^{+}_{z}{\\left(s,\\phi,t \\right)}}{H^{2}{\\left(s \\right)}} - \\frac{3 s^{3} \\frac{\\partial}{\\partial \\phi} b^{-}_{z}{\\left(s,\\phi,t \\right)}}{H^{2}{\\left(s \\right)}} + \\frac{24 s^{3} \\frac{\\partial}{\\partial \\phi} b_{z}^e{\\left(s,\\phi,t \\right)}}{H^{2}{\\left(s \\right)}} - \\frac{3 s^{2} \\frac{\\partial}{\\partial \\phi} b^{+}_{s}{\\left(s,\\phi,t \\right)}}{H{\\left(s \\right)}} + \\frac{3 s^{2} \\frac{\\partial}{\\partial \\phi} b^{-}_{s}{\\left(s,\\phi,t \\right)}}{H{\\left(s \\right)}} + \\frac{10 s^{2} b_{\\phi, z}^e{\\left(s,\\phi,t \\right)}}{H^{2}{\\left(s \\right)}} + \\frac{2 s^{2} \\frac{\\partial}{\\partial \\phi} b^{+}_{s}{\\left(s,\\phi,t \\right)}}{H^{3}{\\left(s \\right)}} - \\frac{2 s^{2} \\frac{\\partial}{\\partial \\phi} b^{-}_{s}{\\left(s,\\phi,t \\right)}}{H^{3}{\\left(s \\right)}} - 3 s \\frac{\\partial}{\\partial \\phi} b^{+}_{z}{\\left(s,\\phi,t \\right)} - 3 s \\frac{\\partial}{\\partial \\phi} b^{-}_{z}{\\left(s,\\phi,t \\right)} - \\frac{s \\frac{\\partial^{2}}{\\partial s^{2}} \\overline{m_{s\\phi}}{\\left(s,\\phi,t \\right)}}{2 H{\\left(s \\right)}} + \\frac{2 s \\frac{\\partial}{\\partial s} b^{+}_{\\phi}{\\left(s,\\phi,t \\right)}}{H{\\left(s \\right)}} - \\frac{2 s \\frac{\\partial}{\\partial s} b^{-}_{\\phi}{\\left(s,\\phi,t \\right)}}{H{\\left(s \\right)}} + \\frac{4 s \\frac{\\partial}{\\partial \\phi} b^{+}_{z}{\\left(s,\\phi,t \\right)}}{H^{2}{\\left(s \\right)}} + \\frac{4 s \\frac{\\partial}{\\partial \\phi} b^{-}_{z}{\\left(s,\\phi,t \\right)}}{H^{2}{\\left(s \\right)}} - \\frac{20 s \\frac{\\partial}{\\partial \\phi} b_{z}^e{\\left(s,\\phi,t \\right)}}{H^{2}{\\left(s \\right)}} - \\frac{s \\frac{\\partial^{2}}{\\partial s\\partial \\phi} \\widetilde{m_{sz}}{\\left(s,\\phi,t \\right)}}{2 H^{2}{\\left(s \\right)}} + \\frac{2 b^{+}_{\\phi}{\\left(s,\\phi,t \\right)}}{H{\\left(s \\right)}} - \\frac{2 b^{-}_{\\phi}{\\left(s,\\phi,t \\right)}}{H{\\left(s \\right)}} - \\frac{3 \\frac{\\partial}{\\partial s} \\overline{m_{s\\phi}}{\\left(s,\\phi,t \\right)}}{2 H{\\left(s \\right)}} - \\frac{2 \\frac{\\partial}{\\partial \\phi} b^{+}_{s}{\\left(s,\\phi,t \\right)}}{H{\\left(s \\right)}} + \\frac{2 \\frac{\\partial}{\\partial \\phi} b^{-}_{s}{\\left(s,\\phi,t \\right)}}{H{\\left(s \\right)}} - \\frac{\\frac{\\partial^{2}}{\\partial s\\partial \\phi} \\overline{m_{\\phi\\phi}}{\\left(s,\\phi,t \\right)}}{2 H{\\left(s \\right)}} + \\frac{\\frac{\\partial^{2}}{\\partial s\\partial \\phi} \\overline{m_{ss}}{\\left(s,\\phi,t \\right)}}{2 H{\\left(s \\right)}} - \\frac{\\frac{\\partial^{2}}{\\partial \\phi^{2}} \\widetilde{m_{\\phi z}}{\\left(s,\\phi,t \\right)}}{2 H^{2}{\\left(s \\right)}} - \\frac{\\frac{\\partial}{\\partial \\phi} \\widetilde{m_{sz}}{\\left(s,\\phi,t \\right)}}{2 H^{2}{\\left(s \\right)}} - \\frac{\\frac{\\partial}{\\partial \\phi} \\overline{m_{\\phi\\phi}}{\\left(s,\\phi,t \\right)}}{2 s H{\\left(s \\right)}} + \\frac{\\frac{\\partial^{2}}{\\partial \\phi^{2}} \\overline{m_{s\\phi}}{\\left(s,\\phi,t \\right)}}{2 s H{\\left(s \\right)}} + \\frac{\\frac{\\partial}{\\partial \\phi} \\overline{m_{ss}}{\\left(s,\\phi,t \\right)}}{2 s H{\\left(s \\right)}} + \\frac{2 s \\frac{\\partial}{\\partial \\phi} \\psi{\\left(s,\\phi,t \\right)}}{\\mathrm{Le} H^{3}{\\left(s \\right)}}$"
      ],
      "text/plain": [
       "Eq(s**2*Derivative(\\psi(s, \\phi, t), s, t)/H(s)**3 + s*Derivative(\\psi(s, \\phi, t), (s, 2), t)/H(s) + s*Derivative(\\psi(s, \\phi, t), (\\phi, 2), t)/(2*H(s)**3) + Derivative(\\psi(s, \\phi, t), s, t)/H(s) + Derivative(\\psi(s, \\phi, t), (\\phi, 2), t)/(s*H(s)), -12*s**4*b_{\\phi, z}^e(s, \\phi, t)/H(s)**2 - 3*s**4*Derivative(b_s^+(s, \\phi, t), \\phi)/H(s)**3 + 3*s**4*Derivative(b_s^-(s, \\phi, t), \\phi)/H(s)**3 - 3*s**3*Derivative(b_z^+(s, \\phi, t), \\phi)/H(s)**2 - 3*s**3*Derivative(b_z^-(s, \\phi, t), \\phi)/H(s)**2 + 24*s**3*Derivative(b_{z}^e(s, \\phi, t), \\phi)/H(s)**2 - 3*s**2*Derivative(b_s^+(s, \\phi, t), \\phi)/H(s) + 3*s**2*Derivative(b_s^-(s, \\phi, t), \\phi)/H(s) + 10*s**2*b_{\\phi, z}^e(s, \\phi, t)/H(s)**2 + 2*s**2*Derivative(b_s^+(s, \\phi, t), \\phi)/H(s)**3 - 2*s**2*Derivative(b_s^-(s, \\phi, t), \\phi)/H(s)**3 - 3*s*Derivative(b_z^+(s, \\phi, t), \\phi) - 3*s*Derivative(b_z^-(s, \\phi, t), \\phi) - s*Derivative(\\overline{m_{s\\phi}}(s, \\phi, t), (s, 2))/(2*H(s)) + 2*s*Derivative(b_\\phi^+(s, \\phi, t), s)/H(s) - 2*s*Derivative(b_\\phi^-(s, \\phi, t), s)/H(s) + 4*s*Derivative(b_z^+(s, \\phi, t), \\phi)/H(s)**2 + 4*s*Derivative(b_z^-(s, \\phi, t), \\phi)/H(s)**2 - 20*s*Derivative(b_{z}^e(s, \\phi, t), \\phi)/H(s)**2 - s*Derivative(\\widetilde{m_{sz}}(s, \\phi, t), \\phi, s)/(2*H(s)**2) + 2*b_\\phi^+(s, \\phi, t)/H(s) - 2*b_\\phi^-(s, \\phi, t)/H(s) - 3*Derivative(\\overline{m_{s\\phi}}(s, \\phi, t), s)/(2*H(s)) - 2*Derivative(b_s^+(s, \\phi, t), \\phi)/H(s) + 2*Derivative(b_s^-(s, \\phi, t), \\phi)/H(s) - Derivative(\\overline{m_{\\phi\\phi}}(s, \\phi, t), \\phi, s)/(2*H(s)) + Derivative(\\overline{m_{ss}}(s, \\phi, t), \\phi, s)/(2*H(s)) - Derivative(\\widetilde{m_{\\phi z}}(s, \\phi, t), (\\phi, 2))/(2*H(s)**2) - Derivative(\\widetilde{m_{sz}}(s, \\phi, t), \\phi)/(2*H(s)**2) - Derivative(\\overline{m_{\\phi\\phi}}(s, \\phi, t), \\phi)/(2*s*H(s)) + Derivative(\\overline{m_{s\\phi}}(s, \\phi, t), (\\phi, 2))/(2*s*H(s)) + Derivative(\\overline{m_{ss}}(s, \\phi, t), \\phi)/(2*s*H(s)) + 2*s*Derivative(\\psi(s, \\phi, t), \\phi)/(\\mathrm{Le}*H(s)**3))"
      ]
     },
     "metadata": {},
     "output_type": "display_data"
    },
    {
     "data": {
      "text/latex": [
       "$\\displaystyle \\frac{\\partial}{\\partial t} \\overline{m_{ss}}{\\left(s,\\phi,t \\right)} = - 48 s^{3} \\frac{\\partial^{2}}{\\partial s\\partial \\phi} \\psi{\\left(s,\\phi,t \\right)} + 192 s^{2} \\frac{\\partial}{\\partial \\phi} \\psi{\\left(s,\\phi,t \\right)} + 48 s \\frac{\\partial^{2}}{\\partial s\\partial \\phi} \\psi{\\left(s,\\phi,t \\right)} - 96 \\frac{\\partial}{\\partial \\phi} \\psi{\\left(s,\\phi,t \\right)}$"
      ],
      "text/plain": [
       "Eq(Derivative(\\overline{m_{ss}}(s, \\phi, t), t), -48*s**3*Derivative(\\psi(s, \\phi, t), \\phi, s) + 192*s**2*Derivative(\\psi(s, \\phi, t), \\phi) + 48*s*Derivative(\\psi(s, \\phi, t), \\phi, s) - 96*Derivative(\\psi(s, \\phi, t), \\phi))"
      ]
     },
     "metadata": {},
     "output_type": "display_data"
    },
    {
     "data": {
      "text/latex": [
       "$\\displaystyle \\frac{\\partial}{\\partial t} \\overline{m_{\\phi\\phi}}{\\left(s,\\phi,t \\right)} = 0$"
      ],
      "text/plain": [
       "Eq(Derivative(\\overline{m_{\\phi\\phi}}(s, \\phi, t), t), 0)"
      ]
     },
     "metadata": {},
     "output_type": "display_data"
    },
    {
     "data": {
      "text/latex": [
       "$\\displaystyle \\frac{\\partial}{\\partial t} \\overline{m_{s\\phi}}{\\left(s,\\phi,t \\right)} = 24 s^{4} \\frac{\\partial^{2}}{\\partial s^{2}} \\psi{\\left(s,\\phi,t \\right)} - 48 s^{3} \\frac{\\partial}{\\partial s} \\psi{\\left(s,\\phi,t \\right)} - 24 s^{2} \\frac{\\partial^{2}}{\\partial s^{2}} \\psi{\\left(s,\\phi,t \\right)} + 24 s \\frac{\\partial}{\\partial s} \\psi{\\left(s,\\phi,t \\right)}$"
      ],
      "text/plain": [
       "Eq(Derivative(\\overline{m_{s\\phi}}(s, \\phi, t), t), 24*s**4*Derivative(\\psi(s, \\phi, t), (s, 2)) - 48*s**3*Derivative(\\psi(s, \\phi, t), s) - 24*s**2*Derivative(\\psi(s, \\phi, t), (s, 2)) + 24*s*Derivative(\\psi(s, \\phi, t), s))"
      ]
     },
     "metadata": {},
     "output_type": "display_data"
    },
    {
     "data": {
      "text/latex": [
       "$\\displaystyle \\frac{\\partial}{\\partial t} \\widetilde{m_{sz}}{\\left(s,\\phi,t \\right)} = \\frac{72 s^{4} \\frac{\\partial^{2}}{\\partial s\\partial \\phi} \\psi{\\left(s,\\phi,t \\right)}}{H{\\left(s \\right)}} - \\frac{324 s^{3} \\frac{\\partial}{\\partial \\phi} \\psi{\\left(s,\\phi,t \\right)}}{H{\\left(s \\right)}} - \\frac{114 s^{2} \\frac{\\partial^{2}}{\\partial s\\partial \\phi} \\psi{\\left(s,\\phi,t \\right)}}{H{\\left(s \\right)}} + \\frac{342 s \\frac{\\partial}{\\partial \\phi} \\psi{\\left(s,\\phi,t \\right)}}{H{\\left(s \\right)}} + \\frac{42 \\frac{\\partial^{2}}{\\partial s\\partial \\phi} \\psi{\\left(s,\\phi,t \\right)}}{H{\\left(s \\right)}} - \\frac{84 \\frac{\\partial}{\\partial \\phi} \\psi{\\left(s,\\phi,t \\right)}}{s H{\\left(s \\right)}}$"
      ],
      "text/plain": [
       "Eq(Derivative(\\widetilde{m_{sz}}(s, \\phi, t), t), 72*s**4*Derivative(\\psi(s, \\phi, t), \\phi, s)/H(s) - 324*s**3*Derivative(\\psi(s, \\phi, t), \\phi)/H(s) - 114*s**2*Derivative(\\psi(s, \\phi, t), \\phi, s)/H(s) + 342*s*Derivative(\\psi(s, \\phi, t), \\phi)/H(s) + 42*Derivative(\\psi(s, \\phi, t), \\phi, s)/H(s) - 84*Derivative(\\psi(s, \\phi, t), \\phi)/(s*H(s)))"
      ]
     },
     "metadata": {},
     "output_type": "display_data"
    },
    {
     "data": {
      "text/latex": [
       "$\\displaystyle \\frac{\\partial}{\\partial t} \\widetilde{m_{\\phi z}}{\\left(s,\\phi,t \\right)} = - \\frac{54 s^{5} \\frac{\\partial^{2}}{\\partial s^{2}} \\psi{\\left(s,\\phi,t \\right)}}{H{\\left(s \\right)}} + \\frac{108 s^{4} \\frac{\\partial}{\\partial s} \\psi{\\left(s,\\phi,t \\right)}}{H{\\left(s \\right)}} + \\frac{96 s^{3} \\frac{\\partial^{2}}{\\partial s^{2}} \\psi{\\left(s,\\phi,t \\right)}}{H{\\left(s \\right)}} - \\frac{138 s^{2} \\frac{\\partial}{\\partial s} \\psi{\\left(s,\\phi,t \\right)}}{H{\\left(s \\right)}} - \\frac{42 s \\frac{\\partial^{2}}{\\partial s^{2}} \\psi{\\left(s,\\phi,t \\right)}}{H{\\left(s \\right)}} + \\frac{42 \\frac{\\partial}{\\partial s} \\psi{\\left(s,\\phi,t \\right)}}{H{\\left(s \\right)}}$"
      ],
      "text/plain": [
       "Eq(Derivative(\\widetilde{m_{\\phi z}}(s, \\phi, t), t), -54*s**5*Derivative(\\psi(s, \\phi, t), (s, 2))/H(s) + 108*s**4*Derivative(\\psi(s, \\phi, t), s)/H(s) + 96*s**3*Derivative(\\psi(s, \\phi, t), (s, 2))/H(s) - 138*s**2*Derivative(\\psi(s, \\phi, t), s)/H(s) - 42*s*Derivative(\\psi(s, \\phi, t), (s, 2))/H(s) + 42*Derivative(\\psi(s, \\phi, t), s)/H(s))"
      ]
     },
     "metadata": {},
     "output_type": "display_data"
    },
    {
     "data": {
      "text/latex": [
       "$\\displaystyle \\frac{\\partial}{\\partial t} \\widetilde{zm_{ss}}{\\left(s,\\phi,t \\right)} = 108 s^{2} H{\\left(s \\right)} \\frac{\\partial}{\\partial \\phi} \\psi{\\left(s,\\phi,t \\right)} + 36 s H^{3}{\\left(s \\right)} \\frac{\\partial^{2}}{\\partial s\\partial \\phi} \\psi{\\left(s,\\phi,t \\right)} - 36 H^{3}{\\left(s \\right)} \\frac{\\partial}{\\partial \\phi} \\psi{\\left(s,\\phi,t \\right)} - 36 H{\\left(s \\right)} \\frac{\\partial}{\\partial \\phi} \\psi{\\left(s,\\phi,t \\right)}$"
      ],
      "text/plain": [
       "Eq(Derivative(\\widetilde{zm_{ss}}(s, \\phi, t), t), 108*s**2*H(s)*Derivative(\\psi(s, \\phi, t), \\phi) + 36*s*H(s)**3*Derivative(\\psi(s, \\phi, t), \\phi, s) - 36*H(s)**3*Derivative(\\psi(s, \\phi, t), \\phi) - 36*H(s)*Derivative(\\psi(s, \\phi, t), \\phi))"
      ]
     },
     "metadata": {},
     "output_type": "display_data"
    },
    {
     "data": {
      "text/latex": [
       "$\\displaystyle \\frac{\\partial}{\\partial t} \\widetilde{zm_{\\phi\\phi}}{\\left(s,\\phi,t \\right)} = 0$"
      ],
      "text/plain": [
       "Eq(Derivative(\\widetilde{zm_{\\phi\\phi}}(s, \\phi, t), t), 0)"
      ]
     },
     "metadata": {},
     "output_type": "display_data"
    },
    {
     "data": {
      "text/latex": [
       "$\\displaystyle \\frac{\\partial}{\\partial t} \\widetilde{zm_{s\\phi}}{\\left(s,\\phi,t \\right)} = - 18 s^{3} H{\\left(s \\right)} \\frac{\\partial}{\\partial s} \\psi{\\left(s,\\phi,t \\right)} - 18 s^{2} H^{3}{\\left(s \\right)} \\frac{\\partial^{2}}{\\partial s^{2}} \\psi{\\left(s,\\phi,t \\right)} + 18 s H^{3}{\\left(s \\right)} \\frac{\\partial}{\\partial s} \\psi{\\left(s,\\phi,t \\right)}$"
      ],
      "text/plain": [
       "Eq(Derivative(\\widetilde{zm_{s\\phi}}(s, \\phi, t), t), -18*s**3*H(s)*Derivative(\\psi(s, \\phi, t), s) - 18*s**2*H(s)**3*Derivative(\\psi(s, \\phi, t), (s, 2)) + 18*s*H(s)**3*Derivative(\\psi(s, \\phi, t), s))"
      ]
     },
     "metadata": {},
     "output_type": "display_data"
    },
    {
     "data": {
      "text/latex": [
       "$\\displaystyle \\frac{\\partial}{\\partial t} b_{s}^e{\\left(s,\\phi,t \\right)} = 0$"
      ],
      "text/plain": [
       "Eq(Derivative(b_{s}^e(s, \\phi, t), t), 0)"
      ]
     },
     "metadata": {},
     "output_type": "display_data"
    },
    {
     "data": {
      "text/latex": [
       "$\\displaystyle \\frac{\\partial}{\\partial t} b_{\\phi}^e{\\left(s,\\phi,t \\right)} = 0$"
      ],
      "text/plain": [
       "Eq(Derivative(b_{\\phi}^e(s, \\phi, t), t), 0)"
      ]
     },
     "metadata": {},
     "output_type": "display_data"
    },
    {
     "data": {
      "text/latex": [
       "$\\displaystyle \\frac{\\partial}{\\partial t} b_{z}^e{\\left(s,\\phi,t \\right)} = \\frac{12 s^{2} \\frac{\\partial}{\\partial \\phi} \\psi{\\left(s,\\phi,t \\right)}}{H^{3}{\\left(s \\right)}} - \\frac{14 \\frac{\\partial}{\\partial \\phi} \\psi{\\left(s,\\phi,t \\right)}}{H^{3}{\\left(s \\right)}}$"
      ],
      "text/plain": [
       "Eq(Derivative(b_{z}^e(s, \\phi, t), t), 12*s**2*Derivative(\\psi(s, \\phi, t), \\phi)/H(s)**3 - 14*Derivative(\\psi(s, \\phi, t), \\phi)/H(s)**3)"
      ]
     },
     "metadata": {},
     "output_type": "display_data"
    },
    {
     "data": {
      "text/latex": [
       "$\\displaystyle \\frac{\\partial}{\\partial t} b_{s, z}^e{\\left(s,\\phi,t \\right)} = - \\frac{12 s \\frac{\\partial}{\\partial \\phi} \\psi{\\left(s,\\phi,t \\right)}}{H^{3}{\\left(s \\right)}} - \\frac{6 \\frac{\\partial^{2}}{\\partial s\\partial \\phi} \\psi{\\left(s,\\phi,t \\right)}}{H{\\left(s \\right)}} + \\frac{12 \\frac{\\partial}{\\partial \\phi} \\psi{\\left(s,\\phi,t \\right)}}{s H{\\left(s \\right)}}$"
      ],
      "text/plain": [
       "Eq(Derivative(b_{s, z}^e(s, \\phi, t), t), -12*s*Derivative(\\psi(s, \\phi, t), \\phi)/H(s)**3 - 6*Derivative(\\psi(s, \\phi, t), \\phi, s)/H(s) + 12*Derivative(\\psi(s, \\phi, t), \\phi)/(s*H(s)))"
      ]
     },
     "metadata": {},
     "output_type": "display_data"
    },
    {
     "data": {
      "text/latex": [
       "$\\displaystyle \\frac{\\partial}{\\partial t} b_{\\phi, z}^e{\\left(s,\\phi,t \\right)} = \\frac{6 s^{2} \\frac{\\partial}{\\partial s} \\psi{\\left(s,\\phi,t \\right)}}{H^{3}{\\left(s \\right)}} + \\frac{6 s \\frac{\\partial^{2}}{\\partial s^{2}} \\psi{\\left(s,\\phi,t \\right)}}{H{\\left(s \\right)}} - \\frac{6 \\frac{\\partial}{\\partial s} \\psi{\\left(s,\\phi,t \\right)}}{H{\\left(s \\right)}}$"
      ],
      "text/plain": [
       "Eq(Derivative(b_{\\phi, z}^e(s, \\phi, t), t), 6*s**2*Derivative(\\psi(s, \\phi, t), s)/H(s)**3 + 6*s*Derivative(\\psi(s, \\phi, t), (s, 2))/H(s) - 6*Derivative(\\psi(s, \\phi, t), s)/H(s))"
      ]
     },
     "metadata": {},
     "output_type": "display_data"
    },
    {
     "data": {
      "text/latex": [
       "$\\displaystyle \\frac{\\partial}{\\partial t} b_{r1}{\\left(\\theta,\\phi,t \\right)} = - \\frac{U^{0}_{\\phi}{\\left(r,\\theta,\\phi \\right)} \\frac{\\partial}{\\partial \\phi} b_{r1}{\\left(\\theta,\\phi,t \\right)}}{r \\sin{\\left(\\theta \\right)}} - \\frac{U^{0}_{\\theta}{\\left(r,\\theta,\\phi \\right)} b_{r1}{\\left(\\theta,\\phi,t \\right)}}{r \\tan{\\left(\\theta \\right)}} - \\frac{U^{0}_{\\theta}{\\left(r,\\theta,\\phi \\right)} \\frac{\\partial}{\\partial \\theta} b_{r1}{\\left(\\theta,\\phi,t \\right)}}{r} - \\frac{b_{r1}{\\left(\\theta,\\phi,t \\right)} \\frac{\\partial}{\\partial \\theta} U^{0}_{\\theta}{\\left(r,\\theta,\\phi \\right)}}{r} - \\frac{b_{r1}{\\left(\\theta,\\phi,t \\right)} \\frac{\\partial}{\\partial \\phi} U^{0}_{\\phi}{\\left(r,\\theta,\\phi \\right)}}{r \\sin{\\left(\\theta \\right)}}$"
      ],
      "text/plain": [
       "Eq(Derivative(b_{r1}(\\theta, \\phi, t), t), -U_\\phi^0(r, \\theta, \\phi)*Derivative(b_{r1}(\\theta, \\phi, t), \\phi)/(r*sin(\\theta)) - U_\\theta^0(r, \\theta, \\phi)*b_{r1}(\\theta, \\phi, t)/(r*tan(\\theta)) - U_\\theta^0(r, \\theta, \\phi)*Derivative(b_{r1}(\\theta, \\phi, t), \\theta)/r - b_{r1}(\\theta, \\phi, t)*Derivative(U_\\theta^0(r, \\theta, \\phi), \\theta)/r - b_{r1}(\\theta, \\phi, t)*Derivative(U_\\phi^0(r, \\theta, \\phi), \\phi)/(r*sin(\\theta)))"
      ]
     },
     "metadata": {},
     "output_type": "display_data"
    },
    {
     "data": {
      "text/latex": [
       "$\\displaystyle \\frac{\\partial}{\\partial t} b^{+}_{s}{\\left(s,\\phi,t \\right)} = - \\frac{12 s \\frac{\\partial}{\\partial \\phi} \\psi{\\left(s,\\phi,t \\right)}}{H^{2}{\\left(s \\right)}} - 6 \\frac{\\partial^{2}}{\\partial s\\partial \\phi} \\psi{\\left(s,\\phi,t \\right)} + \\frac{12 \\frac{\\partial}{\\partial \\phi} \\psi{\\left(s,\\phi,t \\right)}}{s}$"
      ],
      "text/plain": [
       "Eq(Derivative(b_s^+(s, \\phi, t), t), -12*s*Derivative(\\psi(s, \\phi, t), \\phi)/H(s)**2 - 6*Derivative(\\psi(s, \\phi, t), \\phi, s) + 12*Derivative(\\psi(s, \\phi, t), \\phi)/s)"
      ]
     },
     "metadata": {},
     "output_type": "display_data"
    },
    {
     "data": {
      "text/latex": [
       "$\\displaystyle \\frac{\\partial}{\\partial t} b^{+}_{\\phi}{\\left(s,\\phi,t \\right)} = \\frac{6 s^{2} \\frac{\\partial}{\\partial s} \\psi{\\left(s,\\phi,t \\right)}}{H^{2}{\\left(s \\right)}} + 6 s \\frac{\\partial^{2}}{\\partial s^{2}} \\psi{\\left(s,\\phi,t \\right)} - 6 \\frac{\\partial}{\\partial s} \\psi{\\left(s,\\phi,t \\right)}$"
      ],
      "text/plain": [
       "Eq(Derivative(b_\\phi^+(s, \\phi, t), t), 6*s**2*Derivative(\\psi(s, \\phi, t), s)/H(s)**2 + 6*s*Derivative(\\psi(s, \\phi, t), (s, 2)) - 6*Derivative(\\psi(s, \\phi, t), s))"
      ]
     },
     "metadata": {},
     "output_type": "display_data"
    },
    {
     "data": {
      "text/latex": [
       "$\\displaystyle \\frac{\\partial}{\\partial t} b^{+}_{z}{\\left(s,\\phi,t \\right)} = \\frac{6 s^{2} \\frac{\\partial}{\\partial \\phi} \\psi{\\left(s,\\phi,t \\right)}}{H^{3}{\\left(s \\right)}} + \\frac{6 s \\frac{\\partial^{2}}{\\partial s\\partial \\phi} \\psi{\\left(s,\\phi,t \\right)}}{H{\\left(s \\right)}} - \\frac{18 \\frac{\\partial}{\\partial \\phi} \\psi{\\left(s,\\phi,t \\right)}}{H{\\left(s \\right)}} + \\frac{10 \\frac{\\partial}{\\partial \\phi} \\psi{\\left(s,\\phi,t \\right)}}{H^{3}{\\left(s \\right)}}$"
      ],
      "text/plain": [
       "Eq(Derivative(b_z^+(s, \\phi, t), t), 6*s**2*Derivative(\\psi(s, \\phi, t), \\phi)/H(s)**3 + 6*s*Derivative(\\psi(s, \\phi, t), \\phi, s)/H(s) - 18*Derivative(\\psi(s, \\phi, t), \\phi)/H(s) + 10*Derivative(\\psi(s, \\phi, t), \\phi)/H(s)**3)"
      ]
     },
     "metadata": {},
     "output_type": "display_data"
    },
    {
     "data": {
      "text/latex": [
       "$\\displaystyle \\frac{\\partial}{\\partial t} b^{-}_{s}{\\left(s,\\phi,t \\right)} = \\frac{12 s \\frac{\\partial}{\\partial \\phi} \\psi{\\left(s,\\phi,t \\right)}}{H^{2}{\\left(s \\right)}} + 6 \\frac{\\partial^{2}}{\\partial s\\partial \\phi} \\psi{\\left(s,\\phi,t \\right)} - \\frac{12 \\frac{\\partial}{\\partial \\phi} \\psi{\\left(s,\\phi,t \\right)}}{s}$"
      ],
      "text/plain": [
       "Eq(Derivative(b_s^-(s, \\phi, t), t), 12*s*Derivative(\\psi(s, \\phi, t), \\phi)/H(s)**2 + 6*Derivative(\\psi(s, \\phi, t), \\phi, s) - 12*Derivative(\\psi(s, \\phi, t), \\phi)/s)"
      ]
     },
     "metadata": {},
     "output_type": "display_data"
    },
    {
     "data": {
      "text/latex": [
       "$\\displaystyle \\frac{\\partial}{\\partial t} b^{-}_{\\phi}{\\left(s,\\phi,t \\right)} = - \\frac{6 s^{2} \\frac{\\partial}{\\partial s} \\psi{\\left(s,\\phi,t \\right)}}{H^{2}{\\left(s \\right)}} - 6 s \\frac{\\partial^{2}}{\\partial s^{2}} \\psi{\\left(s,\\phi,t \\right)} + 6 \\frac{\\partial}{\\partial s} \\psi{\\left(s,\\phi,t \\right)}$"
      ],
      "text/plain": [
       "Eq(Derivative(b_\\phi^-(s, \\phi, t), t), -6*s**2*Derivative(\\psi(s, \\phi, t), s)/H(s)**2 - 6*s*Derivative(\\psi(s, \\phi, t), (s, 2)) + 6*Derivative(\\psi(s, \\phi, t), s))"
      ]
     },
     "metadata": {},
     "output_type": "display_data"
    },
    {
     "data": {
      "text/latex": [
       "$\\displaystyle \\frac{\\partial}{\\partial t} b^{-}_{z}{\\left(s,\\phi,t \\right)} = \\frac{6 s^{2} \\frac{\\partial}{\\partial \\phi} \\psi{\\left(s,\\phi,t \\right)}}{H^{3}{\\left(s \\right)}} + \\frac{6 s \\frac{\\partial^{2}}{\\partial s\\partial \\phi} \\psi{\\left(s,\\phi,t \\right)}}{H{\\left(s \\right)}} - \\frac{18 \\frac{\\partial}{\\partial \\phi} \\psi{\\left(s,\\phi,t \\right)}}{H{\\left(s \\right)}} + \\frac{10 \\frac{\\partial}{\\partial \\phi} \\psi{\\left(s,\\phi,t \\right)}}{H^{3}{\\left(s \\right)}}$"
      ],
      "text/plain": [
       "Eq(Derivative(b_z^-(s, \\phi, t), t), 6*s**2*Derivative(\\psi(s, \\phi, t), \\phi)/H(s)**3 + 6*s*Derivative(\\psi(s, \\phi, t), \\phi, s)/H(s) - 18*Derivative(\\psi(s, \\phi, t), \\phi)/H(s) + 10*Derivative(\\psi(s, \\phi, t), \\phi)/H(s)**3)"
      ]
     },
     "metadata": {},
     "output_type": "display_data"
    }
   ],
   "source": [
    "display_eq_collection(eqs_pg_from_cg)"
   ]
  },
  {
   "cell_type": "code",
   "execution_count": 28,
   "id": "bf7c6437-05b6-403a-add8-76d4b716d2ec",
   "metadata": {},
   "outputs": [],
   "source": [
    "ode_s_fd_from_cg = eigen.to_fd_ode_pg(eqs_pg_from_cg, core.pgvar_ptb)"
   ]
  },
  {
   "cell_type": "markdown",
   "id": "50f5883e-b1ad-482a-b0ed-4e8f10078846",
   "metadata": {},
   "source": [
    "Some further manipulations before output"
   ]
  },
  {
   "cell_type": "code",
   "execution_count": 29,
   "id": "a61f12be-0745-4d49-a160-50b129122122",
   "metadata": {},
   "outputs": [
    {
     "data": {
      "text/plain": [
       "<pg_utils.pg_model.base.CollectionPG at 0x241797fc970>"
      ]
     },
     "execution_count": 29,
     "metadata": {},
     "output_type": "execute_result"
    }
   ],
   "source": [
    "from pg_utils.sympy_supp import simplify\n",
    "\n",
    "def common_denom_simplify(expr):\n",
    "    expr = expr.together()\n",
    "    num, denom = sp.fraction(expr)\n",
    "    num = num.subs({core.H: core.H_s}).simplify().factor().subs({core.H_s: core.H, core.H_s**2: core.H**2})\n",
    "    return num/denom\n",
    "\n",
    "# eq_grouped = simplify.recursive_collect_tree(eq_rad_std.lhs, (expansion.pgvar_s.Psi, expansion.omega))\n",
    "# simplify.process_leaf_node(eq_grouped, common_denom_simplify)\n",
    "# eq_grouped = sp.Eq(simplify.recursive_eval_tree(eq_grouped), eq_rad_std.rhs)\n",
    "\n",
    "# factor = 1/sp.I/expansion.omega\n",
    "factor = 1\n",
    "def factoring(fname, eq):\n",
    "    if fname != \"Psi\":\n",
    "        expr_grouped = (eq.rhs*factor).expand().collect([expansion.pgvar_s.Psi,], evaluate=False)\n",
    "        for term in expr_grouped:\n",
    "            expr_grouped[term] = common_denom_simplify(expr_grouped[term])\n",
    "        return sp.Eq(\n",
    "            (eq.lhs*factor).expand(), \n",
    "            # (eq.rhs*factor).expand().collect(expansion.pgvar_s.Psi)\n",
    "            factor*sp.Add(*[term*coeff for term, coeff in expr_grouped.items()])\n",
    "        )\n",
    "    else:\n",
    "        expr_grouped = (eq.rhs*factor).expand().collect([var for var in expansion.pgvar_s if var is not None], evaluate=False)\n",
    "        for term in expr_grouped:\n",
    "            expr_grouped[term] = common_denom_simplify(expr_grouped[term])\n",
    "        return sp.Eq((eq.lhs*factor).expand(), sp.Add(*[term*coeff for term, coeff in expr_grouped.items()]))\n",
    "\n",
    "ode_s_fd_from_cg.apply(factoring, inplace=True, metadata=True)\n",
    "# display_eq_collection(ode_s_fd)"
   ]
  },
  {
   "cell_type": "code",
   "execution_count": 30,
   "id": "04546b3d-4872-4c35-9753-2a03c0bad88d",
   "metadata": {},
   "outputs": [
    {
     "data": {
      "text/latex": [
       "$\\displaystyle - \\frac{i \\omega m^{2} \\psi}{H s} + \\frac{i \\omega s \\frac{d^{2}}{d s^{2}} \\psi}{H} + \\frac{i \\omega \\frac{d}{d s} \\psi}{H} - \\frac{i \\omega m^{2} s \\psi}{2 H^{3}} + \\frac{i \\omega s^{2} \\frac{d}{d s} \\psi}{H^{3}} = - \\frac{m^{2} \\overline{m_{s\\phi}}}{2 H s} - \\frac{i m \\frac{d}{d s} \\overline{m_{\\phi\\phi}}}{2 H} + \\frac{i m \\frac{d}{d s} \\overline{m_{ss}}}{2 H} - \\frac{i m \\overline{m_{\\phi\\phi}}}{2 H s} + \\frac{i m \\overline{m_{ss}}}{2 H s} + \\frac{2 s \\frac{d}{d s} b^{+}_{\\phi}}{H} - \\frac{2 s \\frac{d}{d s} b^{-}_{\\phi}}{H} - \\frac{s \\frac{d^{2}}{d s^{2}} \\overline{m_{s\\phi}}}{2 H} + \\frac{2 b^{+}_{\\phi}}{H} - \\frac{2 b^{-}_{\\phi}}{H} - \\frac{3 \\frac{d}{d s} \\overline{m_{s\\phi}}}{2 H} + \\frac{m^{2} \\widetilde{m_{\\phi z}}}{2 H^{2}} + \\frac{4 i m s \\left(6 s^{2} - 5\\right) b_{z}^e}{H^{2}} + \\frac{i m s b^{+}_{z}}{H^{2}} + \\frac{i m s b^{-}_{z}}{H^{2}} - \\frac{i m s \\frac{d}{d s} \\widetilde{m_{sz}}}{2 H^{2}} - \\frac{i m \\widetilde{m_{sz}}}{2 H^{2}} - \\frac{2 s^{2} \\cdot \\left(6 s^{2} - 5\\right) b_{\\phi, z}^e}{H^{2}} + \\frac{i m \\left(- H^{2} - 1\\right) b^{+}_{s}}{H^{3}} - \\frac{i m \\left(- H^{2} - 1\\right) b^{-}_{s}}{H^{3}} + \\frac{2 i m s \\psi}{H^{3} \\mathrm{Le}}$"
      ],
      "text/plain": [
       "<IPython.core.display.Math object>"
      ]
     },
     "metadata": {},
     "output_type": "display_data"
    },
    {
     "data": {
      "text/latex": [
       "$\\displaystyle i \\omega \\overline{m_{ss}} = - 48 i m s \\left(s - 1\\right) \\left(s + 1\\right) \\frac{d}{d s} \\psi + 96 i m \\left(2 s^{2} - 1\\right) \\psi$"
      ],
      "text/plain": [
       "<IPython.core.display.Math object>"
      ]
     },
     "metadata": {},
     "output_type": "display_data"
    },
    {
     "data": {
      "text/latex": [
       "$\\displaystyle i \\omega \\overline{m_{\\phi\\phi}} = 0$"
      ],
      "text/plain": [
       "<IPython.core.display.Math object>"
      ]
     },
     "metadata": {},
     "output_type": "display_data"
    },
    {
     "data": {
      "text/latex": [
       "$\\displaystyle i \\omega \\overline{m_{s\\phi}} = 24 s^{2} \\left(s - 1\\right) \\left(s + 1\\right) \\frac{d^{2}}{d s^{2}} \\psi - 24 s \\left(2 s^{2} - 1\\right) \\frac{d}{d s} \\psi$"
      ],
      "text/plain": [
       "<IPython.core.display.Math object>"
      ]
     },
     "metadata": {},
     "output_type": "display_data"
    },
    {
     "data": {
      "text/latex": [
       "$\\displaystyle i \\omega \\widetilde{m_{sz}} = \\frac{6 i m \\left(s - 1\\right) \\left(s + 1\\right) \\left(12 s^{2} - 7\\right) \\frac{d}{d s} \\psi}{H} - \\frac{6 i m \\left(3 s^{2} - 2\\right) \\left(18 s^{2} - 7\\right) \\psi}{H s}$"
      ],
      "text/plain": [
       "<IPython.core.display.Math object>"
      ]
     },
     "metadata": {},
     "output_type": "display_data"
    },
    {
     "data": {
      "text/latex": [
       "$\\displaystyle i \\omega \\widetilde{m_{\\phi z}} = - \\frac{6 s \\left(s - 1\\right) \\left(s + 1\\right) \\left(9 s^{2} - 7\\right) \\frac{d^{2}}{d s^{2}} \\psi}{H} + \\frac{6 \\cdot \\left(2 s^{2} - 1\\right) \\left(9 s^{2} - 7\\right) \\frac{d}{d s} \\psi}{H}$"
      ],
      "text/plain": [
       "<IPython.core.display.Math object>"
      ]
     },
     "metadata": {},
     "output_type": "display_data"
    },
    {
     "data": {
      "text/latex": [
       "$\\displaystyle i \\omega \\widetilde{zm_{ss}} = 36 i m s \\left(1 - s\\right)^{\\frac{3}{2}} \\left(s + 1\\right)^{\\frac{3}{2}} \\frac{d}{d s} \\psi + 72 i m \\sqrt{1 - s} \\sqrt{s + 1} \\cdot \\left(2 s^{2} - 1\\right) \\psi$"
      ],
      "text/plain": [
       "<IPython.core.display.Math object>"
      ]
     },
     "metadata": {},
     "output_type": "display_data"
    },
    {
     "data": {
      "text/latex": [
       "$\\displaystyle i \\omega \\widetilde{zm_{\\phi\\phi}} = 0$"
      ],
      "text/plain": [
       "<IPython.core.display.Math object>"
      ]
     },
     "metadata": {},
     "output_type": "display_data"
    },
    {
     "data": {
      "text/latex": [
       "$\\displaystyle i \\omega \\widetilde{zm_{s\\phi}} = - 18 s^{2} \\left(1 - s\\right)^{\\frac{3}{2}} \\left(s + 1\\right)^{\\frac{3}{2}} \\frac{d^{2}}{d s^{2}} \\psi - 18 s \\sqrt{1 - s} \\sqrt{s + 1} \\cdot \\left(2 s^{2} - 1\\right) \\frac{d}{d s} \\psi$"
      ],
      "text/plain": [
       "<IPython.core.display.Math object>"
      ]
     },
     "metadata": {},
     "output_type": "display_data"
    },
    {
     "data": {
      "text/latex": [
       "$\\displaystyle i \\omega b_{s}^e = 0$"
      ],
      "text/plain": [
       "<IPython.core.display.Math object>"
      ]
     },
     "metadata": {},
     "output_type": "display_data"
    },
    {
     "data": {
      "text/latex": [
       "$\\displaystyle i \\omega b_{\\phi}^e = 0$"
      ],
      "text/plain": [
       "<IPython.core.display.Math object>"
      ]
     },
     "metadata": {},
     "output_type": "display_data"
    },
    {
     "data": {
      "text/latex": [
       "$\\displaystyle i \\omega b_{z}^e = \\frac{2 i m \\left(6 s^{2} - 7\\right) \\psi}{H^{3}}$"
      ],
      "text/plain": [
       "<IPython.core.display.Math object>"
      ]
     },
     "metadata": {},
     "output_type": "display_data"
    },
    {
     "data": {
      "text/latex": [
       "$\\displaystyle i \\omega b_{s, z}^e = - \\frac{6 i m \\frac{d}{d s} \\psi}{H} - \\frac{12 i m \\left(2 s^{2} - 1\\right) \\psi}{H^{3} s}$"
      ],
      "text/plain": [
       "<IPython.core.display.Math object>"
      ]
     },
     "metadata": {},
     "output_type": "display_data"
    },
    {
     "data": {
      "text/latex": [
       "$\\displaystyle i \\omega b_{\\phi, z}^e = \\frac{6 s \\frac{d^{2}}{d s^{2}} \\psi}{H} + \\frac{6 \\cdot \\left(2 s^{2} - 1\\right) \\frac{d}{d s} \\psi}{H^{3}}$"
      ],
      "text/plain": [
       "<IPython.core.display.Math object>"
      ]
     },
     "metadata": {},
     "output_type": "display_data"
    },
    {
     "data": {
      "text/latex": [
       "$\\displaystyle i \\omega b^{+}_{s} = - 6 i m \\frac{d}{d s} \\psi - \\frac{12 i m \\left(2 s^{2} - 1\\right) \\psi}{H^{2} s}$"
      ],
      "text/plain": [
       "<IPython.core.display.Math object>"
      ]
     },
     "metadata": {},
     "output_type": "display_data"
    },
    {
     "data": {
      "text/latex": [
       "$\\displaystyle i \\omega b^{+}_{\\phi} = 6 s \\frac{d^{2}}{d s^{2}} \\psi + \\frac{6 \\cdot \\left(2 s^{2} - 1\\right) \\frac{d}{d s} \\psi}{H^{2}}$"
      ],
      "text/plain": [
       "<IPython.core.display.Math object>"
      ]
     },
     "metadata": {},
     "output_type": "display_data"
    },
    {
     "data": {
      "text/latex": [
       "$\\displaystyle i \\omega b^{+}_{z} = \\frac{6 i m s \\frac{d}{d s} \\psi}{H} + \\frac{8 i m \\left(3 s^{2} - 1\\right) \\psi}{H^{3}}$"
      ],
      "text/plain": [
       "<IPython.core.display.Math object>"
      ]
     },
     "metadata": {},
     "output_type": "display_data"
    },
    {
     "data": {
      "text/latex": [
       "$\\displaystyle i \\omega b^{-}_{s} = 6 i m \\frac{d}{d s} \\psi + \\frac{12 i m \\left(2 s^{2} - 1\\right) \\psi}{H^{2} s}$"
      ],
      "text/plain": [
       "<IPython.core.display.Math object>"
      ]
     },
     "metadata": {},
     "output_type": "display_data"
    },
    {
     "data": {
      "text/latex": [
       "$\\displaystyle i \\omega b^{-}_{\\phi} = - 6 s \\frac{d^{2}}{d s^{2}} \\psi - \\frac{6 \\cdot \\left(2 s^{2} - 1\\right) \\frac{d}{d s} \\psi}{H^{2}}$"
      ],
      "text/plain": [
       "<IPython.core.display.Math object>"
      ]
     },
     "metadata": {},
     "output_type": "display_data"
    },
    {
     "data": {
      "text/latex": [
       "$\\displaystyle i \\omega b^{-}_{z} = \\frac{6 i m s \\frac{d}{d s} \\psi}{H} + \\frac{8 i m \\left(3 s^{2} - 1\\right) \\psi}{H^{3}}$"
      ],
      "text/plain": [
       "<IPython.core.display.Math object>"
      ]
     },
     "metadata": {},
     "output_type": "display_data"
    }
   ],
   "source": [
    "placeholders_map = base.map_collection(expansion.pgvar_s, base_utils.extract_symbols(core.pgvar_ptb))\n",
    "placeholder_h = {core.H: sp.Symbol(\"H\")}\n",
    "for fname in ode_s_fd._field_names:\n",
    "    if fname == \"Br_b\":\n",
    "        continue\n",
    "    o_str = sp.latex(ode_s_fd_from_cg[fname].subs(placeholder_h))\n",
    "    for var_old, var_new in placeholders_map.items():\n",
    "        o_str = o_str.replace(sp.latex(var_old), sp.latex(var_new))\n",
    "    # print(o_str)\n",
    "    display(Math(o_str))"
   ]
  },
  {
   "cell_type": "markdown",
   "id": "0789ec68-5681-4e16-ae5c-e9a42edc4f4a",
   "metadata": {},
   "source": [
    "Is the equation equivalent to the one by PG?"
   ]
  },
  {
   "cell_type": "code",
   "execution_count": 38,
   "id": "5504bb80-f69d-4ad8-ae21-749bccb0e582",
   "metadata": {},
   "outputs": [
    {
     "data": {
      "text/markdown": [
       "$\\psi(s, \\phi, t)$: Equivalent"
      ],
      "text/plain": [
       "<IPython.core.display.Markdown object>"
      ]
     },
     "metadata": {},
     "output_type": "display_data"
    },
    {
     "data": {
      "text/markdown": [
       "$\\overline{m_{ss}}(s, \\phi, t)$: Equivalent"
      ],
      "text/plain": [
       "<IPython.core.display.Markdown object>"
      ]
     },
     "metadata": {},
     "output_type": "display_data"
    },
    {
     "data": {
      "text/markdown": [
       "$\\overline{m_{\\phi\\phi}}(s, \\phi, t)$: Equivalent"
      ],
      "text/plain": [
       "<IPython.core.display.Markdown object>"
      ]
     },
     "metadata": {},
     "output_type": "display_data"
    },
    {
     "data": {
      "text/markdown": [
       "$\\overline{m_{s\\phi}}(s, \\phi, t)$: Equivalent"
      ],
      "text/plain": [
       "<IPython.core.display.Markdown object>"
      ]
     },
     "metadata": {},
     "output_type": "display_data"
    },
    {
     "data": {
      "text/markdown": [
       "$\\widetilde{m_{sz}}(s, \\phi, t)$: Equivalent"
      ],
      "text/plain": [
       "<IPython.core.display.Markdown object>"
      ]
     },
     "metadata": {},
     "output_type": "display_data"
    },
    {
     "data": {
      "text/markdown": [
       "$\\widetilde{m_{\\phi z}}(s, \\phi, t)$: NOT equivalent!, difference = $- 6 s \\sqrt{1 - s} \\sqrt{s + 1} \\cdot \\left(9 s^{2} - 7\\right) \\frac{d^{2}}{d s^{2}} \\Psi^{m}{\\left(s \\right)} - \\frac{6 s \\left(s - 1\\right) \\left(s + 1\\right) \\left(9 s^{2} - 7\\right) \\frac{d^{2}}{d s^{2}} \\Psi^{m}{\\left(s \\right)}}{\\sqrt{1 - s^{2}}}$"
      ],
      "text/plain": [
       "<IPython.core.display.Markdown object>"
      ]
     },
     "metadata": {},
     "output_type": "display_data"
    },
    {
     "data": {
      "text/markdown": [
       "$\\widetilde{zm_{ss}}(s, \\phi, t)$: Equivalent"
      ],
      "text/plain": [
       "<IPython.core.display.Markdown object>"
      ]
     },
     "metadata": {},
     "output_type": "display_data"
    },
    {
     "data": {
      "text/markdown": [
       "$\\widetilde{zm_{\\phi\\phi}}(s, \\phi, t)$: Equivalent"
      ],
      "text/plain": [
       "<IPython.core.display.Markdown object>"
      ]
     },
     "metadata": {},
     "output_type": "display_data"
    },
    {
     "data": {
      "text/markdown": [
       "$\\widetilde{zm_{s\\phi}}(s, \\phi, t)$: Equivalent"
      ],
      "text/plain": [
       "<IPython.core.display.Markdown object>"
      ]
     },
     "metadata": {},
     "output_type": "display_data"
    },
    {
     "data": {
      "text/markdown": [
       "$b_{s}^e(s, \\phi, t)$: Equivalent"
      ],
      "text/plain": [
       "<IPython.core.display.Markdown object>"
      ]
     },
     "metadata": {},
     "output_type": "display_data"
    },
    {
     "data": {
      "text/markdown": [
       "$b_{\\phi}^e(s, \\phi, t)$: Equivalent"
      ],
      "text/plain": [
       "<IPython.core.display.Markdown object>"
      ]
     },
     "metadata": {},
     "output_type": "display_data"
    },
    {
     "data": {
      "text/markdown": [
       "$b_{z}^e(s, \\phi, t)$: Equivalent"
      ],
      "text/plain": [
       "<IPython.core.display.Markdown object>"
      ]
     },
     "metadata": {},
     "output_type": "display_data"
    },
    {
     "data": {
      "text/markdown": [
       "$b_{s, z}^e(s, \\phi, t)$: Equivalent"
      ],
      "text/plain": [
       "<IPython.core.display.Markdown object>"
      ]
     },
     "metadata": {},
     "output_type": "display_data"
    },
    {
     "data": {
      "text/markdown": [
       "$b_{\\phi, z}^e(s, \\phi, t)$: Equivalent"
      ],
      "text/plain": [
       "<IPython.core.display.Markdown object>"
      ]
     },
     "metadata": {},
     "output_type": "display_data"
    },
    {
     "data": {
      "text/markdown": [
       "$b_{r1}(\\theta, \\phi, t)$: Equivalent"
      ],
      "text/plain": [
       "<IPython.core.display.Markdown object>"
      ]
     },
     "metadata": {},
     "output_type": "display_data"
    },
    {
     "data": {
      "text/markdown": [
       "$b_s^+(s, \\phi, t)$: Equivalent"
      ],
      "text/plain": [
       "<IPython.core.display.Markdown object>"
      ]
     },
     "metadata": {},
     "output_type": "display_data"
    },
    {
     "data": {
      "text/markdown": [
       "$b_\\phi^+(s, \\phi, t)$: Equivalent"
      ],
      "text/plain": [
       "<IPython.core.display.Markdown object>"
      ]
     },
     "metadata": {},
     "output_type": "display_data"
    },
    {
     "data": {
      "text/markdown": [
       "$b_z^+(s, \\phi, t)$: Equivalent"
      ],
      "text/plain": [
       "<IPython.core.display.Markdown object>"
      ]
     },
     "metadata": {},
     "output_type": "display_data"
    },
    {
     "data": {
      "text/markdown": [
       "$b_s^-(s, \\phi, t)$: Equivalent"
      ],
      "text/plain": [
       "<IPython.core.display.Markdown object>"
      ]
     },
     "metadata": {},
     "output_type": "display_data"
    },
    {
     "data": {
      "text/markdown": [
       "$b_\\phi^-(s, \\phi, t)$: Equivalent"
      ],
      "text/plain": [
       "<IPython.core.display.Markdown object>"
      ]
     },
     "metadata": {},
     "output_type": "display_data"
    },
    {
     "data": {
      "text/markdown": [
       "$b_z^-(s, \\phi, t)$: Equivalent"
      ],
      "text/plain": [
       "<IPython.core.display.Markdown object>"
      ]
     },
     "metadata": {},
     "output_type": "display_data"
    }
   ],
   "source": [
    "for fname in ode_s_fd._field_names:\n",
    "    if ode_s_fd_from_cg[fname].rhs.subs({core.H: core.H_s}).equals(ode_s_fd[fname].rhs.subs({core.H: core.H_s})) \\\n",
    "        and ode_s_fd_from_cg[fname].lhs.equals(ode_s_fd[fname].lhs):\n",
    "        display(Markdown(\"${}$: Equivalent\".format(core.pgvar_ptb[fname])))\n",
    "    else:\n",
    "        display(Markdown(\"${}$: NOT equivalent!, difference = ${}$\".format(\n",
    "            core.pgvar_ptb[fname], \n",
    "            sp.latex(ode_s_fd_from_cg[fname].rhs.subs({core.H: core.H_s}) - ode_s_fd[fname].rhs.subs({core.H: core.H_s}))\n",
    "        )))"
   ]
  },
  {
   "cell_type": "markdown",
   "id": "6b32ca30-f242-4f31-aabe-19df11a04905",
   "metadata": {},
   "source": [
    "### Reduced dimensional system"
   ]
  },
  {
   "cell_type": "code",
   "execution_count": 22,
   "id": "52ddbc6b-34fd-43ea-b72e-f99c1d09568c",
   "metadata": {},
   "outputs": [
    {
     "data": {
      "text/plain": [
       "'1/2'"
      ]
     },
     "execution_count": 22,
     "metadata": {},
     "output_type": "execute_result"
    }
   ],
   "source": [
    "str(sp.Rational(1, 2))"
   ]
  },
  {
   "cell_type": "code",
   "execution_count": 29,
   "id": "28e9cb0c-ab41-4371-9262-c3928cf3d12b",
   "metadata": {},
   "outputs": [
    {
     "data": {
      "text/latex": [
       "$\\displaystyle \\frac{s^{2} \\frac{\\partial^{2}}{\\partial t\\partial s} \\psi{\\left(s,\\phi,t \\right)}}{H^{3}{\\left(s \\right)}} + \\frac{s \\frac{\\partial^{3}}{\\partial t\\partial s^{2}} \\psi{\\left(s,\\phi,t \\right)}}{H{\\left(s \\right)}} + \\frac{s \\frac{\\partial^{3}}{\\partial t\\partial \\phi^{2}} \\psi{\\left(s,\\phi,t \\right)}}{2 H^{3}{\\left(s \\right)}} + \\frac{\\frac{\\partial^{2}}{\\partial t\\partial s} \\psi{\\left(s,\\phi,t \\right)}}{H{\\left(s \\right)}} + \\frac{\\frac{\\partial^{3}}{\\partial t\\partial \\phi^{2}} \\psi{\\left(s,\\phi,t \\right)}}{s H{\\left(s \\right)}} = F_\\mathrm{ext}{\\left(s,\\phi,t \\right)} + \\frac{2 s \\frac{\\partial}{\\partial \\phi} \\psi{\\left(s,\\phi,t \\right)}}{\\mathrm{Le} H^{3}{\\left(s \\right)}}$"
      ],
      "text/plain": [
       "Eq(s**2*Derivative(\\psi(s, \\phi, t), s, t)/H(s)**3 + s*Derivative(\\psi(s, \\phi, t), (s, 2), t)/H(s) + s*Derivative(\\psi(s, \\phi, t), (\\phi, 2), t)/(2*H(s)**3) + Derivative(\\psi(s, \\phi, t), s, t)/H(s) + Derivative(\\psi(s, \\phi, t), (\\phi, 2), t)/(s*H(s)), F_\\mathrm{ext}(s, \\phi, t) + 2*s*Derivative(\\psi(s, \\phi, t), \\phi)/(\\mathrm{Le}*H(s)**3))"
      ]
     },
     "metadata": {},
     "output_type": "display_data"
    },
    {
     "data": {
      "text/latex": [
       "$\\displaystyle \\frac{\\partial}{\\partial t} F_\\mathrm{ext}{\\left(s,\\phi,t \\right)} = \\frac{\\gamma^{2} s^{6} \\frac{\\partial^{3}}{\\partial s\\partial \\phi^{2}} \\psi{\\left(s,\\phi,t \\right)}}{H^{3}{\\left(s \\right)}} + \\frac{8 \\gamma^{2} s^{5} \\frac{\\partial^{4}}{\\partial s^{2}\\partial \\phi^{2}} \\psi{\\left(s,\\phi,t \\right)}}{15 H{\\left(s \\right)}} + \\frac{2 \\gamma^{2} s^{5} \\frac{\\partial^{2}}{\\partial \\phi^{2}} \\psi{\\left(s,\\phi,t \\right)}}{H^{3}{\\left(s \\right)}} + \\frac{\\gamma^{2} s^{5} \\frac{\\partial^{4}}{\\partial \\phi^{4}} \\psi{\\left(s,\\phi,t \\right)}}{6 H^{3}{\\left(s \\right)}} + \\frac{8 \\gamma^{2} s^{4} \\frac{\\partial^{3}}{\\partial s\\partial \\phi^{2}} \\psi{\\left(s,\\phi,t \\right)}}{3 H{\\left(s \\right)}} - \\frac{2 \\gamma^{2} s^{4} \\frac{\\partial^{3}}{\\partial s\\partial \\phi^{2}} \\psi{\\left(s,\\phi,t \\right)}}{H^{3}{\\left(s \\right)}} + \\frac{28 \\gamma^{2} s^{3} \\frac{\\partial^{2}}{\\partial \\phi^{2}} \\psi{\\left(s,\\phi,t \\right)}}{15 H{\\left(s \\right)}} + \\frac{8 \\gamma^{2} s^{3} \\frac{\\partial^{4}}{\\partial \\phi^{4}} \\psi{\\left(s,\\phi,t \\right)}}{15 H{\\left(s \\right)}} - \\frac{16 \\gamma^{2} s^{3} \\frac{\\partial^{4}}{\\partial s^{2}\\partial \\phi^{2}} \\psi{\\left(s,\\phi,t \\right)}}{15 H{\\left(s \\right)}} - \\frac{2 \\gamma^{2} s^{3} \\frac{\\partial^{2}}{\\partial \\phi^{2}} \\psi{\\left(s,\\phi,t \\right)}}{H^{3}{\\left(s \\right)}} - \\frac{\\gamma^{2} s^{3} \\frac{\\partial^{4}}{\\partial \\phi^{4}} \\psi{\\left(s,\\phi,t \\right)}}{3 H^{3}{\\left(s \\right)}} - \\frac{16 \\gamma^{2} s^{2} \\frac{\\partial^{3}}{\\partial s\\partial \\phi^{2}} \\psi{\\left(s,\\phi,t \\right)}}{5 H{\\left(s \\right)}} + \\frac{\\gamma^{2} s^{2} \\frac{\\partial^{3}}{\\partial s\\partial \\phi^{2}} \\psi{\\left(s,\\phi,t \\right)}}{H^{3}{\\left(s \\right)}} + \\frac{2 \\gamma^{2} s \\frac{\\partial^{2}}{\\partial \\phi^{2}} \\psi{\\left(s,\\phi,t \\right)}}{15 H{\\left(s \\right)}} - \\frac{16 \\gamma^{2} s \\frac{\\partial^{4}}{\\partial \\phi^{4}} \\psi{\\left(s,\\phi,t \\right)}}{15 H{\\left(s \\right)}} + \\frac{8 \\gamma^{2} s \\frac{\\partial^{4}}{\\partial s^{2}\\partial \\phi^{2}} \\psi{\\left(s,\\phi,t \\right)}}{15 H{\\left(s \\right)}} + \\frac{\\gamma^{2} s \\frac{\\partial^{4}}{\\partial \\phi^{4}} \\psi{\\left(s,\\phi,t \\right)}}{6 H^{3}{\\left(s \\right)}} + \\frac{8 \\gamma^{2} \\frac{\\partial^{3}}{\\partial s\\partial \\phi^{2}} \\psi{\\left(s,\\phi,t \\right)}}{15 H{\\left(s \\right)}} + \\frac{8 \\gamma^{2} \\frac{\\partial^{4}}{\\partial \\phi^{4}} \\psi{\\left(s,\\phi,t \\right)}}{15 s H{\\left(s \\right)}}$"
      ],
      "text/plain": [
       "Eq(Derivative(F_\\mathrm{ext}(s, \\phi, t), t), \\gamma**2*s**6*Derivative(\\psi(s, \\phi, t), (\\phi, 2), s)/H(s)**3 + 8*\\gamma**2*s**5*Derivative(\\psi(s, \\phi, t), (\\phi, 2), (s, 2))/(15*H(s)) + 2*\\gamma**2*s**5*Derivative(\\psi(s, \\phi, t), (\\phi, 2))/H(s)**3 + \\gamma**2*s**5*Derivative(\\psi(s, \\phi, t), (\\phi, 4))/(6*H(s)**3) + 8*\\gamma**2*s**4*Derivative(\\psi(s, \\phi, t), (\\phi, 2), s)/(3*H(s)) - 2*\\gamma**2*s**4*Derivative(\\psi(s, \\phi, t), (\\phi, 2), s)/H(s)**3 + 28*\\gamma**2*s**3*Derivative(\\psi(s, \\phi, t), (\\phi, 2))/(15*H(s)) + 8*\\gamma**2*s**3*Derivative(\\psi(s, \\phi, t), (\\phi, 4))/(15*H(s)) - 16*\\gamma**2*s**3*Derivative(\\psi(s, \\phi, t), (\\phi, 2), (s, 2))/(15*H(s)) - 2*\\gamma**2*s**3*Derivative(\\psi(s, \\phi, t), (\\phi, 2))/H(s)**3 - \\gamma**2*s**3*Derivative(\\psi(s, \\phi, t), (\\phi, 4))/(3*H(s)**3) - 16*\\gamma**2*s**2*Derivative(\\psi(s, \\phi, t), (\\phi, 2), s)/(5*H(s)) + \\gamma**2*s**2*Derivative(\\psi(s, \\phi, t), (\\phi, 2), s)/H(s)**3 + 2*\\gamma**2*s*Derivative(\\psi(s, \\phi, t), (\\phi, 2))/(15*H(s)) - 16*\\gamma**2*s*Derivative(\\psi(s, \\phi, t), (\\phi, 4))/(15*H(s)) + 8*\\gamma**2*s*Derivative(\\psi(s, \\phi, t), (\\phi, 2), (s, 2))/(15*H(s)) + \\gamma**2*s*Derivative(\\psi(s, \\phi, t), (\\phi, 4))/(6*H(s)**3) + 8*\\gamma**2*Derivative(\\psi(s, \\phi, t), (\\phi, 2), s)/(15*H(s)) + 8*\\gamma**2*Derivative(\\psi(s, \\phi, t), (\\phi, 4))/(15*s*H(s)))"
      ]
     },
     "metadata": {},
     "output_type": "display_data"
    }
   ],
   "source": [
    "eqs_file = \"./out/eigen/Toroidal_Quadrupole/eqs_reduced_v0.json\"\n",
    "with open(eqs_file, 'r') as fread:\n",
    "    eqs_reduced = base.LabeledCollection.deserialize(json.load(fread)[\"equations\"], parser=sp.parse_expr)\n",
    "\n",
    "display_eq_collection(eqs_reduced)"
   ]
  },
  {
   "cell_type": "code",
   "execution_count": 26,
   "id": "6de733a0-f04a-4705-ba35-36621e76ec27",
   "metadata": {},
   "outputs": [
    {
     "data": {
      "text/latex": [
       "$\\displaystyle \\frac{s^{2} \\frac{\\partial^{2}}{\\partial t\\partial s} \\psi{\\left(s,\\phi,t \\right)}}{H^{3}{\\left(s \\right)}} + \\frac{s \\frac{\\partial^{3}}{\\partial t\\partial s^{2}} \\psi{\\left(s,\\phi,t \\right)}}{H{\\left(s \\right)}} + \\frac{s \\frac{\\partial^{3}}{\\partial t\\partial \\phi^{2}} \\psi{\\left(s,\\phi,t \\right)}}{2 H^{3}{\\left(s \\right)}} + \\frac{\\frac{\\partial^{2}}{\\partial t\\partial s} \\psi{\\left(s,\\phi,t \\right)}}{H{\\left(s \\right)}} + \\frac{\\frac{\\partial^{3}}{\\partial t\\partial \\phi^{2}} \\psi{\\left(s,\\phi,t \\right)}}{s H{\\left(s \\right)}} = F_\\mathrm{ext}{\\left(s,\\phi,t \\right)} + \\frac{2 s \\frac{\\partial}{\\partial \\phi} \\psi{\\left(s,\\phi,t \\right)}}{\\mathrm{Le} H^{3}{\\left(s \\right)}}$"
      ],
      "text/plain": [
       "Eq(s**2*Derivative(\\psi(s, \\phi, t), s, t)/H(s)**3 + s*Derivative(\\psi(s, \\phi, t), (s, 2), t)/H(s) + s*Derivative(\\psi(s, \\phi, t), (\\phi, 2), t)/(2*H(s)**3) + Derivative(\\psi(s, \\phi, t), s, t)/H(s) + Derivative(\\psi(s, \\phi, t), (\\phi, 2), t)/(s*H(s)), F_\\mathrm{ext}(s, \\phi, t) + 2*s*Derivative(\\psi(s, \\phi, t), \\phi)/(\\mathrm{Le}*H(s)**3))"
      ]
     },
     "metadata": {},
     "output_type": "display_data"
    },
    {
     "data": {
      "text/latex": [
       "$\\displaystyle \\frac{\\partial}{\\partial t} F_\\mathrm{ext}{\\left(s,\\phi,t \\right)} = \\frac{8 \\gamma^{2} s^{5} \\frac{\\partial^{4}}{\\partial s^{2}\\partial \\phi^{2}} \\psi{\\left(s,\\phi,t \\right)}}{15 H{\\left(s \\right)}} + \\frac{\\gamma^{2} s^{5} \\frac{\\partial^{4}}{\\partial \\phi^{4}} \\psi{\\left(s,\\phi,t \\right)}}{6 H^{3}{\\left(s \\right)}} + \\frac{5 \\gamma^{2} s^{4} \\frac{\\partial^{3}}{\\partial s\\partial \\phi^{2}} \\psi{\\left(s,\\phi,t \\right)}}{3 H{\\left(s \\right)}} - \\frac{32 \\gamma^{2} s^{3} \\frac{\\partial^{2}}{\\partial \\phi^{2}} \\psi{\\left(s,\\phi,t \\right)}}{15 H{\\left(s \\right)}} + \\frac{8 \\gamma^{2} s^{3} \\frac{\\partial^{4}}{\\partial \\phi^{4}} \\psi{\\left(s,\\phi,t \\right)}}{15 H{\\left(s \\right)}} - \\frac{16 \\gamma^{2} s^{3} \\frac{\\partial^{4}}{\\partial s^{2}\\partial \\phi^{2}} \\psi{\\left(s,\\phi,t \\right)}}{15 H{\\left(s \\right)}} - \\frac{\\gamma^{2} s^{3} \\frac{\\partial^{4}}{\\partial \\phi^{4}} \\psi{\\left(s,\\phi,t \\right)}}{3 H^{3}{\\left(s \\right)}} - \\frac{11 \\gamma^{2} s^{2} \\frac{\\partial^{3}}{\\partial s\\partial \\phi^{2}} \\psi{\\left(s,\\phi,t \\right)}}{5 H{\\left(s \\right)}} - 2 \\gamma^{2} s H{\\left(s \\right)} \\frac{\\partial^{2}}{\\partial \\phi^{2}} \\psi{\\left(s,\\phi,t \\right)} + \\frac{32 \\gamma^{2} s \\frac{\\partial^{2}}{\\partial \\phi^{2}} \\psi{\\left(s,\\phi,t \\right)}}{15 H{\\left(s \\right)}} - \\frac{16 \\gamma^{2} s \\frac{\\partial^{4}}{\\partial \\phi^{4}} \\psi{\\left(s,\\phi,t \\right)}}{15 H{\\left(s \\right)}} + \\frac{8 \\gamma^{2} s \\frac{\\partial^{4}}{\\partial s^{2}\\partial \\phi^{2}} \\psi{\\left(s,\\phi,t \\right)}}{15 H{\\left(s \\right)}} + \\frac{\\gamma^{2} s \\frac{\\partial^{4}}{\\partial \\phi^{4}} \\psi{\\left(s,\\phi,t \\right)}}{6 H^{3}{\\left(s \\right)}} + \\frac{8 \\gamma^{2} \\frac{\\partial^{3}}{\\partial s\\partial \\phi^{2}} \\psi{\\left(s,\\phi,t \\right)}}{15 H{\\left(s \\right)}} + \\frac{8 \\gamma^{2} \\frac{\\partial^{4}}{\\partial \\phi^{4}} \\psi{\\left(s,\\phi,t \\right)}}{15 s H{\\left(s \\right)}}$"
      ],
      "text/plain": [
       "Eq(Derivative(F_\\mathrm{ext}(s, \\phi, t), t), 8*\\gamma**2*s**5*Derivative(\\psi(s, \\phi, t), (\\phi, 2), (s, 2))/(15*H(s)) + \\gamma**2*s**5*Derivative(\\psi(s, \\phi, t), (\\phi, 4))/(6*H(s)**3) + 5*\\gamma**2*s**4*Derivative(\\psi(s, \\phi, t), (\\phi, 2), s)/(3*H(s)) - 32*\\gamma**2*s**3*Derivative(\\psi(s, \\phi, t), (\\phi, 2))/(15*H(s)) + 8*\\gamma**2*s**3*Derivative(\\psi(s, \\phi, t), (\\phi, 4))/(15*H(s)) - 16*\\gamma**2*s**3*Derivative(\\psi(s, \\phi, t), (\\phi, 2), (s, 2))/(15*H(s)) - \\gamma**2*s**3*Derivative(\\psi(s, \\phi, t), (\\phi, 4))/(3*H(s)**3) - 11*\\gamma**2*s**2*Derivative(\\psi(s, \\phi, t), (\\phi, 2), s)/(5*H(s)) - 2*\\gamma**2*s*H(s)*Derivative(\\psi(s, \\phi, t), (\\phi, 2)) + 32*\\gamma**2*s*Derivative(\\psi(s, \\phi, t), (\\phi, 2))/(15*H(s)) - 16*\\gamma**2*s*Derivative(\\psi(s, \\phi, t), (\\phi, 4))/(15*H(s)) + 8*\\gamma**2*s*Derivative(\\psi(s, \\phi, t), (\\phi, 2), (s, 2))/(15*H(s)) + \\gamma**2*s*Derivative(\\psi(s, \\phi, t), (\\phi, 4))/(6*H(s)**3) + 8*\\gamma**2*Derivative(\\psi(s, \\phi, t), (\\phi, 2), s)/(15*H(s)) + 8*\\gamma**2*Derivative(\\psi(s, \\phi, t), (\\phi, 4))/(15*s*H(s)))"
      ]
     },
     "metadata": {},
     "output_type": "display_data"
    }
   ],
   "source": [
    "eqs_file = \"./out/eigen/Toroidal_Quadrupole/eqs_reduced.json\"\n",
    "with open(eqs_file, 'r') as fread:\n",
    "    eqs_reduced = base.LabeledCollection.deserialize(json.load(fread)[\"equations\"], parser=sp.parse_expr)\n",
    "\n",
    "display_eq_collection(eqs_reduced)"
   ]
  },
  {
   "cell_type": "code",
   "execution_count": 30,
   "id": "1b4884dd-7e97-4e31-8b25-a875983f5f82",
   "metadata": {},
   "outputs": [],
   "source": [
    "eqs_2ord = sp.Eq(sp.diff(eqs_reduced.Psi.lhs, core.t), sp.diff(eqs_reduced.Psi.rhs, core.t).subs({eqs_reduced.F_ext.lhs: eqs_reduced.F_ext.rhs}))\n",
    "eq_rad = eigen.to_fd_ode_psi(eqs_2ord)\n",
    "eq_rad = sp.Eq(eq_rad.lhs - eq_rad.rhs, sp.S.Zero)"
   ]
  },
  {
   "cell_type": "code",
   "execution_count": 31,
   "id": "c069b709-8ec9-470a-82f2-0806bc0ee3d5",
   "metadata": {},
   "outputs": [
    {
     "data": {
      "text/latex": [
       "$\\displaystyle \\left(\\frac{8 \\gamma^{2} m^{2} s \\left(s - 1\\right)^{2} \\left(s + 1\\right)^{2}}{15 H{\\left(s \\right)}} - \\frac{\\omega^{2} s}{H{\\left(s \\right)}}\\right) \\frac{d^{2}}{d s^{2}} \\Psi^{m}{\\left(s \\right)} + \\left(- \\frac{\\gamma^{2} m^{2} \\left(s - 1\\right)^{2} \\left(s + 1\\right)^{2} \\cdot \\left(25 s^{2} - 8\\right)}{15 H^{3}{\\left(s \\right)}} - \\frac{\\omega^{2}}{H^{3}{\\left(s \\right)}}\\right) \\frac{d}{d s} \\Psi^{m}{\\left(s \\right)} + \\left(\\frac{\\gamma^{2} m^{4} \\left(s - 1\\right)^{2} \\left(s + 1\\right)^{2} \\cdot \\left(11 s^{2} - 16\\right)}{30 s H^{3}{\\left(s \\right)}} + \\frac{2 \\gamma^{2} m^{2} s \\left(s - 1\\right)^{2} \\left(s + 1\\right)^{2}}{15 H^{3}{\\left(s \\right)}} + \\frac{\\omega^{2} m^{2} \\left(H^{2}{\\left(s \\right)} + 1\\right)}{2 s H^{3}{\\left(s \\right)}} + \\frac{2 \\omega m s}{\\mathrm{Le} H^{3}{\\left(s \\right)}}\\right) \\Psi^{m}{\\left(s \\right)} = 0$"
      ],
      "text/plain": [
       "Eq((8*\\gamma**2*m**2*s*(s - 1)**2*(s + 1)**2/(15*H(s)) - \\omega**2*s/H(s))*Derivative(\\Psi^{m}(s), (s, 2)) + (-\\gamma**2*m**2*(s - 1)**2*(s + 1)**2*(25*s**2 - 8)/(15*H(s)**3) - \\omega**2/H(s)**3)*Derivative(\\Psi^{m}(s), s) + (\\gamma**2*m**4*(s - 1)**2*(s + 1)**2*(11*s**2 - 16)/(30*s*H(s)**3) + 2*\\gamma**2*m**2*s*(s - 1)**2*(s + 1)**2/(15*H(s)**3) + \\omega**2*m**2*(H(s)**2 + 1)/(2*s*H(s)**3) + 2*\\omega*m*s/(\\mathrm{Le}*H(s)**3))*\\Psi^{m}(s), 0)"
      ]
     },
     "execution_count": 31,
     "metadata": {},
     "output_type": "execute_result"
    }
   ],
   "source": [
    "def common_denom_simplify(expr):\n",
    "    expr = expr.together()\n",
    "    num, denom = sp.fraction(expr)\n",
    "    num = num.subs({core.H: core.H_s}).simplify().factor().subs({core.H_s: core.H, core.H_s**2: core.H**2}).collect(expansion.m)\n",
    "    return num/denom.factor()\n",
    "\n",
    "eq_grouped = simplify.recursive_collect_tree(eq_rad.lhs, (expansion.pgvar_s.Psi, expansion.omega, expansion.m))\n",
    "simplify.process_leaf_node(eq_grouped, common_denom_simplify)\n",
    "eq_grouped = sp.Eq(simplify.recursive_eval_tree(eq_grouped), eq_rad.rhs)\n",
    "eq_grouped"
   ]
  },
  {
   "cell_type": "code",
   "execution_count": 27,
   "id": "8fee5fa1-532f-4b01-a33f-032642975f00",
   "metadata": {},
   "outputs": [],
   "source": [
    "eqs_2ord = sp.Eq(sp.diff(eqs_reduced.Psi.lhs, core.t), sp.diff(eqs_reduced.Psi.rhs, core.t).subs({eqs_reduced.F_ext.lhs: eqs_reduced.F_ext.rhs}))\n",
    "eq_rad = eigen.to_fd_ode_psi(eqs_2ord)\n",
    "eq_rad = sp.Eq(eq_rad.lhs - eq_rad.rhs, sp.S.Zero)"
   ]
  },
  {
   "cell_type": "code",
   "execution_count": 28,
   "id": "2c0fbb86-28f7-400d-bf49-89f056606ca5",
   "metadata": {},
   "outputs": [
    {
     "data": {
      "text/latex": [
       "$\\displaystyle \\left(\\frac{8 \\gamma^{2} m^{2} s \\left(s - 1\\right)^{2} \\left(s + 1\\right)^{2}}{15 H{\\left(s \\right)}} - \\frac{\\omega^{2} s}{H{\\left(s \\right)}}\\right) \\frac{d^{2}}{d s^{2}} \\Psi^{m}{\\left(s \\right)} + \\left(\\frac{\\gamma^{2} m^{2} \\left(s - 1\\right) \\left(s + 1\\right) \\left(25 s^{2} - 8\\right)}{15 H{\\left(s \\right)}} - \\frac{\\omega^{2}}{H^{3}{\\left(s \\right)}}\\right) \\frac{d}{d s} \\Psi^{m}{\\left(s \\right)} + \\left(\\frac{\\gamma^{2} m^{4} \\left(s - 1\\right)^{2} \\left(s + 1\\right)^{2} \\cdot \\left(11 s^{2} - 16\\right)}{30 s H^{3}{\\left(s \\right)}} - \\frac{2 \\gamma^{2} m^{2} s \\left(s - 1\\right) \\left(s + 1\\right)}{15 H{\\left(s \\right)}} + \\frac{\\omega^{2} m^{2} \\left(H^{2}{\\left(s \\right)} + 1\\right)}{2 s H^{3}{\\left(s \\right)}} + \\frac{2 \\omega m s}{\\mathrm{Le} H^{3}{\\left(s \\right)}}\\right) \\Psi^{m}{\\left(s \\right)} = 0$"
      ],
      "text/plain": [
       "Eq((8*\\gamma**2*m**2*s*(s - 1)**2*(s + 1)**2/(15*H(s)) - \\omega**2*s/H(s))*Derivative(\\Psi^{m}(s), (s, 2)) + (\\gamma**2*m**2*(s - 1)*(s + 1)*(25*s**2 - 8)/(15*H(s)) - \\omega**2/H(s)**3)*Derivative(\\Psi^{m}(s), s) + (\\gamma**2*m**4*(s - 1)**2*(s + 1)**2*(11*s**2 - 16)/(30*s*H(s)**3) - 2*\\gamma**2*m**2*s*(s - 1)*(s + 1)/(15*H(s)) + \\omega**2*m**2*(H(s)**2 + 1)/(2*s*H(s)**3) + 2*\\omega*m*s/(\\mathrm{Le}*H(s)**3))*\\Psi^{m}(s), 0)"
      ]
     },
     "execution_count": 28,
     "metadata": {},
     "output_type": "execute_result"
    }
   ],
   "source": [
    "def common_denom_simplify(expr):\n",
    "    expr = expr.together()\n",
    "    num, denom = sp.fraction(expr)\n",
    "    num = num.subs({core.H: core.H_s}).simplify().factor().subs({core.H_s: core.H, core.H_s**2: core.H**2}).collect(expansion.m)\n",
    "    return num/denom.factor()\n",
    "\n",
    "eq_grouped = simplify.recursive_collect_tree(eq_rad.lhs, (expansion.pgvar_s.Psi, expansion.omega, expansion.m))\n",
    "simplify.process_leaf_node(eq_grouped, common_denom_simplify)\n",
    "eq_grouped = sp.Eq(simplify.recursive_eval_tree(eq_grouped), eq_rad.rhs)\n",
    "eq_grouped"
   ]
  },
  {
   "cell_type": "code",
   "execution_count": 21,
   "id": "227c190e-68a5-40cc-9947-acbb33c514d8",
   "metadata": {},
   "outputs": [],
   "source": [
    "eqs_2ord = sp.Eq(\n",
    "    sp.diff(eqs_reduced.Psi.lhs, core.t),\n",
    "    sp.diff(eqs_reduced.Psi.rhs, core.t).subs({eqs_reduced.F_ext.lhs: eqs_reduced.F_ext.rhs}).doit().expand()\n",
    ")\n",
    "eq_rad = eigen.to_fd_ode_psi(eqs_2ord)\n",
    "eq_rad = sp.Eq(eq_rad.lhs - eq_rad.rhs, sp.S.Zero)"
   ]
  },
  {
   "cell_type": "markdown",
   "id": "48625ef9-75e0-4d61-823a-3130bb50e41f",
   "metadata": {},
   "source": [
    "### Second-order form"
   ]
  },
  {
   "cell_type": "code",
   "execution_count": 51,
   "id": "53784228-9f38-499c-9843-cbc17c46edf8",
   "metadata": {},
   "outputs": [
    {
     "name": "stdout",
     "output_type": "stream",
     "text": [
      "========== Converting to 2nd order dynamical system... ==========\n",
      "========== Reducing dimension of dynamical system... ==========\n",
      "Extracting body forces...\n",
      "Forming dynamical system of Psi and F...\n"
     ]
    }
   ],
   "source": [
    "eqs_file = \"./out/eigen/Poloidal_Dipole/eqs_pg.json\"\n",
    "with open(eqs_file, 'r') as fread:\n",
    "    eqs_pg = base.CollectionPG.deserialize(json.load(fread)[\"equations\"], parser=sp.parse_expr)\n",
    "eqs_pg_select = eqs_pg.copy()\n",
    "# for i_eq in range(14, 21):\n",
    "#     eqs_pg_select[i_eq] = sp.Eq(eqs_pg_select[i_eq].lhs, sp.S.Zero)\n",
    "eqs_pg_select[16] = sp.Eq(eqs_pg_select[16].lhs, sp.S.Zero)\n",
    "eqs_pg_select[19] = sp.Eq(eqs_pg_select[19].lhs, sp.S.Zero)\n",
    "\n",
    "eqs_2ord = eigen.reduce_eqsys_to_psi(eqs_pg_select, verbose=5)\n",
    "eq_rad = eigen.to_fd_ode_psi(eqs_2ord)\n",
    "eq_rad = sp.Eq(eq_rad.lhs - eq_rad.rhs, sp.S.Zero)"
   ]
  },
  {
   "cell_type": "code",
   "execution_count": 43,
   "id": "dc8bfc8c-b0e1-4b9b-9de6-227fa7a71a05",
   "metadata": {},
   "outputs": [
    {
     "data": {
      "text/latex": [
       "$\\displaystyle \\frac{s^{2} \\frac{\\partial^{2}}{\\partial t\\partial s} \\psi{\\left(s,\\phi,t \\right)}}{H^{3}{\\left(s \\right)}} + \\frac{s \\frac{\\partial^{3}}{\\partial t\\partial s^{2}} \\psi{\\left(s,\\phi,t \\right)}}{H{\\left(s \\right)}} + \\frac{s \\frac{\\partial^{3}}{\\partial t\\partial \\phi^{2}} \\psi{\\left(s,\\phi,t \\right)}}{2 H^{3}{\\left(s \\right)}} + \\frac{\\frac{\\partial^{2}}{\\partial t\\partial s} \\psi{\\left(s,\\phi,t \\right)}}{H{\\left(s \\right)}} + \\frac{\\frac{\\partial^{3}}{\\partial t\\partial \\phi^{2}} \\psi{\\left(s,\\phi,t \\right)}}{s H{\\left(s \\right)}} = - \\frac{12 s^{4} b_{\\phi, z}^e{\\left(s,\\phi,t \\right)}}{H^{2}{\\left(s \\right)}} - \\frac{3 s^{4} \\frac{\\partial}{\\partial \\phi} b^{+}_{s}{\\left(s,\\phi,t \\right)}}{H^{3}{\\left(s \\right)}} + \\frac{3 s^{4} \\frac{\\partial}{\\partial \\phi} b^{-}_{s}{\\left(s,\\phi,t \\right)}}{H^{3}{\\left(s \\right)}} - \\frac{3 s^{3} \\frac{\\partial}{\\partial \\phi} b^{+}_{z}{\\left(s,\\phi,t \\right)}}{H^{2}{\\left(s \\right)}} - \\frac{3 s^{3} \\frac{\\partial}{\\partial \\phi} b^{-}_{z}{\\left(s,\\phi,t \\right)}}{H^{2}{\\left(s \\right)}} + \\frac{24 s^{3} \\frac{\\partial}{\\partial \\phi} b_{z}^e{\\left(s,\\phi,t \\right)}}{H^{2}{\\left(s \\right)}} - \\frac{3 s^{2} \\frac{\\partial}{\\partial \\phi} b^{+}_{s}{\\left(s,\\phi,t \\right)}}{H{\\left(s \\right)}} + \\frac{3 s^{2} \\frac{\\partial}{\\partial \\phi} b^{-}_{s}{\\left(s,\\phi,t \\right)}}{H{\\left(s \\right)}} + \\frac{10 s^{2} b_{\\phi, z}^e{\\left(s,\\phi,t \\right)}}{H^{2}{\\left(s \\right)}} + \\frac{2 s^{2} \\frac{\\partial}{\\partial \\phi} b^{+}_{s}{\\left(s,\\phi,t \\right)}}{H^{3}{\\left(s \\right)}} - \\frac{2 s^{2} \\frac{\\partial}{\\partial \\phi} b^{-}_{s}{\\left(s,\\phi,t \\right)}}{H^{3}{\\left(s \\right)}} - 3 s \\frac{\\partial}{\\partial \\phi} b^{+}_{z}{\\left(s,\\phi,t \\right)} - 3 s \\frac{\\partial}{\\partial \\phi} b^{-}_{z}{\\left(s,\\phi,t \\right)} - \\frac{s \\frac{\\partial^{2}}{\\partial s^{2}} \\overline{m_{s\\phi}}{\\left(s,\\phi,t \\right)}}{2 H{\\left(s \\right)}} + \\frac{2 s \\frac{\\partial}{\\partial s} b^{+}_{\\phi}{\\left(s,\\phi,t \\right)}}{H{\\left(s \\right)}} - \\frac{2 s \\frac{\\partial}{\\partial s} b^{-}_{\\phi}{\\left(s,\\phi,t \\right)}}{H{\\left(s \\right)}} + \\frac{4 s \\frac{\\partial}{\\partial \\phi} b^{+}_{z}{\\left(s,\\phi,t \\right)}}{H^{2}{\\left(s \\right)}} + \\frac{4 s \\frac{\\partial}{\\partial \\phi} b^{-}_{z}{\\left(s,\\phi,t \\right)}}{H^{2}{\\left(s \\right)}} - \\frac{20 s \\frac{\\partial}{\\partial \\phi} b_{z}^e{\\left(s,\\phi,t \\right)}}{H^{2}{\\left(s \\right)}} - \\frac{s \\frac{\\partial^{2}}{\\partial s\\partial \\phi} \\widetilde{m_{sz}}{\\left(s,\\phi,t \\right)}}{2 H^{2}{\\left(s \\right)}} + \\frac{2 b^{+}_{\\phi}{\\left(s,\\phi,t \\right)}}{H{\\left(s \\right)}} - \\frac{2 b^{-}_{\\phi}{\\left(s,\\phi,t \\right)}}{H{\\left(s \\right)}} - \\frac{3 \\frac{\\partial}{\\partial s} \\overline{m_{s\\phi}}{\\left(s,\\phi,t \\right)}}{2 H{\\left(s \\right)}} - \\frac{2 \\frac{\\partial}{\\partial \\phi} b^{+}_{s}{\\left(s,\\phi,t \\right)}}{H{\\left(s \\right)}} + \\frac{2 \\frac{\\partial}{\\partial \\phi} b^{-}_{s}{\\left(s,\\phi,t \\right)}}{H{\\left(s \\right)}} - \\frac{\\frac{\\partial^{2}}{\\partial s\\partial \\phi} \\overline{m_{\\phi\\phi}}{\\left(s,\\phi,t \\right)}}{2 H{\\left(s \\right)}} + \\frac{\\frac{\\partial^{2}}{\\partial s\\partial \\phi} \\overline{m_{ss}}{\\left(s,\\phi,t \\right)}}{2 H{\\left(s \\right)}} - \\frac{\\frac{\\partial^{2}}{\\partial \\phi^{2}} \\widetilde{m_{\\phi z}}{\\left(s,\\phi,t \\right)}}{2 H^{2}{\\left(s \\right)}} - \\frac{\\frac{\\partial}{\\partial \\phi} \\widetilde{m_{sz}}{\\left(s,\\phi,t \\right)}}{2 H^{2}{\\left(s \\right)}} - \\frac{\\frac{\\partial}{\\partial \\phi} \\overline{m_{\\phi\\phi}}{\\left(s,\\phi,t \\right)}}{2 s H{\\left(s \\right)}} + \\frac{\\frac{\\partial^{2}}{\\partial \\phi^{2}} \\overline{m_{s\\phi}}{\\left(s,\\phi,t \\right)}}{2 s H{\\left(s \\right)}} + \\frac{\\frac{\\partial}{\\partial \\phi} \\overline{m_{ss}}{\\left(s,\\phi,t \\right)}}{2 s H{\\left(s \\right)}} + \\frac{2 s \\frac{\\partial}{\\partial \\phi} \\psi{\\left(s,\\phi,t \\right)}}{\\mathrm{Le} H^{3}{\\left(s \\right)}}$"
      ],
      "text/plain": [
       "Eq(s**2*Derivative(\\psi(s, \\phi, t), s, t)/H(s)**3 + s*Derivative(\\psi(s, \\phi, t), (s, 2), t)/H(s) + s*Derivative(\\psi(s, \\phi, t), (\\phi, 2), t)/(2*H(s)**3) + Derivative(\\psi(s, \\phi, t), s, t)/H(s) + Derivative(\\psi(s, \\phi, t), (\\phi, 2), t)/(s*H(s)), -12*s**4*b_{\\phi, z}^e(s, \\phi, t)/H(s)**2 - 3*s**4*Derivative(b_s^+(s, \\phi, t), \\phi)/H(s)**3 + 3*s**4*Derivative(b_s^-(s, \\phi, t), \\phi)/H(s)**3 - 3*s**3*Derivative(b_z^+(s, \\phi, t), \\phi)/H(s)**2 - 3*s**3*Derivative(b_z^-(s, \\phi, t), \\phi)/H(s)**2 + 24*s**3*Derivative(b_{z}^e(s, \\phi, t), \\phi)/H(s)**2 - 3*s**2*Derivative(b_s^+(s, \\phi, t), \\phi)/H(s) + 3*s**2*Derivative(b_s^-(s, \\phi, t), \\phi)/H(s) + 10*s**2*b_{\\phi, z}^e(s, \\phi, t)/H(s)**2 + 2*s**2*Derivative(b_s^+(s, \\phi, t), \\phi)/H(s)**3 - 2*s**2*Derivative(b_s^-(s, \\phi, t), \\phi)/H(s)**3 - 3*s*Derivative(b_z^+(s, \\phi, t), \\phi) - 3*s*Derivative(b_z^-(s, \\phi, t), \\phi) - s*Derivative(\\overline{m_{s\\phi}}(s, \\phi, t), (s, 2))/(2*H(s)) + 2*s*Derivative(b_\\phi^+(s, \\phi, t), s)/H(s) - 2*s*Derivative(b_\\phi^-(s, \\phi, t), s)/H(s) + 4*s*Derivative(b_z^+(s, \\phi, t), \\phi)/H(s)**2 + 4*s*Derivative(b_z^-(s, \\phi, t), \\phi)/H(s)**2 - 20*s*Derivative(b_{z}^e(s, \\phi, t), \\phi)/H(s)**2 - s*Derivative(\\widetilde{m_{sz}}(s, \\phi, t), \\phi, s)/(2*H(s)**2) + 2*b_\\phi^+(s, \\phi, t)/H(s) - 2*b_\\phi^-(s, \\phi, t)/H(s) - 3*Derivative(\\overline{m_{s\\phi}}(s, \\phi, t), s)/(2*H(s)) - 2*Derivative(b_s^+(s, \\phi, t), \\phi)/H(s) + 2*Derivative(b_s^-(s, \\phi, t), \\phi)/H(s) - Derivative(\\overline{m_{\\phi\\phi}}(s, \\phi, t), \\phi, s)/(2*H(s)) + Derivative(\\overline{m_{ss}}(s, \\phi, t), \\phi, s)/(2*H(s)) - Derivative(\\widetilde{m_{\\phi z}}(s, \\phi, t), (\\phi, 2))/(2*H(s)**2) - Derivative(\\widetilde{m_{sz}}(s, \\phi, t), \\phi)/(2*H(s)**2) - Derivative(\\overline{m_{\\phi\\phi}}(s, \\phi, t), \\phi)/(2*s*H(s)) + Derivative(\\overline{m_{s\\phi}}(s, \\phi, t), (\\phi, 2))/(2*s*H(s)) + Derivative(\\overline{m_{ss}}(s, \\phi, t), \\phi)/(2*s*H(s)) + 2*s*Derivative(\\psi(s, \\phi, t), \\phi)/(\\mathrm{Le}*H(s)**3))"
      ]
     },
     "execution_count": 43,
     "metadata": {},
     "output_type": "execute_result"
    }
   ],
   "source": [
    "eqs_pg_select[0]"
   ]
  },
  {
   "cell_type": "markdown",
   "id": "81ebaaea-1892-44d2-a60e-59788536c227",
   "metadata": {},
   "source": [
    "Further simplifications: standard ODE form"
   ]
  },
  {
   "cell_type": "code",
   "execution_count": 44,
   "id": "8c93d30d-6c36-4ad7-b619-8f3500dbcea7",
   "metadata": {},
   "outputs": [
    {
     "data": {
      "text/latex": [
       "$\\displaystyle \\frac{\\omega^{2} m^{2} s \\Psi^{m}{\\left(s \\right)}}{2 H^{3}{\\left(s \\right)}} + \\frac{\\omega^{2} m^{2} \\Psi^{m}{\\left(s \\right)}}{s H{\\left(s \\right)}} - \\frac{\\omega^{2} s^{2} \\frac{d}{d s} \\Psi^{m}{\\left(s \\right)}}{H^{3}{\\left(s \\right)}} - \\frac{\\omega^{2} s \\frac{d^{2}}{d s^{2}} \\Psi^{m}{\\left(s \\right)}}{H{\\left(s \\right)}} - \\frac{\\omega^{2} \\frac{d}{d s} \\Psi^{m}{\\left(s \\right)}}{H{\\left(s \\right)}} - \\frac{36 m^{2} s^{6} \\frac{d}{d s} \\Psi^{m}{\\left(s \\right)}}{H^{5}{\\left(s \\right)}} - \\frac{36 m^{2} s^{5} \\frac{d^{2}}{d s^{2}} \\Psi^{m}{\\left(s \\right)}}{H^{3}{\\left(s \\right)}} + \\frac{486 m^{2} s^{5} \\Psi^{m}{\\left(s \\right)}}{H^{5}{\\left(s \\right)}} - \\frac{45 m^{2} s^{4} \\frac{d}{d s} \\Psi^{m}{\\left(s \\right)}}{H^{3}{\\left(s \\right)}} + \\frac{57 m^{2} s^{4} \\frac{d}{d s} \\Psi^{m}{\\left(s \\right)}}{H^{5}{\\left(s \\right)}} - \\frac{39 m^{2} s^{3} \\frac{d^{2}}{d s^{2}} \\Psi^{m}{\\left(s \\right)}}{H{\\left(s \\right)}} + \\frac{720 m^{2} s^{3} \\Psi^{m}{\\left(s \\right)}}{H^{3}{\\left(s \\right)}} + \\frac{57 m^{2} s^{3} \\frac{d^{2}}{d s^{2}} \\Psi^{m}{\\left(s \\right)}}{H^{3}{\\left(s \\right)}} - \\frac{807 m^{2} s^{3} \\Psi^{m}{\\left(s \\right)}}{H^{5}{\\left(s \\right)}} + \\frac{3 m^{2} s^{2} \\frac{d}{d s} \\Psi^{m}{\\left(s \\right)}}{H{\\left(s \\right)}} + \\frac{45 m^{2} s^{2} \\frac{d}{d s} \\Psi^{m}{\\left(s \\right)}}{H^{3}{\\left(s \\right)}} - \\frac{21 m^{2} s^{2} \\frac{d}{d s} \\Psi^{m}{\\left(s \\right)}}{H^{5}{\\left(s \\right)}} + \\frac{324 m^{2} s \\Psi^{m}{\\left(s \\right)}}{H{\\left(s \\right)}} + \\frac{33 m^{2} s \\frac{d^{2}}{d s^{2}} \\Psi^{m}{\\left(s \\right)}}{H{\\left(s \\right)}} - \\frac{450 m^{2} s \\Psi^{m}{\\left(s \\right)}}{H^{3}{\\left(s \\right)}} - \\frac{21 m^{2} s \\frac{d^{2}}{d s^{2}} \\Psi^{m}{\\left(s \\right)}}{H^{3}{\\left(s \\right)}} + \\frac{402 m^{2} s \\Psi^{m}{\\left(s \\right)}}{H^{5}{\\left(s \\right)}} + \\frac{15 m^{2} \\frac{d}{d s} \\Psi^{m}{\\left(s \\right)}}{H{\\left(s \\right)}} + \\frac{21 m^{2} \\frac{d}{d s} \\Psi^{m}{\\left(s \\right)}}{H^{3}{\\left(s \\right)}} - \\frac{96 m^{2} \\Psi^{m}{\\left(s \\right)}}{s H{\\left(s \\right)}} + \\frac{72 s^{6} \\frac{d}{d s} \\Psi^{m}{\\left(s \\right)}}{H^{5}{\\left(s \\right)}} + \\frac{12 s^{5} \\frac{d^{4}}{d s^{4}} \\Psi^{m}{\\left(s \\right)}}{H{\\left(s \\right)}} + \\frac{72 s^{5} \\frac{d^{2}}{d s^{2}} \\Psi^{m}{\\left(s \\right)}}{H^{3}{\\left(s \\right)}} + \\frac{108 s^{4} \\frac{d^{3}}{d s^{3}} \\Psi^{m}{\\left(s \\right)}}{H{\\left(s \\right)}} - \\frac{72 s^{4} \\frac{d}{d s} \\Psi^{m}{\\left(s \\right)}}{H^{3}{\\left(s \\right)}} - \\frac{60 s^{4} \\frac{d}{d s} \\Psi^{m}{\\left(s \\right)}}{H^{5}{\\left(s \\right)}} + \\frac{72 s^{3} \\frac{d^{2}}{d s^{2}} \\Psi^{m}{\\left(s \\right)}}{H{\\left(s \\right)}} - \\frac{12 s^{3} \\frac{d^{4}}{d s^{4}} \\Psi^{m}{\\left(s \\right)}}{H{\\left(s \\right)}} - \\frac{60 s^{3} \\frac{d^{2}}{d s^{2}} \\Psi^{m}{\\left(s \\right)}}{H^{3}{\\left(s \\right)}} - \\frac{360 s^{2} \\frac{d}{d s} \\Psi^{m}{\\left(s \\right)}}{H{\\left(s \\right)}} - \\frac{72 s^{2} \\frac{d^{3}}{d s^{3}} \\Psi^{m}{\\left(s \\right)}}{H{\\left(s \\right)}} + \\frac{60 s^{2} \\frac{d}{d s} \\Psi^{m}{\\left(s \\right)}}{H^{3}{\\left(s \\right)}} - \\frac{36 s \\frac{d^{2}}{d s^{2}} \\Psi^{m}{\\left(s \\right)}}{H{\\left(s \\right)}} + \\frac{36 \\frac{d}{d s} \\Psi^{m}{\\left(s \\right)}}{H{\\left(s \\right)}} + \\frac{2 \\omega m s \\Psi^{m}{\\left(s \\right)}}{\\mathrm{Le} H^{3}{\\left(s \\right)}} = 0$"
      ],
      "text/plain": [
       "Eq(\\omega**2*m**2*s*\\Psi^{m}(s)/(2*H(s)**3) + \\omega**2*m**2*\\Psi^{m}(s)/(s*H(s)) - \\omega**2*s**2*Derivative(\\Psi^{m}(s), s)/H(s)**3 - \\omega**2*s*Derivative(\\Psi^{m}(s), (s, 2))/H(s) - \\omega**2*Derivative(\\Psi^{m}(s), s)/H(s) - 36*m**2*s**6*Derivative(\\Psi^{m}(s), s)/H(s)**5 - 36*m**2*s**5*Derivative(\\Psi^{m}(s), (s, 2))/H(s)**3 + 486*m**2*s**5*\\Psi^{m}(s)/H(s)**5 - 45*m**2*s**4*Derivative(\\Psi^{m}(s), s)/H(s)**3 + 57*m**2*s**4*Derivative(\\Psi^{m}(s), s)/H(s)**5 - 39*m**2*s**3*Derivative(\\Psi^{m}(s), (s, 2))/H(s) + 720*m**2*s**3*\\Psi^{m}(s)/H(s)**3 + 57*m**2*s**3*Derivative(\\Psi^{m}(s), (s, 2))/H(s)**3 - 807*m**2*s**3*\\Psi^{m}(s)/H(s)**5 + 3*m**2*s**2*Derivative(\\Psi^{m}(s), s)/H(s) + 45*m**2*s**2*Derivative(\\Psi^{m}(s), s)/H(s)**3 - 21*m**2*s**2*Derivative(\\Psi^{m}(s), s)/H(s)**5 + 324*m**2*s*\\Psi^{m}(s)/H(s) + 33*m**2*s*Derivative(\\Psi^{m}(s), (s, 2))/H(s) - 450*m**2*s*\\Psi^{m}(s)/H(s)**3 - 21*m**2*s*Derivative(\\Psi^{m}(s), (s, 2))/H(s)**3 + 402*m**2*s*\\Psi^{m}(s)/H(s)**5 + 15*m**2*Derivative(\\Psi^{m}(s), s)/H(s) + 21*m**2*Derivative(\\Psi^{m}(s), s)/H(s)**3 - 96*m**2*\\Psi^{m}(s)/(s*H(s)) + 72*s**6*Derivative(\\Psi^{m}(s), s)/H(s)**5 + 12*s**5*Derivative(\\Psi^{m}(s), (s, 4))/H(s) + 72*s**5*Derivative(\\Psi^{m}(s), (s, 2))/H(s)**3 + 108*s**4*Derivative(\\Psi^{m}(s), (s, 3))/H(s) - 72*s**4*Derivative(\\Psi^{m}(s), s)/H(s)**3 - 60*s**4*Derivative(\\Psi^{m}(s), s)/H(s)**5 + 72*s**3*Derivative(\\Psi^{m}(s), (s, 2))/H(s) - 12*s**3*Derivative(\\Psi^{m}(s), (s, 4))/H(s) - 60*s**3*Derivative(\\Psi^{m}(s), (s, 2))/H(s)**3 - 360*s**2*Derivative(\\Psi^{m}(s), s)/H(s) - 72*s**2*Derivative(\\Psi^{m}(s), (s, 3))/H(s) + 60*s**2*Derivative(\\Psi^{m}(s), s)/H(s)**3 - 36*s*Derivative(\\Psi^{m}(s), (s, 2))/H(s) + 36*Derivative(\\Psi^{m}(s), s)/H(s) + 2*\\omega*m*s*\\Psi^{m}(s)/(\\mathrm{Le}*H(s)**3), 0)"
      ]
     },
     "execution_count": 44,
     "metadata": {},
     "output_type": "execute_result"
    }
   ],
   "source": [
    "eq_rad"
   ]
  },
  {
   "cell_type": "code",
   "execution_count": 52,
   "id": "f1f41f85-3783-44e1-981b-ee242d21ac79",
   "metadata": {},
   "outputs": [
    {
     "data": {
      "text/latex": [
       "$\\displaystyle \\left(- \\frac{9 s}{H^{2}{\\left(s \\right)}} + \\frac{6}{s H^{2}{\\left(s \\right)}}\\right) \\frac{d^{3}}{d s^{3}} \\Psi^{m}{\\left(s \\right)} + \\left(- \\frac{s^{2}}{H^{2}{\\left(s \\right)}} + \\frac{1}{H^{2}{\\left(s \\right)}}\\right) \\frac{d^{4}}{d s^{4}} \\Psi^{m}{\\left(s \\right)} + \\left(\\frac{\\omega^{2}}{12 s^{2} H^{2}{\\left(s \\right)}} + \\frac{3 m^{2} s^{2}}{H^{4}{\\left(s \\right)}} + \\frac{13 m^{2}}{4 H^{2}{\\left(s \\right)}} - \\frac{19 m^{2}}{4 H^{4}{\\left(s \\right)}} - \\frac{11 m^{2}}{4 s^{2} H^{2}{\\left(s \\right)}} + \\frac{7 m^{2}}{4 s^{2} H^{4}{\\left(s \\right)}} - \\frac{6 s^{2}}{H^{4}{\\left(s \\right)}} - \\frac{6}{H^{2}{\\left(s \\right)}} + \\frac{5}{H^{4}{\\left(s \\right)}} + \\frac{3}{s^{2} H^{2}{\\left(s \\right)}}\\right) \\frac{d^{2}}{d s^{2}} \\Psi^{m}{\\left(s \\right)} + \\left(- \\frac{\\omega^{2} m^{2}}{24 s^{2} H^{4}{\\left(s \\right)}} - \\frac{\\omega^{2} m^{2}}{12 s^{4} H^{2}{\\left(s \\right)}} - \\frac{81 m^{2} s^{2}}{2 H^{6}{\\left(s \\right)}} - \\frac{60 m^{2}}{H^{4}{\\left(s \\right)}} + \\frac{269 m^{2}}{4 H^{6}{\\left(s \\right)}} - \\frac{27 m^{2}}{s^{2} H^{2}{\\left(s \\right)}} + \\frac{75 m^{2}}{2 s^{2} H^{4}{\\left(s \\right)}} - \\frac{67 m^{2}}{2 s^{2} H^{6}{\\left(s \\right)}} + \\frac{8 m^{2}}{s^{4} H^{2}{\\left(s \\right)}} - \\frac{\\omega m}{6 \\mathrm{Le} s^{2} H^{4}{\\left(s \\right)}}\\right) \\Psi^{m}{\\left(s \\right)} + \\left(\\frac{\\omega^{2}}{12 s H^{4}{\\left(s \\right)}} + \\frac{\\omega^{2}}{12 s^{3} H^{2}{\\left(s \\right)}} + \\frac{3 m^{2} s^{3}}{H^{6}{\\left(s \\right)}} + \\frac{15 m^{2} s}{4 H^{4}{\\left(s \\right)}} - \\frac{19 m^{2} s}{4 H^{6}{\\left(s \\right)}} - \\frac{m^{2}}{4 s H^{2}{\\left(s \\right)}} - \\frac{15 m^{2}}{4 s H^{4}{\\left(s \\right)}} + \\frac{7 m^{2}}{4 s H^{6}{\\left(s \\right)}} - \\frac{5 m^{2}}{4 s^{3} H^{2}{\\left(s \\right)}} - \\frac{7 m^{2}}{4 s^{3} H^{4}{\\left(s \\right)}} - \\frac{6 s^{3}}{H^{6}{\\left(s \\right)}} + \\frac{6 s}{H^{4}{\\left(s \\right)}} + \\frac{5 s}{H^{6}{\\left(s \\right)}} + \\frac{30}{s H^{2}{\\left(s \\right)}} - \\frac{5}{s H^{4}{\\left(s \\right)}} - \\frac{3}{s^{3} H^{2}{\\left(s \\right)}}\\right) \\frac{d}{d s} \\Psi^{m}{\\left(s \\right)} = 0$"
      ],
      "text/plain": [
       "Eq((-9*s/H(s)**2 + 6/(s*H(s)**2))*Derivative(\\Psi^{m}(s), (s, 3)) + (-s**2/H(s)**2 + H(s)**(-2))*Derivative(\\Psi^{m}(s), (s, 4)) + (\\omega**2/(12*s**2*H(s)**2) + 3*m**2*s**2/H(s)**4 + 13*m**2/(4*H(s)**2) - 19*m**2/(4*H(s)**4) - 11*m**2/(4*s**2*H(s)**2) + 7*m**2/(4*s**2*H(s)**4) - 6*s**2/H(s)**4 - 6/H(s)**2 + 5/H(s)**4 + 3/(s**2*H(s)**2))*Derivative(\\Psi^{m}(s), (s, 2)) + (-\\omega**2*m**2/(24*s**2*H(s)**4) - \\omega**2*m**2/(12*s**4*H(s)**2) - 81*m**2*s**2/(2*H(s)**6) - 60*m**2/H(s)**4 + 269*m**2/(4*H(s)**6) - 27*m**2/(s**2*H(s)**2) + 75*m**2/(2*s**2*H(s)**4) - 67*m**2/(2*s**2*H(s)**6) + 8*m**2/(s**4*H(s)**2) - \\omega*m/(6*\\mathrm{Le}*s**2*H(s)**4))*\\Psi^{m}(s) + (\\omega**2/(12*s*H(s)**4) + \\omega**2/(12*s**3*H(s)**2) + 3*m**2*s**3/H(s)**6 + 15*m**2*s/(4*H(s)**4) - 19*m**2*s/(4*H(s)**6) - m**2/(4*s*H(s)**2) - 15*m**2/(4*s*H(s)**4) + 7*m**2/(4*s*H(s)**6) - 5*m**2/(4*s**3*H(s)**2) - 7*m**2/(4*s**3*H(s)**4) - 6*s**3/H(s)**6 + 6*s/H(s)**4 + 5*s/H(s)**6 + 30/(s*H(s)**2) - 5/(s*H(s)**4) - 3/(s**3*H(s)**2))*Derivative(\\Psi^{m}(s), s), 0)"
      ]
     },
     "execution_count": 52,
     "metadata": {},
     "output_type": "execute_result"
    }
   ],
   "source": [
    "ord_max = 4\n",
    "leading_cf = eq_rad.lhs.coeff(sp.diff(expansion.pgvar_s.Psi, (core.s, ord_max))).together().subs({core.H_s: core.H, core.H_s**2: core.H**2})\n",
    "eq_rad_std = sp.Eq((eq_rad.lhs/leading_cf).expand(), eq_rad.rhs/leading_cf)\n",
    "sp.Eq(eq_rad_std.lhs.collect(expansion.pgvar_s.Psi), eq_rad_std.rhs)"
   ]
  },
  {
   "cell_type": "markdown",
   "id": "f56bc16d-31e7-402c-a202-09d0ebef0e5d",
   "metadata": {},
   "source": [
    "Group the coefficients"
   ]
  },
  {
   "cell_type": "code",
   "execution_count": 54,
   "id": "4894cd52-506b-4327-9d99-24292c6496f5",
   "metadata": {},
   "outputs": [
    {
     "data": {
      "text/latex": [
       "$\\displaystyle - \\frac{\\left(s - 1\\right) \\left(s + 1\\right) \\frac{d^{4}}{d s^{4}} \\Psi^{m}{\\left(s \\right)}}{H^{2}{\\left(s \\right)}} + \\left(\\frac{\\omega^{2}}{12 s^{3} H^{4}{\\left(s \\right)}} - \\frac{m^{2} s^{6} - 2 m^{2} s^{4} - 2 m^{2} s^{2} + 3 m^{2} - 18 s^{6} + 47 s^{4} - 31 s^{2} + 3}{s^{3} H^{6}{\\left(s \\right)}}\\right) \\frac{d}{d s} \\Psi^{m}{\\left(s \\right)} + \\left(\\frac{\\omega^{2}}{12 s^{2} H^{2}{\\left(s \\right)}} + \\frac{- m^{2} s^{4} + 5 m^{2} s^{2} - 4 m^{2} - 16 s^{2} + 12}{4 s^{2} H^{4}{\\left(s \\right)}}\\right) \\frac{d^{2}}{d s^{2}} \\Psi^{m}{\\left(s \\right)} + \\left(\\frac{\\omega^{2} m^{2} \\left(- H^{2}{\\left(s \\right)} - 1\\right)}{24 s^{4} H^{4}{\\left(s \\right)}} - \\frac{m^{2} \\cdot \\left(30 s^{6} - 127 s^{4} + 156 s^{2} - 32\\right)}{4 s^{4} H^{6}{\\left(s \\right)}} - \\frac{\\omega m}{6 \\mathrm{Le} s^{2} H^{4}{\\left(s \\right)}}\\right) \\Psi^{m}{\\left(s \\right)} - \\frac{3 \\cdot \\left(3 s^{2} - 2\\right) \\frac{d^{3}}{d s^{3}} \\Psi^{m}{\\left(s \\right)}}{s H^{2}{\\left(s \\right)}} = 0$"
      ],
      "text/plain": [
       "Eq(-(s - 1)*(s + 1)*Derivative(\\Psi^{m}(s), (s, 4))/H(s)**2 + (\\omega**2/(12*s**3*H(s)**4) - (m**2*s**6 - 2*m**2*s**4 - 2*m**2*s**2 + 3*m**2 - 18*s**6 + 47*s**4 - 31*s**2 + 3)/(s**3*H(s)**6))*Derivative(\\Psi^{m}(s), s) + (\\omega**2/(12*s**2*H(s)**2) + (-m**2*s**4 + 5*m**2*s**2 - 4*m**2 - 16*s**2 + 12)/(4*s**2*H(s)**4))*Derivative(\\Psi^{m}(s), (s, 2)) + (\\omega**2*m**2*(-H(s)**2 - 1)/(24*s**4*H(s)**4) - m**2*(30*s**6 - 127*s**4 + 156*s**2 - 32)/(4*s**4*H(s)**6) - \\omega*m/(6*\\mathrm{Le}*s**2*H(s)**4))*\\Psi^{m}(s) - 3*(3*s**2 - 2)*Derivative(\\Psi^{m}(s), (s, 3))/(s*H(s)**2), 0)"
      ]
     },
     "execution_count": 54,
     "metadata": {},
     "output_type": "execute_result"
    }
   ],
   "source": [
    "from pg_utils.sympy_supp import simplify\n",
    "\n",
    "def common_denom_simplify(expr):\n",
    "    expr = expr.together()\n",
    "    num, denom = sp.fraction(expr)\n",
    "    num = num.subs({core.H: core.H_s}).simplify().factor().subs({core.H_s: core.H, core.H_s**2: core.H**2})\n",
    "    return num/denom\n",
    "\n",
    "eq_grouped = simplify.recursive_collect_tree(eq_rad_std.lhs, (expansion.pgvar_s.Psi, expansion.omega))\n",
    "simplify.process_leaf_node(eq_grouped, common_denom_simplify)\n",
    "eq_grouped = sp.Eq(simplify.recursive_eval_tree(eq_grouped), eq_rad_std.rhs)\n",
    "eq_grouped"
   ]
  },
  {
   "cell_type": "markdown",
   "id": "b5ef2687-5181-4bc3-bc18-73dd61910524",
   "metadata": {},
   "source": [
    "Output"
   ]
  },
  {
   "cell_type": "code",
   "execution_count": 23,
   "id": "245ddf4b-1272-4f22-b947-28984fbe87b1",
   "metadata": {},
   "outputs": [
    {
     "name": "stdout",
     "output_type": "stream",
     "text": [
      "\\left(\\frac{m^{2} \\left(- H^{2}{\\left(s \\right)} - 1\\right)}{2 s^{2} H^{2}{\\left(s \\right)}} - \\frac{2 m}{\\omega H^{2}{\\left(s \\right)}}\\right) \\Psi^{m}{\\left(s \\right)} + \\frac{d^{2}}{d s^{2}} \\Psi^{m}{\\left(s \\right)} + \\frac{\\frac{d}{d s} \\Psi^{m}{\\left(s \\right)}}{s H^{2}{\\left(s \\right)}} = 0\n"
     ]
    }
   ],
   "source": [
    "sp.print_latex(eq_grouped)"
   ]
  },
  {
   "cell_type": "markdown",
   "id": "5e829e27-32d7-45f5-8657-29d20034a711",
   "metadata": {},
   "source": [
    "## Matrix elements"
   ]
  },
  {
   "cell_type": "code",
   "execution_count": 71,
   "id": "4234f8ac-a144-4769-b45d-4804a9ec8d7b",
   "metadata": {},
   "outputs": [],
   "source": [
    "from pg_utils.numerics import matrices as nmatrix\n",
    "\n",
    "matrix_file = \"./out/eigen/Malkus/Transformed/matrix_expr.json\"\n",
    "with open(matrix_file, 'r') as fread:\n",
    "    matrix_obj = json.load(fread)\n",
    "\n",
    "M_expr = expansion.SystemMatrix.deserialize(matrix_obj[\"M\"])\n",
    "K_expr = expansion.SystemMatrix.deserialize(matrix_obj[\"K\"])\n",
    "par_list = [sp.parse_expr(par) for par in matrix_obj[\"params\"]]"
   ]
  },
  {
   "cell_type": "code",
   "execution_count": 83,
   "id": "6c8be3fe-2ea6-4ad9-9d46-99d4239373c4",
   "metadata": {},
   "outputs": [],
   "source": [
    "iprod = nmatrix.InnerQuad_GaussJacobi(M_expr[\"B_em\", \"B_em\"], automatic=True)"
   ]
  },
  {
   "cell_type": "code",
   "execution_count": 85,
   "id": "6fd5cf4d-f768-4df5-bba9-4b61feeac2ca",
   "metadata": {},
   "outputs": [
    {
     "data": {
      "text/plain": [
       "(0, Abs(m - 1) - 1/2, 52, 0, Abs(m - 1)/2)"
      ]
     },
     "execution_count": 85,
     "metadata": {},
     "output_type": "execute_result"
    }
   ],
   "source": [
    "iprod.deduce_params_outer(51, 51)"
   ]
  },
  {
   "cell_type": "code",
   "execution_count": 88,
   "id": "74cc98fa-4c39-4d1b-a739-bff06679eb8d",
   "metadata": {},
   "outputs": [
    {
     "data": {
      "text/latex": [
       "$\\displaystyle \\left(\\frac{\\xi}{2} + \\frac{1}{2}\\right)^{\\frac{\\left|{m - 1}\\right|}{2}} P_{\\ell'}^{\\left(0,\\left|{m - 1}\\right| - \\frac{1}{2}\\right)}\\left(\\xi\\right)$"
      ],
      "text/plain": [
       "(\\xi/2 + 1/2)**(Abs(m - 1)/2)*jacobi(\\ell', 0, Abs(m - 1) - 1/2, \\xi)"
      ]
     },
     "execution_count": 88,
     "metadata": {},
     "output_type": "execute_result"
    }
   ],
   "source": [
    "M_expr[\"B_em\", \"B_em\"]._opd_A"
   ]
  },
  {
   "cell_type": "code",
   "execution_count": 87,
   "id": "194c7078-4068-4b0b-9ff2-5c45197db886",
   "metadata": {},
   "outputs": [
    {
     "data": {
      "text/plain": [
       "[0, Abs(m - 1)/2, \\ell']"
      ]
     },
     "execution_count": 87,
     "metadata": {},
     "output_type": "execute_result"
    }
   ],
   "source": [
    "nmatrix.InnerQuad_GaussJacobi.get_powers(expansion.xi, M_expr[\"B_em\", \"B_em\"]._opd_A.doit())"
   ]
  },
  {
   "cell_type": "code",
   "execution_count": 74,
   "id": "7fd0d174-2ecc-4208-90d5-3056aa0463ae",
   "metadata": {},
   "outputs": [
    {
     "data": {
      "text/latex": [
       "$\\displaystyle \\frac{\\sqrt{2} \\cdot 2^{- \\frac{\\left|{m}\\right|}{2}} \\sqrt{p_{2}} p_{2}^{\\frac{\\left|{m}\\right|}{2}} P_{\\ell'}^{\\left(0,\\left|{m}\\right| + \\frac{1}{2}\\right)}\\left(\\xi\\right)}{2}$"
      ],
      "text/plain": [
       "sqrt(2)*sqrt(p_2)*p_2**(Abs(m)/2)*jacobi(\\ell', 0, Abs(m) + 1/2, \\xi)/(2*2**(Abs(m)/2))"
      ]
     },
     "metadata": {},
     "output_type": "display_data"
    },
    {
     "name": "stdout",
     "output_type": "stream",
     "text": [
      "[0, Abs(m)/2 + 1/2, \\ell']\n"
     ]
    }
   ],
   "source": [
    "opd_A_terms = nmatrix.InnerQuad_GaussJacobi.get_powers(expansion.xi, K_expr[\"F_ext\", \"Psi\"]._opd_A, return_expr=True)\n",
    "if not isinstance(opd_A_terms, list):\n",
    "    opd_A_terms = [opd_A_terms]\n",
    "\n",
    "for term in opd_A_terms:\n",
    "    display(term[1])\n",
    "    print(term[0])"
   ]
  },
  {
   "cell_type": "code",
   "execution_count": 75,
   "id": "323478d0-97a5-4b84-a203-1b97be2f2b44",
   "metadata": {},
   "outputs": [],
   "source": [
    "opd_B_terms = nmatrix.InnerQuad_GaussJacobi.get_powers(expansion.xi, K_expr[\"F_ext\", \"Psi\"]._opd_B.doit(), return_expr=True)\n",
    "if not isinstance(opd_B_terms, list):\n",
    "    opd_B_terms = [opd_B_terms]"
   ]
  },
  {
   "cell_type": "code",
   "execution_count": 76,
   "id": "724472a9-6044-4a22-98c3-a33c2ace94db",
   "metadata": {},
   "outputs": [
    {
     "data": {
      "text/latex": [
       "$\\displaystyle - \\frac{7 \\cdot 2^{- \\frac{\\left|{m}\\right|}{2}} \\gamma^{2} m^{2} p_{2}^{2} p_{2}^{\\frac{\\left|{m}\\right|}{2}} P_{\\ell}^{\\left(\\frac{3}{2},\\left|{m}\\right|\\right)}\\left(\\xi\\right)}{20 p_{1}}$"
      ],
      "text/plain": [
       "-7*\\gamma**2*m**2*p_2**2*p_2**(Abs(m)/2)*jacobi(\\ell, 3/2, Abs(m), \\xi)/(20*2**(Abs(m)/2)*p_1)"
      ]
     },
     "metadata": {},
     "output_type": "display_data"
    },
    {
     "name": "stdout",
     "output_type": "stream",
     "text": [
      "[-1, Abs(m)/2 + 2, \\ell]\n"
     ]
    },
    {
     "data": {
      "text/latex": [
       "$\\displaystyle \\frac{7 \\cdot 2^{- \\frac{\\left|{m}\\right|}{2}} \\gamma^{2} m^{2} p_{2} p_{2}^{\\frac{\\left|{m}\\right|}{2}} P_{\\ell}^{\\left(\\frac{3}{2},\\left|{m}\\right|\\right)}\\left(\\xi\\right)}{20 p_{1}}$"
      ],
      "text/plain": [
       "7*\\gamma**2*m**2*p_2*p_2**(Abs(m)/2)*jacobi(\\ell, 3/2, Abs(m), \\xi)/(20*2**(Abs(m)/2)*p_1)"
      ]
     },
     "metadata": {},
     "output_type": "display_data"
    },
    {
     "name": "stdout",
     "output_type": "stream",
     "text": [
      "[-1, Abs(m)/2 + 1, \\ell]\n"
     ]
    },
    {
     "data": {
      "text/latex": [
       "$\\displaystyle \\frac{7 \\cdot 2^{- \\frac{\\left|{m}\\right|}{2}} \\gamma^{2} m^{2} p_{2}^{3} p_{2}^{\\frac{\\left|{m}\\right|}{2}} P_{\\ell}^{\\left(\\frac{3}{2},\\left|{m}\\right|\\right)}\\left(\\xi\\right)}{80 p_{1}}$"
      ],
      "text/plain": [
       "7*\\gamma**2*m**2*p_2**3*p_2**(Abs(m)/2)*jacobi(\\ell, 3/2, Abs(m), \\xi)/(80*2**(Abs(m)/2)*p_1)"
      ]
     },
     "metadata": {},
     "output_type": "display_data"
    },
    {
     "name": "stdout",
     "output_type": "stream",
     "text": [
      "[-1, Abs(m)/2 + 3, \\ell]\n"
     ]
    }
   ],
   "source": [
    "for term in opd_B_terms:\n",
    "    if term[0][0] > -1:\n",
    "        continue\n",
    "    display(term[1])\n",
    "    print(term[0])"
   ]
  },
  {
   "cell_type": "code",
   "execution_count": 77,
   "id": "80d28ec8-ab18-4621-9bf7-95a6f98da855",
   "metadata": {},
   "outputs": [],
   "source": [
    "term_singular = sp.S.Zero\n",
    "for term in opd_B_terms:\n",
    "    if term[0][0] <= -1:\n",
    "        term_singular += term[1]"
   ]
  },
  {
   "cell_type": "code",
   "execution_count": 78,
   "id": "58a6b104-fab7-4d89-a35f-07eb7e644845",
   "metadata": {},
   "outputs": [
    {
     "data": {
      "text/latex": [
       "$\\displaystyle \\frac{7 \\cdot 2^{- \\frac{\\left|{m}\\right|}{2}} \\gamma^{2} m^{2} p_{2}^{3} p_{2}^{\\frac{\\left|{m}\\right|}{2}} P_{\\ell}^{\\left(\\frac{3}{2},\\left|{m}\\right|\\right)}\\left(\\xi\\right)}{80 p_{1}} - \\frac{7 \\cdot 2^{- \\frac{\\left|{m}\\right|}{2}} \\gamma^{2} m^{2} p_{2}^{2} p_{2}^{\\frac{\\left|{m}\\right|}{2}} P_{\\ell}^{\\left(\\frac{3}{2},\\left|{m}\\right|\\right)}\\left(\\xi\\right)}{20 p_{1}} + \\frac{7 \\cdot 2^{- \\frac{\\left|{m}\\right|}{2}} \\gamma^{2} m^{2} p_{2} p_{2}^{\\frac{\\left|{m}\\right|}{2}} P_{\\ell}^{\\left(\\frac{3}{2},\\left|{m}\\right|\\right)}\\left(\\xi\\right)}{20 p_{1}}$"
      ],
      "text/plain": [
       "7*\\gamma**2*m**2*p_2**3*p_2**(Abs(m)/2)*jacobi(\\ell, 3/2, Abs(m), \\xi)/(80*2**(Abs(m)/2)*p_1) - 7*\\gamma**2*m**2*p_2**2*p_2**(Abs(m)/2)*jacobi(\\ell, 3/2, Abs(m), \\xi)/(20*2**(Abs(m)/2)*p_1) + 7*\\gamma**2*m**2*p_2*p_2**(Abs(m)/2)*jacobi(\\ell, 3/2, Abs(m), \\xi)/(20*2**(Abs(m)/2)*p_1)"
      ]
     },
     "execution_count": 78,
     "metadata": {},
     "output_type": "execute_result"
    }
   ],
   "source": [
    "term_singular"
   ]
  },
  {
   "cell_type": "code",
   "execution_count": 81,
   "id": "57878fee-28cc-4e3a-8384-4f7c654bd2b1",
   "metadata": {},
   "outputs": [
    {
     "data": {
      "text/latex": [
       "$\\displaystyle \\frac{7 \\cdot 2^{- \\frac{\\left|{m}\\right|}{2}} \\gamma^{2} m^{2} p_{1} p_{2}^{\\frac{\\left|{m}\\right|}{2} + 1} P_{\\ell}^{\\left(\\frac{3}{2},\\left|{m}\\right|\\right)}\\left(\\xi\\right)}{80}$"
      ],
      "text/plain": [
       "7*\\gamma**2*m**2*p_1*p_2**(Abs(m)/2 + 1)*jacobi(\\ell, 3/2, Abs(m), \\xi)/(80*2**(Abs(m)/2))"
      ]
     },
     "execution_count": 81,
     "metadata": {},
     "output_type": "execute_result"
    }
   ],
   "source": [
    "term_singular.subs({sp.Symbol(r\"p_2\", positive=True): 2 - sp.Symbol(r\"p_1\", positive=True)}).simplify().subs({2 - sp.Symbol(r\"p_1\", positive=True): sp.Symbol(r\"p_2\", positive=True)})"
   ]
  },
  {
   "cell_type": "code",
   "execution_count": 83,
   "id": "362815b1-a340-4760-99b2-728e4521ad08",
   "metadata": {},
   "outputs": [
    {
     "data": {
      "text/plain": [
       "[[0, Abs(m)/2, \\ell],\n",
       " [0, Abs(m)/2, \\ell],\n",
       " [0, Abs(m)/2 + 1, \\ell],\n",
       " [0, Abs(m)/2 + 2, \\ell - 1],\n",
       " [1, Abs(m)/2, \\ell - 1],\n",
       " [1, Abs(m)/2, \\ell - 1],\n",
       " [0, Abs(m)/2 + 1, \\ell],\n",
       " [1, Abs(m)/2, \\ell],\n",
       " [0, Abs(m)/2 + 2, \\ell],\n",
       " [0, Abs(m)/2 + 1, \\ell - 1],\n",
       " [0, Abs(m)/2, \\ell],\n",
       " [0, Abs(m)/2 + 3, \\ell - 1],\n",
       " [0, Abs(m)/2 + 2, \\ell],\n",
       " [1, Abs(m)/2, \\ell - 1],\n",
       " [0, Abs(m)/2 + 2, \\ell - 1],\n",
       " [0, Abs(m)/2 + 1, \\ell],\n",
       " [0, Abs(m)/2 + 2, \\ell - 1],\n",
       " [1, Abs(m)/2 + 1, \\ell - 2],\n",
       " [-1, Abs(m)/2 + 2, \\ell],\n",
       " [1, Abs(m)/2 + 3, \\ell - 2],\n",
       " [1, Abs(m)/2 + 1, \\ell],\n",
       " [1, Abs(m)/2, \\ell - 1],\n",
       " [1, Abs(m)/2 + 1, \\ell - 2],\n",
       " [1, Abs(m)/2 + 2, \\ell - 1],\n",
       " [1, Abs(m)/2 + 2, \\ell - 1],\n",
       " [1, Abs(m)/2 + 3, \\ell - 2],\n",
       " [1, Abs(m)/2 + 2, \\ell - 2],\n",
       " [1, Abs(m)/2 + 1, \\ell - 1],\n",
       " [1, Abs(m)/2 + 1, \\ell - 1],\n",
       " [1, Abs(m)/2, \\ell],\n",
       " [1, Abs(m)/2 + 2, \\ell - 2],\n",
       " [-1, Abs(m)/2 + 1, \\ell],\n",
       " [-1, Abs(m)/2 + 3, \\ell],\n",
       " [0, Abs(m)/2 + 1, \\ell - 1],\n",
       " [0, Abs(m)/2 + 1, \\ell - 1],\n",
       " [0, Abs(m)/2 + 3, \\ell - 1],\n",
       " [0, Abs(m)/2 + 2, \\ell],\n",
       " [0, Abs(m)/2 + 3, \\ell - 1],\n",
       " [1, Abs(m)/2 + 2, \\ell - 1],\n",
       " [1, Abs(m)/2 + 1, \\ell - 2],\n",
       " [1, Abs(m)/2 + 1, \\ell - 2],\n",
       " [1, Abs(m)/2, \\ell - 1],\n",
       " [1, Abs(m)/2 + 1, \\ell - 2],\n",
       " [1, Abs(m)/2 + 1, \\ell],\n",
       " [1, Abs(m)/2 + 2, \\ell - 1],\n",
       " [1, Abs(m)/2 + 3, \\ell - 2],\n",
       " [1, Abs(m)/2 + 3, \\ell - 2],\n",
       " [1, Abs(m)/2 + 3, \\ell - 2],\n",
       " [1, Abs(m)/2 + 2, \\ell - 2],\n",
       " [1, Abs(m)/2 + 2, \\ell - 2],\n",
       " [1, Abs(m)/2 + 2, \\ell - 2],\n",
       " [1, Abs(m)/2 + 1, \\ell - 1],\n",
       " [1, Abs(m)/2 + 1, \\ell - 1],\n",
       " [1, Abs(m)/2 + 1, \\ell - 2],\n",
       " [1, Abs(m)/2 + 2, \\ell - 1],\n",
       " [1, Abs(m)/2 + 3, \\ell - 2],\n",
       " [1, Abs(m)/2 + 1, \\ell - 1],\n",
       " [1, Abs(m)/2 + 2, \\ell - 2]]"
      ]
     },
     "execution_count": 83,
     "metadata": {},
     "output_type": "execute_result"
    }
   ],
   "source": [
    "[term[0] for term in opd_B_terms]"
   ]
  },
  {
   "cell_type": "code",
   "execution_count": 57,
   "id": "94f2204f-6ecc-44bf-a5b0-4c695369ace3",
   "metadata": {},
   "outputs": [],
   "source": [
    "with open(\"./out/symbolic/eqs_pg_lin.json\", 'r') as fread:\n",
    "    eqs = base.LabeledCollection.load_json(fread, parser=sp.parse_expr)"
   ]
  },
  {
   "cell_type": "code",
   "execution_count": 58,
   "id": "36b47653-72cd-4447-a2d5-b5acf0d2fd20",
   "metadata": {},
   "outputs": [
    {
     "data": {
      "text/latex": [
       "$\\displaystyle \\frac{s \\frac{\\partial^{3}}{\\partial t\\partial s^{2}} \\psi{\\left(s,\\phi,t \\right)}}{H{\\left(s \\right)}} - \\frac{s \\frac{d}{d s} H{\\left(s \\right)} \\frac{\\partial^{2}}{\\partial t\\partial s} \\psi{\\left(s,\\phi,t \\right)}}{H^{2}{\\left(s \\right)}} + \\frac{\\frac{\\partial^{2}}{\\partial t\\partial s} \\psi{\\left(s,\\phi,t \\right)}}{H{\\left(s \\right)}} - \\frac{\\frac{d}{d s} H{\\left(s \\right)} \\frac{\\partial^{3}}{\\partial t\\partial \\phi^{2}} \\psi{\\left(s,\\phi,t \\right)}}{2 H^{2}{\\left(s \\right)}} + \\frac{\\frac{\\partial^{3}}{\\partial t\\partial \\phi^{2}} \\psi{\\left(s,\\phi,t \\right)}}{s H{\\left(s \\right)}} = \\frac{s f_{\\phi}^e{\\left(s,\\phi,t \\right)} \\frac{d}{d s} H{\\left(s \\right)}}{H{\\left(s \\right)}} - \\frac{s \\frac{\\partial}{\\partial s} \\overline{f_\\phi}{\\left(s,\\phi,t \\right)}}{2 H{\\left(s \\right)}} - \\frac{\\overline{f_\\phi}{\\left(s,\\phi,t \\right)}}{2 H{\\left(s \\right)}} + \\frac{\\frac{d}{d s} H{\\left(s \\right)} \\frac{\\partial}{\\partial \\phi} \\widetilde{f_z}{\\left(s,\\phi,t \\right)}}{2 H{\\left(s \\right)}} + \\frac{\\frac{\\partial}{\\partial \\phi} \\overline{f_s}{\\left(s,\\phi,t \\right)}}{2 H{\\left(s \\right)}} - \\frac{2 \\frac{d}{d s} H{\\left(s \\right)} \\frac{\\partial}{\\partial \\phi} \\psi{\\left(s,\\phi,t \\right)}}{H^{2}{\\left(s \\right)}}$"
      ],
      "text/plain": [
       "Eq(s*Derivative(\\psi(s, \\phi, t), (s, 2), t)/H(s) - s*Derivative(H(s), s)*Derivative(\\psi(s, \\phi, t), s, t)/H(s)**2 + Derivative(\\psi(s, \\phi, t), s, t)/H(s) - Derivative(H(s), s)*Derivative(\\psi(s, \\phi, t), (\\phi, 2), t)/(2*H(s)**2) + Derivative(\\psi(s, \\phi, t), (\\phi, 2), t)/(s*H(s)), s*f_{\\phi}^e(s, \\phi, t)*Derivative(H(s), s)/H(s) - s*Derivative(\\overline{f_\\phi}(s, \\phi, t), s)/(2*H(s)) - \\overline{f_\\phi}(s, \\phi, t)/(2*H(s)) + Derivative(H(s), s)*Derivative(\\widetilde{f_z}(s, \\phi, t), \\phi)/(2*H(s)) + Derivative(\\overline{f_s}(s, \\phi, t), \\phi)/(2*H(s)) - 2*Derivative(H(s), s)*Derivative(\\psi(s, \\phi, t), \\phi)/H(s)**2)"
      ]
     },
     "execution_count": 58,
     "metadata": {},
     "output_type": "execute_result"
    }
   ],
   "source": [
    "eqs.Psi"
   ]
  },
  {
   "cell_type": "code",
   "execution_count": 29,
   "id": "2e6669f1-9bcf-4207-8628-22d48dae7456",
   "metadata": {},
   "outputs": [
    {
     "data": {
      "text/latex": [
       "$\\displaystyle \\frac{\\partial}{\\partial t} b_{\\phi, z}^e{\\left(s,\\phi,t \\right)} = - \\frac{B_{s, z}^{0e}{\\left(s,\\phi \\right)} \\frac{\\partial^{2}}{\\partial s^{2}} \\psi{\\left(s,\\phi,t \\right)}}{H{\\left(s \\right)}} + \\frac{B_{s, z}^{0e}{\\left(s,\\phi \\right)} \\frac{d}{d s} H{\\left(s \\right)} \\frac{\\partial}{\\partial s} \\psi{\\left(s,\\phi,t \\right)}}{H^{2}{\\left(s \\right)}} - U^{0}_{s}{\\left(s,\\phi,z \\right)} \\frac{\\partial}{\\partial s} b_{\\phi, z}^e{\\left(s,\\phi,t \\right)} - b_{\\phi, z}^e{\\left(s,\\phi,t \\right)} \\frac{\\partial}{\\partial z} U^{0}_{z}{\\left(s,\\phi,z \\right)} + b_{s, z}^e{\\left(s,\\phi,t \\right)} \\frac{\\partial}{\\partial s} U^{0}_{\\phi}{\\left(s,\\phi,z \\right)} - \\frac{B_{\\phi, z}^{0e}{\\left(s,\\phi \\right)} \\frac{\\partial^{2}}{\\partial s\\partial \\phi} \\psi{\\left(s,\\phi,t \\right)}}{s H{\\left(s \\right)}} - \\frac{B_{\\phi, z}^{0e}{\\left(s,\\phi \\right)} \\frac{d}{d s} H{\\left(s \\right)} \\frac{\\partial}{\\partial \\phi} \\psi{\\left(s,\\phi,t \\right)}}{s H^{2}{\\left(s \\right)}} + \\frac{B_{s, z}^{0e}{\\left(s,\\phi \\right)} \\frac{\\partial}{\\partial s} \\psi{\\left(s,\\phi,t \\right)}}{s H{\\left(s \\right)}} - \\frac{U^{0}_{\\phi}{\\left(s,\\phi,z \\right)} b_{s, z}^e{\\left(s,\\phi,t \\right)}}{s} - \\frac{U^{0}_{\\phi}{\\left(s,\\phi,z \\right)} \\frac{\\partial}{\\partial \\phi} b_{\\phi, z}^e{\\left(s,\\phi,t \\right)}}{s} + \\frac{U^{0}_{s}{\\left(s,\\phi,z \\right)} b_{\\phi, z}^e{\\left(s,\\phi,t \\right)}}{s} + \\frac{b_{\\phi, z}^e{\\left(s,\\phi,t \\right)} \\frac{\\partial}{\\partial \\phi} U^{0}_{\\phi}{\\left(s,\\phi,z \\right)}}{s} + \\frac{\\frac{\\partial}{\\partial \\phi} B_{\\phi, z}^{0e}{\\left(s,\\phi \\right)} \\frac{\\partial}{\\partial s} \\psi{\\left(s,\\phi,t \\right)}}{s H{\\left(s \\right)}} - \\frac{\\frac{\\partial}{\\partial s} B_{\\phi, z}^{0e}{\\left(s,\\phi \\right)} \\frac{\\partial}{\\partial \\phi} \\psi{\\left(s,\\phi,t \\right)}}{s H{\\left(s \\right)}} + \\frac{B_{\\phi, z}^{0e}{\\left(s,\\phi \\right)} \\frac{\\partial}{\\partial \\phi} \\psi{\\left(s,\\phi,t \\right)}}{s^{2} H{\\left(s \\right)}}$"
      ],
      "text/plain": [
       "Eq(Derivative(b_{\\phi, z}^e(s, \\phi, t), t), -B_{s, z}^{0e}(s, \\phi)*Derivative(\\psi(s, \\phi, t), (s, 2))/H(s) + B_{s, z}^{0e}(s, \\phi)*Derivative(H(s), s)*Derivative(\\psi(s, \\phi, t), s)/H(s)**2 - U_s^0(s, \\phi, z)*Derivative(b_{\\phi, z}^e(s, \\phi, t), s) - b_{\\phi, z}^e(s, \\phi, t)*Derivative(U_z^0(s, \\phi, z), z) + b_{s, z}^e(s, \\phi, t)*Derivative(U_\\phi^0(s, \\phi, z), s) - B_{\\phi, z}^{0e}(s, \\phi)*Derivative(\\psi(s, \\phi, t), \\phi, s)/(s*H(s)) - B_{\\phi, z}^{0e}(s, \\phi)*Derivative(H(s), s)*Derivative(\\psi(s, \\phi, t), \\phi)/(s*H(s)**2) + B_{s, z}^{0e}(s, \\phi)*Derivative(\\psi(s, \\phi, t), s)/(s*H(s)) - U_\\phi^0(s, \\phi, z)*b_{s, z}^e(s, \\phi, t)/s - U_\\phi^0(s, \\phi, z)*Derivative(b_{\\phi, z}^e(s, \\phi, t), \\phi)/s + U_s^0(s, \\phi, z)*b_{\\phi, z}^e(s, \\phi, t)/s + b_{\\phi, z}^e(s, \\phi, t)*Derivative(U_\\phi^0(s, \\phi, z), \\phi)/s + Derivative(B_{\\phi, z}^{0e}(s, \\phi), \\phi)*Derivative(\\psi(s, \\phi, t), s)/(s*H(s)) - Derivative(B_{\\phi, z}^{0e}(s, \\phi), s)*Derivative(\\psi(s, \\phi, t), \\phi)/(s*H(s)) + B_{\\phi, z}^{0e}(s, \\phi)*Derivative(\\psi(s, \\phi, t), \\phi)/(s**2*H(s)))"
      ]
     },
     "execution_count": 29,
     "metadata": {},
     "output_type": "execute_result"
    }
   ],
   "source": [
    "eqs.dBp_dz_e"
   ]
  },
  {
   "cell_type": "code",
   "execution_count": 48,
   "id": "d0aa2136-7d9d-4518-9561-ca7e18b21c11",
   "metadata": {},
   "outputs": [
    {
     "data": {
      "text/latex": [
       "$\\displaystyle - m^{2} s s^{m} + \\frac{m^{2} s^{m}}{s} - 6 m s s^{m} + \\frac{3 s^{3} s^{m}}{1 - s^{2}} - 6 s s^{m}$"
      ],
      "text/plain": [
       "-m**2*s*s**m + m**2*s**m/s - 6*m*s*s**m + 3*s**3*s**m/(1 - s**2) - 6*s*s**m"
      ]
     },
     "execution_count": 48,
     "metadata": {},
     "output_type": "execute_result"
    }
   ],
   "source": [
    "(sp.diff(core.s*sp.diff(core.s**expansion.m*core.H_s**3, core.s), core.s)/expansion.H_s).expand()"
   ]
  },
  {
   "cell_type": "code",
   "execution_count": 46,
   "id": "f453a534-cfb5-4acd-a330-2ed0a16cebe9",
   "metadata": {},
   "outputs": [
    {
     "data": {
      "text/latex": [
       "$\\displaystyle 0$"
      ],
      "text/plain": [
       "0"
      ]
     },
     "execution_count": 46,
     "metadata": {},
     "output_type": "execute_result"
    }
   ],
   "source": [
    "sp.diff(core.s**expansion.m, core.s).subs({expansion.m: 0})"
   ]
  },
  {
   "cell_type": "code",
   "execution_count": 50,
   "id": "aaa7a60d-e71d-4b53-a56f-267c94e35bf7",
   "metadata": {},
   "outputs": [
    {
     "data": {
      "text/latex": [
       "$\\displaystyle - m s s^{m} + \\frac{m s^{m}}{s} - 3 s s^{m}$"
      ],
      "text/plain": [
       "-m*s*s**m + m*s**m/s - 3*s*s**m"
      ]
     },
     "execution_count": 50,
     "metadata": {},
     "output_type": "execute_result"
    }
   ],
   "source": [
    "(sp.diff(core.s**expansion.m*core.H_s**3, core.s)/expansion.H_s).expand()"
   ]
  },
  {
   "cell_type": "code",
   "execution_count": null,
   "id": "eb3f9af9-a648-4a31-b5fd-f06129680465",
   "metadata": {},
   "outputs": [],
   "source": []
  }
 ],
 "metadata": {
  "kernelspec": {
   "display_name": "Python3 (geomag)",
   "language": "python",
   "name": "geomag"
  },
  "language_info": {
   "codemirror_mode": {
    "name": "ipython",
    "version": 3
   },
   "file_extension": ".py",
   "mimetype": "text/x-python",
   "name": "python",
   "nbconvert_exporter": "python",
   "pygments_lexer": "ipython3",
   "version": "3.8.13"
  }
 },
 "nbformat": 4,
 "nbformat_minor": 5
}
