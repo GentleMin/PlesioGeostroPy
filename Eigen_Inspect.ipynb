{
 "cells": [
  {
   "cell_type": "markdown",
   "id": "d5b61716-e79f-4c56-a273-95ac71416505",
   "metadata": {},
   "source": [
    "# Inspecting the eigensolver steps"
   ]
  },
  {
   "cell_type": "code",
   "execution_count": 1,
   "id": "bfb400fc-5288-4518-bd0a-96dceec04f86",
   "metadata": {},
   "outputs": [],
   "source": [
    "%load_ext autoreload\n",
    "%autoreload 2\n",
    "\n",
    "import sympy as sp\n",
    "import numpy as np\n",
    "import matplotlib.pyplot as plt\n",
    "import os, json\n",
    "from pg_utils.pg_model import base, base_utils, core, expansion, forcing\n",
    "from pg_utils.sympy_supp import simplify as simp_supp\n",
    "from pg_utils import eigen\n",
    "from IPython.display import display, Math, Markdown\n",
    "\n",
    "def display_equality(lhs, rhs, _filter=lambda lhs, rhs, idx: True):\n",
    "    display(*(sp.Eq(lhs_tmp, rhs[idx]) for idx, lhs_tmp in enumerate(lhs) if _filter(lhs_tmp, rhs[idx], idx)))\n",
    "\n",
    "def display_eq_collection(eqs, _filter=lambda eq, idx: True):\n",
    "    display(*(eq for idx, eq in enumerate(eqs) if _filter(eq, idx)))"
   ]
  },
  {
   "cell_type": "markdown",
   "id": "531d6e6b-791c-41e8-8fba-a02d62315b32",
   "metadata": {},
   "source": [
    "---\n",
    "## Background field"
   ]
  },
  {
   "cell_type": "code",
   "execution_count": null,
   "id": "6992e308-aae2-45be-bfab-f4952c52c11e",
   "metadata": {},
   "outputs": [],
   "source": [
    "from pg_utils.pg_model import bg_fields\n",
    "\n",
    "bg_cfg = bg_fields.Background_S_l2_n2()\n",
    "\n",
    "display_equality(core.U0_vec, bg_cfg.U0_val)\n",
    "display_equality(core.B0_vec, bg_cfg.B0_val)"
   ]
  },
  {
   "cell_type": "code",
   "execution_count": null,
   "id": "e3484104-d897-43cd-a987-3ff9aeab85b1",
   "metadata": {},
   "outputs": [],
   "source": [
    "bg_pg = base_utils.assemble_background(bg_cfg.B0_val)\n",
    "# bg_pg.apply(lambda expr: expr.subs({core.H_s: core.H, core.H_s**2: core.H**2}).simplify(), inplace=True)\n",
    "bg_pg.apply(lambda expr: expr.subs({core.H: core.H_s}).simplify(), inplace=True)\n",
    "display_equality(core.pgvar_bg, bg_pg)"
   ]
  },
  {
   "cell_type": "code",
   "execution_count": null,
   "id": "ab2160db-336f-4e4c-9139-82a6a4fd422d",
   "metadata": {},
   "outputs": [],
   "source": [
    "bg_placeholders = base.map_collection(core.pgvar_bg, base_utils.extract_symbols(core.pgvar_bg))\n",
    "placeholder_h = {core.H: sp.Symbol(\"H\")}\n",
    "for fname in bg_pg._field_names:\n",
    "    if fname == \"Br_b\":\n",
    "        continue\n",
    "    o_str = sp.latex(sp.Eq(core.pgvar_bg[fname].subs(bg_placeholders), bg_pg[fname].subs(placeholder_h)))\n",
    "    print(o_str)"
   ]
  },
  {
   "cell_type": "markdown",
   "id": "47043669-2bbc-46b3-af99-5a83e5f8f4d6",
   "metadata": {},
   "source": [
    "---\n",
    "## Equations"
   ]
  },
  {
   "cell_type": "code",
   "execution_count": null,
   "id": "64a3fa6b-7c13-420a-b618-97d044b9fb17",
   "metadata": {},
   "outputs": [],
   "source": [
    "placeholders_map = {\n",
    "    **base.map_collection(core.pgvar_ptb, base_utils.extract_symbols(core.pgvar_ptb)),\n",
    "    **base.map_collection(core.pgvar_bg, base_utils.extract_symbols(core.pgvar_bg))\n",
    "}\n",
    "placeholder_h = {core.H: sp.Symbol(\"H\")}\n",
    "for fname in eqs_pg_lin._field_names:\n",
    "    if fname == \"Br_b\":\n",
    "        continue\n",
    "    o_str = sp.latex(eqs_pg_lin[fname].subs(placeholder_h))\n",
    "    for var_old, var_new in placeholders_map.items():\n",
    "        o_str = o_str.replace(sp.latex(var_old), sp.latex(var_new))\n",
    "    # print(o_str)\n",
    "    display(Math(o_str))"
   ]
  },
  {
   "cell_type": "markdown",
   "id": "151feddc-8943-4788-94fb-ba0e64b59d8a",
   "metadata": {},
   "source": [
    "### PG system"
   ]
  },
  {
   "cell_type": "code",
   "execution_count": 10,
   "id": "1a80b5d7-2120-4054-8920-1724053bb89a",
   "metadata": {},
   "outputs": [],
   "source": [
    "# eqs_file = \"./out/eigen/Toroidal_Quadrupole/eqs_pg.json\"\n",
    "# eqs_file = \"./out/eigen/Poloidal_Dipole/eqs_pg.json\"\n",
    "eqs_file = './out/eigen/S_L2_N2/eqs_pg_ideal.json'\n",
    "with open(eqs_file, 'r') as fread:\n",
    "    eqs_pg = base.CollectionPG.deserialize(json.load(fread)[\"equations\"], parser=sp.parse_expr)"
   ]
  },
  {
   "cell_type": "markdown",
   "id": "4dea1f6c-8be1-441c-8d61-d6b157f8f41f",
   "metadata": {},
   "source": [
    "Convert to ODE in cylindrical radius $s$ (equiv. convert to frequency-wavenumber domain)"
   ]
  },
  {
   "cell_type": "code",
   "execution_count": 11,
   "id": "e3d50c69-1b30-428d-8c33-e6604fe0d8a2",
   "metadata": {},
   "outputs": [],
   "source": [
    "ode_s_fd = eigen.to_fd_ode_pg(eqs_pg, core.pgvar_ptb)"
   ]
  },
  {
   "cell_type": "markdown",
   "id": "5299fc00-5e2c-4939-846f-c6ff427c0752",
   "metadata": {},
   "source": [
    "Some further manipulations before output"
   ]
  },
  {
   "cell_type": "code",
   "execution_count": null,
   "id": "e32b04ef-56bf-4c03-9021-4265048d95da",
   "metadata": {},
   "outputs": [],
   "source": [
    "from pg_utils.sympy_supp import simplify\n",
    "from pg_utils.numerics import utils as nutils\n",
    "\n",
    "# bg_subs = {bg_cfg.params[0]: sp.sqrt(sp.pi/3)*bg_cfg.params[0]}\n",
    "bg_subs = {bg_cfg.params[0]: 2*sp.sqrt(sp.pi/5)/3}\n",
    "\n",
    "def common_denom_simplify(expr):\n",
    "    expr = expr.together()\n",
    "    num, denom = sp.fraction(expr)\n",
    "    # num = num.subs({core.H: core.H_s}).simplify().factor().subs({core.H_s: core.H, core.H_s**2: core.H**2})\n",
    "    # num = num.subs([(sp.diff(core.H, (core.s, 2)), -/core.H**3), (sp.diff(core.H, core.s), -core.s/core.H)])\n",
    "    # num = num.subs({core.H: core.H_s}).doit().factor().subs({core.H_s: core.H, core.H_s**2: core.H**2})\n",
    "    num = num.subs({core.H: core.H_s}).simplify().factor()\n",
    "    out = num/denom\n",
    "    num, denom = sp.fraction(out)\n",
    "    num = num.simplify().subs({core.H_s: core.H, core.H_s**2: core.H**2})\n",
    "    denom = denom.simplify().subs({core.H_s: core.H, core.H_s**2: core.H**2})\n",
    "    return num/denom\n",
    "\n",
    "# eq_grouped = simplify.recursive_collect_tree(eq_rad_std.lhs, (expansion.pgvar_s.Psi, expansion.omega))\n",
    "# simplify.process_leaf_node(eq_grouped, common_denom_simplify)\n",
    "# eq_grouped = sp.Eq(simplify.recursive_eval_tree(eq_grouped), eq_rad_std.rhs)\n",
    "\n",
    "proc_timer = nutils.ProcTimer(start=True)\n",
    "\n",
    "# factor = 1/sp.I/expansion.omega\n",
    "factor = 1\n",
    "\n",
    "def factoring(fname, eq):\n",
    "    \n",
    "    if fname == \"Psi\":\n",
    "        # pass\n",
    "        expr_grouped = (eq.rhs.subs(bg_subs)*factor).expand().collect([var for var in expansion.pgvar_s if var is not None], evaluate=False)\n",
    "        for term in expr_grouped:\n",
    "            expr_grouped[term] = common_denom_simplify(expr_grouped[term])\n",
    "        proc_timer.flag(loginfo=fname, print_str=True, increment=True)\n",
    "        return sp.Eq((eq.lhs*factor).expand(), sp.Add(*[term*coeff for term, coeff in expr_grouped.items()]))\n",
    "    \n",
    "    elif fname == \"Br_b\":\n",
    "        proc_timer.flag(loginfo=fname, print_str=True, increment=True)\n",
    "        return None\n",
    "    \n",
    "    else:\n",
    "        expr_grouped = (eq.rhs.subs(bg_subs)*factor).expand().collect([expansion.pgvar_s.Psi,], evaluate=False)\n",
    "        for term in expr_grouped:\n",
    "            expr_grouped[term] = common_denom_simplify(expr_grouped[term])\n",
    "        proc_timer.flag(loginfo=fname, print_str=True, increment=True)\n",
    "        return sp.Eq(\n",
    "            (eq.lhs*factor).expand(), \n",
    "            # (eq.rhs*factor).expand().collect(expansion.pgvar_s.Psi)\n",
    "            factor*sp.Add(*[term*coeff for term, coeff in expr_grouped.items()])\n",
    "        )\n",
    "\n",
    "ode_s_fd.apply(factoring, inplace=True, metadata=True)\n",
    "proc_timer.print_elapse(increment=False)\n",
    "display_eq_collection(ode_s_fd)"
   ]
  },
  {
   "cell_type": "code",
   "execution_count": null,
   "id": "4802ee28-0688-4a48-9844-ea29b4c03fdc",
   "metadata": {},
   "outputs": [],
   "source": [
    "placeholders_map = base.map_collection(expansion.pgvar_s, base_utils.extract_symbols(core.pgvar_ptb))\n",
    "placeholder_h = {core.H: sp.Symbol(\"H\")}\n",
    "for fname in ode_s_fd._field_names:\n",
    "    if fname == \"Br_b\":\n",
    "        continue\n",
    "    o_str = sp.latex(ode_s_fd[fname].subs(placeholder_h))\n",
    "    for var_old, var_new in placeholders_map.items():\n",
    "        o_str = o_str.replace(sp.latex(var_old), sp.latex(var_new))\n",
    "    # print(o_str)\n",
    "    display(Math(o_str))"
   ]
  },
  {
   "cell_type": "markdown",
   "id": "92d0de5d-cf50-48a4-88e9-bb40d54be910",
   "metadata": {},
   "source": [
    "Convert directly to reduced form in Fourier domain"
   ]
  },
  {
   "cell_type": "code",
   "execution_count": null,
   "id": "2576b3d1-d23d-4916-b054-5a6652ec8219",
   "metadata": {},
   "outputs": [],
   "source": [
    "# reduce_map = {expansion.pgvar_s[fname]: ode_s_fd[fname].rhs if fname not in (\"Bp_p\", \"Bp_m\") else sp.S.Zero for fname in ode_s_fd._field_names if fname not in (\"Psi\", \"Br_b\")}\n",
    "reduce_map = {expansion.pgvar_s[fname]: ode_s_fd[fname].rhs/sp.I/expansion.omega for fname in ode_s_fd._field_names if fname not in (\"Psi\", \"Br_b\")}\n",
    "# ode_psi = sp.Eq((ode_s_fd.Psi.lhs - ode_s_fd.Psi.rhs.subs(reduce_map)).subs({core.H: core.H_s}).doit().subs({core.H_s: core.H, core.H_s**2: core.H**2}).expand(), sp.S.Zero)\n",
    "ode_psi = sp.Eq((ode_s_fd.Psi.lhs - ode_s_fd.Psi.rhs.subs(reduce_map)).doit().subs({core.H_s: core.H, core.H_s**2: core.H**2}).expand(), sp.S.Zero)\n",
    "(ode_psi.lhs*sp.I*expansion.omega).expand()"
   ]
  },
  {
   "cell_type": "code",
   "execution_count": null,
   "id": "6f812288-84f0-4233-94de-abd875d5b5da",
   "metadata": {},
   "outputs": [],
   "source": [
    "def common_denom_simplify(expr):\n",
    "    expr = expr.together()\n",
    "    num, denom = sp.fraction(expr)\n",
    "    num = num.subs({core.H: core.H_s}).simplify().factor().subs({core.H_s: core.H, core.H_s**2: core.H**2}).collect(expansion.m)\n",
    "    return num/denom.factor()\n",
    "\n",
    "eq_grouped = simplify.recursive_collect_tree((ode_psi.lhs*expansion.omega).expand(), (expansion.pgvar_s.Psi, expansion.omega, expansion.m))\n",
    "simplify.process_leaf_node(eq_grouped, common_denom_simplify)\n",
    "eq_grouped = sp.Eq(simplify.recursive_eval_tree(eq_grouped), ode_psi.rhs)\n",
    "eq_grouped"
   ]
  },
  {
   "cell_type": "code",
   "execution_count": null,
   "id": "e6e4baa5-d71e-420d-b244-69ec7b121877",
   "metadata": {},
   "outputs": [],
   "source": [
    "denom_poles = sp.fraction(leading_cf)[0]/(sp.I*bg_cfg.params[0]**2)"
   ]
  },
  {
   "cell_type": "code",
   "execution_count": null,
   "id": "47592ff8-dbc9-461b-87c0-58a7f60119a2",
   "metadata": {},
   "outputs": [],
   "source": [
    "denom_func = sp.lambdify([core.s,], denom_poles, modules=['numpy', 'scipy'])"
   ]
  },
  {
   "cell_type": "code",
   "execution_count": null,
   "id": "f787b929-2049-43f9-86dc-96448209d564",
   "metadata": {},
   "outputs": [],
   "source": [
    "s = np.linspace(0, 1, num=100)\n",
    "fig, ax = plt.subplots(figsize=(9, 6))\n",
    "ax.plot(s, denom_func(s))\n",
    "ax.grid(which='both')\n",
    "plt.show()"
   ]
  },
  {
   "cell_type": "code",
   "execution_count": null,
   "id": "81b99d9e-9e95-46c9-9a55-5d858933d905",
   "metadata": {},
   "outputs": [],
   "source": [
    "ord_max = 4\n",
    "leading_cf = ode_psi.lhs.coeff(sp.diff(expansion.pgvar_s.Psi, (core.s, ord_max))).together().subs({core.H_s: core.H, core.H_s**2: core.H**2})\n",
    "ode_psi = sp.Eq((ode_psi.lhs/leading_cf).expand(), ode_psi.rhs/leading_cf)\n",
    "sp.Eq(ode_psi.lhs.collect(expansion.pgvar_s.Psi), ode_psi.rhs)\n",
    "\n",
    "from pg_utils.sympy_supp import simplify\n",
    "\n",
    "def common_denom_simplify(expr):\n",
    "    expr = expr.together()\n",
    "    num, denom = sp.fraction(expr)\n",
    "    num = num.subs({core.H: core.H_s}).simplify().factor().subs({core.H_s: core.H, core.H_s**2: core.H**2}).collect(expansion.m)\n",
    "    return num/denom.factor()\n",
    "\n",
    "eq_grouped = simplify.recursive_collect_tree(ode_psi.lhs, (expansion.pgvar_s.Psi, expansion.omega))\n",
    "simplify.process_leaf_node(eq_grouped, common_denom_simplify)\n",
    "eq_grouped = sp.Eq(simplify.recursive_eval_tree(eq_grouped), ode_psi.rhs)\n",
    "eq_grouped"
   ]
  },
  {
   "cell_type": "code",
   "execution_count": null,
   "id": "c40aaee3-631d-4231-b002-acfdea9ae68f",
   "metadata": {},
   "outputs": [],
   "source": [
    "o_str = sp.latex(eq_grouped.subs(placeholder_h))\n",
    "for var_old, var_new in placeholders_map.items():\n",
    "    o_str = o_str.replace(sp.latex(var_old), sp.latex(var_new))\n",
    "print(o_str)"
   ]
  },
  {
   "cell_type": "markdown",
   "id": "ddb736da-41c7-465f-86ed-a41b5e048dc1",
   "metadata": {},
   "source": [
    "### Transformed variables"
   ]
  },
  {
   "cell_type": "code",
   "execution_count": null,
   "id": "550714b1-2317-4d7f-9259-983462da15a6",
   "metadata": {},
   "outputs": [],
   "source": [
    "eqs_file = \"./out/eigen/Poloidal_Dipole/eqs_cg.json\"\n",
    "with open(eqs_file, 'r') as fread:\n",
    "    eqs_cg = base.CollectionConjugate.deserialize(json.load(fread)[\"equations\"], parser=sp.parse_expr)\n",
    "display_eq_collection(eqs_cg)\n",
    "# eqs_cg.Psi"
   ]
  },
  {
   "cell_type": "code",
   "execution_count": null,
   "id": "998d4891-be75-41f3-9d44-51cf592874c4",
   "metadata": {},
   "outputs": [],
   "source": [
    "ode_s_fd_cg = eigen.to_fd_ode_cg(eqs_cg, core.cgvar_ptb)"
   ]
  },
  {
   "cell_type": "markdown",
   "id": "af389c97-1ae7-4576-90a9-787b6ead5aca",
   "metadata": {},
   "source": [
    "Some further manipulations before output"
   ]
  },
  {
   "cell_type": "code",
   "execution_count": null,
   "id": "298404a7-5171-4e0d-a4f7-62c7c477800e",
   "metadata": {},
   "outputs": [],
   "source": [
    "from pg_utils.sympy_supp import simplify\n",
    "\n",
    "def common_denom_simplify(expr):\n",
    "    expr = expr.together()\n",
    "    num, denom = sp.fraction(expr)\n",
    "    num = num.subs({core.H: core.H_s}).simplify().factor().subs({core.H_s: core.H, core.H_s**2: core.H**2})\n",
    "    return num/denom\n",
    "\n",
    "# eq_grouped = simplify.recursive_collect_tree(eq_rad_std.lhs, (expansion.pgvar_s.Psi, expansion.omega))\n",
    "# simplify.process_leaf_node(eq_grouped, common_denom_simplify)\n",
    "# eq_grouped = sp.Eq(simplify.recursive_eval_tree(eq_grouped), eq_rad_std.rhs)\n",
    "\n",
    "# factor = 1/sp.I/expansion.omega\n",
    "factor = 1\n",
    "def factoring(fname, eq):\n",
    "    if fname != \"Psi\":\n",
    "        expr_grouped = (eq.rhs*factor).expand().collect([expansion.cgvar_s.Psi,], evaluate=False)\n",
    "        for term in expr_grouped:\n",
    "            expr_grouped[term] = common_denom_simplify(expr_grouped[term])\n",
    "        return sp.Eq(\n",
    "            (eq.lhs*factor).expand(), \n",
    "            # (eq.rhs*factor).expand().collect(expansion.pgvar_s.Psi)\n",
    "            factor*sp.Add(*[term*coeff for term, coeff in expr_grouped.items()])\n",
    "        )\n",
    "    else:\n",
    "        expr_grouped = (eq.rhs*factor).expand().collect([var for var in expansion.cgvar_s if var is not None], evaluate=False)\n",
    "        for term in expr_grouped:\n",
    "            expr_grouped[term] = common_denom_simplify(expr_grouped[term])\n",
    "        return sp.Eq((eq.lhs*factor).expand(), sp.Add(*[term*coeff for term, coeff in expr_grouped.items()]))\n",
    "\n",
    "ode_s_fd_cg.apply(factoring, inplace=True, metadata=True)\n",
    "display_eq_collection(ode_s_fd_cg)"
   ]
  },
  {
   "cell_type": "code",
   "execution_count": null,
   "id": "e420fef4-9e9b-4344-8073-ce4fc7f0efc8",
   "metadata": {},
   "outputs": [],
   "source": [
    "forcing = ode_s_fd_cg.M_zp.rhs.subs(\n",
    "    {expansion.cgvar_s.Psi: core.s**expansion.m*core.H**3*sp.jacobi(expansion.n, sp.Rational(3, 2), expansion.m, 2*core.s**2 - 1)})"
   ]
  },
  {
   "cell_type": "code",
   "execution_count": null,
   "id": "a90e6f75-bf57-43d3-a394-9762eca7dcbd",
   "metadata": {},
   "outputs": [],
   "source": [
    "forcing = forcing.doit().subs({sp.diff(core.H, core.s): -core.s/core.H}).doit().subs({sp.diff(core.H, core.s): -core.s/core.H})"
   ]
  },
  {
   "cell_type": "code",
   "execution_count": null,
   "id": "66ddff30-d548-4793-945b-1e73e772ba58",
   "metadata": {},
   "outputs": [],
   "source": [
    "forcing.expand()"
   ]
  },
  {
   "cell_type": "code",
   "execution_count": null,
   "id": "a6cf51a7-38a4-43c2-b6be-5fe58b0f6891",
   "metadata": {},
   "outputs": [],
   "source": [
    "forcing.expand().collect(core.H)"
   ]
  },
  {
   "cell_type": "code",
   "execution_count": null,
   "id": "4ae30b5b-6d27-4a4e-b5db-08c2e6389a56",
   "metadata": {},
   "outputs": [],
   "source": [
    "placeholders_map = base.map_collection(expansion.cgvar_s, base_utils.extract_symbols(core.cgvar_ptb))\n",
    "placeholder_h = {core.H: sp.Symbol(\"H\")}\n",
    "for fname in ode_s_fd_cg._field_names:\n",
    "    if fname == \"Br_b\":\n",
    "        continue\n",
    "    o_str = sp.latex(ode_s_fd_cg[fname].subs(placeholder_h))\n",
    "    for var_old, var_new in placeholders_map.items():\n",
    "        o_str = o_str.replace(sp.latex(var_old), sp.latex(var_new))\n",
    "    # print(o_str)\n",
    "    display(Math(o_str))"
   ]
  },
  {
   "cell_type": "code",
   "execution_count": null,
   "id": "102c6329-acc7-4b3c-ad47-96be23a0fbd5",
   "metadata": {},
   "outputs": [],
   "source": [
    "map_cg_pg = core.map_conjugate_to_pg(core.cgvar_ptb, core.pgvar_ptb)"
   ]
  },
  {
   "cell_type": "code",
   "execution_count": null,
   "id": "e55d81c6-9f42-4821-ba2a-a7fcdd8737b1",
   "metadata": {},
   "outputs": [],
   "source": [
    "eqs_pg_from_cg = eqs_cg.apply(lambda eq: eq.subs(map_cg_pg))\n",
    "eqs_pg_from_cg = core.conjugate_to_PG(eqs_pg_from_cg).apply(lambda eq: eq.doit().expand())"
   ]
  },
  {
   "cell_type": "code",
   "execution_count": null,
   "id": "59fa1a60-9050-405b-b5f4-e3669d2a07b5",
   "metadata": {},
   "outputs": [],
   "source": [
    "display_eq_collection(eqs_pg_from_cg)"
   ]
  },
  {
   "cell_type": "code",
   "execution_count": null,
   "id": "bf7c6437-05b6-403a-add8-76d4b716d2ec",
   "metadata": {},
   "outputs": [],
   "source": [
    "ode_s_fd_from_cg = eigen.to_fd_ode_pg(eqs_pg_from_cg, core.pgvar_ptb)"
   ]
  },
  {
   "cell_type": "markdown",
   "id": "50f5883e-b1ad-482a-b0ed-4e8f10078846",
   "metadata": {},
   "source": [
    "Some further manipulations before output"
   ]
  },
  {
   "cell_type": "code",
   "execution_count": null,
   "id": "a61f12be-0745-4d49-a160-50b129122122",
   "metadata": {},
   "outputs": [],
   "source": [
    "from pg_utils.sympy_supp import simplify\n",
    "\n",
    "def common_denom_simplify(expr):\n",
    "    expr = expr.together()\n",
    "    num, denom = sp.fraction(expr)\n",
    "    num = num.subs({core.H: core.H_s}).simplify().factor().subs({core.H_s: core.H, core.H_s**2: core.H**2})\n",
    "    return num/denom\n",
    "\n",
    "# eq_grouped = simplify.recursive_collect_tree(eq_rad_std.lhs, (expansion.pgvar_s.Psi, expansion.omega))\n",
    "# simplify.process_leaf_node(eq_grouped, common_denom_simplify)\n",
    "# eq_grouped = sp.Eq(simplify.recursive_eval_tree(eq_grouped), eq_rad_std.rhs)\n",
    "\n",
    "# factor = 1/sp.I/expansion.omega\n",
    "factor = 1\n",
    "def factoring(fname, eq):\n",
    "    if fname != \"Psi\":\n",
    "        expr_grouped = (eq.rhs*factor).expand().collect([expansion.pgvar_s.Psi,], evaluate=False)\n",
    "        for term in expr_grouped:\n",
    "            expr_grouped[term] = common_denom_simplify(expr_grouped[term])\n",
    "        return sp.Eq(\n",
    "            (eq.lhs*factor).expand(), \n",
    "            # (eq.rhs*factor).expand().collect(expansion.pgvar_s.Psi)\n",
    "            factor*sp.Add(*[term*coeff for term, coeff in expr_grouped.items()])\n",
    "        )\n",
    "    else:\n",
    "        expr_grouped = (eq.rhs*factor).expand().collect([var for var in expansion.pgvar_s if var is not None], evaluate=False)\n",
    "        for term in expr_grouped:\n",
    "            expr_grouped[term] = common_denom_simplify(expr_grouped[term])\n",
    "        return sp.Eq((eq.lhs*factor).expand(), sp.Add(*[term*coeff for term, coeff in expr_grouped.items()]))\n",
    "\n",
    "ode_s_fd_from_cg.apply(factoring, inplace=True, metadata=True)\n",
    "# display_eq_collection(ode_s_fd)"
   ]
  },
  {
   "cell_type": "code",
   "execution_count": null,
   "id": "04546b3d-4872-4c35-9753-2a03c0bad88d",
   "metadata": {},
   "outputs": [],
   "source": [
    "placeholders_map = base.map_collection(expansion.pgvar_s, base_utils.extract_symbols(core.pgvar_ptb))\n",
    "placeholder_h = {core.H: sp.Symbol(\"H\")}\n",
    "for fname in ode_s_fd._field_names:\n",
    "    if fname == \"Br_b\":\n",
    "        continue\n",
    "    o_str = sp.latex(ode_s_fd_from_cg[fname].subs(placeholder_h))\n",
    "    for var_old, var_new in placeholders_map.items():\n",
    "        o_str = o_str.replace(sp.latex(var_old), sp.latex(var_new))\n",
    "    # print(o_str)\n",
    "    display(Math(o_str))"
   ]
  },
  {
   "cell_type": "markdown",
   "id": "0789ec68-5681-4e16-ae5c-e9a42edc4f4a",
   "metadata": {},
   "source": [
    "Is the equation equivalent to the one by PG?"
   ]
  },
  {
   "cell_type": "code",
   "execution_count": null,
   "id": "5504bb80-f69d-4ad8-ae21-749bccb0e582",
   "metadata": {},
   "outputs": [],
   "source": [
    "for fname in ode_s_fd._field_names:\n",
    "    if ode_s_fd_from_cg[fname].rhs.subs({core.H: core.H_s}).equals(ode_s_fd[fname].rhs.subs({core.H: core.H_s})) \\\n",
    "        and ode_s_fd_from_cg[fname].lhs.equals(ode_s_fd[fname].lhs):\n",
    "        display(Markdown(\"${}$: Equivalent\".format(core.pgvar_ptb[fname])))\n",
    "    else:\n",
    "        display(Markdown(\"${}$: NOT equivalent!, difference = ${}$\".format(\n",
    "            core.pgvar_ptb[fname], \n",
    "            sp.latex(ode_s_fd_from_cg[fname].rhs.subs({core.H: core.H_s}) - ode_s_fd[fname].rhs.subs({core.H: core.H_s}))\n",
    "        )))"
   ]
  },
  {
   "cell_type": "markdown",
   "id": "6b32ca30-f242-4f31-aabe-19df11a04905",
   "metadata": {},
   "source": [
    "### Reduced dimensional system"
   ]
  },
  {
   "cell_type": "code",
   "execution_count": null,
   "id": "52ddbc6b-34fd-43ea-b72e-f99c1d09568c",
   "metadata": {},
   "outputs": [],
   "source": [
    "str(sp.Rational(1, 2))"
   ]
  },
  {
   "cell_type": "code",
   "execution_count": null,
   "id": "28e9cb0c-ab41-4371-9262-c3928cf3d12b",
   "metadata": {},
   "outputs": [],
   "source": [
    "eqs_file = \"./out/eigen/Toroidal_Quadrupole/eqs_reduced_v0.json\"\n",
    "with open(eqs_file, 'r') as fread:\n",
    "    eqs_reduced = base.LabeledCollection.deserialize(json.load(fread)[\"equations\"], parser=sp.parse_expr)\n",
    "\n",
    "display_eq_collection(eqs_reduced)"
   ]
  },
  {
   "cell_type": "code",
   "execution_count": null,
   "id": "6de733a0-f04a-4705-ba35-36621e76ec27",
   "metadata": {},
   "outputs": [],
   "source": [
    "eqs_file = \"./out/eigen/Toroidal_Quadrupole/eqs_reduced.json\"\n",
    "with open(eqs_file, 'r') as fread:\n",
    "    eqs_reduced = base.LabeledCollection.deserialize(json.load(fread)[\"equations\"], parser=sp.parse_expr)\n",
    "\n",
    "display_eq_collection(eqs_reduced)"
   ]
  },
  {
   "cell_type": "code",
   "execution_count": null,
   "id": "1b4884dd-7e97-4e31-8b25-a875983f5f82",
   "metadata": {},
   "outputs": [],
   "source": [
    "eqs_2ord = sp.Eq(sp.diff(eqs_reduced.Psi.lhs, core.t), sp.diff(eqs_reduced.Psi.rhs, core.t).subs({eqs_reduced.F_ext.lhs: eqs_reduced.F_ext.rhs}))\n",
    "eq_rad = eigen.to_fd_ode_psi(eqs_2ord)\n",
    "eq_rad = sp.Eq(eq_rad.lhs - eq_rad.rhs, sp.S.Zero)"
   ]
  },
  {
   "cell_type": "code",
   "execution_count": null,
   "id": "c069b709-8ec9-470a-82f2-0806bc0ee3d5",
   "metadata": {},
   "outputs": [],
   "source": [
    "def common_denom_simplify(expr):\n",
    "    expr = expr.together()\n",
    "    num, denom = sp.fraction(expr)\n",
    "    num = num.subs({core.H: core.H_s}).simplify().factor().subs({core.H_s: core.H, core.H_s**2: core.H**2}).collect(expansion.m)\n",
    "    return num/denom.factor()\n",
    "\n",
    "eq_grouped = simplify.recursive_collect_tree(eq_rad.lhs, (expansion.pgvar_s.Psi, expansion.omega, expansion.m))\n",
    "simplify.process_leaf_node(eq_grouped, common_denom_simplify)\n",
    "eq_grouped = sp.Eq(simplify.recursive_eval_tree(eq_grouped), eq_rad.rhs)\n",
    "eq_grouped"
   ]
  },
  {
   "cell_type": "code",
   "execution_count": null,
   "id": "8fee5fa1-532f-4b01-a33f-032642975f00",
   "metadata": {},
   "outputs": [],
   "source": [
    "eqs_2ord = sp.Eq(sp.diff(eqs_reduced.Psi.lhs, core.t), sp.diff(eqs_reduced.Psi.rhs, core.t).subs({eqs_reduced.F_ext.lhs: eqs_reduced.F_ext.rhs}))\n",
    "eq_rad = eigen.to_fd_ode_psi(eqs_2ord)\n",
    "eq_rad = sp.Eq(eq_rad.lhs - eq_rad.rhs, sp.S.Zero)"
   ]
  },
  {
   "cell_type": "code",
   "execution_count": null,
   "id": "2c0fbb86-28f7-400d-bf49-89f056606ca5",
   "metadata": {},
   "outputs": [],
   "source": [
    "def common_denom_simplify(expr):\n",
    "    expr = expr.together()\n",
    "    num, denom = sp.fraction(expr)\n",
    "    num = num.subs({core.H: core.H_s}).simplify().factor().subs({core.H_s: core.H, core.H_s**2: core.H**2}).collect(expansion.m)\n",
    "    return num/denom.factor()\n",
    "\n",
    "eq_grouped = simplify.recursive_collect_tree(eq_rad.lhs, (expansion.pgvar_s.Psi, expansion.omega, expansion.m))\n",
    "simplify.process_leaf_node(eq_grouped, common_denom_simplify)\n",
    "eq_grouped = sp.Eq(simplify.recursive_eval_tree(eq_grouped), eq_rad.rhs)\n",
    "eq_grouped"
   ]
  },
  {
   "cell_type": "code",
   "execution_count": null,
   "id": "227c190e-68a5-40cc-9947-acbb33c514d8",
   "metadata": {},
   "outputs": [],
   "source": [
    "eqs_2ord = sp.Eq(\n",
    "    sp.diff(eqs_reduced.Psi.lhs, core.t),\n",
    "    sp.diff(eqs_reduced.Psi.rhs, core.t).subs({eqs_reduced.F_ext.lhs: eqs_reduced.F_ext.rhs}).doit().expand()\n",
    ")\n",
    "eq_rad = eigen.to_fd_ode_psi(eqs_2ord)\n",
    "eq_rad = sp.Eq(eq_rad.lhs - eq_rad.rhs, sp.S.Zero)"
   ]
  },
  {
   "cell_type": "markdown",
   "id": "48625ef9-75e0-4d61-823a-3130bb50e41f",
   "metadata": {},
   "source": [
    "### Second-order form"
   ]
  },
  {
   "cell_type": "code",
   "execution_count": null,
   "id": "53784228-9f38-499c-9843-cbc17c46edf8",
   "metadata": {},
   "outputs": [],
   "source": [
    "eqs_file = \"./out/eigen/Poloidal_Dipole/eqs_pg.json\"\n",
    "with open(eqs_file, 'r') as fread:\n",
    "    eqs_pg = base.CollectionPG.deserialize(json.load(fread)[\"equations\"], parser=sp.parse_expr)\n",
    "eqs_pg_select = eqs_pg.copy()\n",
    "# for i_eq in range(14, 21):\n",
    "#     eqs_pg_select[i_eq] = sp.Eq(eqs_pg_select[i_eq].lhs, sp.S.Zero)\n",
    "eqs_pg_select[16] = sp.Eq(eqs_pg_select[16].lhs, sp.S.Zero)\n",
    "eqs_pg_select[19] = sp.Eq(eqs_pg_select[19].lhs, sp.S.Zero)\n",
    "\n",
    "eqs_2ord = eigen.reduce_eqsys_to_psi(eqs_pg_select, verbose=5)\n",
    "eq_rad = eigen.to_fd_ode_psi(eqs_2ord)\n",
    "eq_rad = sp.Eq(eq_rad.lhs - eq_rad.rhs, sp.S.Zero)"
   ]
  },
  {
   "cell_type": "code",
   "execution_count": null,
   "id": "dc8bfc8c-b0e1-4b9b-9de6-227fa7a71a05",
   "metadata": {},
   "outputs": [],
   "source": [
    "eqs_pg_select[0]"
   ]
  },
  {
   "cell_type": "markdown",
   "id": "81ebaaea-1892-44d2-a60e-59788536c227",
   "metadata": {},
   "source": [
    "Further simplifications: standard ODE form"
   ]
  },
  {
   "cell_type": "code",
   "execution_count": null,
   "id": "8c93d30d-6c36-4ad7-b619-8f3500dbcea7",
   "metadata": {},
   "outputs": [],
   "source": [
    "eq_rad"
   ]
  },
  {
   "cell_type": "code",
   "execution_count": null,
   "id": "f1f41f85-3783-44e1-981b-ee242d21ac79",
   "metadata": {},
   "outputs": [],
   "source": [
    "ord_max = 4\n",
    "leading_cf = eq_rad.lhs.coeff(sp.diff(expansion.pgvar_s.Psi, (core.s, ord_max))).together().subs({core.H_s: core.H, core.H_s**2: core.H**2})\n",
    "eq_rad_std = sp.Eq((eq_rad.lhs/leading_cf).expand(), eq_rad.rhs/leading_cf)\n",
    "sp.Eq(eq_rad_std.lhs.collect(expansion.pgvar_s.Psi), eq_rad_std.rhs)"
   ]
  },
  {
   "cell_type": "markdown",
   "id": "f56bc16d-31e7-402c-a202-09d0ebef0e5d",
   "metadata": {},
   "source": [
    "Group the coefficients"
   ]
  },
  {
   "cell_type": "code",
   "execution_count": null,
   "id": "4894cd52-506b-4327-9d99-24292c6496f5",
   "metadata": {},
   "outputs": [],
   "source": [
    "from pg_utils.sympy_supp import simplify\n",
    "\n",
    "def common_denom_simplify(expr):\n",
    "    expr = expr.together()\n",
    "    num, denom = sp.fraction(expr)\n",
    "    num = num.subs({core.H: core.H_s}).simplify().factor().subs({core.H_s: core.H, core.H_s**2: core.H**2})\n",
    "    return num/denom\n",
    "\n",
    "eq_grouped = simplify.recursive_collect_tree(eq_rad_std.lhs, (expansion.pgvar_s.Psi, expansion.omega))\n",
    "simplify.process_leaf_node(eq_grouped, common_denom_simplify)\n",
    "eq_grouped = sp.Eq(simplify.recursive_eval_tree(eq_grouped), eq_rad_std.rhs)\n",
    "eq_grouped"
   ]
  },
  {
   "cell_type": "markdown",
   "id": "b5ef2687-5181-4bc3-bc18-73dd61910524",
   "metadata": {},
   "source": [
    "Output"
   ]
  },
  {
   "cell_type": "code",
   "execution_count": null,
   "id": "245ddf4b-1272-4f22-b947-28984fbe87b1",
   "metadata": {},
   "outputs": [],
   "source": [
    "sp.print_latex(eq_grouped)"
   ]
  },
  {
   "cell_type": "markdown",
   "id": "5e829e27-32d7-45f5-8657-29d20034a711",
   "metadata": {},
   "source": [
    "## Matrix elements"
   ]
  },
  {
   "cell_type": "code",
   "execution_count": null,
   "id": "4234f8ac-a144-4769-b45d-4804a9ec8d7b",
   "metadata": {},
   "outputs": [],
   "source": [
    "from pg_utils.numerics import matrices as nmatrix\n",
    "\n",
    "matrix_file = \"./out/eigen/Malkus/Transformed/matrix_expr.json\"\n",
    "with open(matrix_file, 'r') as fread:\n",
    "    matrix_obj = json.load(fread)\n",
    "\n",
    "M_expr = expansion.SystemMatrix.deserialize(matrix_obj[\"M\"])\n",
    "K_expr = expansion.SystemMatrix.deserialize(matrix_obj[\"K\"])\n",
    "par_list = [sp.parse_expr(par) for par in matrix_obj[\"params\"]]"
   ]
  },
  {
   "cell_type": "code",
   "execution_count": null,
   "id": "6c8be3fe-2ea6-4ad9-9d46-99d4239373c4",
   "metadata": {},
   "outputs": [],
   "source": [
    "iprod = nmatrix.InnerQuad_GaussJacobi(M_expr[\"B_em\", \"B_em\"], automatic=True)"
   ]
  },
  {
   "cell_type": "code",
   "execution_count": null,
   "id": "6fd5cf4d-f768-4df5-bba9-4b61feeac2ca",
   "metadata": {},
   "outputs": [],
   "source": [
    "iprod.deduce_params_outer(51, 51)"
   ]
  },
  {
   "cell_type": "code",
   "execution_count": null,
   "id": "74cc98fa-4c39-4d1b-a739-bff06679eb8d",
   "metadata": {},
   "outputs": [],
   "source": [
    "M_expr[\"B_em\", \"B_em\"]._opd_A"
   ]
  },
  {
   "cell_type": "code",
   "execution_count": null,
   "id": "194c7078-4068-4b0b-9ff2-5c45197db886",
   "metadata": {},
   "outputs": [],
   "source": [
    "nmatrix.InnerQuad_GaussJacobi.get_powers(expansion.xi, M_expr[\"B_em\", \"B_em\"]._opd_A.doit())"
   ]
  },
  {
   "cell_type": "code",
   "execution_count": null,
   "id": "7fd0d174-2ecc-4208-90d5-3056aa0463ae",
   "metadata": {},
   "outputs": [],
   "source": [
    "opd_A_terms = nmatrix.InnerQuad_GaussJacobi.get_powers(expansion.xi, K_expr[\"F_ext\", \"Psi\"]._opd_A, return_expr=True)\n",
    "if not isinstance(opd_A_terms, list):\n",
    "    opd_A_terms = [opd_A_terms]\n",
    "\n",
    "for term in opd_A_terms:\n",
    "    display(term[1])\n",
    "    print(term[0])"
   ]
  },
  {
   "cell_type": "code",
   "execution_count": null,
   "id": "323478d0-97a5-4b84-a203-1b97be2f2b44",
   "metadata": {},
   "outputs": [],
   "source": [
    "opd_B_terms = nmatrix.InnerQuad_GaussJacobi.get_powers(expansion.xi, K_expr[\"F_ext\", \"Psi\"]._opd_B.doit(), return_expr=True)\n",
    "if not isinstance(opd_B_terms, list):\n",
    "    opd_B_terms = [opd_B_terms]"
   ]
  },
  {
   "cell_type": "code",
   "execution_count": null,
   "id": "724472a9-6044-4a22-98c3-a33c2ace94db",
   "metadata": {},
   "outputs": [],
   "source": [
    "for term in opd_B_terms:\n",
    "    if term[0][0] > -1:\n",
    "        continue\n",
    "    display(term[1])\n",
    "    print(term[0])"
   ]
  },
  {
   "cell_type": "code",
   "execution_count": null,
   "id": "80d28ec8-ab18-4621-9bf7-95a6f98da855",
   "metadata": {},
   "outputs": [],
   "source": [
    "term_singular = sp.S.Zero\n",
    "for term in opd_B_terms:\n",
    "    if term[0][0] <= -1:\n",
    "        term_singular += term[1]"
   ]
  },
  {
   "cell_type": "code",
   "execution_count": null,
   "id": "58a6b104-fab7-4d89-a35f-07eb7e644845",
   "metadata": {},
   "outputs": [],
   "source": [
    "term_singular"
   ]
  },
  {
   "cell_type": "code",
   "execution_count": null,
   "id": "57878fee-28cc-4e3a-8384-4f7c654bd2b1",
   "metadata": {},
   "outputs": [],
   "source": [
    "term_singular.subs({sp.Symbol(r\"p_2\", positive=True): 2 - sp.Symbol(r\"p_1\", positive=True)}).simplify().subs({2 - sp.Symbol(r\"p_1\", positive=True): sp.Symbol(r\"p_2\", positive=True)})"
   ]
  },
  {
   "cell_type": "code",
   "execution_count": null,
   "id": "362815b1-a340-4760-99b2-728e4521ad08",
   "metadata": {},
   "outputs": [],
   "source": [
    "[term[0] for term in opd_B_terms]"
   ]
  },
  {
   "cell_type": "code",
   "execution_count": null,
   "id": "94f2204f-6ecc-44bf-a5b0-4c695369ace3",
   "metadata": {},
   "outputs": [],
   "source": [
    "with open(\"./out/symbolic/eqs_pg_lin.json\", 'r') as fread:\n",
    "    eqs = base.LabeledCollection.load_json(fread, parser=sp.parse_expr)"
   ]
  },
  {
   "cell_type": "code",
   "execution_count": null,
   "id": "36b47653-72cd-4447-a2d5-b5acf0d2fd20",
   "metadata": {},
   "outputs": [],
   "source": [
    "eqs.Psi"
   ]
  },
  {
   "cell_type": "code",
   "execution_count": null,
   "id": "2e6669f1-9bcf-4207-8628-22d48dae7456",
   "metadata": {},
   "outputs": [],
   "source": [
    "eqs.dBp_dz_e"
   ]
  },
  {
   "cell_type": "code",
   "execution_count": null,
   "id": "d0aa2136-7d9d-4518-9561-ca7e18b21c11",
   "metadata": {},
   "outputs": [],
   "source": [
    "(sp.diff(core.s*sp.diff(core.s**expansion.m*core.H_s**3, core.s), core.s)/expansion.H_s).expand()"
   ]
  },
  {
   "cell_type": "code",
   "execution_count": null,
   "id": "f453a534-cfb5-4acd-a330-2ed0a16cebe9",
   "metadata": {},
   "outputs": [],
   "source": [
    "sp.diff(core.s**expansion.m, core.s).subs({expansion.m: 0})"
   ]
  },
  {
   "cell_type": "code",
   "execution_count": null,
   "id": "aaa7a60d-e71d-4b53-a56f-267c94e35bf7",
   "metadata": {},
   "outputs": [],
   "source": [
    "(sp.diff(core.s**expansion.m*core.H_s**3, core.s)/expansion.H_s).expand()"
   ]
  },
  {
   "cell_type": "markdown",
   "id": "1d36e3d2-edf5-48fb-9716-c7c8a522183e",
   "metadata": {},
   "source": [
    "---\n",
    "## General equations inspection"
   ]
  },
  {
   "cell_type": "code",
   "execution_count": 12,
   "id": "1cb23b1d-033f-4bcf-8af5-59455aea40b9",
   "metadata": {},
   "outputs": [],
   "source": [
    "with open('./out/symbolic/eqs-pg__boundIE-Bcyl.json', 'r') as fread:\n",
    "    eqs_pg = base.LabeledCollection.load_json(fread, parser=sp.parse_expr)"
   ]
  },
  {
   "cell_type": "code",
   "execution_count": 11,
   "id": "0d2b652e-12cd-410a-a2dd-f86c8d977d65",
   "metadata": {},
   "outputs": [
    {
     "data": {
      "text/plain": [
       "<pg_utils.pg_model.base.LabeledCollection at 0x258551c47c0>"
      ]
     },
     "execution_count": 11,
     "metadata": {},
     "output_type": "execute_result"
    }
   ],
   "source": [
    "with open('./out/symbolic/eqs-pg__boundIE-Bcyl.json', 'r') as fread:\n",
    "    eqs_pg_lin = base.LabeledCollection.load_json(fread, parser=sp.parse_expr)\n",
    "    \n",
    "zero_bg_u_map = {\n",
    "    core.U0_vec[0]: 0,\n",
    "    core.U0_vec[1]: 0,\n",
    "    core.U0_vec[2]: 0\n",
    "}\n",
    "eqs_pg_lin.apply(lambda eq: sp.Eq(eq.lhs, eq.rhs.subs(zero_bg_u_map).doit()) if eq is not None else None, inplace=True)"
   ]
  },
  {
   "cell_type": "code",
   "execution_count": null,
   "id": "9d76b82c-9357-49c8-a9a3-24eee9565388",
   "metadata": {},
   "outputs": [],
   "source": [
    "display_eq_collection(eqs_pg)"
   ]
  },
  {
   "cell_type": "markdown",
   "id": "3e25de4d-1d6b-4b8a-9583-7c6d5ff6431a",
   "metadata": {},
   "source": [
    "---\n",
    "## Equation sequence inspection"
   ]
  },
  {
   "cell_type": "code",
   "execution_count": 160,
   "id": "e192a19a-a9a1-4189-a414-a0b2b2f5d129",
   "metadata": {},
   "outputs": [],
   "source": [
    "# Original linearised equation\n",
    "with open('./out/symbolic/eqs-cg__boundIE-Bcyl__lin.json', 'r') as fread:\n",
    "    eqs_pg_lin = base.LabeledCollection.load_json(fread, parser=sp.parse_expr)\n",
    "eqs_pg_lin, _ = eigen.assemble_forcing(eqs_pg_lin, 'Lorentz', timescale='Alfven', verbose=0)\n",
    "eqs_pg_lin.Psi = sp.Eq(eqs_pg_lin.Psi.lhs, eqs_pg_lin.Psi.rhs.subs(forcing.force_explicit_lin_cg).doit().expand())\n",
    "    \n",
    "# Background-specific eigenvalue equation\n",
    "dir_bg = './out/eigen/S1_T2_std/'\n",
    "with open(os.path.join(dir_bg, 'eqs_ideal_canonical_vs.json'), 'r') as fread:\n",
    "    load_array = json.load(fread)\n",
    "    eqs_eigen_bg = base.LabeledCollection.deserialize(load_array['equations'], parser=sp.parse_expr)\n",
    "    \n",
    "# Matrix elements\n",
    "dir_spec = os.path.join(dir_bg, 'Canonical')\n",
    "with open(os.path.join(dir_spec, 'matrix_expr_ideal_vsHjx.json'), 'r') as fread:\n",
    "    matrix_obj = json.load(fread)\n",
    "M_expr = expansion.SystemMatrix.deserialize(matrix_obj[\"M\"])\n",
    "K_expr = expansion.SystemMatrix.deserialize(matrix_obj[\"K\"])"
   ]
  },
  {
   "cell_type": "code",
   "execution_count": 8,
   "id": "91d7ffc7-3221-43f0-b96a-5a33dd8a314a",
   "metadata": {},
   "outputs": [],
   "source": [
    "from pg_utils.pg_model import expand_conjugate_ext as xpd_cfg\n",
    "\n",
    "eqs_eigen_selected = eqs_eigen_bg.generate_collection(xpd_cfg.field_indexer)\n",
    "M_simp, K_simp = eigen.equations_to_matrices(eqs_eigen_selected, xpd_cfg.recipe)"
   ]
  },
  {
   "cell_type": "code",
   "execution_count": 11,
   "id": "95000f1e",
   "metadata": {},
   "outputs": [
    {
     "name": "stdout",
     "output_type": "stream",
     "text": [
      "Timer unit: 1e-07 s\n",
      "\n",
      "Total time: 253.716 s\n",
      "File: c:\\Users\\gentle\\Documents\\Projects\\PG-Assim\\pg_utils\\eigen.py\n",
      "Function: equations_to_matrices at line 333\n",
      "\n",
      "Line #      Hits         Time  Per Hit   % Time  Line Contents\n",
      "==============================================================\n",
      "   333                                           def equations_to_matrices(eqs: base.LabeledCollection, \n",
      "   334                                               xpd_recipe: xpd.ExpansionRecipe, inplace: bool = False, \n",
      "   335                                               verbose: int = 0) -> List[xpd.SystemMatrix]:\n",
      "   336                                               \"\"\"Collect matrix elements\n",
      "   337                                               \n",
      "   338                                               :param base.LabeledCollection eqs: collection of all equations\n",
      "   339                                               :param expansion.ExpansionRecipe xpd_recipe: expansion recipe\n",
      "   340                                               :param bool inplace: whether to modify the eqs inplace\n",
      "   341                                               :returns: Mass matrix, stiffness matrix\n",
      "   342                                               \"\"\"\n",
      "   343         1          8.0      8.0      0.0      if verbose > 0:\n",
      "   344                                                   print(\"========== Converting eqn to matrices... ==========\")\n",
      "   345                                               # Collect matrices\n",
      "   346         2       1124.0    562.0      0.0      eqs_sys = xpd.SystemEquations(eqs._field_names, xpd_recipe, \n",
      "   347         1        794.0    794.0      0.0          **{fname: eqs[fname] for fname in eqs._field_names})\n",
      "   348         1          4.0      4.0      0.0      if verbose > 2:\n",
      "   349                                                   print(\"Converting equations to Fourier domain...\")\n",
      "   350         1  210047217.0    2e+08      8.3      eqs_sys = eqs_sys.to_fourier_domain(inplace=inplace)\n",
      "   351         1          6.0      6.0      0.0      if verbose > 2:\n",
      "   352                                                   print(\"Converting equations to radial coordinates...\")\n",
      "   353         1  276408407.0    3e+08     10.9      eqs_sys = eqs_sys.to_radial(inplace=inplace)\n",
      "   354         1          5.0      5.0      0.0      if verbose > 2:\n",
      "   355                                                   print(\"Converting equations to inner products...\")\n",
      "   356         1 1111256690.0    1e+09     43.8      eqs_sys = eqs_sys.to_inner_product(factor_lhs=I*omega, inplace=inplace)\n",
      "   357         1   10224285.0    1e+07      0.4      M_expr, K_expr = eqs_sys.collect_matrices(factor_lhs=I*omega)\n",
      "   358                                               # print(K_expr['Psi', 'M_p'])\n",
      "   359                                               # Convert matrix elements to desired form\n",
      "   360         1          6.0      6.0      0.0      if verbose > 1:\n",
      "   361                                                   print(\"Collecting and converting mass matrix M elements...\")\n",
      "   362         2   30858877.0    2e+07      1.2      M_expr = M_expr.apply(\n",
      "   363         1         12.0     12.0      0.0          lambda x: process_matrix_element(x, xpd_recipe.base_expr, xpd_recipe.test_expr),\n",
      "   364         1          2.0      2.0      0.0          inplace=True, metadata=False\n",
      "   365                                               )\n",
      "   366         1          5.0      5.0      0.0      if verbose > 1:\n",
      "   367                                                   print(\"Collecting and converting stiffness matrix K elements...\")\n",
      "   368         2  898363541.0    4e+08     35.4      K_expr = K_expr.apply(\n",
      "   369         1          6.0      6.0      0.0          lambda x: process_matrix_element(x, xpd_recipe.base_expr, xpd_recipe.test_expr),\n",
      "   370         1          3.0      3.0      0.0          inplace=True, metadata=False\n",
      "   371                                               )\n",
      "   372         1          4.0      4.0      0.0      return M_expr, K_expr"
     ]
    }
   ],
   "source": [
    "%lprun -f eigen.equations_to_matrices eigen.equations_to_matrices(eqs_eigen_selected, xpd_cfg.recipe)"
   ]
  },
  {
   "cell_type": "markdown",
   "id": "1828e2dd-18a6-44af-89fb-bedf451b669c",
   "metadata": {},
   "source": [
    "### Show element"
   ]
  },
  {
   "cell_type": "code",
   "execution_count": 161,
   "id": "5e985b0f",
   "metadata": {},
   "outputs": [
    {
     "data": {
      "text/plain": [
       "['Psi',\n",
       " 'M_1',\n",
       " 'M_p',\n",
       " 'M_m',\n",
       " 'M_zp',\n",
       " 'M_zm',\n",
       " 'zM_1',\n",
       " 'zM_p',\n",
       " 'zM_m',\n",
       " 'B_ep',\n",
       " 'B_em',\n",
       " 'Bz_e',\n",
       " 'dB_dz_ep',\n",
       " 'dB_dz_em',\n",
       " 'Br_b',\n",
       " 'B_pp',\n",
       " 'B_pm',\n",
       " 'Bz_p',\n",
       " 'B_mp',\n",
       " 'B_mm',\n",
       " 'Bz_m']"
      ]
     },
     "execution_count": 161,
     "metadata": {},
     "output_type": "execute_result"
    }
   ],
   "source": [
    "eqs_pg_lin._field_names"
   ]
  },
  {
   "cell_type": "code",
   "execution_count": 173,
   "id": "db2442af-e8c1-40af-9b8d-6750096707ba",
   "metadata": {},
   "outputs": [],
   "source": [
    "name_eqn = 'M_p'\n",
    "name_term = 'Psi'\n",
    "\n",
    "k = sp.Symbol('k', positive=True)\n",
    "H1 = sp.Symbol('H', positive=True)\n",
    "Jac = 1/(4*sp.sqrt((1 + expansion.xi)/2))\n",
    "sub_ab = {(1 - expansion.xi)/2: H1**2, (1 + expansion.xi)/2: core.s**2, (expansion.xi + 1)/2: core.s**2, 1 - expansion.xi: 2*H1**2, expansion.xi - 1: -2*H1**2}"
   ]
  },
  {
   "cell_type": "code",
   "execution_count": 174,
   "id": "7511c674",
   "metadata": {},
   "outputs": [
    {
     "data": {
      "text/latex": [
       "$\\displaystyle - \\frac{i \\overline{M_+}^0{\\left(s,\\phi,t \\right)} \\frac{\\partial^{2}}{\\partial s^{2}} \\psi{\\left(s,\\phi,t \\right)}}{H{\\left(s \\right)}} - \\frac{i \\overline{M_1}^0{\\left(s,\\phi,t \\right)} \\frac{\\partial^{2}}{\\partial s^{2}} \\psi{\\left(s,\\phi,t \\right)}}{H{\\left(s \\right)}} + \\frac{i \\overline{M_+}^0{\\left(s,\\phi,t \\right)} \\frac{d}{d s} H{\\left(s \\right)} \\frac{\\partial}{\\partial s} \\psi{\\left(s,\\phi,t \\right)}}{H^{2}{\\left(s \\right)}} + \\frac{i \\overline{M_1}^0{\\left(s,\\phi,t \\right)} \\frac{d}{d s} H{\\left(s \\right)} \\frac{\\partial}{\\partial s} \\psi{\\left(s,\\phi,t \\right)}}{H^{2}{\\left(s \\right)}} + \\frac{i \\overline{M_+}^0{\\left(s,\\phi,t \\right)} \\frac{\\partial}{\\partial s} \\psi{\\left(s,\\phi,t \\right)}}{s H{\\left(s \\right)}} + \\frac{i \\overline{M_1}^0{\\left(s,\\phi,t \\right)} \\frac{\\partial}{\\partial s} \\psi{\\left(s,\\phi,t \\right)}}{s H{\\left(s \\right)}} + \\frac{2 \\overline{M_1}^0{\\left(s,\\phi,t \\right)} \\frac{\\partial^{2}}{\\partial s\\partial \\phi} \\psi{\\left(s,\\phi,t \\right)}}{s H{\\left(s \\right)}} + \\frac{\\frac{\\partial}{\\partial \\phi} \\overline{M_+}^0{\\left(s,\\phi,t \\right)} \\frac{\\partial}{\\partial s} \\psi{\\left(s,\\phi,t \\right)}}{s H{\\left(s \\right)}} - \\frac{\\frac{\\partial}{\\partial s} \\overline{M_+}^0{\\left(s,\\phi,t \\right)} \\frac{\\partial}{\\partial \\phi} \\psi{\\left(s,\\phi,t \\right)}}{s H{\\left(s \\right)}} - \\frac{\\overline{M_1}^0{\\left(s,\\phi,t \\right)} \\frac{d}{d s} H{\\left(s \\right)} \\frac{\\partial}{\\partial \\phi} \\psi{\\left(s,\\phi,t \\right)}}{s H^{2}{\\left(s \\right)}} - \\frac{i \\overline{M_+}^0{\\left(s,\\phi,t \\right)} \\frac{\\partial^{2}}{\\partial \\phi^{2}} \\psi{\\left(s,\\phi,t \\right)}}{s^{2} H{\\left(s \\right)}} - \\frac{2 \\overline{M_1}^0{\\left(s,\\phi,t \\right)} \\frac{\\partial}{\\partial \\phi} \\psi{\\left(s,\\phi,t \\right)}}{s^{2} H{\\left(s \\right)}} + \\frac{i \\overline{M_1}^0{\\left(s,\\phi,t \\right)} \\frac{\\partial^{2}}{\\partial \\phi^{2}} \\psi{\\left(s,\\phi,t \\right)}}{s^{2} H{\\left(s \\right)}}$"
      ],
      "text/plain": [
       "-I*\\overline{M_+}^0(s, \\phi, t)*Derivative(\\psi(s, \\phi, t), (s, 2))/H(s) - I*\\overline{M_1}^0(s, \\phi, t)*Derivative(\\psi(s, \\phi, t), (s, 2))/H(s) + I*\\overline{M_+}^0(s, \\phi, t)*Derivative(H(s), s)*Derivative(\\psi(s, \\phi, t), s)/H(s)**2 + I*\\overline{M_1}^0(s, \\phi, t)*Derivative(H(s), s)*Derivative(\\psi(s, \\phi, t), s)/H(s)**2 + I*\\overline{M_+}^0(s, \\phi, t)*Derivative(\\psi(s, \\phi, t), s)/(s*H(s)) + I*\\overline{M_1}^0(s, \\phi, t)*Derivative(\\psi(s, \\phi, t), s)/(s*H(s)) + 2*\\overline{M_1}^0(s, \\phi, t)*Derivative(\\psi(s, \\phi, t), \\phi, s)/(s*H(s)) + Derivative(\\overline{M_+}^0(s, \\phi, t), \\phi)*Derivative(\\psi(s, \\phi, t), s)/(s*H(s)) - Derivative(\\overline{M_+}^0(s, \\phi, t), s)*Derivative(\\psi(s, \\phi, t), \\phi)/(s*H(s)) - \\overline{M_1}^0(s, \\phi, t)*Derivative(H(s), s)*Derivative(\\psi(s, \\phi, t), \\phi)/(s*H(s)**2) - I*\\overline{M_+}^0(s, \\phi, t)*Derivative(\\psi(s, \\phi, t), (\\phi, 2))/(s**2*H(s)) - 2*\\overline{M_1}^0(s, \\phi, t)*Derivative(\\psi(s, \\phi, t), \\phi)/(s**2*H(s)) + I*\\overline{M_1}^0(s, \\phi, t)*Derivative(\\psi(s, \\phi, t), (\\phi, 2))/(s**2*H(s))"
      ]
     },
     "metadata": {},
     "output_type": "display_data"
    },
    {
     "data": {
      "text/latex": [
       "$\\displaystyle - \\frac{128 s^{6} \\frac{\\partial}{\\partial \\phi} \\psi{\\left(s,\\phi,t \\right)}}{3} + \\frac{128 s^{5} H^{2}{\\left(s \\right)} \\frac{\\partial^{2}}{\\partial s\\partial \\phi} \\psi{\\left(s,\\phi,t \\right)}}{3} - \\frac{16 s^{5} \\frac{\\partial}{\\partial s} \\psi{\\left(s,\\phi,t \\right)}}{5} - \\frac{256 s^{4} H^{2}{\\left(s \\right)} \\frac{\\partial}{\\partial \\phi} \\psi{\\left(s,\\phi,t \\right)}}{15} + \\frac{128 i s^{4} H^{2}{\\left(s \\right)} \\frac{\\partial^{2}}{\\partial \\phi^{2}} \\psi{\\left(s,\\phi,t \\right)}}{3} - \\frac{16 s^{4} H^{2}{\\left(s \\right)} \\frac{\\partial^{2}}{\\partial s^{2}} \\psi{\\left(s,\\phi,t \\right)}}{5} + \\frac{256 s^{4} \\frac{\\partial}{\\partial \\phi} \\psi{\\left(s,\\phi,t \\right)}}{3} - \\frac{48 i s^{4} \\frac{\\partial}{\\partial \\phi} \\psi{\\left(s,\\phi,t \\right)}}{5} + \\frac{256 s^{3} H^{4}{\\left(s \\right)} \\frac{\\partial^{2}}{\\partial s\\partial \\phi} \\psi{\\left(s,\\phi,t \\right)}}{5} + \\frac{32 s^{3} H^{2}{\\left(s \\right)} \\frac{\\partial}{\\partial s} \\psi{\\left(s,\\phi,t \\right)}}{25} - \\frac{256 s^{3} H^{2}{\\left(s \\right)} \\frac{\\partial^{2}}{\\partial s\\partial \\phi} \\psi{\\left(s,\\phi,t \\right)}}{3} + \\frac{16 s^{3} \\frac{\\partial}{\\partial s} \\psi{\\left(s,\\phi,t \\right)}}{5} - \\frac{6 i s^{3} \\frac{\\partial}{\\partial s} \\psi{\\left(s,\\phi,t \\right)}}{25} - \\frac{128 s^{2} H^{4}{\\left(s \\right)} \\frac{\\partial}{\\partial \\phi} \\psi{\\left(s,\\phi,t \\right)}}{35} + \\frac{256 i s^{2} H^{4}{\\left(s \\right)} \\frac{\\partial^{2}}{\\partial \\phi^{2}} \\psi{\\left(s,\\phi,t \\right)}}{5} - \\frac{48 s^{2} H^{4}{\\left(s \\right)} \\frac{\\partial^{2}}{\\partial s^{2}} \\psi{\\left(s,\\phi,t \\right)}}{25} + \\frac{256 s^{2} H^{2}{\\left(s \\right)} \\frac{\\partial}{\\partial \\phi} \\psi{\\left(s,\\phi,t \\right)}}{15} + \\frac{16 i s^{2} H^{2}{\\left(s \\right)} \\frac{\\partial}{\\partial \\phi} \\psi{\\left(s,\\phi,t \\right)}}{5} - \\frac{16 s^{2} H^{2}{\\left(s \\right)} \\frac{\\partial^{2}}{\\partial \\phi^{2}} \\psi{\\left(s,\\phi,t \\right)}}{5} - \\frac{256 i s^{2} H^{2}{\\left(s \\right)} \\frac{\\partial^{2}}{\\partial \\phi^{2}} \\psi{\\left(s,\\phi,t \\right)}}{3} + \\frac{16 s^{2} H^{2}{\\left(s \\right)} \\frac{\\partial^{2}}{\\partial s^{2}} \\psi{\\left(s,\\phi,t \\right)}}{5} - \\frac{6 i s^{2} H^{2}{\\left(s \\right)} \\frac{\\partial^{2}}{\\partial s^{2}} \\psi{\\left(s,\\phi,t \\right)}}{25} - \\frac{3164 s^{2} \\frac{\\partial}{\\partial \\phi} \\psi{\\left(s,\\phi,t \\right)}}{75} + \\frac{48 i s^{2} \\frac{\\partial}{\\partial \\phi} \\psi{\\left(s,\\phi,t \\right)}}{5} + \\frac{128 s H^{6}{\\left(s \\right)} \\frac{\\partial^{2}}{\\partial s\\partial \\phi} \\psi{\\left(s,\\phi,t \\right)}}{7} + \\frac{48 s H^{4}{\\left(s \\right)} \\frac{\\partial}{\\partial s} \\psi{\\left(s,\\phi,t \\right)}}{25} - \\frac{256 s H^{4}{\\left(s \\right)} \\frac{\\partial^{2}}{\\partial s\\partial \\phi} \\psi{\\left(s,\\phi,t \\right)}}{5} - \\frac{16 s H^{2}{\\left(s \\right)} \\frac{\\partial}{\\partial s} \\psi{\\left(s,\\phi,t \\right)}}{5} + \\frac{6 i s H^{2}{\\left(s \\right)} \\frac{\\partial}{\\partial s} \\psi{\\left(s,\\phi,t \\right)}}{25} + \\frac{3218 s H^{2}{\\left(s \\right)} \\frac{\\partial^{2}}{\\partial s\\partial \\phi} \\psi{\\left(s,\\phi,t \\right)}}{75} + \\frac{128 i H^{6}{\\left(s \\right)} \\frac{\\partial^{2}}{\\partial \\phi^{2}} \\psi{\\left(s,\\phi,t \\right)}}{7} + \\frac{96 i H^{4}{\\left(s \\right)} \\frac{\\partial}{\\partial \\phi} \\psi{\\left(s,\\phi,t \\right)}}{25} - \\frac{48 H^{4}{\\left(s \\right)} \\frac{\\partial^{2}}{\\partial \\phi^{2}} \\psi{\\left(s,\\phi,t \\right)}}{25} - \\frac{256 i H^{4}{\\left(s \\right)} \\frac{\\partial^{2}}{\\partial \\phi^{2}} \\psi{\\left(s,\\phi,t \\right)}}{5} - \\frac{12 H^{2}{\\left(s \\right)} \\frac{\\partial}{\\partial \\phi} \\psi{\\left(s,\\phi,t \\right)}}{25} - \\frac{32 i H^{2}{\\left(s \\right)} \\frac{\\partial}{\\partial \\phi} \\psi{\\left(s,\\phi,t \\right)}}{5} + \\frac{16 H^{2}{\\left(s \\right)} \\frac{\\partial^{2}}{\\partial \\phi^{2}} \\psi{\\left(s,\\phi,t \\right)}}{5} + \\frac{128 i H^{2}{\\left(s \\right)} \\frac{\\partial^{2}}{\\partial \\phi^{2}} \\psi{\\left(s,\\phi,t \\right)}}{3}$"
      ],
      "text/plain": [
       "-128*s**6*Derivative(\\psi(s, \\phi, t), \\phi)/3 + 128*s**5*H(s)**2*Derivative(\\psi(s, \\phi, t), \\phi, s)/3 - 16*s**5*Derivative(\\psi(s, \\phi, t), s)/5 - 256*s**4*H(s)**2*Derivative(\\psi(s, \\phi, t), \\phi)/15 + 128*I*s**4*H(s)**2*Derivative(\\psi(s, \\phi, t), (\\phi, 2))/3 - 16*s**4*H(s)**2*Derivative(\\psi(s, \\phi, t), (s, 2))/5 + 256*s**4*Derivative(\\psi(s, \\phi, t), \\phi)/3 - 48*I*s**4*Derivative(\\psi(s, \\phi, t), \\phi)/5 + 256*s**3*H(s)**4*Derivative(\\psi(s, \\phi, t), \\phi, s)/5 + 32*s**3*H(s)**2*Derivative(\\psi(s, \\phi, t), s)/25 - 256*s**3*H(s)**2*Derivative(\\psi(s, \\phi, t), \\phi, s)/3 + 16*s**3*Derivative(\\psi(s, \\phi, t), s)/5 - 6*I*s**3*Derivative(\\psi(s, \\phi, t), s)/25 - 128*s**2*H(s)**4*Derivative(\\psi(s, \\phi, t), \\phi)/35 + 256*I*s**2*H(s)**4*Derivative(\\psi(s, \\phi, t), (\\phi, 2))/5 - 48*s**2*H(s)**4*Derivative(\\psi(s, \\phi, t), (s, 2))/25 + 256*s**2*H(s)**2*Derivative(\\psi(s, \\phi, t), \\phi)/15 + 16*I*s**2*H(s)**2*Derivative(\\psi(s, \\phi, t), \\phi)/5 - 16*s**2*H(s)**2*Derivative(\\psi(s, \\phi, t), (\\phi, 2))/5 - 256*I*s**2*H(s)**2*Derivative(\\psi(s, \\phi, t), (\\phi, 2))/3 + 16*s**2*H(s)**2*Derivative(\\psi(s, \\phi, t), (s, 2))/5 - 6*I*s**2*H(s)**2*Derivative(\\psi(s, \\phi, t), (s, 2))/25 - 3164*s**2*Derivative(\\psi(s, \\phi, t), \\phi)/75 + 48*I*s**2*Derivative(\\psi(s, \\phi, t), \\phi)/5 + 128*s*H(s)**6*Derivative(\\psi(s, \\phi, t), \\phi, s)/7 + 48*s*H(s)**4*Derivative(\\psi(s, \\phi, t), s)/25 - 256*s*H(s)**4*Derivative(\\psi(s, \\phi, t), \\phi, s)/5 - 16*s*H(s)**2*Derivative(\\psi(s, \\phi, t), s)/5 + 6*I*s*H(s)**2*Derivative(\\psi(s, \\phi, t), s)/25 + 3218*s*H(s)**2*Derivative(\\psi(s, \\phi, t), \\phi, s)/75 + 128*I*H(s)**6*Derivative(\\psi(s, \\phi, t), (\\phi, 2))/7 + 96*I*H(s)**4*Derivative(\\psi(s, \\phi, t), \\phi)/25 - 48*H(s)**4*Derivative(\\psi(s, \\phi, t), (\\phi, 2))/25 - 256*I*H(s)**4*Derivative(\\psi(s, \\phi, t), (\\phi, 2))/5 - 12*H(s)**2*Derivative(\\psi(s, \\phi, t), \\phi)/25 - 32*I*H(s)**2*Derivative(\\psi(s, \\phi, t), \\phi)/5 + 16*H(s)**2*Derivative(\\psi(s, \\phi, t), (\\phi, 2))/5 + 128*I*H(s)**2*Derivative(\\psi(s, \\phi, t), (\\phi, 2))/3"
      ]
     },
     "metadata": {},
     "output_type": "display_data"
    },
    {
     "data": {
      "text/latex": [
       "$\\displaystyle \\frac{s^{3} s^{\\left|{m}\\right|} \\left(64 \\ell^{2} - 12 i \\ell^{2} + 128 \\ell \\left|{m}\\right| - 24 i \\ell \\left|{m}\\right| + 384 \\ell - 72 i \\ell + 64 m^{2} - 12 i m^{2} + s^{2} \\left(- 64 \\ell^{2} - 128 \\ell \\left|{m}\\right| - 384 \\ell - 64 m^{2} - 384 \\left|{m}\\right| - 560\\right) + 384 \\left|{m}\\right| - 72 i \\left|{m}\\right| + 560 - 105 i\\right) H^{5}{\\left(s \\right)} P_{\\ell - 2}^{\\left(\\frac{7}{2},\\left|{m}\\right| + 2\\right)}\\left(\\xi\\right)}{50} + \\frac{s s^{\\left|{m}\\right|} \\left(5246 i \\ell m + 1344 \\ell \\left|{m}\\right| - 252 i \\ell \\left|{m}\\right| + 1344 m^{2} - 252 i m^{2} + 5246 i m \\left|{m}\\right| + 13115 i m + s^{6} \\left(- 5120 i \\ell m - 5120 i m \\left|{m}\\right| - 12800 i m\\right) + s^{4} \\left(15360 i \\ell m + 1344 \\ell \\left|{m}\\right| + 3360 \\ell + 1344 m^{2} + 15360 i m \\left|{m}\\right| + 38400 i m + 6720 \\left|{m}\\right| + 8400\\right) + s^{2} \\left(- 15486 i \\ell m - 2688 \\ell \\left|{m}\\right| + 252 i \\ell \\left|{m}\\right| - 3360 \\ell + 630 i \\ell - 2688 m^{2} + 252 i m^{2} - 15486 i m \\left|{m}\\right| - 38715 i m - 10080 \\left|{m}\\right| + 1260 i \\left|{m}\\right| - 8400 + 1575 i\\right) + 3360 \\left|{m}\\right| - 630 i \\left|{m}\\right|\\right) H^{3}{\\left(s \\right)} P_{\\ell - 1}^{\\left(\\frac{5}{2},\\left|{m}\\right| + 1\\right)}\\left(\\xi\\right)}{1050} + \\frac{s^{\\left|{m}\\right|} \\left(- 2623 i m^{2} + 2623 i m \\left|{m}\\right| + 672 m - 126 i m + s^{6} \\left(2560 i m^{2} - 2560 i m \\left|{m}\\right| - 15360 i m\\right) + s^{4} \\left(- 7680 i m^{2} + 7680 i m \\left|{m}\\right| + 2352 m + 30720 i m + 1008 \\left|{m}\\right|\\right) + s^{2} \\left(7743 i m^{2} - 7743 i m \\left|{m}\\right| - 3024 m - 15297 i m - 336 \\left|{m}\\right| + 189 i \\left|{m}\\right|\\right) - 672 \\left|{m}\\right| + 126 i \\left|{m}\\right|\\right) H^{3}{\\left(s \\right)} P_{\\ell}^{\\left(\\frac{3}{2},\\left|{m}\\right|\\right)}\\left(\\xi\\right)}{1050 s}$"
      ],
      "text/plain": [
       "s**3*s**Abs(m)*(64*\\ell**2 - 12*I*\\ell**2 + 128*\\ell*Abs(m) - 24*I*\\ell*Abs(m) + 384*\\ell - 72*I*\\ell + 64*m**2 - 12*I*m**2 + s**2*(-64*\\ell**2 - 128*\\ell*Abs(m) - 384*\\ell - 64*m**2 - 384*Abs(m) - 560) + 384*Abs(m) - 72*I*Abs(m) + 560 - 105*I)*H(s)**5*jacobi(\\ell - 2, 7/2, Abs(m) + 2, \\xi)/50 + s*s**Abs(m)*(5246*I*\\ell*m + 1344*\\ell*Abs(m) - 252*I*\\ell*Abs(m) + 1344*m**2 - 252*I*m**2 + 5246*I*m*Abs(m) + 13115*I*m + s**6*(-5120*I*\\ell*m - 5120*I*m*Abs(m) - 12800*I*m) + s**4*(15360*I*\\ell*m + 1344*\\ell*Abs(m) + 3360*\\ell + 1344*m**2 + 15360*I*m*Abs(m) + 38400*I*m + 6720*Abs(m) + 8400) + s**2*(-15486*I*\\ell*m - 2688*\\ell*Abs(m) + 252*I*\\ell*Abs(m) - 3360*\\ell + 630*I*\\ell - 2688*m**2 + 252*I*m**2 - 15486*I*m*Abs(m) - 38715*I*m - 10080*Abs(m) + 1260*I*Abs(m) - 8400 + 1575*I) + 3360*Abs(m) - 630*I*Abs(m))*H(s)**3*jacobi(\\ell - 1, 5/2, Abs(m) + 1, \\xi)/1050 + s**Abs(m)*(-2623*I*m**2 + 2623*I*m*Abs(m) + 672*m - 126*I*m + s**6*(2560*I*m**2 - 2560*I*m*Abs(m) - 15360*I*m) + s**4*(-7680*I*m**2 + 7680*I*m*Abs(m) + 2352*m + 30720*I*m + 1008*Abs(m)) + s**2*(7743*I*m**2 - 7743*I*m*Abs(m) - 3024*m - 15297*I*m - 336*Abs(m) + 189*I*Abs(m)) - 672*Abs(m) + 126*I*Abs(m))*H(s)**3*jacobi(\\ell, 3/2, Abs(m), \\xi)/(1050*s)"
      ]
     },
     "metadata": {},
     "output_type": "display_data"
    }
   ],
   "source": [
    "term_pg_lin = simp_supp.summands_dep(eqs_pg_lin[name_eqn].rhs, core.cgvar_ptb[name_term])\n",
    "term_eigen = simp_supp.summands_dep(eqs_eigen_bg[name_eqn].rhs, core.cgvar_ptb[name_term])\n",
    "\n",
    "element_eigen = K_expr[name_eqn, name_term]\n",
    "if isinstance(element_eigen, expansion.InnerProduct1D):\n",
    "    arg_simp = element_eigen.opd_B\n",
    "else:\n",
    "    arg_simp = element_eigen\n",
    "\n",
    "# element_eigen = K_expr[name_eqn, name_term]\n",
    "# if isinstance(element_eigen, expansion.InnerProduct1D):\n",
    "#     arg_simp = element_eigen._opd_B.subs({expansion.m: sp.Integer(2) + k}).doit().subs({k: expansion.m - sp.Integer(2)})\n",
    "#     arg_simp_terms = simp_supp.collect_jacobi(arg_simp, evaluate=False)\n",
    "#     arg_simp = sp.Add(*[cf.simplify()*basis for basis, cf in arg_simp_terms.items()])\n",
    "#     # (element_eigen.args[1].subs({expansion.m: sp.Integer(2) + k}).doit().subs({k: expansion.m - sp.Integer(2)}).xreplace(sub_ab)/Jac.xreplace(sub_ab)).simplify().xreplace(sub_ab).simplify()\n",
    "# else:\n",
    "#     arg_simp = element_eigen\n",
    "\n",
    "display(term_pg_lin, term_eigen, arg_simp)"
   ]
  },
  {
   "cell_type": "code",
   "execution_count": null,
   "id": "1a45754c",
   "metadata": {},
   "outputs": [
    {
     "name": "stdout",
     "output_type": "stream",
     "text": [
      "1\n"
     ]
    },
    {
     "data": {
      "text/latex": [
       "$\\displaystyle \\frac{3 \\sqrt{2} i s^{2} s^{\\left|{m}\\right|} \\left(- 4 \\ell^{2} - 8 \\ell \\left|{m}\\right| - 24 \\ell - 4 m^{2} - 24 \\left|{m}\\right| - 35\\right) H^{3}{\\left(s \\right)} P_{\\ell - 2}^{\\left(\\frac{7}{2},\\left|{m}\\right| + 2\\right)}\\left(\\xi\\right)}{40} + \\frac{3 \\sqrt{2} i s^{\\left|{m}\\right|} \\left(2 \\ell m - 4 \\ell \\left|{m}\\right| - 4 m^{2} + 2 m \\left|{m}\\right| + 5 m + s^{2} \\left(- 2 \\ell m + 4 \\ell \\left|{m}\\right| + 10 \\ell + 4 m^{2} - 2 m \\left|{m}\\right| - 5 m + 20 \\left|{m}\\right| + 25\\right) - 10 \\left|{m}\\right|\\right) H{\\left(s \\right)} P_{\\ell - 1}^{\\left(\\frac{5}{2},\\left|{m}\\right| + 1\\right)}\\left(\\xi\\right)}{40} + \\frac{3 \\sqrt{2} i s^{\\left|{m}\\right|} \\left(- m^{2} + m \\left|{m}\\right| - 2 m + s^{2} \\left(m^{2} - m \\left|{m}\\right| + m + 3 \\left|{m}\\right|\\right) + 2 \\left|{m}\\right|\\right) H{\\left(s \\right)} P_{\\ell}^{\\left(\\frac{3}{2},\\left|{m}\\right|\\right)}\\left(\\xi\\right)}{40 s^{2}}$"
      ],
      "text/plain": [
       "3*sqrt(2)*I*s**2*s**Abs(m)*(-4*\\ell**2 - 8*\\ell*Abs(m) - 24*\\ell - 4*m**2 - 24*Abs(m) - 35)*H(s)**3*jacobi(\\ell - 2, 7/2, Abs(m) + 2, \\xi)/40 + 3*sqrt(2)*I*s**Abs(m)*(2*\\ell*m - 4*\\ell*Abs(m) - 4*m**2 + 2*m*Abs(m) + 5*m + s**2*(-2*\\ell*m + 4*\\ell*Abs(m) + 10*\\ell + 4*m**2 - 2*m*Abs(m) - 5*m + 20*Abs(m) + 25) - 10*Abs(m))*H(s)*jacobi(\\ell - 1, 5/2, Abs(m) + 1, \\xi)/40 + 3*sqrt(2)*I*s**Abs(m)*(-m**2 + m*Abs(m) - 2*m + s**2*(m**2 - m*Abs(m) + m + 3*Abs(m)) + 2*Abs(m))*H(s)*jacobi(\\ell, 3/2, Abs(m), \\xi)/(40*s**2)"
      ]
     },
     "metadata": {},
     "output_type": "display_data"
    }
   ],
   "source": [
    "proc_result = eigen.process_rational_jacobi(\n",
    "    K_expr['B_pp', 'Psi'],\n",
    "    xpd_cfg.recipe.base_expr,\n",
    "    xpd_cfg.recipe.test_expr\n",
    ")\n",
    "proc_result.opd_B"
   ]
  },
  {
   "cell_type": "code",
   "execution_count": null,
   "id": "3a652472",
   "metadata": {},
   "outputs": [
    {
     "data": {
      "text/latex": [
       "$\\displaystyle \\frac{\\sqrt{2} i s s^{\\left|{m - 1}\\right|} \\left(2 \\ell + 2 \\left|{m - 1}\\right| + 1\\right) P_{\\ell - 1}^{\\left(1,\\left|{m - 1}\\right| + \\frac{1}{2}\\right)}\\left(\\xi\\right)}{40 H{\\left(s \\right)}} + \\frac{\\sqrt{2} i s^{\\left|{m - 1}\\right|} \\left(- 2 m + s^{2} \\left(m - 2 \\left|{m - 1}\\right| - 2\\right) + 2 \\left|{m - 1}\\right| + 2\\right) P_{\\ell}^{\\left(0,\\left|{m - 1}\\right| - \\frac{1}{2}\\right)}\\left(\\xi\\right)}{80 s H^{3}{\\left(s \\right)}}$"
      ],
      "text/plain": [
       "sqrt(2)*I*s*s**Abs(m - 1)*(2*\\ell + 2*Abs(m - 1) + 1)*jacobi(\\ell - 1, 1, Abs(m - 1) + 1/2, \\xi)/(40*H(s)) + sqrt(2)*I*s**Abs(m - 1)*(-2*m + s**2*(m - 2*Abs(m - 1) - 2) + 2*Abs(m - 1) + 2)*jacobi(\\ell, 0, Abs(m - 1) - 1/2, \\xi)/(80*s*H(s)**3)"
      ]
     },
     "metadata": {},
     "output_type": "display_data"
    }
   ],
   "source": [
    "sample_expr = K_expr[name_eqn, name_term].opd_B\n",
    "\n",
    "# powers = symparser.powers_of(sample_expr, core.s, core.H, expansion.xi)\n",
    "# print(powers)\n",
    "display(sample_expr)\n"
   ]
  },
  {
   "cell_type": "code",
   "execution_count": null,
   "id": "71ea9471",
   "metadata": {},
   "outputs": [
    {
     "data": {
      "text/latex": [
       "$\\displaystyle \\left\\langle s^{\\left|{m + 2}\\right|} H^{2}{\\left(s \\right)} P_{\\ell'}^{\\left(2,\\left|{m + 2}\\right| - \\frac{1}{2}\\right)}\\left(\\xi\\right) \\, , \\, \\frac{45 i \\gamma^{2} s^{4} s^{\\left|{m}\\right|} \\left(s - 1\\right) \\left(s + 1\\right) \\left(25 s^{4} - 40 s^{2} + 19\\right) \\left(4 \\ell^{2} + 8 \\ell \\left|{m}\\right| + 24 \\ell + 4 m^{2} + 24 \\left|{m}\\right| + 35\\right) H^{2}{\\left(s \\right)} P_{\\ell - 2}^{\\left(\\frac{7}{2},\\left|{m}\\right| + 2\\right)}\\left(\\xi\\right)}{4 \\pi} - \\frac{45 i \\gamma^{2} s^{2} s^{\\left|{m}\\right|} \\left(s - 1\\right) \\left(s + 1\\right) \\left(25 s^{4} - 40 s^{2} + 19\\right) \\left(- 2 \\ell m s^{2} + 2 \\ell m + 4 \\ell s^{2} \\left|{m}\\right| + 10 \\ell s^{2} - 4 \\ell \\left|{m}\\right| + 4 m^{2} s^{2} - 4 m^{2} - 2 m s^{2} \\left|{m}\\right| - 5 m s^{2} + 2 m \\left|{m}\\right| + 5 m + 20 s^{2} \\left|{m}\\right| + 25 s^{2} - 10 \\left|{m}\\right|\\right) P_{\\ell - 1}^{\\left(\\frac{5}{2},\\left|{m}\\right| + 1\\right)}\\left(\\xi\\right)}{4 \\pi} - \\frac{45 i \\gamma^{2} s^{\\left|{m}\\right|} \\left(s - 1\\right) \\left(s + 1\\right) \\left(25 m^{2} s^{6} - 65 m^{2} s^{4} + 59 m^{2} s^{2} - 19 m^{2} - 25 m s^{6} \\left|{m}\\right| + 50 m s^{6} + 65 m s^{4} \\left|{m}\\right| - 140 m s^{4} - 59 m s^{2} \\left|{m}\\right| + 120 m s^{2} + 19 m \\left|{m}\\right| - 38 m + 75 s^{6} \\left|{m}\\right| - 70 s^{4} \\left|{m}\\right| - 23 s^{2} \\left|{m}\\right| + 38 \\left|{m}\\right|\\right) P_{\\ell}^{\\left(\\frac{3}{2},\\left|{m}\\right|\\right)}\\left(\\xi\\right)}{4 \\pi} \\right\\rangle_{s}$"
      ],
      "text/plain": [
       "InnerProduct1D(s**Abs(m + 2)*H(s)**2*jacobi(\\ell', 2, Abs(m + 2) - 1/2, \\xi), 45*I*\\gamma**2*s**4*s**Abs(m)*(s - 1)*(s + 1)*(25*s**4 - 40*s**2 + 19)*(4*\\ell**2 + 8*\\ell*Abs(m) + 24*\\ell + 4*m**2 + 24*Abs(m) + 35)*H(s)**2*jacobi(\\ell - 2, 7/2, Abs(m) + 2, \\xi)/(4*pi) - 45*I*\\gamma**2*s**2*s**Abs(m)*(s - 1)*(s + 1)*(25*s**4 - 40*s**2 + 19)*(-2*\\ell*m*s**2 + 2*\\ell*m + 4*\\ell*s**2*Abs(m) + 10*\\ell*s**2 - 4*\\ell*Abs(m) + 4*m**2*s**2 - 4*m**2 - 2*m*s**2*Abs(m) - 5*m*s**2 + 2*m*Abs(m) + 5*m + 20*s**2*Abs(m) + 25*s**2 - 10*Abs(m))*jacobi(\\ell - 1, 5/2, Abs(m) + 1, \\xi)/(4*pi) - 45*I*\\gamma**2*s**Abs(m)*(s - 1)*(s + 1)*(25*m**2*s**6 - 65*m**2*s**4 + 59*m**2*s**2 - 19*m**2 - 25*m*s**6*Abs(m) + 50*m*s**6 + 65*m*s**4*Abs(m) - 140*m*s**4 - 59*m*s**2*Abs(m) + 120*m*s**2 + 19*m*Abs(m) - 38*m + 75*s**6*Abs(m) - 70*s**4*Abs(m) - 23*s**2*Abs(m) + 38*Abs(m))*jacobi(\\ell, 3/2, Abs(m), \\xi)/(4*pi), 1, s, 0, 1)"
      ]
     },
     "metadata": {},
     "output_type": "display_data"
    }
   ],
   "source": [
    "sample_expr = K_expr[name_eqn, name_term]\n",
    "\n",
    "# powers = symparser.powers_of(sample_expr, core.s, core.H, expansion.xi)\n",
    "# print(powers)\n",
    "display(sample_expr)\n"
   ]
  },
  {
   "cell_type": "code",
   "execution_count": null,
   "id": "9c2b26c5",
   "metadata": {},
   "outputs": [
    {
     "name": "stdout",
     "output_type": "stream",
     "text": [
      "1479\n"
     ]
    }
   ],
   "source": [
    "print(len(sp.latex(sample_expr)))"
   ]
  },
  {
   "cell_type": "code",
   "execution_count": 37,
   "id": "5f18d4d2",
   "metadata": {},
   "outputs": [
    {
     "name": "stdout",
     "output_type": "stream",
     "text": [
      "CPU times: total: 297 ms\n",
      "Wall time: 502 ms\n"
     ]
    },
    {
     "data": {
      "text/latex": [
       "$\\displaystyle \\frac{45 i \\gamma^{2} s^{4} s^{\\left|{m}\\right|} \\left(s - 1\\right) \\left(s + 1\\right) \\left(25 s^{4} - 40 s^{2} + 19\\right) \\left(4 \\ell^{2} + 8 \\ell \\left|{m}\\right| + 24 \\ell + 4 m^{2} + 24 \\left|{m}\\right| + 35\\right) H^{2}{\\left(s \\right)} P_{\\ell - 2}^{\\left(\\frac{7}{2},\\left|{m}\\right| + 2\\right)}\\left(\\xi\\right)}{4 \\pi} - \\frac{45 i \\gamma^{2} s^{2} s^{\\left|{m}\\right|} \\left(s - 1\\right) \\left(s + 1\\right) \\left(25 s^{4} - 40 s^{2} + 19\\right) \\left(2 \\ell m H^{2}{\\left(s \\right)} + 10 \\ell s^{2} - 4 \\ell H^{2}{\\left(s \\right)} \\left|{m}\\right| - 4 m^{2} H^{2}{\\left(s \\right)} + 2 m H^{2}{\\left(s \\right)} \\left|{m}\\right| + 5 m H^{2}{\\left(s \\right)} + 10 s^{2} \\left|{m}\\right| + 25 s^{2} - 10 H^{2}{\\left(s \\right)} \\left|{m}\\right|\\right) P_{\\ell - 1}^{\\left(\\frac{5}{2},\\left|{m}\\right| + 1\\right)}\\left(\\xi\\right)}{4 \\pi} + \\frac{45 i \\gamma^{2} s^{\\left|{m}\\right|} \\left(25 m^{2} s^{6} H^{2}{\\left(s \\right)} - 65 m^{2} s^{4} H^{2}{\\left(s \\right)} + 59 m^{2} s^{2} H^{2}{\\left(s \\right)} - 19 m^{2} H^{2}{\\left(s \\right)} + 75 m s^{8} - 25 m s^{6} H^{2}{\\left(s \\right)} \\left|{m}\\right| + 125 m s^{6} H^{2}{\\left(s \\right)} - 195 m s^{6} + 65 m s^{4} H^{2}{\\left(s \\right)} \\left|{m}\\right| - 260 m s^{4} H^{2}{\\left(s \\right)} + 177 m s^{4} - 59 m s^{2} H^{2}{\\left(s \\right)} \\left|{m}\\right| + 177 m s^{2} H^{2}{\\left(s \\right)} - 57 m s^{2} + 19 m H^{2}{\\left(s \\right)} \\left|{m}\\right| - 38 m H^{2}{\\left(s \\right)} - 125 s^{8} \\left|{m}\\right| - 50 s^{6} H^{2}{\\left(s \\right)} \\left|{m}\\right| + 325 s^{6} \\left|{m}\\right| + 130 s^{4} H^{2}{\\left(s \\right)} \\left|{m}\\right| - 295 s^{4} \\left|{m}\\right| - 118 s^{2} H^{2}{\\left(s \\right)} \\left|{m}\\right| + 95 s^{2} \\left|{m}\\right| + 38 H^{2}{\\left(s \\right)} \\left|{m}\\right|\\right) P_{\\ell}^{\\left(\\frac{3}{2},\\left|{m}\\right|\\right)}\\left(\\xi\\right)}{4 \\pi}$"
      ],
      "text/plain": [
       "45*I*\\gamma**2*s**4*s**Abs(m)*(s - 1)*(s + 1)*(25*s**4 - 40*s**2 + 19)*(4*\\ell**2 + 8*\\ell*Abs(m) + 24*\\ell + 4*m**2 + 24*Abs(m) + 35)*H(s)**2*jacobi(\\ell - 2, 7/2, Abs(m) + 2, \\xi)/(4*pi) - 45*I*\\gamma**2*s**2*s**Abs(m)*(s - 1)*(s + 1)*(25*s**4 - 40*s**2 + 19)*(2*\\ell*m*H(s)**2 + 10*\\ell*s**2 - 4*\\ell*H(s)**2*Abs(m) - 4*m**2*H(s)**2 + 2*m*H(s)**2*Abs(m) + 5*m*H(s)**2 + 10*s**2*Abs(m) + 25*s**2 - 10*H(s)**2*Abs(m))*jacobi(\\ell - 1, 5/2, Abs(m) + 1, \\xi)/(4*pi) + 45*I*\\gamma**2*s**Abs(m)*(25*m**2*s**6*H(s)**2 - 65*m**2*s**4*H(s)**2 + 59*m**2*s**2*H(s)**2 - 19*m**2*H(s)**2 + 75*m*s**8 - 25*m*s**6*H(s)**2*Abs(m) + 125*m*s**6*H(s)**2 - 195*m*s**6 + 65*m*s**4*H(s)**2*Abs(m) - 260*m*s**4*H(s)**2 + 177*m*s**4 - 59*m*s**2*H(s)**2*Abs(m) + 177*m*s**2*H(s)**2 - 57*m*s**2 + 19*m*H(s)**2*Abs(m) - 38*m*H(s)**2 - 125*s**8*Abs(m) - 50*s**6*H(s)**2*Abs(m) + 325*s**6*Abs(m) + 130*s**4*H(s)**2*Abs(m) - 295*s**4*Abs(m) - 118*s**2*H(s)**2*Abs(m) + 95*s**2*Abs(m) + 38*H(s)**2*Abs(m))*jacobi(\\ell, 3/2, Abs(m), \\xi)/(4*pi)"
      ]
     },
     "execution_count": 37,
     "metadata": {},
     "output_type": "execute_result"
    }
   ],
   "source": [
    "%%time\n",
    "\n",
    "arg_expr = simp_supp.collect_jacobi(K_expr[name_eqn, name_term]._opd_B, evaluate=False)\n",
    "arg_expr_proc = dict()\n",
    "for basis, coeff in arg_expr.items():\n",
    "    factorised = coeff.together().factor()\n",
    "    mul_factors = list()\n",
    "    add_factors = sp.S.One\n",
    "    for factor in factorised.args:\n",
    "        if isinstance(factor, sp.Add) and (core.s in factor.atoms(sp.Symbol) or core.H in factor.atoms(sp.Symbol)):\n",
    "            add_factors *= factor\n",
    "        else:\n",
    "            mul_factors.append(factor)\n",
    "    add_factors = add_factors.subs({core.H: core.H_s}).expand()\n",
    "    add_factors = simp_supp.horner_delayed(add_factors, core.s)\n",
    "    mul_factors.append(add_factors)\n",
    "    mul_factors = sp.Mul(*mul_factors)\n",
    "    # display(mul_factors.subs({expansion.m: 2}, evaluate=False))\n",
    "    arg_expr_proc[basis] = factorised\n",
    "opd_B_rewrite = sp.Add(*[cf.factor()*basis for basis, cf in arg_expr_proc.items()], evaluate=False)\n",
    "opd_B_rewrite"
   ]
  },
  {
   "cell_type": "code",
   "execution_count": 36,
   "id": "b71025c8",
   "metadata": {},
   "outputs": [],
   "source": [
    "# Matrix elements\n",
    "dir_spec = os.path.join(dir_bg, 'Canonical')\n",
    "with open(os.path.join(dir_spec, 'matrix_expr_ideal_vsHjx.json'), 'r') as fread:\n",
    "    matrix_obj = json.load(fread)\n",
    "M_comp = expansion.SystemMatrix.deserialize(matrix_obj[\"M\"])\n",
    "K_comp = expansion.SystemMatrix.deserialize(matrix_obj[\"K\"])"
   ]
  },
  {
   "cell_type": "code",
   "execution_count": 37,
   "id": "dced9552",
   "metadata": {},
   "outputs": [
    {
     "data": {
      "text/latex": [
       "$\\displaystyle \\left\\langle s^{\\left|{m + 2}\\right|} H^{2}{\\left(s \\right)} P_{\\ell'}^{\\left(2,\\left|{m + 2}\\right| - \\frac{1}{2}\\right)}\\left(\\xi\\right) \\, , \\, \\frac{45 i \\gamma^{2} s^{4} s^{\\left|{m}\\right|} \\left(s - 1\\right) \\left(s + 1\\right) \\left(25 s^{4} - 40 s^{2} + 19\\right) \\left(4 \\ell^{2} + 8 \\ell \\left|{m}\\right| + 24 \\ell + 4 m^{2} + 24 \\left|{m}\\right| + 35\\right) H^{2}{\\left(s \\right)} P_{\\ell - 2}^{\\left(\\frac{7}{2},\\left|{m}\\right| + 2\\right)}\\left(\\xi\\right)}{4 \\pi} - \\frac{45 i \\gamma^{2} s^{2} s^{\\left|{m}\\right|} \\left(s - 1\\right) \\left(s + 1\\right) \\left(25 s^{4} - 40 s^{2} + 19\\right) \\left(- 2 \\ell m s^{2} + 2 \\ell m + 4 \\ell s^{2} \\left|{m}\\right| + 10 \\ell s^{2} - 4 \\ell \\left|{m}\\right| + 4 m^{2} s^{2} - 4 m^{2} - 2 m s^{2} \\left|{m}\\right| - 5 m s^{2} + 2 m \\left|{m}\\right| + 5 m + 20 s^{2} \\left|{m}\\right| + 25 s^{2} - 10 \\left|{m}\\right|\\right) P_{\\ell - 1}^{\\left(\\frac{5}{2},\\left|{m}\\right| + 1\\right)}\\left(\\xi\\right)}{4 \\pi} - \\frac{45 i \\gamma^{2} s^{\\left|{m}\\right|} \\left(s - 1\\right) \\left(s + 1\\right) \\left(25 m^{2} s^{6} - 65 m^{2} s^{4} + 59 m^{2} s^{2} - 19 m^{2} - 25 m s^{6} \\left|{m}\\right| + 50 m s^{6} + 65 m s^{4} \\left|{m}\\right| - 140 m s^{4} - 59 m s^{2} \\left|{m}\\right| + 120 m s^{2} + 19 m \\left|{m}\\right| - 38 m + 75 s^{6} \\left|{m}\\right| - 70 s^{4} \\left|{m}\\right| - 23 s^{2} \\left|{m}\\right| + 38 \\left|{m}\\right|\\right) P_{\\ell}^{\\left(\\frac{3}{2},\\left|{m}\\right|\\right)}\\left(\\xi\\right)}{4 \\pi} \\right\\rangle_{s}$"
      ],
      "text/plain": [
       "InnerProduct1D(s**Abs(m + 2)*H(s)**2*jacobi(\\ell', 2, Abs(m + 2) - 1/2, \\xi), 45*I*\\gamma**2*s**4*s**Abs(m)*(s - 1)*(s + 1)*(25*s**4 - 40*s**2 + 19)*(4*\\ell**2 + 8*\\ell*Abs(m) + 24*\\ell + 4*m**2 + 24*Abs(m) + 35)*H(s)**2*jacobi(\\ell - 2, 7/2, Abs(m) + 2, \\xi)/(4*pi) - 45*I*\\gamma**2*s**2*s**Abs(m)*(s - 1)*(s + 1)*(25*s**4 - 40*s**2 + 19)*(-2*\\ell*m*s**2 + 2*\\ell*m + 4*\\ell*s**2*Abs(m) + 10*\\ell*s**2 - 4*\\ell*Abs(m) + 4*m**2*s**2 - 4*m**2 - 2*m*s**2*Abs(m) - 5*m*s**2 + 2*m*Abs(m) + 5*m + 20*s**2*Abs(m) + 25*s**2 - 10*Abs(m))*jacobi(\\ell - 1, 5/2, Abs(m) + 1, \\xi)/(4*pi) - 45*I*\\gamma**2*s**Abs(m)*(s - 1)*(s + 1)*(25*m**2*s**6 - 65*m**2*s**4 + 59*m**2*s**2 - 19*m**2 - 25*m*s**6*Abs(m) + 50*m*s**6 + 65*m*s**4*Abs(m) - 140*m*s**4 - 59*m*s**2*Abs(m) + 120*m*s**2 + 19*m*Abs(m) - 38*m + 75*s**6*Abs(m) - 70*s**4*Abs(m) - 23*s**2*Abs(m) + 38*Abs(m))*jacobi(\\ell, 3/2, Abs(m), \\xi)/(4*pi), 1, s, 0, 1)"
      ]
     },
     "execution_count": 37,
     "metadata": {},
     "output_type": "execute_result"
    }
   ],
   "source": [
    "K_expr[name_eqn, name_term]"
   ]
  },
  {
   "cell_type": "code",
   "execution_count": 38,
   "id": "76ee20cd",
   "metadata": {},
   "outputs": [
    {
     "data": {
      "text/latex": [
       "$\\displaystyle \\left\\langle s^{\\left|{m + 2}\\right|} H^{2}{\\left(s \\right)} P_{\\ell'}^{\\left(2,\\left|{m + 2}\\right| - \\frac{1}{2}\\right)}\\left(\\xi\\right) \\, , \\, \\frac{45 i \\gamma^{2} s^{3} s^{\\left|{m}\\right|} \\left(s - 1\\right) \\left(s + 1\\right) \\left(25 s^{4} - 40 s^{2} + 19\\right) \\left(4 \\ell^{2} + 8 \\ell \\left|{m}\\right| + 24 \\ell + 4 m^{2} + 24 \\left|{m}\\right| + 35\\right) H^{2}{\\left(s \\right)} P_{\\ell - 2}^{\\left(\\frac{7}{2},\\left|{m}\\right| + 2\\right)}\\left(\\xi\\right)}{16 \\pi} - \\frac{45 i \\gamma^{2} s s^{\\left|{m}\\right|} \\left(s - 1\\right) \\left(s + 1\\right) \\left(25 s^{4} - 40 s^{2} + 19\\right) \\left(- 2 \\ell m s^{2} + 2 \\ell m + 4 \\ell s^{2} \\left|{m}\\right| + 10 \\ell s^{2} - 4 \\ell \\left|{m}\\right| + 4 m^{2} s^{2} - 4 m^{2} - 2 m s^{2} \\left|{m}\\right| - 5 m s^{2} + 2 m \\left|{m}\\right| + 5 m + 20 s^{2} \\left|{m}\\right| + 25 s^{2} - 10 \\left|{m}\\right|\\right) P_{\\ell - 1}^{\\left(\\frac{5}{2},\\left|{m}\\right| + 1\\right)}\\left(\\xi\\right)}{16 \\pi} - \\frac{45 i \\gamma^{2} s^{\\left|{m}\\right|} \\left(s - 1\\right) \\left(s + 1\\right) \\left(25 m^{2} s^{6} - 65 m^{2} s^{4} + 59 m^{2} s^{2} - 19 m^{2} - 25 m s^{6} \\left|{m}\\right| + 50 m s^{6} + 65 m s^{4} \\left|{m}\\right| - 140 m s^{4} - 59 m s^{2} \\left|{m}\\right| + 120 m s^{2} + 19 m \\left|{m}\\right| - 38 m + 75 s^{6} \\left|{m}\\right| - 70 s^{4} \\left|{m}\\right| - 23 s^{2} \\left|{m}\\right| + 38 \\left|{m}\\right|\\right) P_{\\ell}^{\\left(\\frac{3}{2},\\left|{m}\\right|\\right)}\\left(\\xi\\right)}{16 \\pi s} \\right\\rangle_{\\xi}$"
      ],
      "text/plain": [
       "InnerProduct1D(s**Abs(m + 2)*H(s)**2*jacobi(\\ell', 2, Abs(m + 2) - 1/2, \\xi), 45*I*\\gamma**2*s**3*s**Abs(m)*(s - 1)*(s + 1)*(25*s**4 - 40*s**2 + 19)*(4*\\ell**2 + 8*\\ell*Abs(m) + 24*\\ell + 4*m**2 + 24*Abs(m) + 35)*H(s)**2*jacobi(\\ell - 2, 7/2, Abs(m) + 2, \\xi)/(16*pi) - 45*I*\\gamma**2*s*s**Abs(m)*(s - 1)*(s + 1)*(25*s**4 - 40*s**2 + 19)*(-2*\\ell*m*s**2 + 2*\\ell*m + 4*\\ell*s**2*Abs(m) + 10*\\ell*s**2 - 4*\\ell*Abs(m) + 4*m**2*s**2 - 4*m**2 - 2*m*s**2*Abs(m) - 5*m*s**2 + 2*m*Abs(m) + 5*m + 20*s**2*Abs(m) + 25*s**2 - 10*Abs(m))*jacobi(\\ell - 1, 5/2, Abs(m) + 1, \\xi)/(16*pi) - 45*I*\\gamma**2*s**Abs(m)*(s - 1)*(s + 1)*(25*m**2*s**6 - 65*m**2*s**4 + 59*m**2*s**2 - 19*m**2 - 25*m*s**6*Abs(m) + 50*m*s**6 + 65*m*s**4*Abs(m) - 140*m*s**4 - 59*m*s**2*Abs(m) + 120*m*s**2 + 19*m*Abs(m) - 38*m + 75*s**6*Abs(m) - 70*s**4*Abs(m) - 23*s**2*Abs(m) + 38*Abs(m))*jacobi(\\ell, 3/2, Abs(m), \\xi)/(16*pi*s), 1, \\xi, -1, 1)"
      ]
     },
     "execution_count": 38,
     "metadata": {},
     "output_type": "execute_result"
    }
   ],
   "source": [
    "K_comp[name_eqn, name_term]"
   ]
  },
  {
   "cell_type": "code",
   "execution_count": 57,
   "id": "2fb907e2",
   "metadata": {},
   "outputs": [
    {
     "data": {
      "text/plain": [
       "[[Abs(m) - 1, 0], [Abs(m) + 1, 0], [Abs(m) + 3, 2]]"
      ]
     },
     "execution_count": 57,
     "metadata": {},
     "output_type": "execute_result"
    }
   ],
   "source": [
    "from pg_utils.numerics import symparser\n",
    "\n",
    "prefs = symparser.leading_powers_of(K_comp[name_eqn, name_term].opd_B, core.s, core.H)\n",
    "prefs"
   ]
  },
  {
   "cell_type": "code",
   "execution_count": 72,
   "id": "fae5cf6f",
   "metadata": {},
   "outputs": [
    {
     "data": {
      "text/plain": [
       "([0, 0, 2], [Abs(m) - 1, Abs(m) + 1, Abs(m) + 3], [\\ell, \\ell - 2, \\ell - 1])"
      ]
     },
     "execution_count": 72,
     "metadata": {},
     "output_type": "execute_result"
    }
   ],
   "source": [
    "from pg_utils.numerics import matrices\n",
    "\n",
    "prefs = matrices.InnerQuad_GaussJacobi.get_powers_pq(\n",
    "    core.H, core.s, expansion.xi, K_comp[name_eqn, name_term].opd_B)\n",
    "prefs"
   ]
  },
  {
   "cell_type": "markdown",
   "id": "ce44ae89-63e5-431d-979d-8a51809c9cef",
   "metadata": {},
   "source": [
    "### Background field"
   ]
  },
  {
   "cell_type": "code",
   "execution_count": 9,
   "id": "1da329eb-4ec8-4cf8-b52c-6aedabbcf225",
   "metadata": {},
   "outputs": [
    {
     "data": {
      "text/latex": [
       "$\\displaystyle U^{0}_{s}{\\left(s,\\phi,z \\right)} = 0$"
      ],
      "text/plain": [
       "Eq(U_s^0(s, \\phi, z), 0)"
      ]
     },
     "metadata": {},
     "output_type": "display_data"
    },
    {
     "data": {
      "text/latex": [
       "$\\displaystyle U^{0}_{\\phi}{\\left(s,\\phi,z \\right)} = 0$"
      ],
      "text/plain": [
       "Eq(U_\\phi^0(s, \\phi, z), 0)"
      ]
     },
     "metadata": {},
     "output_type": "display_data"
    },
    {
     "data": {
      "text/latex": [
       "$\\displaystyle U^{0}_{z}{\\left(s,\\phi,z \\right)} = 0$"
      ],
      "text/plain": [
       "Eq(U_z^0(s, \\phi, z), 0)"
      ]
     },
     "metadata": {},
     "output_type": "display_data"
    },
    {
     "data": {
      "text/latex": [
       "$\\displaystyle B^{0}_{s}{\\left(s,\\phi,z \\right)} = \\frac{3 \\sqrt{5} \\gamma s \\left(- 5 s^{2} - 15 z^{2} + 7\\right)}{2 \\sqrt{\\pi}}$"
      ],
      "text/plain": [
       "Eq(B_s^0(s, \\phi, z), 3*sqrt(5)*\\gamma*s*(-5*s**2 - 15*z**2 + 7)/(2*sqrt(pi)))"
      ]
     },
     "metadata": {},
     "output_type": "display_data"
    },
    {
     "data": {
      "text/latex": [
       "$\\displaystyle B^{0}_{\\phi}{\\left(s,\\phi,z \\right)} = 0$"
      ],
      "text/plain": [
       "Eq(B_\\phi^0(s, \\phi, z), 0)"
      ]
     },
     "metadata": {},
     "output_type": "display_data"
    },
    {
     "data": {
      "text/latex": [
       "$\\displaystyle B^{0}_{z}{\\left(s,\\phi,z \\right)} = \\frac{3 \\sqrt{5} \\gamma z \\left(10 s^{2} + 5 z^{2} - 7\\right)}{\\sqrt{\\pi}}$"
      ],
      "text/plain": [
       "Eq(B_z^0(s, \\phi, z), 3*sqrt(5)*\\gamma*z*(10*s**2 + 5*z**2 - 7)/sqrt(pi))"
      ]
     },
     "metadata": {},
     "output_type": "display_data"
    }
   ],
   "source": [
    "from pg_utils.pg_model import bg_fields\n",
    "\n",
    "bg_cfg = bg_fields.Background_S_l2_n1()\n",
    "\n",
    "display_equality(core.U0_vec, bg_cfg.U0_val)\n",
    "display_equality(core.B0_vec, bg_cfg.B0_val)"
   ]
  },
  {
   "cell_type": "code",
   "execution_count": 10,
   "id": "888dd691-f212-4c8b-96bb-95ebc26bfca0",
   "metadata": {},
   "outputs": [
    {
     "data": {
      "text/latex": [
       "$\\displaystyle \\Psi^{0}{\\left(s,\\phi \\right)} = 0$"
      ],
      "text/plain": [
       "Eq(\\Psi^0(s, \\phi), 0)"
      ]
     },
     "metadata": {},
     "output_type": "display_data"
    },
    {
     "data": {
      "text/latex": [
       "$\\displaystyle \\overline{M_{ss}}^0{\\left(s,\\phi \\right)} = \\frac{\\gamma^{2} s^{2} \\sqrt{1 - s^{2}} \\left(450 s^{4} - 900 s^{2} + 540\\right)}{\\pi}$"
      ],
      "text/plain": [
       "Eq(\\overline{M_{ss}}^0(s, \\phi), \\gamma**2*s**2*sqrt(1 - s**2)*(450*s**4 - 900*s**2 + 540)/pi)"
      ]
     },
     "metadata": {},
     "output_type": "display_data"
    },
    {
     "data": {
      "text/latex": [
       "$\\displaystyle \\overline{M_{\\phi\\phi}}^0{\\left(s,\\phi \\right)} = 0$"
      ],
      "text/plain": [
       "Eq(\\overline{M_{\\phi\\phi}}^0(s, \\phi), 0)"
      ]
     },
     "metadata": {},
     "output_type": "display_data"
    },
    {
     "data": {
      "text/latex": [
       "$\\displaystyle \\overline{M_{s\\phi}}^0{\\left(s,\\phi \\right)} = 0$"
      ],
      "text/plain": [
       "Eq(\\overline{M_{s\\phi}}^0(s, \\phi), 0)"
      ]
     },
     "metadata": {},
     "output_type": "display_data"
    },
    {
     "data": {
      "text/latex": [
       "$\\displaystyle \\widetilde{M_{sz}}^0{\\left(s,\\phi \\right)} = \\frac{45 \\gamma^{2} s \\left(- 25 s^{6} + 30 s^{4} + 3 s^{2} - 8\\right)}{4 \\pi}$"
      ],
      "text/plain": [
       "Eq(\\widetilde{M_{sz}}^0(s, \\phi), 45*\\gamma**2*s*(-25*s**6 + 30*s**4 + 3*s**2 - 8)/(4*pi))"
      ]
     },
     "metadata": {},
     "output_type": "display_data"
    },
    {
     "data": {
      "text/latex": [
       "$\\displaystyle \\widetilde{M_{\\phi z}}^0{\\left(s,\\phi \\right)} = 0$"
      ],
      "text/plain": [
       "Eq(\\widetilde{M_{\\phi z}}^0(s, \\phi), 0)"
      ]
     },
     "metadata": {},
     "output_type": "display_data"
    },
    {
     "data": {
      "text/latex": [
       "$\\displaystyle \\widetilde{zM_{ss}}^0{\\left(s,\\phi \\right)} = \\frac{45 \\gamma^{2} s^{2} \\left(- 25 s^{6} + 65 s^{4} - 59 s^{2} + 19\\right)}{4 \\pi}$"
      ],
      "text/plain": [
       "Eq(\\widetilde{zM_{ss}}^0(s, \\phi), 45*\\gamma**2*s**2*(-25*s**6 + 65*s**4 - 59*s**2 + 19)/(4*pi))"
      ]
     },
     "metadata": {},
     "output_type": "display_data"
    },
    {
     "data": {
      "text/latex": [
       "$\\displaystyle \\widetilde{zM_{\\phi\\phi}}^0{\\left(s,\\phi \\right)} = 0$"
      ],
      "text/plain": [
       "Eq(\\widetilde{zM_{\\phi\\phi}}^0(s, \\phi), 0)"
      ]
     },
     "metadata": {},
     "output_type": "display_data"
    },
    {
     "data": {
      "text/latex": [
       "$\\displaystyle \\widetilde{zM_{s\\phi}}^0{\\left(s,\\phi \\right)} = 0$"
      ],
      "text/plain": [
       "Eq(\\widetilde{zM_{s\\phi}}^0(s, \\phi), 0)"
      ]
     },
     "metadata": {},
     "output_type": "display_data"
    },
    {
     "data": {
      "text/latex": [
       "$\\displaystyle B_{s}^{0e}{\\left(s,\\phi \\right)} = \\frac{3 \\sqrt{5} \\gamma s \\left(7 - 5 s^{2}\\right)}{2 \\sqrt{\\pi}}$"
      ],
      "text/plain": [
       "Eq(B_{s}^{0e}(s, \\phi), 3*sqrt(5)*\\gamma*s*(7 - 5*s**2)/(2*sqrt(pi)))"
      ]
     },
     "metadata": {},
     "output_type": "display_data"
    },
    {
     "data": {
      "text/latex": [
       "$\\displaystyle B_{\\phi}^{0e}{\\left(s,\\phi \\right)} = 0$"
      ],
      "text/plain": [
       "Eq(B_{\\phi}^{0e}(s, \\phi), 0)"
      ]
     },
     "metadata": {},
     "output_type": "display_data"
    },
    {
     "data": {
      "text/latex": [
       "$\\displaystyle B_{z}^{0e}{\\left(s,\\phi \\right)} = 0$"
      ],
      "text/plain": [
       "Eq(B_{z}^{0e}(s, \\phi), 0)"
      ]
     },
     "metadata": {},
     "output_type": "display_data"
    },
    {
     "data": {
      "text/latex": [
       "$\\displaystyle B_{s, z}^{0e}{\\left(s,\\phi \\right)} = 0$"
      ],
      "text/plain": [
       "Eq(B_{s, z}^{0e}(s, \\phi), 0)"
      ]
     },
     "metadata": {},
     "output_type": "display_data"
    },
    {
     "data": {
      "text/latex": [
       "$\\displaystyle B_{\\phi, z}^{0e}{\\left(s,\\phi \\right)} = 0$"
      ],
      "text/plain": [
       "Eq(B_{\\phi, z}^{0e}(s, \\phi), 0)"
      ]
     },
     "metadata": {},
     "output_type": "display_data"
    },
    {
     "data": {
      "text/latex": [
       "$\\displaystyle B_{r1}^0{\\left(\\theta,\\phi \\right)} = \\frac{3 \\sqrt{5} \\gamma \\left(- 5 s^{4} + 5 s^{2} z^{2} + 7 s^{2} + 10 z^{4} - 14 z^{2}\\right)}{2 \\sqrt{\\pi}}$"
      ],
      "text/plain": [
       "Eq(B_{r1}^0(\\theta, \\phi), 3*sqrt(5)*\\gamma*(-5*s**4 + 5*s**2*z**2 + 7*s**2 + 10*z**4 - 14*z**2)/(2*sqrt(pi)))"
      ]
     },
     "metadata": {},
     "output_type": "display_data"
    },
    {
     "data": {
      "text/latex": [
       "$\\displaystyle B_s^{0+}{\\left(s,\\phi \\right)} = \\frac{3 \\sqrt{5} \\gamma s \\left(5 s^{2} - 4\\right)}{\\sqrt{\\pi}}$"
      ],
      "text/plain": [
       "Eq(B_s^{0+}(s, \\phi), 3*sqrt(5)*\\gamma*s*(5*s**2 - 4)/sqrt(pi))"
      ]
     },
     "metadata": {},
     "output_type": "display_data"
    },
    {
     "data": {
      "text/latex": [
       "$\\displaystyle B_\\phi^{0+}{\\left(s,\\phi \\right)} = 0$"
      ],
      "text/plain": [
       "Eq(B_\\phi^{0+}(s, \\phi), 0)"
      ]
     },
     "metadata": {},
     "output_type": "display_data"
    },
    {
     "data": {
      "text/latex": [
       "$\\displaystyle B_z^{0+}{\\left(s,\\phi \\right)} = \\frac{3 \\gamma \\sqrt{5 - 5 s^{2}} \\left(5 s^{2} - 2\\right)}{\\sqrt{\\pi}}$"
      ],
      "text/plain": [
       "Eq(B_z^{0+}(s, \\phi), 3*\\gamma*sqrt(5 - 5*s**2)*(5*s**2 - 2)/sqrt(pi))"
      ]
     },
     "metadata": {},
     "output_type": "display_data"
    },
    {
     "data": {
      "text/latex": [
       "$\\displaystyle B_s^{0-}{\\left(s,\\phi \\right)} = \\frac{3 \\sqrt{5} \\gamma s \\left(5 s^{2} - 4\\right)}{\\sqrt{\\pi}}$"
      ],
      "text/plain": [
       "Eq(B_s^{0-}(s, \\phi), 3*sqrt(5)*\\gamma*s*(5*s**2 - 4)/sqrt(pi))"
      ]
     },
     "metadata": {},
     "output_type": "display_data"
    },
    {
     "data": {
      "text/latex": [
       "$\\displaystyle B_\\phi^{0-}{\\left(s,\\phi \\right)} = 0$"
      ],
      "text/plain": [
       "Eq(B_\\phi^{0-}(s, \\phi), 0)"
      ]
     },
     "metadata": {},
     "output_type": "display_data"
    },
    {
     "data": {
      "text/latex": [
       "$\\displaystyle B_z^{0-}{\\left(s,\\phi \\right)} = \\frac{3 \\gamma \\left(2 - 5 s^{2}\\right) \\sqrt{5 - 5 s^{2}}}{\\sqrt{\\pi}}$"
      ],
      "text/plain": [
       "Eq(B_z^{0-}(s, \\phi), 3*\\gamma*(2 - 5*s**2)*sqrt(5 - 5*s**2)/sqrt(pi))"
      ]
     },
     "metadata": {},
     "output_type": "display_data"
    }
   ],
   "source": [
    "bg_pg = base_utils.assemble_background(bg_cfg.B0_val, mode='PG')\n",
    "# bg_pg.apply(lambda expr: expr.subs({core.H_s: core.H, core.H_s**2: core.H**2}).simplify(), inplace=True)\n",
    "bg_pg.apply(lambda expr: expr.subs({core.H: core.H_s}).simplify(), inplace=True)\n",
    "display_equality(core.pgvar_bg, bg_pg)"
   ]
  },
  {
   "cell_type": "code",
   "execution_count": null,
   "id": "e09106d0-c8a1-48ea-86fd-3aa5f53fe431",
   "metadata": {},
   "outputs": [],
   "source": []
  }
 ],
 "metadata": {
  "kernelspec": {
   "display_name": "geomag",
   "language": "python",
   "name": "python3"
  },
  "language_info": {
   "codemirror_mode": {
    "name": "ipython",
    "version": 3
   },
   "file_extension": ".py",
   "mimetype": "text/x-python",
   "name": "python",
   "nbconvert_exporter": "python",
   "pygments_lexer": "ipython3",
   "version": "3.8.13"
  }
 },
 "nbformat": 4,
 "nbformat_minor": 5
}
