{
 "cells": [
  {
   "cell_type": "markdown",
   "id": "d5b61716-e79f-4c56-a273-95ac71416505",
   "metadata": {},
   "source": [
    "# Inspecting intermediate results of the eigenvalue solver"
   ]
  },
  {
   "cell_type": "code",
   "execution_count": 25,
   "id": "bfb400fc-5288-4518-bd0a-96dceec04f86",
   "metadata": {},
   "outputs": [],
   "source": [
    "import sympy as sp\n",
    "import numpy as np\n",
    "import matplotlib.pyplot as plt\n",
    "from pg_utils.pg_model import base, core, expansion\n",
    "\n",
    "def display_equality(lhs, rhs, _filter=lambda lhs, rhs, idx: True):\n",
    "    display(*(sp.Eq(lhs_tmp, rhs[idx]) for idx, lhs_tmp in enumerate(lhs) if _filter(lhs_tmp, rhs[idx], idx)))\n",
    "\n",
    "def display_eqs(eqs, _filter=lambda eq, idx: True):\n",
    "    display(*(eq for idx, eq in enumerate(eqs) if _filter(eq, idx)))"
   ]
  },
  {
   "cell_type": "markdown",
   "id": "531d6e6b-791c-41e8-8fba-a02d62315b32",
   "metadata": {},
   "source": [
    "---\n",
    "## Background field"
   ]
  },
  {
   "cell_type": "code",
   "execution_count": 5,
   "id": "6992e308-aae2-45be-bfab-f4952c52c11e",
   "metadata": {},
   "outputs": [
    {
     "data": {
      "text/latex": [
       "$\\displaystyle U^{0}_{s}{\\left(s,\\phi,z \\right)} = 0$"
      ],
      "text/plain": [
       "Eq(U_s^0(s, \\phi, z), 0)"
      ]
     },
     "metadata": {},
     "output_type": "display_data"
    },
    {
     "data": {
      "text/latex": [
       "$\\displaystyle U^{0}_{\\phi}{\\left(s,\\phi,z \\right)} = 0$"
      ],
      "text/plain": [
       "Eq(U_\\phi^0(s, \\phi, z), 0)"
      ]
     },
     "metadata": {},
     "output_type": "display_data"
    },
    {
     "data": {
      "text/latex": [
       "$\\displaystyle U^{0}_{z}{\\left(s,\\phi,z \\right)} = 0$"
      ],
      "text/plain": [
       "Eq(U_z^0(s, \\phi, z), 0)"
      ]
     },
     "metadata": {},
     "output_type": "display_data"
    },
    {
     "data": {
      "text/latex": [
       "$\\displaystyle B^{0}_{s}{\\left(s,\\phi,z \\right)} = 0$"
      ],
      "text/plain": [
       "Eq(B_s^0(s, \\phi, z), 0)"
      ]
     },
     "metadata": {},
     "output_type": "display_data"
    },
    {
     "data": {
      "text/latex": [
       "$\\displaystyle B^{0}_{\\phi}{\\left(s,\\phi,z \\right)} = \\gamma s \\left(- s^{2} - z^{2} + 1\\right)$"
      ],
      "text/plain": [
       "Eq(B_\\phi^0(s, \\phi, z), \\gamma*s*(-s**2 - z**2 + 1))"
      ]
     },
     "metadata": {},
     "output_type": "display_data"
    },
    {
     "data": {
      "text/latex": [
       "$\\displaystyle B^{0}_{z}{\\left(s,\\phi,z \\right)} = 0$"
      ],
      "text/plain": [
       "Eq(B_z^0(s, \\phi, z), 0)"
      ]
     },
     "metadata": {},
     "output_type": "display_data"
    }
   ],
   "source": [
    "import bg_toroidal_quadrupolar as bg_cfg\n",
    "\n",
    "display_equality(core.U0_vec, bg_cfg.U0_val)\n",
    "display_equality(core.B0_vec, bg_cfg.B0_val)"
   ]
  },
  {
   "cell_type": "markdown",
   "id": "47043669-2bbc-46b3-af99-5a83e5f8f4d6",
   "metadata": {},
   "source": [
    "---\n",
    "## Equations"
   ]
  },
  {
   "cell_type": "markdown",
   "id": "151feddc-8943-4788-94fb-ba0e64b59d8a",
   "metadata": {},
   "source": [
    "### The PG system"
   ]
  },
  {
   "cell_type": "code",
   "execution_count": 6,
   "id": "1a80b5d7-2120-4054-8920-1724053bb89a",
   "metadata": {},
   "outputs": [
    {
     "data": {
      "text/latex": [
       "$\\displaystyle \\frac{s^{2} \\frac{\\partial^{2}}{\\partial t\\partial s} \\psi{\\left(s,\\phi,t \\right)}}{H^{3}{\\left(s \\right)}} + \\frac{s \\frac{\\partial^{3}}{\\partial t\\partial s^{2}} \\psi{\\left(s,\\phi,t \\right)}}{H{\\left(s \\right)}} + \\frac{s \\frac{\\partial^{3}}{\\partial t\\partial \\phi^{2}} \\psi{\\left(s,\\phi,t \\right)}}{2 H^{3}{\\left(s \\right)}} + \\frac{\\frac{\\partial^{2}}{\\partial t\\partial s} \\psi{\\left(s,\\phi,t \\right)}}{H{\\left(s \\right)}} + \\frac{\\frac{\\partial^{3}}{\\partial t\\partial \\phi^{2}} \\psi{\\left(s,\\phi,t \\right)}}{s H{\\left(s \\right)}} = \\frac{\\gamma s^{6} b^{+}_{s}{\\left(s,\\phi,t \\right)}}{2 H^{4}{\\left(s \\right)}} + \\frac{\\gamma s^{6} b^{-}_{s}{\\left(s,\\phi,t \\right)}}{2 H^{4}{\\left(s \\right)}} + \\frac{\\gamma s^{5} \\frac{\\partial}{\\partial s} b^{+}_{s}{\\left(s,\\phi,t \\right)}}{2 H^{2}{\\left(s \\right)}} + \\frac{\\gamma s^{5} \\frac{\\partial}{\\partial s} b^{-}_{s}{\\left(s,\\phi,t \\right)}}{2 H^{2}{\\left(s \\right)}} + \\frac{\\gamma s^{4} z^{2} b^{+}_{s}{\\left(s,\\phi,t \\right)}}{2 H^{4}{\\left(s \\right)}} + \\frac{\\gamma s^{4} z^{2} b^{-}_{s}{\\left(s,\\phi,t \\right)}}{2 H^{4}{\\left(s \\right)}} + \\frac{\\gamma s^{4} \\frac{\\partial}{\\partial s} b^{+}_{z}{\\left(s,\\phi,t \\right)}}{2 H{\\left(s \\right)}} - \\frac{\\gamma s^{4} \\frac{\\partial}{\\partial s} b^{-}_{z}{\\left(s,\\phi,t \\right)}}{2 H{\\left(s \\right)}} + \\frac{5 \\gamma s^{4} b^{+}_{s}{\\left(s,\\phi,t \\right)}}{2 H^{2}{\\left(s \\right)}} + \\frac{5 \\gamma s^{4} b^{-}_{s}{\\left(s,\\phi,t \\right)}}{2 H^{2}{\\left(s \\right)}} + \\frac{4 \\gamma s^{4} b_{es}{\\left(s,\\phi,t \\right)}}{H^{2}{\\left(s \\right)}} + \\frac{\\gamma s^{4} \\frac{\\partial}{\\partial \\phi} b_{e\\phi}{\\left(s,\\phi,t \\right)}}{H^{2}{\\left(s \\right)}} - \\frac{\\gamma s^{4} b^{+}_{s}{\\left(s,\\phi,t \\right)}}{2 H^{4}{\\left(s \\right)}} - \\frac{\\gamma s^{4} b^{-}_{s}{\\left(s,\\phi,t \\right)}}{2 H^{4}{\\left(s \\right)}} + \\frac{\\gamma s^{3} z^{2} \\frac{\\partial}{\\partial s} b^{+}_{s}{\\left(s,\\phi,t \\right)}}{2 H^{2}{\\left(s \\right)}} + \\frac{\\gamma s^{3} z^{2} \\frac{\\partial}{\\partial s} b^{-}_{s}{\\left(s,\\phi,t \\right)}}{2 H^{2}{\\left(s \\right)}} + \\frac{2 \\gamma s^{3} b^{+}_{z}{\\left(s,\\phi,t \\right)}}{H{\\left(s \\right)}} - \\frac{2 \\gamma s^{3} b^{-}_{z}{\\left(s,\\phi,t \\right)}}{H{\\left(s \\right)}} - \\frac{\\gamma s^{3} \\frac{\\partial}{\\partial s} b^{+}_{s}{\\left(s,\\phi,t \\right)}}{2 H^{2}{\\left(s \\right)}} - \\frac{\\gamma s^{3} \\frac{\\partial}{\\partial s} b^{-}_{s}{\\left(s,\\phi,t \\right)}}{2 H^{2}{\\left(s \\right)}} + \\frac{\\gamma s^{2} z^{2} \\frac{\\partial}{\\partial s} b^{+}_{z}{\\left(s,\\phi,t \\right)}}{2 H{\\left(s \\right)}} - \\frac{\\gamma s^{2} z^{2} \\frac{\\partial}{\\partial s} b^{-}_{z}{\\left(s,\\phi,t \\right)}}{2 H{\\left(s \\right)}} + \\frac{3 \\gamma s^{2} z^{2} b^{+}_{s}{\\left(s,\\phi,t \\right)}}{2 H^{2}{\\left(s \\right)}} + \\frac{3 \\gamma s^{2} z^{2} b^{-}_{s}{\\left(s,\\phi,t \\right)}}{2 H^{2}{\\left(s \\right)}} - \\frac{\\gamma s^{2} \\frac{\\partial}{\\partial s} b^{+}_{z}{\\left(s,\\phi,t \\right)}}{2 H{\\left(s \\right)}} + \\frac{\\gamma s^{2} \\frac{\\partial}{\\partial s} b^{-}_{z}{\\left(s,\\phi,t \\right)}}{2 H{\\left(s \\right)}} - \\frac{3 \\gamma s^{2} b^{+}_{s}{\\left(s,\\phi,t \\right)}}{2 H^{2}{\\left(s \\right)}} - \\frac{3 \\gamma s^{2} b^{-}_{s}{\\left(s,\\phi,t \\right)}}{2 H^{2}{\\left(s \\right)}} - \\frac{2 \\gamma s^{2} b_{es}{\\left(s,\\phi,t \\right)}}{H^{2}{\\left(s \\right)}} - \\frac{\\gamma s^{2} \\frac{\\partial}{\\partial \\phi} b_{e\\phi}{\\left(s,\\phi,t \\right)}}{H^{2}{\\left(s \\right)}} + \\frac{\\gamma s z^{2} b^{+}_{z}{\\left(s,\\phi,t \\right)}}{H{\\left(s \\right)}} - \\frac{\\gamma s z^{2} b^{-}_{z}{\\left(s,\\phi,t \\right)}}{H{\\left(s \\right)}} - \\frac{\\gamma s b^{+}_{z}{\\left(s,\\phi,t \\right)}}{H{\\left(s \\right)}} + \\frac{\\gamma s b^{-}_{z}{\\left(s,\\phi,t \\right)}}{H{\\left(s \\right)}} - \\frac{s \\frac{\\partial^{2}}{\\partial s^{2}} \\overline{m_{s\\phi}}{\\left(s,\\phi,t \\right)}}{2 H{\\left(s \\right)}} - \\frac{s \\frac{\\partial^{2}}{\\partial s\\partial \\phi} \\widetilde{m_{sz}}{\\left(s,\\phi,t \\right)}}{2 H^{2}{\\left(s \\right)}} - \\frac{3 \\frac{\\partial}{\\partial s} \\overline{m_{s\\phi}}{\\left(s,\\phi,t \\right)}}{2 H{\\left(s \\right)}} - \\frac{\\frac{\\partial^{2}}{\\partial s\\partial \\phi} \\overline{m_{\\phi\\phi}}{\\left(s,\\phi,t \\right)}}{2 H{\\left(s \\right)}} + \\frac{\\frac{\\partial^{2}}{\\partial s\\partial \\phi} \\overline{m_{ss}}{\\left(s,\\phi,t \\right)}}{2 H{\\left(s \\right)}} - \\frac{\\frac{\\partial^{2}}{\\partial \\phi^{2}} \\widetilde{m_{\\phi z}}{\\left(s,\\phi,t \\right)}}{2 H^{2}{\\left(s \\right)}} - \\frac{\\frac{\\partial}{\\partial \\phi} \\widetilde{m_{sz}}{\\left(s,\\phi,t \\right)}}{2 H^{2}{\\left(s \\right)}} - \\frac{\\frac{\\partial}{\\partial \\phi} \\overline{m_{\\phi\\phi}}{\\left(s,\\phi,t \\right)}}{2 s H{\\left(s \\right)}} + \\frac{\\frac{\\partial^{2}}{\\partial \\phi^{2}} \\overline{m_{s\\phi}}{\\left(s,\\phi,t \\right)}}{2 s H{\\left(s \\right)}} + \\frac{\\frac{\\partial}{\\partial \\phi} \\overline{m_{ss}}{\\left(s,\\phi,t \\right)}}{2 s H{\\left(s \\right)}} + \\frac{2 s \\frac{\\partial}{\\partial \\phi} \\psi{\\left(s,\\phi,t \\right)}}{\\mathrm{Le} H^{3}{\\left(s \\right)}}$"
      ],
      "text/plain": [
       "Eq(s**2*Derivative(\\psi(s, \\phi, t), s, t)/H(s)**3 + s*Derivative(\\psi(s, \\phi, t), (s, 2), t)/H(s) + s*Derivative(\\psi(s, \\phi, t), (\\phi, 2), t)/(2*H(s)**3) + Derivative(\\psi(s, \\phi, t), s, t)/H(s) + Derivative(\\psi(s, \\phi, t), (\\phi, 2), t)/(s*H(s)), \\gamma*s**6*b_s^+(s, \\phi, t)/(2*H(s)**4) + \\gamma*s**6*b_s^-(s, \\phi, t)/(2*H(s)**4) + \\gamma*s**5*Derivative(b_s^+(s, \\phi, t), s)/(2*H(s)**2) + \\gamma*s**5*Derivative(b_s^-(s, \\phi, t), s)/(2*H(s)**2) + \\gamma*s**4*z**2*b_s^+(s, \\phi, t)/(2*H(s)**4) + \\gamma*s**4*z**2*b_s^-(s, \\phi, t)/(2*H(s)**4) + \\gamma*s**4*Derivative(b_z^+(s, \\phi, t), s)/(2*H(s)) - \\gamma*s**4*Derivative(b_z^-(s, \\phi, t), s)/(2*H(s)) + 5*\\gamma*s**4*b_s^+(s, \\phi, t)/(2*H(s)**2) + 5*\\gamma*s**4*b_s^-(s, \\phi, t)/(2*H(s)**2) + 4*\\gamma*s**4*b_{es}(s, \\phi, t)/H(s)**2 + \\gamma*s**4*Derivative(b_{e\\phi}(s, \\phi, t), \\phi)/H(s)**2 - \\gamma*s**4*b_s^+(s, \\phi, t)/(2*H(s)**4) - \\gamma*s**4*b_s^-(s, \\phi, t)/(2*H(s)**4) + \\gamma*s**3*z**2*Derivative(b_s^+(s, \\phi, t), s)/(2*H(s)**2) + \\gamma*s**3*z**2*Derivative(b_s^-(s, \\phi, t), s)/(2*H(s)**2) + 2*\\gamma*s**3*b_z^+(s, \\phi, t)/H(s) - 2*\\gamma*s**3*b_z^-(s, \\phi, t)/H(s) - \\gamma*s**3*Derivative(b_s^+(s, \\phi, t), s)/(2*H(s)**2) - \\gamma*s**3*Derivative(b_s^-(s, \\phi, t), s)/(2*H(s)**2) + \\gamma*s**2*z**2*Derivative(b_z^+(s, \\phi, t), s)/(2*H(s)) - \\gamma*s**2*z**2*Derivative(b_z^-(s, \\phi, t), s)/(2*H(s)) + 3*\\gamma*s**2*z**2*b_s^+(s, \\phi, t)/(2*H(s)**2) + 3*\\gamma*s**2*z**2*b_s^-(s, \\phi, t)/(2*H(s)**2) - \\gamma*s**2*Derivative(b_z^+(s, \\phi, t), s)/(2*H(s)) + \\gamma*s**2*Derivative(b_z^-(s, \\phi, t), s)/(2*H(s)) - 3*\\gamma*s**2*b_s^+(s, \\phi, t)/(2*H(s)**2) - 3*\\gamma*s**2*b_s^-(s, \\phi, t)/(2*H(s)**2) - 2*\\gamma*s**2*b_{es}(s, \\phi, t)/H(s)**2 - \\gamma*s**2*Derivative(b_{e\\phi}(s, \\phi, t), \\phi)/H(s)**2 + \\gamma*s*z**2*b_z^+(s, \\phi, t)/H(s) - \\gamma*s*z**2*b_z^-(s, \\phi, t)/H(s) - \\gamma*s*b_z^+(s, \\phi, t)/H(s) + \\gamma*s*b_z^-(s, \\phi, t)/H(s) - s*Derivative(\\overline{m_{s\\phi}}(s, \\phi, t), (s, 2))/(2*H(s)) - s*Derivative(\\widetilde{m_{sz}}(s, \\phi, t), \\phi, s)/(2*H(s)**2) - 3*Derivative(\\overline{m_{s\\phi}}(s, \\phi, t), s)/(2*H(s)) - Derivative(\\overline{m_{\\phi\\phi}}(s, \\phi, t), \\phi, s)/(2*H(s)) + Derivative(\\overline{m_{ss}}(s, \\phi, t), \\phi, s)/(2*H(s)) - Derivative(\\widetilde{m_{\\phi z}}(s, \\phi, t), (\\phi, 2))/(2*H(s)**2) - Derivative(\\widetilde{m_{sz}}(s, \\phi, t), \\phi)/(2*H(s)**2) - Derivative(\\overline{m_{\\phi\\phi}}(s, \\phi, t), \\phi)/(2*s*H(s)) + Derivative(\\overline{m_{s\\phi}}(s, \\phi, t), (\\phi, 2))/(2*s*H(s)) + Derivative(\\overline{m_{ss}}(s, \\phi, t), \\phi)/(2*s*H(s)) + 2*s*Derivative(\\psi(s, \\phi, t), \\phi)/(\\mathrm{Le}*H(s)**3))"
      ]
     },
     "metadata": {},
     "output_type": "display_data"
    },
    {
     "data": {
      "text/latex": [
       "$\\displaystyle \\frac{\\partial}{\\partial t} \\overline{m_{ss}}{\\left(s,\\phi,t \\right)} = 0$"
      ],
      "text/plain": [
       "Eq(Derivative(\\overline{m_{ss}}(s, \\phi, t), t), 0)"
      ]
     },
     "metadata": {},
     "output_type": "display_data"
    },
    {
     "data": {
      "text/latex": [
       "$\\displaystyle \\frac{\\partial}{\\partial t} \\overline{m_{\\phi\\phi}}{\\left(s,\\phi,t \\right)} = - \\frac{32 \\gamma^{2} s^{5} \\frac{\\partial^{2}}{\\partial s\\partial \\phi} \\psi{\\left(s,\\phi,t \\right)}}{15} - \\frac{64 \\gamma^{2} s^{4} \\frac{\\partial}{\\partial \\phi} \\psi{\\left(s,\\phi,t \\right)}}{15} + \\frac{64 \\gamma^{2} s^{3} \\frac{\\partial^{2}}{\\partial s\\partial \\phi} \\psi{\\left(s,\\phi,t \\right)}}{15} + \\frac{64 \\gamma^{2} s^{2} \\frac{\\partial}{\\partial \\phi} \\psi{\\left(s,\\phi,t \\right)}}{15} - \\frac{32 \\gamma^{2} s \\frac{\\partial^{2}}{\\partial s\\partial \\phi} \\psi{\\left(s,\\phi,t \\right)}}{15}$"
      ],
      "text/plain": [
       "Eq(Derivative(\\overline{m_{\\phi\\phi}}(s, \\phi, t), t), -32*\\gamma**2*s**5*Derivative(\\psi(s, \\phi, t), \\phi, s)/15 - 64*\\gamma**2*s**4*Derivative(\\psi(s, \\phi, t), \\phi)/15 + 64*\\gamma**2*s**3*Derivative(\\psi(s, \\phi, t), \\phi, s)/15 + 64*\\gamma**2*s**2*Derivative(\\psi(s, \\phi, t), \\phi)/15 - 32*\\gamma**2*s*Derivative(\\psi(s, \\phi, t), \\phi, s)/15)"
      ]
     },
     "metadata": {},
     "output_type": "display_data"
    },
    {
     "data": {
      "text/latex": [
       "$\\displaystyle \\frac{\\partial}{\\partial t} \\overline{m_{s\\phi}}{\\left(s,\\phi,t \\right)} = \\frac{16 \\gamma^{2} s^{4} \\frac{\\partial^{2}}{\\partial \\phi^{2}} \\psi{\\left(s,\\phi,t \\right)}}{15} - \\frac{32 \\gamma^{2} s^{2} \\frac{\\partial^{2}}{\\partial \\phi^{2}} \\psi{\\left(s,\\phi,t \\right)}}{15} + \\frac{16 \\gamma^{2} \\frac{\\partial^{2}}{\\partial \\phi^{2}} \\psi{\\left(s,\\phi,t \\right)}}{15}$"
      ],
      "text/plain": [
       "Eq(Derivative(\\overline{m_{s\\phi}}(s, \\phi, t), t), 16*\\gamma**2*s**4*Derivative(\\psi(s, \\phi, t), (\\phi, 2))/15 - 32*\\gamma**2*s**2*Derivative(\\psi(s, \\phi, t), (\\phi, 2))/15 + 16*\\gamma**2*Derivative(\\psi(s, \\phi, t), (\\phi, 2))/15)"
      ]
     },
     "metadata": {},
     "output_type": "display_data"
    },
    {
     "data": {
      "text/latex": [
       "$\\displaystyle \\frac{\\partial}{\\partial t} \\widetilde{m_{sz}}{\\left(s,\\phi,t \\right)} = 0$"
      ],
      "text/plain": [
       "Eq(Derivative(\\widetilde{m_{sz}}(s, \\phi, t), t), 0)"
      ]
     },
     "metadata": {},
     "output_type": "display_data"
    },
    {
     "data": {
      "text/latex": [
       "$\\displaystyle \\frac{\\partial}{\\partial t} \\widetilde{m_{\\phi z}}{\\left(s,\\phi,t \\right)} = - \\frac{\\gamma^{2} s^{5} \\frac{\\partial^{2}}{\\partial \\phi^{2}} \\psi{\\left(s,\\phi,t \\right)}}{3 H{\\left(s \\right)}} + \\frac{2 \\gamma^{2} s^{3} \\frac{\\partial^{2}}{\\partial \\phi^{2}} \\psi{\\left(s,\\phi,t \\right)}}{3 H{\\left(s \\right)}} - \\frac{\\gamma^{2} s \\frac{\\partial^{2}}{\\partial \\phi^{2}} \\psi{\\left(s,\\phi,t \\right)}}{3 H{\\left(s \\right)}}$"
      ],
      "text/plain": [
       "Eq(Derivative(\\widetilde{m_{\\phi z}}(s, \\phi, t), t), -\\gamma**2*s**5*Derivative(\\psi(s, \\phi, t), (\\phi, 2))/(3*H(s)) + 2*\\gamma**2*s**3*Derivative(\\psi(s, \\phi, t), (\\phi, 2))/(3*H(s)) - \\gamma**2*s*Derivative(\\psi(s, \\phi, t), (\\phi, 2))/(3*H(s)))"
      ]
     },
     "metadata": {},
     "output_type": "display_data"
    },
    {
     "data": {
      "text/latex": [
       "$\\displaystyle \\frac{\\partial}{\\partial t} \\widetilde{zm_{ss}}{\\left(s,\\phi,t \\right)} = 0$"
      ],
      "text/plain": [
       "Eq(Derivative(\\widetilde{zm_{ss}}(s, \\phi, t), t), 0)"
      ]
     },
     "metadata": {},
     "output_type": "display_data"
    },
    {
     "data": {
      "text/latex": [
       "$\\displaystyle \\frac{\\partial}{\\partial t} \\widetilde{zm_{\\phi\\phi}}{\\left(s,\\phi,t \\right)} = \\frac{2 \\gamma^{2} s^{7} \\frac{\\partial^{2}}{\\partial s\\partial \\phi} \\psi{\\left(s,\\phi,t \\right)}}{3 H{\\left(s \\right)}} + \\frac{4 \\gamma^{2} s^{6} \\frac{\\partial}{\\partial \\phi} \\psi{\\left(s,\\phi,t \\right)}}{3 H{\\left(s \\right)}} - \\frac{2 \\gamma^{2} s^{5} \\frac{\\partial^{2}}{\\partial s\\partial \\phi} \\psi{\\left(s,\\phi,t \\right)}}{H{\\left(s \\right)}} - \\frac{8 \\gamma^{2} s^{4} \\frac{\\partial}{\\partial \\phi} \\psi{\\left(s,\\phi,t \\right)}}{3 H{\\left(s \\right)}} + \\frac{2 \\gamma^{2} s^{3} \\frac{\\partial^{2}}{\\partial s\\partial \\phi} \\psi{\\left(s,\\phi,t \\right)}}{H{\\left(s \\right)}} + \\frac{4 \\gamma^{2} s^{2} \\frac{\\partial}{\\partial \\phi} \\psi{\\left(s,\\phi,t \\right)}}{3 H{\\left(s \\right)}} - \\frac{2 \\gamma^{2} s \\frac{\\partial^{2}}{\\partial s\\partial \\phi} \\psi{\\left(s,\\phi,t \\right)}}{3 H{\\left(s \\right)}}$"
      ],
      "text/plain": [
       "Eq(Derivative(\\widetilde{zm_{\\phi\\phi}}(s, \\phi, t), t), 2*\\gamma**2*s**7*Derivative(\\psi(s, \\phi, t), \\phi, s)/(3*H(s)) + 4*\\gamma**2*s**6*Derivative(\\psi(s, \\phi, t), \\phi)/(3*H(s)) - 2*\\gamma**2*s**5*Derivative(\\psi(s, \\phi, t), \\phi, s)/H(s) - 8*\\gamma**2*s**4*Derivative(\\psi(s, \\phi, t), \\phi)/(3*H(s)) + 2*\\gamma**2*s**3*Derivative(\\psi(s, \\phi, t), \\phi, s)/H(s) + 4*\\gamma**2*s**2*Derivative(\\psi(s, \\phi, t), \\phi)/(3*H(s)) - 2*\\gamma**2*s*Derivative(\\psi(s, \\phi, t), \\phi, s)/(3*H(s)))"
      ]
     },
     "metadata": {},
     "output_type": "display_data"
    },
    {
     "data": {
      "text/latex": [
       "$\\displaystyle \\frac{\\partial}{\\partial t} \\widetilde{zm_{s\\phi}}{\\left(s,\\phi,t \\right)} = - \\frac{\\gamma^{2} s^{6} \\frac{\\partial^{2}}{\\partial \\phi^{2}} \\psi{\\left(s,\\phi,t \\right)}}{3 H{\\left(s \\right)}} + \\frac{\\gamma^{2} s^{4} \\frac{\\partial^{2}}{\\partial \\phi^{2}} \\psi{\\left(s,\\phi,t \\right)}}{H{\\left(s \\right)}} - \\frac{\\gamma^{2} s^{2} \\frac{\\partial^{2}}{\\partial \\phi^{2}} \\psi{\\left(s,\\phi,t \\right)}}{H{\\left(s \\right)}} + \\frac{\\gamma^{2} \\frac{\\partial^{2}}{\\partial \\phi^{2}} \\psi{\\left(s,\\phi,t \\right)}}{3 H{\\left(s \\right)}}$"
      ],
      "text/plain": [
       "Eq(Derivative(\\widetilde{zm_{s\\phi}}(s, \\phi, t), t), -\\gamma**2*s**6*Derivative(\\psi(s, \\phi, t), (\\phi, 2))/(3*H(s)) + \\gamma**2*s**4*Derivative(\\psi(s, \\phi, t), (\\phi, 2))/H(s) - \\gamma**2*s**2*Derivative(\\psi(s, \\phi, t), (\\phi, 2))/H(s) + \\gamma**2*Derivative(\\psi(s, \\phi, t), (\\phi, 2))/(3*H(s)))"
      ]
     },
     "metadata": {},
     "output_type": "display_data"
    },
    {
     "data": {
      "text/latex": [
       "$\\displaystyle \\frac{\\partial}{\\partial t} b_{es}{\\left(s,\\phi,t \\right)} = \\frac{\\gamma H{\\left(s \\right)} \\frac{\\partial^{2}}{\\partial \\phi^{2}} \\psi{\\left(s,\\phi,t \\right)}}{s}$"
      ],
      "text/plain": [
       "Eq(Derivative(b_{es}(s, \\phi, t), t), \\gamma*H(s)*Derivative(\\psi(s, \\phi, t), (\\phi, 2))/s)"
      ]
     },
     "metadata": {},
     "output_type": "display_data"
    },
    {
     "data": {
      "text/latex": [
       "$\\displaystyle \\frac{\\partial}{\\partial t} b_{e\\phi}{\\left(s,\\phi,t \\right)} = \\frac{\\gamma s^{2} \\frac{\\partial^{2}}{\\partial s\\partial \\phi} \\psi{\\left(s,\\phi,t \\right)}}{H{\\left(s \\right)}} + \\frac{2 \\gamma s \\frac{\\partial}{\\partial \\phi} \\psi{\\left(s,\\phi,t \\right)}}{H{\\left(s \\right)}} - \\frac{\\gamma \\frac{\\partial^{2}}{\\partial s\\partial \\phi} \\psi{\\left(s,\\phi,t \\right)}}{H{\\left(s \\right)}}$"
      ],
      "text/plain": [
       "Eq(Derivative(b_{e\\phi}(s, \\phi, t), t), \\gamma*s**2*Derivative(\\psi(s, \\phi, t), \\phi, s)/H(s) + 2*\\gamma*s*Derivative(\\psi(s, \\phi, t), \\phi)/H(s) - \\gamma*Derivative(\\psi(s, \\phi, t), \\phi, s)/H(s))"
      ]
     },
     "metadata": {},
     "output_type": "display_data"
    },
    {
     "data": {
      "text/latex": [
       "$\\displaystyle \\frac{\\partial}{\\partial t} b_{ez}{\\left(s,\\phi,t \\right)} = 0$"
      ],
      "text/plain": [
       "Eq(Derivative(b_{ez}(s, \\phi, t), t), 0)"
      ]
     },
     "metadata": {},
     "output_type": "display_data"
    },
    {
     "data": {
      "text/latex": [
       "$\\displaystyle \\frac{\\partial}{\\partial t} b_{es, z}{\\left(s,\\phi,t \\right)} = 0$"
      ],
      "text/plain": [
       "Eq(Derivative(b_{es, z}(s, \\phi, t), t), 0)"
      ]
     },
     "metadata": {},
     "output_type": "display_data"
    },
    {
     "data": {
      "text/latex": [
       "$\\displaystyle \\frac{\\partial}{\\partial t} b_{e\\phi, z}{\\left(s,\\phi,t \\right)} = 0$"
      ],
      "text/plain": [
       "Eq(Derivative(b_{e\\phi, z}(s, \\phi, t), t), 0)"
      ]
     },
     "metadata": {},
     "output_type": "display_data"
    },
    {
     "data": {
      "text/latex": [
       "$\\displaystyle \\frac{\\partial}{\\partial t} b_{r1}{\\left(\\theta,\\phi,t \\right)} = - \\frac{U^{0}_{\\phi}{\\left(r,\\theta,\\phi \\right)} \\frac{\\partial}{\\partial \\phi} b_{r1}{\\left(\\theta,\\phi,t \\right)}}{r \\sin{\\left(\\theta \\right)}} - \\frac{U^{0}_{\\theta}{\\left(r,\\theta,\\phi \\right)} b_{r1}{\\left(\\theta,\\phi,t \\right)}}{r \\tan{\\left(\\theta \\right)}} - \\frac{U^{0}_{\\theta}{\\left(r,\\theta,\\phi \\right)} \\frac{\\partial}{\\partial \\theta} b_{r1}{\\left(\\theta,\\phi,t \\right)}}{r} - \\frac{b_{r1}{\\left(\\theta,\\phi,t \\right)} \\frac{\\partial}{\\partial \\theta} U^{0}_{\\theta}{\\left(r,\\theta,\\phi \\right)}}{r} - \\frac{b_{r1}{\\left(\\theta,\\phi,t \\right)} \\frac{\\partial}{\\partial \\phi} U^{0}_{\\phi}{\\left(r,\\theta,\\phi \\right)}}{r \\sin{\\left(\\theta \\right)}}$"
      ],
      "text/plain": [
       "Eq(Derivative(b_{r1}(\\theta, \\phi, t), t), -U_\\phi^0(r, \\theta, \\phi)*Derivative(b_{r1}(\\theta, \\phi, t), \\phi)/(r*sin(\\theta)) - U_\\theta^0(r, \\theta, \\phi)*b_{r1}(\\theta, \\phi, t)/(r*tan(\\theta)) - U_\\theta^0(r, \\theta, \\phi)*Derivative(b_{r1}(\\theta, \\phi, t), \\theta)/r - b_{r1}(\\theta, \\phi, t)*Derivative(U_\\theta^0(r, \\theta, \\phi), \\theta)/r - b_{r1}(\\theta, \\phi, t)*Derivative(U_\\phi^0(r, \\theta, \\phi), \\phi)/(r*sin(\\theta)))"
      ]
     },
     "metadata": {},
     "output_type": "display_data"
    },
    {
     "data": {
      "text/latex": [
       "$\\displaystyle \\frac{\\partial}{\\partial t} b^{+}_{s}{\\left(s,\\phi,t \\right)} = - \\frac{\\gamma s \\frac{\\partial^{2}}{\\partial \\phi^{2}} \\psi{\\left(s,\\phi,t \\right)}}{H{\\left(s \\right)}} - \\frac{\\gamma H{\\left(s \\right)} \\frac{\\partial^{2}}{\\partial \\phi^{2}} \\psi{\\left(s,\\phi,t \\right)}}{s} + \\frac{\\gamma \\frac{\\partial^{2}}{\\partial \\phi^{2}} \\psi{\\left(s,\\phi,t \\right)}}{s H{\\left(s \\right)}}$"
      ],
      "text/plain": [
       "Eq(Derivative(b_s^+(s, \\phi, t), t), -\\gamma*s*Derivative(\\psi(s, \\phi, t), (\\phi, 2))/H(s) - \\gamma*H(s)*Derivative(\\psi(s, \\phi, t), (\\phi, 2))/s + \\gamma*Derivative(\\psi(s, \\phi, t), (\\phi, 2))/(s*H(s)))"
      ]
     },
     "metadata": {},
     "output_type": "display_data"
    },
    {
     "data": {
      "text/latex": [
       "$\\displaystyle \\frac{\\partial}{\\partial t} b^{+}_{\\phi}{\\left(s,\\phi,t \\right)} = - \\frac{\\gamma s^{4} \\frac{\\partial^{2}}{\\partial s\\partial \\phi} \\psi{\\left(s,\\phi,t \\right)}}{H^{3}{\\left(s \\right)}} - \\frac{2 \\gamma s^{3} \\frac{\\partial}{\\partial \\phi} \\psi{\\left(s,\\phi,t \\right)}}{H^{3}{\\left(s \\right)}} - \\frac{\\gamma s^{2} \\frac{\\partial^{2}}{\\partial s\\partial \\phi} \\psi{\\left(s,\\phi,t \\right)}}{H{\\left(s \\right)}} + \\frac{2 \\gamma s^{2} \\frac{\\partial^{2}}{\\partial s\\partial \\phi} \\psi{\\left(s,\\phi,t \\right)}}{H^{3}{\\left(s \\right)}} - \\frac{2 \\gamma s \\frac{\\partial}{\\partial \\phi} \\psi{\\left(s,\\phi,t \\right)}}{H{\\left(s \\right)}} + \\frac{2 \\gamma s \\frac{\\partial}{\\partial \\phi} \\psi{\\left(s,\\phi,t \\right)}}{H^{3}{\\left(s \\right)}} + \\frac{\\gamma \\frac{\\partial^{2}}{\\partial s\\partial \\phi} \\psi{\\left(s,\\phi,t \\right)}}{H{\\left(s \\right)}} - \\frac{\\gamma \\frac{\\partial^{2}}{\\partial s\\partial \\phi} \\psi{\\left(s,\\phi,t \\right)}}{H^{3}{\\left(s \\right)}}$"
      ],
      "text/plain": [
       "Eq(Derivative(b_\\phi^+(s, \\phi, t), t), -\\gamma*s**4*Derivative(\\psi(s, \\phi, t), \\phi, s)/H(s)**3 - 2*\\gamma*s**3*Derivative(\\psi(s, \\phi, t), \\phi)/H(s)**3 - \\gamma*s**2*Derivative(\\psi(s, \\phi, t), \\phi, s)/H(s) + 2*\\gamma*s**2*Derivative(\\psi(s, \\phi, t), \\phi, s)/H(s)**3 - 2*\\gamma*s*Derivative(\\psi(s, \\phi, t), \\phi)/H(s) + 2*\\gamma*s*Derivative(\\psi(s, \\phi, t), \\phi)/H(s)**3 + \\gamma*Derivative(\\psi(s, \\phi, t), \\phi, s)/H(s) - \\gamma*Derivative(\\psi(s, \\phi, t), \\phi, s)/H(s)**3)"
      ]
     },
     "metadata": {},
     "output_type": "display_data"
    },
    {
     "data": {
      "text/latex": [
       "$\\displaystyle \\frac{\\partial}{\\partial t} b^{+}_{z}{\\left(s,\\phi,t \\right)} = \\frac{\\gamma s^{2} \\frac{\\partial^{2}}{\\partial \\phi^{2}} \\psi{\\left(s,\\phi,t \\right)}}{H^{2}{\\left(s \\right)}} + \\gamma \\frac{\\partial^{2}}{\\partial \\phi^{2}} \\psi{\\left(s,\\phi,t \\right)} - \\frac{\\gamma \\frac{\\partial^{2}}{\\partial \\phi^{2}} \\psi{\\left(s,\\phi,t \\right)}}{H^{2}{\\left(s \\right)}}$"
      ],
      "text/plain": [
       "Eq(Derivative(b_z^+(s, \\phi, t), t), \\gamma*s**2*Derivative(\\psi(s, \\phi, t), (\\phi, 2))/H(s)**2 + \\gamma*Derivative(\\psi(s, \\phi, t), (\\phi, 2)) - \\gamma*Derivative(\\psi(s, \\phi, t), (\\phi, 2))/H(s)**2)"
      ]
     },
     "metadata": {},
     "output_type": "display_data"
    },
    {
     "data": {
      "text/latex": [
       "$\\displaystyle \\frac{\\partial}{\\partial t} b^{-}_{s}{\\left(s,\\phi,t \\right)} = - \\frac{\\gamma s \\frac{\\partial^{2}}{\\partial \\phi^{2}} \\psi{\\left(s,\\phi,t \\right)}}{H{\\left(s \\right)}} - \\frac{\\gamma H{\\left(s \\right)} \\frac{\\partial^{2}}{\\partial \\phi^{2}} \\psi{\\left(s,\\phi,t \\right)}}{s} + \\frac{\\gamma \\frac{\\partial^{2}}{\\partial \\phi^{2}} \\psi{\\left(s,\\phi,t \\right)}}{s H{\\left(s \\right)}}$"
      ],
      "text/plain": [
       "Eq(Derivative(b_s^-(s, \\phi, t), t), -\\gamma*s*Derivative(\\psi(s, \\phi, t), (\\phi, 2))/H(s) - \\gamma*H(s)*Derivative(\\psi(s, \\phi, t), (\\phi, 2))/s + \\gamma*Derivative(\\psi(s, \\phi, t), (\\phi, 2))/(s*H(s)))"
      ]
     },
     "metadata": {},
     "output_type": "display_data"
    },
    {
     "data": {
      "text/latex": [
       "$\\displaystyle \\frac{\\partial}{\\partial t} b^{-}_{\\phi}{\\left(s,\\phi,t \\right)} = - \\frac{\\gamma s^{4} \\frac{\\partial^{2}}{\\partial s\\partial \\phi} \\psi{\\left(s,\\phi,t \\right)}}{H^{3}{\\left(s \\right)}} - \\frac{2 \\gamma s^{3} \\frac{\\partial}{\\partial \\phi} \\psi{\\left(s,\\phi,t \\right)}}{H^{3}{\\left(s \\right)}} - \\frac{\\gamma s^{2} \\frac{\\partial^{2}}{\\partial s\\partial \\phi} \\psi{\\left(s,\\phi,t \\right)}}{H{\\left(s \\right)}} + \\frac{2 \\gamma s^{2} \\frac{\\partial^{2}}{\\partial s\\partial \\phi} \\psi{\\left(s,\\phi,t \\right)}}{H^{3}{\\left(s \\right)}} - \\frac{2 \\gamma s \\frac{\\partial}{\\partial \\phi} \\psi{\\left(s,\\phi,t \\right)}}{H{\\left(s \\right)}} + \\frac{2 \\gamma s \\frac{\\partial}{\\partial \\phi} \\psi{\\left(s,\\phi,t \\right)}}{H^{3}{\\left(s \\right)}} + \\frac{\\gamma \\frac{\\partial^{2}}{\\partial s\\partial \\phi} \\psi{\\left(s,\\phi,t \\right)}}{H{\\left(s \\right)}} - \\frac{\\gamma \\frac{\\partial^{2}}{\\partial s\\partial \\phi} \\psi{\\left(s,\\phi,t \\right)}}{H^{3}{\\left(s \\right)}}$"
      ],
      "text/plain": [
       "Eq(Derivative(b_\\phi^-(s, \\phi, t), t), -\\gamma*s**4*Derivative(\\psi(s, \\phi, t), \\phi, s)/H(s)**3 - 2*\\gamma*s**3*Derivative(\\psi(s, \\phi, t), \\phi)/H(s)**3 - \\gamma*s**2*Derivative(\\psi(s, \\phi, t), \\phi, s)/H(s) + 2*\\gamma*s**2*Derivative(\\psi(s, \\phi, t), \\phi, s)/H(s)**3 - 2*\\gamma*s*Derivative(\\psi(s, \\phi, t), \\phi)/H(s) + 2*\\gamma*s*Derivative(\\psi(s, \\phi, t), \\phi)/H(s)**3 + \\gamma*Derivative(\\psi(s, \\phi, t), \\phi, s)/H(s) - \\gamma*Derivative(\\psi(s, \\phi, t), \\phi, s)/H(s)**3)"
      ]
     },
     "metadata": {},
     "output_type": "display_data"
    },
    {
     "data": {
      "text/latex": [
       "$\\displaystyle \\frac{\\partial}{\\partial t} b^{-}_{z}{\\left(s,\\phi,t \\right)} = - \\frac{\\gamma s^{2} \\frac{\\partial^{2}}{\\partial \\phi^{2}} \\psi{\\left(s,\\phi,t \\right)}}{H^{2}{\\left(s \\right)}} - \\gamma \\frac{\\partial^{2}}{\\partial \\phi^{2}} \\psi{\\left(s,\\phi,t \\right)} + \\frac{\\gamma \\frac{\\partial^{2}}{\\partial \\phi^{2}} \\psi{\\left(s,\\phi,t \\right)}}{H^{2}{\\left(s \\right)}}$"
      ],
      "text/plain": [
       "Eq(Derivative(b_z^-(s, \\phi, t), t), -\\gamma*s**2*Derivative(\\psi(s, \\phi, t), (\\phi, 2))/H(s)**2 - \\gamma*Derivative(\\psi(s, \\phi, t), (\\phi, 2)) + \\gamma*Derivative(\\psi(s, \\phi, t), (\\phi, 2))/H(s)**2)"
      ]
     },
     "metadata": {},
     "output_type": "display_data"
    }
   ],
   "source": [
    "eqs_file = \"./out/cases/Toroidal_quadrupolar/Eqs_ptb.json\"\n",
    "with open(eqs_file, 'r') as fread:\n",
    "    eqs_pg = base.CollectionPG.load_json(fread, parser=sp.parse_expr)\n",
    "\n",
    "display_eqs(eqs_pg)"
   ]
  },
  {
   "cell_type": "code",
   "execution_count": 20,
   "id": "87652f24-aad9-49b6-b917-1336cb4da9e2",
   "metadata": {},
   "outputs": [
    {
     "data": {
      "text/latex": [
       "$\\displaystyle \\frac{\\gamma \\left(s^{2} \\frac{\\partial^{2}}{\\partial s\\partial \\phi} \\psi{\\left(s,\\phi,t \\right)} + 2 s \\frac{\\partial}{\\partial \\phi} \\psi{\\left(s,\\phi,t \\right)} - \\frac{\\partial^{2}}{\\partial s\\partial \\phi} \\psi{\\left(s,\\phi,t \\right)}\\right)}{H{\\left(s \\right)}}$"
      ],
      "text/plain": [
       "\\gamma*(s**2*Derivative(\\psi(s, \\phi, t), \\phi, s) + 2*s*Derivative(\\psi(s, \\phi, t), \\phi) - Derivative(\\psi(s, \\phi, t), \\phi, s))/H(s)"
      ]
     },
     "execution_count": 20,
     "metadata": {},
     "output_type": "execute_result"
    }
   ],
   "source": [
    "eqs_pg.Bp_e.rhs.factor()"
   ]
  },
  {
   "cell_type": "markdown",
   "id": "ddb736da-41c7-465f-86ed-a41b5e048dc1",
   "metadata": {},
   "source": [
    "### The conjugate variable system"
   ]
  },
  {
   "cell_type": "code",
   "execution_count": 26,
   "id": "550714b1-2317-4d7f-9259-983462da15a6",
   "metadata": {},
   "outputs": [
    {
     "data": {
      "text/latex": [
       "$\\displaystyle \\frac{s^{2} \\frac{\\partial^{2}}{\\partial t\\partial s} \\psi{\\left(s,\\phi,t \\right)}}{H^{3}{\\left(s \\right)}} + \\frac{s \\frac{\\partial^{3}}{\\partial t\\partial s^{2}} \\psi{\\left(s,\\phi,t \\right)}}{H{\\left(s \\right)}} + \\frac{s \\frac{\\partial^{3}}{\\partial t\\partial \\phi^{2}} \\psi{\\left(s,\\phi,t \\right)}}{2 H^{3}{\\left(s \\right)}} + \\frac{\\frac{\\partial^{2}}{\\partial t\\partial s} \\psi{\\left(s,\\phi,t \\right)}}{H{\\left(s \\right)}} + \\frac{\\frac{\\partial^{3}}{\\partial t\\partial \\phi^{2}} \\psi{\\left(s,\\phi,t \\right)}}{s H{\\left(s \\right)}} = \\frac{\\gamma s^{6} b^{+}_{+}{\\left(s,\\phi,t \\right)}}{4 H^{4}{\\left(s \\right)}} + \\frac{\\gamma s^{6} b^{-}_{+}{\\left(s,\\phi,t \\right)}}{4 H^{4}{\\left(s \\right)}} + \\frac{\\gamma s^{6} b^{+}_{-}{\\left(s,\\phi,t \\right)}}{4 H^{4}{\\left(s \\right)}} + \\frac{\\gamma s^{6} b^{-}_{-}{\\left(s,\\phi,t \\right)}}{4 H^{4}{\\left(s \\right)}} + \\frac{\\gamma s^{5} \\frac{\\partial}{\\partial s} b^{+}_{+}{\\left(s,\\phi,t \\right)}}{4 H^{2}{\\left(s \\right)}} + \\frac{\\gamma s^{5} \\frac{\\partial}{\\partial s} b^{-}_{+}{\\left(s,\\phi,t \\right)}}{4 H^{2}{\\left(s \\right)}} + \\frac{\\gamma s^{5} \\frac{\\partial}{\\partial s} b^{+}_{-}{\\left(s,\\phi,t \\right)}}{4 H^{2}{\\left(s \\right)}} + \\frac{\\gamma s^{5} \\frac{\\partial}{\\partial s} b^{-}_{-}{\\left(s,\\phi,t \\right)}}{4 H^{2}{\\left(s \\right)}} + \\frac{\\gamma s^{4} z^{2} b^{+}_{+}{\\left(s,\\phi,t \\right)}}{4 H^{4}{\\left(s \\right)}} + \\frac{\\gamma s^{4} z^{2} b^{-}_{+}{\\left(s,\\phi,t \\right)}}{4 H^{4}{\\left(s \\right)}} + \\frac{\\gamma s^{4} z^{2} b^{+}_{-}{\\left(s,\\phi,t \\right)}}{4 H^{4}{\\left(s \\right)}} + \\frac{\\gamma s^{4} z^{2} b^{-}_{-}{\\left(s,\\phi,t \\right)}}{4 H^{4}{\\left(s \\right)}} + \\frac{\\gamma s^{4} \\frac{\\partial}{\\partial s} b^{+}_{z}{\\left(s,\\phi,t \\right)}}{2 H{\\left(s \\right)}} - \\frac{\\gamma s^{4} \\frac{\\partial}{\\partial s} b^{-}_{z}{\\left(s,\\phi,t \\right)}}{2 H{\\left(s \\right)}} + \\frac{5 \\gamma s^{4} b^{+}_{+}{\\left(s,\\phi,t \\right)}}{4 H^{2}{\\left(s \\right)}} + \\frac{5 \\gamma s^{4} b^{-}_{+}{\\left(s,\\phi,t \\right)}}{4 H^{2}{\\left(s \\right)}} + \\frac{5 \\gamma s^{4} b^{+}_{-}{\\left(s,\\phi,t \\right)}}{4 H^{2}{\\left(s \\right)}} + \\frac{5 \\gamma s^{4} b^{-}_{-}{\\left(s,\\phi,t \\right)}}{4 H^{2}{\\left(s \\right)}} + \\frac{2 \\gamma s^{4} b_{e+}{\\left(s,\\phi,t \\right)}}{H^{2}{\\left(s \\right)}} + \\frac{2 \\gamma s^{4} b_{e-}{\\left(s,\\phi,t \\right)}}{H^{2}{\\left(s \\right)}} - \\frac{i \\gamma s^{4} \\frac{\\partial}{\\partial \\phi} b_{e+}{\\left(s,\\phi,t \\right)}}{2 H^{2}{\\left(s \\right)}} + \\frac{i \\gamma s^{4} \\frac{\\partial}{\\partial \\phi} b_{e-}{\\left(s,\\phi,t \\right)}}{2 H^{2}{\\left(s \\right)}} - \\frac{\\gamma s^{4} b^{+}_{+}{\\left(s,\\phi,t \\right)}}{4 H^{4}{\\left(s \\right)}} - \\frac{\\gamma s^{4} b^{-}_{+}{\\left(s,\\phi,t \\right)}}{4 H^{4}{\\left(s \\right)}} - \\frac{\\gamma s^{4} b^{+}_{-}{\\left(s,\\phi,t \\right)}}{4 H^{4}{\\left(s \\right)}} - \\frac{\\gamma s^{4} b^{-}_{-}{\\left(s,\\phi,t \\right)}}{4 H^{4}{\\left(s \\right)}} + \\frac{\\gamma s^{3} z^{2} \\frac{\\partial}{\\partial s} b^{+}_{+}{\\left(s,\\phi,t \\right)}}{4 H^{2}{\\left(s \\right)}} + \\frac{\\gamma s^{3} z^{2} \\frac{\\partial}{\\partial s} b^{-}_{+}{\\left(s,\\phi,t \\right)}}{4 H^{2}{\\left(s \\right)}} + \\frac{\\gamma s^{3} z^{2} \\frac{\\partial}{\\partial s} b^{+}_{-}{\\left(s,\\phi,t \\right)}}{4 H^{2}{\\left(s \\right)}} + \\frac{\\gamma s^{3} z^{2} \\frac{\\partial}{\\partial s} b^{-}_{-}{\\left(s,\\phi,t \\right)}}{4 H^{2}{\\left(s \\right)}} + \\frac{2 \\gamma s^{3} b^{+}_{z}{\\left(s,\\phi,t \\right)}}{H{\\left(s \\right)}} - \\frac{2 \\gamma s^{3} b^{-}_{z}{\\left(s,\\phi,t \\right)}}{H{\\left(s \\right)}} - \\frac{\\gamma s^{3} \\frac{\\partial}{\\partial s} b^{+}_{+}{\\left(s,\\phi,t \\right)}}{4 H^{2}{\\left(s \\right)}} - \\frac{\\gamma s^{3} \\frac{\\partial}{\\partial s} b^{-}_{+}{\\left(s,\\phi,t \\right)}}{4 H^{2}{\\left(s \\right)}} - \\frac{\\gamma s^{3} \\frac{\\partial}{\\partial s} b^{+}_{-}{\\left(s,\\phi,t \\right)}}{4 H^{2}{\\left(s \\right)}} - \\frac{\\gamma s^{3} \\frac{\\partial}{\\partial s} b^{-}_{-}{\\left(s,\\phi,t \\right)}}{4 H^{2}{\\left(s \\right)}} + \\frac{\\gamma s^{2} z^{2} \\frac{\\partial}{\\partial s} b^{+}_{z}{\\left(s,\\phi,t \\right)}}{2 H{\\left(s \\right)}} - \\frac{\\gamma s^{2} z^{2} \\frac{\\partial}{\\partial s} b^{-}_{z}{\\left(s,\\phi,t \\right)}}{2 H{\\left(s \\right)}} + \\frac{3 \\gamma s^{2} z^{2} b^{+}_{+}{\\left(s,\\phi,t \\right)}}{4 H^{2}{\\left(s \\right)}} + \\frac{3 \\gamma s^{2} z^{2} b^{-}_{+}{\\left(s,\\phi,t \\right)}}{4 H^{2}{\\left(s \\right)}} + \\frac{3 \\gamma s^{2} z^{2} b^{+}_{-}{\\left(s,\\phi,t \\right)}}{4 H^{2}{\\left(s \\right)}} + \\frac{3 \\gamma s^{2} z^{2} b^{-}_{-}{\\left(s,\\phi,t \\right)}}{4 H^{2}{\\left(s \\right)}} - \\frac{\\gamma s^{2} \\frac{\\partial}{\\partial s} b^{+}_{z}{\\left(s,\\phi,t \\right)}}{2 H{\\left(s \\right)}} + \\frac{\\gamma s^{2} \\frac{\\partial}{\\partial s} b^{-}_{z}{\\left(s,\\phi,t \\right)}}{2 H{\\left(s \\right)}} - \\frac{3 \\gamma s^{2} b^{+}_{+}{\\left(s,\\phi,t \\right)}}{4 H^{2}{\\left(s \\right)}} - \\frac{3 \\gamma s^{2} b^{-}_{+}{\\left(s,\\phi,t \\right)}}{4 H^{2}{\\left(s \\right)}} - \\frac{3 \\gamma s^{2} b^{+}_{-}{\\left(s,\\phi,t \\right)}}{4 H^{2}{\\left(s \\right)}} - \\frac{3 \\gamma s^{2} b^{-}_{-}{\\left(s,\\phi,t \\right)}}{4 H^{2}{\\left(s \\right)}} - \\frac{\\gamma s^{2} b_{e+}{\\left(s,\\phi,t \\right)}}{H^{2}{\\left(s \\right)}} - \\frac{\\gamma s^{2} b_{e-}{\\left(s,\\phi,t \\right)}}{H^{2}{\\left(s \\right)}} + \\frac{i \\gamma s^{2} \\frac{\\partial}{\\partial \\phi} b_{e+}{\\left(s,\\phi,t \\right)}}{2 H^{2}{\\left(s \\right)}} - \\frac{i \\gamma s^{2} \\frac{\\partial}{\\partial \\phi} b_{e-}{\\left(s,\\phi,t \\right)}}{2 H^{2}{\\left(s \\right)}} + \\frac{\\gamma s z^{2} b^{+}_{z}{\\left(s,\\phi,t \\right)}}{H{\\left(s \\right)}} - \\frac{\\gamma s z^{2} b^{-}_{z}{\\left(s,\\phi,t \\right)}}{H{\\left(s \\right)}} - \\frac{\\gamma s b^{+}_{z}{\\left(s,\\phi,t \\right)}}{H{\\left(s \\right)}} + \\frac{\\gamma s b^{-}_{z}{\\left(s,\\phi,t \\right)}}{H{\\left(s \\right)}} + \\frac{i s \\frac{\\partial^{2}}{\\partial s^{2}} \\overline{m_+}{\\left(s,\\phi,t \\right)}}{8 H{\\left(s \\right)}} - \\frac{i s \\frac{\\partial^{2}}{\\partial s^{2}} \\overline{m_-}{\\left(s,\\phi,t \\right)}}{8 H{\\left(s \\right)}} - \\frac{s \\frac{\\partial^{2}}{\\partial s\\partial \\phi} \\widetilde{m_{z+}}{\\left(s,\\phi,t \\right)}}{4 H^{2}{\\left(s \\right)}} - \\frac{s \\frac{\\partial^{2}}{\\partial s\\partial \\phi} \\widetilde{m_{z-}}{\\left(s,\\phi,t \\right)}}{4 H^{2}{\\left(s \\right)}} + \\frac{3 i \\frac{\\partial}{\\partial s} \\overline{m_+}{\\left(s,\\phi,t \\right)}}{8 H{\\left(s \\right)}} - \\frac{3 i \\frac{\\partial}{\\partial s} \\overline{m_-}{\\left(s,\\phi,t \\right)}}{8 H{\\left(s \\right)}} + \\frac{\\frac{\\partial^{2}}{\\partial s\\partial \\phi} \\overline{m_+}{\\left(s,\\phi,t \\right)}}{4 H{\\left(s \\right)}} + \\frac{\\frac{\\partial^{2}}{\\partial s\\partial \\phi} \\overline{m_-}{\\left(s,\\phi,t \\right)}}{4 H{\\left(s \\right)}} - \\frac{\\frac{\\partial}{\\partial \\phi} \\widetilde{m_{z+}}{\\left(s,\\phi,t \\right)}}{4 H^{2}{\\left(s \\right)}} + \\frac{i \\frac{\\partial^{2}}{\\partial \\phi^{2}} \\widetilde{m_{z+}}{\\left(s,\\phi,t \\right)}}{4 H^{2}{\\left(s \\right)}} - \\frac{\\frac{\\partial}{\\partial \\phi} \\widetilde{m_{z-}}{\\left(s,\\phi,t \\right)}}{4 H^{2}{\\left(s \\right)}} - \\frac{i \\frac{\\partial^{2}}{\\partial \\phi^{2}} \\widetilde{m_{z-}}{\\left(s,\\phi,t \\right)}}{4 H^{2}{\\left(s \\right)}} + \\frac{\\frac{\\partial}{\\partial \\phi} \\overline{m_+}{\\left(s,\\phi,t \\right)}}{4 s H{\\left(s \\right)}} - \\frac{i \\frac{\\partial^{2}}{\\partial \\phi^{2}} \\overline{m_+}{\\left(s,\\phi,t \\right)}}{8 s H{\\left(s \\right)}} + \\frac{\\frac{\\partial}{\\partial \\phi} \\overline{m_-}{\\left(s,\\phi,t \\right)}}{4 s H{\\left(s \\right)}} + \\frac{i \\frac{\\partial^{2}}{\\partial \\phi^{2}} \\overline{m_-}{\\left(s,\\phi,t \\right)}}{8 s H{\\left(s \\right)}} + \\frac{2 s \\frac{\\partial}{\\partial \\phi} \\psi{\\left(s,\\phi,t \\right)}}{\\mathrm{Le} H^{3}{\\left(s \\right)}}$"
      ],
      "text/plain": [
       "Eq(s**2*Derivative(\\psi(s, \\phi, t), s, t)/H(s)**3 + s*Derivative(\\psi(s, \\phi, t), (s, 2), t)/H(s) + s*Derivative(\\psi(s, \\phi, t), (\\phi, 2), t)/(2*H(s)**3) + Derivative(\\psi(s, \\phi, t), s, t)/H(s) + Derivative(\\psi(s, \\phi, t), (\\phi, 2), t)/(s*H(s)), \\gamma*s**6*b_+^+(s, \\phi, t)/(4*H(s)**4) + \\gamma*s**6*b_+^-(s, \\phi, t)/(4*H(s)**4) + \\gamma*s**6*b_-^+(s, \\phi, t)/(4*H(s)**4) + \\gamma*s**6*b_-^-(s, \\phi, t)/(4*H(s)**4) + \\gamma*s**5*Derivative(b_+^+(s, \\phi, t), s)/(4*H(s)**2) + \\gamma*s**5*Derivative(b_+^-(s, \\phi, t), s)/(4*H(s)**2) + \\gamma*s**5*Derivative(b_-^+(s, \\phi, t), s)/(4*H(s)**2) + \\gamma*s**5*Derivative(b_-^-(s, \\phi, t), s)/(4*H(s)**2) + \\gamma*s**4*z**2*b_+^+(s, \\phi, t)/(4*H(s)**4) + \\gamma*s**4*z**2*b_+^-(s, \\phi, t)/(4*H(s)**4) + \\gamma*s**4*z**2*b_-^+(s, \\phi, t)/(4*H(s)**4) + \\gamma*s**4*z**2*b_-^-(s, \\phi, t)/(4*H(s)**4) + \\gamma*s**4*Derivative(b_z^+(s, \\phi, t), s)/(2*H(s)) - \\gamma*s**4*Derivative(b_z^-(s, \\phi, t), s)/(2*H(s)) + 5*\\gamma*s**4*b_+^+(s, \\phi, t)/(4*H(s)**2) + 5*\\gamma*s**4*b_+^-(s, \\phi, t)/(4*H(s)**2) + 5*\\gamma*s**4*b_-^+(s, \\phi, t)/(4*H(s)**2) + 5*\\gamma*s**4*b_-^-(s, \\phi, t)/(4*H(s)**2) + 2*\\gamma*s**4*b_{e+}(s, \\phi, t)/H(s)**2 + 2*\\gamma*s**4*b_{e-}(s, \\phi, t)/H(s)**2 - I*\\gamma*s**4*Derivative(b_{e+}(s, \\phi, t), \\phi)/(2*H(s)**2) + I*\\gamma*s**4*Derivative(b_{e-}(s, \\phi, t), \\phi)/(2*H(s)**2) - \\gamma*s**4*b_+^+(s, \\phi, t)/(4*H(s)**4) - \\gamma*s**4*b_+^-(s, \\phi, t)/(4*H(s)**4) - \\gamma*s**4*b_-^+(s, \\phi, t)/(4*H(s)**4) - \\gamma*s**4*b_-^-(s, \\phi, t)/(4*H(s)**4) + \\gamma*s**3*z**2*Derivative(b_+^+(s, \\phi, t), s)/(4*H(s)**2) + \\gamma*s**3*z**2*Derivative(b_+^-(s, \\phi, t), s)/(4*H(s)**2) + \\gamma*s**3*z**2*Derivative(b_-^+(s, \\phi, t), s)/(4*H(s)**2) + \\gamma*s**3*z**2*Derivative(b_-^-(s, \\phi, t), s)/(4*H(s)**2) + 2*\\gamma*s**3*b_z^+(s, \\phi, t)/H(s) - 2*\\gamma*s**3*b_z^-(s, \\phi, t)/H(s) - \\gamma*s**3*Derivative(b_+^+(s, \\phi, t), s)/(4*H(s)**2) - \\gamma*s**3*Derivative(b_+^-(s, \\phi, t), s)/(4*H(s)**2) - \\gamma*s**3*Derivative(b_-^+(s, \\phi, t), s)/(4*H(s)**2) - \\gamma*s**3*Derivative(b_-^-(s, \\phi, t), s)/(4*H(s)**2) + \\gamma*s**2*z**2*Derivative(b_z^+(s, \\phi, t), s)/(2*H(s)) - \\gamma*s**2*z**2*Derivative(b_z^-(s, \\phi, t), s)/(2*H(s)) + 3*\\gamma*s**2*z**2*b_+^+(s, \\phi, t)/(4*H(s)**2) + 3*\\gamma*s**2*z**2*b_+^-(s, \\phi, t)/(4*H(s)**2) + 3*\\gamma*s**2*z**2*b_-^+(s, \\phi, t)/(4*H(s)**2) + 3*\\gamma*s**2*z**2*b_-^-(s, \\phi, t)/(4*H(s)**2) - \\gamma*s**2*Derivative(b_z^+(s, \\phi, t), s)/(2*H(s)) + \\gamma*s**2*Derivative(b_z^-(s, \\phi, t), s)/(2*H(s)) - 3*\\gamma*s**2*b_+^+(s, \\phi, t)/(4*H(s)**2) - 3*\\gamma*s**2*b_+^-(s, \\phi, t)/(4*H(s)**2) - 3*\\gamma*s**2*b_-^+(s, \\phi, t)/(4*H(s)**2) - 3*\\gamma*s**2*b_-^-(s, \\phi, t)/(4*H(s)**2) - \\gamma*s**2*b_{e+}(s, \\phi, t)/H(s)**2 - \\gamma*s**2*b_{e-}(s, \\phi, t)/H(s)**2 + I*\\gamma*s**2*Derivative(b_{e+}(s, \\phi, t), \\phi)/(2*H(s)**2) - I*\\gamma*s**2*Derivative(b_{e-}(s, \\phi, t), \\phi)/(2*H(s)**2) + \\gamma*s*z**2*b_z^+(s, \\phi, t)/H(s) - \\gamma*s*z**2*b_z^-(s, \\phi, t)/H(s) - \\gamma*s*b_z^+(s, \\phi, t)/H(s) + \\gamma*s*b_z^-(s, \\phi, t)/H(s) + I*s*Derivative(\\overline{m_+}(s, \\phi, t), (s, 2))/(8*H(s)) - I*s*Derivative(\\overline{m_-}(s, \\phi, t), (s, 2))/(8*H(s)) - s*Derivative(\\widetilde{m_{z+}}(s, \\phi, t), \\phi, s)/(4*H(s)**2) - s*Derivative(\\widetilde{m_{z-}}(s, \\phi, t), \\phi, s)/(4*H(s)**2) + 3*I*Derivative(\\overline{m_+}(s, \\phi, t), s)/(8*H(s)) - 3*I*Derivative(\\overline{m_-}(s, \\phi, t), s)/(8*H(s)) + Derivative(\\overline{m_+}(s, \\phi, t), \\phi, s)/(4*H(s)) + Derivative(\\overline{m_-}(s, \\phi, t), \\phi, s)/(4*H(s)) - Derivative(\\widetilde{m_{z+}}(s, \\phi, t), \\phi)/(4*H(s)**2) + I*Derivative(\\widetilde{m_{z+}}(s, \\phi, t), (\\phi, 2))/(4*H(s)**2) - Derivative(\\widetilde{m_{z-}}(s, \\phi, t), \\phi)/(4*H(s)**2) - I*Derivative(\\widetilde{m_{z-}}(s, \\phi, t), (\\phi, 2))/(4*H(s)**2) + Derivative(\\overline{m_+}(s, \\phi, t), \\phi)/(4*s*H(s)) - I*Derivative(\\overline{m_+}(s, \\phi, t), (\\phi, 2))/(8*s*H(s)) + Derivative(\\overline{m_-}(s, \\phi, t), \\phi)/(4*s*H(s)) + I*Derivative(\\overline{m_-}(s, \\phi, t), (\\phi, 2))/(8*s*H(s)) + 2*s*Derivative(\\psi(s, \\phi, t), \\phi)/(\\mathrm{Le}*H(s)**3))"
      ]
     },
     "metadata": {},
     "output_type": "display_data"
    },
    {
     "data": {
      "text/latex": [
       "$\\displaystyle \\frac{\\partial}{\\partial t} \\overline{m_1}{\\left(s,\\phi,t \\right)} = - \\frac{32 \\gamma^{2} s^{5} \\frac{\\partial^{2}}{\\partial s\\partial \\phi} \\psi{\\left(s,\\phi,t \\right)}}{15} - \\frac{64 \\gamma^{2} s^{4} \\frac{\\partial}{\\partial \\phi} \\psi{\\left(s,\\phi,t \\right)}}{15} + \\frac{64 \\gamma^{2} s^{3} \\frac{\\partial^{2}}{\\partial s\\partial \\phi} \\psi{\\left(s,\\phi,t \\right)}}{15} + \\frac{64 \\gamma^{2} s^{2} \\frac{\\partial}{\\partial \\phi} \\psi{\\left(s,\\phi,t \\right)}}{15} - \\frac{32 \\gamma^{2} s \\frac{\\partial^{2}}{\\partial s\\partial \\phi} \\psi{\\left(s,\\phi,t \\right)}}{15}$"
      ],
      "text/plain": [
       "Eq(Derivative(\\overline{m_1}(s, \\phi, t), t), -32*\\gamma**2*s**5*Derivative(\\psi(s, \\phi, t), \\phi, s)/15 - 64*\\gamma**2*s**4*Derivative(\\psi(s, \\phi, t), \\phi)/15 + 64*\\gamma**2*s**3*Derivative(\\psi(s, \\phi, t), \\phi, s)/15 + 64*\\gamma**2*s**2*Derivative(\\psi(s, \\phi, t), \\phi)/15 - 32*\\gamma**2*s*Derivative(\\psi(s, \\phi, t), \\phi, s)/15)"
      ]
     },
     "metadata": {},
     "output_type": "display_data"
    },
    {
     "data": {
      "text/latex": [
       "$\\displaystyle \\frac{\\partial}{\\partial t} \\overline{m_+}{\\left(s,\\phi,t \\right)} = \\frac{32 \\gamma^{2} s^{5} \\frac{\\partial^{2}}{\\partial s\\partial \\phi} \\psi{\\left(s,\\phi,t \\right)}}{15} + \\frac{64 \\gamma^{2} s^{4} \\frac{\\partial}{\\partial \\phi} \\psi{\\left(s,\\phi,t \\right)}}{15} + \\frac{32 i \\gamma^{2} s^{4} \\frac{\\partial^{2}}{\\partial \\phi^{2}} \\psi{\\left(s,\\phi,t \\right)}}{15} - \\frac{64 \\gamma^{2} s^{3} \\frac{\\partial^{2}}{\\partial s\\partial \\phi} \\psi{\\left(s,\\phi,t \\right)}}{15} - \\frac{64 \\gamma^{2} s^{2} \\frac{\\partial}{\\partial \\phi} \\psi{\\left(s,\\phi,t \\right)}}{15} - \\frac{64 i \\gamma^{2} s^{2} \\frac{\\partial^{2}}{\\partial \\phi^{2}} \\psi{\\left(s,\\phi,t \\right)}}{15} + \\frac{32 \\gamma^{2} s \\frac{\\partial^{2}}{\\partial s\\partial \\phi} \\psi{\\left(s,\\phi,t \\right)}}{15} + \\frac{32 i \\gamma^{2} \\frac{\\partial^{2}}{\\partial \\phi^{2}} \\psi{\\left(s,\\phi,t \\right)}}{15}$"
      ],
      "text/plain": [
       "Eq(Derivative(\\overline{m_+}(s, \\phi, t), t), 32*\\gamma**2*s**5*Derivative(\\psi(s, \\phi, t), \\phi, s)/15 + 64*\\gamma**2*s**4*Derivative(\\psi(s, \\phi, t), \\phi)/15 + 32*I*\\gamma**2*s**4*Derivative(\\psi(s, \\phi, t), (\\phi, 2))/15 - 64*\\gamma**2*s**3*Derivative(\\psi(s, \\phi, t), \\phi, s)/15 - 64*\\gamma**2*s**2*Derivative(\\psi(s, \\phi, t), \\phi)/15 - 64*I*\\gamma**2*s**2*Derivative(\\psi(s, \\phi, t), (\\phi, 2))/15 + 32*\\gamma**2*s*Derivative(\\psi(s, \\phi, t), \\phi, s)/15 + 32*I*\\gamma**2*Derivative(\\psi(s, \\phi, t), (\\phi, 2))/15)"
      ]
     },
     "metadata": {},
     "output_type": "display_data"
    },
    {
     "data": {
      "text/latex": [
       "$\\displaystyle \\frac{\\partial}{\\partial t} \\overline{m_-}{\\left(s,\\phi,t \\right)} = \\frac{32 \\gamma^{2} s^{5} \\frac{\\partial^{2}}{\\partial s\\partial \\phi} \\psi{\\left(s,\\phi,t \\right)}}{15} + \\frac{64 \\gamma^{2} s^{4} \\frac{\\partial}{\\partial \\phi} \\psi{\\left(s,\\phi,t \\right)}}{15} - \\frac{32 i \\gamma^{2} s^{4} \\frac{\\partial^{2}}{\\partial \\phi^{2}} \\psi{\\left(s,\\phi,t \\right)}}{15} - \\frac{64 \\gamma^{2} s^{3} \\frac{\\partial^{2}}{\\partial s\\partial \\phi} \\psi{\\left(s,\\phi,t \\right)}}{15} - \\frac{64 \\gamma^{2} s^{2} \\frac{\\partial}{\\partial \\phi} \\psi{\\left(s,\\phi,t \\right)}}{15} + \\frac{64 i \\gamma^{2} s^{2} \\frac{\\partial^{2}}{\\partial \\phi^{2}} \\psi{\\left(s,\\phi,t \\right)}}{15} + \\frac{32 \\gamma^{2} s \\frac{\\partial^{2}}{\\partial s\\partial \\phi} \\psi{\\left(s,\\phi,t \\right)}}{15} - \\frac{32 i \\gamma^{2} \\frac{\\partial^{2}}{\\partial \\phi^{2}} \\psi{\\left(s,\\phi,t \\right)}}{15}$"
      ],
      "text/plain": [
       "Eq(Derivative(\\overline{m_-}(s, \\phi, t), t), 32*\\gamma**2*s**5*Derivative(\\psi(s, \\phi, t), \\phi, s)/15 + 64*\\gamma**2*s**4*Derivative(\\psi(s, \\phi, t), \\phi)/15 - 32*I*\\gamma**2*s**4*Derivative(\\psi(s, \\phi, t), (\\phi, 2))/15 - 64*\\gamma**2*s**3*Derivative(\\psi(s, \\phi, t), \\phi, s)/15 - 64*\\gamma**2*s**2*Derivative(\\psi(s, \\phi, t), \\phi)/15 + 64*I*\\gamma**2*s**2*Derivative(\\psi(s, \\phi, t), (\\phi, 2))/15 + 32*\\gamma**2*s*Derivative(\\psi(s, \\phi, t), \\phi, s)/15 - 32*I*\\gamma**2*Derivative(\\psi(s, \\phi, t), (\\phi, 2))/15)"
      ]
     },
     "metadata": {},
     "output_type": "display_data"
    },
    {
     "data": {
      "text/latex": [
       "$\\displaystyle \\frac{\\partial}{\\partial t} \\widetilde{m_{z+}}{\\left(s,\\phi,t \\right)} = - \\frac{i \\gamma^{2} s^{5} \\frac{\\partial^{2}}{\\partial \\phi^{2}} \\psi{\\left(s,\\phi,t \\right)}}{3 H{\\left(s \\right)}} + \\frac{2 i \\gamma^{2} s^{3} \\frac{\\partial^{2}}{\\partial \\phi^{2}} \\psi{\\left(s,\\phi,t \\right)}}{3 H{\\left(s \\right)}} - \\frac{i \\gamma^{2} s \\frac{\\partial^{2}}{\\partial \\phi^{2}} \\psi{\\left(s,\\phi,t \\right)}}{3 H{\\left(s \\right)}}$"
      ],
      "text/plain": [
       "Eq(Derivative(\\widetilde{m_{z+}}(s, \\phi, t), t), -I*\\gamma**2*s**5*Derivative(\\psi(s, \\phi, t), (\\phi, 2))/(3*H(s)) + 2*I*\\gamma**2*s**3*Derivative(\\psi(s, \\phi, t), (\\phi, 2))/(3*H(s)) - I*\\gamma**2*s*Derivative(\\psi(s, \\phi, t), (\\phi, 2))/(3*H(s)))"
      ]
     },
     "metadata": {},
     "output_type": "display_data"
    },
    {
     "data": {
      "text/latex": [
       "$\\displaystyle \\frac{\\partial}{\\partial t} \\widetilde{m_{z-}}{\\left(s,\\phi,t \\right)} = \\frac{i \\gamma^{2} s^{5} \\frac{\\partial^{2}}{\\partial \\phi^{2}} \\psi{\\left(s,\\phi,t \\right)}}{3 H{\\left(s \\right)}} - \\frac{2 i \\gamma^{2} s^{3} \\frac{\\partial^{2}}{\\partial \\phi^{2}} \\psi{\\left(s,\\phi,t \\right)}}{3 H{\\left(s \\right)}} + \\frac{i \\gamma^{2} s \\frac{\\partial^{2}}{\\partial \\phi^{2}} \\psi{\\left(s,\\phi,t \\right)}}{3 H{\\left(s \\right)}}$"
      ],
      "text/plain": [
       "Eq(Derivative(\\widetilde{m_{z-}}(s, \\phi, t), t), I*\\gamma**2*s**5*Derivative(\\psi(s, \\phi, t), (\\phi, 2))/(3*H(s)) - 2*I*\\gamma**2*s**3*Derivative(\\psi(s, \\phi, t), (\\phi, 2))/(3*H(s)) + I*\\gamma**2*s*Derivative(\\psi(s, \\phi, t), (\\phi, 2))/(3*H(s)))"
      ]
     },
     "metadata": {},
     "output_type": "display_data"
    },
    {
     "data": {
      "text/latex": [
       "$\\displaystyle \\frac{\\partial}{\\partial t} \\widetilde{zm_1}{\\left(s,\\phi,t \\right)} = \\frac{2 \\gamma^{2} s^{7} \\frac{\\partial^{2}}{\\partial s\\partial \\phi} \\psi{\\left(s,\\phi,t \\right)}}{3 H{\\left(s \\right)}} + \\frac{4 \\gamma^{2} s^{6} \\frac{\\partial}{\\partial \\phi} \\psi{\\left(s,\\phi,t \\right)}}{3 H{\\left(s \\right)}} - \\frac{2 \\gamma^{2} s^{5} \\frac{\\partial^{2}}{\\partial s\\partial \\phi} \\psi{\\left(s,\\phi,t \\right)}}{H{\\left(s \\right)}} - \\frac{8 \\gamma^{2} s^{4} \\frac{\\partial}{\\partial \\phi} \\psi{\\left(s,\\phi,t \\right)}}{3 H{\\left(s \\right)}} + \\frac{2 \\gamma^{2} s^{3} \\frac{\\partial^{2}}{\\partial s\\partial \\phi} \\psi{\\left(s,\\phi,t \\right)}}{H{\\left(s \\right)}} + \\frac{4 \\gamma^{2} s^{2} \\frac{\\partial}{\\partial \\phi} \\psi{\\left(s,\\phi,t \\right)}}{3 H{\\left(s \\right)}} - \\frac{2 \\gamma^{2} s \\frac{\\partial^{2}}{\\partial s\\partial \\phi} \\psi{\\left(s,\\phi,t \\right)}}{3 H{\\left(s \\right)}}$"
      ],
      "text/plain": [
       "Eq(Derivative(\\widetilde{zm_1}(s, \\phi, t), t), 2*\\gamma**2*s**7*Derivative(\\psi(s, \\phi, t), \\phi, s)/(3*H(s)) + 4*\\gamma**2*s**6*Derivative(\\psi(s, \\phi, t), \\phi)/(3*H(s)) - 2*\\gamma**2*s**5*Derivative(\\psi(s, \\phi, t), \\phi, s)/H(s) - 8*\\gamma**2*s**4*Derivative(\\psi(s, \\phi, t), \\phi)/(3*H(s)) + 2*\\gamma**2*s**3*Derivative(\\psi(s, \\phi, t), \\phi, s)/H(s) + 4*\\gamma**2*s**2*Derivative(\\psi(s, \\phi, t), \\phi)/(3*H(s)) - 2*\\gamma**2*s*Derivative(\\psi(s, \\phi, t), \\phi, s)/(3*H(s)))"
      ]
     },
     "metadata": {},
     "output_type": "display_data"
    },
    {
     "data": {
      "text/latex": [
       "$\\displaystyle \\frac{\\partial}{\\partial t} \\widetilde{zm_+}{\\left(s,\\phi,t \\right)} = - \\frac{2 \\gamma^{2} s^{7} \\frac{\\partial^{2}}{\\partial s\\partial \\phi} \\psi{\\left(s,\\phi,t \\right)}}{3 H{\\left(s \\right)}} - \\frac{4 \\gamma^{2} s^{6} \\frac{\\partial}{\\partial \\phi} \\psi{\\left(s,\\phi,t \\right)}}{3 H{\\left(s \\right)}} - \\frac{2 i \\gamma^{2} s^{6} \\frac{\\partial^{2}}{\\partial \\phi^{2}} \\psi{\\left(s,\\phi,t \\right)}}{3 H{\\left(s \\right)}} + \\frac{2 \\gamma^{2} s^{5} \\frac{\\partial^{2}}{\\partial s\\partial \\phi} \\psi{\\left(s,\\phi,t \\right)}}{H{\\left(s \\right)}} + \\frac{8 \\gamma^{2} s^{4} \\frac{\\partial}{\\partial \\phi} \\psi{\\left(s,\\phi,t \\right)}}{3 H{\\left(s \\right)}} + \\frac{2 i \\gamma^{2} s^{4} \\frac{\\partial^{2}}{\\partial \\phi^{2}} \\psi{\\left(s,\\phi,t \\right)}}{H{\\left(s \\right)}} - \\frac{2 \\gamma^{2} s^{3} \\frac{\\partial^{2}}{\\partial s\\partial \\phi} \\psi{\\left(s,\\phi,t \\right)}}{H{\\left(s \\right)}} - \\frac{4 \\gamma^{2} s^{2} \\frac{\\partial}{\\partial \\phi} \\psi{\\left(s,\\phi,t \\right)}}{3 H{\\left(s \\right)}} - \\frac{2 i \\gamma^{2} s^{2} \\frac{\\partial^{2}}{\\partial \\phi^{2}} \\psi{\\left(s,\\phi,t \\right)}}{H{\\left(s \\right)}} + \\frac{2 \\gamma^{2} s \\frac{\\partial^{2}}{\\partial s\\partial \\phi} \\psi{\\left(s,\\phi,t \\right)}}{3 H{\\left(s \\right)}} + \\frac{2 i \\gamma^{2} \\frac{\\partial^{2}}{\\partial \\phi^{2}} \\psi{\\left(s,\\phi,t \\right)}}{3 H{\\left(s \\right)}}$"
      ],
      "text/plain": [
       "Eq(Derivative(\\widetilde{zm_+}(s, \\phi, t), t), -2*\\gamma**2*s**7*Derivative(\\psi(s, \\phi, t), \\phi, s)/(3*H(s)) - 4*\\gamma**2*s**6*Derivative(\\psi(s, \\phi, t), \\phi)/(3*H(s)) - 2*I*\\gamma**2*s**6*Derivative(\\psi(s, \\phi, t), (\\phi, 2))/(3*H(s)) + 2*\\gamma**2*s**5*Derivative(\\psi(s, \\phi, t), \\phi, s)/H(s) + 8*\\gamma**2*s**4*Derivative(\\psi(s, \\phi, t), \\phi)/(3*H(s)) + 2*I*\\gamma**2*s**4*Derivative(\\psi(s, \\phi, t), (\\phi, 2))/H(s) - 2*\\gamma**2*s**3*Derivative(\\psi(s, \\phi, t), \\phi, s)/H(s) - 4*\\gamma**2*s**2*Derivative(\\psi(s, \\phi, t), \\phi)/(3*H(s)) - 2*I*\\gamma**2*s**2*Derivative(\\psi(s, \\phi, t), (\\phi, 2))/H(s) + 2*\\gamma**2*s*Derivative(\\psi(s, \\phi, t), \\phi, s)/(3*H(s)) + 2*I*\\gamma**2*Derivative(\\psi(s, \\phi, t), (\\phi, 2))/(3*H(s)))"
      ]
     },
     "metadata": {},
     "output_type": "display_data"
    },
    {
     "data": {
      "text/latex": [
       "$\\displaystyle \\frac{\\partial}{\\partial t} \\widetilde{zm_-}{\\left(s,\\phi,t \\right)} = - \\frac{2 \\gamma^{2} s^{7} \\frac{\\partial^{2}}{\\partial s\\partial \\phi} \\psi{\\left(s,\\phi,t \\right)}}{3 H{\\left(s \\right)}} - \\frac{4 \\gamma^{2} s^{6} \\frac{\\partial}{\\partial \\phi} \\psi{\\left(s,\\phi,t \\right)}}{3 H{\\left(s \\right)}} + \\frac{2 i \\gamma^{2} s^{6} \\frac{\\partial^{2}}{\\partial \\phi^{2}} \\psi{\\left(s,\\phi,t \\right)}}{3 H{\\left(s \\right)}} + \\frac{2 \\gamma^{2} s^{5} \\frac{\\partial^{2}}{\\partial s\\partial \\phi} \\psi{\\left(s,\\phi,t \\right)}}{H{\\left(s \\right)}} + \\frac{8 \\gamma^{2} s^{4} \\frac{\\partial}{\\partial \\phi} \\psi{\\left(s,\\phi,t \\right)}}{3 H{\\left(s \\right)}} - \\frac{2 i \\gamma^{2} s^{4} \\frac{\\partial^{2}}{\\partial \\phi^{2}} \\psi{\\left(s,\\phi,t \\right)}}{H{\\left(s \\right)}} - \\frac{2 \\gamma^{2} s^{3} \\frac{\\partial^{2}}{\\partial s\\partial \\phi} \\psi{\\left(s,\\phi,t \\right)}}{H{\\left(s \\right)}} - \\frac{4 \\gamma^{2} s^{2} \\frac{\\partial}{\\partial \\phi} \\psi{\\left(s,\\phi,t \\right)}}{3 H{\\left(s \\right)}} + \\frac{2 i \\gamma^{2} s^{2} \\frac{\\partial^{2}}{\\partial \\phi^{2}} \\psi{\\left(s,\\phi,t \\right)}}{H{\\left(s \\right)}} + \\frac{2 \\gamma^{2} s \\frac{\\partial^{2}}{\\partial s\\partial \\phi} \\psi{\\left(s,\\phi,t \\right)}}{3 H{\\left(s \\right)}} - \\frac{2 i \\gamma^{2} \\frac{\\partial^{2}}{\\partial \\phi^{2}} \\psi{\\left(s,\\phi,t \\right)}}{3 H{\\left(s \\right)}}$"
      ],
      "text/plain": [
       "Eq(Derivative(\\widetilde{zm_-}(s, \\phi, t), t), -2*\\gamma**2*s**7*Derivative(\\psi(s, \\phi, t), \\phi, s)/(3*H(s)) - 4*\\gamma**2*s**6*Derivative(\\psi(s, \\phi, t), \\phi)/(3*H(s)) + 2*I*\\gamma**2*s**6*Derivative(\\psi(s, \\phi, t), (\\phi, 2))/(3*H(s)) + 2*\\gamma**2*s**5*Derivative(\\psi(s, \\phi, t), \\phi, s)/H(s) + 8*\\gamma**2*s**4*Derivative(\\psi(s, \\phi, t), \\phi)/(3*H(s)) - 2*I*\\gamma**2*s**4*Derivative(\\psi(s, \\phi, t), (\\phi, 2))/H(s) - 2*\\gamma**2*s**3*Derivative(\\psi(s, \\phi, t), \\phi, s)/H(s) - 4*\\gamma**2*s**2*Derivative(\\psi(s, \\phi, t), \\phi)/(3*H(s)) + 2*I*\\gamma**2*s**2*Derivative(\\psi(s, \\phi, t), (\\phi, 2))/H(s) + 2*\\gamma**2*s*Derivative(\\psi(s, \\phi, t), \\phi, s)/(3*H(s)) - 2*I*\\gamma**2*Derivative(\\psi(s, \\phi, t), (\\phi, 2))/(3*H(s)))"
      ]
     },
     "metadata": {},
     "output_type": "display_data"
    },
    {
     "data": {
      "text/latex": [
       "$\\displaystyle \\frac{\\partial}{\\partial t} b_{e+}{\\left(s,\\phi,t \\right)} = \\frac{i \\gamma s^{2} \\frac{\\partial^{2}}{\\partial s\\partial \\phi} \\psi{\\left(s,\\phi,t \\right)}}{H{\\left(s \\right)}} + \\frac{2 i \\gamma s \\frac{\\partial}{\\partial \\phi} \\psi{\\left(s,\\phi,t \\right)}}{H{\\left(s \\right)}} - \\frac{\\gamma s \\frac{\\partial^{2}}{\\partial \\phi^{2}} \\psi{\\left(s,\\phi,t \\right)}}{H{\\left(s \\right)}} - \\frac{i \\gamma \\frac{\\partial^{2}}{\\partial s\\partial \\phi} \\psi{\\left(s,\\phi,t \\right)}}{H{\\left(s \\right)}} + \\frac{\\gamma \\frac{\\partial^{2}}{\\partial \\phi^{2}} \\psi{\\left(s,\\phi,t \\right)}}{s H{\\left(s \\right)}}$"
      ],
      "text/plain": [
       "Eq(Derivative(b_{e+}(s, \\phi, t), t), I*\\gamma*s**2*Derivative(\\psi(s, \\phi, t), \\phi, s)/H(s) + 2*I*\\gamma*s*Derivative(\\psi(s, \\phi, t), \\phi)/H(s) - \\gamma*s*Derivative(\\psi(s, \\phi, t), (\\phi, 2))/H(s) - I*\\gamma*Derivative(\\psi(s, \\phi, t), \\phi, s)/H(s) + \\gamma*Derivative(\\psi(s, \\phi, t), (\\phi, 2))/(s*H(s)))"
      ]
     },
     "metadata": {},
     "output_type": "display_data"
    },
    {
     "data": {
      "text/latex": [
       "$\\displaystyle \\frac{\\partial}{\\partial t} b_{e-}{\\left(s,\\phi,t \\right)} = - \\frac{i \\gamma s^{2} \\frac{\\partial^{2}}{\\partial s\\partial \\phi} \\psi{\\left(s,\\phi,t \\right)}}{H{\\left(s \\right)}} - \\frac{2 i \\gamma s \\frac{\\partial}{\\partial \\phi} \\psi{\\left(s,\\phi,t \\right)}}{H{\\left(s \\right)}} - \\frac{\\gamma s \\frac{\\partial^{2}}{\\partial \\phi^{2}} \\psi{\\left(s,\\phi,t \\right)}}{H{\\left(s \\right)}} + \\frac{i \\gamma \\frac{\\partial^{2}}{\\partial s\\partial \\phi} \\psi{\\left(s,\\phi,t \\right)}}{H{\\left(s \\right)}} + \\frac{\\gamma \\frac{\\partial^{2}}{\\partial \\phi^{2}} \\psi{\\left(s,\\phi,t \\right)}}{s H{\\left(s \\right)}}$"
      ],
      "text/plain": [
       "Eq(Derivative(b_{e-}(s, \\phi, t), t), -I*\\gamma*s**2*Derivative(\\psi(s, \\phi, t), \\phi, s)/H(s) - 2*I*\\gamma*s*Derivative(\\psi(s, \\phi, t), \\phi)/H(s) - \\gamma*s*Derivative(\\psi(s, \\phi, t), (\\phi, 2))/H(s) + I*\\gamma*Derivative(\\psi(s, \\phi, t), \\phi, s)/H(s) + \\gamma*Derivative(\\psi(s, \\phi, t), (\\phi, 2))/(s*H(s)))"
      ]
     },
     "metadata": {},
     "output_type": "display_data"
    },
    {
     "data": {
      "text/latex": [
       "$\\displaystyle \\frac{\\partial}{\\partial t} b_{ez}{\\left(s,\\phi,t \\right)} = 0$"
      ],
      "text/plain": [
       "Eq(Derivative(b_{ez}(s, \\phi, t), t), 0)"
      ]
     },
     "metadata": {},
     "output_type": "display_data"
    },
    {
     "data": {
      "text/latex": [
       "$\\displaystyle \\frac{\\partial}{\\partial t} b_{e+, z}{\\left(s,\\phi,t \\right)} = 0$"
      ],
      "text/plain": [
       "Eq(Derivative(b_{e+, z}(s, \\phi, t), t), 0)"
      ]
     },
     "metadata": {},
     "output_type": "display_data"
    },
    {
     "data": {
      "text/latex": [
       "$\\displaystyle \\frac{\\partial}{\\partial t} b_{e-, z}{\\left(s,\\phi,t \\right)} = 0$"
      ],
      "text/plain": [
       "Eq(Derivative(b_{e-, z}(s, \\phi, t), t), 0)"
      ]
     },
     "metadata": {},
     "output_type": "display_data"
    },
    {
     "data": {
      "text/latex": [
       "$\\displaystyle \\frac{\\partial}{\\partial t} b_{r1}{\\left(\\theta,\\phi,t \\right)} = - \\frac{U^{0}_{\\phi}{\\left(r,\\theta,\\phi \\right)} \\frac{\\partial}{\\partial \\phi} b_{r1}{\\left(\\theta,\\phi,t \\right)}}{r \\sin{\\left(\\theta \\right)}} - \\frac{U^{0}_{\\theta}{\\left(r,\\theta,\\phi \\right)} b_{r1}{\\left(\\theta,\\phi,t \\right)}}{r \\tan{\\left(\\theta \\right)}} - \\frac{U^{0}_{\\theta}{\\left(r,\\theta,\\phi \\right)} \\frac{\\partial}{\\partial \\theta} b_{r1}{\\left(\\theta,\\phi,t \\right)}}{r} - \\frac{b_{r1}{\\left(\\theta,\\phi,t \\right)} \\frac{\\partial}{\\partial \\theta} U^{0}_{\\theta}{\\left(r,\\theta,\\phi \\right)}}{r} - \\frac{b_{r1}{\\left(\\theta,\\phi,t \\right)} \\frac{\\partial}{\\partial \\phi} U^{0}_{\\phi}{\\left(r,\\theta,\\phi \\right)}}{r \\sin{\\left(\\theta \\right)}}$"
      ],
      "text/plain": [
       "Eq(Derivative(b_{r1}(\\theta, \\phi, t), t), -U_\\phi^0(r, \\theta, \\phi)*Derivative(b_{r1}(\\theta, \\phi, t), \\phi)/(r*sin(\\theta)) - U_\\theta^0(r, \\theta, \\phi)*b_{r1}(\\theta, \\phi, t)/(r*tan(\\theta)) - U_\\theta^0(r, \\theta, \\phi)*Derivative(b_{r1}(\\theta, \\phi, t), \\theta)/r - b_{r1}(\\theta, \\phi, t)*Derivative(U_\\theta^0(r, \\theta, \\phi), \\theta)/r - b_{r1}(\\theta, \\phi, t)*Derivative(U_\\phi^0(r, \\theta, \\phi), \\phi)/(r*sin(\\theta)))"
      ]
     },
     "metadata": {},
     "output_type": "display_data"
    },
    {
     "data": {
      "text/latex": [
       "$\\displaystyle \\frac{\\partial}{\\partial t} b^{+}_{+}{\\left(s,\\phi,t \\right)} = - \\frac{i \\gamma s^{4} \\frac{\\partial^{2}}{\\partial s\\partial \\phi} \\psi{\\left(s,\\phi,t \\right)}}{H^{3}{\\left(s \\right)}} - \\frac{2 i \\gamma s^{3} \\frac{\\partial}{\\partial \\phi} \\psi{\\left(s,\\phi,t \\right)}}{H^{3}{\\left(s \\right)}} + \\frac{\\gamma s^{3} \\frac{\\partial^{2}}{\\partial \\phi^{2}} \\psi{\\left(s,\\phi,t \\right)}}{H^{3}{\\left(s \\right)}} - \\frac{i \\gamma s^{2} \\frac{\\partial^{2}}{\\partial s\\partial \\phi} \\psi{\\left(s,\\phi,t \\right)}}{H{\\left(s \\right)}} + \\frac{2 i \\gamma s^{2} \\frac{\\partial^{2}}{\\partial s\\partial \\phi} \\psi{\\left(s,\\phi,t \\right)}}{H^{3}{\\left(s \\right)}} - \\frac{2 i \\gamma s \\frac{\\partial}{\\partial \\phi} \\psi{\\left(s,\\phi,t \\right)}}{H{\\left(s \\right)}} + \\frac{\\gamma s \\frac{\\partial^{2}}{\\partial \\phi^{2}} \\psi{\\left(s,\\phi,t \\right)}}{H{\\left(s \\right)}} + \\frac{2 i \\gamma s \\frac{\\partial}{\\partial \\phi} \\psi{\\left(s,\\phi,t \\right)}}{H^{3}{\\left(s \\right)}} - \\frac{2 \\gamma s \\frac{\\partial^{2}}{\\partial \\phi^{2}} \\psi{\\left(s,\\phi,t \\right)}}{H^{3}{\\left(s \\right)}} + \\frac{i \\gamma \\frac{\\partial^{2}}{\\partial s\\partial \\phi} \\psi{\\left(s,\\phi,t \\right)}}{H{\\left(s \\right)}} - \\frac{i \\gamma \\frac{\\partial^{2}}{\\partial s\\partial \\phi} \\psi{\\left(s,\\phi,t \\right)}}{H^{3}{\\left(s \\right)}} - \\frac{\\gamma \\frac{\\partial^{2}}{\\partial \\phi^{2}} \\psi{\\left(s,\\phi,t \\right)}}{s H{\\left(s \\right)}} + \\frac{\\gamma \\frac{\\partial^{2}}{\\partial \\phi^{2}} \\psi{\\left(s,\\phi,t \\right)}}{s H^{3}{\\left(s \\right)}}$"
      ],
      "text/plain": [
       "Eq(Derivative(b_+^+(s, \\phi, t), t), -I*\\gamma*s**4*Derivative(\\psi(s, \\phi, t), \\phi, s)/H(s)**3 - 2*I*\\gamma*s**3*Derivative(\\psi(s, \\phi, t), \\phi)/H(s)**3 + \\gamma*s**3*Derivative(\\psi(s, \\phi, t), (\\phi, 2))/H(s)**3 - I*\\gamma*s**2*Derivative(\\psi(s, \\phi, t), \\phi, s)/H(s) + 2*I*\\gamma*s**2*Derivative(\\psi(s, \\phi, t), \\phi, s)/H(s)**3 - 2*I*\\gamma*s*Derivative(\\psi(s, \\phi, t), \\phi)/H(s) + \\gamma*s*Derivative(\\psi(s, \\phi, t), (\\phi, 2))/H(s) + 2*I*\\gamma*s*Derivative(\\psi(s, \\phi, t), \\phi)/H(s)**3 - 2*\\gamma*s*Derivative(\\psi(s, \\phi, t), (\\phi, 2))/H(s)**3 + I*\\gamma*Derivative(\\psi(s, \\phi, t), \\phi, s)/H(s) - I*\\gamma*Derivative(\\psi(s, \\phi, t), \\phi, s)/H(s)**3 - \\gamma*Derivative(\\psi(s, \\phi, t), (\\phi, 2))/(s*H(s)) + \\gamma*Derivative(\\psi(s, \\phi, t), (\\phi, 2))/(s*H(s)**3))"
      ]
     },
     "metadata": {},
     "output_type": "display_data"
    },
    {
     "data": {
      "text/latex": [
       "$\\displaystyle \\frac{\\partial}{\\partial t} b^{+}_{-}{\\left(s,\\phi,t \\right)} = \\frac{i \\gamma s^{4} \\frac{\\partial^{2}}{\\partial s\\partial \\phi} \\psi{\\left(s,\\phi,t \\right)}}{H^{3}{\\left(s \\right)}} + \\frac{2 i \\gamma s^{3} \\frac{\\partial}{\\partial \\phi} \\psi{\\left(s,\\phi,t \\right)}}{H^{3}{\\left(s \\right)}} + \\frac{\\gamma s^{3} \\frac{\\partial^{2}}{\\partial \\phi^{2}} \\psi{\\left(s,\\phi,t \\right)}}{H^{3}{\\left(s \\right)}} + \\frac{i \\gamma s^{2} \\frac{\\partial^{2}}{\\partial s\\partial \\phi} \\psi{\\left(s,\\phi,t \\right)}}{H{\\left(s \\right)}} - \\frac{2 i \\gamma s^{2} \\frac{\\partial^{2}}{\\partial s\\partial \\phi} \\psi{\\left(s,\\phi,t \\right)}}{H^{3}{\\left(s \\right)}} + \\frac{2 i \\gamma s \\frac{\\partial}{\\partial \\phi} \\psi{\\left(s,\\phi,t \\right)}}{H{\\left(s \\right)}} + \\frac{\\gamma s \\frac{\\partial^{2}}{\\partial \\phi^{2}} \\psi{\\left(s,\\phi,t \\right)}}{H{\\left(s \\right)}} - \\frac{2 i \\gamma s \\frac{\\partial}{\\partial \\phi} \\psi{\\left(s,\\phi,t \\right)}}{H^{3}{\\left(s \\right)}} - \\frac{2 \\gamma s \\frac{\\partial^{2}}{\\partial \\phi^{2}} \\psi{\\left(s,\\phi,t \\right)}}{H^{3}{\\left(s \\right)}} - \\frac{i \\gamma \\frac{\\partial^{2}}{\\partial s\\partial \\phi} \\psi{\\left(s,\\phi,t \\right)}}{H{\\left(s \\right)}} + \\frac{i \\gamma \\frac{\\partial^{2}}{\\partial s\\partial \\phi} \\psi{\\left(s,\\phi,t \\right)}}{H^{3}{\\left(s \\right)}} - \\frac{\\gamma \\frac{\\partial^{2}}{\\partial \\phi^{2}} \\psi{\\left(s,\\phi,t \\right)}}{s H{\\left(s \\right)}} + \\frac{\\gamma \\frac{\\partial^{2}}{\\partial \\phi^{2}} \\psi{\\left(s,\\phi,t \\right)}}{s H^{3}{\\left(s \\right)}}$"
      ],
      "text/plain": [
       "Eq(Derivative(b_-^+(s, \\phi, t), t), I*\\gamma*s**4*Derivative(\\psi(s, \\phi, t), \\phi, s)/H(s)**3 + 2*I*\\gamma*s**3*Derivative(\\psi(s, \\phi, t), \\phi)/H(s)**3 + \\gamma*s**3*Derivative(\\psi(s, \\phi, t), (\\phi, 2))/H(s)**3 + I*\\gamma*s**2*Derivative(\\psi(s, \\phi, t), \\phi, s)/H(s) - 2*I*\\gamma*s**2*Derivative(\\psi(s, \\phi, t), \\phi, s)/H(s)**3 + 2*I*\\gamma*s*Derivative(\\psi(s, \\phi, t), \\phi)/H(s) + \\gamma*s*Derivative(\\psi(s, \\phi, t), (\\phi, 2))/H(s) - 2*I*\\gamma*s*Derivative(\\psi(s, \\phi, t), \\phi)/H(s)**3 - 2*\\gamma*s*Derivative(\\psi(s, \\phi, t), (\\phi, 2))/H(s)**3 - I*\\gamma*Derivative(\\psi(s, \\phi, t), \\phi, s)/H(s) + I*\\gamma*Derivative(\\psi(s, \\phi, t), \\phi, s)/H(s)**3 - \\gamma*Derivative(\\psi(s, \\phi, t), (\\phi, 2))/(s*H(s)) + \\gamma*Derivative(\\psi(s, \\phi, t), (\\phi, 2))/(s*H(s)**3))"
      ]
     },
     "metadata": {},
     "output_type": "display_data"
    },
    {
     "data": {
      "text/latex": [
       "$\\displaystyle \\frac{\\partial}{\\partial t} b^{+}_{z}{\\left(s,\\phi,t \\right)} = \\frac{\\gamma s^{2} \\frac{\\partial^{2}}{\\partial \\phi^{2}} \\psi{\\left(s,\\phi,t \\right)}}{H^{2}{\\left(s \\right)}} + \\gamma \\frac{\\partial^{2}}{\\partial \\phi^{2}} \\psi{\\left(s,\\phi,t \\right)} - \\frac{\\gamma \\frac{\\partial^{2}}{\\partial \\phi^{2}} \\psi{\\left(s,\\phi,t \\right)}}{H^{2}{\\left(s \\right)}}$"
      ],
      "text/plain": [
       "Eq(Derivative(b_z^+(s, \\phi, t), t), \\gamma*s**2*Derivative(\\psi(s, \\phi, t), (\\phi, 2))/H(s)**2 + \\gamma*Derivative(\\psi(s, \\phi, t), (\\phi, 2)) - \\gamma*Derivative(\\psi(s, \\phi, t), (\\phi, 2))/H(s)**2)"
      ]
     },
     "metadata": {},
     "output_type": "display_data"
    },
    {
     "data": {
      "text/latex": [
       "$\\displaystyle \\frac{\\partial}{\\partial t} b^{-}_{+}{\\left(s,\\phi,t \\right)} = - \\frac{i \\gamma s^{4} \\frac{\\partial^{2}}{\\partial s\\partial \\phi} \\psi{\\left(s,\\phi,t \\right)}}{H^{3}{\\left(s \\right)}} - \\frac{2 i \\gamma s^{3} \\frac{\\partial}{\\partial \\phi} \\psi{\\left(s,\\phi,t \\right)}}{H^{3}{\\left(s \\right)}} + \\frac{\\gamma s^{3} \\frac{\\partial^{2}}{\\partial \\phi^{2}} \\psi{\\left(s,\\phi,t \\right)}}{H^{3}{\\left(s \\right)}} - \\frac{i \\gamma s^{2} \\frac{\\partial^{2}}{\\partial s\\partial \\phi} \\psi{\\left(s,\\phi,t \\right)}}{H{\\left(s \\right)}} + \\frac{2 i \\gamma s^{2} \\frac{\\partial^{2}}{\\partial s\\partial \\phi} \\psi{\\left(s,\\phi,t \\right)}}{H^{3}{\\left(s \\right)}} - \\frac{2 i \\gamma s \\frac{\\partial}{\\partial \\phi} \\psi{\\left(s,\\phi,t \\right)}}{H{\\left(s \\right)}} + \\frac{\\gamma s \\frac{\\partial^{2}}{\\partial \\phi^{2}} \\psi{\\left(s,\\phi,t \\right)}}{H{\\left(s \\right)}} + \\frac{2 i \\gamma s \\frac{\\partial}{\\partial \\phi} \\psi{\\left(s,\\phi,t \\right)}}{H^{3}{\\left(s \\right)}} - \\frac{2 \\gamma s \\frac{\\partial^{2}}{\\partial \\phi^{2}} \\psi{\\left(s,\\phi,t \\right)}}{H^{3}{\\left(s \\right)}} + \\frac{i \\gamma \\frac{\\partial^{2}}{\\partial s\\partial \\phi} \\psi{\\left(s,\\phi,t \\right)}}{H{\\left(s \\right)}} - \\frac{i \\gamma \\frac{\\partial^{2}}{\\partial s\\partial \\phi} \\psi{\\left(s,\\phi,t \\right)}}{H^{3}{\\left(s \\right)}} - \\frac{\\gamma \\frac{\\partial^{2}}{\\partial \\phi^{2}} \\psi{\\left(s,\\phi,t \\right)}}{s H{\\left(s \\right)}} + \\frac{\\gamma \\frac{\\partial^{2}}{\\partial \\phi^{2}} \\psi{\\left(s,\\phi,t \\right)}}{s H^{3}{\\left(s \\right)}}$"
      ],
      "text/plain": [
       "Eq(Derivative(b_+^-(s, \\phi, t), t), -I*\\gamma*s**4*Derivative(\\psi(s, \\phi, t), \\phi, s)/H(s)**3 - 2*I*\\gamma*s**3*Derivative(\\psi(s, \\phi, t), \\phi)/H(s)**3 + \\gamma*s**3*Derivative(\\psi(s, \\phi, t), (\\phi, 2))/H(s)**3 - I*\\gamma*s**2*Derivative(\\psi(s, \\phi, t), \\phi, s)/H(s) + 2*I*\\gamma*s**2*Derivative(\\psi(s, \\phi, t), \\phi, s)/H(s)**3 - 2*I*\\gamma*s*Derivative(\\psi(s, \\phi, t), \\phi)/H(s) + \\gamma*s*Derivative(\\psi(s, \\phi, t), (\\phi, 2))/H(s) + 2*I*\\gamma*s*Derivative(\\psi(s, \\phi, t), \\phi)/H(s)**3 - 2*\\gamma*s*Derivative(\\psi(s, \\phi, t), (\\phi, 2))/H(s)**3 + I*\\gamma*Derivative(\\psi(s, \\phi, t), \\phi, s)/H(s) - I*\\gamma*Derivative(\\psi(s, \\phi, t), \\phi, s)/H(s)**3 - \\gamma*Derivative(\\psi(s, \\phi, t), (\\phi, 2))/(s*H(s)) + \\gamma*Derivative(\\psi(s, \\phi, t), (\\phi, 2))/(s*H(s)**3))"
      ]
     },
     "metadata": {},
     "output_type": "display_data"
    },
    {
     "data": {
      "text/latex": [
       "$\\displaystyle \\frac{\\partial}{\\partial t} b^{-}_{-}{\\left(s,\\phi,t \\right)} = \\frac{i \\gamma s^{4} \\frac{\\partial^{2}}{\\partial s\\partial \\phi} \\psi{\\left(s,\\phi,t \\right)}}{H^{3}{\\left(s \\right)}} + \\frac{2 i \\gamma s^{3} \\frac{\\partial}{\\partial \\phi} \\psi{\\left(s,\\phi,t \\right)}}{H^{3}{\\left(s \\right)}} + \\frac{\\gamma s^{3} \\frac{\\partial^{2}}{\\partial \\phi^{2}} \\psi{\\left(s,\\phi,t \\right)}}{H^{3}{\\left(s \\right)}} + \\frac{i \\gamma s^{2} \\frac{\\partial^{2}}{\\partial s\\partial \\phi} \\psi{\\left(s,\\phi,t \\right)}}{H{\\left(s \\right)}} - \\frac{2 i \\gamma s^{2} \\frac{\\partial^{2}}{\\partial s\\partial \\phi} \\psi{\\left(s,\\phi,t \\right)}}{H^{3}{\\left(s \\right)}} + \\frac{2 i \\gamma s \\frac{\\partial}{\\partial \\phi} \\psi{\\left(s,\\phi,t \\right)}}{H{\\left(s \\right)}} + \\frac{\\gamma s \\frac{\\partial^{2}}{\\partial \\phi^{2}} \\psi{\\left(s,\\phi,t \\right)}}{H{\\left(s \\right)}} - \\frac{2 i \\gamma s \\frac{\\partial}{\\partial \\phi} \\psi{\\left(s,\\phi,t \\right)}}{H^{3}{\\left(s \\right)}} - \\frac{2 \\gamma s \\frac{\\partial^{2}}{\\partial \\phi^{2}} \\psi{\\left(s,\\phi,t \\right)}}{H^{3}{\\left(s \\right)}} - \\frac{i \\gamma \\frac{\\partial^{2}}{\\partial s\\partial \\phi} \\psi{\\left(s,\\phi,t \\right)}}{H{\\left(s \\right)}} + \\frac{i \\gamma \\frac{\\partial^{2}}{\\partial s\\partial \\phi} \\psi{\\left(s,\\phi,t \\right)}}{H^{3}{\\left(s \\right)}} - \\frac{\\gamma \\frac{\\partial^{2}}{\\partial \\phi^{2}} \\psi{\\left(s,\\phi,t \\right)}}{s H{\\left(s \\right)}} + \\frac{\\gamma \\frac{\\partial^{2}}{\\partial \\phi^{2}} \\psi{\\left(s,\\phi,t \\right)}}{s H^{3}{\\left(s \\right)}}$"
      ],
      "text/plain": [
       "Eq(Derivative(b_-^-(s, \\phi, t), t), I*\\gamma*s**4*Derivative(\\psi(s, \\phi, t), \\phi, s)/H(s)**3 + 2*I*\\gamma*s**3*Derivative(\\psi(s, \\phi, t), \\phi)/H(s)**3 + \\gamma*s**3*Derivative(\\psi(s, \\phi, t), (\\phi, 2))/H(s)**3 + I*\\gamma*s**2*Derivative(\\psi(s, \\phi, t), \\phi, s)/H(s) - 2*I*\\gamma*s**2*Derivative(\\psi(s, \\phi, t), \\phi, s)/H(s)**3 + 2*I*\\gamma*s*Derivative(\\psi(s, \\phi, t), \\phi)/H(s) + \\gamma*s*Derivative(\\psi(s, \\phi, t), (\\phi, 2))/H(s) - 2*I*\\gamma*s*Derivative(\\psi(s, \\phi, t), \\phi)/H(s)**3 - 2*\\gamma*s*Derivative(\\psi(s, \\phi, t), (\\phi, 2))/H(s)**3 - I*\\gamma*Derivative(\\psi(s, \\phi, t), \\phi, s)/H(s) + I*\\gamma*Derivative(\\psi(s, \\phi, t), \\phi, s)/H(s)**3 - \\gamma*Derivative(\\psi(s, \\phi, t), (\\phi, 2))/(s*H(s)) + \\gamma*Derivative(\\psi(s, \\phi, t), (\\phi, 2))/(s*H(s)**3))"
      ]
     },
     "metadata": {},
     "output_type": "display_data"
    },
    {
     "data": {
      "text/latex": [
       "$\\displaystyle \\frac{\\partial}{\\partial t} b^{-}_{z}{\\left(s,\\phi,t \\right)} = - \\frac{\\gamma s^{2} \\frac{\\partial^{2}}{\\partial \\phi^{2}} \\psi{\\left(s,\\phi,t \\right)}}{H^{2}{\\left(s \\right)}} - \\gamma \\frac{\\partial^{2}}{\\partial \\phi^{2}} \\psi{\\left(s,\\phi,t \\right)} + \\frac{\\gamma \\frac{\\partial^{2}}{\\partial \\phi^{2}} \\psi{\\left(s,\\phi,t \\right)}}{H^{2}{\\left(s \\right)}}$"
      ],
      "text/plain": [
       "Eq(Derivative(b_z^-(s, \\phi, t), t), -\\gamma*s**2*Derivative(\\psi(s, \\phi, t), (\\phi, 2))/H(s)**2 - \\gamma*Derivative(\\psi(s, \\phi, t), (\\phi, 2)) + \\gamma*Derivative(\\psi(s, \\phi, t), (\\phi, 2))/H(s)**2)"
      ]
     },
     "metadata": {},
     "output_type": "display_data"
    }
   ],
   "source": [
    "eqs_file = \"./out/cases/Toroidal_quadrupolar/Eqs_conjugate_ptb.json\"\n",
    "with open(eqs_file, 'r') as fread:\n",
    "    eqs_cg = base.CollectionConjugate.load_json(fread, parser=sp.parse_expr)\n",
    "\n",
    "display_eqs(eqs_cg)"
   ]
  },
  {
   "cell_type": "markdown",
   "id": "6b32ca30-f242-4f31-aabe-19df11a04905",
   "metadata": {},
   "source": [
    "### The reduced dimensional system"
   ]
  },
  {
   "cell_type": "code",
   "execution_count": 23,
   "id": "28e9cb0c-ab41-4371-9262-c3928cf3d12b",
   "metadata": {},
   "outputs": [
    {
     "data": {
      "text/latex": [
       "$\\displaystyle \\frac{s^{2} \\frac{\\partial^{2}}{\\partial t\\partial s} \\psi{\\left(s,\\phi,t \\right)}}{H^{3}{\\left(s \\right)}} + \\frac{s \\frac{\\partial^{3}}{\\partial t\\partial s^{2}} \\psi{\\left(s,\\phi,t \\right)}}{H{\\left(s \\right)}} + \\frac{s \\frac{\\partial^{3}}{\\partial t\\partial \\phi^{2}} \\psi{\\left(s,\\phi,t \\right)}}{2 H^{3}{\\left(s \\right)}} + \\frac{\\frac{\\partial^{2}}{\\partial t\\partial s} \\psi{\\left(s,\\phi,t \\right)}}{H{\\left(s \\right)}} + \\frac{\\frac{\\partial^{3}}{\\partial t\\partial \\phi^{2}} \\psi{\\left(s,\\phi,t \\right)}}{s H{\\left(s \\right)}} = F_\\mathrm{ext}{\\left(s,\\phi,t \\right)} + \\frac{2 s \\frac{\\partial}{\\partial \\phi} \\psi{\\left(s,\\phi,t \\right)}}{\\mathrm{Le} H^{3}{\\left(s \\right)}}$"
      ],
      "text/plain": [
       "Eq(s**2*Derivative(\\psi(s, \\phi, t), s, t)/H(s)**3 + s*Derivative(\\psi(s, \\phi, t), (s, 2), t)/H(s) + s*Derivative(\\psi(s, \\phi, t), (\\phi, 2), t)/(2*H(s)**3) + Derivative(\\psi(s, \\phi, t), s, t)/H(s) + Derivative(\\psi(s, \\phi, t), (\\phi, 2), t)/(s*H(s)), F_\\mathrm{ext}(s, \\phi, t) + 2*s*Derivative(\\psi(s, \\phi, t), \\phi)/(\\mathrm{Le}*H(s)**3))"
      ]
     },
     "metadata": {},
     "output_type": "display_data"
    },
    {
     "data": {
      "text/latex": [
       "$\\displaystyle \\frac{\\partial}{\\partial t} F_\\mathrm{ext}{\\left(s,\\phi,t \\right)} = \\frac{\\gamma^{2} s^{6} \\frac{\\partial^{3}}{\\partial s\\partial \\phi^{2}} \\psi{\\left(s,\\phi,t \\right)}}{H^{3}{\\left(s \\right)}} + \\frac{8 \\gamma^{2} s^{5} \\frac{\\partial^{4}}{\\partial s^{2}\\partial \\phi^{2}} \\psi{\\left(s,\\phi,t \\right)}}{15 H{\\left(s \\right)}} + \\frac{2 \\gamma^{2} s^{5} \\frac{\\partial^{2}}{\\partial \\phi^{2}} \\psi{\\left(s,\\phi,t \\right)}}{H^{3}{\\left(s \\right)}} + \\frac{\\gamma^{2} s^{5} \\frac{\\partial^{4}}{\\partial \\phi^{4}} \\psi{\\left(s,\\phi,t \\right)}}{6 H^{3}{\\left(s \\right)}} + \\frac{8 \\gamma^{2} s^{4} \\frac{\\partial^{3}}{\\partial s\\partial \\phi^{2}} \\psi{\\left(s,\\phi,t \\right)}}{3 H{\\left(s \\right)}} - \\frac{2 \\gamma^{2} s^{4} \\frac{\\partial^{3}}{\\partial s\\partial \\phi^{2}} \\psi{\\left(s,\\phi,t \\right)}}{H^{3}{\\left(s \\right)}} + \\frac{28 \\gamma^{2} s^{3} \\frac{\\partial^{2}}{\\partial \\phi^{2}} \\psi{\\left(s,\\phi,t \\right)}}{15 H{\\left(s \\right)}} + \\frac{8 \\gamma^{2} s^{3} \\frac{\\partial^{4}}{\\partial \\phi^{4}} \\psi{\\left(s,\\phi,t \\right)}}{15 H{\\left(s \\right)}} - \\frac{16 \\gamma^{2} s^{3} \\frac{\\partial^{4}}{\\partial s^{2}\\partial \\phi^{2}} \\psi{\\left(s,\\phi,t \\right)}}{15 H{\\left(s \\right)}} - \\frac{2 \\gamma^{2} s^{3} \\frac{\\partial^{2}}{\\partial \\phi^{2}} \\psi{\\left(s,\\phi,t \\right)}}{H^{3}{\\left(s \\right)}} - \\frac{\\gamma^{2} s^{3} \\frac{\\partial^{4}}{\\partial \\phi^{4}} \\psi{\\left(s,\\phi,t \\right)}}{3 H^{3}{\\left(s \\right)}} - \\frac{16 \\gamma^{2} s^{2} \\frac{\\partial^{3}}{\\partial s\\partial \\phi^{2}} \\psi{\\left(s,\\phi,t \\right)}}{5 H{\\left(s \\right)}} + \\frac{\\gamma^{2} s^{2} \\frac{\\partial^{3}}{\\partial s\\partial \\phi^{2}} \\psi{\\left(s,\\phi,t \\right)}}{H^{3}{\\left(s \\right)}} + \\frac{2 \\gamma^{2} s \\frac{\\partial^{2}}{\\partial \\phi^{2}} \\psi{\\left(s,\\phi,t \\right)}}{15 H{\\left(s \\right)}} - \\frac{16 \\gamma^{2} s \\frac{\\partial^{4}}{\\partial \\phi^{4}} \\psi{\\left(s,\\phi,t \\right)}}{15 H{\\left(s \\right)}} + \\frac{8 \\gamma^{2} s \\frac{\\partial^{4}}{\\partial s^{2}\\partial \\phi^{2}} \\psi{\\left(s,\\phi,t \\right)}}{15 H{\\left(s \\right)}} + \\frac{\\gamma^{2} s \\frac{\\partial^{4}}{\\partial \\phi^{4}} \\psi{\\left(s,\\phi,t \\right)}}{6 H^{3}{\\left(s \\right)}} + \\frac{8 \\gamma^{2} \\frac{\\partial^{3}}{\\partial s\\partial \\phi^{2}} \\psi{\\left(s,\\phi,t \\right)}}{15 H{\\left(s \\right)}} + \\frac{8 \\gamma^{2} \\frac{\\partial^{4}}{\\partial \\phi^{4}} \\psi{\\left(s,\\phi,t \\right)}}{15 s H{\\left(s \\right)}}$"
      ],
      "text/plain": [
       "Eq(Derivative(F_\\mathrm{ext}(s, \\phi, t), t), \\gamma**2*s**6*Derivative(\\psi(s, \\phi, t), (\\phi, 2), s)/H(s)**3 + 8*\\gamma**2*s**5*Derivative(\\psi(s, \\phi, t), (\\phi, 2), (s, 2))/(15*H(s)) + 2*\\gamma**2*s**5*Derivative(\\psi(s, \\phi, t), (\\phi, 2))/H(s)**3 + \\gamma**2*s**5*Derivative(\\psi(s, \\phi, t), (\\phi, 4))/(6*H(s)**3) + 8*\\gamma**2*s**4*Derivative(\\psi(s, \\phi, t), (\\phi, 2), s)/(3*H(s)) - 2*\\gamma**2*s**4*Derivative(\\psi(s, \\phi, t), (\\phi, 2), s)/H(s)**3 + 28*\\gamma**2*s**3*Derivative(\\psi(s, \\phi, t), (\\phi, 2))/(15*H(s)) + 8*\\gamma**2*s**3*Derivative(\\psi(s, \\phi, t), (\\phi, 4))/(15*H(s)) - 16*\\gamma**2*s**3*Derivative(\\psi(s, \\phi, t), (\\phi, 2), (s, 2))/(15*H(s)) - 2*\\gamma**2*s**3*Derivative(\\psi(s, \\phi, t), (\\phi, 2))/H(s)**3 - \\gamma**2*s**3*Derivative(\\psi(s, \\phi, t), (\\phi, 4))/(3*H(s)**3) - 16*\\gamma**2*s**2*Derivative(\\psi(s, \\phi, t), (\\phi, 2), s)/(5*H(s)) + \\gamma**2*s**2*Derivative(\\psi(s, \\phi, t), (\\phi, 2), s)/H(s)**3 + 2*\\gamma**2*s*Derivative(\\psi(s, \\phi, t), (\\phi, 2))/(15*H(s)) - 16*\\gamma**2*s*Derivative(\\psi(s, \\phi, t), (\\phi, 4))/(15*H(s)) + 8*\\gamma**2*s*Derivative(\\psi(s, \\phi, t), (\\phi, 2), (s, 2))/(15*H(s)) + \\gamma**2*s*Derivative(\\psi(s, \\phi, t), (\\phi, 4))/(6*H(s)**3) + 8*\\gamma**2*Derivative(\\psi(s, \\phi, t), (\\phi, 2), s)/(15*H(s)) + 8*\\gamma**2*Derivative(\\psi(s, \\phi, t), (\\phi, 4))/(15*s*H(s)))"
      ]
     },
     "metadata": {},
     "output_type": "display_data"
    }
   ],
   "source": [
    "eqs_file = \"./out/cases/Toroidal_quadrupolar/Eqs_reduced.json\"\n",
    "with open(eqs_file, 'r') as fread:\n",
    "    eqs_reduced = base.LabeledCollection.load_json(fread, parser=sp.parse_expr)\n",
    "\n",
    "display_eqs(eqs_reduced)"
   ]
  },
  {
   "cell_type": "code",
   "execution_count": 38,
   "id": "e24f9c75-b17a-42e0-9437-c95f58b5c397",
   "metadata": {},
   "outputs": [
    {
     "data": {
      "text/latex": [
       "$\\displaystyle - \\frac{\\gamma^{2} m^{2} \\left(s - 1\\right) \\sqrt{s + 1} \\left(- 11 m^{2} s^{2} \\Psi^{m}{\\left(s \\right)} + 16 m^{2} \\Psi^{m}{\\left(s \\right)} + 16 s^{4} \\frac{d^{2}}{d s^{2}} \\Psi^{m}{\\left(s \\right)} + 50 s^{3} \\frac{d}{d s} \\Psi^{m}{\\left(s \\right)} - 4 s^{2} \\Psi^{m}{\\left(s \\right)} - 16 s^{2} \\frac{d^{2}}{d s^{2}} \\Psi^{m}{\\left(s \\right)} - 16 s \\frac{d}{d s} \\Psi^{m}{\\left(s \\right)}\\right)}{30 s \\sqrt{1 - s}}$"
      ],
      "text/plain": [
       "-\\gamma**2*m**2*(s - 1)*sqrt(s + 1)*(-11*m**2*s**2*\\Psi^{m}(s) + 16*m**2*\\Psi^{m}(s) + 16*s**4*Derivative(\\Psi^{m}(s), (s, 2)) + 50*s**3*Derivative(\\Psi^{m}(s), s) - 4*s**2*\\Psi^{m}(s) - 16*s**2*Derivative(\\Psi^{m}(s), (s, 2)) - 16*s*Derivative(\\Psi^{m}(s), s))/(30*s*sqrt(1 - s))"
      ]
     },
     "execution_count": 38,
     "metadata": {},
     "output_type": "execute_result"
    }
   ],
   "source": [
    "exp_p = sp.exp(sp.I*expansion.m*core.p)\n",
    "(eqs_reduced.F_ext.rhs.subs({core.pgvar_ptb.Psi: exp_p*expansion.pgvar_s.Psi, core.H: core.H_s}).doit()/exp_p).simplify().factor()"
   ]
  },
  {
   "cell_type": "code",
   "execution_count": 35,
   "id": "5f0981c6-b473-460c-ae76-e96191931619",
   "metadata": {},
   "outputs": [
    {
     "data": {
      "text/plain": [
       "array([  -0.        ,   -2.4674011 ,   -9.8696044 ,  -22.2066099 ,\n",
       "        -39.4784176 ,  -61.68502751,  -88.82643961, -120.90265391,\n",
       "       -157.91367042, -199.85948912])"
      ]
     },
     "execution_count": 35,
     "metadata": {},
     "output_type": "execute_result"
    }
   ],
   "source": [
    "-(np.pi/2*np.arange(10))**2"
   ]
  },
  {
   "cell_type": "code",
   "execution_count": null,
   "id": "a6651f54-fe04-4e09-9402-59e1486f3702",
   "metadata": {},
   "outputs": [],
   "source": []
  }
 ],
 "metadata": {
  "kernelspec": {
   "display_name": "Python3 (geomag)",
   "language": "python",
   "name": "geomag"
  },
  "language_info": {
   "codemirror_mode": {
    "name": "ipython",
    "version": 3
   },
   "file_extension": ".py",
   "mimetype": "text/x-python",
   "name": "python",
   "nbconvert_exporter": "python",
   "pygments_lexer": "ipython3",
   "version": "3.8.13"
  }
 },
 "nbformat": 4,
 "nbformat_minor": 5
}
