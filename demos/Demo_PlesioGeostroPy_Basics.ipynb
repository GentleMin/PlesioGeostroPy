{
 "cells": [
  {
   "cell_type": "markdown",
   "id": "8c7faad5-6484-4261-b075-fdd6f7ddf209",
   "metadata": {},
   "source": [
    "# Introducing PlesioGeostroPy: Quickstart\n",
    "\n",
    "PlesioGeostroPy is a python realization of the plesio-gestrophy model. Plesio-Geostrophy model (see [Jackson and Maffei, 2020](https://doi.org/10.1098/rspa.2020.0513)), or PG model, is a 2-D reduced model for 3-D MHD in rapidly rotating frame, based on near-geostrophic flows in an axisymmetric cavity. The model uses a plesio-geostrophic ansatz, where the velocity field is completely described by a scalar stream function, but remains solenoidal and satisfies the non-penetration boundary condition. In diffusionless case, the MHD equations are shown to exactly reduce to a set of equations involving only the stream function and the axially integrated magnetic moments (except for the boundary terms), which are all 2-D variables.\n",
    "\n",
    "It should be noted that the current development involves only a full sphere geometry. However, the method would apply to general axisymmetric cavities without an inner core.\n",
    "\n",
    "## Intro\n",
    "\n",
    "### Why PlesioGeostroPy?\n",
    "\n",
    "Indeed, we already have Daria's Wolfram Mathematica notebook, which also heavily inspired the initial development of this small package. The decision to develop a python realization is motivated by the following observations:\n",
    "- Despite the completeness of Daria's notebook, many notations are cryptic and not easy to apprehend.\n",
    "    - ***Problem***: The moments have been replaced with notations `A` to `H`, whereas the components of magnetic fields are replaced with notations `a` to `c`. For instance, field $\\overline{M_{ss}}=\\overline{B_s^2}$ is `A`, $\\overline{M_{s\\phi}} = \\overline{B_sB_\\phi}$ is `C` (or `Csp` for the perturbation field). The equations also use a confusing numbering system. Not only do we have `eq1` to `eq11`, but also `eq73`, `eq74`, `eq76` and `eq80`. These equations seem to correspond to the not-yet-linearized version of the induction equations. None of these are physically meaningful notations, and I even have jotted down a mapping table just to decipher the Mathematica code. \n",
    "    - ***Cause***: non-physical namings.\n",
    "    - ***Response***: Given the former two observations, a rewrite of the code is desired.\n",
    "- The original mathematica notebook lacks flexibility when it comes to changing expansions, plottings, numerical computations, etc.\n",
    "    - ***Problem***: Changing expansions would require switching on and off code blocks, or creating new notebooks. Plotting (according to Stefano) has always been confusing in Mathematica. In addition to that, many of the Mathematica functions, e.g. special functions, etc. do not vectorize well, and would not be efficient in numerics.\n",
    "    - ***Cause***: many of the problems can be attributed to the fact that Mathematica is a domain-specific language (DSL). The inflexibility is due to the fact that Mathematica is mostly a functional language for symbolic manipulation, whereas the support of object-oriented programming is very limited (except for [a OOP repo](https://library.wolfram.com/infocenter/Articles/3243/) from 30 years ago, the links from which have mostly expired). The numerics part is not comparable to numerical libaries (e.g. `numpy`, `scipy`), let alone numerics DSL such as MATLAB. In addition, it is also complicated to use external libraries for faster numerical computation.\n",
    "    - ***Response***: Program the model in a language that is a general-purpose language (GPL), which allows abstract design of the code and at the same time allows efficient numerical algorithms. Designed initially to be a scripting language or glue language, and developing later into a GPL with numerous external packages, Python is a good choice. The packages such as `sympy` and `numpy` allow good integration between the symbolic and the numeric sides of the picture, while `matplotlib` and other visualization packages provide an additional selling point. It is also much easier to either directly call or export intermediate variables to external numerical libraries.\n",
    "- Mathematica is closed source, while python itself as well as many of the packages are open source.\n",
    "\n",
    "Of course, switching from Daria's Mathematica notebook to PlesioGeostroPy implementation comes with a price.\n",
    "- Symbolic computation may be more robust in Mathematica than in Python. This is statement recycled from some Mathematica users. This might be true for solving differential equations or other equations symbolically, however this is not relevant for PG model. In simple algebras, simplifications and substitutions, Mathematica is just as \"capricious\" as `Sympy`, the behaviour of neither would coincide exactly as what a human would do during derivations. On top of that, there is no knowing what exactly went wrong in Mathematica, whereas in `Sympy`, the user can peek under the hood as the code is open-source.\n",
    "- Arbitrary precision computation is slower in vanilla-version `SymPy`, however slightly. This may be a real issue, but may also be circumvented by using multi-precision evaluation libraries, but it would be much more desirable if computing within the double precision is sufficient.\n",
    "\n",
    "### Prerequisites\n",
    "\n",
    "The package **PlesioGeostroPy** is written in python, and dependent on the following packages.\n",
    "\n",
    "```python\n",
    "# Core packages\n",
    "python=3.8.13\n",
    "numpy=1.22.3\n",
    "scipy=1.8.0\n",
    "sympy=1.11.1\n",
    "h5py=3.3.0\n",
    "\n",
    "# Visualization and presentation\n",
    "pandas=1.4.2\n",
    "matplotlib=3.5.2\n",
    "jupyterlab=3.4.0\n",
    "\n",
    "# Documentation and testing\n",
    "sphinx=5.0.2\n",
    "pytest=7.4.2\n",
    "perfplot=0.10.2\n",
    "line_profiler=4.1.1\n",
    "```\n",
    "\n",
    "In addition, in order to harness the power of the pretty printing interface, it is highly recommended that the interactive programming is done using [web-based Project Jupyter tools](https://jupyter.org/), such as JupyterLab, Jupyter notebook, or IPython consoles launched in Jupyter services. These tools enable LaTeX rendering, which is a significantly improvement compared to Unicode or ASCII printing methods."
   ]
  },
  {
   "cell_type": "markdown",
   "id": "df706342-3173-4c29-8498-9e39ca22afe5",
   "metadata": {
    "tags": []
   },
   "source": [
    "---\n",
    "\n",
    "## Getting started with SymPy\n",
    "\n",
    "`Sympy`, or \"Symbolic Python\", is a Python library for symbolic mathematics. A very brief demo is covered here. For a longer tutorial, see [the official website](https://docs.sympy.org/latest/tutorials/intro-tutorial/index.html#intro-tutorial).\n",
    "\n",
    "As in using other Python libraries, to import utilities from the package one only needs to write"
   ]
  },
  {
   "cell_type": "code",
   "execution_count": 1,
   "id": "53202f9e-ed49-485f-b863-a096c7341501",
   "metadata": {},
   "outputs": [],
   "source": [
    "from sympy import *"
   ]
  },
  {
   "cell_type": "markdown",
   "id": "183f3288-b5e3-4b0d-8cf7-da1c95f4befb",
   "metadata": {},
   "source": [
    "### Symbols, functions, expressions\n",
    "\n",
    "As in most programming languages, one needs to **define** a variable before using it, and symbolic symbols are no exceptions in `SymPy`. This might be the only possible and reasonable thing to do for anyone with a background in C/C++, Java, C#, Fortran, Python, Julia or even MATLAB. The only scenarios, where I know the variables are readily interpreted as symbols even before definition are Mathematica and Maple.\n",
    "\n",
    "To define a symbolic variable, which will have the name/expression $\\psi_1^{m}$, we can write the following code"
   ]
  },
  {
   "cell_type": "code",
   "execution_count": 2,
   "id": "598e5ff4-d388-47c9-91ba-a50010302423",
   "metadata": {},
   "outputs": [
    {
     "data": {
      "text/latex": [
       "$\\displaystyle \\hat{\\psi}_1^m$"
      ],
      "text/plain": [
       "\\hat{\\psi}_1^m"
      ]
     },
     "execution_count": 2,
     "metadata": {},
     "output_type": "execute_result"
    }
   ],
   "source": [
    "psi_1m = Symbol(r\"\\hat{\\psi}_1^m\")\n",
    "psi_1m"
   ]
  },
  {
   "cell_type": "markdown",
   "id": "eb5ffad0-41f1-4442-8eaf-7e15134ce79c",
   "metadata": {},
   "source": [
    "This example already shows that you can use just about any LaTeX expressions as the symbol of the variable.\n",
    "\n",
    "A symbol is just an independent variable, and has no known dependency on any other variables:"
   ]
  },
  {
   "cell_type": "code",
   "execution_count": 3,
   "id": "6d8a48f5-2bc7-4688-a6e5-519eb22dfa29",
   "metadata": {},
   "outputs": [
    {
     "data": {
      "text/latex": [
       "$\\displaystyle 0$"
      ],
      "text/plain": [
       "0"
      ]
     },
     "execution_count": 3,
     "metadata": {},
     "output_type": "execute_result"
    }
   ],
   "source": [
    "x, y, z = symbols(\"x, y, z\")\n",
    "\n",
    "diff_psi_1m_x = diff(psi_1m, x)\n",
    "diff_psi_1m_x"
   ]
  },
  {
   "cell_type": "markdown",
   "id": "d10ac466-12f6-41e1-8783-f689cde9e18f",
   "metadata": {},
   "source": [
    "If a dependency on some variable is needed for some symbol, one needs to define a **function**:"
   ]
  },
  {
   "cell_type": "code",
   "execution_count": 4,
   "id": "ecfc019d-3820-4de5-8c51-46ff222916ba",
   "metadata": {},
   "outputs": [
    {
     "data": {
      "text/latex": [
       "$\\displaystyle \\frac{\\partial^{3}}{\\partial y\\partial x^{2}} \\psi{\\left(x,y,z \\right)}$"
      ],
      "text/plain": [
       "Derivative(\\psi(x, y, z), (x, 2), y)"
      ]
     },
     "execution_count": 4,
     "metadata": {},
     "output_type": "execute_result"
    }
   ],
   "source": [
    "psi = Function(r\"\\psi\")(x, y, z)\n",
    "\n",
    "diff_psi_x = diff(psi, (x, 2), (y, 1), (z, 0))\n",
    "diff_psi_x"
   ]
  },
  {
   "cell_type": "markdown",
   "id": "f1316a66-b667-4100-a7d7-7bdc9caecbb6",
   "metadata": {},
   "source": [
    "Adding, substracting, multiplying or dividing any symbols or functions will generate an **expression** (`Expr`):"
   ]
  },
  {
   "cell_type": "code",
   "execution_count": 5,
   "id": "1ea2afbc-6472-44a8-935b-d0db45b768ed",
   "metadata": {},
   "outputs": [
    {
     "data": {
      "text/latex": [
       "$\\displaystyle \\left(\\hat{\\psi}_1^m\\right)^{2} x + \\hat{\\psi}_1^m y + z$"
      ],
      "text/plain": [
       "\\hat{\\psi}_1^m**2*x + \\hat{\\psi}_1^m*y + z"
      ]
     },
     "execution_count": 5,
     "metadata": {},
     "output_type": "execute_result"
    }
   ],
   "source": [
    "psi_expr = psi_1m**2*x + psi_1m*y + z\n",
    "psi_expr"
   ]
  },
  {
   "cell_type": "markdown",
   "id": "6a9ce456-6b0e-4a46-af3d-b06d434ba5bf",
   "metadata": {},
   "source": [
    "An expression can once again be added, substracted, multiplied, and differentiated etc. as well. To construct a derivative object without evaluation, use `Derivative`:"
   ]
  },
  {
   "cell_type": "code",
   "execution_count": 6,
   "id": "4f404f65-fd2e-4df0-a0ec-6286709715f7",
   "metadata": {},
   "outputs": [
    {
     "data": {
      "text/latex": [
       "$\\displaystyle \\frac{\\partial}{\\partial x} \\left(\\left(\\hat{\\psi}_1^m\\right)^{2} x + \\hat{\\psi}_1^m y + z\\right)$"
      ],
      "text/plain": [
       "Derivative(\\hat{\\psi}_1^m**2*x + \\hat{\\psi}_1^m*y + z, x)"
      ]
     },
     "execution_count": 6,
     "metadata": {},
     "output_type": "execute_result"
    }
   ],
   "source": [
    "dpsi_expr_dx = Derivative(psi_expr, x)\n",
    "dpsi_expr_dx"
   ]
  },
  {
   "cell_type": "markdown",
   "id": "75a121af-fd57-4a0f-b949-e7c8bd99c7cf",
   "metadata": {},
   "source": [
    "One can evaluate this by either invoking the method `.doit()`, or directly using `diff` method:"
   ]
  },
  {
   "cell_type": "code",
   "execution_count": 7,
   "id": "4bc8ed62-3384-4220-9372-18c4fbd77604",
   "metadata": {},
   "outputs": [
    {
     "data": {
      "text/latex": [
       "$\\displaystyle \\left(\\hat{\\psi}_1^m\\right)^{2}$"
      ],
      "text/plain": [
       "\\hat{\\psi}_1^m**2"
      ]
     },
     "metadata": {},
     "output_type": "display_data"
    },
    {
     "data": {
      "text/latex": [
       "$\\displaystyle \\left(\\hat{\\psi}_1^m\\right)^{2}$"
      ],
      "text/plain": [
       "\\hat{\\psi}_1^m**2"
      ]
     },
     "metadata": {},
     "output_type": "display_data"
    }
   ],
   "source": [
    "display(dpsi_expr_dx.doit())\n",
    "display(diff(psi_expr, x))"
   ]
  },
  {
   "cell_type": "markdown",
   "id": "28fdafea-2cde-4d68-bcc8-81630b7ef508",
   "metadata": {},
   "source": [
    "In `sympy`, there is a clear hierarchy of classes. `Expr` is pretty much one of the most basic base classes. This means a `Function` is an `Expr`, a `Symbol` is an `Expr`, and a `jacobi` polynomial is also an `Expr`. The results of algebraic manipulations, which may be `Add`, `Mul`, are all `Expr`s. For readers who do not know object-oriented programming, by `A` *is* `Expr`, what I really mean is that `A` is a child class of, or inherit from, `Expr`."
   ]
  },
  {
   "cell_type": "markdown",
   "id": "7a785c4a-780f-4a23-ac71-ffaea6f78038",
   "metadata": {},
   "source": [
    "### Substitutions, simplifications\n",
    "\n",
    "Substitution in Sympy is realized by the `Expr.subs()` method. A typical way to use the substitution method is to pass a dictionary (a key-value \"map\" in C++ languages) into the method.\n",
    "\n",
    "This is much more human readable than the `/.` operator in Mathematica.\n",
    "\n",
    "The following example shows how the $\\psi$ function is replaced with a Jacobi polynomial of order $n$."
   ]
  },
  {
   "cell_type": "code",
   "execution_count": 8,
   "id": "b0093dd2-a06f-4349-a841-0617cd219c14",
   "metadata": {},
   "outputs": [
    {
     "data": {
      "text/latex": [
       "$\\displaystyle \\frac{\\partial^{3}}{\\partial y\\partial x^{2}} P_{n}^{\\left(\\alpha,\\beta\\right)}\\left(x\\right)$"
      ],
      "text/plain": [
       "Derivative(jacobi(n, \\alpha, \\beta, x), (x, 2), y)"
      ]
     },
     "execution_count": 8,
     "metadata": {},
     "output_type": "execute_result"
    }
   ],
   "source": [
    "alpha = Symbol(r\"\\alpha\")\n",
    "beta = Symbol(r\"\\beta\")\n",
    "n = Symbol('n', integer=True)\n",
    "\n",
    "diff_jacobi = diff_psi_x.subs({psi: jacobi(n, alpha, beta, x)})\n",
    "diff_jacobi"
   ]
  },
  {
   "cell_type": "markdown",
   "id": "3c714230-6492-4296-8296-f8e04c9c9f8e",
   "metadata": {},
   "source": [
    "Substituting a variable whose derivative is involved would result in delayed substitution:"
   ]
  },
  {
   "cell_type": "code",
   "execution_count": 9,
   "id": "5dbe2679-97a8-483a-a21c-5edea63ff636",
   "metadata": {},
   "outputs": [
    {
     "data": {
      "text/latex": [
       "$\\displaystyle \\left. \\frac{\\partial^{3}}{\\partial y\\partial x^{2}} \\psi{\\left(x,y,z \\right)} \\right|_{\\substack{ y=1\\\\ x=1 }}$"
      ],
      "text/plain": [
       "Subs(Derivative(\\psi(x, y, z), (x, 2), y), (y, x), (1, 1))"
      ]
     },
     "execution_count": 9,
     "metadata": {},
     "output_type": "execute_result"
    }
   ],
   "source": [
    "diff_val = diff_psi_x.subs({x: 1, y: 1})\n",
    "diff_val"
   ]
  },
  {
   "cell_type": "markdown",
   "id": "8cd4aa7d-48cb-4ca1-8034-6477ee23da52",
   "metadata": {},
   "source": [
    "which can only be evaluated when the explicit form is calculated:"
   ]
  },
  {
   "cell_type": "code",
   "execution_count": 10,
   "id": "bf579cc7-dd59-4b92-8bab-54ebdcd9cabc",
   "metadata": {},
   "outputs": [
    {
     "data": {
      "text/latex": [
       "$\\displaystyle 12$"
      ],
      "text/plain": [
       "12"
      ]
     },
     "execution_count": 10,
     "metadata": {},
     "output_type": "execute_result"
    }
   ],
   "source": [
    "diff_val = diff_val.subs({psi: x**3*y**2}).doit()\n",
    "diff_val"
   ]
  },
  {
   "cell_type": "markdown",
   "id": "23303111-d660-4d50-bca9-3dba24dc695b",
   "metadata": {},
   "source": [
    "Simplification is probably the most counterintuitive part of all symbolic computation libraries, simply due to the fact that the computer does not know for sure what the human programmer wants.\n",
    "\n",
    "In many cases, when we are doing simplifications, we also do it by trial and error, and we don't even know *a priori* what form we want to end up in.\n",
    "\n",
    "We can make a dummy example here,"
   ]
  },
  {
   "cell_type": "code",
   "execution_count": 11,
   "id": "d79aee18-5338-4722-a3c5-239bc342ee69",
   "metadata": {},
   "outputs": [
    {
     "data": {
      "text/latex": [
       "$\\displaystyle 2 \\cdot \\left(7 x y - \\frac{x^{4} y^{3} + 1}{x^{3} y^{2}}\\right)$"
      ],
      "text/plain": [
       "2*(7*x*y - (x**4*y**3 + 1)/(x**3*y**2))"
      ]
     },
     "execution_count": 11,
     "metadata": {},
     "output_type": "execute_result"
    }
   ],
   "source": [
    "diff_simp = diff_psi_x.subs({psi: x**3*y**2 + 1/x/y}).simplify()\n",
    "diff_simp"
   ]
  },
  {
   "cell_type": "markdown",
   "id": "c1c0d312-ebec-45cc-b7f1-7d964afba6a0",
   "metadata": {},
   "source": [
    "Apparently, it is much reasonable to rewrite it as\n",
    "$$\n",
    "2\\left(6xy - \\frac{1}{x^3 y^2}\\right)\n",
    "$$, this can still be achieved using `expand()`"
   ]
  },
  {
   "cell_type": "code",
   "execution_count": 12,
   "id": "cc8b332a-569a-4a5e-8a8e-d6db6d1e8bf3",
   "metadata": {},
   "outputs": [
    {
     "data": {
      "text/latex": [
       "$\\displaystyle 12 x y - \\frac{2}{x^{3} y^{2}}$"
      ],
      "text/plain": [
       "12*x*y - 2/(x**3*y**2)"
      ]
     },
     "execution_count": 12,
     "metadata": {},
     "output_type": "execute_result"
    }
   ],
   "source": [
    "diff_simp.expand()"
   ]
  },
  {
   "cell_type": "markdown",
   "id": "bf4df03f-99ed-415a-a029-c8638814d070",
   "metadata": {},
   "source": [
    "For more on simplifying expressions such as rational expressions, special functions, etc., see [Simplifiations in SymPy](https://docs.sympy.org/latest/tutorials/intro-tutorial/simplification.html)."
   ]
  },
  {
   "cell_type": "markdown",
   "id": "05a5fa62-a747-45d1-8506-ff3ad48af31e",
   "metadata": {},
   "source": [
    "---\n",
    "\n",
    "## Getting started with PlesioGeostroPy\n",
    "\n",
    "Now we have come to the fun part: the actual utilities concerning the PG model.\n",
    "\n",
    "The PG equations, especially the induction equations, are of such a complex form that a sane human being is usually not overly fond of writing the expression down very often.\n",
    "PlesioGeostroPy does just that for you, by wrapping the governing equations in much human-readable structures.\n",
    "\n",
    "In this section, we shall look at the symbolic part of this package. We will see how to inspect equations, transformations and their linearized versions."
   ]
  },
  {
   "cell_type": "markdown",
   "id": "88868289-54f0-44da-9bee-b7c53de2b29c",
   "metadata": {},
   "source": [
    "### Core variables\n",
    "\n",
    "The core variables that are concerned in the model are constructed in `pg_model.core` module.\n",
    "These first include the coordinates $s$, $\\phi$, $z$; Cartesian coordinates $x$, $y$; as well as spherical coordinates $r$, $\\theta$."
   ]
  },
  {
   "cell_type": "code",
   "execution_count": 13,
   "id": "19bdbb55-a3d4-4e4d-9e60-e22048ec7066",
   "metadata": {},
   "outputs": [
    {
     "name": "stdout",
     "output_type": "stream",
     "text": [
      "Cylindrical oordinates:\n"
     ]
    },
    {
     "data": {
      "text/latex": [
       "$\\displaystyle s$"
      ],
      "text/plain": [
       "s"
      ]
     },
     "metadata": {},
     "output_type": "display_data"
    },
    {
     "data": {
      "text/latex": [
       "$\\displaystyle \\phi$"
      ],
      "text/plain": [
       "\\phi"
      ]
     },
     "metadata": {},
     "output_type": "display_data"
    },
    {
     "data": {
      "text/latex": [
       "$\\displaystyle z$"
      ],
      "text/plain": [
       "z"
      ]
     },
     "metadata": {},
     "output_type": "display_data"
    }
   ],
   "source": [
    "import os, sys\n",
    "root_dir = \".\"\n",
    "\n",
    "# The following 2 lines are a hack to import from parent directory\n",
    "# If the notebook is run in the root directory, comment out these 2 lines\n",
    "sys.path.append(os.path.dirname(os.getcwd()))\n",
    "root_dir = \"..\"\n",
    "\n",
    "from sympy import *\n",
    "from pg_utils.pg_model import core\n",
    "from pg_utils.pg_model.core import s, p, z, t\n",
    "\n",
    "print(\"Cylindrical oordinates:\")\n",
    "display(*[core.cyl[i_comp] for i_comp in range(3)])"
   ]
  },
  {
   "cell_type": "markdown",
   "id": "474135af-a01e-4e28-9e5f-6c17bdee2e3f",
   "metadata": {},
   "source": [
    "Next, we have the 3-D vector fields. These include\n",
    "- magnetic field: in cylindrical coordinates: `B_vec`, background field `B0_vec`; in spherical coordinates `B_sph`, background field `B0_sph`;\n",
    "- velocity field: in cylindrical coordinates: `U_vec`, background field `U0_vec`; in spherical coordinates `U_sph`, background field `U0_sph`;\n",
    "\n",
    "we can take a look at one of these variables."
   ]
  },
  {
   "cell_type": "code",
   "execution_count": 14,
   "id": "eac2b7b6-4a55-4f7b-bb3a-b450534f8c91",
   "metadata": {},
   "outputs": [
    {
     "data": {
      "text/latex": [
       "$\\displaystyle B_{s}{\\left(s,\\phi,z,t \\right)}$"
      ],
      "text/plain": [
       "B_s(s, \\phi, z, t)"
      ]
     },
     "metadata": {},
     "output_type": "display_data"
    },
    {
     "data": {
      "text/latex": [
       "$\\displaystyle B_{\\phi}{\\left(s,\\phi,z,t \\right)}$"
      ],
      "text/plain": [
       "B_\\phi(s, \\phi, z, t)"
      ]
     },
     "metadata": {},
     "output_type": "display_data"
    },
    {
     "data": {
      "text/latex": [
       "$\\displaystyle B_{z}{\\left(s,\\phi,z,t \\right)}$"
      ],
      "text/plain": [
       "B_z(s, \\phi, z, t)"
      ]
     },
     "metadata": {},
     "output_type": "display_data"
    }
   ],
   "source": [
    "display(*[core.B_vec[i_comp] for i_comp in range(3)])"
   ]
  },
  {
   "cell_type": "markdown",
   "id": "7700e357-24e4-4236-90ee-fc9d1904b046",
   "metadata": {},
   "source": [
    "And finally, the PG variables. These are stored in `core.pgvar`, `core.pgvar_bg` (background) and `core.pgvar_ptb` (perturbation). These are of the type"
   ]
  },
  {
   "cell_type": "code",
   "execution_count": 15,
   "id": "301478f7-0142-4672-a49b-f4091b816e54",
   "metadata": {},
   "outputs": [
    {
     "data": {
      "text/plain": [
       "pg_utils.pg_model.base.CollectionPG"
      ]
     },
     "execution_count": 15,
     "metadata": {},
     "output_type": "execute_result"
    }
   ],
   "source": [
    "type(core.pgvar)"
   ]
  },
  {
   "cell_type": "markdown",
   "id": "bd921566-69f0-44a9-95a3-adf8dd37cb9d",
   "metadata": {},
   "source": [
    "`CollectionPG` is a special class specifically designed for holding PG variables. This class allows accessing fields as attributes or by index, as well as many other useful features. For more detailed explanation of how this interface works, please refer to [Demo_Collections](Demo_Collections.ipynb).\n",
    "\n",
    "To look at what variables the object holds, we can for instance make the following inquiry"
   ]
  },
  {
   "cell_type": "code",
   "execution_count": 16,
   "id": "552f6154-490b-4a1f-adbe-6e47801723da",
   "metadata": {},
   "outputs": [
    {
     "data": {
      "text/plain": [
       "['Psi',\n",
       " 'Mss',\n",
       " 'Mpp',\n",
       " 'Msp',\n",
       " 'Msz',\n",
       " 'Mpz',\n",
       " 'zMss',\n",
       " 'zMpp',\n",
       " 'zMsp',\n",
       " 'Bs_e',\n",
       " 'Bp_e',\n",
       " 'Bz_e',\n",
       " 'dBs_dz_e',\n",
       " 'dBp_dz_e',\n",
       " 'Br_b',\n",
       " 'Bs_p',\n",
       " 'Bp_p',\n",
       " 'Bz_p',\n",
       " 'Bs_m',\n",
       " 'Bp_m',\n",
       " 'Bz_m']"
      ]
     },
     "execution_count": 16,
     "metadata": {},
     "output_type": "execute_result"
    }
   ],
   "source": [
    "core.pgvar._field_names"
   ]
  },
  {
   "cell_type": "markdown",
   "id": "e678c9d0-5992-4733-86ef-35cf06bef55c",
   "metadata": {},
   "source": [
    "We see that we have in all 21 variables. The first is the stream function; the second to the eight are magnetic moments; then we have the fields in the equatorial plane (ones with `_e` suffix). Finally, we have the boundary terms.\n",
    "\n",
    "Note that in standard PG, only `Br_b` = \"radial magnetic field at the boundary\" is used; however, for many problems such as the eigenvalue problem, we can use `Bs_p` (s-magnetic field at $z=+H$) - `Bz_m` (z-magnetic field at $z=-H$) instead of `Br_b`. As mentioned, all these fields can be accessed just by typing in the attribute name:"
   ]
  },
  {
   "cell_type": "code",
   "execution_count": 17,
   "id": "5d93f244-9c48-49ac-b767-4bd009d9c36e",
   "metadata": {},
   "outputs": [
    {
     "data": {
      "text/latex": [
       "$\\displaystyle \\Psi{\\left(s,\\phi,t \\right)}$"
      ],
      "text/plain": [
       "\\Psi(s, \\phi, t)"
      ]
     },
     "metadata": {},
     "output_type": "display_data"
    },
    {
     "data": {
      "text/latex": [
       "$\\displaystyle B^{-}_{z}{\\left(s,\\phi,t \\right)}$"
      ],
      "text/plain": [
       "B_z^-(s, \\phi, t)"
      ]
     },
     "metadata": {},
     "output_type": "display_data"
    }
   ],
   "source": [
    "display(core.pgvar.Psi, core.pgvar.Bz_m)"
   ]
  },
  {
   "cell_type": "markdown",
   "id": "d0f3e8bc-2378-4ab2-8b15-0126af00b397",
   "metadata": {},
   "source": [
    "In addition to this method of accessing fields, the same variable `pgvar` can also be indexed."
   ]
  },
  {
   "cell_type": "code",
   "execution_count": 18,
   "id": "842db8b4-f16e-41b9-bbe4-e0dfc1234534",
   "metadata": {},
   "outputs": [
    {
     "data": {
      "text/latex": [
       "$\\displaystyle \\Psi{\\left(s,\\phi,t \\right)}$"
      ],
      "text/plain": [
       "\\Psi(s, \\phi, t)"
      ]
     },
     "metadata": {},
     "output_type": "display_data"
    },
    {
     "data": {
      "text/latex": [
       "$\\displaystyle B^{-}_{z}{\\left(s,\\phi,t \\right)}$"
      ],
      "text/plain": [
       "B_z^-(s, \\phi, t)"
      ]
     },
     "metadata": {},
     "output_type": "display_data"
    }
   ],
   "source": [
    "display(core.pgvar[0], core.pgvar[-1])"
   ]
  },
  {
   "cell_type": "markdown",
   "id": "d4ec6ed0-3613-41a6-89fe-b96e52e663ed",
   "metadata": {},
   "source": [
    "And finally, as a sugar frosting, the fields can be traversed by iterating through the variable `pgvar`."
   ]
  },
  {
   "cell_type": "code",
   "execution_count": 19,
   "id": "1c2e0da6-1e9c-433c-ac62-623645b38602",
   "metadata": {},
   "outputs": [
    {
     "data": {
      "text/latex": [
       "$\\displaystyle \\Psi{\\left(s,\\phi,t \\right)}$"
      ],
      "text/plain": [
       "\\Psi(s, \\phi, t)"
      ]
     },
     "metadata": {},
     "output_type": "display_data"
    },
    {
     "data": {
      "text/latex": [
       "$\\displaystyle \\overline{M_{ss}}{\\left(s,\\phi,t \\right)}$"
      ],
      "text/plain": [
       "\\overline{M_{ss}}(s, \\phi, t)"
      ]
     },
     "metadata": {},
     "output_type": "display_data"
    },
    {
     "data": {
      "text/latex": [
       "$\\displaystyle \\overline{M_{\\phi\\phi}}{\\left(s,\\phi,t \\right)}$"
      ],
      "text/plain": [
       "\\overline{M_{\\phi\\phi}}(s, \\phi, t)"
      ]
     },
     "metadata": {},
     "output_type": "display_data"
    },
    {
     "data": {
      "text/latex": [
       "$\\displaystyle \\overline{M_{s\\phi}}{\\left(s,\\phi,t \\right)}$"
      ],
      "text/plain": [
       "\\overline{M_{s\\phi}}(s, \\phi, t)"
      ]
     },
     "metadata": {},
     "output_type": "display_data"
    },
    {
     "data": {
      "text/latex": [
       "$\\displaystyle \\widetilde{M_{sz}}{\\left(s,\\phi,t \\right)}$"
      ],
      "text/plain": [
       "\\widetilde{M_{sz}}(s, \\phi, t)"
      ]
     },
     "metadata": {},
     "output_type": "display_data"
    },
    {
     "data": {
      "text/latex": [
       "$\\displaystyle \\widetilde{M_{\\phi z}}{\\left(s,\\phi,t \\right)}$"
      ],
      "text/plain": [
       "\\widetilde{M_{\\phi z}}(s, \\phi, t)"
      ]
     },
     "metadata": {},
     "output_type": "display_data"
    },
    {
     "data": {
      "text/latex": [
       "$\\displaystyle \\widetilde{zM_{ss}}{\\left(s,\\phi,t \\right)}$"
      ],
      "text/plain": [
       "\\widetilde{zM_{ss}}(s, \\phi, t)"
      ]
     },
     "metadata": {},
     "output_type": "display_data"
    },
    {
     "data": {
      "text/latex": [
       "$\\displaystyle \\widetilde{zM_{\\phi\\phi}}{\\left(s,\\phi,t \\right)}$"
      ],
      "text/plain": [
       "\\widetilde{zM_{\\phi\\phi}}(s, \\phi, t)"
      ]
     },
     "metadata": {},
     "output_type": "display_data"
    },
    {
     "data": {
      "text/latex": [
       "$\\displaystyle \\widetilde{zM_{s\\phi}}{\\left(s,\\phi,t \\right)}$"
      ],
      "text/plain": [
       "\\widetilde{zM_{s\\phi}}(s, \\phi, t)"
      ]
     },
     "metadata": {},
     "output_type": "display_data"
    },
    {
     "data": {
      "text/latex": [
       "$\\displaystyle B_{s}^e{\\left(s,\\phi,t \\right)}$"
      ],
      "text/plain": [
       "B_{s}^e(s, \\phi, t)"
      ]
     },
     "metadata": {},
     "output_type": "display_data"
    },
    {
     "data": {
      "text/latex": [
       "$\\displaystyle B_{\\phi}^e{\\left(s,\\phi,t \\right)}$"
      ],
      "text/plain": [
       "B_{\\phi}^e(s, \\phi, t)"
      ]
     },
     "metadata": {},
     "output_type": "display_data"
    },
    {
     "data": {
      "text/latex": [
       "$\\displaystyle B_{z}^e{\\left(s,\\phi,t \\right)}$"
      ],
      "text/plain": [
       "B_{z}^e(s, \\phi, t)"
      ]
     },
     "metadata": {},
     "output_type": "display_data"
    },
    {
     "data": {
      "text/latex": [
       "$\\displaystyle B_{s, z}^e{\\left(s,\\phi,t \\right)}$"
      ],
      "text/plain": [
       "B_{s, z}^e(s, \\phi, t)"
      ]
     },
     "metadata": {},
     "output_type": "display_data"
    },
    {
     "data": {
      "text/latex": [
       "$\\displaystyle B_{\\phi, z}^e{\\left(s,\\phi,t \\right)}$"
      ],
      "text/plain": [
       "B_{\\phi, z}^e(s, \\phi, t)"
      ]
     },
     "metadata": {},
     "output_type": "display_data"
    },
    {
     "data": {
      "text/latex": [
       "$\\displaystyle B_{r1}{\\left(\\theta,\\phi,t \\right)}$"
      ],
      "text/plain": [
       "B_{r1}(\\theta, \\phi, t)"
      ]
     },
     "metadata": {},
     "output_type": "display_data"
    },
    {
     "data": {
      "text/latex": [
       "$\\displaystyle B^{+}_{s}{\\left(s,\\phi,t \\right)}$"
      ],
      "text/plain": [
       "B_s^+(s, \\phi, t)"
      ]
     },
     "metadata": {},
     "output_type": "display_data"
    },
    {
     "data": {
      "text/latex": [
       "$\\displaystyle B^{+}_{\\phi}{\\left(s,\\phi,t \\right)}$"
      ],
      "text/plain": [
       "B_\\phi^+(s, \\phi, t)"
      ]
     },
     "metadata": {},
     "output_type": "display_data"
    },
    {
     "data": {
      "text/latex": [
       "$\\displaystyle B^{+}_{z}{\\left(s,\\phi,t \\right)}$"
      ],
      "text/plain": [
       "B_z^+(s, \\phi, t)"
      ]
     },
     "metadata": {},
     "output_type": "display_data"
    },
    {
     "data": {
      "text/latex": [
       "$\\displaystyle B^{-}_{s}{\\left(s,\\phi,t \\right)}$"
      ],
      "text/plain": [
       "B_s^-(s, \\phi, t)"
      ]
     },
     "metadata": {},
     "output_type": "display_data"
    },
    {
     "data": {
      "text/latex": [
       "$\\displaystyle B^{-}_{\\phi}{\\left(s,\\phi,t \\right)}$"
      ],
      "text/plain": [
       "B_\\phi^-(s, \\phi, t)"
      ]
     },
     "metadata": {},
     "output_type": "display_data"
    },
    {
     "data": {
      "text/latex": [
       "$\\displaystyle B^{-}_{z}{\\left(s,\\phi,t \\right)}$"
      ],
      "text/plain": [
       "B_z^-(s, \\phi, t)"
      ]
     },
     "metadata": {},
     "output_type": "display_data"
    }
   ],
   "source": [
    "display(*[field_symb for field_symb in core.pgvar])"
   ]
  },
  {
   "cell_type": "markdown",
   "id": "3872fdb4-a331-4b6c-8183-29643de60ccc",
   "metadata": {},
   "source": [
    "The same thing holds for `pgvar_bg` and `pgvar_ptb`. The background fields are denoted with an additional $0$ superscript, and the perturbed fields are denoted with lower-case letters."
   ]
  },
  {
   "cell_type": "code",
   "execution_count": 20,
   "id": "056c78bb-4d9a-4609-b1a6-a046b1712478",
   "metadata": {},
   "outputs": [
    {
     "data": {
      "text/latex": [
       "$\\displaystyle \\overline{M_{ss}}^0{\\left(s,\\phi \\right)}$"
      ],
      "text/plain": [
       "\\overline{M_{ss}}^0(s, \\phi)"
      ]
     },
     "metadata": {},
     "output_type": "display_data"
    },
    {
     "data": {
      "text/latex": [
       "$\\displaystyle \\overline{m_{ss}}{\\left(s,\\phi,t \\right)}$"
      ],
      "text/plain": [
       "\\overline{m_{ss}}(s, \\phi, t)"
      ]
     },
     "metadata": {},
     "output_type": "display_data"
    }
   ],
   "source": [
    "display(core.pgvar_bg.Mss, core.pgvar_ptb.Mss)"
   ]
  },
  {
   "cell_type": "markdown",
   "id": "36e12142-edf7-4fb4-8f3d-27086789dc55",
   "metadata": {},
   "source": [
    "Last but not least, the `core` module also stores the PG ansatz of the velocity, which can be invoked whenever necessary:"
   ]
  },
  {
   "cell_type": "code",
   "execution_count": 21,
   "id": "de527aba-831a-4467-9db2-bd570cf4f638",
   "metadata": {},
   "outputs": [
    {
     "data": {
      "text/latex": [
       "$\\displaystyle \\frac{\\frac{\\partial}{\\partial \\phi} \\Psi{\\left(s,\\phi,t \\right)}}{s H{\\left(s \\right)}}$"
      ],
      "text/plain": [
       "Derivative(\\Psi(s, \\phi, t), \\phi)/(s*H(s))"
      ]
     },
     "metadata": {},
     "output_type": "display_data"
    },
    {
     "data": {
      "text/latex": [
       "$\\displaystyle - \\frac{\\frac{\\partial}{\\partial s} \\Psi{\\left(s,\\phi,t \\right)}}{H{\\left(s \\right)}}$"
      ],
      "text/plain": [
       "-Derivative(\\Psi(s, \\phi, t), s)/H(s)"
      ]
     },
     "metadata": {},
     "output_type": "display_data"
    },
    {
     "data": {
      "text/latex": [
       "$\\displaystyle \\frac{z \\frac{d}{d s} H{\\left(s \\right)} \\frac{\\partial}{\\partial \\phi} \\Psi{\\left(s,\\phi,t \\right)}}{s H^{2}{\\left(s \\right)}}$"
      ],
      "text/plain": [
       "z*Derivative(H(s), s)*Derivative(\\Psi(s, \\phi, t), \\phi)/(s*H(s)**2)"
      ]
     },
     "metadata": {},
     "output_type": "display_data"
    }
   ],
   "source": [
    "display(*[core.U_pg[i_comp] for i_comp in range(3)])"
   ]
  },
  {
   "cell_type": "markdown",
   "id": "8f908549-15cb-485b-bdca-f5b854d33100",
   "metadata": {},
   "source": [
    "### Equations and linearizations\n",
    "\n",
    "With all the variables defined, we can now introduce the equations. The 15 PG equations have been typed in manually in the `equations.py` module.\n",
    "Since these equations are constructed when the module is imported, the first import of `equations` module takes some time (~10s or so).\n",
    "\n",
    "These are similarly stored in a `CollectionPG` object called `equations.eqs_pg`. Let us inspect these equations:"
   ]
  },
  {
   "cell_type": "code",
   "execution_count": 22,
   "id": "69063589-7bfc-4622-be18-3f33e8b3c23d",
   "metadata": {},
   "outputs": [
    {
     "data": {
      "text/latex": [
       "$\\displaystyle \\left(- \\frac{\\frac{d}{d s} H{\\left(s \\right)}}{2 H^{2}{\\left(s \\right)}} + \\frac{1}{s H{\\left(s \\right)}}\\right) \\frac{\\partial^{3}}{\\partial t\\partial \\phi^{2}} \\Psi{\\left(s,\\phi,t \\right)} + \\frac{\\partial}{\\partial s} \\frac{s \\frac{\\partial^{2}}{\\partial t\\partial s} \\Psi{\\left(s,\\phi,t \\right)}}{H{\\left(s \\right)}} = - \\frac{s \\left(\\frac{s \\frac{\\partial}{\\partial s} \\overline{f_\\phi}{\\left(s,\\phi,t \\right)} + \\overline{f_\\phi}{\\left(s,\\phi,t \\right)}}{s} - \\frac{\\frac{\\partial}{\\partial \\phi} \\overline{f_s}{\\left(s,\\phi,t \\right)}}{s}\\right)}{2 H{\\left(s \\right)}} + \\left(\\frac{s f_{\\phi}^e{\\left(s,\\phi,t \\right)}}{H{\\left(s \\right)}} + \\frac{\\frac{\\partial}{\\partial \\phi} \\widetilde{f_z}{\\left(s,\\phi,t \\right)}}{2 H{\\left(s \\right)}}\\right) \\frac{d}{d s} H{\\left(s \\right)} - \\frac{2 \\frac{d}{d s} H{\\left(s \\right)} \\frac{\\partial}{\\partial \\phi} \\Psi{\\left(s,\\phi,t \\right)}}{H^{2}{\\left(s \\right)}}$"
      ],
      "text/plain": [
       "Eq((-Derivative(H(s), s)/(2*H(s)**2) + 1/(s*H(s)))*Derivative(\\Psi(s, \\phi, t), (\\phi, 2), t) + Derivative(s*Derivative(\\Psi(s, \\phi, t), s, t)/H(s), s), -s*((s*Derivative(\\overline{f_\\phi}(s, \\phi, t), s) + \\overline{f_\\phi}(s, \\phi, t))/s - Derivative(\\overline{f_s}(s, \\phi, t), \\phi)/s)/(2*H(s)) + (s*f_{\\phi}^e(s, \\phi, t)/H(s) + Derivative(\\widetilde{f_z}(s, \\phi, t), \\phi)/(2*H(s)))*Derivative(H(s), s) - 2*Derivative(H(s), s)*Derivative(\\Psi(s, \\phi, t), \\phi)/H(s)**2)"
      ]
     },
     "metadata": {},
     "output_type": "display_data"
    },
    {
     "data": {
      "text/latex": [
       "$\\displaystyle \\frac{\\partial}{\\partial t} \\overline{M_{ss}}{\\left(s,\\phi,t \\right)} = - \\left(U_{s}{\\left(s,\\phi,z,t \\right)} \\frac{\\partial}{\\partial s} \\frac{\\overline{M_{ss}}{\\left(s,\\phi,t \\right)}}{H{\\left(s \\right)}} + \\frac{U_{\\phi}{\\left(s,\\phi,z,t \\right)} \\frac{\\partial}{\\partial \\phi} \\frac{\\overline{M_{ss}}{\\left(s,\\phi,t \\right)}}{H{\\left(s \\right)}}}{s}\\right) H{\\left(s \\right)} + 2 \\overline{M_{ss}}{\\left(s,\\phi,t \\right)} \\frac{\\partial}{\\partial s} U_{s}{\\left(s,\\phi,z,t \\right)} + \\frac{2 \\overline{M_{s\\phi}}{\\left(s,\\phi,t \\right)} \\frac{\\partial}{\\partial \\phi} U_{s}{\\left(s,\\phi,z,t \\right)}}{s}$"
      ],
      "text/plain": [
       "Eq(Derivative(\\overline{M_{ss}}(s, \\phi, t), t), -(U_s(s, \\phi, z, t)*Derivative(\\overline{M_{ss}}(s, \\phi, t)/H(s), s) + U_\\phi(s, \\phi, z, t)*Derivative(\\overline{M_{ss}}(s, \\phi, t)/H(s), \\phi)/s)*H(s) + 2*\\overline{M_{ss}}(s, \\phi, t)*Derivative(U_s(s, \\phi, z, t), s) + 2*\\overline{M_{s\\phi}}(s, \\phi, t)*Derivative(U_s(s, \\phi, z, t), \\phi)/s)"
      ]
     },
     "metadata": {},
     "output_type": "display_data"
    },
    {
     "data": {
      "text/latex": [
       "$\\displaystyle \\frac{\\partial}{\\partial t} \\overline{M_{\\phi\\phi}}{\\left(s,\\phi,t \\right)} = 2 s \\overline{M_{s\\phi}}{\\left(s,\\phi,t \\right)} \\frac{\\partial}{\\partial s} \\frac{U_{\\phi}{\\left(s,\\phi,z,t \\right)}}{s} - \\frac{U_{s}{\\left(s,\\phi,z,t \\right)} \\frac{\\partial}{\\partial s} H{\\left(s \\right)} \\overline{M_{\\phi\\phi}}{\\left(s,\\phi,t \\right)} + \\frac{U_{\\phi}{\\left(s,\\phi,z,t \\right)} \\frac{\\partial}{\\partial \\phi} H{\\left(s \\right)} \\overline{M_{\\phi\\phi}}{\\left(s,\\phi,t \\right)}}{s}}{H{\\left(s \\right)}} - 2 \\overline{M_{\\phi\\phi}}{\\left(s,\\phi,t \\right)} \\frac{\\partial}{\\partial s} U_{s}{\\left(s,\\phi,z,t \\right)}$"
      ],
      "text/plain": [
       "Eq(Derivative(\\overline{M_{\\phi\\phi}}(s, \\phi, t), t), 2*s*\\overline{M_{s\\phi}}(s, \\phi, t)*Derivative(U_\\phi(s, \\phi, z, t)/s, s) - (U_s(s, \\phi, z, t)*Derivative(H(s)*\\overline{M_{\\phi\\phi}}(s, \\phi, t), s) + U_\\phi(s, \\phi, z, t)*Derivative(H(s)*\\overline{M_{\\phi\\phi}}(s, \\phi, t), \\phi)/s)/H(s) - 2*\\overline{M_{\\phi\\phi}}(s, \\phi, t)*Derivative(U_s(s, \\phi, z, t), s))"
      ]
     },
     "metadata": {},
     "output_type": "display_data"
    },
    {
     "data": {
      "text/latex": [
       "$\\displaystyle \\frac{\\partial}{\\partial t} \\overline{M_{s\\phi}}{\\left(s,\\phi,t \\right)} = s \\overline{M_{ss}}{\\left(s,\\phi,t \\right)} \\frac{\\partial}{\\partial s} \\frac{U_{\\phi}{\\left(s,\\phi,z,t \\right)}}{s} - U_{s}{\\left(s,\\phi,z,t \\right)} \\frac{\\partial}{\\partial s} \\overline{M_{s\\phi}}{\\left(s,\\phi,t \\right)} - \\frac{U_{\\phi}{\\left(s,\\phi,z,t \\right)} \\frac{\\partial}{\\partial \\phi} \\overline{M_{s\\phi}}{\\left(s,\\phi,t \\right)}}{s} + \\frac{\\overline{M_{\\phi\\phi}}{\\left(s,\\phi,t \\right)} \\frac{\\partial}{\\partial \\phi} U_{s}{\\left(s,\\phi,z,t \\right)}}{s}$"
      ],
      "text/plain": [
       "Eq(Derivative(\\overline{M_{s\\phi}}(s, \\phi, t), t), s*\\overline{M_{ss}}(s, \\phi, t)*Derivative(U_\\phi(s, \\phi, z, t)/s, s) - U_s(s, \\phi, z, t)*Derivative(\\overline{M_{s\\phi}}(s, \\phi, t), s) - U_\\phi(s, \\phi, z, t)*Derivative(\\overline{M_{s\\phi}}(s, \\phi, t), \\phi)/s + \\overline{M_{\\phi\\phi}}(s, \\phi, t)*Derivative(U_s(s, \\phi, z, t), \\phi)/s)"
      ]
     },
     "metadata": {},
     "output_type": "display_data"
    },
    {
     "data": {
      "text/latex": [
       "$\\displaystyle \\frac{\\partial}{\\partial t} \\widetilde{M_{sz}}{\\left(s,\\phi,t \\right)} = \\left(\\frac{\\partial}{\\partial s} U_{s}{\\left(s,\\phi,z,t \\right)} + 2 \\frac{\\partial}{\\partial z} U_{z}{\\left(s,\\phi,z,t \\right)}\\right) \\widetilde{M_{sz}}{\\left(s,\\phi,t \\right)} - U_{s}{\\left(s,\\phi,z,t \\right)} \\frac{\\partial}{\\partial s} \\widetilde{M_{sz}}{\\left(s,\\phi,t \\right)} + \\widetilde{zM_{ss}}{\\left(s,\\phi,t \\right)} \\frac{\\partial}{\\partial s} \\frac{U_{s}{\\left(s,\\phi,z,t \\right)} \\frac{d}{d s} H{\\left(s \\right)}}{H{\\left(s \\right)}} - \\frac{U_{\\phi}{\\left(s,\\phi,z,t \\right)} \\frac{\\partial}{\\partial \\phi} \\widetilde{M_{sz}}{\\left(s,\\phi,t \\right)}}{s} + \\frac{\\widetilde{M_{\\phi z}}{\\left(s,\\phi,t \\right)} \\frac{\\partial}{\\partial \\phi} U_{s}{\\left(s,\\phi,z,t \\right)}}{s} + \\frac{\\widetilde{zM_{s\\phi}}{\\left(s,\\phi,t \\right)} \\frac{d}{d s} H{\\left(s \\right)} \\frac{\\partial}{\\partial \\phi} U_{s}{\\left(s,\\phi,z,t \\right)}}{s H{\\left(s \\right)}}$"
      ],
      "text/plain": [
       "Eq(Derivative(\\widetilde{M_{sz}}(s, \\phi, t), t), (Derivative(U_s(s, \\phi, z, t), s) + 2*Derivative(U_z(s, \\phi, z, t), z))*\\widetilde{M_{sz}}(s, \\phi, t) - U_s(s, \\phi, z, t)*Derivative(\\widetilde{M_{sz}}(s, \\phi, t), s) + \\widetilde{zM_{ss}}(s, \\phi, t)*Derivative(U_s(s, \\phi, z, t)*Derivative(H(s), s)/H(s), s) - U_\\phi(s, \\phi, z, t)*Derivative(\\widetilde{M_{sz}}(s, \\phi, t), \\phi)/s + \\widetilde{M_{\\phi z}}(s, \\phi, t)*Derivative(U_s(s, \\phi, z, t), \\phi)/s + \\widetilde{zM_{s\\phi}}(s, \\phi, t)*Derivative(H(s), s)*Derivative(U_s(s, \\phi, z, t), \\phi)/(s*H(s)))"
      ]
     },
     "metadata": {},
     "output_type": "display_data"
    },
    {
     "data": {
      "text/latex": [
       "$\\displaystyle \\frac{\\partial}{\\partial t} \\widetilde{M_{\\phi z}}{\\left(s,\\phi,t \\right)} = s \\widetilde{M_{sz}}{\\left(s,\\phi,t \\right)} \\frac{\\partial}{\\partial s} \\frac{U_{\\phi}{\\left(s,\\phi,z,t \\right)}}{s} + \\left(- \\frac{\\partial}{\\partial s} U_{s}{\\left(s,\\phi,z,t \\right)} + \\frac{\\partial}{\\partial z} U_{z}{\\left(s,\\phi,z,t \\right)}\\right) \\widetilde{M_{\\phi z}}{\\left(s,\\phi,t \\right)} - U_{s}{\\left(s,\\phi,z,t \\right)} \\frac{\\partial}{\\partial s} \\widetilde{M_{\\phi z}}{\\left(s,\\phi,t \\right)} + \\widetilde{zM_{s\\phi}}{\\left(s,\\phi,t \\right)} \\frac{\\partial}{\\partial s} \\frac{U_{s}{\\left(s,\\phi,z,t \\right)} \\frac{d}{d s} H{\\left(s \\right)}}{H{\\left(s \\right)}} - \\frac{U_{\\phi}{\\left(s,\\phi,z,t \\right)} \\frac{\\partial}{\\partial \\phi} \\widetilde{M_{\\phi z}}{\\left(s,\\phi,t \\right)}}{s} + \\frac{\\widetilde{zM_{\\phi\\phi}}{\\left(s,\\phi,t \\right)} \\frac{d}{d s} H{\\left(s \\right)} \\frac{\\partial}{\\partial \\phi} U_{s}{\\left(s,\\phi,z,t \\right)}}{s H{\\left(s \\right)}}$"
      ],
      "text/plain": [
       "Eq(Derivative(\\widetilde{M_{\\phi z}}(s, \\phi, t), t), s*\\widetilde{M_{sz}}(s, \\phi, t)*Derivative(U_\\phi(s, \\phi, z, t)/s, s) + (-Derivative(U_s(s, \\phi, z, t), s) + Derivative(U_z(s, \\phi, z, t), z))*\\widetilde{M_{\\phi z}}(s, \\phi, t) - U_s(s, \\phi, z, t)*Derivative(\\widetilde{M_{\\phi z}}(s, \\phi, t), s) + \\widetilde{zM_{s\\phi}}(s, \\phi, t)*Derivative(U_s(s, \\phi, z, t)*Derivative(H(s), s)/H(s), s) - U_\\phi(s, \\phi, z, t)*Derivative(\\widetilde{M_{\\phi z}}(s, \\phi, t), \\phi)/s + \\widetilde{zM_{\\phi\\phi}}(s, \\phi, t)*Derivative(H(s), s)*Derivative(U_s(s, \\phi, z, t), \\phi)/(s*H(s)))"
      ]
     },
     "metadata": {},
     "output_type": "display_data"
    },
    {
     "data": {
      "text/latex": [
       "$\\displaystyle \\frac{\\partial}{\\partial t} \\widetilde{zM_{ss}}{\\left(s,\\phi,t \\right)} = \\left(2 \\frac{\\partial}{\\partial s} U_{s}{\\left(s,\\phi,z,t \\right)} + 2 \\frac{\\partial}{\\partial z} U_{z}{\\left(s,\\phi,z,t \\right)}\\right) \\widetilde{zM_{ss}}{\\left(s,\\phi,t \\right)} - U_{s}{\\left(s,\\phi,z,t \\right)} \\frac{\\partial}{\\partial s} \\widetilde{zM_{ss}}{\\left(s,\\phi,t \\right)} - \\frac{U_{\\phi}{\\left(s,\\phi,z,t \\right)} \\frac{\\partial}{\\partial \\phi} \\widetilde{zM_{ss}}{\\left(s,\\phi,t \\right)}}{s} + \\frac{2 \\widetilde{zM_{s\\phi}}{\\left(s,\\phi,t \\right)} \\frac{\\partial}{\\partial \\phi} U_{s}{\\left(s,\\phi,z,t \\right)}}{s}$"
      ],
      "text/plain": [
       "Eq(Derivative(\\widetilde{zM_{ss}}(s, \\phi, t), t), (2*Derivative(U_s(s, \\phi, z, t), s) + 2*Derivative(U_z(s, \\phi, z, t), z))*\\widetilde{zM_{ss}}(s, \\phi, t) - U_s(s, \\phi, z, t)*Derivative(\\widetilde{zM_{ss}}(s, \\phi, t), s) - U_\\phi(s, \\phi, z, t)*Derivative(\\widetilde{zM_{ss}}(s, \\phi, t), \\phi)/s + 2*\\widetilde{zM_{s\\phi}}(s, \\phi, t)*Derivative(U_s(s, \\phi, z, t), \\phi)/s)"
      ]
     },
     "metadata": {},
     "output_type": "display_data"
    },
    {
     "data": {
      "text/latex": [
       "$\\displaystyle \\frac{\\partial}{\\partial t} \\widetilde{zM_{\\phi\\phi}}{\\left(s,\\phi,t \\right)} = 2 s \\widetilde{zM_{s\\phi}}{\\left(s,\\phi,t \\right)} \\frac{\\partial}{\\partial s} \\frac{U_{\\phi}{\\left(s,\\phi,z,t \\right)}}{s} - U_{s}{\\left(s,\\phi,z,t \\right)} \\frac{\\partial}{\\partial s} \\widetilde{zM_{\\phi\\phi}}{\\left(s,\\phi,t \\right)} - 2 \\widetilde{zM_{\\phi\\phi}}{\\left(s,\\phi,t \\right)} \\frac{\\partial}{\\partial s} U_{s}{\\left(s,\\phi,z,t \\right)} - \\frac{U_{\\phi}{\\left(s,\\phi,z,t \\right)} \\frac{\\partial}{\\partial \\phi} \\widetilde{zM_{\\phi\\phi}}{\\left(s,\\phi,t \\right)}}{s}$"
      ],
      "text/plain": [
       "Eq(Derivative(\\widetilde{zM_{\\phi\\phi}}(s, \\phi, t), t), 2*s*\\widetilde{zM_{s\\phi}}(s, \\phi, t)*Derivative(U_\\phi(s, \\phi, z, t)/s, s) - U_s(s, \\phi, z, t)*Derivative(\\widetilde{zM_{\\phi\\phi}}(s, \\phi, t), s) - 2*\\widetilde{zM_{\\phi\\phi}}(s, \\phi, t)*Derivative(U_s(s, \\phi, z, t), s) - U_\\phi(s, \\phi, z, t)*Derivative(\\widetilde{zM_{\\phi\\phi}}(s, \\phi, t), \\phi)/s)"
      ]
     },
     "metadata": {},
     "output_type": "display_data"
    },
    {
     "data": {
      "text/latex": [
       "$\\displaystyle \\frac{\\partial}{\\partial t} \\widetilde{zM_{s\\phi}}{\\left(s,\\phi,t \\right)} = s \\widetilde{zM_{ss}}{\\left(s,\\phi,t \\right)} \\frac{\\partial}{\\partial s} \\frac{U_{\\phi}{\\left(s,\\phi,z,t \\right)}}{s} - U_{s}{\\left(s,\\phi,z,t \\right)} \\frac{\\partial}{\\partial s} \\widetilde{zM_{s\\phi}}{\\left(s,\\phi,t \\right)} + \\widetilde{zM_{s\\phi}}{\\left(s,\\phi,t \\right)} \\frac{\\partial}{\\partial z} U_{z}{\\left(s,\\phi,z,t \\right)} - \\frac{U_{\\phi}{\\left(s,\\phi,z,t \\right)} \\frac{\\partial}{\\partial \\phi} \\widetilde{zM_{s\\phi}}{\\left(s,\\phi,t \\right)}}{s} + \\frac{\\widetilde{zM_{\\phi\\phi}}{\\left(s,\\phi,t \\right)} \\frac{\\partial}{\\partial \\phi} U_{s}{\\left(s,\\phi,z,t \\right)}}{s}$"
      ],
      "text/plain": [
       "Eq(Derivative(\\widetilde{zM_{s\\phi}}(s, \\phi, t), t), s*\\widetilde{zM_{ss}}(s, \\phi, t)*Derivative(U_\\phi(s, \\phi, z, t)/s, s) - U_s(s, \\phi, z, t)*Derivative(\\widetilde{zM_{s\\phi}}(s, \\phi, t), s) + \\widetilde{zM_{s\\phi}}(s, \\phi, t)*Derivative(U_z(s, \\phi, z, t), z) - U_\\phi(s, \\phi, z, t)*Derivative(\\widetilde{zM_{s\\phi}}(s, \\phi, t), \\phi)/s + \\widetilde{zM_{\\phi\\phi}}(s, \\phi, t)*Derivative(U_s(s, \\phi, z, t), \\phi)/s)"
      ]
     },
     "metadata": {},
     "output_type": "display_data"
    },
    {
     "data": {
      "text/latex": [
       "$\\displaystyle \\frac{\\partial}{\\partial t} B_{s}^e{\\left(s,\\phi,t \\right)} = B_{s}^e{\\left(s,\\phi,t \\right)} \\frac{\\partial}{\\partial s} U_{s}{\\left(s,\\phi,z,t \\right)} - U_{s}{\\left(s,\\phi,z,t \\right)} \\frac{\\partial}{\\partial s} B_{s}^e{\\left(s,\\phi,t \\right)} + \\frac{B_{\\phi}^e{\\left(s,\\phi,t \\right)} \\frac{\\partial}{\\partial \\phi} U_{s}{\\left(s,\\phi,z,t \\right)}}{s} - \\frac{U_{\\phi}{\\left(s,\\phi,z,t \\right)} \\frac{\\partial}{\\partial \\phi} B_{s}^e{\\left(s,\\phi,t \\right)}}{s}$"
      ],
      "text/plain": [
       "Eq(Derivative(B_{s}^e(s, \\phi, t), t), B_{s}^e(s, \\phi, t)*Derivative(U_s(s, \\phi, z, t), s) - U_s(s, \\phi, z, t)*Derivative(B_{s}^e(s, \\phi, t), s) + B_{\\phi}^e(s, \\phi, t)*Derivative(U_s(s, \\phi, z, t), \\phi)/s - U_\\phi(s, \\phi, z, t)*Derivative(B_{s}^e(s, \\phi, t), \\phi)/s)"
      ]
     },
     "metadata": {},
     "output_type": "display_data"
    },
    {
     "data": {
      "text/latex": [
       "$\\displaystyle \\frac{\\partial}{\\partial t} B_{\\phi}^e{\\left(s,\\phi,t \\right)} = B_{s}^e{\\left(s,\\phi,t \\right)} \\frac{\\partial}{\\partial s} U_{\\phi}{\\left(s,\\phi,z,t \\right)} - U_{s}{\\left(s,\\phi,z,t \\right)} \\frac{\\partial}{\\partial s} B_{\\phi}^e{\\left(s,\\phi,t \\right)} + \\frac{B_{\\phi}^e{\\left(s,\\phi,t \\right)} U_{s}{\\left(s,\\phi,z,t \\right)} - B_{s}^e{\\left(s,\\phi,t \\right)} U_{\\phi}{\\left(s,\\phi,z,t \\right)}}{s} + \\frac{B_{\\phi}^e{\\left(s,\\phi,t \\right)} \\frac{\\partial}{\\partial \\phi} U_{\\phi}{\\left(s,\\phi,z,t \\right)}}{s} - \\frac{U_{\\phi}{\\left(s,\\phi,z,t \\right)} \\frac{\\partial}{\\partial \\phi} B_{\\phi}^e{\\left(s,\\phi,t \\right)}}{s}$"
      ],
      "text/plain": [
       "Eq(Derivative(B_{\\phi}^e(s, \\phi, t), t), B_{s}^e(s, \\phi, t)*Derivative(U_\\phi(s, \\phi, z, t), s) - U_s(s, \\phi, z, t)*Derivative(B_{\\phi}^e(s, \\phi, t), s) + (B_{\\phi}^e(s, \\phi, t)*U_s(s, \\phi, z, t) - B_{s}^e(s, \\phi, t)*U_\\phi(s, \\phi, z, t))/s + B_{\\phi}^e(s, \\phi, t)*Derivative(U_\\phi(s, \\phi, z, t), \\phi)/s - U_\\phi(s, \\phi, z, t)*Derivative(B_{\\phi}^e(s, \\phi, t), \\phi)/s)"
      ]
     },
     "metadata": {},
     "output_type": "display_data"
    },
    {
     "data": {
      "text/latex": [
       "$\\displaystyle \\frac{\\partial}{\\partial t} B_{z}^e{\\left(s,\\phi,t \\right)} = B_{z}^e{\\left(s,\\phi,t \\right)} \\frac{\\partial}{\\partial z} U_{z}{\\left(s,\\phi,z,t \\right)} - U_{s}{\\left(s,\\phi,z,t \\right)} \\frac{\\partial}{\\partial s} B_{z}^e{\\left(s,\\phi,t \\right)} - \\frac{U_{\\phi}{\\left(s,\\phi,z,t \\right)} \\frac{\\partial}{\\partial \\phi} B_{z}^e{\\left(s,\\phi,t \\right)}}{s}$"
      ],
      "text/plain": [
       "Eq(Derivative(B_{z}^e(s, \\phi, t), t), B_{z}^e(s, \\phi, t)*Derivative(U_z(s, \\phi, z, t), z) - U_s(s, \\phi, z, t)*Derivative(B_{z}^e(s, \\phi, t), s) - U_\\phi(s, \\phi, z, t)*Derivative(B_{z}^e(s, \\phi, t), \\phi)/s)"
      ]
     },
     "metadata": {},
     "output_type": "display_data"
    },
    {
     "data": {
      "text/latex": [
       "$\\displaystyle \\frac{\\partial}{\\partial t} B_{s, z}^e{\\left(s,\\phi,t \\right)} = B_{s, z}^e{\\left(s,\\phi,t \\right)} \\frac{\\partial}{\\partial s} U_{s}{\\left(s,\\phi,z,t \\right)} - B_{s, z}^e{\\left(s,\\phi,t \\right)} \\frac{\\partial}{\\partial z} U_{z}{\\left(s,\\phi,z,t \\right)} - U_{s}{\\left(s,\\phi,z,t \\right)} \\frac{\\partial}{\\partial s} B_{s, z}^e{\\left(s,\\phi,t \\right)} + \\frac{B_{\\phi, z}^e{\\left(s,\\phi,t \\right)} \\frac{\\partial}{\\partial \\phi} U_{s}{\\left(s,\\phi,z,t \\right)}}{s} - \\frac{U_{\\phi}{\\left(s,\\phi,z,t \\right)} \\frac{\\partial}{\\partial \\phi} B_{s, z}^e{\\left(s,\\phi,t \\right)}}{s}$"
      ],
      "text/plain": [
       "Eq(Derivative(B_{s, z}^e(s, \\phi, t), t), B_{s, z}^e(s, \\phi, t)*Derivative(U_s(s, \\phi, z, t), s) - B_{s, z}^e(s, \\phi, t)*Derivative(U_z(s, \\phi, z, t), z) - U_s(s, \\phi, z, t)*Derivative(B_{s, z}^e(s, \\phi, t), s) + B_{\\phi, z}^e(s, \\phi, t)*Derivative(U_s(s, \\phi, z, t), \\phi)/s - U_\\phi(s, \\phi, z, t)*Derivative(B_{s, z}^e(s, \\phi, t), \\phi)/s)"
      ]
     },
     "metadata": {},
     "output_type": "display_data"
    },
    {
     "data": {
      "text/latex": [
       "$\\displaystyle \\frac{\\partial}{\\partial t} B_{\\phi, z}^e{\\left(s,\\phi,t \\right)} = - B_{\\phi, z}^e{\\left(s,\\phi,t \\right)} \\frac{\\partial}{\\partial z} U_{z}{\\left(s,\\phi,z,t \\right)} + B_{s, z}^e{\\left(s,\\phi,t \\right)} \\frac{\\partial}{\\partial s} U_{\\phi}{\\left(s,\\phi,z,t \\right)} - U_{s}{\\left(s,\\phi,z,t \\right)} \\frac{\\partial}{\\partial s} B_{\\phi, z}^e{\\left(s,\\phi,t \\right)} + \\frac{B_{\\phi, z}^e{\\left(s,\\phi,t \\right)} U_{s}{\\left(s,\\phi,z,t \\right)} - B_{s, z}^e{\\left(s,\\phi,t \\right)} U_{\\phi}{\\left(s,\\phi,z,t \\right)}}{s} + \\frac{B_{\\phi, z}^e{\\left(s,\\phi,t \\right)} \\frac{\\partial}{\\partial \\phi} U_{\\phi}{\\left(s,\\phi,z,t \\right)}}{s} - \\frac{U_{\\phi}{\\left(s,\\phi,z,t \\right)} \\frac{\\partial}{\\partial \\phi} B_{\\phi, z}^e{\\left(s,\\phi,t \\right)}}{s}$"
      ],
      "text/plain": [
       "Eq(Derivative(B_{\\phi, z}^e(s, \\phi, t), t), -B_{\\phi, z}^e(s, \\phi, t)*Derivative(U_z(s, \\phi, z, t), z) + B_{s, z}^e(s, \\phi, t)*Derivative(U_\\phi(s, \\phi, z, t), s) - U_s(s, \\phi, z, t)*Derivative(B_{\\phi, z}^e(s, \\phi, t), s) + (B_{\\phi, z}^e(s, \\phi, t)*U_s(s, \\phi, z, t) - B_{s, z}^e(s, \\phi, t)*U_\\phi(s, \\phi, z, t))/s + B_{\\phi, z}^e(s, \\phi, t)*Derivative(U_\\phi(s, \\phi, z, t), \\phi)/s - U_\\phi(s, \\phi, z, t)*Derivative(B_{\\phi, z}^e(s, \\phi, t), \\phi)/s)"
      ]
     },
     "metadata": {},
     "output_type": "display_data"
    },
    {
     "data": {
      "text/latex": [
       "$\\displaystyle \\frac{\\partial}{\\partial t} B_{r1}{\\left(\\theta,\\phi,t \\right)} = - \\frac{\\frac{\\partial}{\\partial \\phi} B_{r1}{\\left(\\theta,\\phi,t \\right)} U_{\\phi}{\\left(r,\\theta,\\phi,t \\right)}}{r \\sin{\\left(\\theta \\right)}} - \\frac{\\frac{\\partial}{\\partial \\theta} B_{r1}{\\left(\\theta,\\phi,t \\right)} U_{\\theta}{\\left(r,\\theta,\\phi,t \\right)} \\sin{\\left(\\theta \\right)}}{r \\sin{\\left(\\theta \\right)}}$"
      ],
      "text/plain": [
       "Eq(Derivative(B_{r1}(\\theta, \\phi, t), t), -Derivative(B_{r1}(\\theta, \\phi, t)*U_\\phi(r, \\theta, \\phi, t), \\phi)/(r*sin(\\theta)) - Derivative(B_{r1}(\\theta, \\phi, t)*U_\\theta(r, \\theta, \\phi, t)*sin(\\theta), \\theta)/(r*sin(\\theta)))"
      ]
     },
     "metadata": {},
     "output_type": "display_data"
    },
    {
     "data": {
      "text/latex": [
       "$\\displaystyle \\frac{\\partial}{\\partial t} B^{+}_{s}{\\left(s,\\phi,t \\right)} = B^{+}_{s}{\\left(s,\\phi,t \\right)} \\frac{\\partial}{\\partial s} U_{s}{\\left(s,\\phi,z,t \\right)} + B^{+}_{z}{\\left(s,\\phi,t \\right)} \\frac{\\partial}{\\partial z} U_{s}{\\left(s,\\phi,z,t \\right)} - U_{s}{\\left(s,\\phi,z,t \\right)} \\frac{\\partial}{\\partial s} B_{s}{\\left(s,\\phi,z,t \\right)} - U_{z}{\\left(s,\\phi,z,t \\right)} \\frac{\\partial}{\\partial z} B_{s}{\\left(s,\\phi,z,t \\right)} + \\frac{B^{+}_{\\phi}{\\left(s,\\phi,t \\right)} \\frac{\\partial}{\\partial \\phi} U_{s}{\\left(s,\\phi,z,t \\right)}}{s} - \\frac{U_{\\phi}{\\left(s,\\phi,z,t \\right)} \\frac{\\partial}{\\partial \\phi} B_{s}{\\left(s,\\phi,z,t \\right)}}{s}$"
      ],
      "text/plain": [
       "Eq(Derivative(B_s^+(s, \\phi, t), t), B_s^+(s, \\phi, t)*Derivative(U_s(s, \\phi, z, t), s) + B_z^+(s, \\phi, t)*Derivative(U_s(s, \\phi, z, t), z) - U_s(s, \\phi, z, t)*Derivative(B_s(s, \\phi, z, t), s) - U_z(s, \\phi, z, t)*Derivative(B_s(s, \\phi, z, t), z) + B_\\phi^+(s, \\phi, t)*Derivative(U_s(s, \\phi, z, t), \\phi)/s - U_\\phi(s, \\phi, z, t)*Derivative(B_s(s, \\phi, z, t), \\phi)/s)"
      ]
     },
     "metadata": {},
     "output_type": "display_data"
    },
    {
     "data": {
      "text/latex": [
       "$\\displaystyle \\frac{\\partial}{\\partial t} B^{+}_{\\phi}{\\left(s,\\phi,t \\right)} = B^{+}_{s}{\\left(s,\\phi,t \\right)} \\frac{\\partial}{\\partial s} U_{\\phi}{\\left(s,\\phi,z,t \\right)} + B^{+}_{z}{\\left(s,\\phi,t \\right)} \\frac{\\partial}{\\partial z} U_{\\phi}{\\left(s,\\phi,z,t \\right)} - U_{s}{\\left(s,\\phi,z,t \\right)} \\frac{\\partial}{\\partial s} B_{\\phi}{\\left(s,\\phi,z,t \\right)} - U_{z}{\\left(s,\\phi,z,t \\right)} \\frac{\\partial}{\\partial z} B_{\\phi}{\\left(s,\\phi,z,t \\right)} + \\frac{B^{+}_{\\phi}{\\left(s,\\phi,t \\right)} U_{s}{\\left(s,\\phi,z,t \\right)} - B^{+}_{s}{\\left(s,\\phi,t \\right)} U_{\\phi}{\\left(s,\\phi,z,t \\right)}}{s} + \\frac{B^{+}_{\\phi}{\\left(s,\\phi,t \\right)} \\frac{\\partial}{\\partial \\phi} U_{\\phi}{\\left(s,\\phi,z,t \\right)}}{s} - \\frac{U_{\\phi}{\\left(s,\\phi,z,t \\right)} \\frac{\\partial}{\\partial \\phi} B_{\\phi}{\\left(s,\\phi,z,t \\right)}}{s}$"
      ],
      "text/plain": [
       "Eq(Derivative(B_\\phi^+(s, \\phi, t), t), B_s^+(s, \\phi, t)*Derivative(U_\\phi(s, \\phi, z, t), s) + B_z^+(s, \\phi, t)*Derivative(U_\\phi(s, \\phi, z, t), z) - U_s(s, \\phi, z, t)*Derivative(B_\\phi(s, \\phi, z, t), s) - U_z(s, \\phi, z, t)*Derivative(B_\\phi(s, \\phi, z, t), z) + (B_\\phi^+(s, \\phi, t)*U_s(s, \\phi, z, t) - B_s^+(s, \\phi, t)*U_\\phi(s, \\phi, z, t))/s + B_\\phi^+(s, \\phi, t)*Derivative(U_\\phi(s, \\phi, z, t), \\phi)/s - U_\\phi(s, \\phi, z, t)*Derivative(B_\\phi(s, \\phi, z, t), \\phi)/s)"
      ]
     },
     "metadata": {},
     "output_type": "display_data"
    },
    {
     "data": {
      "text/latex": [
       "$\\displaystyle \\frac{\\partial}{\\partial t} B^{+}_{z}{\\left(s,\\phi,t \\right)} = B^{+}_{s}{\\left(s,\\phi,t \\right)} \\frac{\\partial}{\\partial s} U_{z}{\\left(s,\\phi,z,t \\right)} + B^{+}_{z}{\\left(s,\\phi,t \\right)} \\frac{\\partial}{\\partial z} U_{z}{\\left(s,\\phi,z,t \\right)} - U_{s}{\\left(s,\\phi,z,t \\right)} \\frac{\\partial}{\\partial s} B_{z}{\\left(s,\\phi,z,t \\right)} - U_{z}{\\left(s,\\phi,z,t \\right)} \\frac{\\partial}{\\partial z} B_{z}{\\left(s,\\phi,z,t \\right)} + \\frac{B^{+}_{\\phi}{\\left(s,\\phi,t \\right)} \\frac{\\partial}{\\partial \\phi} U_{z}{\\left(s,\\phi,z,t \\right)}}{s} - \\frac{U_{\\phi}{\\left(s,\\phi,z,t \\right)} \\frac{\\partial}{\\partial \\phi} B_{z}{\\left(s,\\phi,z,t \\right)}}{s}$"
      ],
      "text/plain": [
       "Eq(Derivative(B_z^+(s, \\phi, t), t), B_s^+(s, \\phi, t)*Derivative(U_z(s, \\phi, z, t), s) + B_z^+(s, \\phi, t)*Derivative(U_z(s, \\phi, z, t), z) - U_s(s, \\phi, z, t)*Derivative(B_z(s, \\phi, z, t), s) - U_z(s, \\phi, z, t)*Derivative(B_z(s, \\phi, z, t), z) + B_\\phi^+(s, \\phi, t)*Derivative(U_z(s, \\phi, z, t), \\phi)/s - U_\\phi(s, \\phi, z, t)*Derivative(B_z(s, \\phi, z, t), \\phi)/s)"
      ]
     },
     "metadata": {},
     "output_type": "display_data"
    },
    {
     "data": {
      "text/latex": [
       "$\\displaystyle \\frac{\\partial}{\\partial t} B^{-}_{s}{\\left(s,\\phi,t \\right)} = B^{-}_{s}{\\left(s,\\phi,t \\right)} \\frac{\\partial}{\\partial s} U_{s}{\\left(s,\\phi,z,t \\right)} + B^{-}_{z}{\\left(s,\\phi,t \\right)} \\frac{\\partial}{\\partial z} U_{s}{\\left(s,\\phi,z,t \\right)} - U_{s}{\\left(s,\\phi,z,t \\right)} \\frac{\\partial}{\\partial s} B_{s}{\\left(s,\\phi,z,t \\right)} - U_{z}{\\left(s,\\phi,z,t \\right)} \\frac{\\partial}{\\partial z} B_{s}{\\left(s,\\phi,z,t \\right)} + \\frac{B^{-}_{\\phi}{\\left(s,\\phi,t \\right)} \\frac{\\partial}{\\partial \\phi} U_{s}{\\left(s,\\phi,z,t \\right)}}{s} - \\frac{U_{\\phi}{\\left(s,\\phi,z,t \\right)} \\frac{\\partial}{\\partial \\phi} B_{s}{\\left(s,\\phi,z,t \\right)}}{s}$"
      ],
      "text/plain": [
       "Eq(Derivative(B_s^-(s, \\phi, t), t), B_s^-(s, \\phi, t)*Derivative(U_s(s, \\phi, z, t), s) + B_z^-(s, \\phi, t)*Derivative(U_s(s, \\phi, z, t), z) - U_s(s, \\phi, z, t)*Derivative(B_s(s, \\phi, z, t), s) - U_z(s, \\phi, z, t)*Derivative(B_s(s, \\phi, z, t), z) + B_\\phi^-(s, \\phi, t)*Derivative(U_s(s, \\phi, z, t), \\phi)/s - U_\\phi(s, \\phi, z, t)*Derivative(B_s(s, \\phi, z, t), \\phi)/s)"
      ]
     },
     "metadata": {},
     "output_type": "display_data"
    },
    {
     "data": {
      "text/latex": [
       "$\\displaystyle \\frac{\\partial}{\\partial t} B^{-}_{\\phi}{\\left(s,\\phi,t \\right)} = B^{-}_{s}{\\left(s,\\phi,t \\right)} \\frac{\\partial}{\\partial s} U_{\\phi}{\\left(s,\\phi,z,t \\right)} + B^{-}_{z}{\\left(s,\\phi,t \\right)} \\frac{\\partial}{\\partial z} U_{\\phi}{\\left(s,\\phi,z,t \\right)} - U_{s}{\\left(s,\\phi,z,t \\right)} \\frac{\\partial}{\\partial s} B_{\\phi}{\\left(s,\\phi,z,t \\right)} - U_{z}{\\left(s,\\phi,z,t \\right)} \\frac{\\partial}{\\partial z} B_{\\phi}{\\left(s,\\phi,z,t \\right)} + \\frac{B^{-}_{\\phi}{\\left(s,\\phi,t \\right)} U_{s}{\\left(s,\\phi,z,t \\right)} - B^{-}_{s}{\\left(s,\\phi,t \\right)} U_{\\phi}{\\left(s,\\phi,z,t \\right)}}{s} + \\frac{B^{-}_{\\phi}{\\left(s,\\phi,t \\right)} \\frac{\\partial}{\\partial \\phi} U_{\\phi}{\\left(s,\\phi,z,t \\right)}}{s} - \\frac{U_{\\phi}{\\left(s,\\phi,z,t \\right)} \\frac{\\partial}{\\partial \\phi} B_{\\phi}{\\left(s,\\phi,z,t \\right)}}{s}$"
      ],
      "text/plain": [
       "Eq(Derivative(B_\\phi^-(s, \\phi, t), t), B_s^-(s, \\phi, t)*Derivative(U_\\phi(s, \\phi, z, t), s) + B_z^-(s, \\phi, t)*Derivative(U_\\phi(s, \\phi, z, t), z) - U_s(s, \\phi, z, t)*Derivative(B_\\phi(s, \\phi, z, t), s) - U_z(s, \\phi, z, t)*Derivative(B_\\phi(s, \\phi, z, t), z) + (B_\\phi^-(s, \\phi, t)*U_s(s, \\phi, z, t) - B_s^-(s, \\phi, t)*U_\\phi(s, \\phi, z, t))/s + B_\\phi^-(s, \\phi, t)*Derivative(U_\\phi(s, \\phi, z, t), \\phi)/s - U_\\phi(s, \\phi, z, t)*Derivative(B_\\phi(s, \\phi, z, t), \\phi)/s)"
      ]
     },
     "metadata": {},
     "output_type": "display_data"
    },
    {
     "data": {
      "text/latex": [
       "$\\displaystyle \\frac{\\partial}{\\partial t} B^{-}_{z}{\\left(s,\\phi,t \\right)} = B^{-}_{s}{\\left(s,\\phi,t \\right)} \\frac{\\partial}{\\partial s} U_{z}{\\left(s,\\phi,z,t \\right)} + B^{-}_{z}{\\left(s,\\phi,t \\right)} \\frac{\\partial}{\\partial z} U_{z}{\\left(s,\\phi,z,t \\right)} - U_{s}{\\left(s,\\phi,z,t \\right)} \\frac{\\partial}{\\partial s} B_{z}{\\left(s,\\phi,z,t \\right)} - U_{z}{\\left(s,\\phi,z,t \\right)} \\frac{\\partial}{\\partial z} B_{z}{\\left(s,\\phi,z,t \\right)} + \\frac{B^{-}_{\\phi}{\\left(s,\\phi,t \\right)} \\frac{\\partial}{\\partial \\phi} U_{z}{\\left(s,\\phi,z,t \\right)}}{s} - \\frac{U_{\\phi}{\\left(s,\\phi,z,t \\right)} \\frac{\\partial}{\\partial \\phi} B_{z}{\\left(s,\\phi,z,t \\right)}}{s}$"
      ],
      "text/plain": [
       "Eq(Derivative(B_z^-(s, \\phi, t), t), B_s^-(s, \\phi, t)*Derivative(U_z(s, \\phi, z, t), s) + B_z^-(s, \\phi, t)*Derivative(U_z(s, \\phi, z, t), z) - U_s(s, \\phi, z, t)*Derivative(B_z(s, \\phi, z, t), s) - U_z(s, \\phi, z, t)*Derivative(B_z(s, \\phi, z, t), z) + B_\\phi^-(s, \\phi, t)*Derivative(U_z(s, \\phi, z, t), \\phi)/s - U_\\phi(s, \\phi, z, t)*Derivative(B_z(s, \\phi, z, t), \\phi)/s)"
      ]
     },
     "metadata": {},
     "output_type": "display_data"
    }
   ],
   "source": [
    "from pg_utils.pg_model import equations as eqs\n",
    "\n",
    "display(*[eq for eq in eqs.eqs_pg])"
   ]
  },
  {
   "cell_type": "markdown",
   "id": "9448bc20-289b-4c16-936d-b532e3a6cff4",
   "metadata": {},
   "source": [
    "Of course, as other `CollectionPG` objects as `core.pgvar`, the equations in `equations.eqs_pg` can also be accessed either by attribute (e.g. `equations.eqs_pg.Mss`) or by index (e.g. `equations.eqs_pg[1]`).\n",
    "\n",
    "These equations are then linearized automatically in the same module. The procedure is as follows: each fields are expanded as the background state + $\\epsilon\\cdot$ a perturbation state. Then, all the terms that are linear in $\\epsilon$ are collected to yields the linearized form. This method is borrowed from Daria's Mathematica notebook.\n",
    "\n",
    "The linearized equations are then stored in `equations.eqs_lin`. For instance, the linearized evolution equation for $\\widetilde{zM_{s\\phi}}$ takes the form"
   ]
  },
  {
   "cell_type": "code",
   "execution_count": 23,
   "id": "4b6e9378-3487-4d81-8a98-e1f69c91e6f2",
   "metadata": {},
   "outputs": [
    {
     "data": {
      "text/latex": [
       "$\\displaystyle \\frac{\\partial}{\\partial t} \\widetilde{zm_{s\\phi}}{\\left(s,\\phi,t \\right)} = - U^{0}_{s}{\\left(s,\\phi,z \\right)} \\frac{\\partial}{\\partial s} \\widetilde{zm_{s\\phi}}{\\left(s,\\phi,t \\right)} + \\widetilde{zm_{s\\phi}}{\\left(s,\\phi,t \\right)} \\frac{\\partial}{\\partial z} U^{0}_{z}{\\left(s,\\phi,z \\right)} + \\widetilde{zm_{ss}}{\\left(s,\\phi,t \\right)} \\frac{\\partial}{\\partial s} U^{0}_{\\phi}{\\left(s,\\phi,z \\right)} - \\frac{\\widetilde{zM_{ss}}^0{\\left(s,\\phi \\right)} \\frac{\\partial^{2}}{\\partial s^{2}} \\psi{\\left(s,\\phi,t \\right)}}{H{\\left(s \\right)}} + \\frac{\\widetilde{zM_{ss}}^0{\\left(s,\\phi \\right)} \\frac{d}{d s} H{\\left(s \\right)} \\frac{\\partial}{\\partial s} \\psi{\\left(s,\\phi,t \\right)}}{H^{2}{\\left(s \\right)}} - \\frac{U^{0}_{\\phi}{\\left(s,\\phi,z \\right)} \\widetilde{zm_{ss}}{\\left(s,\\phi,t \\right)}}{s} - \\frac{U^{0}_{\\phi}{\\left(s,\\phi,z \\right)} \\frac{\\partial}{\\partial \\phi} \\widetilde{zm_{s\\phi}}{\\left(s,\\phi,t \\right)}}{s} + \\frac{\\widetilde{zm_{\\phi\\phi}}{\\left(s,\\phi,t \\right)} \\frac{\\partial}{\\partial \\phi} U^{0}_{s}{\\left(s,\\phi,z \\right)}}{s} + \\frac{\\widetilde{zM_{ss}}^0{\\left(s,\\phi \\right)} \\frac{\\partial}{\\partial s} \\psi{\\left(s,\\phi,t \\right)}}{s H{\\left(s \\right)}} - \\frac{\\frac{\\partial}{\\partial \\phi} \\psi{\\left(s,\\phi,t \\right)} \\frac{\\partial}{\\partial s} \\widetilde{zM_{s\\phi}}^0{\\left(s,\\phi \\right)}}{s H{\\left(s \\right)}} + \\frac{\\frac{\\partial}{\\partial s} \\psi{\\left(s,\\phi,t \\right)} \\frac{\\partial}{\\partial \\phi} \\widetilde{zM_{s\\phi}}^0{\\left(s,\\phi \\right)}}{s H{\\left(s \\right)}} + \\frac{\\widetilde{zM_{s\\phi}}^0{\\left(s,\\phi \\right)} \\frac{d}{d s} H{\\left(s \\right)} \\frac{\\partial}{\\partial \\phi} \\psi{\\left(s,\\phi,t \\right)}}{s H^{2}{\\left(s \\right)}} + \\frac{\\widetilde{zM_{\\phi\\phi}}^0{\\left(s,\\phi \\right)} \\frac{\\partial^{2}}{\\partial \\phi^{2}} \\psi{\\left(s,\\phi,t \\right)}}{s^{2} H{\\left(s \\right)}}$"
      ],
      "text/plain": [
       "Eq(Derivative(\\widetilde{zm_{s\\phi}}(s, \\phi, t), t), -U_s^0(s, \\phi, z)*Derivative(\\widetilde{zm_{s\\phi}}(s, \\phi, t), s) + \\widetilde{zm_{s\\phi}}(s, \\phi, t)*Derivative(U_z^0(s, \\phi, z), z) + \\widetilde{zm_{ss}}(s, \\phi, t)*Derivative(U_\\phi^0(s, \\phi, z), s) - \\widetilde{zM_{ss}}^0(s, \\phi)*Derivative(\\psi(s, \\phi, t), (s, 2))/H(s) + \\widetilde{zM_{ss}}^0(s, \\phi)*Derivative(H(s), s)*Derivative(\\psi(s, \\phi, t), s)/H(s)**2 - U_\\phi^0(s, \\phi, z)*\\widetilde{zm_{ss}}(s, \\phi, t)/s - U_\\phi^0(s, \\phi, z)*Derivative(\\widetilde{zm_{s\\phi}}(s, \\phi, t), \\phi)/s + \\widetilde{zm_{\\phi\\phi}}(s, \\phi, t)*Derivative(U_s^0(s, \\phi, z), \\phi)/s + \\widetilde{zM_{ss}}^0(s, \\phi)*Derivative(\\psi(s, \\phi, t), s)/(s*H(s)) - Derivative(\\psi(s, \\phi, t), \\phi)*Derivative(\\widetilde{zM_{s\\phi}}^0(s, \\phi), s)/(s*H(s)) + Derivative(\\psi(s, \\phi, t), s)*Derivative(\\widetilde{zM_{s\\phi}}^0(s, \\phi), \\phi)/(s*H(s)) + \\widetilde{zM_{s\\phi}}^0(s, \\phi)*Derivative(H(s), s)*Derivative(\\psi(s, \\phi, t), \\phi)/(s*H(s)**2) + \\widetilde{zM_{\\phi\\phi}}^0(s, \\phi)*Derivative(\\psi(s, \\phi, t), (\\phi, 2))/(s**2*H(s)))"
      ]
     },
     "execution_count": 23,
     "metadata": {},
     "output_type": "execute_result"
    }
   ],
   "source": [
    "eqs.eqs_pg_lin.zMsp"
   ]
  },
  {
   "cell_type": "markdown",
   "id": "f30846f4-bd6b-43e6-bcb7-32cbc32fc577",
   "metadata": {},
   "source": [
    "- The vorticity equation has been validated against Daria's notebook `quad_malkus_reg_diff.nb`, and has passed the test.\n",
    "- Induction terms of $\\overline{m_{ss}}$, $\\overline{m_{\\phi\\phi}}$, $\\overline{m_{s\\phi}}$, $\\widetilde{m_{sz}}$, $\\widetilde{m_{\\phi z}}$, $\\widetilde{zm_{ss}}$, $z\\widetilde{m_{\\phi\\phi}}$, $z\\widetilde{m_{s\\phi}}$, as well as $b_{es}$ and $b_{e\\phi}$ (i.e. the linearized induction term), have been validated against `quad_malkus_reg_diff.nb` and have passed the test."
   ]
  },
  {
   "cell_type": "code",
   "execution_count": 24,
   "id": "34379e1a-c160-4722-986e-26a6a826a473",
   "metadata": {},
   "outputs": [
    {
     "data": {
      "text/latex": [
       "$\\displaystyle \\frac{\\partial}{\\partial t} b^{+}_{s}{\\left(s,\\phi,t \\right)} = - \\frac{z \\frac{\\partial}{\\partial z} B^{0}_{s}{\\left(s,\\phi,z \\right)} \\frac{d}{d s} H{\\left(s \\right)} \\frac{\\partial}{\\partial \\phi} \\psi{\\left(s,\\phi,t \\right)}}{s H^{2}{\\left(s \\right)}} + \\frac{B_s^{0+}{\\left(s,\\phi \\right)} \\frac{\\partial^{2}}{\\partial s\\partial \\phi} \\psi{\\left(s,\\phi,t \\right)}}{s H{\\left(s \\right)}} - \\frac{B_s^{0+}{\\left(s,\\phi \\right)} \\frac{d}{d s} H{\\left(s \\right)} \\frac{\\partial}{\\partial \\phi} \\psi{\\left(s,\\phi,t \\right)}}{s H^{2}{\\left(s \\right)}} + \\frac{\\frac{\\partial}{\\partial \\phi} B^{0}_{s}{\\left(s,\\phi,z \\right)} \\frac{\\partial}{\\partial s} \\psi{\\left(s,\\phi,t \\right)}}{s H{\\left(s \\right)}} - \\frac{\\frac{\\partial}{\\partial s} B^{0}_{s}{\\left(s,\\phi,z \\right)} \\frac{\\partial}{\\partial \\phi} \\psi{\\left(s,\\phi,t \\right)}}{s H{\\left(s \\right)}} + \\frac{B_\\phi^{0+}{\\left(s,\\phi \\right)} \\frac{\\partial^{2}}{\\partial \\phi^{2}} \\psi{\\left(s,\\phi,t \\right)}}{s^{2} H{\\left(s \\right)}} - \\frac{B_s^{0+}{\\left(s,\\phi \\right)} \\frac{\\partial}{\\partial \\phi} \\psi{\\left(s,\\phi,t \\right)}}{s^{2} H{\\left(s \\right)}}$"
      ],
      "text/plain": [
       "Eq(Derivative(b_s^+(s, \\phi, t), t), -z*Derivative(B_s^0(s, \\phi, z), z)*Derivative(H(s), s)*Derivative(\\psi(s, \\phi, t), \\phi)/(s*H(s)**2) + B_s^{0+}(s, \\phi)*Derivative(\\psi(s, \\phi, t), \\phi, s)/(s*H(s)) - B_s^{0+}(s, \\phi)*Derivative(H(s), s)*Derivative(\\psi(s, \\phi, t), \\phi)/(s*H(s)**2) + Derivative(B_s^0(s, \\phi, z), \\phi)*Derivative(\\psi(s, \\phi, t), s)/(s*H(s)) - Derivative(B_s^0(s, \\phi, z), s)*Derivative(\\psi(s, \\phi, t), \\phi)/(s*H(s)) + B_\\phi^{0+}(s, \\phi)*Derivative(\\psi(s, \\phi, t), (\\phi, 2))/(s**2*H(s)) - B_s^{0+}(s, \\phi)*Derivative(\\psi(s, \\phi, t), \\phi)/(s**2*H(s)))"
      ]
     },
     "execution_count": 24,
     "metadata": {},
     "output_type": "execute_result"
    }
   ],
   "source": [
    "eqs.eqs_pg_lin.Bs_p.subs({core.U0_vec.s: 0, core.U0_vec.p: 0, core.U0_vec.z: 0}).doit()"
   ]
  },
  {
   "cell_type": "markdown",
   "id": "2d054c86-20a6-4284-97e3-0a73f9f54487",
   "metadata": {},
   "source": [
    "- Induction terms of $b_s^\\pm$, $b_\\phi^\\pm$, $b_z^\\pm$ has been validated against the expressions in the document [PG_Assim.pdf](./doc/PG_Assim.pdf), which are derived by hand. The validation is successful.\n",
    "- The validation is performed under zero background velocity.\n",
    "\n",
    "We note that in the vorticity equation, the placeholders for the forces are used:"
   ]
  },
  {
   "cell_type": "code",
   "execution_count": 25,
   "id": "fe782564-a673-4494-ad4b-012b2fe06061",
   "metadata": {},
   "outputs": [
    {
     "data": {
      "text/latex": [
       "$\\displaystyle \\frac{s \\frac{\\partial^{3}}{\\partial t\\partial s^{2}} \\psi{\\left(s,\\phi,t \\right)}}{H{\\left(s \\right)}} - \\frac{s \\frac{d}{d s} H{\\left(s \\right)} \\frac{\\partial^{2}}{\\partial t\\partial s} \\psi{\\left(s,\\phi,t \\right)}}{H^{2}{\\left(s \\right)}} + \\frac{\\frac{\\partial^{2}}{\\partial t\\partial s} \\psi{\\left(s,\\phi,t \\right)}}{H{\\left(s \\right)}} - \\frac{\\frac{d}{d s} H{\\left(s \\right)} \\frac{\\partial^{3}}{\\partial t\\partial \\phi^{2}} \\psi{\\left(s,\\phi,t \\right)}}{2 H^{2}{\\left(s \\right)}} + \\frac{\\frac{\\partial^{3}}{\\partial t\\partial \\phi^{2}} \\psi{\\left(s,\\phi,t \\right)}}{s H{\\left(s \\right)}} = \\frac{s f_{\\phi}^e{\\left(s,\\phi,t \\right)} \\frac{d}{d s} H{\\left(s \\right)}}{H{\\left(s \\right)}} - \\frac{s \\frac{\\partial}{\\partial s} \\overline{f_\\phi}{\\left(s,\\phi,t \\right)}}{2 H{\\left(s \\right)}} - \\frac{\\overline{f_\\phi}{\\left(s,\\phi,t \\right)}}{2 H{\\left(s \\right)}} + \\frac{\\frac{d}{d s} H{\\left(s \\right)} \\frac{\\partial}{\\partial \\phi} \\widetilde{f_z}{\\left(s,\\phi,t \\right)}}{2 H{\\left(s \\right)}} + \\frac{\\frac{\\partial}{\\partial \\phi} \\overline{f_s}{\\left(s,\\phi,t \\right)}}{2 H{\\left(s \\right)}} - \\frac{2 \\frac{d}{d s} H{\\left(s \\right)} \\frac{\\partial}{\\partial \\phi} \\psi{\\left(s,\\phi,t \\right)}}{H^{2}{\\left(s \\right)}}$"
      ],
      "text/plain": [
       "Eq(s*Derivative(\\psi(s, \\phi, t), (s, 2), t)/H(s) - s*Derivative(H(s), s)*Derivative(\\psi(s, \\phi, t), s, t)/H(s)**2 + Derivative(\\psi(s, \\phi, t), s, t)/H(s) - Derivative(H(s), s)*Derivative(\\psi(s, \\phi, t), (\\phi, 2), t)/(2*H(s)**2) + Derivative(\\psi(s, \\phi, t), (\\phi, 2), t)/(s*H(s)), s*f_{\\phi}^e(s, \\phi, t)*Derivative(H(s), s)/H(s) - s*Derivative(\\overline{f_\\phi}(s, \\phi, t), s)/(2*H(s)) - \\overline{f_\\phi}(s, \\phi, t)/(2*H(s)) + Derivative(H(s), s)*Derivative(\\widetilde{f_z}(s, \\phi, t), \\phi)/(2*H(s)) + Derivative(\\overline{f_s}(s, \\phi, t), \\phi)/(2*H(s)) - 2*Derivative(H(s), s)*Derivative(\\psi(s, \\phi, t), \\phi)/H(s)**2)"
      ]
     },
     "execution_count": 25,
     "metadata": {},
     "output_type": "execute_result"
    }
   ],
   "source": [
    "eqs.eqs_pg_lin.Psi"
   ]
  },
  {
   "cell_type": "markdown",
   "id": "4d46c7bd-9d6d-4d8a-9a2c-e3ea1c7b500f",
   "metadata": {},
   "source": [
    "where $\\overline{f_s}$, $\\overline{f_\\phi}$, $\\widetilde{f_z}$ and $f_{e\\phi}$ are the vertically evenly integrated $s$-component, $\\phi$-component, vertically oddly integrated $z$-component and the equatorial $\\phi$-component of arbitrary body force $\\mathbf{f}$, respectively.\n",
    "\n",
    "This allows some flexibility regarding which forces are included in the system. Currently, only the forms of the Lorentz force are compiled in the package, but adding viscous diffusion as well as buoyancy force will be straightforward."
   ]
  },
  {
   "cell_type": "markdown",
   "id": "bdc12ed5-bbb7-4301-9f77-149d15a45da7",
   "metadata": {},
   "source": [
    "### Precomputed equations\n",
    "\n",
    "As you probably have noticed, loading the equations from the `pg_utils.pg_model.equations` module is **slooowwww**!\n",
    "\n",
    "Loading the equations now may take 20-30s (tested on my laptop, AMD R5-4500U).\n",
    "\n",
    "The reason is that it takes a while to compile the equations, as they are not all written out in explicit forms in the code.\n",
    "In linearization especially, the program needs to simplify the expressions to a form where the perturbation $\\epsilon$ is taken out of all brackets.\n",
    "Another problem is that so far, compilation and derivation of equations is done sequentially, not in parallel.\n",
    "\n",
    "While the compilation of equations is not expected to be the bottleneck of the program in the end, it would still be desirable if it can be loaded faster.\n",
    "A method is to compute the equations and store them in a string that can be quickly loaded.\n",
    "This has already been done and the outputs have been saved under `out/symbolic/`.\n",
    "One can use the following code to load a set of equations:"
   ]
  },
  {
   "cell_type": "code",
   "execution_count": 26,
   "id": "22642516-f20b-4294-a3f6-be35f1cc8a34",
   "metadata": {},
   "outputs": [],
   "source": [
    "from pg_utils.pg_model import base\n",
    "\n",
    "with open(os.path.join(root_dir, \"out/symbolic/eqs_pg.json\"), 'r') as fread:\n",
    "    pgeqs = base.CollectionPG.load_json(fread, parser=parse_expr)"
   ]
  },
  {
   "cell_type": "markdown",
   "id": "cbfdf17a-f075-425f-bb5c-4a81bf435ce2",
   "metadata": {},
   "source": [
    "which cuts back the cost of loading from 20s to 2s. The following four sets are given in the folder:\n",
    "- `eqs_pg.json`: original PG equations\n",
    "- `eqs_pg_lin.json`: linearized PG equations\n",
    "- `eqs_cg.json`: conjugate variable equations\n",
    "- `eqs_cg_lin.json`: linearized conjugate variable equations\n",
    "\n",
    "This is now the recommended way to load equations. However, it also means that if the equations in `pg_utils.pg_model.equations` are changed, they would need to be re-compiled and re-saved."
   ]
  },
  {
   "cell_type": "markdown",
   "id": "86fe7c10-0d7a-4117-bd59-1cf2b8e10a57",
   "metadata": {},
   "source": [
    "### Forcing and linearization\n",
    "\n",
    "As mentioned, the forcing in the vorticity equation is only given by placeholder functions. It remains to be defined what forces are involved in the system. This is the task for the `forcing.py` module.\n",
    "\n",
    "Currently, only the forms of the Lorentz force are compiled in the package. The explicit forms for Lorentz force are stored in `forcing.Ls_sym_expr`, `forcing.Lp_sym_expr`, `forcing.Lz_asym_expr` and `forcing.Le_p_expr`."
   ]
  },
  {
   "cell_type": "code",
   "execution_count": 27,
   "id": "a358e2e0-15cd-4f74-813c-b948eabed674",
   "metadata": {},
   "outputs": [
    {
     "data": {
      "text/latex": [
       "$\\displaystyle L_{\\phi}^e{\\left(s,\\phi,t \\right)} = B_{\\phi, z}^e{\\left(s,\\phi,t \\right)} B_{z}^e{\\left(s,\\phi,t \\right)} + B_{s}^e{\\left(s,\\phi,t \\right)} \\frac{\\partial}{\\partial s} B_{\\phi}^e{\\left(s,\\phi,t \\right)} + \\frac{B_{\\phi}^e{\\left(s,\\phi,t \\right)} B_{s}^e{\\left(s,\\phi,t \\right)}}{s} + \\frac{B_{\\phi}^e{\\left(s,\\phi,t \\right)} \\frac{\\partial}{\\partial \\phi} B_{\\phi}^e{\\left(s,\\phi,t \\right)}}{s}$"
      ],
      "text/plain": [
       "Eq(L_{\\phi}^e(s, \\phi, t), B_{\\phi, z}^e(s, \\phi, t)*B_{z}^e(s, \\phi, t) + B_{s}^e(s, \\phi, t)*Derivative(B_{\\phi}^e(s, \\phi, t), s) + B_{\\phi}^e(s, \\phi, t)*B_{s}^e(s, \\phi, t)/s + B_{\\phi}^e(s, \\phi, t)*Derivative(B_{\\phi}^e(s, \\phi, t), \\phi)/s)"
      ]
     },
     "execution_count": 27,
     "metadata": {},
     "output_type": "execute_result"
    }
   ],
   "source": [
    "from pg_utils.pg_model import forcing\n",
    "\n",
    "Eq(forcing.Le_p, forcing.Le_p_expr)"
   ]
  },
  {
   "cell_type": "markdown",
   "id": "d37c6d65-23fa-4a33-ad54-8b5873ba886e",
   "metadata": {},
   "source": [
    "The linearization of the forces are the same as linearization of equations and is done automatically. The linearized forcing terms are stored in `forcing.Ls_sym_lin`, `forcing.Lp_sym_lin`, `forcing.Lz_asym_lin` and `forcing.Le_p_lin` expressions."
   ]
  },
  {
   "cell_type": "code",
   "execution_count": null,
   "id": "7e28316d-f5a1-4694-91f1-91a47c5dbe71",
   "metadata": {},
   "outputs": [
    {
     "data": {
      "text/latex": [
       "$\\displaystyle \\overline{L_s}{\\left(s,\\phi,t \\right)} = \\frac{2 s B_s^{0+}{\\left(s,\\phi \\right)} b^{+}_{s}{\\left(s,\\phi,t \\right)}}{H{\\left(s \\right)}} + \\frac{2 s B_s^{0-}{\\left(s,\\phi \\right)} b^{-}_{s}{\\left(s,\\phi,t \\right)}}{H{\\left(s \\right)}} + B_s^{0+}{\\left(s,\\phi \\right)} b^{+}_{z}{\\left(s,\\phi,t \\right)} - B_s^{0-}{\\left(s,\\phi \\right)} b^{-}_{z}{\\left(s,\\phi,t \\right)} + B_z^{0+}{\\left(s,\\phi \\right)} b^{+}_{s}{\\left(s,\\phi,t \\right)} - B_z^{0-}{\\left(s,\\phi \\right)} b^{-}_{s}{\\left(s,\\phi,t \\right)} + \\frac{\\partial}{\\partial s} \\overline{m_{ss}}{\\left(s,\\phi,t \\right)} - \\frac{\\overline{m_{\\phi\\phi}}{\\left(s,\\phi,t \\right)}}{s} + \\frac{\\overline{m_{ss}}{\\left(s,\\phi,t \\right)}}{s} + \\frac{\\frac{\\partial}{\\partial \\phi} \\overline{m_{s\\phi}}{\\left(s,\\phi,t \\right)}}{s}$"
      ],
      "text/plain": [
       "Eq(\\overline{L_s}(s, \\phi, t), 2*s*B_s^{0+}(s, \\phi)*b_s^+(s, \\phi, t)/H(s) + 2*s*B_s^{0-}(s, \\phi)*b_s^-(s, \\phi, t)/H(s) + B_s^{0+}(s, \\phi)*b_z^+(s, \\phi, t) - B_s^{0-}(s, \\phi)*b_z^-(s, \\phi, t) + B_z^{0+}(s, \\phi)*b_s^+(s, \\phi, t) - B_z^{0-}(s, \\phi)*b_s^-(s, \\phi, t) + Derivative(\\overline{m_{ss}}(s, \\phi, t), s) - \\overline{m_{\\phi\\phi}}(s, \\phi, t)/s + \\overline{m_{ss}}(s, \\phi, t)/s + Derivative(\\overline{m_{s\\phi}}(s, \\phi, t), \\phi)/s)"
      ]
     },
     "execution_count": 28,
     "metadata": {},
     "output_type": "execute_result"
    }
   ],
   "source": [
    "Eq(forcing.Ls_sym, forcing.Ls_sym_lin)"
   ]
  },
  {
   "cell_type": "markdown",
   "id": "911f167c-13d3-44e9-b430-7a8ad450cf60",
   "metadata": {},
   "source": [
    "Linearized expressions for Lorentz force are validated against Daria's notebook `quad_malkus_reg_diff.nb`.\n",
    "- $\\overline{L_\\phi}$, $\\widetilde{L_z}$ and $L_\\phi(z=0)$ passed the validation;\n",
    "- The $s$-component of the equatorial Lorentz force in `quad_malkus_reg_diff` has a $\\frac{s^2}{H}$ coefficient, while the current derivation (and others) indicate this coefficient should be $\\frac{s}{H}$\n",
    "\n",
    "For a more detailed explanation on the ingredients, see [Variables, equations and forcing](Demo_Variables.ipynb)."
   ]
  },
  {
   "cell_type": "markdown",
   "id": "174caa1f-e127-4fc8-8ed2-e37787a4e67f",
   "metadata": {},
   "source": [
    "## To be continued\n",
    "\n",
    "Here are more demos to learn about PlesioGeostroPy:\n",
    "- [The collection interface](Demo_Collections.ipynb)\n",
    "- [The variables, equations and forcing](Demo_Variables.ipynb)\n",
    "- [Regularity conditions of tensor components in polar coordinates](Demo_Regularity.ipynb)"
   ]
  },
  {
   "cell_type": "code",
   "execution_count": null,
   "id": "490bcacd-fa43-4031-9136-8a2bb313af98",
   "metadata": {},
   "outputs": [],
   "source": []
  }
 ],
 "metadata": {
  "kernelspec": {
   "display_name": "Python3 (geomag)",
   "language": "python",
   "name": "geomag"
  },
  "language_info": {
   "codemirror_mode": {
    "name": "ipython",
    "version": 3
   },
   "file_extension": ".py",
   "mimetype": "text/x-python",
   "name": "python",
   "nbconvert_exporter": "python",
   "pygments_lexer": "ipython3",
   "version": "3.8.13"
  }
 },
 "nbformat": 4,
 "nbformat_minor": 5
}
