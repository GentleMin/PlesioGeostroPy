{
 "cells": [
  {
   "cell_type": "markdown",
   "id": "65bab4b4-0304-4917-8671-b35eac19af90",
   "metadata": {},
   "source": [
    "# Eigenvalue problem of Cauchy-Euler equation"
   ]
  },
  {
   "cell_type": "code",
   "execution_count": 1,
   "id": "9f4ad6f2-c5fa-4f5e-9d43-e34d583689f7",
   "metadata": {},
   "outputs": [],
   "source": [
    "import sympy as sym\n",
    "import numpy as np\n",
    "from scipy import special as specfun\n",
    "\n",
    "import matplotlib.pyplot as plt\n",
    "# %matplotlib notebook"
   ]
  },
  {
   "cell_type": "markdown",
   "id": "0cd7f6d3-7137-4f90-9101-316471b9f82c",
   "metadata": {},
   "source": [
    "---\n",
    "## Problem setup\n",
    "\n",
    "Setup operators. The eigenvalue problem is:"
   ]
  },
  {
   "cell_type": "code",
   "execution_count": 3,
   "id": "45ad0b68-1737-4e30-bc4a-082be7fb1963",
   "metadata": {},
   "outputs": [
    {
     "data": {
      "text/latex": [
       "$\\displaystyle \\lambda y{\\left(x \\right)} = - l \\left(l + 1\\right) y{\\left(x \\right)} + x^{2} \\frac{d^{2}}{d x^{2}} y{\\left(x \\right)} + 2 x \\frac{d}{d x} y{\\left(x \\right)}$"
      ],
      "text/plain": [
       "Eq(\\lambda*y(x), -l*(l + 1)*y(x) + x**2*Derivative(y(x), (x, 2)) + 2*x*Derivative(y(x), x))"
      ]
     },
     "execution_count": 3,
     "metadata": {},
     "output_type": "execute_result"
    }
   ],
   "source": [
    "x = sym.Symbol(\"x\")\n",
    "ev = sym.Symbol(r\"\\lambda\")\n",
    "l_deg = sym.Symbol('l', integer=True)\n",
    "r_deg = sym.Symbol('n', integer=True)\n",
    "y = sym.Function(\"y\")(x)\n",
    "\n",
    "def Op_Cauchy_Euler(f, l):\n",
    "    return sym.diff(x**2*sym.diff(f, x), x) - l*(l + 1)*f\n",
    "\n",
    "op_expr = Op_Cauchy_Euler(y, l_deg)\n",
    "# op_expr = sym.diff(y, (x, 2))\n",
    "sym.Eq(ev*y, op_expr)"
   ]
  },
  {
   "cell_type": "markdown",
   "id": "e3ff4c7e-775e-46e1-be21-88ec50e711e8",
   "metadata": {},
   "source": [
    "Setup spectral basis and test functions"
   ]
  },
  {
   "cell_type": "code",
   "execution_count": 4,
   "id": "19afaaa3-6c3d-4462-8cec-bf2965d6977c",
   "metadata": {},
   "outputs": [],
   "source": [
    "# def JonesWorland(n, l):\n",
    "#     return x**l*sym.jacobi(n, -sym.S.Half, l - sym.S.Half, 2*x**2 - 1)\n",
    "# y_spec = JonesWorland(r_deg, l_deg)\n",
    "# op_expr_spec = op_expr.subs({y: y_jw})\n",
    "\n",
    "y_spec = sym.chebyshevt(r_deg, 2*x - 1)\n",
    "op_expr_spec = op_expr.subs({y: y_spec})"
   ]
  },
  {
   "cell_type": "markdown",
   "id": "888bf94a-0033-4ebf-9f4d-e724cd5537cc",
   "metadata": {},
   "source": [
    "---\n",
    "## Matrix assembly"
   ]
  },
  {
   "cell_type": "markdown",
   "id": "ce9da556-bea8-48f4-ad2e-f631b7390091",
   "metadata": {},
   "source": [
    "Matrix construction utilities"
   ]
  },
  {
   "cell_type": "code",
   "execution_count": 6,
   "id": "0187cc0d-bab1-4fd5-9830-57ad9c264893",
   "metadata": {},
   "outputs": [],
   "source": [
    "def compute_matrices(test_f, spec_expr, quad_pts, quad_wts, N):\n",
    "    N_mesh, quad_mesh = np.meshgrid(np.arange(N), quad_pts, indexing='ij')\n",
    "    eval_test_f = sym.lambdify([r_deg, x], test_f, modules=[\"numpy\", \"scipy\"])\n",
    "    mat_test_f = eval_test_f(N_mesh, quad_mesh)\n",
    "    eval_spec_expr = sym.lambdify([r_deg, x], spec_expr, modules=[\"numpy\", \"scipy\"])\n",
    "    mat_spec_expr = eval_spec_expr(N_mesh, quad_mesh)\n",
    "    return (mat_test_f*quad_wts) @ mat_spec_expr.T\n",
    "\n",
    "def tau_line_zero(spec_basis, N):\n",
    "    eval_basis = sym.lambdify([r_deg, x], spec_basis, modules=[\"numpy\", \"scipy\"])\n",
    "    return eval_basis(np.arange(N), 0.)\n",
    "\n",
    "def tau_line_toroidal_void_bc(spec_basis, N):\n",
    "    eval_basis = sym.lambdify([r_deg, x], spec_basis, modules=[\"numpy\", \"scipy\"])\n",
    "    return eval_basis(np.arange(N), 1)\n",
    "\n",
    "def tau_line_poloidal_void_bc(spec_basis, N, l):\n",
    "    bc_expr = sym.diff(spec_basis, x) + (l + 1)/x*spec_basis\n",
    "    eval_basis = sym.lambdify([r_deg, x], bc_expr, modules=[\"numpy\", \"scipy\"])\n",
    "    return eval_basis(np.arange(N), 1)"
   ]
  },
  {
   "cell_type": "markdown",
   "id": "c99c25e9-878a-44bb-8f7e-7eb3485445b5",
   "metadata": {},
   "source": [
    "Calculate the matrices"
   ]
  },
  {
   "cell_type": "code",
   "execution_count": 26,
   "id": "243de67d-e0ff-43c1-8716-2ef94a8ebbbe",
   "metadata": {},
   "outputs": [],
   "source": [
    "l_val = sym.Integer(2)\n",
    "Ntrunc = 150\n",
    "xi_quad, w_quad = specfun.roots_chebyt(4*Ntrunc + 1)\n",
    "x_quad = (1 + xi_quad)/2\n",
    "\n",
    "K_mat = compute_matrices(y_spec, op_expr_spec.subs({l_deg: l_val}).doit(), x_quad, w_quad, Ntrunc)\n",
    "M_mat = compute_matrices(y_spec, y_spec, x_quad, w_quad, Ntrunc)\n",
    "M_mat[-1, :] = tau_line_poloidal_void_bc(y_spec, Ntrunc, l_val)\n",
    "K_mat[-1, :] = 0.\n",
    "# M_mat[-1, :] = tau_line_toroidal_void_bc(y_spec, Ntrunc)\n",
    "# K_mat[-1, :] = 0.\n",
    "# M_mat[-2, :] = tau_line_zero(y_spec, Ntrunc)\n",
    "# K_mat[-2, :] = 0."
   ]
  },
  {
   "cell_type": "code",
   "execution_count": 27,
   "id": "08750a81-a575-44cf-918c-c28800812240",
   "metadata": {},
   "outputs": [
    {
     "data": {
      "image/png": "[encoded data removed]",
      "text/plain": [
       "<Figure size 864x432 with 2 Axes>"
      ]
     },
     "metadata": {
      "needs_background": "light"
     },
     "output_type": "display_data"
    }
   ],
   "source": [
    "fig, axes = plt.subplots(nrows=1, ncols=2, figsize=(12, 6))\n",
    "\n",
    "ax = axes[0]\n",
    "ax.spy(M_mat, precision=1e-7)\n",
    "ax = axes[1]\n",
    "ax.spy(K_mat, precision=1e-7)\n",
    "\n",
    "plt.show()\n",
    "# plt.ion()"
   ]
  },
  {
   "cell_type": "markdown",
   "id": "858b076d-aae2-4a8a-9aa7-06dd211e0d5c",
   "metadata": {},
   "source": [
    "---\n",
    "## Eigenproblem solution"
   ]
  },
  {
   "cell_type": "markdown",
   "id": "7e1db967-0a9a-4124-a336-5b3b37b0b9fb",
   "metadata": {},
   "source": [
    "Compute eigenvalues"
   ]
  },
  {
   "cell_type": "code",
   "execution_count": 28,
   "id": "df369a02-f161-44af-ab22-010d6e8f3f1c",
   "metadata": {},
   "outputs": [],
   "source": [
    "from scipy import linalg\n",
    "\n",
    "W, V = linalg.eig(K_mat, b=M_mat)\n",
    "sort_idx = np.argsort(np.abs(W))\n",
    "W = W[sort_idx]\n",
    "V = V[:, sort_idx]"
   ]
  },
  {
   "cell_type": "code",
   "execution_count": 29,
   "id": "762f9df4-e8bf-466b-9360-db36c7c6e850",
   "metadata": {},
   "outputs": [
    {
     "data": {
      "text/plain": [
       "array([-1.11444506e-10+0.j, -6.26483061e+00+0.j, -6.39003773e+00+0.j,\n",
       "       -6.66724288e+00+0.j, -7.12858629e+00+0.j, -7.80595530e+00+0.j,\n",
       "       -8.72830571e+00+0.j, -9.92767201e+00+0.j, -1.14318947e+01+0.j,\n",
       "       -1.32748181e+01+0.j, -1.54833419e+01+0.j, -1.80933809e+01+0.j,\n",
       "       -2.11309103e+01+0.j, -2.46341879e+01+0.j, -2.86285146e+01+0.j,\n",
       "       -3.31548624e+01+0.j, -3.82381954e+01+0.j, -4.39225822e+01+0.j,\n",
       "       -5.02329748e+01+0.j, -5.72169041e+01+0.j, -6.48996006e+01+0.j,\n",
       "       -7.33324121e+01+0.j, -8.25411127e+01+0.j, -9.25812252e+01+0.j,\n",
       "       -1.03479320e+02+0.j, -1.15295469e+02+0.j, -1.28057291e+02+0.j,\n",
       "       -1.41829807e+02+0.j, -1.56641946e+02+0.j, -1.72564112e+02+0.j,\n",
       "       -1.89626823e+02+0.j, -2.07906341e+02+0.j, -2.27435078e+02+0.j,\n",
       "       -2.48295678e+02+0.j, -2.70522782e+02+0.j, -2.94205998e+02+0.j,\n",
       "       -3.19382569e+02+0.j, -3.46149715e+02+0.j, -3.74547702e+02+0.j,\n",
       "       -4.04682086e+02+0.j, -4.36596626e+02+0.j, -4.70406029e+02+0.j,\n",
       "       -5.06158086e+02+0.j, -5.43977563e+02+0.j, -5.83916900e+02+0.j,\n",
       "       -6.26111950e+02+0.j, -6.70620501e+02+0.j, -7.17590658e+02+0.j,\n",
       "       -7.67086361e+02+0.j, -8.19269284e+02+0.j, -8.74210446e+02+0.j,\n",
       "       -9.32086591e+02+0.j, -9.92976884e+02+0.j, -1.05707485e+03+0.j,\n",
       "       -1.12446903e+03+0.j, -1.19537169e+03+0.j, -1.26988220e+03+0.j,\n",
       "       -1.34823379e+03+0.j, -1.43053832e+03+0.j, -1.51705261e+03+0.j,\n",
       "       -1.60790294e+03+0.j, -1.70337270e+03+0.j, -1.80360487e+03+0.j,\n",
       "       -1.90891288e+03+0.j, -2.01945912e+03+0.j, -2.13559107e+03+0.j,\n",
       "       -2.25749370e+03+0.j, -2.38555325e+03+0.j, -2.51998100e+03+0.j,\n",
       "       -2.66120749e+03+0.j, -2.80947476e+03+0.j, -2.96526416e+03+0.j,\n",
       "       -3.12885378e+03+0.j, -3.30078349e+03+0.j, -3.48137377e+03+0.j,\n",
       "       -3.67123213e+03+0.j, -3.87072910e+03+0.j, -4.08055077e+03+0.j,\n",
       "       -4.30112690e+03+0.j, -4.53323525e+03+0.j, -4.77737602e+03+0.j,\n",
       "       -5.03443444e+03+0.j, -5.30499480e+03+0.j, -5.59006895e+03+0.j,\n",
       "       -5.89034198e+03+0.j, -6.20697577e+03+0.j, -6.54077688e+03+0.j,\n",
       "       -6.89308583e+03+0.j, -7.26485632e+03+0.j, -7.65764296e+03+0.j,\n",
       "       -8.07257857e+03+0.j, -8.51147596e+03+0.j, -8.97568734e+03+0.j,\n",
       "       -9.46733892e+03+0.j, -9.98805339e+03+0.j, -1.05403401e+04+0.j,\n",
       "       -1.11261574e+04+0.j, -1.17484867e+04+0.j, -1.24097059e+04+0.j,\n",
       "       -1.31133827e+04+0.j, -1.38624240e+04+0.j, -1.46611316e+04+0.j,\n",
       "       -1.55130847e+04+0.j, -1.64235140e+04+0.j, -1.73968612e+04+0.j,\n",
       "       -1.84395432e+04+0.j, -1.95571197e+04+0.j, -2.07575401e+04+0.j,\n",
       "       -2.20478290e+04+0.j, -2.34379391e+04+0.j, -2.49368384e+04+0.j,\n",
       "       -2.65571326e+04+0.j, -2.83104025e+04+0.j, -3.02128184e+04+0.j,\n",
       "       -3.22795261e+04+0.j, -3.45315616e+04+0.j, -3.69890152e+04+0.j,\n",
       "       -3.96796830e+04+0.j, -4.26306397e+04+0.j, -4.58792599e+04+0.j,\n",
       "       -4.94626896e+04+0.j, -5.34321775e+04+0.j, -5.78397343e+04+0.j,\n",
       "       -6.27572150e+04+0.j, -6.82591588e+04+0.j, -7.44489145e+04+0.j,\n",
       "       -8.14362223e+04+0.j, -8.93741812e+04+0.j, -9.84295190e+04+0.j,\n",
       "       -1.08837014e+05+0.j, -1.20859586e+05+0.j, -1.34872377e+05+0.j,\n",
       "       -1.51308971e+05+0.j, -1.70799338e+05+0.j, -1.94098766e+05+0.j,\n",
       "       -2.22332115e+05+0.j, -2.56908459e+05+0.j, -2.99998747e+05+0.j,\n",
       "       -3.54474652e+05+0.j, -4.24975302e+05+0.j, -5.18087656e+05+0.j,\n",
       "       -6.45208769e+05+0.j, -8.24186049e+05+0.j, -1.08933061e+06+0.j,\n",
       "       -1.50292790e+06+0.j, -2.20812170e+06+0.j, -3.54083788e+06+0.j,\n",
       "       -6.61456976e+06+0.j, -1.61872058e+07+0.j, -9.34028566e+07+0.j])"
      ]
     },
     "execution_count": 29,
     "metadata": {},
     "output_type": "execute_result"
    }
   ],
   "source": [
    "W"
   ]
  },
  {
   "cell_type": "code",
   "execution_count": 19,
   "id": "386b5551-fc3c-441f-b00f-351eb6173a27",
   "metadata": {},
   "outputs": [
    {
     "data": {
      "image/png": "[encoded data removed]",
      "text/plain": [
       "<Figure size 720x360 with 1 Axes>"
      ]
     },
     "metadata": {
      "needs_background": "light"
     },
     "output_type": "display_data"
    }
   ],
   "source": [
    "mode_idx = 1\n",
    "x_view = x_quad\n",
    "\n",
    "y_func = sym.lambdify([x, r_deg], y_spec, modules=[\"numpy\", \"scipy\"])\n",
    "X_mesh, N_mesh = np.meshgrid(x_view, np.arange(Ntrunc), indexing='ij')\n",
    "y_view = np.sum(y_func(X_mesh, N_mesh)*V[:, mode_idx], axis=1)\n",
    "\n",
    "fig, ax = plt.subplots(figsize=(10, 5))\n",
    "ax.plot(x_view, y_view)\n",
    "ax.grid(which=\"both\")"
   ]
  },
  {
   "cell_type": "markdown",
   "id": "94b9d6bd-9542-4c00-8dda-7e6cb07bab29",
   "metadata": {},
   "source": [
    "Output"
   ]
  },
  {
   "cell_type": "code",
   "execution_count": 30,
   "id": "e5ccaba5-90db-46c4-a690-346a886abe48",
   "metadata": {},
   "outputs": [],
   "source": [
    "import h5py\n",
    "\n",
    "fname = \"../out/tmp/Cauchy-Euler_l2_poloidal_BC__N150.h5\"\n",
    "with h5py.File(fname, 'x') as fwrite:\n",
    "    fwrite.attrs[\"Basis\"] = \"Chebyshev\"\n",
    "    fwrite.create_dataset(\"W\", data=W)\n",
    "    fwrite.create_dataset(\"V\", data=V)"
   ]
  },
  {
   "cell_type": "markdown",
   "id": "398632a2-e42f-4e24-9adb-c0867e879cf5",
   "metadata": {},
   "source": [
    "Solution visualization"
   ]
  },
  {
   "cell_type": "code",
   "execution_count": 31,
   "id": "eefa4140-3b33-41d1-8836-f769c3d3ea86",
   "metadata": {},
   "outputs": [],
   "source": [
    "f_list = [\n",
    "    \"../out/tmp/Cauchy-Euler_l2_poloidal_BC__N50.h5\", \n",
    "    \"../out/tmp/Cauchy-Euler_l2_poloidal_BC__N100.h5\", \n",
    "    \"../out/tmp/Cauchy-Euler_l2_poloidal_BC__N150.h5\"\n",
    "]\n",
    "labels = [50, 100, 150]\n",
    "\n",
    "eval_list = list()\n",
    "evec_list = list()\n",
    "\n",
    "for fname in f_list:\n",
    "    with h5py.File(fname, 'r') as fread:\n",
    "        eval_list.append(fread[\"W\"][()])\n",
    "        evec_list.append(fread[\"V\"][()])"
   ]
  },
  {
   "cell_type": "code",
   "execution_count": 33,
   "id": "77d211fe-a108-4f96-ad03-b6cc24a7f048",
   "metadata": {},
   "outputs": [
    {
     "data": {
      "text/html": [
       "<div>\n",
       "<style scoped>\n",
       "    .dataframe tbody tr th:only-of-type {\n",
       "        vertical-align: middle;\n",
       "    }\n",
       "\n",
       "    .dataframe tbody tr th {\n",
       "        vertical-align: top;\n",
       "    }\n",
       "\n",
       "    .dataframe thead th {\n",
       "        text-align: right;\n",
       "    }\n",
       "</style>\n",
       "<table border=\"1\" class=\"dataframe\">\n",
       "  <thead>\n",
       "    <tr style=\"text-align: right;\">\n",
       "      <th></th>\n",
       "      <th>50</th>\n",
       "      <th>100</th>\n",
       "      <th>150</th>\n",
       "    </tr>\n",
       "  </thead>\n",
       "  <tbody>\n",
       "    <tr>\n",
       "      <th>0</th>\n",
       "      <td>5.582278e-13+0.000000e+00j</td>\n",
       "      <td>6.479411e-13+0.000000e+00j</td>\n",
       "      <td>-1.114445e-10+0.000000e+00j</td>\n",
       "    </tr>\n",
       "    <tr>\n",
       "      <th>1</th>\n",
       "      <td>-6.271764e+00+0.000000e+00j</td>\n",
       "      <td>-6.266928e+00+0.000000e+00j</td>\n",
       "      <td>-6.264831e+00+0.000000e+00j</td>\n",
       "    </tr>\n",
       "    <tr>\n",
       "      <th>2</th>\n",
       "      <td>-6.462003e+00+0.000000e+00j</td>\n",
       "      <td>-6.411311e+00+0.000000e+00j</td>\n",
       "      <td>-6.390038e+00+0.000000e+00j</td>\n",
       "    </tr>\n",
       "    <tr>\n",
       "      <th>3</th>\n",
       "      <td>-6.907999e+00+0.000000e+00j</td>\n",
       "      <td>-6.736444e+00+0.000000e+00j</td>\n",
       "      <td>-6.667243e+00+0.000000e+00j</td>\n",
       "    </tr>\n",
       "    <tr>\n",
       "      <th>4</th>\n",
       "      <td>-7.688030e+00+0.000000e+00j</td>\n",
       "      <td>-7.285600e+00+0.000000e+00j</td>\n",
       "      <td>-7.128586e+00+0.000000e+00j</td>\n",
       "    </tr>\n",
       "    <tr>\n",
       "      <th>5</th>\n",
       "      <td>-8.891743e+00+0.000000e+00j</td>\n",
       "      <td>-8.103409e+00+0.000000e+00j</td>\n",
       "      <td>-7.805955e+00+0.000000e+00j</td>\n",
       "    </tr>\n",
       "    <tr>\n",
       "      <th>6</th>\n",
       "      <td>-1.060429e+01+0.000000e+00j</td>\n",
       "      <td>-9.230819e+00+0.000000e+00j</td>\n",
       "      <td>-8.728306e+00+0.000000e+00j</td>\n",
       "    </tr>\n",
       "    <tr>\n",
       "      <th>7</th>\n",
       "      <td>-1.293907e+01+0.000000e+00j</td>\n",
       "      <td>-1.071582e+01+0.000000e+00j</td>\n",
       "      <td>-9.927672e+00+0.000000e+00j</td>\n",
       "    </tr>\n",
       "    <tr>\n",
       "      <th>8</th>\n",
       "      <td>-1.599349e+01+0.000000e+00j</td>\n",
       "      <td>-1.259952e+01+0.000000e+00j</td>\n",
       "      <td>-1.143189e+01+0.000000e+00j</td>\n",
       "    </tr>\n",
       "    <tr>\n",
       "      <th>9</th>\n",
       "      <td>-1.991228e+01+0.000000e+00j</td>\n",
       "      <td>-1.493539e+01+0.000000e+00j</td>\n",
       "      <td>-1.327482e+01+0.000000e+00j</td>\n",
       "    </tr>\n",
       "    <tr>\n",
       "      <th>10</th>\n",
       "      <td>-2.480806e+01+0.000000e+00j</td>\n",
       "      <td>-1.776468e+01+0.000000e+00j</td>\n",
       "      <td>-1.548334e+01+0.000000e+00j</td>\n",
       "    </tr>\n",
       "    <tr>\n",
       "      <th>11</th>\n",
       "      <td>-3.086475e+01+0.000000e+00j</td>\n",
       "      <td>-2.114692e+01+0.000000e+00j</td>\n",
       "      <td>-1.809338e+01+0.000000e+00j</td>\n",
       "    </tr>\n",
       "    <tr>\n",
       "      <th>12</th>\n",
       "      <td>-3.821674e+01+0.000000e+00j</td>\n",
       "      <td>-2.512371e+01+0.000000e+00j</td>\n",
       "      <td>-2.113091e+01+0.000000e+00j</td>\n",
       "    </tr>\n",
       "    <tr>\n",
       "      <th>13</th>\n",
       "      <td>-4.709898e+01+0.000000e+00j</td>\n",
       "      <td>-2.976143e+01+0.000000e+00j</td>\n",
       "      <td>-2.463419e+01+0.000000e+00j</td>\n",
       "    </tr>\n",
       "    <tr>\n",
       "      <th>14</th>\n",
       "      <td>-5.767832e+01+0.000000e+00j</td>\n",
       "      <td>-3.510269e+01+0.000000e+00j</td>\n",
       "      <td>-2.862851e+01+0.000000e+00j</td>\n",
       "    </tr>\n",
       "    <tr>\n",
       "      <th>15</th>\n",
       "      <td>-7.025763e+01+0.000000e+00j</td>\n",
       "      <td>-4.122185e+01+0.000000e+00j</td>\n",
       "      <td>-3.315486e+01+0.000000e+00j</td>\n",
       "    </tr>\n",
       "    <tr>\n",
       "      <th>16</th>\n",
       "      <td>-8.505183e+01+0.000000e+00j</td>\n",
       "      <td>-4.816337e+01+0.000000e+00j</td>\n",
       "      <td>-3.823820e+01+0.000000e+00j</td>\n",
       "    </tr>\n",
       "    <tr>\n",
       "      <th>17</th>\n",
       "      <td>-1.024558e+02+0.000000e+00j</td>\n",
       "      <td>-5.601074e+01+0.000000e+00j</td>\n",
       "      <td>-4.392258e+01+0.000000e+00j</td>\n",
       "    </tr>\n",
       "    <tr>\n",
       "      <th>18</th>\n",
       "      <td>-1.227553e+02+0.000000e+00j</td>\n",
       "      <td>-6.481124e+01+0.000000e+00j</td>\n",
       "      <td>-5.023297e+01+0.000000e+00j</td>\n",
       "    </tr>\n",
       "    <tr>\n",
       "      <th>19</th>\n",
       "      <td>-1.464727e+02+0.000000e+00j</td>\n",
       "      <td>-7.465880e+01+0.000000e+00j</td>\n",
       "      <td>-5.721690e+01+0.000000e+00j</td>\n",
       "    </tr>\n",
       "  </tbody>\n",
       "</table>\n",
       "</div>"
      ],
      "text/plain": [
       "                           50                          100  \\\n",
       "0   5.582278e-13+0.000000e+00j  6.479411e-13+0.000000e+00j   \n",
       "1  -6.271764e+00+0.000000e+00j -6.266928e+00+0.000000e+00j   \n",
       "2  -6.462003e+00+0.000000e+00j -6.411311e+00+0.000000e+00j   \n",
       "3  -6.907999e+00+0.000000e+00j -6.736444e+00+0.000000e+00j   \n",
       "4  -7.688030e+00+0.000000e+00j -7.285600e+00+0.000000e+00j   \n",
       "5  -8.891743e+00+0.000000e+00j -8.103409e+00+0.000000e+00j   \n",
       "6  -1.060429e+01+0.000000e+00j -9.230819e+00+0.000000e+00j   \n",
       "7  -1.293907e+01+0.000000e+00j -1.071582e+01+0.000000e+00j   \n",
       "8  -1.599349e+01+0.000000e+00j -1.259952e+01+0.000000e+00j   \n",
       "9  -1.991228e+01+0.000000e+00j -1.493539e+01+0.000000e+00j   \n",
       "10 -2.480806e+01+0.000000e+00j -1.776468e+01+0.000000e+00j   \n",
       "11 -3.086475e+01+0.000000e+00j -2.114692e+01+0.000000e+00j   \n",
       "12 -3.821674e+01+0.000000e+00j -2.512371e+01+0.000000e+00j   \n",
       "13 -4.709898e+01+0.000000e+00j -2.976143e+01+0.000000e+00j   \n",
       "14 -5.767832e+01+0.000000e+00j -3.510269e+01+0.000000e+00j   \n",
       "15 -7.025763e+01+0.000000e+00j -4.122185e+01+0.000000e+00j   \n",
       "16 -8.505183e+01+0.000000e+00j -4.816337e+01+0.000000e+00j   \n",
       "17 -1.024558e+02+0.000000e+00j -5.601074e+01+0.000000e+00j   \n",
       "18 -1.227553e+02+0.000000e+00j -6.481124e+01+0.000000e+00j   \n",
       "19 -1.464727e+02+0.000000e+00j -7.465880e+01+0.000000e+00j   \n",
       "\n",
       "                           150  \n",
       "0  -1.114445e-10+0.000000e+00j  \n",
       "1  -6.264831e+00+0.000000e+00j  \n",
       "2  -6.390038e+00+0.000000e+00j  \n",
       "3  -6.667243e+00+0.000000e+00j  \n",
       "4  -7.128586e+00+0.000000e+00j  \n",
       "5  -7.805955e+00+0.000000e+00j  \n",
       "6  -8.728306e+00+0.000000e+00j  \n",
       "7  -9.927672e+00+0.000000e+00j  \n",
       "8  -1.143189e+01+0.000000e+00j  \n",
       "9  -1.327482e+01+0.000000e+00j  \n",
       "10 -1.548334e+01+0.000000e+00j  \n",
       "11 -1.809338e+01+0.000000e+00j  \n",
       "12 -2.113091e+01+0.000000e+00j  \n",
       "13 -2.463419e+01+0.000000e+00j  \n",
       "14 -2.862851e+01+0.000000e+00j  \n",
       "15 -3.315486e+01+0.000000e+00j  \n",
       "16 -3.823820e+01+0.000000e+00j  \n",
       "17 -4.392258e+01+0.000000e+00j  \n",
       "18 -5.023297e+01+0.000000e+00j  \n",
       "19 -5.721690e+01+0.000000e+00j  "
      ]
     },
     "execution_count": 33,
     "metadata": {},
     "output_type": "execute_result"
    }
   ],
   "source": [
    "import pandas as pd\n",
    "\n",
    "N_keep = 20\n",
    "\n",
    "df = pd.DataFrame(data={labels[i]: eval_list[i][:N_keep] for i in range(len(labels))})\n",
    "df"
   ]
  },
  {
   "cell_type": "code",
   "execution_count": 37,
   "id": "f98a1a19-f108-4210-8105-d3dbc66f9527",
   "metadata": {},
   "outputs": [
    {
     "data": {
      "image/png": "[encoded data removed]",
      "text/plain": [
       "<Figure size 720x360 with 1 Axes>"
      ]
     },
     "metadata": {
      "needs_background": "light"
     },
     "output_type": "display_data"
    }
   ],
   "source": [
    "mode_idx = [1, 1, 1]\n",
    "x_view = x_quad\n",
    "fig, ax = plt.subplots(figsize=(10, 5))\n",
    "\n",
    "y_func = sym.lambdify([x, r_deg], y_spec, modules=[\"numpy\", \"scipy\"])\n",
    "\n",
    "for i in range(len(labels)):\n",
    "    v_tmp = evec_list[i][:, mode_idx[i]]\n",
    "    X_mesh, N_mesh = np.meshgrid(x_view, np.arange(v_tmp.size), indexing='ij')\n",
    "    y_view = np.sum(y_func(X_mesh, N_mesh)*v_tmp, axis=1)\n",
    "    if y_view[0] < 0:\n",
    "        y_view = -y_view\n",
    "    \n",
    "    ax.plot(x_view, y_view, label=labels[i])\n",
    "    \n",
    "ax.grid(which=\"both\")\n",
    "ax.legend()\n",
    "plt.show()"
   ]
  },
  {
   "cell_type": "code",
   "execution_count": null,
   "id": "9c5f2ad8-5746-4781-9976-f0faa12b2831",
   "metadata": {},
   "outputs": [],
   "source": []
  }
 ],
 "metadata": {
  "kernelspec": {
   "display_name": "Python3 (geomag)",
   "language": "python",
   "name": "geomag"
  },
  "language_info": {
   "codemirror_mode": {
    "name": "ipython",
    "version": 3
   },
   "file_extension": ".py",
   "mimetype": "text/x-python",
   "name": "python",
   "nbconvert_exporter": "python",
   "pygments_lexer": "ipython3",
   "version": "3.8.13"
  }
 },
 "nbformat": 4,
 "nbformat_minor": 5
}
