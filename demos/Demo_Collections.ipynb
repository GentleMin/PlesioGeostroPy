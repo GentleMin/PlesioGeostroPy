{
 "cells": [
  {
   "cell_type": "markdown",
   "id": "0ef96dc3-eda8-4814-8277-e19f8c6be6fb",
   "metadata": {},
   "source": [
    "# Intro to the collection interface"
   ]
  },
  {
   "cell_type": "markdown",
   "id": "93db69d9-29bf-4a9d-b139-cf327e41636f",
   "metadata": {},
   "source": [
    "The `base.LabeledCollection` interface is one of the fundamental structures in **PlesioGeostroPy**.\n",
    "It is a class designed for convenient manipulation (esp. symbolic manipulation) of a physically meaningful collection of variables / fields / equations.\n",
    "\n",
    "To understand why this is necessary, we just need to compare the PG model with the 3D counterpart, i.e. MHD equations.\n",
    "In the original MHD equations, the unknown fields are the vector velocity field $\\mathbf{U}$, vector magnetic field $\\mathbf{B}$, and perhaps scalar temperature field $\\Theta$.\n",
    "If Mie decomp is used, then these are further reduced to five scalars $T_u$, $P_u$, $T_b$, $P_b$ and $\\Theta$.\n",
    "Either way, the set of unknown variables is small, well defined, and well organized by their physical meanings, and so are the governing equations.\n",
    "Manipulating these variables can be easily done by writing codes for each equation / variable.\n",
    "\n",
    "Things become much more annoying when dealing with PG equations and variables. First, we are now dealing with at least 15 variables, and it is no longer desirable to write a code snippet for every single variable / equation.\n",
    "Second, although all the variables have clear physical meaning, their conglomeration does not. The velocity field merely occupies one variable, while magnetic field occupies eight, within which there are both symmetric integrals and anti-symmetric integrals. The existence of boundary quantities poses another complication.\n",
    "\n",
    "The design of class `base.LabeledCollection` is hence directed at fulfilling two purposes. First, it allows batch manipulation of all variables within this collection, without the need to write the code for each component. Second, when field-specific manipulation is necessary, the class admits extracting one or more fields by calling their \"names\". Underneath, the class is really just a class whose attributes can be traversed with an iterator, but it provides the flexibility to support both batch and specific manipulation."
   ]
  },
  {
   "cell_type": "code",
   "execution_count": 1,
   "id": "07540b69-1d52-4428-b21e-b669049f6a56",
   "metadata": {},
   "outputs": [],
   "source": [
    "import os, sys\n",
    "root_dir = \".\"\n",
    "\n",
    "# The following 2 lines are a hack to import from parent directory\n",
    "# If the notebook is run in the root directory, comment out these 2 lines\n",
    "sys.path.append(os.path.dirname(os.getcwd()))\n",
    "root_dir = \"..\"\n",
    "\n",
    "from pg_utils.pg_model import base"
   ]
  },
  {
   "cell_type": "markdown",
   "id": "ec3662e8-673f-41a4-8e57-0ec87b1dbb7b",
   "metadata": {},
   "source": [
    "---\n",
    "\n",
    "## LabeledCollection: initialization and operations\n",
    "\n",
    "Now let us look at an example of how this class can be used. Granted, there are not so many circumstances where one wants a collection to be both iterable and indexable by name.\n",
    "The following example may not be the most necessary, but it gives an idea how this interface functions.\n",
    "\n",
    "Let us consider the meta-data of an article, or any published material really. It has fields such as \"title\", \"DOI\", etc. We can build a LabeledCollection around this structure.\n",
    "The construction of the `base.LabeledCollection` class starts with a list of field names, followed by the values of these fields. For the example, we can construct an entry using:"
   ]
  },
  {
   "cell_type": "code",
   "execution_count": 2,
   "id": "745cef00-9715-4fdf-93a2-ae141cb2317b",
   "metadata": {},
   "outputs": [],
   "source": [
    "import datetime\n",
    "\n",
    "article_meta = base.LabeledCollection(\n",
    "    [\"Title\", \"Abstract\", \"Authors\", \"Date\", \"AccessDate\", \"DOI\", \"Journal\"],\n",
    "    Title=\"The CHAOS-7 geomagnetic field model and observed changes in the South Atlantic Anomaly\", \n",
    "    Abstract=(\"We present the CHAOS-7 model of the time-dependent near-Earth geomagnetic field \"\n",
    "              \"between 1999 and 2020 based on magnetic field observations \"\n",
    "              \"collected by the low-Earth orbit satellites Swarm, CryoSat-2, CHAMP, SAC-C and Ørsted, \"\n",
    "              \"and on annual differences of monthly means of ground observatory measurements.\"),\n",
    "    Authors=[\"C. C. Finlay\", \"C. Kloss\", \"N. Olsen\", \"M. D. Hammer\", \"L. Tøffner-Clausen\", \"A. Grayver\", \"A. Kuvshinov\"],\n",
    "    Date=datetime.datetime(2020, 10, 20),\n",
    "    AccessDate=datetime.datetime(2023, 3, 7),\n",
    "    DOI=\"10.1186/s40623-020-01252-9\",\n",
    "    Journal=\"Earth, Planets and Space\"\n",
    ")"
   ]
  },
  {
   "cell_type": "markdown",
   "id": "e90191d3-8fb9-4949-97bb-8e25e96a64b0",
   "metadata": {},
   "source": [
    "The field names can be accessed via"
   ]
  },
  {
   "cell_type": "code",
   "execution_count": 3,
   "id": "1afcc626-5f56-4f42-a5c5-1e9d5a784a43",
   "metadata": {},
   "outputs": [
    {
     "data": {
      "text/plain": [
       "['Title', 'Abstract', 'Authors', 'Date', 'AccessDate', 'DOI', 'Journal']"
      ]
     },
     "execution_count": 3,
     "metadata": {},
     "output_type": "execute_result"
    }
   ],
   "source": [
    "article_meta._field_names"
   ]
  },
  {
   "cell_type": "markdown",
   "id": "3bf735af-31ad-40af-b760-4a1baebb464b",
   "metadata": {},
   "source": [
    "And the fields within this data structure is arranged according to this list, which is the first parameter passed in.\n",
    "For instance, the first field will be title"
   ]
  },
  {
   "cell_type": "code",
   "execution_count": 4,
   "id": "6c1dcc62-ac48-4c57-b5dd-05c7abd10e92",
   "metadata": {},
   "outputs": [
    {
     "data": {
      "text/plain": [
       "'The CHAOS-7 geomagnetic field model and observed changes in the South Atlantic Anomaly'"
      ]
     },
     "execution_count": 4,
     "metadata": {},
     "output_type": "execute_result"
    }
   ],
   "source": [
    "article_meta[0]"
   ]
  },
  {
   "cell_type": "markdown",
   "id": "171cba60-7318-43ca-bd5a-9b4cd5799b76",
   "metadata": {},
   "source": [
    "and the last field will be the name of the journal"
   ]
  },
  {
   "cell_type": "code",
   "execution_count": 5,
   "id": "e8a2037b-a300-424f-94ca-f464cdc5f922",
   "metadata": {},
   "outputs": [
    {
     "data": {
      "text/plain": [
       "'Earth, Planets and Space'"
      ]
     },
     "execution_count": 5,
     "metadata": {},
     "output_type": "execute_result"
    }
   ],
   "source": [
    "article_meta[-1]"
   ]
  },
  {
   "cell_type": "markdown",
   "id": "cbb05fc5-6243-40db-af9c-0f2e02170357",
   "metadata": {},
   "source": [
    "The same field can also be accessed by the name of the field, i.e. \"Journal\":"
   ]
  },
  {
   "cell_type": "code",
   "execution_count": 6,
   "id": "e294349b-229e-474d-be27-d38a12b7b2ff",
   "metadata": {},
   "outputs": [
    {
     "data": {
      "text/plain": [
       "'Earth, Planets and Space'"
      ]
     },
     "execution_count": 6,
     "metadata": {},
     "output_type": "execute_result"
    }
   ],
   "source": [
    "article_meta[\"Journal\"]"
   ]
  },
  {
   "cell_type": "markdown",
   "id": "545a109e-9c41-46dc-a4b6-97d8aa4bb9d6",
   "metadata": {},
   "source": [
    "At this point one might think that a dictionary as a container is sufficient: the values can be accessed via the key (*\"call me by my name\"*, if you will), and can also be accessed via the index, say using `dict[list(dict.keys())[index]]` or `list(dict.values())[index]`. However, there are two problems. First, it is usually not right to assume that the index within a dictionary/map is stable. Second, designing a specific data structure would give you more control as to how you can use it. For instance, we can also call the value as an attribute:"
   ]
  },
  {
   "cell_type": "code",
   "execution_count": 7,
   "id": "7806b47b-8319-49e0-bcc0-3d30b7026d0e",
   "metadata": {},
   "outputs": [
    {
     "data": {
      "text/plain": [
       "['C. C. Finlay',\n",
       " 'C. Kloss',\n",
       " 'N. Olsen',\n",
       " 'M. D. Hammer',\n",
       " 'L. Tøffner-Clausen',\n",
       " 'A. Grayver',\n",
       " 'A. Kuvshinov']"
      ]
     },
     "execution_count": 7,
     "metadata": {},
     "output_type": "execute_result"
    }
   ],
   "source": [
    "article_meta.Authors"
   ]
  },
  {
   "cell_type": "markdown",
   "id": "c06de0f5-6182-4d89-bfd3-5132fc5e5097",
   "metadata": {},
   "source": [
    "### Iterator: traversing the collection\n",
    "\n",
    "One of the key things enabled by assigning an index to each field is that you can iterate through the collection. You can do this by\n",
    "- iterating through the field names:"
   ]
  },
  {
   "cell_type": "code",
   "execution_count": 8,
   "id": "f23e7002-d317-4719-85ca-c9eac0f6398b",
   "metadata": {},
   "outputs": [
    {
     "name": "stdout",
     "output_type": "stream",
     "text": [
      "Title       : The CHAOS-7 geomagnetic field model and observed changes in the South Atlantic Anomaly\n",
      "Abstract    : We present the CHAOS-7 model of the time-dependent near-Earth geomagnetic field between 1999 and 2020 based on magnetic field observations collected by the low-Earth orbit satellites Swarm, CryoSat-2, CHAMP, SAC-C and Ørsted, and on annual differences of monthly means of ground observatory measurements.\n",
      "Authors     : ['C. C. Finlay', 'C. Kloss', 'N. Olsen', 'M. D. Hammer', 'L. Tøffner-Clausen', 'A. Grayver', 'A. Kuvshinov']\n",
      "Date        : 2020-10-20 00:00:00\n",
      "AccessDate  : 2023-03-07 00:00:00\n",
      "DOI         : 10.1186/s40623-020-01252-9\n",
      "Journal     : Earth, Planets and Space\n"
     ]
    }
   ],
   "source": [
    "for field_name in article_meta._field_names:\n",
    "    print(\"{:12s}: {:s}\".format(field_name, str(article_meta[field_name])))"
   ]
  },
  {
   "cell_type": "markdown",
   "id": "99f8ff9a-d793-41e3-9e99-13a229f097b3",
   "metadata": {},
   "source": [
    "- or simply iterating through the field values. Your call."
   ]
  },
  {
   "cell_type": "code",
   "execution_count": 9,
   "id": "6422b7ef-b264-4561-9155-bbccc35ddd17",
   "metadata": {},
   "outputs": [
    {
     "name": "stdout",
     "output_type": "stream",
     "text": [
      "The CHAOS-7 geomagnetic field model and observed changes in the South Atlantic Anomaly\n",
      "We present the CHAOS-7 model of the time-dependent near-Earth geomagnetic field between 1999 and 2020 based on magnetic field observations collected by the low-Earth orbit satellites Swarm, CryoSat-2, CHAMP, SAC-C and Ørsted, and on annual differences of monthly means of ground observatory measurements.\n",
      "['C. C. Finlay', 'C. Kloss', 'N. Olsen', 'M. D. Hammer', 'L. Tøffner-Clausen', 'A. Grayver', 'A. Kuvshinov']\n",
      "2020-10-20 00:00:00\n",
      "2023-03-07 00:00:00\n",
      "10.1186/s40623-020-01252-9\n",
      "Earth, Planets and Space\n"
     ]
    }
   ],
   "source": [
    "for field_value in article_meta:\n",
    "    print(str(field_value))"
   ]
  },
  {
   "cell_type": "markdown",
   "id": "155f51e9-f58f-4a6a-a047-233ebddfee3f",
   "metadata": {},
   "source": [
    "There are also some built-in syntax sugars for simpler manipulation of a collection.\n",
    "One of them is the `apply` function, which applies a processing method to all of the fields.\n",
    "\n",
    "Say you (for some reason) want to make a 1950s Swiss style poster of this article, and you want all letters to be in lowercase (see [examples](https://www.printmag.com/featured/swiss-style-principles-typefaces-designers/) here)."
   ]
  },
  {
   "cell_type": "code",
   "execution_count": 10,
   "id": "ac9e38a0-065a-4279-a007-a1cc17718ff6",
   "metadata": {},
   "outputs": [
    {
     "name": "stdout",
     "output_type": "stream",
     "text": [
      "Title       : the chaos-7 geomagnetic field model and observed changes in the south atlantic anomaly\n",
      "Abstract    : we present the chaos-7 model of the time-dependent near-earth geomagnetic field between 1999 and 2020 based on magnetic field observations collected by the low-earth orbit satellites swarm, cryosat-2, champ, sac-c and ørsted, and on annual differences of monthly means of ground observatory measurements.\n",
      "Authors     : ['c. c. finlay', 'c. kloss', 'n. olsen', 'm. d. hammer', 'l. tøffner-clausen', 'a. grayver', 'a. kuvshinov']\n",
      "Date        : 2020-10-20 00:00:00\n",
      "AccessDate  : 2023-03-07 00:00:00\n",
      "DOI         : 10.1186/s40623-020-01252-9\n",
      "Journal     : earth, planets and space\n"
     ]
    }
   ],
   "source": [
    "def string_lower(field_value):\n",
    "    if isinstance(field_value, str):\n",
    "        return field_value.lower()\n",
    "    elif isinstance(field_value, list):\n",
    "        return [item.lower() for item in field_value]\n",
    "    else:\n",
    "        return field_value\n",
    "\n",
    "article_meta_swiss_style = article_meta.apply(string_lower)\n",
    "for field_name in article_meta_swiss_style._field_names:\n",
    "    print(\"{:12s}: {:s}\".format(field_name, str(article_meta_swiss_style[field_name])))"
   ]
  },
  {
   "cell_type": "markdown",
   "id": "a9f7d6a4-f842-434d-ab76-3fcfb40cfad8",
   "metadata": {},
   "source": [
    "You can also optionally pass in the name of the field. For instance, say you want the dates to be expressed in days since 2000:"
   ]
  },
  {
   "cell_type": "code",
   "execution_count": 11,
   "id": "3f94c47e-82d3-45fa-8bcb-1880e70fb5a1",
   "metadata": {},
   "outputs": [
    {
     "name": "stdout",
     "output_type": "stream",
     "text": [
      "Title       : The CHAOS-7 geomagnetic field model and observed changes in the South Atlantic Anomaly\n",
      "Abstract    : We present the CHAOS-7 model of the time-dependent near-Earth geomagnetic field between 1999 and 2020 based on magnetic field observations collected by the low-Earth orbit satellites Swarm, CryoSat-2, CHAMP, SAC-C and Ørsted, and on annual differences of monthly means of ground observatory measurements.\n",
      "Authors     : ['C. C. Finlay', 'C. Kloss', 'N. Olsen', 'M. D. Hammer', 'L. Tøffner-Clausen', 'A. Grayver', 'A. Kuvshinov']\n",
      "Date        : 7598.0\n",
      "AccessDate  : 8466.0\n",
      "DOI         : 10.1186/s40623-020-01252-9\n",
      "Journal     : Earth, Planets and Space\n"
     ]
    }
   ],
   "source": [
    "def date_ref_2000(field_name, field_value):\n",
    "    if field_name[-4:] == \"Date\":\n",
    "        return (field_value - datetime.datetime(2000, 1, 1)) / datetime.timedelta(days=1)\n",
    "    else:\n",
    "        return field_value\n",
    "\n",
    "article_meta_ref_2000 = article_meta.apply(date_ref_2000, metadata=True)\n",
    "for field_name in article_meta_ref_2000._field_names:\n",
    "    print(\"{:12s}: {:s}\".format(field_name, str(article_meta_ref_2000[field_name])))"
   ]
  },
  {
   "cell_type": "markdown",
   "id": "ac30d38b-b006-4490-9b5c-6538396237b5",
   "metadata": {},
   "source": [
    "### Serialization\n",
    "\n",
    "The last useful function is to serialize the collection. This can be particularly useful when you want to export the collection.\n",
    "\n",
    "Serialization of a collection converts the collection into a list of tuples. By default, all of the items are converted to strings."
   ]
  },
  {
   "cell_type": "code",
   "execution_count": 12,
   "id": "4d43ec22-2a6b-4896-9917-04dd73ad29f8",
   "metadata": {},
   "outputs": [
    {
     "data": {
      "text/plain": [
       "[('Title',\n",
       "  'The CHAOS-7 geomagnetic field model and observed changes in the South Atlantic Anomaly'),\n",
       " ('Abstract',\n",
       "  'We present the CHAOS-7 model of the time-dependent near-Earth geomagnetic field between 1999 and 2020 based on magnetic field observations collected by the low-Earth orbit satellites Swarm, CryoSat-2, CHAMP, SAC-C and Ørsted, and on annual differences of monthly means of ground observatory measurements.'),\n",
       " ('Authors',\n",
       "  \"['C. C. Finlay', 'C. Kloss', 'N. Olsen', 'M. D. Hammer', 'L. Tøffner-Clausen', 'A. Grayver', 'A. Kuvshinov']\"),\n",
       " ('Date', '2020-10-20 00:00:00'),\n",
       " ('AccessDate', '2023-03-07 00:00:00'),\n",
       " ('DOI', '10.1186/s40623-020-01252-9'),\n",
       " ('Journal', 'Earth, Planets and Space')]"
      ]
     },
     "execution_count": 12,
     "metadata": {},
     "output_type": "execute_result"
    }
   ],
   "source": [
    "article_meta.serialize()"
   ]
  },
  {
   "cell_type": "markdown",
   "id": "f3db4a82-8875-43a8-8437-6f2cf3e41c43",
   "metadata": {},
   "source": [
    "You can specify specific conversions for field values by specifying the `serializer` parameter.\n",
    "For instance, you want everything to remain the same, without the need of conversion:"
   ]
  },
  {
   "cell_type": "code",
   "execution_count": 13,
   "id": "65801bf0-b7f5-42c7-8031-14984750b686",
   "metadata": {},
   "outputs": [
    {
     "data": {
      "text/plain": [
       "[('Title',\n",
       "  'The CHAOS-7 geomagnetic field model and observed changes in the South Atlantic Anomaly'),\n",
       " ('Abstract',\n",
       "  'We present the CHAOS-7 model of the time-dependent near-Earth geomagnetic field between 1999 and 2020 based on magnetic field observations collected by the low-Earth orbit satellites Swarm, CryoSat-2, CHAMP, SAC-C and Ørsted, and on annual differences of monthly means of ground observatory measurements.'),\n",
       " ('Authors',\n",
       "  ['C. C. Finlay',\n",
       "   'C. Kloss',\n",
       "   'N. Olsen',\n",
       "   'M. D. Hammer',\n",
       "   'L. Tøffner-Clausen',\n",
       "   'A. Grayver',\n",
       "   'A. Kuvshinov']),\n",
       " ('Date', datetime.datetime(2020, 10, 20, 0, 0)),\n",
       " ('AccessDate', datetime.datetime(2023, 3, 7, 0, 0)),\n",
       " ('DOI', '10.1186/s40623-020-01252-9'),\n",
       " ('Journal', 'Earth, Planets and Space')]"
      ]
     },
     "execution_count": 13,
     "metadata": {},
     "output_type": "execute_result"
    }
   ],
   "source": [
    "article_meta.serialize(serializer=lambda x: x)"
   ]
  },
  {
   "cell_type": "markdown",
   "id": "28f5cbbd-62f0-4cfa-a829-e707073e79e1",
   "metadata": {},
   "source": [
    "This way list remains a list, and datetimes remain datetimes."
   ]
  },
  {
   "cell_type": "markdown",
   "id": "94d88bd9-e2f2-465e-945e-fa629f7dbb17",
   "metadata": {},
   "source": [
    "The serialized object contains all the information of the collection, and can be used to reconstruct a collection:"
   ]
  },
  {
   "cell_type": "code",
   "execution_count": 14,
   "id": "2d6d7614-054b-4919-9e57-b9979aff07e0",
   "metadata": {},
   "outputs": [
    {
     "name": "stdout",
     "output_type": "stream",
     "text": [
      "Title       : The CHAOS-7 geomagnetic field model and observed changes in the South Atlantic Anomaly\n",
      "Abstract    : We present the CHAOS-7 model of the time-dependent near-Earth geomagnetic field between 1999 and 2020 based on magnetic field observations collected by the low-Earth orbit satellites Swarm, CryoSat-2, CHAMP, SAC-C and Ørsted, and on annual differences of monthly means of ground observatory measurements.\n",
      "Authors     : ['C. C. Finlay', 'C. Kloss', 'N. Olsen', 'M. D. Hammer', 'L. Tøffner-Clausen', 'A. Grayver', 'A. Kuvshinov']\n",
      "Date        : 2020-10-20 00:00:00\n",
      "AccessDate  : 2023-03-07 00:00:00\n",
      "DOI         : 10.1186/s40623-020-01252-9\n",
      "Journal     : Earth, Planets and Space\n"
     ]
    }
   ],
   "source": [
    "article_meta_reconstructed = base.LabeledCollection.deserialize(article_meta.serialize(serializer=lambda x: x))\n",
    "\n",
    "for field_name in article_meta_reconstructed._field_names:\n",
    "    print(\"{:12s}: {:s}\".format(field_name, str(article_meta_reconstructed[field_name])))"
   ]
  },
  {
   "cell_type": "markdown",
   "id": "f174dcbc-bf87-4296-acd9-05afc98da5f4",
   "metadata": {},
   "source": [
    "---\n",
    "## Specializations of collections\n",
    "\n",
    "There are two major specializations of collections in the PG model: `base.CollectionPG`, and `base.CollectionConjugate`. \n",
    "These both inherit from the base class `base.LabeledCollection`, and has pratically the same functionality, except for that the field names are pre-defined. \n",
    "\n",
    "### CollectionPG\n",
    "\n",
    "For `base.CollectionPG`, the fields correspond to the PG variables:"
   ]
  },
  {
   "cell_type": "code",
   "execution_count": 15,
   "id": "94cf2e88-9416-4084-9522-6a034adf4b53",
   "metadata": {},
   "outputs": [
    {
     "data": {
      "text/plain": [
       "['Psi',\n",
       " 'Mss',\n",
       " 'Mpp',\n",
       " 'Msp',\n",
       " 'Msz',\n",
       " 'Mpz',\n",
       " 'zMss',\n",
       " 'zMpp',\n",
       " 'zMsp',\n",
       " 'Bs_e',\n",
       " 'Bp_e',\n",
       " 'Bz_e',\n",
       " 'dBs_dz_e',\n",
       " 'dBp_dz_e',\n",
       " 'Br_b',\n",
       " 'Bs_p',\n",
       " 'Bp_p',\n",
       " 'Bz_p',\n",
       " 'Bs_m',\n",
       " 'Bp_m',\n",
       " 'Bz_m']"
      ]
     },
     "execution_count": 15,
     "metadata": {},
     "output_type": "execute_result"
    }
   ],
   "source": [
    "base.CollectionPG.pg_field_names"
   ]
  },
  {
   "cell_type": "markdown",
   "id": "3e57cfd0-ffbd-4fc2-a844-5749dea78e47",
   "metadata": {},
   "source": [
    "Several key variables are of this type. For instance, the collection of the PG variables:"
   ]
  },
  {
   "cell_type": "code",
   "execution_count": 16,
   "id": "11c2593d-928b-431d-98a9-0adef5161125",
   "metadata": {},
   "outputs": [
    {
     "data": {
      "text/plain": [
       "pg_utils.pg_model.base.CollectionPG"
      ]
     },
     "execution_count": 16,
     "metadata": {},
     "output_type": "execute_result"
    }
   ],
   "source": [
    "from pg_utils.pg_model import core\n",
    "\n",
    "type(core.pgvar)"
   ]
  },
  {
   "cell_type": "markdown",
   "id": "71e58e70-10e6-4f47-affd-476b5d2ebf66",
   "metadata": {},
   "source": [
    "These field values are `sympy.Function`s that represent the corresponding PG field"
   ]
  },
  {
   "cell_type": "code",
   "execution_count": 17,
   "id": "f6585c83-51c5-4e31-9625-2c6f90b75c09",
   "metadata": {},
   "outputs": [
    {
     "name": "stdout",
     "output_type": "stream",
     "text": [
      "Psi:\n"
     ]
    },
    {
     "data": {
      "text/latex": [
       "$\\displaystyle \\Psi{\\left(s,\\phi,t \\right)}$"
      ],
      "text/plain": [
       "\\Psi(s, \\phi, t)"
      ]
     },
     "metadata": {},
     "output_type": "display_data"
    },
    {
     "name": "stdout",
     "output_type": "stream",
     "text": [
      "Mss:\n"
     ]
    },
    {
     "data": {
      "text/latex": [
       "$\\displaystyle \\overline{M_{ss}}{\\left(s,\\phi,t \\right)}$"
      ],
      "text/plain": [
       "\\overline{M_{ss}}(s, \\phi, t)"
      ]
     },
     "metadata": {},
     "output_type": "display_data"
    },
    {
     "name": "stdout",
     "output_type": "stream",
     "text": [
      "Mpp:\n"
     ]
    },
    {
     "data": {
      "text/latex": [
       "$\\displaystyle \\overline{M_{\\phi\\phi}}{\\left(s,\\phi,t \\right)}$"
      ],
      "text/plain": [
       "\\overline{M_{\\phi\\phi}}(s, \\phi, t)"
      ]
     },
     "metadata": {},
     "output_type": "display_data"
    },
    {
     "name": "stdout",
     "output_type": "stream",
     "text": [
      "Msp:\n"
     ]
    },
    {
     "data": {
      "text/latex": [
       "$\\displaystyle \\overline{M_{s\\phi}}{\\left(s,\\phi,t \\right)}$"
      ],
      "text/plain": [
       "\\overline{M_{s\\phi}}(s, \\phi, t)"
      ]
     },
     "metadata": {},
     "output_type": "display_data"
    },
    {
     "name": "stdout",
     "output_type": "stream",
     "text": [
      "Msz:\n"
     ]
    },
    {
     "data": {
      "text/latex": [
       "$\\displaystyle \\widetilde{M_{sz}}{\\left(s,\\phi,t \\right)}$"
      ],
      "text/plain": [
       "\\widetilde{M_{sz}}(s, \\phi, t)"
      ]
     },
     "metadata": {},
     "output_type": "display_data"
    },
    {
     "name": "stdout",
     "output_type": "stream",
     "text": [
      "Mpz:\n"
     ]
    },
    {
     "data": {
      "text/latex": [
       "$\\displaystyle \\widetilde{M_{\\phi z}}{\\left(s,\\phi,t \\right)}$"
      ],
      "text/plain": [
       "\\widetilde{M_{\\phi z}}(s, \\phi, t)"
      ]
     },
     "metadata": {},
     "output_type": "display_data"
    },
    {
     "name": "stdout",
     "output_type": "stream",
     "text": [
      "zMss:\n"
     ]
    },
    {
     "data": {
      "text/latex": [
       "$\\displaystyle \\widetilde{zM_{ss}}{\\left(s,\\phi,t \\right)}$"
      ],
      "text/plain": [
       "\\widetilde{zM_{ss}}(s, \\phi, t)"
      ]
     },
     "metadata": {},
     "output_type": "display_data"
    },
    {
     "name": "stdout",
     "output_type": "stream",
     "text": [
      "zMpp:\n"
     ]
    },
    {
     "data": {
      "text/latex": [
       "$\\displaystyle \\widetilde{zM_{\\phi\\phi}}{\\left(s,\\phi,t \\right)}$"
      ],
      "text/plain": [
       "\\widetilde{zM_{\\phi\\phi}}(s, \\phi, t)"
      ]
     },
     "metadata": {},
     "output_type": "display_data"
    },
    {
     "name": "stdout",
     "output_type": "stream",
     "text": [
      "zMsp:\n"
     ]
    },
    {
     "data": {
      "text/latex": [
       "$\\displaystyle \\widetilde{zM_{s\\phi}}{\\left(s,\\phi,t \\right)}$"
      ],
      "text/plain": [
       "\\widetilde{zM_{s\\phi}}(s, \\phi, t)"
      ]
     },
     "metadata": {},
     "output_type": "display_data"
    },
    {
     "name": "stdout",
     "output_type": "stream",
     "text": [
      "Bs_e:\n"
     ]
    },
    {
     "data": {
      "text/latex": [
       "$\\displaystyle B_{s}^e{\\left(s,\\phi,t \\right)}$"
      ],
      "text/plain": [
       "B_{s}^e(s, \\phi, t)"
      ]
     },
     "metadata": {},
     "output_type": "display_data"
    },
    {
     "name": "stdout",
     "output_type": "stream",
     "text": [
      "Bp_e:\n"
     ]
    },
    {
     "data": {
      "text/latex": [
       "$\\displaystyle B_{\\phi}^e{\\left(s,\\phi,t \\right)}$"
      ],
      "text/plain": [
       "B_{\\phi}^e(s, \\phi, t)"
      ]
     },
     "metadata": {},
     "output_type": "display_data"
    },
    {
     "name": "stdout",
     "output_type": "stream",
     "text": [
      "Bz_e:\n"
     ]
    },
    {
     "data": {
      "text/latex": [
       "$\\displaystyle B_{z}^e{\\left(s,\\phi,t \\right)}$"
      ],
      "text/plain": [
       "B_{z}^e(s, \\phi, t)"
      ]
     },
     "metadata": {},
     "output_type": "display_data"
    },
    {
     "name": "stdout",
     "output_type": "stream",
     "text": [
      "dBs_dz_e:\n"
     ]
    },
    {
     "data": {
      "text/latex": [
       "$\\displaystyle B_{s, z}^e{\\left(s,\\phi,t \\right)}$"
      ],
      "text/plain": [
       "B_{s, z}^e(s, \\phi, t)"
      ]
     },
     "metadata": {},
     "output_type": "display_data"
    },
    {
     "name": "stdout",
     "output_type": "stream",
     "text": [
      "dBp_dz_e:\n"
     ]
    },
    {
     "data": {
      "text/latex": [
       "$\\displaystyle B_{\\phi, z}^e{\\left(s,\\phi,t \\right)}$"
      ],
      "text/plain": [
       "B_{\\phi, z}^e(s, \\phi, t)"
      ]
     },
     "metadata": {},
     "output_type": "display_data"
    },
    {
     "name": "stdout",
     "output_type": "stream",
     "text": [
      "Br_b:\n"
     ]
    },
    {
     "data": {
      "text/latex": [
       "$\\displaystyle B_{r1}{\\left(\\theta,\\phi,t \\right)}$"
      ],
      "text/plain": [
       "B_{r1}(\\theta, \\phi, t)"
      ]
     },
     "metadata": {},
     "output_type": "display_data"
    },
    {
     "name": "stdout",
     "output_type": "stream",
     "text": [
      "Bs_p:\n"
     ]
    },
    {
     "data": {
      "text/latex": [
       "$\\displaystyle B^{+}_{s}{\\left(s,\\phi,t \\right)}$"
      ],
      "text/plain": [
       "B_s^+(s, \\phi, t)"
      ]
     },
     "metadata": {},
     "output_type": "display_data"
    },
    {
     "name": "stdout",
     "output_type": "stream",
     "text": [
      "Bp_p:\n"
     ]
    },
    {
     "data": {
      "text/latex": [
       "$\\displaystyle B^{+}_{\\phi}{\\left(s,\\phi,t \\right)}$"
      ],
      "text/plain": [
       "B_\\phi^+(s, \\phi, t)"
      ]
     },
     "metadata": {},
     "output_type": "display_data"
    },
    {
     "name": "stdout",
     "output_type": "stream",
     "text": [
      "Bz_p:\n"
     ]
    },
    {
     "data": {
      "text/latex": [
       "$\\displaystyle B^{+}_{z}{\\left(s,\\phi,t \\right)}$"
      ],
      "text/plain": [
       "B_z^+(s, \\phi, t)"
      ]
     },
     "metadata": {},
     "output_type": "display_data"
    },
    {
     "name": "stdout",
     "output_type": "stream",
     "text": [
      "Bs_m:\n"
     ]
    },
    {
     "data": {
      "text/latex": [
       "$\\displaystyle B^{-}_{s}{\\left(s,\\phi,t \\right)}$"
      ],
      "text/plain": [
       "B_s^-(s, \\phi, t)"
      ]
     },
     "metadata": {},
     "output_type": "display_data"
    },
    {
     "name": "stdout",
     "output_type": "stream",
     "text": [
      "Bp_m:\n"
     ]
    },
    {
     "data": {
      "text/latex": [
       "$\\displaystyle B^{-}_{\\phi}{\\left(s,\\phi,t \\right)}$"
      ],
      "text/plain": [
       "B_\\phi^-(s, \\phi, t)"
      ]
     },
     "metadata": {},
     "output_type": "display_data"
    },
    {
     "name": "stdout",
     "output_type": "stream",
     "text": [
      "Bz_m:\n"
     ]
    },
    {
     "data": {
      "text/latex": [
       "$\\displaystyle B^{-}_{z}{\\left(s,\\phi,t \\right)}$"
      ],
      "text/plain": [
       "B_z^-(s, \\phi, t)"
      ]
     },
     "metadata": {},
     "output_type": "display_data"
    }
   ],
   "source": [
    "for field_name in core.pgvar._field_names:\n",
    "    print(\"{:s}:\".format(field_name))\n",
    "    display(core.pgvar[field_name])"
   ]
  },
  {
   "cell_type": "markdown",
   "id": "8a799cc6-f6df-4191-b6e8-a3e53fe3626a",
   "metadata": {},
   "source": [
    "### CollectionConjugate\n",
    "\n",
    "Similar variables exist for the conjugate/transformed fields:"
   ]
  },
  {
   "cell_type": "code",
   "execution_count": 18,
   "id": "77b18eb4-9843-4f98-985c-38338b10fb0a",
   "metadata": {},
   "outputs": [
    {
     "data": {
      "text/plain": [
       "['Psi',\n",
       " 'M_1',\n",
       " 'M_p',\n",
       " 'M_m',\n",
       " 'M_zp',\n",
       " 'M_zm',\n",
       " 'zM_1',\n",
       " 'zM_p',\n",
       " 'zM_m',\n",
       " 'B_ep',\n",
       " 'B_em',\n",
       " 'Bz_e',\n",
       " 'dB_dz_ep',\n",
       " 'dB_dz_em',\n",
       " 'Br_b',\n",
       " 'B_pp',\n",
       " 'B_pm',\n",
       " 'Bz_p',\n",
       " 'B_mp',\n",
       " 'B_mm',\n",
       " 'Bz_m']"
      ]
     },
     "execution_count": 18,
     "metadata": {},
     "output_type": "execute_result"
    }
   ],
   "source": [
    "base.CollectionConjugate.cg_field_names"
   ]
  },
  {
   "cell_type": "code",
   "execution_count": 19,
   "id": "5b948f8f-8b59-41d4-aff5-070153dd6c9a",
   "metadata": {},
   "outputs": [
    {
     "data": {
      "text/plain": [
       "pg_utils.pg_model.base.CollectionConjugate"
      ]
     },
     "execution_count": 19,
     "metadata": {},
     "output_type": "execute_result"
    }
   ],
   "source": [
    "type(core.cgvar)"
   ]
  },
  {
   "cell_type": "code",
   "execution_count": 20,
   "id": "3aa16083-3189-4c67-8dbd-8e1b3ea02de4",
   "metadata": {},
   "outputs": [
    {
     "name": "stdout",
     "output_type": "stream",
     "text": [
      "Psi:\n"
     ]
    },
    {
     "data": {
      "text/latex": [
       "$\\displaystyle \\Psi{\\left(s,\\phi,t \\right)}$"
      ],
      "text/plain": [
       "\\Psi(s, \\phi, t)"
      ]
     },
     "metadata": {},
     "output_type": "display_data"
    },
    {
     "name": "stdout",
     "output_type": "stream",
     "text": [
      "M_1:\n"
     ]
    },
    {
     "data": {
      "text/latex": [
       "$\\displaystyle \\overline{M_1}{\\left(s,\\phi,t \\right)}$"
      ],
      "text/plain": [
       "\\overline{M_1}(s, \\phi, t)"
      ]
     },
     "metadata": {},
     "output_type": "display_data"
    },
    {
     "name": "stdout",
     "output_type": "stream",
     "text": [
      "M_p:\n"
     ]
    },
    {
     "data": {
      "text/latex": [
       "$\\displaystyle \\overline{M_+}{\\left(s,\\phi,t \\right)}$"
      ],
      "text/plain": [
       "\\overline{M_+}(s, \\phi, t)"
      ]
     },
     "metadata": {},
     "output_type": "display_data"
    },
    {
     "name": "stdout",
     "output_type": "stream",
     "text": [
      "M_m:\n"
     ]
    },
    {
     "data": {
      "text/latex": [
       "$\\displaystyle \\overline{M_-}{\\left(s,\\phi,t \\right)}$"
      ],
      "text/plain": [
       "\\overline{M_-}(s, \\phi, t)"
      ]
     },
     "metadata": {},
     "output_type": "display_data"
    },
    {
     "name": "stdout",
     "output_type": "stream",
     "text": [
      "M_zp:\n"
     ]
    },
    {
     "data": {
      "text/latex": [
       "$\\displaystyle \\widetilde{M_{z+}}{\\left(s,\\phi,t \\right)}$"
      ],
      "text/plain": [
       "\\widetilde{M_{z+}}(s, \\phi, t)"
      ]
     },
     "metadata": {},
     "output_type": "display_data"
    },
    {
     "name": "stdout",
     "output_type": "stream",
     "text": [
      "M_zm:\n"
     ]
    },
    {
     "data": {
      "text/latex": [
       "$\\displaystyle \\widetilde{M_{z-}}{\\left(s,\\phi,t \\right)}$"
      ],
      "text/plain": [
       "\\widetilde{M_{z-}}(s, \\phi, t)"
      ]
     },
     "metadata": {},
     "output_type": "display_data"
    },
    {
     "name": "stdout",
     "output_type": "stream",
     "text": [
      "zM_1:\n"
     ]
    },
    {
     "data": {
      "text/latex": [
       "$\\displaystyle \\widetilde{zM_1}{\\left(s,\\phi,t \\right)}$"
      ],
      "text/plain": [
       "\\widetilde{zM_1}(s, \\phi, t)"
      ]
     },
     "metadata": {},
     "output_type": "display_data"
    },
    {
     "name": "stdout",
     "output_type": "stream",
     "text": [
      "zM_p:\n"
     ]
    },
    {
     "data": {
      "text/latex": [
       "$\\displaystyle \\widetilde{zM_+}{\\left(s,\\phi,t \\right)}$"
      ],
      "text/plain": [
       "\\widetilde{zM_+}(s, \\phi, t)"
      ]
     },
     "metadata": {},
     "output_type": "display_data"
    },
    {
     "name": "stdout",
     "output_type": "stream",
     "text": [
      "zM_m:\n"
     ]
    },
    {
     "data": {
      "text/latex": [
       "$\\displaystyle \\widetilde{zM_-}{\\left(s,\\phi,t \\right)}$"
      ],
      "text/plain": [
       "\\widetilde{zM_-}(s, \\phi, t)"
      ]
     },
     "metadata": {},
     "output_type": "display_data"
    },
    {
     "name": "stdout",
     "output_type": "stream",
     "text": [
      "B_ep:\n"
     ]
    },
    {
     "data": {
      "text/latex": [
       "$\\displaystyle B_{+}^e{\\left(s,\\phi,t \\right)}$"
      ],
      "text/plain": [
       "B_{+}^e(s, \\phi, t)"
      ]
     },
     "metadata": {},
     "output_type": "display_data"
    },
    {
     "name": "stdout",
     "output_type": "stream",
     "text": [
      "B_em:\n"
     ]
    },
    {
     "data": {
      "text/latex": [
       "$\\displaystyle B_{-}^e{\\left(s,\\phi,t \\right)}$"
      ],
      "text/plain": [
       "B_{-}^e(s, \\phi, t)"
      ]
     },
     "metadata": {},
     "output_type": "display_data"
    },
    {
     "name": "stdout",
     "output_type": "stream",
     "text": [
      "Bz_e:\n"
     ]
    },
    {
     "data": {
      "text/latex": [
       "$\\displaystyle B_{z}^e{\\left(s,\\phi,t \\right)}$"
      ],
      "text/plain": [
       "B_{z}^e(s, \\phi, t)"
      ]
     },
     "metadata": {},
     "output_type": "display_data"
    },
    {
     "name": "stdout",
     "output_type": "stream",
     "text": [
      "dB_dz_ep:\n"
     ]
    },
    {
     "data": {
      "text/latex": [
       "$\\displaystyle B_{+, z}^e{\\left(s,\\phi,t \\right)}$"
      ],
      "text/plain": [
       "B_{+, z}^e(s, \\phi, t)"
      ]
     },
     "metadata": {},
     "output_type": "display_data"
    },
    {
     "name": "stdout",
     "output_type": "stream",
     "text": [
      "dB_dz_em:\n"
     ]
    },
    {
     "data": {
      "text/latex": [
       "$\\displaystyle B_{-, z}^e{\\left(s,\\phi,t \\right)}$"
      ],
      "text/plain": [
       "B_{-, z}^e(s, \\phi, t)"
      ]
     },
     "metadata": {},
     "output_type": "display_data"
    },
    {
     "name": "stdout",
     "output_type": "stream",
     "text": [
      "Br_b:\n"
     ]
    },
    {
     "data": {
      "text/latex": [
       "$\\displaystyle B_{r1}{\\left(\\theta,\\phi,t \\right)}$"
      ],
      "text/plain": [
       "B_{r1}(\\theta, \\phi, t)"
      ]
     },
     "metadata": {},
     "output_type": "display_data"
    },
    {
     "name": "stdout",
     "output_type": "stream",
     "text": [
      "B_pp:\n"
     ]
    },
    {
     "data": {
      "text/latex": [
       "$\\displaystyle B^{+}_{+}{\\left(s,\\phi,t \\right)}$"
      ],
      "text/plain": [
       "B_+^+(s, \\phi, t)"
      ]
     },
     "metadata": {},
     "output_type": "display_data"
    },
    {
     "name": "stdout",
     "output_type": "stream",
     "text": [
      "B_pm:\n"
     ]
    },
    {
     "data": {
      "text/latex": [
       "$\\displaystyle B^{+}_{-}{\\left(s,\\phi,t \\right)}$"
      ],
      "text/plain": [
       "B_-^+(s, \\phi, t)"
      ]
     },
     "metadata": {},
     "output_type": "display_data"
    },
    {
     "name": "stdout",
     "output_type": "stream",
     "text": [
      "Bz_p:\n"
     ]
    },
    {
     "data": {
      "text/latex": [
       "$\\displaystyle B^{+}_{z}{\\left(s,\\phi,t \\right)}$"
      ],
      "text/plain": [
       "B_z^+(s, \\phi, t)"
      ]
     },
     "metadata": {},
     "output_type": "display_data"
    },
    {
     "name": "stdout",
     "output_type": "stream",
     "text": [
      "B_mp:\n"
     ]
    },
    {
     "data": {
      "text/latex": [
       "$\\displaystyle B^{-}_{+}{\\left(s,\\phi,t \\right)}$"
      ],
      "text/plain": [
       "B_+^-(s, \\phi, t)"
      ]
     },
     "metadata": {},
     "output_type": "display_data"
    },
    {
     "name": "stdout",
     "output_type": "stream",
     "text": [
      "B_mm:\n"
     ]
    },
    {
     "data": {
      "text/latex": [
       "$\\displaystyle B^{-}_{-}{\\left(s,\\phi,t \\right)}$"
      ],
      "text/plain": [
       "B_-^-(s, \\phi, t)"
      ]
     },
     "metadata": {},
     "output_type": "display_data"
    },
    {
     "name": "stdout",
     "output_type": "stream",
     "text": [
      "Bz_m:\n"
     ]
    },
    {
     "data": {
      "text/latex": [
       "$\\displaystyle B^{-}_{z}{\\left(s,\\phi,t \\right)}$"
      ],
      "text/plain": [
       "B_z^-(s, \\phi, t)"
      ]
     },
     "metadata": {},
     "output_type": "display_data"
    }
   ],
   "source": [
    "for field_name in core.cgvar._field_names:\n",
    "    print(\"{:s}:\".format(field_name))\n",
    "    display(core.cgvar[field_name])"
   ]
  },
  {
   "cell_type": "markdown",
   "id": "70e04fb2-97cf-4982-8bba-acd18921cd47",
   "metadata": {},
   "source": [
    "For more detailed information on the variables, please refer to [Demo_Variables](Demo_Variables.ipynb)."
   ]
  },
  {
   "cell_type": "markdown",
   "id": "78281949-de8e-47f2-84eb-d6446fe807d1",
   "metadata": {},
   "source": [
    "### Transformation between PG and transformed variables\n",
    "\n",
    "The conjugate / transformed variables form another set of variables that is mathematically equivalent to the PG variables, but are desired in that they admit simpler spectral expansions to fulfill regularity conditions.\n",
    "If you are unsure what it means, please refer to the [formulation PDF](https://gentlemin.github.io/assets/pdf/Ingredients.pdf).\n",
    "\n",
    "**PlesioGeostroPy** provides the interface for linearly transforming one set of variables to another. \n",
    "For instance, `core.PG_to_conjugate` gives the linear transform from PG to conjugate / transformed variables:"
   ]
  },
  {
   "cell_type": "code",
   "execution_count": 21,
   "id": "02e37651-7a54-4303-8c3c-3c68ab9fd3e1",
   "metadata": {},
   "outputs": [
    {
     "data": {
      "text/latex": [
       "$\\displaystyle \\Psi{\\left(s,\\phi,t \\right)} = \\Psi{\\left(s,\\phi,t \\right)}$"
      ],
      "text/plain": [
       "Eq(\\Psi(s, \\phi, t), \\Psi(s, \\phi, t))"
      ]
     },
     "metadata": {},
     "output_type": "display_data"
    },
    {
     "data": {
      "text/latex": [
       "$\\displaystyle \\overline{M_1}{\\left(s,\\phi,t \\right)} = \\frac{\\overline{M_{\\phi\\phi}}{\\left(s,\\phi,t \\right)}}{2} + \\frac{\\overline{M_{ss}}{\\left(s,\\phi,t \\right)}}{2}$"
      ],
      "text/plain": [
       "Eq(\\overline{M_1}(s, \\phi, t), \\overline{M_{\\phi\\phi}}(s, \\phi, t)/2 + \\overline{M_{ss}}(s, \\phi, t)/2)"
      ]
     },
     "metadata": {},
     "output_type": "display_data"
    },
    {
     "data": {
      "text/latex": [
       "$\\displaystyle \\overline{M_+}{\\left(s,\\phi,t \\right)} = - \\frac{\\overline{M_{\\phi\\phi}}{\\left(s,\\phi,t \\right)}}{2} + i \\overline{M_{s\\phi}}{\\left(s,\\phi,t \\right)} + \\frac{\\overline{M_{ss}}{\\left(s,\\phi,t \\right)}}{2}$"
      ],
      "text/plain": [
       "Eq(\\overline{M_+}(s, \\phi, t), -\\overline{M_{\\phi\\phi}}(s, \\phi, t)/2 + I*\\overline{M_{s\\phi}}(s, \\phi, t) + \\overline{M_{ss}}(s, \\phi, t)/2)"
      ]
     },
     "metadata": {},
     "output_type": "display_data"
    },
    {
     "data": {
      "text/latex": [
       "$\\displaystyle \\overline{M_-}{\\left(s,\\phi,t \\right)} = - \\frac{\\overline{M_{\\phi\\phi}}{\\left(s,\\phi,t \\right)}}{2} - i \\overline{M_{s\\phi}}{\\left(s,\\phi,t \\right)} + \\frac{\\overline{M_{ss}}{\\left(s,\\phi,t \\right)}}{2}$"
      ],
      "text/plain": [
       "Eq(\\overline{M_-}(s, \\phi, t), -\\overline{M_{\\phi\\phi}}(s, \\phi, t)/2 - I*\\overline{M_{s\\phi}}(s, \\phi, t) + \\overline{M_{ss}}(s, \\phi, t)/2)"
      ]
     },
     "metadata": {},
     "output_type": "display_data"
    },
    {
     "data": {
      "text/latex": [
       "$\\displaystyle \\widetilde{M_{z+}}{\\left(s,\\phi,t \\right)} = \\frac{\\sqrt{2} i \\widetilde{M_{\\phi z}}{\\left(s,\\phi,t \\right)}}{2} + \\frac{\\sqrt{2} \\widetilde{M_{sz}}{\\left(s,\\phi,t \\right)}}{2}$"
      ],
      "text/plain": [
       "Eq(\\widetilde{M_{z+}}(s, \\phi, t), sqrt(2)*I*\\widetilde{M_{\\phi z}}(s, \\phi, t)/2 + sqrt(2)*\\widetilde{M_{sz}}(s, \\phi, t)/2)"
      ]
     },
     "metadata": {},
     "output_type": "display_data"
    },
    {
     "data": {
      "text/latex": [
       "$\\displaystyle \\widetilde{M_{z-}}{\\left(s,\\phi,t \\right)} = - \\frac{\\sqrt{2} i \\widetilde{M_{\\phi z}}{\\left(s,\\phi,t \\right)}}{2} + \\frac{\\sqrt{2} \\widetilde{M_{sz}}{\\left(s,\\phi,t \\right)}}{2}$"
      ],
      "text/plain": [
       "Eq(\\widetilde{M_{z-}}(s, \\phi, t), -sqrt(2)*I*\\widetilde{M_{\\phi z}}(s, \\phi, t)/2 + sqrt(2)*\\widetilde{M_{sz}}(s, \\phi, t)/2)"
      ]
     },
     "metadata": {},
     "output_type": "display_data"
    },
    {
     "data": {
      "text/latex": [
       "$\\displaystyle \\widetilde{zM_1}{\\left(s,\\phi,t \\right)} = \\frac{\\widetilde{zM_{\\phi\\phi}}{\\left(s,\\phi,t \\right)}}{2} + \\frac{\\widetilde{zM_{ss}}{\\left(s,\\phi,t \\right)}}{2}$"
      ],
      "text/plain": [
       "Eq(\\widetilde{zM_1}(s, \\phi, t), \\widetilde{zM_{\\phi\\phi}}(s, \\phi, t)/2 + \\widetilde{zM_{ss}}(s, \\phi, t)/2)"
      ]
     },
     "metadata": {},
     "output_type": "display_data"
    },
    {
     "data": {
      "text/latex": [
       "$\\displaystyle \\widetilde{zM_+}{\\left(s,\\phi,t \\right)} = - \\frac{\\widetilde{zM_{\\phi\\phi}}{\\left(s,\\phi,t \\right)}}{2} + i \\widetilde{zM_{s\\phi}}{\\left(s,\\phi,t \\right)} + \\frac{\\widetilde{zM_{ss}}{\\left(s,\\phi,t \\right)}}{2}$"
      ],
      "text/plain": [
       "Eq(\\widetilde{zM_+}(s, \\phi, t), -\\widetilde{zM_{\\phi\\phi}}(s, \\phi, t)/2 + I*\\widetilde{zM_{s\\phi}}(s, \\phi, t) + \\widetilde{zM_{ss}}(s, \\phi, t)/2)"
      ]
     },
     "metadata": {},
     "output_type": "display_data"
    },
    {
     "data": {
      "text/latex": [
       "$\\displaystyle \\widetilde{zM_-}{\\left(s,\\phi,t \\right)} = - \\frac{\\widetilde{zM_{\\phi\\phi}}{\\left(s,\\phi,t \\right)}}{2} - i \\widetilde{zM_{s\\phi}}{\\left(s,\\phi,t \\right)} + \\frac{\\widetilde{zM_{ss}}{\\left(s,\\phi,t \\right)}}{2}$"
      ],
      "text/plain": [
       "Eq(\\widetilde{zM_-}(s, \\phi, t), -\\widetilde{zM_{\\phi\\phi}}(s, \\phi, t)/2 - I*\\widetilde{zM_{s\\phi}}(s, \\phi, t) + \\widetilde{zM_{ss}}(s, \\phi, t)/2)"
      ]
     },
     "metadata": {},
     "output_type": "display_data"
    },
    {
     "data": {
      "text/latex": [
       "$\\displaystyle B_{+}^e{\\left(s,\\phi,t \\right)} = \\frac{\\sqrt{2} i B_{\\phi}^e{\\left(s,\\phi,t \\right)}}{2} + \\frac{\\sqrt{2} B_{s}^e{\\left(s,\\phi,t \\right)}}{2}$"
      ],
      "text/plain": [
       "Eq(B_{+}^e(s, \\phi, t), sqrt(2)*I*B_{\\phi}^e(s, \\phi, t)/2 + sqrt(2)*B_{s}^e(s, \\phi, t)/2)"
      ]
     },
     "metadata": {},
     "output_type": "display_data"
    },
    {
     "data": {
      "text/latex": [
       "$\\displaystyle B_{-}^e{\\left(s,\\phi,t \\right)} = - \\frac{\\sqrt{2} i B_{\\phi}^e{\\left(s,\\phi,t \\right)}}{2} + \\frac{\\sqrt{2} B_{s}^e{\\left(s,\\phi,t \\right)}}{2}$"
      ],
      "text/plain": [
       "Eq(B_{-}^e(s, \\phi, t), -sqrt(2)*I*B_{\\phi}^e(s, \\phi, t)/2 + sqrt(2)*B_{s}^e(s, \\phi, t)/2)"
      ]
     },
     "metadata": {},
     "output_type": "display_data"
    },
    {
     "data": {
      "text/latex": [
       "$\\displaystyle B_{z}^e{\\left(s,\\phi,t \\right)} = B_{z}^e{\\left(s,\\phi,t \\right)}$"
      ],
      "text/plain": [
       "Eq(B_{z}^e(s, \\phi, t), B_{z}^e(s, \\phi, t))"
      ]
     },
     "metadata": {},
     "output_type": "display_data"
    },
    {
     "data": {
      "text/latex": [
       "$\\displaystyle B_{+, z}^e{\\left(s,\\phi,t \\right)} = \\frac{\\sqrt{2} i B_{\\phi, z}^e{\\left(s,\\phi,t \\right)}}{2} + \\frac{\\sqrt{2} B_{s, z}^e{\\left(s,\\phi,t \\right)}}{2}$"
      ],
      "text/plain": [
       "Eq(B_{+, z}^e(s, \\phi, t), sqrt(2)*I*B_{\\phi, z}^e(s, \\phi, t)/2 + sqrt(2)*B_{s, z}^e(s, \\phi, t)/2)"
      ]
     },
     "metadata": {},
     "output_type": "display_data"
    },
    {
     "data": {
      "text/latex": [
       "$\\displaystyle B_{-, z}^e{\\left(s,\\phi,t \\right)} = - \\frac{\\sqrt{2} i B_{\\phi, z}^e{\\left(s,\\phi,t \\right)}}{2} + \\frac{\\sqrt{2} B_{s, z}^e{\\left(s,\\phi,t \\right)}}{2}$"
      ],
      "text/plain": [
       "Eq(B_{-, z}^e(s, \\phi, t), -sqrt(2)*I*B_{\\phi, z}^e(s, \\phi, t)/2 + sqrt(2)*B_{s, z}^e(s, \\phi, t)/2)"
      ]
     },
     "metadata": {},
     "output_type": "display_data"
    },
    {
     "data": {
      "text/latex": [
       "$\\displaystyle B_{r1}{\\left(\\theta,\\phi,t \\right)} = B_{r1}{\\left(\\theta,\\phi,t \\right)}$"
      ],
      "text/plain": [
       "Eq(B_{r1}(\\theta, \\phi, t), B_{r1}(\\theta, \\phi, t))"
      ]
     },
     "metadata": {},
     "output_type": "display_data"
    },
    {
     "data": {
      "text/latex": [
       "$\\displaystyle B^{+}_{+}{\\left(s,\\phi,t \\right)} = \\frac{\\sqrt{2} i B^{+}_{\\phi}{\\left(s,\\phi,t \\right)}}{2} + \\frac{\\sqrt{2} B^{+}_{s}{\\left(s,\\phi,t \\right)}}{2}$"
      ],
      "text/plain": [
       "Eq(B_+^+(s, \\phi, t), sqrt(2)*I*B_\\phi^+(s, \\phi, t)/2 + sqrt(2)*B_s^+(s, \\phi, t)/2)"
      ]
     },
     "metadata": {},
     "output_type": "display_data"
    },
    {
     "data": {
      "text/latex": [
       "$\\displaystyle B^{+}_{-}{\\left(s,\\phi,t \\right)} = - \\frac{\\sqrt{2} i B^{+}_{\\phi}{\\left(s,\\phi,t \\right)}}{2} + \\frac{\\sqrt{2} B^{+}_{s}{\\left(s,\\phi,t \\right)}}{2}$"
      ],
      "text/plain": [
       "Eq(B_-^+(s, \\phi, t), -sqrt(2)*I*B_\\phi^+(s, \\phi, t)/2 + sqrt(2)*B_s^+(s, \\phi, t)/2)"
      ]
     },
     "metadata": {},
     "output_type": "display_data"
    },
    {
     "data": {
      "text/latex": [
       "$\\displaystyle B^{+}_{z}{\\left(s,\\phi,t \\right)} = B^{+}_{z}{\\left(s,\\phi,t \\right)}$"
      ],
      "text/plain": [
       "Eq(B_z^+(s, \\phi, t), B_z^+(s, \\phi, t))"
      ]
     },
     "metadata": {},
     "output_type": "display_data"
    },
    {
     "data": {
      "text/latex": [
       "$\\displaystyle B^{-}_{+}{\\left(s,\\phi,t \\right)} = \\frac{\\sqrt{2} i B^{-}_{\\phi}{\\left(s,\\phi,t \\right)}}{2} + \\frac{\\sqrt{2} B^{-}_{s}{\\left(s,\\phi,t \\right)}}{2}$"
      ],
      "text/plain": [
       "Eq(B_+^-(s, \\phi, t), sqrt(2)*I*B_\\phi^-(s, \\phi, t)/2 + sqrt(2)*B_s^-(s, \\phi, t)/2)"
      ]
     },
     "metadata": {},
     "output_type": "display_data"
    },
    {
     "data": {
      "text/latex": [
       "$\\displaystyle B^{-}_{-}{\\left(s,\\phi,t \\right)} = - \\frac{\\sqrt{2} i B^{-}_{\\phi}{\\left(s,\\phi,t \\right)}}{2} + \\frac{\\sqrt{2} B^{-}_{s}{\\left(s,\\phi,t \\right)}}{2}$"
      ],
      "text/plain": [
       "Eq(B_-^-(s, \\phi, t), -sqrt(2)*I*B_\\phi^-(s, \\phi, t)/2 + sqrt(2)*B_s^-(s, \\phi, t)/2)"
      ]
     },
     "metadata": {},
     "output_type": "display_data"
    },
    {
     "data": {
      "text/latex": [
       "$\\displaystyle B^{-}_{z}{\\left(s,\\phi,t \\right)} = B^{-}_{z}{\\left(s,\\phi,t \\right)}$"
      ],
      "text/plain": [
       "Eq(B_z^-(s, \\phi, t), B_z^-(s, \\phi, t))"
      ]
     },
     "metadata": {},
     "output_type": "display_data"
    }
   ],
   "source": [
    "import sympy\n",
    "\n",
    "cgvar_in_pgvar = core.PG_to_conjugate(core.pgvar)\n",
    "\n",
    "for field_name in core.cgvar._field_names:\n",
    "    display(sympy.Eq(core.cgvar[field_name], cgvar_in_pgvar[field_name].expand(), evaluate=False))"
   ]
  },
  {
   "cell_type": "markdown",
   "id": "48d9966d-f19f-41d7-905d-9e097e136be5",
   "metadata": {},
   "source": [
    "Similarly, `core.conjugate_to_PG` converts transformed/conjugate variables to PG counterparts."
   ]
  },
  {
   "cell_type": "code",
   "execution_count": 22,
   "id": "a456f556-f574-45b9-85a6-3f7e8f0c2cd4",
   "metadata": {},
   "outputs": [
    {
     "data": {
      "text/latex": [
       "$\\displaystyle \\Psi{\\left(s,\\phi,t \\right)} = \\Psi{\\left(s,\\phi,t \\right)}$"
      ],
      "text/plain": [
       "Eq(\\Psi(s, \\phi, t), \\Psi(s, \\phi, t))"
      ]
     },
     "metadata": {},
     "output_type": "display_data"
    },
    {
     "data": {
      "text/latex": [
       "$\\displaystyle \\overline{M_{ss}}{\\left(s,\\phi,t \\right)} = \\frac{\\overline{M_+}{\\left(s,\\phi,t \\right)}}{2} + \\frac{\\overline{M_-}{\\left(s,\\phi,t \\right)}}{2} + \\overline{M_1}{\\left(s,\\phi,t \\right)}$"
      ],
      "text/plain": [
       "Eq(\\overline{M_{ss}}(s, \\phi, t), \\overline{M_+}(s, \\phi, t)/2 + \\overline{M_-}(s, \\phi, t)/2 + \\overline{M_1}(s, \\phi, t))"
      ]
     },
     "metadata": {},
     "output_type": "display_data"
    },
    {
     "data": {
      "text/latex": [
       "$\\displaystyle \\overline{M_{\\phi\\phi}}{\\left(s,\\phi,t \\right)} = - \\frac{\\overline{M_+}{\\left(s,\\phi,t \\right)}}{2} - \\frac{\\overline{M_-}{\\left(s,\\phi,t \\right)}}{2} + \\overline{M_1}{\\left(s,\\phi,t \\right)}$"
      ],
      "text/plain": [
       "Eq(\\overline{M_{\\phi\\phi}}(s, \\phi, t), -\\overline{M_+}(s, \\phi, t)/2 - \\overline{M_-}(s, \\phi, t)/2 + \\overline{M_1}(s, \\phi, t))"
      ]
     },
     "metadata": {},
     "output_type": "display_data"
    },
    {
     "data": {
      "text/latex": [
       "$\\displaystyle \\overline{M_{s\\phi}}{\\left(s,\\phi,t \\right)} = - \\frac{i \\overline{M_+}{\\left(s,\\phi,t \\right)}}{2} + \\frac{i \\overline{M_-}{\\left(s,\\phi,t \\right)}}{2}$"
      ],
      "text/plain": [
       "Eq(\\overline{M_{s\\phi}}(s, \\phi, t), -I*\\overline{M_+}(s, \\phi, t)/2 + I*\\overline{M_-}(s, \\phi, t)/2)"
      ]
     },
     "metadata": {},
     "output_type": "display_data"
    },
    {
     "data": {
      "text/latex": [
       "$\\displaystyle \\widetilde{M_{sz}}{\\left(s,\\phi,t \\right)} = \\frac{\\sqrt{2} \\widetilde{M_{z+}}{\\left(s,\\phi,t \\right)}}{2} + \\frac{\\sqrt{2} \\widetilde{M_{z-}}{\\left(s,\\phi,t \\right)}}{2}$"
      ],
      "text/plain": [
       "Eq(\\widetilde{M_{sz}}(s, \\phi, t), sqrt(2)*\\widetilde{M_{z+}}(s, \\phi, t)/2 + sqrt(2)*\\widetilde{M_{z-}}(s, \\phi, t)/2)"
      ]
     },
     "metadata": {},
     "output_type": "display_data"
    },
    {
     "data": {
      "text/latex": [
       "$\\displaystyle \\widetilde{M_{\\phi z}}{\\left(s,\\phi,t \\right)} = - \\frac{\\sqrt{2} i \\widetilde{M_{z+}}{\\left(s,\\phi,t \\right)}}{2} + \\frac{\\sqrt{2} i \\widetilde{M_{z-}}{\\left(s,\\phi,t \\right)}}{2}$"
      ],
      "text/plain": [
       "Eq(\\widetilde{M_{\\phi z}}(s, \\phi, t), -sqrt(2)*I*\\widetilde{M_{z+}}(s, \\phi, t)/2 + sqrt(2)*I*\\widetilde{M_{z-}}(s, \\phi, t)/2)"
      ]
     },
     "metadata": {},
     "output_type": "display_data"
    },
    {
     "data": {
      "text/latex": [
       "$\\displaystyle \\widetilde{zM_{ss}}{\\left(s,\\phi,t \\right)} = \\frac{\\widetilde{zM_+}{\\left(s,\\phi,t \\right)}}{2} + \\frac{\\widetilde{zM_-}{\\left(s,\\phi,t \\right)}}{2} + \\widetilde{zM_1}{\\left(s,\\phi,t \\right)}$"
      ],
      "text/plain": [
       "Eq(\\widetilde{zM_{ss}}(s, \\phi, t), \\widetilde{zM_+}(s, \\phi, t)/2 + \\widetilde{zM_-}(s, \\phi, t)/2 + \\widetilde{zM_1}(s, \\phi, t))"
      ]
     },
     "metadata": {},
     "output_type": "display_data"
    },
    {
     "data": {
      "text/latex": [
       "$\\displaystyle \\widetilde{zM_{\\phi\\phi}}{\\left(s,\\phi,t \\right)} = - \\frac{\\widetilde{zM_+}{\\left(s,\\phi,t \\right)}}{2} - \\frac{\\widetilde{zM_-}{\\left(s,\\phi,t \\right)}}{2} + \\widetilde{zM_1}{\\left(s,\\phi,t \\right)}$"
      ],
      "text/plain": [
       "Eq(\\widetilde{zM_{\\phi\\phi}}(s, \\phi, t), -\\widetilde{zM_+}(s, \\phi, t)/2 - \\widetilde{zM_-}(s, \\phi, t)/2 + \\widetilde{zM_1}(s, \\phi, t))"
      ]
     },
     "metadata": {},
     "output_type": "display_data"
    },
    {
     "data": {
      "text/latex": [
       "$\\displaystyle \\widetilde{zM_{s\\phi}}{\\left(s,\\phi,t \\right)} = - \\frac{i \\widetilde{zM_+}{\\left(s,\\phi,t \\right)}}{2} + \\frac{i \\widetilde{zM_-}{\\left(s,\\phi,t \\right)}}{2}$"
      ],
      "text/plain": [
       "Eq(\\widetilde{zM_{s\\phi}}(s, \\phi, t), -I*\\widetilde{zM_+}(s, \\phi, t)/2 + I*\\widetilde{zM_-}(s, \\phi, t)/2)"
      ]
     },
     "metadata": {},
     "output_type": "display_data"
    },
    {
     "data": {
      "text/latex": [
       "$\\displaystyle B_{s}^e{\\left(s,\\phi,t \\right)} = \\frac{\\sqrt{2} B_{+}^e{\\left(s,\\phi,t \\right)}}{2} + \\frac{\\sqrt{2} B_{-}^e{\\left(s,\\phi,t \\right)}}{2}$"
      ],
      "text/plain": [
       "Eq(B_{s}^e(s, \\phi, t), sqrt(2)*B_{+}^e(s, \\phi, t)/2 + sqrt(2)*B_{-}^e(s, \\phi, t)/2)"
      ]
     },
     "metadata": {},
     "output_type": "display_data"
    },
    {
     "data": {
      "text/latex": [
       "$\\displaystyle B_{\\phi}^e{\\left(s,\\phi,t \\right)} = - \\frac{\\sqrt{2} i B_{+}^e{\\left(s,\\phi,t \\right)}}{2} + \\frac{\\sqrt{2} i B_{-}^e{\\left(s,\\phi,t \\right)}}{2}$"
      ],
      "text/plain": [
       "Eq(B_{\\phi}^e(s, \\phi, t), -sqrt(2)*I*B_{+}^e(s, \\phi, t)/2 + sqrt(2)*I*B_{-}^e(s, \\phi, t)/2)"
      ]
     },
     "metadata": {},
     "output_type": "display_data"
    },
    {
     "data": {
      "text/latex": [
       "$\\displaystyle B_{z}^e{\\left(s,\\phi,t \\right)} = B_{z}^e{\\left(s,\\phi,t \\right)}$"
      ],
      "text/plain": [
       "Eq(B_{z}^e(s, \\phi, t), B_{z}^e(s, \\phi, t))"
      ]
     },
     "metadata": {},
     "output_type": "display_data"
    },
    {
     "data": {
      "text/latex": [
       "$\\displaystyle B_{s, z}^e{\\left(s,\\phi,t \\right)} = \\frac{\\sqrt{2} B_{+, z}^e{\\left(s,\\phi,t \\right)}}{2} + \\frac{\\sqrt{2} B_{-, z}^e{\\left(s,\\phi,t \\right)}}{2}$"
      ],
      "text/plain": [
       "Eq(B_{s, z}^e(s, \\phi, t), sqrt(2)*B_{+, z}^e(s, \\phi, t)/2 + sqrt(2)*B_{-, z}^e(s, \\phi, t)/2)"
      ]
     },
     "metadata": {},
     "output_type": "display_data"
    },
    {
     "data": {
      "text/latex": [
       "$\\displaystyle B_{\\phi, z}^e{\\left(s,\\phi,t \\right)} = - \\frac{\\sqrt{2} i B_{+, z}^e{\\left(s,\\phi,t \\right)}}{2} + \\frac{\\sqrt{2} i B_{-, z}^e{\\left(s,\\phi,t \\right)}}{2}$"
      ],
      "text/plain": [
       "Eq(B_{\\phi, z}^e(s, \\phi, t), -sqrt(2)*I*B_{+, z}^e(s, \\phi, t)/2 + sqrt(2)*I*B_{-, z}^e(s, \\phi, t)/2)"
      ]
     },
     "metadata": {},
     "output_type": "display_data"
    },
    {
     "data": {
      "text/latex": [
       "$\\displaystyle B_{r1}{\\left(\\theta,\\phi,t \\right)} = B_{r1}{\\left(\\theta,\\phi,t \\right)}$"
      ],
      "text/plain": [
       "Eq(B_{r1}(\\theta, \\phi, t), B_{r1}(\\theta, \\phi, t))"
      ]
     },
     "metadata": {},
     "output_type": "display_data"
    },
    {
     "data": {
      "text/latex": [
       "$\\displaystyle B^{+}_{s}{\\left(s,\\phi,t \\right)} = \\frac{\\sqrt{2} B^{+}_{+}{\\left(s,\\phi,t \\right)}}{2} + \\frac{\\sqrt{2} B^{+}_{-}{\\left(s,\\phi,t \\right)}}{2}$"
      ],
      "text/plain": [
       "Eq(B_s^+(s, \\phi, t), sqrt(2)*B_+^+(s, \\phi, t)/2 + sqrt(2)*B_-^+(s, \\phi, t)/2)"
      ]
     },
     "metadata": {},
     "output_type": "display_data"
    },
    {
     "data": {
      "text/latex": [
       "$\\displaystyle B^{+}_{\\phi}{\\left(s,\\phi,t \\right)} = - \\frac{\\sqrt{2} i B^{+}_{+}{\\left(s,\\phi,t \\right)}}{2} + \\frac{\\sqrt{2} i B^{+}_{-}{\\left(s,\\phi,t \\right)}}{2}$"
      ],
      "text/plain": [
       "Eq(B_\\phi^+(s, \\phi, t), -sqrt(2)*I*B_+^+(s, \\phi, t)/2 + sqrt(2)*I*B_-^+(s, \\phi, t)/2)"
      ]
     },
     "metadata": {},
     "output_type": "display_data"
    },
    {
     "data": {
      "text/latex": [
       "$\\displaystyle B^{+}_{z}{\\left(s,\\phi,t \\right)} = B^{+}_{z}{\\left(s,\\phi,t \\right)}$"
      ],
      "text/plain": [
       "Eq(B_z^+(s, \\phi, t), B_z^+(s, \\phi, t))"
      ]
     },
     "metadata": {},
     "output_type": "display_data"
    },
    {
     "data": {
      "text/latex": [
       "$\\displaystyle B^{-}_{s}{\\left(s,\\phi,t \\right)} = \\frac{\\sqrt{2} B^{-}_{+}{\\left(s,\\phi,t \\right)}}{2} + \\frac{\\sqrt{2} B^{-}_{-}{\\left(s,\\phi,t \\right)}}{2}$"
      ],
      "text/plain": [
       "Eq(B_s^-(s, \\phi, t), sqrt(2)*B_+^-(s, \\phi, t)/2 + sqrt(2)*B_-^-(s, \\phi, t)/2)"
      ]
     },
     "metadata": {},
     "output_type": "display_data"
    },
    {
     "data": {
      "text/latex": [
       "$\\displaystyle B^{-}_{\\phi}{\\left(s,\\phi,t \\right)} = - \\frac{\\sqrt{2} i B^{-}_{+}{\\left(s,\\phi,t \\right)}}{2} + \\frac{\\sqrt{2} i B^{-}_{-}{\\left(s,\\phi,t \\right)}}{2}$"
      ],
      "text/plain": [
       "Eq(B_\\phi^-(s, \\phi, t), -sqrt(2)*I*B_+^-(s, \\phi, t)/2 + sqrt(2)*I*B_-^-(s, \\phi, t)/2)"
      ]
     },
     "metadata": {},
     "output_type": "display_data"
    },
    {
     "data": {
      "text/latex": [
       "$\\displaystyle B^{-}_{z}{\\left(s,\\phi,t \\right)} = B^{-}_{z}{\\left(s,\\phi,t \\right)}$"
      ],
      "text/plain": [
       "Eq(B_z^-(s, \\phi, t), B_z^-(s, \\phi, t))"
      ]
     },
     "metadata": {},
     "output_type": "display_data"
    }
   ],
   "source": [
    "import sympy\n",
    "\n",
    "pgvar_in_cgvar = core.conjugate_to_PG(core.cgvar)\n",
    "\n",
    "for field_name in core.pgvar._field_names:\n",
    "    display(sympy.Eq(core.pgvar[field_name], pgvar_in_cgvar[field_name].expand(), evaluate=False))"
   ]
  },
  {
   "cell_type": "markdown",
   "id": "d7c00749-7d7d-44e7-b528-d7113bed0fe5",
   "metadata": {},
   "source": [
    "The transforms `core.conjugate_to_PG` and `core.PG_to_conjugate` have several applications.\n",
    "- It is used in the module `core` to construct mappings from transformed variables (PG variables) to PG variables (transformed variables);\n",
    "- It is used in the module `equations` to derive the transformed equations from original PG equations;\n",
    "- It also works on numerical arrays, and can be used in post-processing to construct PG fields from transformed quantities."
   ]
  },
  {
   "cell_type": "code",
   "execution_count": null,
   "id": "b2451dcc-0996-446c-9226-afdb8daf8546",
   "metadata": {},
   "outputs": [],
   "source": []
  }
 ],
 "metadata": {
  "kernelspec": {
   "display_name": "Python3 (geomag)",
   "language": "python",
   "name": "geomag"
  },
  "language_info": {
   "codemirror_mode": {
    "name": "ipython",
    "version": 3
   },
   "file_extension": ".py",
   "mimetype": "text/x-python",
   "name": "python",
   "nbconvert_exporter": "python",
   "pygments_lexer": "ipython3",
   "version": "3.8.13"
  }
 },
 "nbformat": 4,
 "nbformat_minor": 5
}
