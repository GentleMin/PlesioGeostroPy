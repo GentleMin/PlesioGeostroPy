{
 "cells": [
  {
   "cell_type": "markdown",
   "id": "5d1b37a8-b27f-4a2b-848a-52a3fa2e63b5",
   "metadata": {},
   "source": [
    "# Project updates - *PlesioGeostroPy*\n",
    "\n",
    "---\n",
    "\n",
    "This notebook is an integral part of the `PlesioGeostroPy` project.\n",
    "\n",
    "This notebooks serves as the notebook for regular updates."
   ]
  },
  {
   "cell_type": "code",
   "execution_count": 39,
   "id": "cb210a53-028f-4a6f-a0db-7ae5be9888b3",
   "metadata": {},
   "outputs": [
    {
     "name": "stdout",
     "output_type": "stream",
     "text": [
      "The autoreload extension is already loaded. To reload it, use:\n",
      "  %reload_ext autoreload\n"
     ]
    }
   ],
   "source": [
    "%load_ext autoreload\n",
    "%autoreload 2\n",
    "\n",
    "import os, sys, h5py\n",
    "import numpy as np\n",
    "import sympy as sym\n",
    "import matplotlib.pyplot as plt\n",
    "\n",
    "from IPython.display import Image, display, Markdown\n",
    "root_dir = \".\"\n",
    "\n",
    "# The following 2 lines are a hack to import from parent directory\n",
    "# If the notebook is run in the root directory, comment out these 2 lines\n",
    "sys.path.append(os.path.dirname(os.getcwd()))\n",
    "root_dir = \"..\"\n",
    "\n",
    "from pg_utils.pg_model import core, base"
   ]
  },
  {
   "cell_type": "markdown",
   "id": "dccddc1e-1d2b-49ce-b8d7-e245a6cac32a",
   "metadata": {},
   "source": [
    "---\n",
    "## Choosing test functions\n",
    "\n",
    "*Update 15/05/2024*\n",
    "\n",
    "Background: we are solving the *reduced* system of equations in the Plesio-geostrophic system, in the form of:"
   ]
  },
  {
   "cell_type": "code",
   "execution_count": 40,
   "id": "2b1af726-9fbb-4bdd-a6dc-e4570b353aab",
   "metadata": {},
   "outputs": [
    {
     "data": {
      "text/latex": [
       "$\\displaystyle \\frac{\\partial}{\\partial t} \\psi{\\left(s,\\phi,t \\right)} = F_\\mathrm{ext}{\\left(s,\\phi,t \\right)} + L_{Cor}{\\left(\\psi{\\left(s,\\phi,t \\right)} \\right)}$"
      ],
      "text/plain": [
       "Eq(Derivative(\\psi(s, \\phi, t), t), F_\\mathrm{ext}(s, \\phi, t) + L_{Cor}(\\psi(s, \\phi, t)))"
      ]
     },
     "metadata": {},
     "output_type": "display_data"
    },
    {
     "data": {
      "text/latex": [
       "$\\displaystyle \\frac{\\partial}{\\partial t} F_\\mathrm{ext}{\\left(s,\\phi,t \\right)} = L_{F}{\\left(\\psi{\\left(s,\\phi,t \\right)} \\right)}$"
      ],
      "text/plain": [
       "Eq(Derivative(F_\\mathrm{ext}(s, \\phi, t), t), L_F(\\psi(s, \\phi, t)))"
      ]
     },
     "metadata": {},
     "output_type": "display_data"
    }
   ],
   "source": [
    "Lin_op_psi = sym.Function(r\"L_F\")(core.pgvar_ptb.Psi)\n",
    "Coriolis_psi = sym.Function(r\"L_{Cor}\")(core.pgvar_ptb.Psi)\n",
    "\n",
    "display(sym.Eq(sym.diff(core.reduced_var.Psi, core.t), Coriolis_psi + core.reduced_var.F_ext))\n",
    "display(sym.Eq(sym.diff(core.reduced_var.F_ext, core.t), Lin_op_psi))"
   ]
  },
  {
   "cell_type": "markdown",
   "id": "fef47f7f-ccba-4ae6-9278-5d5e751ad58f",
   "metadata": {},
   "source": [
    "In the Galerkin method formulation, we form the weak form using the test function denoted as $\\Psi^*$ and $F^*$:"
   ]
  },
  {
   "cell_type": "code",
   "execution_count": 41,
   "id": "c41554e5-339b-413c-9406-a9ff51b6a743",
   "metadata": {},
   "outputs": [
    {
     "data": {
      "text/latex": [
       "$\\displaystyle \\left\\langle \\Psi^{*}{\\left(s,\\phi \\right)} \\, , \\, \\frac{\\partial}{\\partial t} \\psi{\\left(s,\\phi,t \\right)} \\right\\rangle_{s} = \\left\\langle \\Psi^{*}{\\left(s,\\phi \\right)} \\, , \\, F_\\mathrm{ext}{\\left(s,\\phi,t \\right)} + L_{Cor}{\\left(\\psi{\\left(s,\\phi,t \\right)} \\right)} \\right\\rangle_{s}$"
      ],
      "text/plain": [
       "Eq(InnerProduct1D(\\Psi^*(s, \\phi), Derivative(\\psi(s, \\phi, t), t), 1, s, 0, 1), InnerProduct1D(\\Psi^*(s, \\phi), F_\\mathrm{ext}(s, \\phi, t) + L_{Cor}(\\psi(s, \\phi, t)), 1, s, 0, 1))"
      ]
     },
     "metadata": {},
     "output_type": "display_data"
    },
    {
     "data": {
      "text/latex": [
       "$\\displaystyle \\left\\langle F^{*}{\\left(s,\\phi \\right)} \\, , \\, F_\\mathrm{ext}{\\left(s,\\phi,t \\right)} \\right\\rangle_{s} = \\left\\langle F^{*}{\\left(s,\\phi \\right)} \\, , \\, L_{F}{\\left(\\psi{\\left(s,\\phi,t \\right)} \\right)} \\right\\rangle_{s}$"
      ],
      "text/plain": [
       "Eq(InnerProduct1D(F^*(s, \\phi), F_\\mathrm{ext}(s, \\phi, t), 1, s, 0, 1), InnerProduct1D(F^*(s, \\phi), L_F(\\psi(s, \\phi, t)), 1, s, 0, 1))"
      ]
     },
     "metadata": {},
     "output_type": "display_data"
    }
   ],
   "source": [
    "from pg_utils.pg_model import expansion as xpd\n",
    "\n",
    "Psi_test = sym.Function(r\"\\Psi^*\")(core.s, core.p)\n",
    "F_test = sym.Function(r\"F^*\")(core.s, core.p)\n",
    "\n",
    "display(sym.Eq(\n",
    "    xpd.InnerProduct1D(Psi_test, sym.diff(core.reduced_var.Psi, core.t), sym.S.One, core.s, sym.S.Zero, sym.S.One), \n",
    "    xpd.InnerProduct1D(Psi_test, Coriolis_psi + core.reduced_var.F_ext, sym.S.One, core.s, sym.S.Zero, sym.S.One)\n",
    "))\n",
    "display(sym.Eq(\n",
    "    xpd.InnerProduct1D(F_test, core.reduced_var.F_ext, sym.S.One, core.s, sym.S.Zero, sym.S.One), \n",
    "    xpd.InnerProduct1D(F_test, Lin_op_psi, sym.S.One, core.s, sym.S.Zero, sym.S.One)\n",
    "))"
   ]
  },
  {
   "cell_type": "markdown",
   "id": "3808e146-24a2-4874-960d-e3cb82984ec1",
   "metadata": {},
   "source": [
    "### Basis function\n",
    "\n",
    "If regular solution exists, prior knowledge on the function space of $\\Psi$ and $F$:\n",
    "- $\\Psi^m \\sim O(s^{|m|})$ at the origin ($s=0$);\n",
    "- $\\Psi^m \\sim O((1 - s^2)^{3/2})$ at the boundary ($s=1$);\n",
    "- $F^m \\sim O(s^{|m|+1})$ at the origin ($s=0$).\n",
    "\n",
    "Hence the spectral expansion:\n",
    "- $\\Psi^m = s^{|m|} (1 - s^2)^{3/2} p(s^2)$;\n",
    "- $F^m = s^{|m| + 1} p(s^2)$.\n",
    "\n",
    "### Test function\n",
    "\n",
    "We have some freedom as to what test functions to choose.\n",
    "\n",
    "Different choices of $\\Psi^*$ and $F^*$ yield (slightly) different convergence and results!"
   ]
  },
  {
   "cell_type": "markdown",
   "id": "ad7eb017-4229-4e4a-aa8d-d7324ab27e80",
   "metadata": {},
   "source": [
    "### Choice-1: the orthogonal basis"
   ]
  },
  {
   "cell_type": "code",
   "execution_count": 42,
   "id": "54bd7f80-dff6-4397-b53a-8e85643a1c58",
   "metadata": {},
   "outputs": [
    {
     "data": {
      "text/markdown": [
       "Basis functions:"
      ],
      "text/plain": [
       "<IPython.core.display.Markdown object>"
      ]
     },
     "metadata": {},
     "output_type": "display_data"
    },
    {
     "data": {
      "text/latex": [
       "$\\displaystyle \\Phi_{\\Psi}^{mn}{\\left(s \\right)} = s^{\\left|{m}\\right|} \\left(1 - s^{2}\\right)^{\\frac{3}{2}} P_{\\ell}^{\\left(\\frac{3}{2},\\left|{m}\\right|\\right)}\\left(2 s^{2} - 1\\right)$"
      ],
      "text/plain": [
       "Eq(\\Phi_{\\Psi}^{mn}(s), s**Abs(m)*(1 - s**2)**(3/2)*jacobi(\\ell, 3/2, Abs(m), 2*s**2 - 1))"
      ]
     },
     "metadata": {},
     "output_type": "display_data"
    },
    {
     "data": {
      "text/latex": [
       "$\\displaystyle \\Phi_{F}^{mn}{\\left(s \\right)} = s^{\\left|{m}\\right| + 1} P_{\\ell}^{\\left(0,\\left|{m}\\right| + \\frac{1}{2}\\right)}\\left(2 s^{2} - 1\\right)$"
      ],
      "text/plain": [
       "Eq(\\Phi_{F}^{mn}(s), s**(Abs(m) + 1)*jacobi(\\ell, 0, Abs(m) + 1/2, 2*s**2 - 1))"
      ]
     },
     "metadata": {},
     "output_type": "display_data"
    },
    {
     "data": {
      "text/markdown": [
       "Test functions:"
      ],
      "text/plain": [
       "<IPython.core.display.Markdown object>"
      ]
     },
     "metadata": {},
     "output_type": "display_data"
    },
    {
     "data": {
      "text/latex": [
       "$\\displaystyle \\Phi_{\\Psi}^{mn'}{\\left(s \\right)} = s^{\\left|{m}\\right|} \\left(1 - s^{2}\\right)^{\\frac{3}{2}} P_{\\ell'}^{\\left(\\frac{3}{2},\\left|{m}\\right|\\right)}\\left(2 s^{2} - 1\\right)$"
      ],
      "text/plain": [
       "Eq(\\Phi_{\\Psi}^{mn'}(s), s**Abs(m)*(1 - s**2)**(3/2)*jacobi(\\ell', 3/2, Abs(m), 2*s**2 - 1))"
      ]
     },
     "metadata": {},
     "output_type": "display_data"
    },
    {
     "data": {
      "text/latex": [
       "$\\displaystyle \\Phi_{F}^{mn'}{\\left(s \\right)} = s^{\\left|{m}\\right| + 1} P_{\\ell'}^{\\left(0,\\left|{m}\\right| + \\frac{1}{2}\\right)}\\left(2 s^{2} - 1\\right)$"
      ],
      "text/plain": [
       "Eq(\\Phi_{F}^{mn'}(s), s**(Abs(m) + 1)*jacobi(\\ell', 0, Abs(m) + 1/2, 2*s**2 - 1))"
      ]
     },
     "metadata": {},
     "output_type": "display_data"
    }
   ],
   "source": [
    "from pg_utils.pg_model import expand_stream_force_orth as xpd_cfg\n",
    "\n",
    "display(Markdown(\"Basis functions:\"))\n",
    "\n",
    "display(sym.Eq(xpd_cfg.bases_s.Psi, xpd_cfg.recipe.base_expr[xpd_cfg.bases_s.Psi]))\n",
    "display(sym.Eq(xpd_cfg.bases_s.F_ext, xpd_cfg.recipe.base_expr[xpd_cfg.bases_s.F_ext]))\n",
    "\n",
    "display(Markdown(\"Test functions:\"))\n",
    "\n",
    "display(sym.Eq(xpd_cfg.test_s.Psi, xpd_cfg.recipe.test_expr[xpd_cfg.test_s.Psi]))\n",
    "display(sym.Eq(xpd_cfg.test_s.F_ext, xpd_cfg.recipe.test_expr[xpd_cfg.test_s.F_ext]))"
   ]
  },
  {
   "cell_type": "markdown",
   "id": "0fea962f-384c-4c7e-9021-839ae68adf79",
   "metadata": {},
   "source": [
    "The result is \n",
    "\n",
    "<table><tr>\n",
    "<td> <img src=\"../out/eigen/Poloidal_Dipole/Reduced/mode-s_radial_m3n5_N80.png\" alt=\"T1-QP\" style=\"width: 1000px;\"/> </td>\n",
    "</tr></table>"
   ]
  },
  {
   "cell_type": "markdown",
   "id": "2361a02b-835a-4b83-91e4-1391b348c4ce",
   "metadata": {},
   "source": [
    "### Choice-2: a *compact* expression"
   ]
  },
  {
   "cell_type": "code",
   "execution_count": 43,
   "id": "dfa2276c-8868-4309-b73b-206cfdd01459",
   "metadata": {
    "tags": []
   },
   "outputs": [
    {
     "data": {
      "text/markdown": [
       "Basis functions:"
      ],
      "text/plain": [
       "<IPython.core.display.Markdown object>"
      ]
     },
     "metadata": {},
     "output_type": "display_data"
    },
    {
     "data": {
      "text/latex": [
       "$\\displaystyle \\Phi_{\\Psi}^{mn}{\\left(s \\right)} = s^{\\left|{m}\\right|} \\left(1 - s^{2}\\right)^{\\frac{3}{2}} P_{\\ell}^{\\left(\\frac{3}{2},\\left|{m}\\right|\\right)}\\left(2 s^{2} - 1\\right)$"
      ],
      "text/plain": [
       "Eq(\\Phi_{\\Psi}^{mn}(s), s**Abs(m)*(1 - s**2)**(3/2)*jacobi(\\ell, 3/2, Abs(m), 2*s**2 - 1))"
      ]
     },
     "metadata": {},
     "output_type": "display_data"
    },
    {
     "data": {
      "text/latex": [
       "$\\displaystyle \\Phi_{F}^{mn}{\\left(s \\right)} = s^{\\left|{m}\\right| + 1} P_{\\ell}^{\\left(\\frac{3}{2},\\left|{m}\\right|\\right)}\\left(2 s^{2} - 1\\right)$"
      ],
      "text/plain": [
       "Eq(\\Phi_{F}^{mn}(s), s**(Abs(m) + 1)*jacobi(\\ell, 3/2, Abs(m), 2*s**2 - 1))"
      ]
     },
     "metadata": {},
     "output_type": "display_data"
    },
    {
     "data": {
      "text/markdown": [
       "Test functions:"
      ],
      "text/plain": [
       "<IPython.core.display.Markdown object>"
      ]
     },
     "metadata": {},
     "output_type": "display_data"
    },
    {
     "data": {
      "text/latex": [
       "$\\displaystyle \\Phi_{\\Psi}^{mn'}{\\left(s \\right)} = s^{\\left|{m}\\right|} \\left(1 - s^{2}\\right)^{\\frac{3}{2}} P_{\\ell'}^{\\left(\\frac{3}{2},\\left|{m}\\right|\\right)}\\left(2 s^{2} - 1\\right)$"
      ],
      "text/plain": [
       "Eq(\\Phi_{\\Psi}^{mn'}(s), s**Abs(m)*(1 - s**2)**(3/2)*jacobi(\\ell', 3/2, Abs(m), 2*s**2 - 1))"
      ]
     },
     "metadata": {},
     "output_type": "display_data"
    },
    {
     "data": {
      "text/latex": [
       "$\\displaystyle \\Phi_{F}^{mn'}{\\left(s \\right)} = s^{\\left|{m}\\right|} \\left(1 - s^{2}\\right)^{\\frac{3}{2}} P_{\\ell'}^{\\left(\\frac{3}{2},\\left|{m}\\right|\\right)}\\left(2 s^{2} - 1\\right)$"
      ],
      "text/plain": [
       "Eq(\\Phi_{F}^{mn'}(s), s**Abs(m)*(1 - s**2)**(3/2)*jacobi(\\ell', 3/2, Abs(m), 2*s**2 - 1))"
      ]
     },
     "metadata": {},
     "output_type": "display_data"
    }
   ],
   "source": [
    "from pg_utils.pg_model import expand_stream_force_cpt as xpd_cfg\n",
    "\n",
    "display(Markdown(\"Basis functions:\"))\n",
    "\n",
    "display(sym.Eq(xpd_cfg.bases_s.Psi, xpd_cfg.recipe.base_expr[xpd_cfg.bases_s.Psi]))\n",
    "display(sym.Eq(xpd_cfg.bases_s.F_ext, xpd_cfg.recipe.base_expr[xpd_cfg.bases_s.F_ext]))\n",
    "\n",
    "display(Markdown(\"Test functions:\"))\n",
    "\n",
    "display(sym.Eq(xpd_cfg.test_s.Psi, xpd_cfg.recipe.test_expr[xpd_cfg.test_s.Psi]))\n",
    "display(sym.Eq(xpd_cfg.test_s.F_ext, xpd_cfg.recipe.test_expr[xpd_cfg.test_s.F_ext]))"
   ]
  },
  {
   "cell_type": "markdown",
   "id": "828e1163-1e2d-473c-8d11-3ce992290ddf",
   "metadata": {},
   "source": [
    "The result is \n",
    "\n",
    "<table><tr>\n",
    "<td> <img src=\"../out/eigen/Poloidal_Dipole/Reduced/mode-s_radial_m3n5_N80_cpt.png\" alt=\"T1-QP\" style=\"width: 1000px;\"/> </td>\n",
    "</tr></table>"
   ]
  },
  {
   "cell_type": "markdown",
   "id": "55f7825a-4e0f-4ec0-a8f8-a1a29558e349",
   "metadata": {},
   "source": [
    "### Choice-3: a *hybrid* expression\n",
    "\n",
    "In addition to using different test functions, choices 1 and 2 also slightly modify the basis function for $F$ for orthogonality, although they both form the same function space.\n",
    "\n",
    "The 3rd formulatio:\n",
    "- basis function from choice 2\n",
    "- test function from choice 1\n",
    "- No longer diagonal mass matrix"
   ]
  },
  {
   "cell_type": "code",
   "execution_count": 33,
   "id": "778ebc5a-e7a8-4644-8707-07e550c1151b",
   "metadata": {},
   "outputs": [
    {
     "data": {
      "text/markdown": [
       "Basis functions:"
      ],
      "text/plain": [
       "<IPython.core.display.Markdown object>"
      ]
     },
     "metadata": {},
     "output_type": "display_data"
    },
    {
     "data": {
      "text/latex": [
       "$\\displaystyle \\Phi_{\\Psi}^{mn}{\\left(s \\right)} = s^{\\left|{m}\\right|} \\left(1 - s^{2}\\right)^{\\frac{3}{2}} P_{\\ell}^{\\left(\\frac{3}{2},\\left|{m}\\right|\\right)}\\left(2 s^{2} - 1\\right)$"
      ],
      "text/plain": [
       "Eq(\\Phi_{\\Psi}^{mn}(s), s**Abs(m)*(1 - s**2)**(3/2)*jacobi(\\ell, 3/2, Abs(m), 2*s**2 - 1))"
      ]
     },
     "metadata": {},
     "output_type": "display_data"
    },
    {
     "data": {
      "text/latex": [
       "$\\displaystyle \\Phi_{F}^{mn}{\\left(s \\right)} = s^{\\left|{m}\\right| + 1} P_{\\ell}^{\\left(\\frac{3}{2},\\left|{m}\\right|\\right)}\\left(2 s^{2} - 1\\right)$"
      ],
      "text/plain": [
       "Eq(\\Phi_{F}^{mn}(s), s**(Abs(m) + 1)*jacobi(\\ell, 3/2, Abs(m), 2*s**2 - 1))"
      ]
     },
     "metadata": {},
     "output_type": "display_data"
    },
    {
     "data": {
      "text/markdown": [
       "Test functions:"
      ],
      "text/plain": [
       "<IPython.core.display.Markdown object>"
      ]
     },
     "metadata": {},
     "output_type": "display_data"
    },
    {
     "data": {
      "text/latex": [
       "$\\displaystyle \\Phi_{\\Psi}^{mn'}{\\left(s \\right)} = s^{\\left|{m}\\right|} \\left(1 - s^{2}\\right)^{\\frac{3}{2}} P_{\\ell'}^{\\left(\\frac{3}{2},\\left|{m}\\right|\\right)}\\left(2 s^{2} - 1\\right)$"
      ],
      "text/plain": [
       "Eq(\\Phi_{\\Psi}^{mn'}(s), s**Abs(m)*(1 - s**2)**(3/2)*jacobi(\\ell', 3/2, Abs(m), 2*s**2 - 1))"
      ]
     },
     "metadata": {},
     "output_type": "display_data"
    },
    {
     "data": {
      "text/latex": [
       "$\\displaystyle \\Phi_{F}^{mn'}{\\left(s \\right)} = s^{\\left|{m}\\right| + 1} P_{\\ell'}^{\\left(0,\\left|{m}\\right| + \\frac{1}{2}\\right)}\\left(2 s^{2} - 1\\right)$"
      ],
      "text/plain": [
       "Eq(\\Phi_{F}^{mn'}(s), s**(Abs(m) + 1)*jacobi(\\ell', 0, Abs(m) + 1/2, 2*s**2 - 1))"
      ]
     },
     "metadata": {},
     "output_type": "display_data"
    }
   ],
   "source": [
    "from pg_utils.pg_model import expand_stream_force_hybrid as xpd_cfg\n",
    "\n",
    "display(Markdown(\"Basis functions:\"))\n",
    "\n",
    "display(sym.Eq(xpd_cfg.bases_s.Psi, xpd_cfg.recipe.base_expr[xpd_cfg.bases_s.Psi]))\n",
    "display(sym.Eq(xpd_cfg.bases_s.F_ext, xpd_cfg.recipe.base_expr[xpd_cfg.bases_s.F_ext]))\n",
    "\n",
    "display(Markdown(\"Test functions:\"))\n",
    "\n",
    "display(sym.Eq(xpd_cfg.test_s.Psi, xpd_cfg.recipe.test_expr[xpd_cfg.test_s.Psi]))\n",
    "display(sym.Eq(xpd_cfg.test_s.F_ext, xpd_cfg.recipe.test_expr[xpd_cfg.test_s.F_ext]))"
   ]
  },
  {
   "cell_type": "markdown",
   "id": "63792297-e1e4-49e3-aa18-bde5a2896667",
   "metadata": {},
   "source": [
    "The result is \n",
    "\n",
    "<table><tr>\n",
    "<td> <img src=\"../out/eigen/Poloidal_Dipole/Reduced/mode-s_radial_m3n5_N80_hybrid.png\" alt=\"T1-QP\" style=\"width: 1000px;\"/> </td>\n",
    "</tr></table>"
   ]
  },
  {
   "cell_type": "code",
   "execution_count": 44,
   "id": "dde4e073-57b4-434f-9937-5e9dde89a334",
   "metadata": {},
   "outputs": [
    {
     "data": {
      "application/vnd.jupyter.widget-view+json": {
       "model_id": "56f8fee3675c4e5cb442011735b3c4ca",
       "version_major": 2,
       "version_minor": 0
      },
      "image/png": "[encoded data removed]",
      "text/html": [
       "\n",
       "            <div style=\"display: inline-block;\">\n",
       "                <div class=\"jupyter-widgets widget-label\" style=\"text-align: center;\">\n",
       "                    Figure\n",
       "                </div>\n",
       "                <img src='data:image/png;base64,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' width=1500.0/>\n",
       "            </div>\n",
       "        "
      ],
      "text/plain": [
       "Canvas(toolbar=Toolbar(toolitems=[('Home', 'Reset original view', 'home', 'home'), ('Back', 'Back to previous …"
      ]
     },
     "metadata": {},
     "output_type": "display_data"
    }
   ],
   "source": [
    "from pg_utils.numerics import io as num_io\n",
    "\n",
    "matrix_file = \"out/eigen/Poloidal_Dipole/Reduced/matrix_m3_Le1e-4_N80_p113_hybrid.h5\"\n",
    "\n",
    "with h5py.File(os.path.join(root_dir, matrix_file), 'r') as fread:\n",
    "    M_tmp = num_io.matrix_load_from_group(fread[\"M\"])\n",
    "    K_tmp = num_io.matrix_load_from_group(fread[\"K\"])\n",
    "    if not isinstance(M_tmp, np.ndarray):\n",
    "        M_tmp = M_tmp.todense()\n",
    "        K_tmp = K_tmp.todense()\n",
    "\n",
    "visual_prec = 1e-25\n",
    "fig, axes = plt.subplots(nrows=1, ncols=2, figsize=(15, 6))\n",
    "\n",
    "ax = axes[0]\n",
    "ax.spy(M_tmp, precision=visual_prec)\n",
    "ax.set_title(r\"$\\mathbf{M}$\", fontsize=16)\n",
    "# ax.set_xlim([700, 900])\n",
    "# ax.set_ylim([900, 700])\n",
    "\n",
    "ax = axes[1]\n",
    "ax.spy(K_tmp, precision=visual_prec)\n",
    "ax.set_title(r\"$\\mathbf{K}$\", fontsize=16)\n",
    "\n",
    "plt.tight_layout()\n",
    "plt.show()"
   ]
  },
  {
   "cell_type": "code",
   "execution_count": null,
   "id": "41bf3495-7fd7-421a-b039-a4d4cd9dbc6a",
   "metadata": {},
   "outputs": [],
   "source": []
  }
 ],
 "metadata": {
  "kernelspec": {
   "display_name": "Python3 (geomag)",
   "language": "python",
   "name": "geomag"
  },
  "language_info": {
   "codemirror_mode": {
    "name": "ipython",
    "version": 3
   },
   "file_extension": ".py",
   "mimetype": "text/x-python",
   "name": "python",
   "nbconvert_exporter": "python",
   "pygments_lexer": "ipython3",
   "version": "3.8.13"
  },
  "toc-autonumbering": false
 },
 "nbformat": 4,
 "nbformat_minor": 5
}
