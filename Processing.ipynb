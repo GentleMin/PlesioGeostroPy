{
 "cells": [
  {
   "cell_type": "markdown",
   "id": "8cbb1307-3f1c-4707-888a-b0173c20d27b",
   "metadata": {},
   "source": [
    "# One-time processing"
   ]
  },
  {
   "cell_type": "code",
   "execution_count": 1,
   "id": "d8159498-6710-4fc6-a316-9e9c4c8e4532",
   "metadata": {},
   "outputs": [],
   "source": [
    "%load_ext autoreload\n",
    "%autoreload 2"
   ]
  },
  {
   "cell_type": "markdown",
   "id": "036f56c7-b149-44ab-8730-aa5158b565c8",
   "metadata": {},
   "source": [
    "## Computing and saving equations"
   ]
  },
  {
   "cell_type": "code",
   "execution_count": 3,
   "id": "fe0c8aa4-b929-4aa2-b635-3cc74e139ed7",
   "metadata": {},
   "outputs": [],
   "source": [
    "import pg_utils.pg_model.equations as pgeq\n",
    "\n",
    "def display_equality(lhs, rhs, _filter=lambda lhs, rhs, idx: True):\n",
    "    display(*(sympy.Eq(lhs_tmp, rhs[idx]) for idx, lhs_tmp in enumerate(lhs) if _filter(lhs_tmp, rhs[idx], idx)))\n",
    "\n",
    "def display_eqs(eqs, _filter=lambda eq, idx: True):\n",
    "    display(*(eq for idx, eq in enumerate(eqs) if _filter(eq, idx)))"
   ]
  },
  {
   "cell_type": "markdown",
   "id": "3e05801e-d56a-4619-85e5-5130e4e8d2e8",
   "metadata": {},
   "source": [
    "Save to files"
   ]
  },
  {
   "cell_type": "code",
   "execution_count": 4,
   "id": "00dd2109-6a1a-489f-ad35-eb33571ef335",
   "metadata": {},
   "outputs": [],
   "source": [
    "import sympy\n",
    "\n",
    "pg_fname = \"./out/symbolic/eqs_pg.json\"\n",
    "pg_lin_fname = \"./out/symbolic/eqs_pg_lin.json\"\n",
    "cg_fname = \"./out/symbolic/eqs_cg.json\"\n",
    "cg_lin_fname = \"./out/symbolic/eqs_cg_lin.json\"\n",
    "\n",
    "if pg_fname is not None:\n",
    "    with open(pg_fname, 'x') as fwrite:\n",
    "        pgeq.eqs_pg.save_json(fwrite, serializer=sympy.srepr)\n",
    "if pg_lin_fname is not None:\n",
    "    with open(pg_lin_fname, 'x') as fwrite:\n",
    "        pgeq.eqs_pg_lin.save_json(fwrite, serializer=sympy.srepr)\n",
    "if cg_fname is not None:\n",
    "    with open(cg_fname, 'x') as fwrite:\n",
    "        pgeq.eqs_cg.save_json(fwrite, serializer=sympy.srepr)\n",
    "if cg_lin_fname is not None:\n",
    "    with open(cg_lin_fname, 'x') as fwrite:\n",
    "        pgeq.eqs_cg_lin.save_json(fwrite, serializer=sympy.srepr)"
   ]
  },
  {
   "cell_type": "code",
   "execution_count": null,
   "id": "61bbffab-7208-4f8f-92b3-331ac7c693a0",
   "metadata": {},
   "outputs": [],
   "source": []
  }
 ],
 "metadata": {
  "kernelspec": {
   "display_name": "Python3 (geomag)",
   "language": "python",
   "name": "geomag"
  },
  "language_info": {
   "codemirror_mode": {
    "name": "ipython",
    "version": 3
   },
   "file_extension": ".py",
   "mimetype": "text/x-python",
   "name": "python",
   "nbconvert_exporter": "python",
   "pygments_lexer": "ipython3",
   "version": "3.8.13"
  }
 },
 "nbformat": 4,
 "nbformat_minor": 5
}
