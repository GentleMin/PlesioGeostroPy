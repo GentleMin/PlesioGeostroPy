{
 "cells": [
  {
   "cell_type": "markdown",
   "id": "899d2435-6643-4738-8de8-4366ab5ca816",
   "metadata": {},
   "source": [
    "# Postprocessing for the eigenvalue solutions"
   ]
  },
  {
   "cell_type": "code",
   "execution_count": 60,
   "id": "6ae1a595-2199-4e48-8de9-ce30c3508f4c",
   "metadata": {},
   "outputs": [
    {
     "name": "stdout",
     "output_type": "stream",
     "text": [
      "The autoreload extension is already loaded. To reload it, use:\n",
      "  %reload_ext autoreload\n"
     ]
    }
   ],
   "source": [
    "%load_ext autoreload\n",
    "%autoreload 2\n",
    "\n",
    "import numpy as np\n",
    "import pandas as pd\n",
    "import matplotlib.pyplot as plt\n",
    "import h5py\n",
    "import os"
   ]
  },
  {
   "cell_type": "markdown",
   "id": "238d7c27-7fed-4d3f-ab97-44e6a9ddd813",
   "metadata": {},
   "source": [
    "## Compare eigenvalues\n",
    "\n",
    "Read in eigenvalue solutions"
   ]
  },
  {
   "cell_type": "code",
   "execution_count": 3,
   "id": "1afcd904-1dfa-49f7-b457-9157ff2064c0",
   "metadata": {},
   "outputs": [],
   "source": [
    "solution_file_list = [\n",
    "    \"./out/solutions/Malkus/Eigen_recipe-Daria_mm.hdf5\", \n",
    "    \"./out/solutions/Malkus/Eigen_recipe-Daria.h5\", \n",
    "    \"./out/solutions/Malkus/Eigen_recipe-Daria_scipy.h5\"\n",
    "]\n",
    "src_names = [\n",
    "    \"Code Daria Mathematica\", \n",
    "    \"PlesioGeostroPy-mp32\", \n",
    "    \"PlesioGeostroPy-scipy\"\n",
    "]\n",
    "\n",
    "solution_list = list()\n",
    "for idx, fname in enumerate(solution_file_list):\n",
    "    with h5py.File(fname, 'r') as f:\n",
    "        solution_list.append(f[\"eigval\"][()])"
   ]
  },
  {
   "cell_type": "markdown",
   "id": "759be3b2-8731-4171-ba42-f6676d2cff02",
   "metadata": {},
   "source": [
    "For Mathematica outputs, must convert to imaginary"
   ]
  },
  {
   "cell_type": "code",
   "execution_count": 10,
   "id": "d3384fde-4707-49bd-9a68-262fded41246",
   "metadata": {},
   "outputs": [],
   "source": [
    "solution_list[0] = 1j*solution_list[0]"
   ]
  },
  {
   "cell_type": "markdown",
   "id": "0c125f71-ad58-4edf-b9b8-4f76b92716f2",
   "metadata": {},
   "source": [
    "Sort east/west modes"
   ]
  },
  {
   "cell_type": "code",
   "execution_count": 54,
   "id": "d22b4e96-8fd4-4182-8515-b495c6b58032",
   "metadata": {},
   "outputs": [],
   "source": [
    "df_east = pd.DataFrame()\n",
    "df_west = pd.DataFrame()\n",
    "\n",
    "for idx, srcname in enumerate(src_names):\n",
    "    eig_val_tmp = solution_list[idx]\n",
    "    eigidx_east = np.arange(eig_val_tmp.size)[np.imag(eig_val_tmp) < -1e-3]\n",
    "    eigidx_west = np.arange(eig_val_tmp.size)[np.imag(eig_val_tmp) > +1e-3]\n",
    "    df_east[srcname] = eig_val_tmp[eigidx_east]\n",
    "    df_west[srcname] = eig_val_tmp[eigidx_west]"
   ]
  },
  {
   "cell_type": "markdown",
   "id": "0bd62a94-22a2-40c1-a690-e907dc70dde4",
   "metadata": {},
   "source": [
    "Load analytical"
   ]
  },
  {
   "cell_type": "code",
   "execution_count": 55,
   "id": "246e37fc-53bd-477b-bf82-4ea38f679ebc",
   "metadata": {},
   "outputs": [],
   "source": [
    "from pg_utils.numerics import utils as nutils\n",
    "\n",
    "n_eigs = np.arange(1, 7)\n",
    "omega_fast, omega_slow = nutils.eigenfreq_Malkus_pg(3, n_eigs, 1e-4, mode=\"all\", timescale=\"alfven\")\n",
    "\n",
    "df_east[\"Analytic PG\"] = omega_fast*1j\n",
    "df_west[\"Analytic PG\"] = np.flip(omega_slow)*1j\n",
    "\n",
    "omega_fast, omega_slow = nutils.eigenfreq_Malkus_3d(3, n_eigs, 1e-4, mode=\"all\", timescale=\"alfven\")\n",
    "\n",
    "df_east[\"Analytic 3D\"] = omega_fast*1j\n",
    "df_west[\"Analytic 3D\"] = np.flip(omega_slow)*1j"
   ]
  },
  {
   "cell_type": "markdown",
   "id": "25306683-7eb2-469a-aa56-1986335324ea",
   "metadata": {},
   "source": [
    "Output"
   ]
  },
  {
   "cell_type": "code",
   "execution_count": 56,
   "id": "a6da1403-7447-43dd-abdf-09a81e12c649",
   "metadata": {},
   "outputs": [
    {
     "data": {
      "text/html": [
       "<style type=\"text/css\">\n",
       "</style>\n",
       "<table id=\"T_af307\">\n",
       "  <thead>\n",
       "    <tr>\n",
       "      <th class=\"blank level0\" >&nbsp;</th>\n",
       "      <th id=\"T_af307_level0_col0\" class=\"col_heading level0 col0\" >0</th>\n",
       "      <th id=\"T_af307_level0_col1\" class=\"col_heading level0 col1\" >1</th>\n",
       "      <th id=\"T_af307_level0_col2\" class=\"col_heading level0 col2\" >2</th>\n",
       "      <th id=\"T_af307_level0_col3\" class=\"col_heading level0 col3\" >3</th>\n",
       "      <th id=\"T_af307_level0_col4\" class=\"col_heading level0 col4\" >4</th>\n",
       "      <th id=\"T_af307_level0_col5\" class=\"col_heading level0 col5\" >5</th>\n",
       "    </tr>\n",
       "  </thead>\n",
       "  <tbody>\n",
       "    <tr>\n",
       "      <th id=\"T_af307_level0_row0\" class=\"row_heading level0 row0\" >Code Daria Mathematica</th>\n",
       "      <td id=\"T_af307_row0_col0\" class=\"data row0 col0\" >1.203e-34,-2.35294530e+03j</td>\n",
       "      <td id=\"T_af307_row0_col1\" class=\"data row0 col1\" >4.187e-35,-1.16505657e+03j</td>\n",
       "      <td id=\"T_af307_row0_col2\" class=\"data row0 col2\" >-3.049e-35,-7.01767510e+02j</td>\n",
       "      <td id=\"T_af307_row0_col3\" class=\"data row0 col3\" >-5.118e-35,-4.70607646e+02j</td>\n",
       "      <td id=\"T_af307_row0_col4\" class=\"data row0 col4\" >-2.117e-35,-3.38055029e+02j</td>\n",
       "      <td id=\"T_af307_row0_col5\" class=\"data row0 col5\" >-2.407e-34,-2.54812467e+02j</td>\n",
       "    </tr>\n",
       "    <tr>\n",
       "      <th id=\"T_af307_level0_row1\" class=\"row_heading level0 row1\" >PlesioGeostroPy-mp32</th>\n",
       "      <td id=\"T_af307_row1_col0\" class=\"data row1 col0\" >0.000e+00,-2.35294530e+03j</td>\n",
       "      <td id=\"T_af307_row1_col1\" class=\"data row1 col1\" >2.012e-21,-1.16505657e+03j</td>\n",
       "      <td id=\"T_af307_row1_col2\" class=\"data row1 col2\" >1.137e-13,-7.01767503e+02j</td>\n",
       "      <td id=\"T_af307_row1_col3\" class=\"data row1 col3\" >6.348e-15,-4.70607630e+02j</td>\n",
       "      <td id=\"T_af307_row1_col4\" class=\"data row1 col4\" >8.543e-14,-3.38054994e+02j</td>\n",
       "      <td id=\"T_af307_row1_col5\" class=\"data row1 col5\" >9.812e-17,-2.54812400e+02j</td>\n",
       "    </tr>\n",
       "    <tr>\n",
       "      <th id=\"T_af307_level0_row2\" class=\"row_heading level0 row2\" >PlesioGeostroPy-scipy</th>\n",
       "      <td id=\"T_af307_row2_col0\" class=\"data row2 col0\" >0.000e+00,-2.35294530e+03j</td>\n",
       "      <td id=\"T_af307_row2_col1\" class=\"data row2 col1\" >-3.309e-21,-1.16505657e+03j</td>\n",
       "      <td id=\"T_af307_row2_col2\" class=\"data row2 col2\" >2.274e-13,-7.01767503e+02j</td>\n",
       "      <td id=\"T_af307_row2_col3\" class=\"data row2 col3\" >9.263e-14,-4.70607630e+02j</td>\n",
       "      <td id=\"T_af307_row2_col4\" class=\"data row2 col4\" >7.446e-14,-3.38054994e+02j</td>\n",
       "      <td id=\"T_af307_row2_col5\" class=\"data row2 col5\" >-6.472e-16,-2.54812400e+02j</td>\n",
       "    </tr>\n",
       "    <tr>\n",
       "      <th id=\"T_af307_level0_row3\" class=\"row_heading level0 row3\" >Analytic PG</th>\n",
       "      <td id=\"T_af307_row3_col0\" class=\"data row3 col0\" >-0.000e+00,-2.35294530e+03j</td>\n",
       "      <td id=\"T_af307_row3_col1\" class=\"data row3 col1\" >-0.000e+00,-1.16505657e+03j</td>\n",
       "      <td id=\"T_af307_row3_col2\" class=\"data row3 col2\" >-0.000e+00,-7.01767511e+02j</td>\n",
       "      <td id=\"T_af307_row3_col3\" class=\"data row3 col3\" >-0.000e+00,-4.70607659e+02j</td>\n",
       "      <td id=\"T_af307_row3_col4\" class=\"data row3 col4\" >-0.000e+00,-3.38055092e+02j</td>\n",
       "      <td id=\"T_af307_row3_col5\" class=\"data row3 col5\" >-0.000e+00,-2.54812690e+02j</td>\n",
       "    </tr>\n",
       "    <tr>\n",
       "      <th id=\"T_af307_level0_row4\" class=\"row_heading level0 row4\" >Analytic 3D</th>\n",
       "      <td id=\"T_af307_row4_col0\" class=\"data row4 col0\" >-0.000e+00,-2.53197650e+03j</td>\n",
       "      <td id=\"T_af307_row4_col1\" class=\"data row4 col1\" >-0.000e+00,-1.18740520e+03j</td>\n",
       "      <td id=\"T_af307_row4_col2\" class=\"data row4 col2\" >-0.000e+00,-7.06800277e+02j</td>\n",
       "      <td id=\"T_af307_row4_col3\" class=\"data row4 col3\" >-0.000e+00,-4.72155317e+02j</td>\n",
       "      <td id=\"T_af307_row4_col4\" class=\"data row4 col4\" >-0.000e+00,-3.38636034e+02j</td>\n",
       "      <td id=\"T_af307_row4_col5\" class=\"data row4 col5\" >-0.000e+00,-2.55063571e+02j</td>\n",
       "    </tr>\n",
       "  </tbody>\n",
       "</table>\n"
      ],
      "text/plain": [
       "<pandas.io.formats.style.Styler at 0x282b1ce91f0>"
      ]
     },
     "execution_count": 56,
     "metadata": {},
     "output_type": "execute_result"
    }
   ],
   "source": [
    "df_east.transpose().style.format(formatter=lambda x: \"{0.real:.3e},{0.imag:.8e}j\".format(x))"
   ]
  },
  {
   "cell_type": "code",
   "execution_count": 58,
   "id": "d588c3c2-1a43-47c7-a7b9-f61123b8fb79",
   "metadata": {},
   "outputs": [
    {
     "data": {
      "text/html": [
       "<style type=\"text/css\">\n",
       "</style>\n",
       "<table id=\"T_6b986\">\n",
       "  <thead>\n",
       "    <tr>\n",
       "      <th class=\"blank level0\" >&nbsp;</th>\n",
       "      <th id=\"T_6b986_level0_col0\" class=\"col_heading level0 col0\" >0</th>\n",
       "      <th id=\"T_6b986_level0_col1\" class=\"col_heading level0 col1\" >1</th>\n",
       "      <th id=\"T_6b986_level0_col2\" class=\"col_heading level0 col2\" >2</th>\n",
       "      <th id=\"T_6b986_level0_col3\" class=\"col_heading level0 col3\" >3</th>\n",
       "      <th id=\"T_6b986_level0_col4\" class=\"col_heading level0 col4\" >4</th>\n",
       "      <th id=\"T_6b986_level0_col5\" class=\"col_heading level0 col5\" >5</th>\n",
       "    </tr>\n",
       "  </thead>\n",
       "  <tbody>\n",
       "    <tr>\n",
       "      <th id=\"T_6b986_level0_row0\" class=\"row_heading level0 row0\" >Code Daria Mathematica</th>\n",
       "      <td id=\"T_6b986_row0_col0\" class=\"data row0 col0\" >-1.763e-32,3.53788423e-02j</td>\n",
       "      <td id=\"T_6b986_row0_col1\" class=\"data row0 col1\" >8.717e-32,2.68478049e-02j</td>\n",
       "      <td id=\"T_6b986_row0_col2\" class=\"data row0 col2\" >-2.581e-31,1.94062944e-02j</td>\n",
       "      <td id=\"T_6b986_row0_col3\" class=\"data row0 col3\" >4.964e-31,1.31225170e-02j</td>\n",
       "      <td id=\"T_6b986_row0_col4\" class=\"data row0 col4\" >-3.073e-31,8.02544138e-03j</td>\n",
       "      <td id=\"T_6b986_row0_col5\" class=\"data row0 col5\" >6.503e-33,4.12527350e-03j</td>\n",
       "    </tr>\n",
       "    <tr>\n",
       "      <th id=\"T_6b986_level0_row1\" class=\"row_heading level0 row1\" >PlesioGeostroPy-mp32</th>\n",
       "      <td id=\"T_6b986_row1_col0\" class=\"data row1 col0\" >-1.057e-14,3.53336224e-02j</td>\n",
       "      <td id=\"T_6b986_row1_col1\" class=\"data row1 col1\" >-2.381e-14,2.68223070e-02j</td>\n",
       "      <td id=\"T_6b986_row1_col2\" class=\"data row1 col2\" >-8.174e-15,1.93936264e-02j</td>\n",
       "      <td id=\"T_6b986_row1_col3\" class=\"data row1 col3\" >-1.380e-15,1.31171927e-02j</td>\n",
       "      <td id=\"T_6b986_row1_col4\" class=\"data row1 col4\" >-1.027e-14,8.02364375e-03j</td>\n",
       "      <td id=\"T_6b986_row1_col5\" class=\"data row1 col5\" >6.912e-15,4.12489847e-03j</td>\n",
       "    </tr>\n",
       "    <tr>\n",
       "      <th id=\"T_6b986_level0_row2\" class=\"row_heading level0 row2\" >PlesioGeostroPy-scipy</th>\n",
       "      <td id=\"T_6b986_row2_col0\" class=\"data row2 col0\" >6.217e-14,3.53336224e-02j</td>\n",
       "      <td id=\"T_6b986_row2_col1\" class=\"data row2 col1\" >6.245e-14,2.68223070e-02j</td>\n",
       "      <td id=\"T_6b986_row2_col2\" class=\"data row2 col2\" >3.825e-14,1.93936264e-02j</td>\n",
       "      <td id=\"T_6b986_row2_col3\" class=\"data row2 col3\" >1.581e-14,1.31171927e-02j</td>\n",
       "      <td id=\"T_6b986_row2_col4\" class=\"data row2 col4\" >1.241e-14,8.02364375e-03j</td>\n",
       "      <td id=\"T_6b986_row2_col5\" class=\"data row2 col5\" >-1.256e-15,4.12489847e-03j</td>\n",
       "    </tr>\n",
       "    <tr>\n",
       "      <th id=\"T_6b986_level0_row3\" class=\"row_heading level0 row3\" >Analytic PG</th>\n",
       "      <td id=\"T_6b986_row3_col0\" class=\"data row3 col0\" >0.000e+00,3.56200200e-02j</td>\n",
       "      <td id=\"T_6b986_row3_col1\" class=\"data row3 col1\" >0.000e+00,2.69228557e-02j</td>\n",
       "      <td id=\"T_6b986_row3_col2\" class=\"data row3 col2\" >0.000e+00,1.94241982e-02j</td>\n",
       "      <td id=\"T_6b986_row3_col3\" class=\"data row3 col3\" >0.000e+00,1.31247545e-02j</td>\n",
       "      <td id=\"T_6b986_row3_col4\" class=\"data row3 col4\" >0.000e+00,8.02494472e-03j</td>\n",
       "      <td id=\"T_6b986_row3_col5\" class=\"data row3 col5\" >0.000e+00,4.12499277e-03j</td>\n",
       "    </tr>\n",
       "    <tr>\n",
       "      <th id=\"T_6b986_level0_row4\" class=\"row_heading level0 row4\" >Analytic 3D</th>\n",
       "      <td id=\"T_6b986_row4_col0\" class=\"data row4 col0\" >0.000e+00,3.55852793e-02j</td>\n",
       "      <td id=\"T_6b986_row4_col1\" class=\"data row4 col1\" >0.000e+00,2.68771833e-02j</td>\n",
       "      <td id=\"T_6b986_row4_col2\" class=\"data row4 col2\" >0.000e+00,1.93615119e-02j</td>\n",
       "      <td id=\"T_6b986_row4_col3\" class=\"data row4 col3\" >0.000e+00,1.30334360e-02j</td>\n",
       "      <td id=\"T_6b986_row4_col4\" class=\"data row4 col4\" >0.000e+00,7.87955050e-03j</td>\n",
       "      <td id=\"T_6b986_row4_col5\" class=\"data row4 col5\" >0.000e+00,3.85453490e-03j</td>\n",
       "    </tr>\n",
       "  </tbody>\n",
       "</table>\n"
      ],
      "text/plain": [
       "<pandas.io.formats.style.Styler at 0x282b1adc850>"
      ]
     },
     "execution_count": 58,
     "metadata": {},
     "output_type": "execute_result"
    }
   ],
   "source": [
    "df_west.transpose().style.format(formatter=lambda x: \"{0.real:.3e},{0.imag:.8e}j\".format(x))"
   ]
  },
  {
   "cell_type": "markdown",
   "id": "23f11ef2-f2cd-48a8-a37b-9a7153d59fe3",
   "metadata": {},
   "source": [
    "Plotting"
   ]
  },
  {
   "cell_type": "code",
   "execution_count": 66,
   "id": "709db094-8fe5-4695-9f49-534c6d86fb0c",
   "metadata": {},
   "outputs": [
    {
     "data": {
      "text/html": [
       "<style type=\"text/css\">\n",
       "</style>\n",
       "<table id=\"T_7d59e\">\n",
       "  <thead>\n",
       "    <tr>\n",
       "      <th class=\"blank level0\" >&nbsp;</th>\n",
       "      <th id=\"T_7d59e_level0_col0\" class=\"col_heading level0 col0\" >0</th>\n",
       "      <th id=\"T_7d59e_level0_col1\" class=\"col_heading level0 col1\" >1</th>\n",
       "      <th id=\"T_7d59e_level0_col2\" class=\"col_heading level0 col2\" >2</th>\n",
       "      <th id=\"T_7d59e_level0_col3\" class=\"col_heading level0 col3\" >3</th>\n",
       "      <th id=\"T_7d59e_level0_col4\" class=\"col_heading level0 col4\" >4</th>\n",
       "      <th id=\"T_7d59e_level0_col5\" class=\"col_heading level0 col5\" >5</th>\n",
       "    </tr>\n",
       "  </thead>\n",
       "  <tbody>\n",
       "    <tr>\n",
       "      <th id=\"T_7d59e_level0_row0\" class=\"row_heading level0 row0\" >Code Daria Mathematica</th>\n",
       "      <td id=\"T_7d59e_row0_col0\" class=\"data row0 col0\" >1.025e-07</td>\n",
       "      <td id=\"T_7d59e_row0_col1\" class=\"data row0 col1\" >6.442e-08</td>\n",
       "      <td id=\"T_7d59e_row0_col2\" class=\"data row0 col2\" >2.551e-08</td>\n",
       "      <td id=\"T_7d59e_row0_col3\" class=\"data row0 col3\" >4.755e-09</td>\n",
       "      <td id=\"T_7d59e_row0_col4\" class=\"data row0 col4\" >1.469e-09</td>\n",
       "      <td id=\"T_7d59e_row0_col5\" class=\"data row0 col5\" >1.102e-09</td>\n",
       "    </tr>\n",
       "    <tr>\n",
       "      <th id=\"T_7d59e_level0_row1\" class=\"row_heading level0 row1\" >PlesioGeostroPy-mp32</th>\n",
       "      <td id=\"T_7d59e_row1_col0\" class=\"data row1 col0\" >1.217e-07</td>\n",
       "      <td id=\"T_7d59e_row1_col1\" class=\"data row1 col1\" >8.630e-08</td>\n",
       "      <td id=\"T_7d59e_row1_col2\" class=\"data row1 col2\" >4.356e-08</td>\n",
       "      <td id=\"T_7d59e_row1_col3\" class=\"data row1 col3\" >1.607e-08</td>\n",
       "      <td id=\"T_7d59e_row1_col4\" class=\"data row1 col4\" >3.848e-09</td>\n",
       "      <td id=\"T_7d59e_row1_col5\" class=\"data row1 col5\" >3.701e-10</td>\n",
       "    </tr>\n",
       "    <tr>\n",
       "      <th id=\"T_7d59e_level0_row2\" class=\"row_heading level0 row2\" >PlesioGeostroPy-scipy</th>\n",
       "      <td id=\"T_7d59e_row2_col0\" class=\"data row2 col0\" >1.217e-07</td>\n",
       "      <td id=\"T_7d59e_row2_col1\" class=\"data row2 col1\" >8.630e-08</td>\n",
       "      <td id=\"T_7d59e_row2_col2\" class=\"data row2 col2\" >4.356e-08</td>\n",
       "      <td id=\"T_7d59e_row2_col3\" class=\"data row2 col3\" >1.607e-08</td>\n",
       "      <td id=\"T_7d59e_row2_col4\" class=\"data row2 col4\" >3.848e-09</td>\n",
       "      <td id=\"T_7d59e_row2_col5\" class=\"data row2 col5\" >3.701e-10</td>\n",
       "    </tr>\n",
       "  </tbody>\n",
       "</table>\n"
      ],
      "text/plain": [
       "<pandas.io.formats.style.Styler at 0x282b9060b50>"
      ]
     },
     "metadata": {},
     "output_type": "display_data"
    },
    {
     "data": {
      "image/png": "[encoded data removed]",
      "text/plain": [
       "<Figure size 1080x432 with 2 Axes>"
      ]
     },
     "metadata": {
      "needs_background": "light"
     },
     "output_type": "display_data"
    }
   ],
   "source": [
    "df_compare = df_west\n",
    "compare_ref = \"Analytic PG\"\n",
    "save_name = \"./out/imgs/err_comparison_west__PG\"\n",
    "override = True\n",
    "\n",
    "df_compare_err = pd.DataFrame()\n",
    "for idx, srcname in enumerate(src_names):\n",
    "    df_compare_err[srcname] = np.abs(df_compare[compare_ref] - df_compare[srcname])/np.abs(df_east[compare_ref])\n",
    "display(df_compare_err.transpose().style.format(formatter=lambda x: \"{:.3e}\".format(x)))\n",
    "\n",
    "fig, axes = plt.subplots(nrows=1, ncols=2, figsize=(15, 6))\n",
    "\n",
    "ax = axes[0]\n",
    "ax.semilogy(np.arange(6), 2*np.pi*1e+4/np.abs(np.imag(df_compare[compare_ref])), 'ks-', label=compare_ref)\n",
    "for idx, srcname in enumerate(src_names):\n",
    "    ax.semilogy(np.arange(6), 2*np.pi*1e+4/np.abs(np.imag(df_compare[srcname])), 's-', label=srcname)\n",
    "ax.grid(which=\"both\")\n",
    "ax.legend(fontsize=12)\n",
    "ax.set_xlabel(\"n\", fontsize=12)\n",
    "ax.set_title(\"Period (in $\\Omega^{-1}$)\", fontsize=16)\n",
    "\n",
    "ax = axes[1]\n",
    "for idx, srcname in enumerate(src_names):\n",
    "    ax.semilogy(np.arange(6), df_compare_err[srcname], 's-', label=srcname)\n",
    "ax.grid(which=\"major\")\n",
    "ax.legend(fontsize=12)\n",
    "ax.set_xlabel(\"n\", fontsize=12)\n",
    "ax.set_title(\"Relative error\", fontsize=16)\n",
    "\n",
    "plt.tight_layout()\n",
    "if save_name is not None:\n",
    "    if os.path.exists(save_name + '.pdf') and not override:\n",
    "        print(\"File exists... aborting...\")\n",
    "    else:\n",
    "        plt.savefig(save_name + '.pdf', format=\"pdf\", dpi=150, bbox_inches=\"tight\")\n",
    "plt.show()"
   ]
  },
  {
   "cell_type": "code",
   "execution_count": null,
   "id": "7574471d-6562-4999-925b-642e1ba30500",
   "metadata": {},
   "outputs": [],
   "source": []
  }
 ],
 "metadata": {
  "kernelspec": {
   "display_name": "Python3 (geomag)",
   "language": "python",
   "name": "geomag"
  },
  "language_info": {
   "codemirror_mode": {
    "name": "ipython",
    "version": 3
   },
   "file_extension": ".py",
   "mimetype": "text/x-python",
   "name": "python",
   "nbconvert_exporter": "python",
   "pygments_lexer": "ipython3",
   "version": "3.8.13"
  }
 },
 "nbformat": 4,
 "nbformat_minor": 5
}
