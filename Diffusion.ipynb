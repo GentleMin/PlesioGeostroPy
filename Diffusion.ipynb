{
 "cells": [
  {
   "cell_type": "markdown",
   "id": "9f41c277-6099-472d-89d1-90eef1d52d2a",
   "metadata": {},
   "source": [
    "# Constructing the magnetic diffusion"
   ]
  },
  {
   "cell_type": "code",
   "execution_count": 11,
   "id": "126770f7-3860-42d8-9d38-a440ff74c1de",
   "metadata": {},
   "outputs": [
    {
     "name": "stdout",
     "output_type": "stream",
     "text": [
      "The autoreload extension is already loaded. To reload it, use:\n",
      "  %reload_ext autoreload\n"
     ]
    }
   ],
   "source": [
    "%load_ext autoreload\n",
    "%autoreload 2\n",
    "\n",
    "import numpy as np\n",
    "import sympy as sym\n",
    "from pg_utils.pg_model import core, forcing"
   ]
  },
  {
   "cell_type": "markdown",
   "id": "6712dc37-2034-4014-ad13-cbc5da1f28da",
   "metadata": {},
   "source": [
    "Displaying utilities"
   ]
  },
  {
   "cell_type": "code",
   "execution_count": 5,
   "id": "852e56ca-04d8-4eb7-834e-16195be006b6",
   "metadata": {},
   "outputs": [],
   "source": [
    "def display_collection(collection, _filter=lambda item, idx: True):\n",
    "    display(*(item for idx, item in enumerate(collection) if _filter(item, idx)))"
   ]
  },
  {
   "cell_type": "markdown",
   "id": "858b220e-af88-49c0-8309-497904736cde",
   "metadata": {},
   "source": [
    "# Linear drag model"
   ]
  },
  {
   "cell_type": "code",
   "execution_count": 13,
   "id": "8ba99d1a-b151-4d60-860d-70c5b00e74fd",
   "metadata": {},
   "outputs": [
    {
     "data": {
      "text/plain": [
       "None"
      ]
     },
     "metadata": {},
     "output_type": "display_data"
    },
    {
     "data": {
      "text/latex": [
       "$\\displaystyle - \\overline{m_1}{\\left(s,\\phi,t \\right)}$"
      ],
      "text/plain": [
       "-\\overline{m_1}(s, \\phi, t)"
      ]
     },
     "metadata": {},
     "output_type": "display_data"
    },
    {
     "data": {
      "text/latex": [
       "$\\displaystyle - \\overline{m_+}{\\left(s,\\phi,t \\right)}$"
      ],
      "text/plain": [
       "-\\overline{m_+}(s, \\phi, t)"
      ]
     },
     "metadata": {},
     "output_type": "display_data"
    },
    {
     "data": {
      "text/latex": [
       "$\\displaystyle - \\overline{m_-}{\\left(s,\\phi,t \\right)}$"
      ],
      "text/plain": [
       "-\\overline{m_-}(s, \\phi, t)"
      ]
     },
     "metadata": {},
     "output_type": "display_data"
    },
    {
     "data": {
      "text/latex": [
       "$\\displaystyle - \\widetilde{m_{z+}}{\\left(s,\\phi,t \\right)}$"
      ],
      "text/plain": [
       "-\\widetilde{m_{z+}}(s, \\phi, t)"
      ]
     },
     "metadata": {},
     "output_type": "display_data"
    },
    {
     "data": {
      "text/latex": [
       "$\\displaystyle - \\widetilde{m_{z-}}{\\left(s,\\phi,t \\right)}$"
      ],
      "text/plain": [
       "-\\widetilde{m_{z-}}(s, \\phi, t)"
      ]
     },
     "metadata": {},
     "output_type": "display_data"
    },
    {
     "data": {
      "text/latex": [
       "$\\displaystyle - \\widetilde{zm_1}{\\left(s,\\phi,t \\right)}$"
      ],
      "text/plain": [
       "-\\widetilde{zm_1}(s, \\phi, t)"
      ]
     },
     "metadata": {},
     "output_type": "display_data"
    },
    {
     "data": {
      "text/latex": [
       "$\\displaystyle - \\widetilde{zm_+}{\\left(s,\\phi,t \\right)}$"
      ],
      "text/plain": [
       "-\\widetilde{zm_+}(s, \\phi, t)"
      ]
     },
     "metadata": {},
     "output_type": "display_data"
    },
    {
     "data": {
      "text/latex": [
       "$\\displaystyle - \\widetilde{zm_-}{\\left(s,\\phi,t \\right)}$"
      ],
      "text/plain": [
       "-\\widetilde{zm_-}(s, \\phi, t)"
      ]
     },
     "metadata": {},
     "output_type": "display_data"
    },
    {
     "data": {
      "text/latex": [
       "$\\displaystyle - b_{+}^e{\\left(s,\\phi,t \\right)}$"
      ],
      "text/plain": [
       "-b_{+}^e(s, \\phi, t)"
      ]
     },
     "metadata": {},
     "output_type": "display_data"
    },
    {
     "data": {
      "text/latex": [
       "$\\displaystyle - b_{-}^e{\\left(s,\\phi,t \\right)}$"
      ],
      "text/plain": [
       "-b_{-}^e(s, \\phi, t)"
      ]
     },
     "metadata": {},
     "output_type": "display_data"
    },
    {
     "data": {
      "text/latex": [
       "$\\displaystyle - b_{z}^e{\\left(s,\\phi,t \\right)}$"
      ],
      "text/plain": [
       "-b_{z}^e(s, \\phi, t)"
      ]
     },
     "metadata": {},
     "output_type": "display_data"
    },
    {
     "data": {
      "text/latex": [
       "$\\displaystyle - b_{+, z}^e{\\left(s,\\phi,t \\right)}$"
      ],
      "text/plain": [
       "-b_{+, z}^e(s, \\phi, t)"
      ]
     },
     "metadata": {},
     "output_type": "display_data"
    },
    {
     "data": {
      "text/latex": [
       "$\\displaystyle - b_{-, z}^e{\\left(s,\\phi,t \\right)}$"
      ],
      "text/plain": [
       "-b_{-, z}^e(s, \\phi, t)"
      ]
     },
     "metadata": {},
     "output_type": "display_data"
    },
    {
     "data": {
      "text/latex": [
       "$\\displaystyle - b_{r1}{\\left(\\theta,\\phi,t \\right)}$"
      ],
      "text/plain": [
       "-b_{r1}(\\theta, \\phi, t)"
      ]
     },
     "metadata": {},
     "output_type": "display_data"
    },
    {
     "data": {
      "text/latex": [
       "$\\displaystyle - b^{+}_{+}{\\left(s,\\phi,t \\right)}$"
      ],
      "text/plain": [
       "-b_+^+(s, \\phi, t)"
      ]
     },
     "metadata": {},
     "output_type": "display_data"
    },
    {
     "data": {
      "text/latex": [
       "$\\displaystyle - b^{+}_{-}{\\left(s,\\phi,t \\right)}$"
      ],
      "text/plain": [
       "-b_-^+(s, \\phi, t)"
      ]
     },
     "metadata": {},
     "output_type": "display_data"
    },
    {
     "data": {
      "text/latex": [
       "$\\displaystyle - b^{+}_{z}{\\left(s,\\phi,t \\right)}$"
      ],
      "text/plain": [
       "-b_z^+(s, \\phi, t)"
      ]
     },
     "metadata": {},
     "output_type": "display_data"
    },
    {
     "data": {
      "text/latex": [
       "$\\displaystyle - b^{-}_{+}{\\left(s,\\phi,t \\right)}$"
      ],
      "text/plain": [
       "-b_+^-(s, \\phi, t)"
      ]
     },
     "metadata": {},
     "output_type": "display_data"
    },
    {
     "data": {
      "text/latex": [
       "$\\displaystyle - b^{-}_{-}{\\left(s,\\phi,t \\right)}$"
      ],
      "text/plain": [
       "-b_-^-(s, \\phi, t)"
      ]
     },
     "metadata": {},
     "output_type": "display_data"
    },
    {
     "data": {
      "text/latex": [
       "$\\displaystyle - b^{-}_{z}{\\left(s,\\phi,t \\right)}$"
      ],
      "text/plain": [
       "-b_z^-(s, \\phi, t)"
      ]
     },
     "metadata": {},
     "output_type": "display_data"
    }
   ],
   "source": [
    "display_collection(forcing.Dm_models_cg_lin[\"linear drag\"])"
   ]
  },
  {
   "cell_type": "code",
   "execution_count": 19,
   "id": "4baf4d14-6079-434c-9af1-fe132df831ff",
   "metadata": {},
   "outputs": [
    {
     "name": "stdout",
     "output_type": "stream",
     "text": [
      "Psi True True\n"
     ]
    },
    {
     "data": {
      "text/latex": [
       "$\\displaystyle 0$"
      ],
      "text/plain": [
       "0"
      ]
     },
     "metadata": {},
     "output_type": "display_data"
    },
    {
     "name": "stdout",
     "output_type": "stream",
     "text": [
      "M_1 True False\n"
     ]
    },
    {
     "data": {
      "text/latex": [
       "$\\displaystyle - \\frac{\\overline{m_1}{\\left(s,\\phi,t \\right)}}{\\mathrm{Lu}}$"
      ],
      "text/plain": [
       "-\\overline{m_1}(s, \\phi, t)/\\mathrm{Lu}"
      ]
     },
     "metadata": {},
     "output_type": "display_data"
    },
    {
     "name": "stdout",
     "output_type": "stream",
     "text": [
      "M_p True False\n"
     ]
    },
    {
     "data": {
      "text/latex": [
       "$\\displaystyle - \\frac{\\overline{m_+}{\\left(s,\\phi,t \\right)}}{\\mathrm{Lu}}$"
      ],
      "text/plain": [
       "-\\overline{m_+}(s, \\phi, t)/\\mathrm{Lu}"
      ]
     },
     "metadata": {},
     "output_type": "display_data"
    },
    {
     "name": "stdout",
     "output_type": "stream",
     "text": [
      "M_m True False\n"
     ]
    },
    {
     "data": {
      "text/latex": [
       "$\\displaystyle - \\frac{\\overline{m_-}{\\left(s,\\phi,t \\right)}}{\\mathrm{Lu}}$"
      ],
      "text/plain": [
       "-\\overline{m_-}(s, \\phi, t)/\\mathrm{Lu}"
      ]
     },
     "metadata": {},
     "output_type": "display_data"
    },
    {
     "name": "stdout",
     "output_type": "stream",
     "text": [
      "M_zp True False\n"
     ]
    },
    {
     "data": {
      "text/latex": [
       "$\\displaystyle - \\frac{\\widetilde{m_{z+}}{\\left(s,\\phi,t \\right)}}{\\mathrm{Lu}}$"
      ],
      "text/plain": [
       "-\\widetilde{m_{z+}}(s, \\phi, t)/\\mathrm{Lu}"
      ]
     },
     "metadata": {},
     "output_type": "display_data"
    },
    {
     "name": "stdout",
     "output_type": "stream",
     "text": [
      "M_zm True False\n"
     ]
    },
    {
     "data": {
      "text/latex": [
       "$\\displaystyle - \\frac{\\widetilde{m_{z-}}{\\left(s,\\phi,t \\right)}}{\\mathrm{Lu}}$"
      ],
      "text/plain": [
       "-\\widetilde{m_{z-}}(s, \\phi, t)/\\mathrm{Lu}"
      ]
     },
     "metadata": {},
     "output_type": "display_data"
    },
    {
     "name": "stdout",
     "output_type": "stream",
     "text": [
      "zM_1 True False\n"
     ]
    },
    {
     "data": {
      "text/latex": [
       "$\\displaystyle - \\frac{\\widetilde{zm_1}{\\left(s,\\phi,t \\right)}}{\\mathrm{Lu}}$"
      ],
      "text/plain": [
       "-\\widetilde{zm_1}(s, \\phi, t)/\\mathrm{Lu}"
      ]
     },
     "metadata": {},
     "output_type": "display_data"
    },
    {
     "name": "stdout",
     "output_type": "stream",
     "text": [
      "zM_p True False\n"
     ]
    },
    {
     "data": {
      "text/latex": [
       "$\\displaystyle - \\frac{\\widetilde{zm_+}{\\left(s,\\phi,t \\right)}}{\\mathrm{Lu}}$"
      ],
      "text/plain": [
       "-\\widetilde{zm_+}(s, \\phi, t)/\\mathrm{Lu}"
      ]
     },
     "metadata": {},
     "output_type": "display_data"
    },
    {
     "name": "stdout",
     "output_type": "stream",
     "text": [
      "zM_m True False\n"
     ]
    },
    {
     "data": {
      "text/latex": [
       "$\\displaystyle - \\frac{\\widetilde{zm_-}{\\left(s,\\phi,t \\right)}}{\\mathrm{Lu}}$"
      ],
      "text/plain": [
       "-\\widetilde{zm_-}(s, \\phi, t)/\\mathrm{Lu}"
      ]
     },
     "metadata": {},
     "output_type": "display_data"
    },
    {
     "name": "stdout",
     "output_type": "stream",
     "text": [
      "B_ep True False\n"
     ]
    },
    {
     "data": {
      "text/latex": [
       "$\\displaystyle - \\frac{b_{+}^e{\\left(s,\\phi,t \\right)}}{\\mathrm{Lu}}$"
      ],
      "text/plain": [
       "-b_{+}^e(s, \\phi, t)/\\mathrm{Lu}"
      ]
     },
     "metadata": {},
     "output_type": "display_data"
    },
    {
     "name": "stdout",
     "output_type": "stream",
     "text": [
      "B_em True False\n"
     ]
    },
    {
     "data": {
      "text/latex": [
       "$\\displaystyle - \\frac{b_{-}^e{\\left(s,\\phi,t \\right)}}{\\mathrm{Lu}}$"
      ],
      "text/plain": [
       "-b_{-}^e(s, \\phi, t)/\\mathrm{Lu}"
      ]
     },
     "metadata": {},
     "output_type": "display_data"
    },
    {
     "name": "stdout",
     "output_type": "stream",
     "text": [
      "Bz_e True False\n"
     ]
    },
    {
     "data": {
      "text/latex": [
       "$\\displaystyle - \\frac{b_{z}^e{\\left(s,\\phi,t \\right)}}{\\mathrm{Lu}}$"
      ],
      "text/plain": [
       "-b_{z}^e(s, \\phi, t)/\\mathrm{Lu}"
      ]
     },
     "metadata": {},
     "output_type": "display_data"
    },
    {
     "name": "stdout",
     "output_type": "stream",
     "text": [
      "dB_dz_ep True False\n"
     ]
    },
    {
     "data": {
      "text/latex": [
       "$\\displaystyle - \\frac{b_{+, z}^e{\\left(s,\\phi,t \\right)}}{\\mathrm{Lu}}$"
      ],
      "text/plain": [
       "-b_{+, z}^e(s, \\phi, t)/\\mathrm{Lu}"
      ]
     },
     "metadata": {},
     "output_type": "display_data"
    },
    {
     "name": "stdout",
     "output_type": "stream",
     "text": [
      "dB_dz_em True False\n"
     ]
    },
    {
     "data": {
      "text/latex": [
       "$\\displaystyle - \\frac{b_{-, z}^e{\\left(s,\\phi,t \\right)}}{\\mathrm{Lu}}$"
      ],
      "text/plain": [
       "-b_{-, z}^e(s, \\phi, t)/\\mathrm{Lu}"
      ]
     },
     "metadata": {},
     "output_type": "display_data"
    },
    {
     "name": "stdout",
     "output_type": "stream",
     "text": [
      "Br_b True False\n"
     ]
    },
    {
     "data": {
      "text/latex": [
       "$\\displaystyle - \\frac{b_{r1}{\\left(\\theta,\\phi,t \\right)}}{\\mathrm{Lu}}$"
      ],
      "text/plain": [
       "-b_{r1}(\\theta, \\phi, t)/\\mathrm{Lu}"
      ]
     },
     "metadata": {},
     "output_type": "display_data"
    },
    {
     "name": "stdout",
     "output_type": "stream",
     "text": [
      "B_pp True False\n"
     ]
    },
    {
     "data": {
      "text/latex": [
       "$\\displaystyle - \\frac{b^{+}_{+}{\\left(s,\\phi,t \\right)}}{\\mathrm{Lu}}$"
      ],
      "text/plain": [
       "-b_+^+(s, \\phi, t)/\\mathrm{Lu}"
      ]
     },
     "metadata": {},
     "output_type": "display_data"
    },
    {
     "name": "stdout",
     "output_type": "stream",
     "text": [
      "B_pm True False\n"
     ]
    },
    {
     "data": {
      "text/latex": [
       "$\\displaystyle - \\frac{b^{+}_{-}{\\left(s,\\phi,t \\right)}}{\\mathrm{Lu}}$"
      ],
      "text/plain": [
       "-b_-^+(s, \\phi, t)/\\mathrm{Lu}"
      ]
     },
     "metadata": {},
     "output_type": "display_data"
    },
    {
     "name": "stdout",
     "output_type": "stream",
     "text": [
      "Bz_p True False\n"
     ]
    },
    {
     "data": {
      "text/latex": [
       "$\\displaystyle - \\frac{b^{+}_{z}{\\left(s,\\phi,t \\right)}}{\\mathrm{Lu}}$"
      ],
      "text/plain": [
       "-b_z^+(s, \\phi, t)/\\mathrm{Lu}"
      ]
     },
     "metadata": {},
     "output_type": "display_data"
    },
    {
     "name": "stdout",
     "output_type": "stream",
     "text": [
      "B_mp True False\n"
     ]
    },
    {
     "data": {
      "text/latex": [
       "$\\displaystyle - \\frac{b^{-}_{+}{\\left(s,\\phi,t \\right)}}{\\mathrm{Lu}}$"
      ],
      "text/plain": [
       "-b_+^-(s, \\phi, t)/\\mathrm{Lu}"
      ]
     },
     "metadata": {},
     "output_type": "display_data"
    },
    {
     "name": "stdout",
     "output_type": "stream",
     "text": [
      "B_mm True False\n"
     ]
    },
    {
     "data": {
      "text/latex": [
       "$\\displaystyle - \\frac{b^{-}_{-}{\\left(s,\\phi,t \\right)}}{\\mathrm{Lu}}$"
      ],
      "text/plain": [
       "-b_-^-(s, \\phi, t)/\\mathrm{Lu}"
      ]
     },
     "metadata": {},
     "output_type": "display_data"
    },
    {
     "name": "stdout",
     "output_type": "stream",
     "text": [
      "Bz_m True False\n"
     ]
    },
    {
     "data": {
      "text/latex": [
       "$\\displaystyle - \\frac{b^{-}_{z}{\\left(s,\\phi,t \\right)}}{\\mathrm{Lu}}$"
      ],
      "text/plain": [
       "-b_z^-(s, \\phi, t)/\\mathrm{Lu}"
      ]
     },
     "metadata": {},
     "output_type": "display_data"
    }
   ],
   "source": [
    "import json\n",
    "from pg_utils.pg_model import base\n",
    "with open('./out/eigen/Toroidal_Quadrupole/eqs_cg.json', 'r') as fread:\n",
    "    load_array = json.load(fread)\n",
    "    eqs = base.LabeledCollection.deserialize(load_array['equations'], parser=sym.parse_expr)\n",
    "    pars = [sym.parse_expr(par) for par in load_array[\"params\"]]\n",
    "with open('./out/eigen/Toroidal_Quadrupole/eqs_cg_drag.json', 'r') as fread:\n",
    "    load_array = json.load(fread)\n",
    "    eqs2 = base.LabeledCollection.deserialize(load_array['equations'], parser=sym.parse_expr)\n",
    "    pars2 = [sym.parse_expr(par) for par in load_array[\"params\"]]\n",
    "\n",
    "for fname in eqs._field_names:\n",
    "    if eqs[fname] is not None:\n",
    "        print(\n",
    "            fname, \n",
    "            eqs[fname].lhs.equals(eqs2[fname].lhs),\n",
    "            eqs[fname].rhs.equals(eqs2[fname].rhs)\n",
    "        )\n",
    "        display(eqs2[fname].rhs - eqs[fname].rhs)"
   ]
  },
  {
   "cell_type": "code",
   "execution_count": null,
   "id": "b9b44f8b-7645-468a-b8ae-7fcac377c692",
   "metadata": {},
   "outputs": [],
   "source": []
  }
 ],
 "metadata": {
  "kernelspec": {
   "display_name": "Python3 (geomag)",
   "language": "python",
   "name": "geomag"
  },
  "language_info": {
   "codemirror_mode": {
    "name": "ipython",
    "version": 3
   },
   "file_extension": ".py",
   "mimetype": "text/x-python",
   "name": "python",
   "nbconvert_exporter": "python",
   "pygments_lexer": "ipython3",
   "version": "3.8.13"
  }
 },
 "nbformat": 4,
 "nbformat_minor": 5
}
