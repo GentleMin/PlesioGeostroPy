{
 "cells": [
  {
   "cell_type": "markdown",
   "id": "9f41c277-6099-472d-89d1-90eef1d52d2a",
   "metadata": {},
   "source": [
    "# Constructing the magnetic diffusion"
   ]
  },
  {
   "cell_type": "code",
   "execution_count": 1,
   "id": "126770f7-3860-42d8-9d38-a440ff74c1de",
   "metadata": {},
   "outputs": [],
   "source": [
    "%load_ext autoreload\n",
    "%autoreload 2\n",
    "\n",
    "import numpy as np\n",
    "import sympy as sym\n",
    "from pg_utils.pg_model import core, forcing\n",
    "import matplotlib.pyplot as plt"
   ]
  },
  {
   "cell_type": "markdown",
   "id": "6712dc37-2034-4014-ad13-cbc5da1f28da",
   "metadata": {},
   "source": [
    "Displaying utilities"
   ]
  },
  {
   "cell_type": "code",
   "execution_count": 2,
   "id": "852e56ca-04d8-4eb7-834e-16195be006b6",
   "metadata": {},
   "outputs": [],
   "source": [
    "def display_collection(collection, _filter=lambda item, idx: True):\n",
    "    display(*(item for idx, item in enumerate(collection) if _filter(item, idx)))"
   ]
  },
  {
   "cell_type": "markdown",
   "id": "858b220e-af88-49c0-8309-497904736cde",
   "metadata": {},
   "source": [
    "# Linear drag model"
   ]
  },
  {
   "cell_type": "code",
   "execution_count": 3,
   "id": "8ba99d1a-b151-4d60-860d-70c5b00e74fd",
   "metadata": {},
   "outputs": [
    {
     "data": {
      "text/plain": [
       "None"
      ]
     },
     "metadata": {},
     "output_type": "display_data"
    },
    {
     "data": {
      "text/latex": [
       "$\\displaystyle - \\overline{m_1}{\\left(s,\\phi,t \\right)}$"
      ],
      "text/plain": [
       "-\\overline{m_1}(s, \\phi, t)"
      ]
     },
     "metadata": {},
     "output_type": "display_data"
    },
    {
     "data": {
      "text/latex": [
       "$\\displaystyle - \\overline{m_+}{\\left(s,\\phi,t \\right)}$"
      ],
      "text/plain": [
       "-\\overline{m_+}(s, \\phi, t)"
      ]
     },
     "metadata": {},
     "output_type": "display_data"
    },
    {
     "data": {
      "text/latex": [
       "$\\displaystyle - \\overline{m_-}{\\left(s,\\phi,t \\right)}$"
      ],
      "text/plain": [
       "-\\overline{m_-}(s, \\phi, t)"
      ]
     },
     "metadata": {},
     "output_type": "display_data"
    },
    {
     "data": {
      "text/latex": [
       "$\\displaystyle - \\widetilde{m_{z+}}{\\left(s,\\phi,t \\right)}$"
      ],
      "text/plain": [
       "-\\widetilde{m_{z+}}(s, \\phi, t)"
      ]
     },
     "metadata": {},
     "output_type": "display_data"
    },
    {
     "data": {
      "text/latex": [
       "$\\displaystyle - \\widetilde{m_{z-}}{\\left(s,\\phi,t \\right)}$"
      ],
      "text/plain": [
       "-\\widetilde{m_{z-}}(s, \\phi, t)"
      ]
     },
     "metadata": {},
     "output_type": "display_data"
    },
    {
     "data": {
      "text/latex": [
       "$\\displaystyle - \\widetilde{zm_1}{\\left(s,\\phi,t \\right)}$"
      ],
      "text/plain": [
       "-\\widetilde{zm_1}(s, \\phi, t)"
      ]
     },
     "metadata": {},
     "output_type": "display_data"
    },
    {
     "data": {
      "text/latex": [
       "$\\displaystyle - \\widetilde{zm_+}{\\left(s,\\phi,t \\right)}$"
      ],
      "text/plain": [
       "-\\widetilde{zm_+}(s, \\phi, t)"
      ]
     },
     "metadata": {},
     "output_type": "display_data"
    },
    {
     "data": {
      "text/latex": [
       "$\\displaystyle - \\widetilde{zm_-}{\\left(s,\\phi,t \\right)}$"
      ],
      "text/plain": [
       "-\\widetilde{zm_-}(s, \\phi, t)"
      ]
     },
     "metadata": {},
     "output_type": "display_data"
    },
    {
     "data": {
      "text/latex": [
       "$\\displaystyle - b_{+}^e{\\left(s,\\phi,t \\right)}$"
      ],
      "text/plain": [
       "-b_{+}^e(s, \\phi, t)"
      ]
     },
     "metadata": {},
     "output_type": "display_data"
    },
    {
     "data": {
      "text/latex": [
       "$\\displaystyle - b_{-}^e{\\left(s,\\phi,t \\right)}$"
      ],
      "text/plain": [
       "-b_{-}^e(s, \\phi, t)"
      ]
     },
     "metadata": {},
     "output_type": "display_data"
    },
    {
     "data": {
      "text/latex": [
       "$\\displaystyle - b_{z}^e{\\left(s,\\phi,t \\right)}$"
      ],
      "text/plain": [
       "-b_{z}^e(s, \\phi, t)"
      ]
     },
     "metadata": {},
     "output_type": "display_data"
    },
    {
     "data": {
      "text/latex": [
       "$\\displaystyle - b_{+, z}^e{\\left(s,\\phi,t \\right)}$"
      ],
      "text/plain": [
       "-b_{+, z}^e(s, \\phi, t)"
      ]
     },
     "metadata": {},
     "output_type": "display_data"
    },
    {
     "data": {
      "text/latex": [
       "$\\displaystyle - b_{-, z}^e{\\left(s,\\phi,t \\right)}$"
      ],
      "text/plain": [
       "-b_{-, z}^e(s, \\phi, t)"
      ]
     },
     "metadata": {},
     "output_type": "display_data"
    },
    {
     "data": {
      "text/latex": [
       "$\\displaystyle - b_{r1}{\\left(\\theta,\\phi,t \\right)}$"
      ],
      "text/plain": [
       "-b_{r1}(\\theta, \\phi, t)"
      ]
     },
     "metadata": {},
     "output_type": "display_data"
    },
    {
     "data": {
      "text/latex": [
       "$\\displaystyle - b^{+}_{+}{\\left(s,\\phi,t \\right)}$"
      ],
      "text/plain": [
       "-b_+^+(s, \\phi, t)"
      ]
     },
     "metadata": {},
     "output_type": "display_data"
    },
    {
     "data": {
      "text/latex": [
       "$\\displaystyle - b^{+}_{-}{\\left(s,\\phi,t \\right)}$"
      ],
      "text/plain": [
       "-b_-^+(s, \\phi, t)"
      ]
     },
     "metadata": {},
     "output_type": "display_data"
    },
    {
     "data": {
      "text/latex": [
       "$\\displaystyle - b^{+}_{z}{\\left(s,\\phi,t \\right)}$"
      ],
      "text/plain": [
       "-b_z^+(s, \\phi, t)"
      ]
     },
     "metadata": {},
     "output_type": "display_data"
    },
    {
     "data": {
      "text/latex": [
       "$\\displaystyle - b^{-}_{+}{\\left(s,\\phi,t \\right)}$"
      ],
      "text/plain": [
       "-b_+^-(s, \\phi, t)"
      ]
     },
     "metadata": {},
     "output_type": "display_data"
    },
    {
     "data": {
      "text/latex": [
       "$\\displaystyle - b^{-}_{-}{\\left(s,\\phi,t \\right)}$"
      ],
      "text/plain": [
       "-b_-^-(s, \\phi, t)"
      ]
     },
     "metadata": {},
     "output_type": "display_data"
    },
    {
     "data": {
      "text/latex": [
       "$\\displaystyle - b^{-}_{z}{\\left(s,\\phi,t \\right)}$"
      ],
      "text/plain": [
       "-b_z^-(s, \\phi, t)"
      ]
     },
     "metadata": {},
     "output_type": "display_data"
    }
   ],
   "source": [
    "display_collection(forcing.Dm_models_cg_lin[\"linear drag\"])"
   ]
  },
  {
   "cell_type": "code",
   "execution_count": 19,
   "id": "4baf4d14-6079-434c-9af1-fe132df831ff",
   "metadata": {},
   "outputs": [
    {
     "name": "stdout",
     "output_type": "stream",
     "text": [
      "Psi True True\n"
     ]
    },
    {
     "data": {
      "text/latex": [
       "$\\displaystyle 0$"
      ],
      "text/plain": [
       "0"
      ]
     },
     "metadata": {},
     "output_type": "display_data"
    },
    {
     "name": "stdout",
     "output_type": "stream",
     "text": [
      "M_1 True False\n"
     ]
    },
    {
     "data": {
      "text/latex": [
       "$\\displaystyle - \\frac{\\overline{m_1}{\\left(s,\\phi,t \\right)}}{\\mathrm{Lu}}$"
      ],
      "text/plain": [
       "-\\overline{m_1}(s, \\phi, t)/\\mathrm{Lu}"
      ]
     },
     "metadata": {},
     "output_type": "display_data"
    },
    {
     "name": "stdout",
     "output_type": "stream",
     "text": [
      "M_p True False\n"
     ]
    },
    {
     "data": {
      "text/latex": [
       "$\\displaystyle - \\frac{\\overline{m_+}{\\left(s,\\phi,t \\right)}}{\\mathrm{Lu}}$"
      ],
      "text/plain": [
       "-\\overline{m_+}(s, \\phi, t)/\\mathrm{Lu}"
      ]
     },
     "metadata": {},
     "output_type": "display_data"
    },
    {
     "name": "stdout",
     "output_type": "stream",
     "text": [
      "M_m True False\n"
     ]
    },
    {
     "data": {
      "text/latex": [
       "$\\displaystyle - \\frac{\\overline{m_-}{\\left(s,\\phi,t \\right)}}{\\mathrm{Lu}}$"
      ],
      "text/plain": [
       "-\\overline{m_-}(s, \\phi, t)/\\mathrm{Lu}"
      ]
     },
     "metadata": {},
     "output_type": "display_data"
    },
    {
     "name": "stdout",
     "output_type": "stream",
     "text": [
      "M_zp True False\n"
     ]
    },
    {
     "data": {
      "text/latex": [
       "$\\displaystyle - \\frac{\\widetilde{m_{z+}}{\\left(s,\\phi,t \\right)}}{\\mathrm{Lu}}$"
      ],
      "text/plain": [
       "-\\widetilde{m_{z+}}(s, \\phi, t)/\\mathrm{Lu}"
      ]
     },
     "metadata": {},
     "output_type": "display_data"
    },
    {
     "name": "stdout",
     "output_type": "stream",
     "text": [
      "M_zm True False\n"
     ]
    },
    {
     "data": {
      "text/latex": [
       "$\\displaystyle - \\frac{\\widetilde{m_{z-}}{\\left(s,\\phi,t \\right)}}{\\mathrm{Lu}}$"
      ],
      "text/plain": [
       "-\\widetilde{m_{z-}}(s, \\phi, t)/\\mathrm{Lu}"
      ]
     },
     "metadata": {},
     "output_type": "display_data"
    },
    {
     "name": "stdout",
     "output_type": "stream",
     "text": [
      "zM_1 True False\n"
     ]
    },
    {
     "data": {
      "text/latex": [
       "$\\displaystyle - \\frac{\\widetilde{zm_1}{\\left(s,\\phi,t \\right)}}{\\mathrm{Lu}}$"
      ],
      "text/plain": [
       "-\\widetilde{zm_1}(s, \\phi, t)/\\mathrm{Lu}"
      ]
     },
     "metadata": {},
     "output_type": "display_data"
    },
    {
     "name": "stdout",
     "output_type": "stream",
     "text": [
      "zM_p True False\n"
     ]
    },
    {
     "data": {
      "text/latex": [
       "$\\displaystyle - \\frac{\\widetilde{zm_+}{\\left(s,\\phi,t \\right)}}{\\mathrm{Lu}}$"
      ],
      "text/plain": [
       "-\\widetilde{zm_+}(s, \\phi, t)/\\mathrm{Lu}"
      ]
     },
     "metadata": {},
     "output_type": "display_data"
    },
    {
     "name": "stdout",
     "output_type": "stream",
     "text": [
      "zM_m True False\n"
     ]
    },
    {
     "data": {
      "text/latex": [
       "$\\displaystyle - \\frac{\\widetilde{zm_-}{\\left(s,\\phi,t \\right)}}{\\mathrm{Lu}}$"
      ],
      "text/plain": [
       "-\\widetilde{zm_-}(s, \\phi, t)/\\mathrm{Lu}"
      ]
     },
     "metadata": {},
     "output_type": "display_data"
    },
    {
     "name": "stdout",
     "output_type": "stream",
     "text": [
      "B_ep True False\n"
     ]
    },
    {
     "data": {
      "text/latex": [
       "$\\displaystyle - \\frac{b_{+}^e{\\left(s,\\phi,t \\right)}}{\\mathrm{Lu}}$"
      ],
      "text/plain": [
       "-b_{+}^e(s, \\phi, t)/\\mathrm{Lu}"
      ]
     },
     "metadata": {},
     "output_type": "display_data"
    },
    {
     "name": "stdout",
     "output_type": "stream",
     "text": [
      "B_em True False\n"
     ]
    },
    {
     "data": {
      "text/latex": [
       "$\\displaystyle - \\frac{b_{-}^e{\\left(s,\\phi,t \\right)}}{\\mathrm{Lu}}$"
      ],
      "text/plain": [
       "-b_{-}^e(s, \\phi, t)/\\mathrm{Lu}"
      ]
     },
     "metadata": {},
     "output_type": "display_data"
    },
    {
     "name": "stdout",
     "output_type": "stream",
     "text": [
      "Bz_e True False\n"
     ]
    },
    {
     "data": {
      "text/latex": [
       "$\\displaystyle - \\frac{b_{z}^e{\\left(s,\\phi,t \\right)}}{\\mathrm{Lu}}$"
      ],
      "text/plain": [
       "-b_{z}^e(s, \\phi, t)/\\mathrm{Lu}"
      ]
     },
     "metadata": {},
     "output_type": "display_data"
    },
    {
     "name": "stdout",
     "output_type": "stream",
     "text": [
      "dB_dz_ep True False\n"
     ]
    },
    {
     "data": {
      "text/latex": [
       "$\\displaystyle - \\frac{b_{+, z}^e{\\left(s,\\phi,t \\right)}}{\\mathrm{Lu}}$"
      ],
      "text/plain": [
       "-b_{+, z}^e(s, \\phi, t)/\\mathrm{Lu}"
      ]
     },
     "metadata": {},
     "output_type": "display_data"
    },
    {
     "name": "stdout",
     "output_type": "stream",
     "text": [
      "dB_dz_em True False\n"
     ]
    },
    {
     "data": {
      "text/latex": [
       "$\\displaystyle - \\frac{b_{-, z}^e{\\left(s,\\phi,t \\right)}}{\\mathrm{Lu}}$"
      ],
      "text/plain": [
       "-b_{-, z}^e(s, \\phi, t)/\\mathrm{Lu}"
      ]
     },
     "metadata": {},
     "output_type": "display_data"
    },
    {
     "name": "stdout",
     "output_type": "stream",
     "text": [
      "Br_b True False\n"
     ]
    },
    {
     "data": {
      "text/latex": [
       "$\\displaystyle - \\frac{b_{r1}{\\left(\\theta,\\phi,t \\right)}}{\\mathrm{Lu}}$"
      ],
      "text/plain": [
       "-b_{r1}(\\theta, \\phi, t)/\\mathrm{Lu}"
      ]
     },
     "metadata": {},
     "output_type": "display_data"
    },
    {
     "name": "stdout",
     "output_type": "stream",
     "text": [
      "B_pp True False\n"
     ]
    },
    {
     "data": {
      "text/latex": [
       "$\\displaystyle - \\frac{b^{+}_{+}{\\left(s,\\phi,t \\right)}}{\\mathrm{Lu}}$"
      ],
      "text/plain": [
       "-b_+^+(s, \\phi, t)/\\mathrm{Lu}"
      ]
     },
     "metadata": {},
     "output_type": "display_data"
    },
    {
     "name": "stdout",
     "output_type": "stream",
     "text": [
      "B_pm True False\n"
     ]
    },
    {
     "data": {
      "text/latex": [
       "$\\displaystyle - \\frac{b^{+}_{-}{\\left(s,\\phi,t \\right)}}{\\mathrm{Lu}}$"
      ],
      "text/plain": [
       "-b_-^+(s, \\phi, t)/\\mathrm{Lu}"
      ]
     },
     "metadata": {},
     "output_type": "display_data"
    },
    {
     "name": "stdout",
     "output_type": "stream",
     "text": [
      "Bz_p True False\n"
     ]
    },
    {
     "data": {
      "text/latex": [
       "$\\displaystyle - \\frac{b^{+}_{z}{\\left(s,\\phi,t \\right)}}{\\mathrm{Lu}}$"
      ],
      "text/plain": [
       "-b_z^+(s, \\phi, t)/\\mathrm{Lu}"
      ]
     },
     "metadata": {},
     "output_type": "display_data"
    },
    {
     "name": "stdout",
     "output_type": "stream",
     "text": [
      "B_mp True False\n"
     ]
    },
    {
     "data": {
      "text/latex": [
       "$\\displaystyle - \\frac{b^{-}_{+}{\\left(s,\\phi,t \\right)}}{\\mathrm{Lu}}$"
      ],
      "text/plain": [
       "-b_+^-(s, \\phi, t)/\\mathrm{Lu}"
      ]
     },
     "metadata": {},
     "output_type": "display_data"
    },
    {
     "name": "stdout",
     "output_type": "stream",
     "text": [
      "B_mm True False\n"
     ]
    },
    {
     "data": {
      "text/latex": [
       "$\\displaystyle - \\frac{b^{-}_{-}{\\left(s,\\phi,t \\right)}}{\\mathrm{Lu}}$"
      ],
      "text/plain": [
       "-b_-^-(s, \\phi, t)/\\mathrm{Lu}"
      ]
     },
     "metadata": {},
     "output_type": "display_data"
    },
    {
     "name": "stdout",
     "output_type": "stream",
     "text": [
      "Bz_m True False\n"
     ]
    },
    {
     "data": {
      "text/latex": [
       "$\\displaystyle - \\frac{b^{-}_{z}{\\left(s,\\phi,t \\right)}}{\\mathrm{Lu}}$"
      ],
      "text/plain": [
       "-b_z^-(s, \\phi, t)/\\mathrm{Lu}"
      ]
     },
     "metadata": {},
     "output_type": "display_data"
    }
   ],
   "source": [
    "import json\n",
    "from pg_utils.pg_model import base\n",
    "with open('./out/eigen/Toroidal_Quadrupole/eqs_cg.json', 'r') as fread:\n",
    "    load_array = json.load(fread)\n",
    "    eqs = base.LabeledCollection.deserialize(load_array['equations'], parser=sym.parse_expr)\n",
    "    pars = [sym.parse_expr(par) for par in load_array[\"params\"]]\n",
    "with open('./out/eigen/Toroidal_Quadrupole/eqs_cg_drag.json', 'r') as fread:\n",
    "    load_array = json.load(fread)\n",
    "    eqs2 = base.LabeledCollection.deserialize(load_array['equations'], parser=sym.parse_expr)\n",
    "    pars2 = [sym.parse_expr(par) for par in load_array[\"params\"]]\n",
    "\n",
    "for fname in eqs._field_names:\n",
    "    if eqs[fname] is not None:\n",
    "        print(\n",
    "            fname, \n",
    "            eqs[fname].lhs.equals(eqs2[fname].lhs),\n",
    "            eqs[fname].rhs.equals(eqs2[fname].rhs)\n",
    "        )\n",
    "        display(eqs2[fname].rhs - eqs[fname].rhs)"
   ]
  },
  {
   "cell_type": "markdown",
   "id": "05ce09bc-8198-46bc-a9fa-d7a98e57b6e4",
   "metadata": {},
   "source": [
    "---\n",
    "# Forms of diffusion term"
   ]
  },
  {
   "cell_type": "markdown",
   "id": "585c4edd-7571-4b9f-bec6-1e74ae8a1048",
   "metadata": {},
   "source": [
    "## Temperature - a scalar"
   ]
  },
  {
   "cell_type": "code",
   "execution_count": 4,
   "id": "d447c954-aff8-4997-acf7-2288fcdaadbc",
   "metadata": {},
   "outputs": [
    {
     "data": {
      "text/latex": [
       "$\\displaystyle T{\\left(s,\\phi,z \\right)}$"
      ],
      "text/plain": [
       "T(s, \\phi, z)"
      ]
     },
     "metadata": {},
     "output_type": "display_data"
    },
    {
     "data": {
      "text/latex": [
       "$\\displaystyle \\overline{T}{\\left(s,\\phi \\right)} = \\int\\limits_{- H{\\left(s \\right)}}^{H{\\left(s \\right)}} T{\\left(s,\\phi,z \\right)}\\, dz$"
      ],
      "text/plain": [
       "Eq(\\overline{T}(s, \\phi), Integral(T(s, \\phi, z), (z, -H(s), H(s))))"
      ]
     },
     "metadata": {},
     "output_type": "display_data"
    },
    {
     "data": {
      "text/latex": [
       "$\\displaystyle d_{T}{\\left(s,\\phi \\right)}$"
      ],
      "text/plain": [
       "d_T(s, \\phi)"
      ]
     },
     "metadata": {},
     "output_type": "display_data"
    },
    {
     "data": {
      "text/latex": [
       "$\\displaystyle \\mathcal{D}_T = \\int\\limits_{0}^{1} s d_{T}{\\left(s,\\phi \\right)}\\, ds$"
      ],
      "text/plain": [
       "Eq(\\mathcal{D}_T, Integral(s*d_T(s, \\phi), (s, 0, 1)))"
      ]
     },
     "metadata": {},
     "output_type": "display_data"
    }
   ],
   "source": [
    "from pg_utils.pg_model import base_utils as mutils\n",
    "\n",
    "T = sym.Function('T')(core.s, core.p, core.z)\n",
    "T_bar = sym.Function(r'\\overline{T}')(core.s, core.p)\n",
    "D_T = sym.Function(r'd_T')(core.s, core.p)\n",
    "D_T_tot = sym.Symbol(r'\\mathcal{D}_T')\n",
    "\n",
    "display(\n",
    "    T, \n",
    "    sym.Eq(T_bar, mutils.integrate_sym(T)), \n",
    "    D_T,\n",
    "    sym.Eq(D_T_tot, sym.integrate(core.s*D_T, (core.s, 0, 1)))\n",
    ")"
   ]
  },
  {
   "cell_type": "markdown",
   "id": "b04678c0-8ff2-4762-b493-4e0f76a99df8",
   "metadata": {},
   "source": [
    "Setup a field"
   ]
  },
  {
   "cell_type": "code",
   "execution_count": 5,
   "id": "c4882f19-28ef-4eca-b5e2-c27bee834f12",
   "metadata": {},
   "outputs": [
    {
     "data": {
      "text/latex": [
       "$\\displaystyle T{\\left(s,\\phi,z \\right)} = 2 s^{2} + 2 z^{2} - \\left(s^{2} + z^{2}\\right)^{2}$"
      ],
      "text/plain": [
       "Eq(T(s, \\phi, z), 2*s**2 + 2*z**2 - (s**2 + z**2)**2)"
      ]
     },
     "metadata": {},
     "output_type": "display_data"
    },
    {
     "data": {
      "text/latex": [
       "$\\displaystyle T{\\left(s,\\phi,z \\right)} = - r^{4} + 2 r^{2}$"
      ],
      "text/plain": [
       "Eq(T(s, \\phi, z), -r**4 + 2*r**2)"
      ]
     },
     "metadata": {},
     "output_type": "display_data"
    },
    {
     "data": {
      "text/latex": [
       "$\\displaystyle \\overline{T}{\\left(s,\\phi \\right)} = 2 \\left(\\frac{2}{3} - \\frac{2 s^{2}}{3}\\right) H^{3}{\\left(s \\right)} + 2 \\left(- s^{4} + 2 s^{2}\\right) H{\\left(s \\right)} - \\frac{2 H^{5}{\\left(s \\right)}}{5}$"
      ],
      "text/plain": [
       "Eq(\\overline{T}(s, \\phi), 2*(2/3 - 2*s**2/3)*H(s)**3 + 2*(-s**4 + 2*s**2)*H(s) - 2*H(s)**5/5)"
      ]
     },
     "metadata": {},
     "output_type": "display_data"
    }
   ],
   "source": [
    "T_sph = 2*core.r**2 - core.r**4\n",
    "# T_sph = 3*core.r**2 - sym.Rational(5, 4)*core.r**6\n",
    "T_expr = T_sph.subs({core.r**2: core.s**2 + core.z**2})\n",
    "T_bar_expr = mutils.integrate_sym(T_expr)\n",
    "\n",
    "display(\n",
    "    sym.Eq(T, T_expr), \n",
    "    sym.Eq(T, T_sph), \n",
    "    sym.Eq(T_bar, T_bar_expr)\n",
    ")"
   ]
  },
  {
   "cell_type": "markdown",
   "id": "eea57c2b-cadc-496e-bfa9-50e32d56240a",
   "metadata": {},
   "source": [
    "The quantity flux at the boundary"
   ]
  },
  {
   "cell_type": "code",
   "execution_count": 6,
   "id": "8bc20fb5-1fa4-40d9-83e0-c778a5d826c6",
   "metadata": {},
   "outputs": [
    {
     "data": {
      "text/latex": [
       "$\\displaystyle \\frac{\\partial}{\\partial r} T{\\left(s,\\phi,z \\right)} = 0$"
      ],
      "text/plain": [
       "Eq(Derivative(T(s, \\phi, z), r), 0)"
      ]
     },
     "execution_count": 6,
     "metadata": {},
     "output_type": "execute_result"
    }
   ],
   "source": [
    "sym.Eq(sym.Derivative(T, core.r), sym.diff(T_sph, core.r).doit().subs({core.r: 1}), evaluate=False)"
   ]
  },
  {
   "cell_type": "code",
   "execution_count": 7,
   "id": "9be21f0a-9a31-4014-957f-40aa3be18b17",
   "metadata": {},
   "outputs": [
    {
     "data": {
      "text/latex": [
       "$\\displaystyle \\frac{\\partial}{\\partial s} \\frac{\\overline{T}{\\left(s,\\phi \\right)}}{H{\\left(s \\right)}} = 0$"
      ],
      "text/plain": [
       "Eq(Derivative(\\overline{T}(s, \\phi)/H(s), s), 0)"
      ]
     },
     "execution_count": 7,
     "metadata": {},
     "output_type": "execute_result"
    }
   ],
   "source": [
    "sym.Eq(sym.Derivative(T_bar/core.H, core.s), sym.diff((T_bar_expr/core.H).simplify().subs({core.H: core.H_s}), core.s).subs({core.s: 1}), evaluate=False)"
   ]
  },
  {
   "cell_type": "markdown",
   "id": "4571e8e5-546d-42f5-8770-894af84bc4e7",
   "metadata": {},
   "source": [
    "### Maffei+ (2024) model\n",
    "\n",
    "In the PG-II Manuscript (Maffei+ 2024), the following diffusion term for temperature is used:\n",
    "$$\n",
    "d_T = H \\nabla_e^2 \\left(\\frac{\\overline{T}}{H}\\right)\n",
    "$$"
   ]
  },
  {
   "cell_type": "code",
   "execution_count": 8,
   "id": "7ab11c14-dc0e-4f4c-a67d-60c9982873cb",
   "metadata": {},
   "outputs": [
    {
     "data": {
      "text/latex": [
       "$\\displaystyle d_{T}{\\left(s,\\phi \\right)} = \\frac{3 s^{2} \\overline{T}{\\left(s,\\phi \\right)}}{H^{4}{\\left(s \\right)}} + \\frac{2 s \\frac{\\partial}{\\partial s} \\overline{T}{\\left(s,\\phi \\right)}}{H^{2}{\\left(s \\right)}} + \\frac{\\partial^{2}}{\\partial s^{2}} \\overline{T}{\\left(s,\\phi \\right)} + \\frac{2 \\overline{T}{\\left(s,\\phi \\right)}}{H^{2}{\\left(s \\right)}} + \\frac{\\frac{\\partial}{\\partial s} \\overline{T}{\\left(s,\\phi \\right)}}{s} + \\frac{\\frac{\\partial^{2}}{\\partial \\phi^{2}} \\overline{T}{\\left(s,\\phi \\right)}}{s^{2}}$"
      ],
      "text/plain": [
       "Eq(d_T(s, \\phi), 3*s**2*\\overline{T}(s, \\phi)/H(s)**4 + 2*s*Derivative(\\overline{T}(s, \\phi), s)/H(s)**2 + Derivative(\\overline{T}(s, \\phi), (s, 2)) + 2*\\overline{T}(s, \\phi)/H(s)**2 + Derivative(\\overline{T}(s, \\phi), s)/s + Derivative(\\overline{T}(s, \\phi), (\\phi, 2))/s**2)"
      ]
     },
     "execution_count": 8,
     "metadata": {},
     "output_type": "execute_result"
    }
   ],
   "source": [
    "D_T_SM = core.H*core.cyl.div_h(core.cyl.grad_h(T_bar/core.H))\n",
    "D_T_SM = D_T_SM.subs({core.H: core.H_s}).doit().subs({core.H_s: core.H}).expand()\n",
    "# D_SM = D_SM.subs({sym.diff(core.H, core.s): -core.s/core.H}).doit().subs({sym.diff(core.H, core.s): -core.s/core.H}).doit().expand()\n",
    "sym.Eq(D_T, D_T_SM)"
   ]
  },
  {
   "cell_type": "code",
   "execution_count": 9,
   "id": "a43ece40-ece8-44fd-87f8-2e0cf9486a4f",
   "metadata": {},
   "outputs": [
    {
     "data": {
      "text/latex": [
       "$\\displaystyle d_{T}{\\left(s,\\phi \\right)} = - \\frac{96 s^{2} H{\\left(s \\right)}}{5} - \\frac{32 H^{3}{\\left(s \\right)}}{15} + \\frac{32 H{\\left(s \\right)}}{3}$"
      ],
      "text/plain": [
       "Eq(d_T(s, \\phi), -96*s**2*H(s)/5 - 32*H(s)**3/15 + 32*H(s)/3)"
      ]
     },
     "execution_count": 9,
     "metadata": {},
     "output_type": "execute_result"
    }
   ],
   "source": [
    "D_T_mod = D_T_SM\n",
    "D_T_expr = D_T_mod.subs({T_bar: T_bar_expr})\n",
    "D_T_expr = D_T_expr.subs({core.H: core.H_s}).doit().subs({core.H_s: core.H}).expand()\n",
    "\n",
    "sym.Eq(D_T, D_T_expr)"
   ]
  },
  {
   "cell_type": "code",
   "execution_count": 10,
   "id": "aeda1573-65e5-4d97-a13a-002752160a4f",
   "metadata": {},
   "outputs": [
    {
     "data": {
      "text/latex": [
       "$\\displaystyle \\mathcal{D}_T = \\frac{128}{225}$"
      ],
      "text/plain": [
       "Eq(\\mathcal{D}_T, 128/225)"
      ]
     },
     "execution_count": 10,
     "metadata": {},
     "output_type": "execute_result"
    }
   ],
   "source": [
    "D_T_tot_expr = sym.integrate(core.s*D_T_expr.subs({core.H: core.H_s}), (core.s, 0, 1))\n",
    "\n",
    "sym.Eq(D_T_tot, D_T_tot_expr)"
   ]
  },
  {
   "cell_type": "markdown",
   "id": "566e2ddb-13cb-4836-9130-0b28a2be2419",
   "metadata": {},
   "source": [
    "### Equatorial flux model\n",
    "\n",
    "The following diffusion term gives the desired property that the diffusion term is only linked to the flux at the equator.  \n",
    "Therefore, there will be no bulk energy change with a no-flux BC.\n",
    "$$\n",
    "d_T = \\nabla_e \\cdot \\left(H \\nabla_e \\frac{\\overline{T}}{H}\\right)\n",
    "$$"
   ]
  },
  {
   "cell_type": "code",
   "execution_count": 12,
   "id": "06c32207-cd25-4049-8dd7-21b46ba232a2",
   "metadata": {},
   "outputs": [
    {
     "data": {
      "text/latex": [
       "$\\displaystyle d_{T}{\\left(s,\\phi \\right)} = \\frac{2 s^{2} \\overline{T}{\\left(s,\\phi \\right)}}{H^{4}{\\left(s \\right)}} + \\frac{s \\frac{\\partial}{\\partial s} \\overline{T}{\\left(s,\\phi \\right)}}{H^{2}{\\left(s \\right)}} + \\frac{\\partial^{2}}{\\partial s^{2}} \\overline{T}{\\left(s,\\phi \\right)} + \\frac{2 \\overline{T}{\\left(s,\\phi \\right)}}{H^{2}{\\left(s \\right)}} + \\frac{\\frac{\\partial}{\\partial s} \\overline{T}{\\left(s,\\phi \\right)}}{s} + \\frac{\\frac{\\partial^{2}}{\\partial \\phi^{2}} \\overline{T}{\\left(s,\\phi \\right)}}{s^{2}}$"
      ],
      "text/plain": [
       "Eq(d_T(s, \\phi), 2*s**2*\\overline{T}(s, \\phi)/H(s)**4 + s*Derivative(\\overline{T}(s, \\phi), s)/H(s)**2 + Derivative(\\overline{T}(s, \\phi), (s, 2)) + 2*\\overline{T}(s, \\phi)/H(s)**2 + Derivative(\\overline{T}(s, \\phi), s)/s + Derivative(\\overline{T}(s, \\phi), (\\phi, 2))/s**2)"
      ]
     },
     "execution_count": 12,
     "metadata": {},
     "output_type": "execute_result"
    }
   ],
   "source": [
    "grad_tmp = core.cyl.grad_h(T_bar/core.H)\n",
    "D_T_eqf = core.cyl.div_h((core.H*grad_tmp[0], core.H*grad_tmp[1]))\n",
    "D_T_eqf = D_T_eqf.subs({core.H: core.H_s}).doit().subs({core.H_s: core.H}).expand()\n",
    "sym.Eq(D_T, D_T_eqf)"
   ]
  },
  {
   "cell_type": "code",
   "execution_count": 13,
   "id": "e7d46a31-3a5c-4204-a116-e803abd21a42",
   "metadata": {},
   "outputs": [
    {
     "data": {
      "text/latex": [
       "$\\displaystyle d_{T}{\\left(s,\\phi \\right)} = \\frac{16 s^{4}}{3 H{\\left(s \\right)}} - \\frac{272 s^{2} H{\\left(s \\right)}}{15} - \\frac{16 s^{2}}{3 H{\\left(s \\right)}} - \\frac{32 H^{3}{\\left(s \\right)}}{15} + \\frac{32 H{\\left(s \\right)}}{3}$"
      ],
      "text/plain": [
       "Eq(d_T(s, \\phi), 16*s**4/(3*H(s)) - 272*s**2*H(s)/15 - 16*s**2/(3*H(s)) - 32*H(s)**3/15 + 32*H(s)/3)"
      ]
     },
     "execution_count": 13,
     "metadata": {},
     "output_type": "execute_result"
    }
   ],
   "source": [
    "D_T_mod = D_T_eqf\n",
    "D_T_expr = D_T_mod.subs({T_bar: T_bar_expr})\n",
    "D_T_expr = D_T_expr.subs({core.H: core.H_s}).doit().subs({core.H_s: core.H}).expand()\n",
    "\n",
    "sym.Eq(D_T, D_T_expr)"
   ]
  },
  {
   "cell_type": "code",
   "execution_count": 14,
   "id": "6b068dbb-bebe-47fe-abf0-96a567e90150",
   "metadata": {},
   "outputs": [
    {
     "data": {
      "text/latex": [
       "$\\displaystyle \\mathcal{D}_T = 0$"
      ],
      "text/plain": [
       "Eq(\\mathcal{D}_T, 0)"
      ]
     },
     "execution_count": 14,
     "metadata": {},
     "output_type": "execute_result"
    }
   ],
   "source": [
    "D_T_tot_expr = sym.integrate(core.s*D_T_expr.subs({core.H: core.H_s}), (core.s, 0, 1))\n",
    "\n",
    "sym.Eq(D_T_tot, D_T_tot_expr)"
   ]
  },
  {
   "cell_type": "markdown",
   "id": "a382964d-e132-40c5-a6b6-5818301dbcbd",
   "metadata": {},
   "source": [
    "## Viscous diffusion in SWE"
   ]
  },
  {
   "cell_type": "markdown",
   "id": "cc8e61e0-e947-4d51-9e81-47a664ec556f",
   "metadata": {},
   "source": [
    "### Maffei+ (2024) model\n",
    "\n",
    "In the PG-II Manuscript (Maffei+ 2024), the following diffusion term for temperature is used:\n",
    "$$\n",
    "d_T = H \\nabla_e^2 \\left(\\frac{\\overline{T}}{H}\\right)\n",
    "$$"
   ]
  },
  {
   "cell_type": "code",
   "execution_count": 127,
   "id": "f26c9e85-a1ba-4380-812d-59e63131e921",
   "metadata": {},
   "outputs": [
    {
     "data": {
      "text/latex": [
       "$\\displaystyle 1.0$"
      ],
      "text/plain": [
       "1.00000000000000"
      ]
     },
     "metadata": {},
     "output_type": "display_data"
    },
    {
     "data": {
      "text/latex": [
       "$\\displaystyle 0$"
      ],
      "text/plain": [
       "0"
      ]
     },
     "metadata": {},
     "output_type": "display_data"
    },
    {
     "data": {
      "text/latex": [
       "$\\displaystyle \\left(1 - \\cos{\\left(6 \\pi s \\right)}\\right)^{2} + \\frac{\\left(s - \\frac{\\sin{\\left(6 \\pi s \\right)}}{6 \\pi}\\right)^{2}}{s^{2}}$"
      ],
      "text/plain": [
       "(1 - cos(6*pi*s))**2 + (s - sin(6*pi*s)/(6*pi))**2/s**2"
      ]
     },
     "metadata": {},
     "output_type": "display_data"
    },
    {
     "data": {
      "text/latex": [
       "$\\displaystyle \\frac{\\left(2 - 2 \\cos{\\left(6 \\pi s \\right)}\\right) \\left(s - \\frac{\\sin{\\left(6 \\pi s \\right)}}{6 \\pi}\\right)}{2}$"
      ],
      "text/plain": [
       "(2 - 2*cos(6*pi*s))*(s - sin(6*pi*s)/(6*pi))/2"
      ]
     },
     "metadata": {},
     "output_type": "display_data"
    }
   ],
   "source": [
    "from pg_utils.pg_model import base_utils as mutils\n",
    "\n",
    "# u_p = core.s*(1 - core.s**2)\n",
    "# u_p = core.s*(1 - 2*core.s**2 + core.s**4)\n",
    "# u_p = 3*core.s - core.s**3\n",
    "# u_p = sym.sin(core.s/10) - sym.sin(1/10)*core.s\n",
    "k = sym.S.Pi*6\n",
    "u_p = core.s + (-1/k/sym.cos(k))*sym.sin(k*core.s)\n",
    "# u_p = core.s\n",
    "# grad_u_norm = 10*core.s**4 - 8*core.s**2 + 2\n",
    "\n",
    "grad_u_norm = sym.diff(u_p, core.s)**2 + (u_p/core.s)**2\n",
    "grad_KE = sym.diff(u_p**2, core.s)/2\n",
    "\n",
    "display(\n",
    "    u_p.subs({core.s: 1}).evalf(),\n",
    "    sym.diff(u_p, core.s).subs({core.s: 1}).evalf(),\n",
    "    grad_u_norm,\n",
    "    grad_KE\n",
    ")"
   ]
  },
  {
   "cell_type": "code",
   "execution_count": 135,
   "id": "e514a313-e03c-4972-ab0e-36c6521c93f3",
   "metadata": {},
   "outputs": [
    {
     "data": {
      "text/latex": [
       "$\\displaystyle s - \\frac{\\sin{\\left(6 \\pi s \\right)}}{6 \\pi}$"
      ],
      "text/plain": [
       "s - sin(6*pi*s)/(6*pi)"
      ]
     },
     "execution_count": 135,
     "metadata": {},
     "output_type": "execute_result"
    }
   ],
   "source": [
    "u_p"
   ]
  },
  {
   "cell_type": "code",
   "execution_count": 128,
   "id": "3ade14b1-4969-4fad-bc52-7b6bd4c62653",
   "metadata": {},
   "outputs": [
    {
     "name": "stderr",
     "output_type": "stream",
     "text": [
      "<lambdifygenerated-83>:2: RuntimeWarning: invalid value encountered in divide\n",
      "  return (1 - cos(6*pi*s))**2 + (s - 1/6*sin(6*pi*s)/pi)**2/s**2\n"
     ]
    },
    {
     "data": {
      "image/png": "[encoded data removed]",
      "text/plain": [
       "<Figure size 648x432 with 1 Axes>"
      ]
     },
     "metadata": {
      "needs_background": "light"
     },
     "output_type": "display_data"
    }
   ],
   "source": [
    "fig, ax = plt.subplots(figsize=(9, 6))\n",
    "\n",
    "s_array = np.linspace(0., 1., num=100)\n",
    "\n",
    "f_plot = sym.lambdify((core.s,), grad_u_norm, modules=['numpy', 'scipy'])\n",
    "ax.plot(s_array, f_plot(s_array)*np.ones(s_array.shape), label=r'Profile $\\nabla \\mathbf{u} : \\nabla \\mathbf{u}$')\n",
    "\n",
    "f_plot = sym.lambdify((core.s,), grad_KE, modules=['numpy', 'scipy'])\n",
    "ax.plot(s_array, f_plot(s_array)*np.ones(s_array.shape), label=r'Profile $\\nabla \\mathbf{u}^2/2$')\n",
    "\n",
    "ax.grid(which='both')\n",
    "ax.legend(fontsize=12)\n",
    "plt.show()"
   ]
  },
  {
   "cell_type": "code",
   "execution_count": 136,
   "id": "c69e7d5a-a980-4659-83a8-24046aebd81d",
   "metadata": {},
   "outputs": [
    {
     "data": {
      "image/png": "[encoded data removed]",
      "text/plain": [
       "<Figure size 648x432 with 1 Axes>"
      ]
     },
     "metadata": {
      "needs_background": "light"
     },
     "output_type": "display_data"
    }
   ],
   "source": [
    "fig, ax = plt.subplots(figsize=(9, 6))\n",
    "\n",
    "s_array = np.linspace(0., 1., num=100)\n",
    "h_expr = 1 - sym.tanh(20*(core.s - 0.85))\n",
    "\n",
    "f_plot = sym.lambdify((core.s,), h_expr, modules=['numpy', 'scipy'])\n",
    "ax.plot(s_array, f_plot(s_array)*np.ones(s_array.shape), label=r'Profile $h$')\n",
    "\n",
    "f_plot = sym.lambdify((core.s,), sym.diff(h_expr, core.s), modules=['numpy', 'scipy'])\n",
    "ax.plot(s_array, f_plot(s_array)*np.ones(s_array.shape), label=r'Profile $dh/ds$')\n",
    "\n",
    "ax.grid(which='both')\n",
    "ax.legend(fontsize=12)\n",
    "plt.show()"
   ]
  },
  {
   "cell_type": "markdown",
   "id": "7495148e-f806-4d6a-a357-03e5b84a9f02",
   "metadata": {},
   "source": [
    "Setup thickness profile"
   ]
  },
  {
   "cell_type": "code",
   "execution_count": 137,
   "id": "eb6688ef-8e70-4cd2-ac02-206f6b52cafc",
   "metadata": {},
   "outputs": [
    {
     "data": {
      "text/plain": [
       "0.0"
      ]
     },
     "metadata": {},
     "output_type": "display_data"
    },
    {
     "data": {
      "text/plain": [
       "-1.870994524382691"
      ]
     },
     "metadata": {},
     "output_type": "display_data"
    },
    {
     "data": {
      "text/plain": [
       "2.430514423149528"
      ]
     },
     "metadata": {},
     "output_type": "display_data"
    }
   ],
   "source": [
    "from scipy.special import roots_legendre\n",
    "\n",
    "# h_expr = 1 + 1*sym.sin(2*sym.S.Pi*core.s)\n",
    "# h_expr = sym.S.One\n",
    "h_expr = 1 - 1*sym.tanh(20*(core.s - 0.85))\n",
    "\n",
    "def nintegrate(integrand_expr, var, N=100):\n",
    "    f_lambda = sym.lambdify((var,), integrand_expr, modules=['numpy', 'scipy'])\n",
    "    xi, wt = roots_legendre(N)\n",
    "    f_eval = f_lambda((1 + xi)/2)\n",
    "    return 1/2*(wt @ f_eval)\n",
    "\n",
    "# boundary = (h_expr*u_p*sym.diff(u_p, core.s)).subs({core.s: 1})\n",
    "# heating_loss = -sym.integrate(h_expr*grad_u_norm*core.s, (core.s, 0, 1))\n",
    "# oppo_loss = -sym.integrate(sym.diff(h_expr, core.s)*grad_KE*core.s, (core.s, 0, 1))\n",
    "\n",
    "# display(\n",
    "#     boundary.evalf(),\n",
    "#     heating_loss.evalf(),\n",
    "#     oppo_loss.evalf()\n",
    "# )\n",
    "\n",
    "boundary = float((h_expr*u_p*sym.diff(u_p, core.s)).subs({core.s: 1}).evalf())\n",
    "heating_loss = - nintegrate(h_expr*grad_u_norm*core.s, core.s)\n",
    "oppo_loss = - nintegrate(sym.diff(h_expr, core.s)*grad_KE*core.s, core.s)\n",
    "\n",
    "display(\n",
    "    boundary,\n",
    "    heating_loss,\n",
    "    oppo_loss\n",
    ")"
   ]
  }
 ],
 "metadata": {
  "kernelspec": {
   "display_name": "Python3 (geomag)",
   "language": "python",
   "name": "geomag"
  },
  "language_info": {
   "codemirror_mode": {
    "name": "ipython",
    "version": 3
   },
   "file_extension": ".py",
   "mimetype": "text/x-python",
   "name": "python",
   "nbconvert_exporter": "python",
   "pygments_lexer": "ipython3",
   "version": "3.8.13"
  }
 },
 "nbformat": 4,
 "nbformat_minor": 5
}
