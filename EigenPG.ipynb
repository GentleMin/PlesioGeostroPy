{
 "cells": [
  {
   "cell_type": "markdown",
   "id": "83bde1b9-0e7c-458f-82d3-c4b5bebb3909",
   "metadata": {},
   "source": [
    "# Hydrodynamic and Hydromagnetic eigenmodes of Plesio-Geostrophy Model"
   ]
  },
  {
   "cell_type": "code",
   "execution_count": 1,
   "id": "9ee12b14-1aed-4819-b7b9-3a5916471321",
   "metadata": {},
   "outputs": [],
   "source": [
    "%load_ext autoreload\n",
    "%autoreload 2\n",
    "\n",
    "import numpy as np\n",
    "import scipy.special as specfun\n",
    "import sympy\n",
    "from sympy import diff\n",
    "from sympy import Derivative as diff_u\n",
    "from sympy_supp import vector_calculus_3d as v3d"
   ]
  },
  {
   "cell_type": "markdown",
   "id": "e40aa336-e0bb-4e9b-9689-949f4ba17430",
   "metadata": {},
   "source": [
    "## Initialization"
   ]
  },
  {
   "cell_type": "markdown",
   "id": "496930a8-1d94-4716-be58-8718699a6167",
   "metadata": {},
   "source": [
    "### Variables"
   ]
  },
  {
   "cell_type": "code",
   "execution_count": 2,
   "id": "52f4cdce-844c-4d9e-9dc8-06447f09cdcf",
   "metadata": {},
   "outputs": [],
   "source": [
    "x, y, z, t = sympy.symbols(\"x, y, z, t\", real=True)\n",
    "s, p, r, theta = sympy.symbols(r\"s, \\phi, r, \\theta\", positive=True)\n",
    "n, m = sympy.symbols(\"n, m\", integer=True)\n",
    "H = sympy.Function(\"H\")(s)\n",
    "H_s = sympy.sqrt(1 - s**2)\n",
    "\n",
    "cyl_op = v3d.CylindricalCoordinates((s, p, z))\n",
    "sph_op = v3d.SphericalCoordinates((r, theta, p))"
   ]
  },
  {
   "cell_type": "markdown",
   "id": "2ced94ea-185f-4e4c-8fd8-bae38788fcba",
   "metadata": {},
   "source": [
    "### Complete fields"
   ]
  },
  {
   "cell_type": "code",
   "execution_count": 3,
   "id": "fe119242-b42c-449c-be80-ad701e0e35f2",
   "metadata": {},
   "outputs": [
    {
     "data": {
      "text/latex": [
       "$\\displaystyle \\Psi{\\left(s,\\phi,t \\right)}$"
      ],
      "text/plain": [
       "\\Psi(s, \\phi, t)"
      ]
     },
     "metadata": {},
     "output_type": "display_data"
    },
    {
     "data": {
      "text/latex": [
       "$\\displaystyle \\overline{M_{ss}}{\\left(s,\\phi,t \\right)}$"
      ],
      "text/plain": [
       "\\overline{M_{ss}}(s, \\phi, t)"
      ]
     },
     "metadata": {},
     "output_type": "display_data"
    },
    {
     "data": {
      "text/latex": [
       "$\\displaystyle \\overline{M_{\\phi\\phi}}{\\left(s,\\phi,t \\right)}$"
      ],
      "text/plain": [
       "\\overline{M_{\\phi\\phi}}(s, \\phi, t)"
      ]
     },
     "metadata": {},
     "output_type": "display_data"
    },
    {
     "data": {
      "text/latex": [
       "$\\displaystyle \\overline{M_{s\\phi}}{\\left(s,\\phi,t \\right)}$"
      ],
      "text/plain": [
       "\\overline{M_{s\\phi}}(s, \\phi, t)"
      ]
     },
     "metadata": {},
     "output_type": "display_data"
    },
    {
     "data": {
      "text/latex": [
       "$\\displaystyle \\widetilde{M_{sz}}{\\left(s,\\phi,t \\right)}$"
      ],
      "text/plain": [
       "\\widetilde{M_{sz}}(s, \\phi, t)"
      ]
     },
     "metadata": {},
     "output_type": "display_data"
    },
    {
     "data": {
      "text/latex": [
       "$\\displaystyle \\widetilde{M_{\\phi z}}{\\left(s,\\phi,t \\right)}$"
      ],
      "text/plain": [
       "\\widetilde{M_{\\phi z}}(s, \\phi, t)"
      ]
     },
     "metadata": {},
     "output_type": "display_data"
    },
    {
     "data": {
      "text/latex": [
       "$\\displaystyle \\widetilde{zM_{ss}}{\\left(s,\\phi,t \\right)}$"
      ],
      "text/plain": [
       "\\widetilde{zM_{ss}}(s, \\phi, t)"
      ]
     },
     "metadata": {},
     "output_type": "display_data"
    },
    {
     "data": {
      "text/latex": [
       "$\\displaystyle \\widetilde{zM_{\\phi\\phi}}{\\left(s,\\phi,t \\right)}$"
      ],
      "text/plain": [
       "\\widetilde{zM_{\\phi\\phi}}(s, \\phi, t)"
      ]
     },
     "metadata": {},
     "output_type": "display_data"
    },
    {
     "data": {
      "text/latex": [
       "$\\displaystyle \\widetilde{zM_{s\\phi}}{\\left(s,\\phi,t \\right)}$"
      ],
      "text/plain": [
       "\\widetilde{zM_{s\\phi}}(s, \\phi, t)"
      ]
     },
     "metadata": {},
     "output_type": "display_data"
    },
    {
     "data": {
      "text/latex": [
       "$\\displaystyle B_{es}{\\left(s,\\phi,t \\right)}$"
      ],
      "text/plain": [
       "B_{es}(s, \\phi, t)"
      ]
     },
     "metadata": {},
     "output_type": "display_data"
    },
    {
     "data": {
      "text/latex": [
       "$\\displaystyle B_{e\\phi}{\\left(s,\\phi,t \\right)}$"
      ],
      "text/plain": [
       "B_{e\\phi}(s, \\phi, t)"
      ]
     },
     "metadata": {},
     "output_type": "display_data"
    },
    {
     "data": {
      "text/latex": [
       "$\\displaystyle B_{ez}{\\left(s,\\phi,t \\right)}$"
      ],
      "text/plain": [
       "B_{ez}(s, \\phi, t)"
      ]
     },
     "metadata": {},
     "output_type": "display_data"
    },
    {
     "data": {
      "text/latex": [
       "$\\displaystyle B_{es, z}{\\left(s,\\phi,t \\right)}$"
      ],
      "text/plain": [
       "B_{es, z}(s, \\phi, t)"
      ]
     },
     "metadata": {},
     "output_type": "display_data"
    },
    {
     "data": {
      "text/latex": [
       "$\\displaystyle B_{e\\phi, z}{\\left(s,\\phi,t \\right)}$"
      ],
      "text/plain": [
       "B_{e\\phi, z}(s, \\phi, t)"
      ]
     },
     "metadata": {},
     "output_type": "display_data"
    },
    {
     "data": {
      "text/latex": [
       "$\\displaystyle B_{r}{\\left(\\theta,\\phi,t \\right)}$"
      ],
      "text/plain": [
       "B_r(\\theta, \\phi, t)"
      ]
     },
     "metadata": {},
     "output_type": "display_data"
    }
   ],
   "source": [
    "Psi = sympy.Function(r\"\\Psi\")(s, p, t)\n",
    "\n",
    "Mss = sympy.Function(r\"\\overline{M_{ss}}\")(s, p, t)\n",
    "Msp = sympy.Function(r\"\\overline{M_{s\\phi}}\")(s, p, t)\n",
    "Mpp = sympy.Function(r\"\\overline{M_{\\phi\\phi}}\")(s, p, t)\n",
    "\n",
    "Msz = sympy.Function(r\"\\widetilde{M_{sz}}\")(s, p, t)\n",
    "Mpz = sympy.Function(r\"\\widetilde{M_{\\phi z}}\")(s, p, t)\n",
    "zMss = sympy.Function(r\"\\widetilde{zM_{ss}}\")(s, p, t)\n",
    "zMpp = sympy.Function(r\"\\widetilde{zM_{\\phi\\phi}}\")(s, p, t)\n",
    "zMsp = sympy.Function(r\"\\widetilde{zM_{s\\phi}}\")(s, p, t)\n",
    "\n",
    "Bs_e = sympy.Function(r\"B_{es}\")(s, p, t)\n",
    "Bp_e = sympy.Function(r\"B_{e\\phi}\")(s, p, t)\n",
    "Bz_e = sympy.Function(r\"B_{ez}\")(s, p, t)\n",
    "\n",
    "dBs_dz_e = sympy.Function(r\"B_{es, z}\")(s, p, t)\n",
    "dBp_dz_e = sympy.Function(r\"B_{e\\phi, z}\")(s, p, t)\n",
    "\n",
    "Br = sympy.Function(r\"B_r\")(theta, p, t)\n",
    "\n",
    "list_fields = [Psi, Mss, Mpp, Msp, Msz, Mpz, zMss, zMpp, zMsp, Bs_e, Bp_e, Bz_e, dBs_dz_e, dBp_dz_e, Br]\n",
    "display(*list_fields)"
   ]
  },
  {
   "cell_type": "markdown",
   "id": "bcef5f54-d948-4bc0-866b-f8cc18f0172e",
   "metadata": {},
   "source": [
    "### Boundary terms"
   ]
  },
  {
   "cell_type": "code",
   "execution_count": 4,
   "id": "ac83ab5c-9342-412c-a93b-d28b204b0df6",
   "metadata": {},
   "outputs": [],
   "source": [
    "Bs_p = sympy.Function(r\"B_s^+\")(s, p, t)\n",
    "Bp_p = sympy.Function(r\"B_\\phi^+\")(s, p, t)\n",
    "Bz_p = sympy.Function(r\"B_z^+\")(s, p, t)\n",
    "Bs_m = sympy.Function(r\"B_s^-\")(s, p, t)\n",
    "Bp_m = sympy.Function(r\"B_\\phi^-\")(s, p, t)\n",
    "Bz_m = sympy.Function(r\"B_z^-\")(s, p, t)\n",
    "\n",
    "Msz_p_expr = Bs_p*Bz_p\n",
    "Mpz_p_expr = Bp_p*Bz_p\n",
    "Mss_p_expr = Bs_p*Bs_p\n",
    "Msp_p_expr = Bs_p*Bp_p\n",
    "Mzz_p_expr = Bz_p*Bz_p\n",
    "Msz_m_expr = Bs_m*Bz_m\n",
    "Mpz_m_expr = Bp_m*Bz_m\n",
    "Mss_m_expr = Bs_m*Bs_m\n",
    "Msp_m_expr = Bs_m*Bp_m\n",
    "Mzz_m_expr = Bz_m*Bz_m\n",
    "\n",
    "list_boundaries = [Bs_p, Bp_p, Bz_p, Bs_m, Bp_m, Bz_m]\n",
    "# display(*list_boundaries)"
   ]
  },
  {
   "cell_type": "markdown",
   "id": "fe5208bc-3f18-4c9d-a7fb-0b759f48bdc7",
   "metadata": {},
   "source": [
    "### Auxiliary fields"
   ]
  },
  {
   "cell_type": "code",
   "execution_count": 51,
   "id": "3a9db833-6b5b-49f1-9245-8dac3d3cc768",
   "metadata": {},
   "outputs": [],
   "source": [
    "us = sympy.Function(r\"u_s\")(s, p, t)\n",
    "up = sympy.Function(r\"u_\\phi\")(s, p, t)\n",
    "uz = sympy.Function(r\"u_z\")(s, p, z, t)\n",
    "\n",
    "us_Psi = 1/(s*H)*diff(Psi, p)\n",
    "up_Psi = -1/H*diff(Psi, s)\n",
    "uz_Psi = z/H*diff(H, s)*us_psi"
   ]
  },
  {
   "cell_type": "markdown",
   "id": "add635dc-655c-4759-b633-8e404a47bbd9",
   "metadata": {},
   "source": [
    "---\n",
    "\n",
    "## Plesio-Geostrophy Equations\n",
    "\n",
    "Governing equations for the PG model"
   ]
  },
  {
   "cell_type": "markdown",
   "id": "2f69bf93-a576-4628-992c-3847196c00e0",
   "metadata": {},
   "source": [
    "### Vorticity equation\n",
    "\n",
    "For now I omit the viscous dissipation terms"
   ]
  },
  {
   "cell_type": "code",
   "execution_count": 7,
   "id": "99adf622-5f51-4ca0-ab44-ef0080dbbc66",
   "metadata": {},
   "outputs": [
    {
     "data": {
      "text/latex": [
       "$\\displaystyle \\left(- \\frac{\\frac{d}{d s} H{\\left(s \\right)}}{2 H^{2}{\\left(s \\right)}} + \\frac{1}{s H{\\left(s \\right)}}\\right) \\frac{\\partial^{3}}{\\partial t\\partial \\phi^{2}} \\Psi{\\left(s,\\phi,t \\right)} + \\frac{\\partial}{\\partial s} \\frac{s \\frac{\\partial^{2}}{\\partial t\\partial s} \\Psi{\\left(s,\\phi,t \\right)}}{H{\\left(s \\right)}} = - \\frac{s \\left(\\frac{s \\frac{\\partial}{\\partial s} \\overline{f_\\phi}{\\left(s,\\phi,t \\right)} + \\overline{f_\\phi}{\\left(s,\\phi,t \\right)}}{s} - \\frac{\\frac{\\partial}{\\partial \\phi} \\overline{f_s}{\\left(s,\\phi,t \\right)}}{s}\\right)}{2 H{\\left(s \\right)}} + \\left(\\frac{s f_{e\\phi}{\\left(s,\\phi,t \\right)}}{H{\\left(s \\right)}} + \\frac{\\frac{\\partial}{\\partial \\phi} \\widetilde{f_z}{\\left(s,\\phi,t \\right)}}{2 H{\\left(s \\right)}}\\right) \\frac{d}{d s} H{\\left(s \\right)} - \\frac{2 \\frac{d}{d s} H{\\left(s \\right)} \\frac{\\partial}{\\partial \\phi} \\Psi{\\left(s,\\phi,t \\right)}}{H^{2}{\\left(s \\right)}}$"
      ],
      "text/plain": [
       "Eq((-Derivative(H(s), s)/(2*H(s)**2) + 1/(s*H(s)))*Derivative(\\Psi(s, \\phi, t), (\\phi, 2), t) + Derivative(s*Derivative(\\Psi(s, \\phi, t), s, t)/H(s), s), -s*((s*Derivative(\\overline{f_\\phi}(s, \\phi, t), s) + \\overline{f_\\phi}(s, \\phi, t))/s - Derivative(\\overline{f_s}(s, \\phi, t), \\phi)/s)/(2*H(s)) + (s*f_{e\\phi}(s, \\phi, t)/H(s) + Derivative(\\widetilde{f_z}(s, \\phi, t), \\phi)/(2*H(s)))*Derivative(H(s), s) - 2*Derivative(H(s), s)*Derivative(\\Psi(s, \\phi, t), \\phi)/H(s)**2)"
      ]
     },
     "metadata": {},
     "output_type": "display_data"
    }
   ],
   "source": [
    "Ls_sym = sympy.Function(r\"\\overline{L_s}\")(s, p, t)\n",
    "Lp_sym = sympy.Function(r\"\\overline{L_\\phi}\")(s, p, t)\n",
    "Lz_asym = sympy.Function(r\"\\widetilde{L_z}\")(s, p, t)\n",
    "Le_p = sympy.Function(r\"L_{e\\phi}\")(s, p, t)\n",
    "\n",
    "fs_sym = sympy.Function(r\"\\overline{f_s}\")(s, p, t)\n",
    "fp_sym = sympy.Function(r\"\\overline{f_\\phi}\")(s, p, t)\n",
    "fz_asym = sympy.Function(r\"\\widetilde{f_z}\")(s, p, t)\n",
    "fe_p = sympy.Function(r\"f_{e\\phi}\")(s, p, t)\n",
    "\n",
    "# vorticity_var = -2*cyl_op.laplacian(diff(Psi, t)) + diff(H, s)*(2/H*diff(Psi, t, s) + 1/s/H*diff(Psi, t, (p, 2)))\n",
    "# vorticity_forcing = diff(H, s)*4/s/H*diff(Psi, p) - diff(H, s)*(2*fe_p + 1/s*diff(fz_asym, p)) + cyl_op.curl((fs_sym, fp_sym, 0))[2]\n",
    "\n",
    "# Self-adjoint form\n",
    "vorticity_var = diff_u(s/H*diff(Psi, t, s), s) + (1/(s*H) - 1/(2*H**2)*diff(H, s))*diff(Psi, t, (p, 2))\n",
    "vorticity_forcing = -2/H**2*diff(H, s)*diff(Psi, p) + diff(H, s)*(s/H*fe_p + 1/(2*H)*diff(fz_asym, p)) - s/(2*H)*cyl_op.curl((fs_sym, fp_sym, 0))[2]\n",
    "\n",
    "display(sympy.Eq(vorticity_var, vorticity_forcing))"
   ]
  },
  {
   "cell_type": "markdown",
   "id": "88a530d3-1eab-4890-a084-65e6b14498ba",
   "metadata": {},
   "source": [
    "### Lorentz force"
   ]
  },
  {
   "cell_type": "code",
   "execution_count": 8,
   "id": "239e14a3-ee99-4429-a02c-2ad9abed8cb7",
   "metadata": {},
   "outputs": [
    {
     "data": {
      "text/latex": [
       "$\\displaystyle \\overline{L_s}{\\left(s,\\phi,t \\right)} = \\frac{s \\left(\\left(B^{+}_{s}\\right)^{2}{\\left(s,\\phi,t \\right)} + \\left(B^{-}_{s}\\right)^{2}{\\left(s,\\phi,t \\right)}\\right)}{H{\\left(s \\right)}} + B^{+}_{s}{\\left(s,\\phi,t \\right)} B^{+}_{z}{\\left(s,\\phi,t \\right)} - B^{-}_{s}{\\left(s,\\phi,t \\right)} B^{-}_{z}{\\left(s,\\phi,t \\right)} + \\frac{s \\frac{\\partial}{\\partial s} \\overline{M_{ss}}{\\left(s,\\phi,t \\right)} + \\overline{M_{ss}}{\\left(s,\\phi,t \\right)}}{s} - \\frac{\\overline{M_{\\phi\\phi}}{\\left(s,\\phi,t \\right)}}{s} + \\frac{\\frac{\\partial}{\\partial \\phi} \\overline{M_{s\\phi}}{\\left(s,\\phi,t \\right)}}{s}$"
      ],
      "text/plain": [
       "Eq(\\overline{L_s}(s, \\phi, t), s*(B_s^+(s, \\phi, t)**2 + B_s^-(s, \\phi, t)**2)/H(s) + B_s^+(s, \\phi, t)*B_z^+(s, \\phi, t) - B_s^-(s, \\phi, t)*B_z^-(s, \\phi, t) + (s*Derivative(\\overline{M_{ss}}(s, \\phi, t), s) + \\overline{M_{ss}}(s, \\phi, t))/s - \\overline{M_{\\phi\\phi}}(s, \\phi, t)/s + Derivative(\\overline{M_{s\\phi}}(s, \\phi, t), \\phi)/s)"
      ]
     },
     "metadata": {},
     "output_type": "display_data"
    },
    {
     "data": {
      "text/latex": [
       "$\\displaystyle \\overline{L_\\phi}{\\left(s,\\phi,t \\right)} = \\frac{s \\left(B^{+}_{\\phi}{\\left(s,\\phi,t \\right)} B^{+}_{s}{\\left(s,\\phi,t \\right)} + B^{-}_{\\phi}{\\left(s,\\phi,t \\right)} B^{-}_{s}{\\left(s,\\phi,t \\right)}\\right)}{H{\\left(s \\right)}} + B^{+}_{\\phi}{\\left(s,\\phi,t \\right)} B^{+}_{z}{\\left(s,\\phi,t \\right)} - B^{-}_{\\phi}{\\left(s,\\phi,t \\right)} B^{-}_{z}{\\left(s,\\phi,t \\right)} + \\frac{s \\frac{\\partial}{\\partial s} \\overline{M_{s\\phi}}{\\left(s,\\phi,t \\right)} + \\overline{M_{s\\phi}}{\\left(s,\\phi,t \\right)}}{s} + \\frac{\\overline{M_{s\\phi}}{\\left(s,\\phi,t \\right)}}{s} + \\frac{\\frac{\\partial}{\\partial \\phi} \\overline{M_{\\phi\\phi}}{\\left(s,\\phi,t \\right)}}{s}$"
      ],
      "text/plain": [
       "Eq(\\overline{L_\\phi}(s, \\phi, t), s*(B_\\phi^+(s, \\phi, t)*B_s^+(s, \\phi, t) + B_\\phi^-(s, \\phi, t)*B_s^-(s, \\phi, t))/H(s) + B_\\phi^+(s, \\phi, t)*B_z^+(s, \\phi, t) - B_\\phi^-(s, \\phi, t)*B_z^-(s, \\phi, t) + (s*Derivative(\\overline{M_{s\\phi}}(s, \\phi, t), s) + \\overline{M_{s\\phi}}(s, \\phi, t))/s + \\overline{M_{s\\phi}}(s, \\phi, t)/s + Derivative(\\overline{M_{\\phi\\phi}}(s, \\phi, t), \\phi)/s)"
      ]
     },
     "metadata": {},
     "output_type": "display_data"
    },
    {
     "data": {
      "text/latex": [
       "$\\displaystyle \\widetilde{L_z}{\\left(s,\\phi,t \\right)} = \\frac{s \\left(B^{+}_{s}{\\left(s,\\phi,t \\right)} B^{+}_{z}{\\left(s,\\phi,t \\right)} - B^{-}_{s}{\\left(s,\\phi,t \\right)} B^{-}_{z}{\\left(s,\\phi,t \\right)}\\right)}{H{\\left(s \\right)}} + \\left(B^{+}_{z}\\right)^{2}{\\left(s,\\phi,t \\right)} + \\left(B^{-}_{z}\\right)^{2}{\\left(s,\\phi,t \\right)} - 2 B_{ez}^{2}{\\left(s,\\phi,t \\right)} + \\frac{s \\frac{\\partial}{\\partial s} \\widetilde{M_{sz}}{\\left(s,\\phi,t \\right)} + \\widetilde{M_{sz}}{\\left(s,\\phi,t \\right)}}{s} + \\frac{\\frac{\\partial}{\\partial \\phi} \\widetilde{M_{\\phi z}}{\\left(s,\\phi,t \\right)}}{s}$"
      ],
      "text/plain": [
       "Eq(\\widetilde{L_z}(s, \\phi, t), s*(B_s^+(s, \\phi, t)*B_z^+(s, \\phi, t) - B_s^-(s, \\phi, t)*B_z^-(s, \\phi, t))/H(s) + B_z^+(s, \\phi, t)**2 + B_z^-(s, \\phi, t)**2 - 2*B_{ez}(s, \\phi, t)**2 + (s*Derivative(\\widetilde{M_{sz}}(s, \\phi, t), s) + \\widetilde{M_{sz}}(s, \\phi, t))/s + Derivative(\\widetilde{M_{\\phi z}}(s, \\phi, t), \\phi)/s)"
      ]
     },
     "metadata": {},
     "output_type": "display_data"
    },
    {
     "data": {
      "text/latex": [
       "$\\displaystyle L_{e\\phi}{\\left(s,\\phi,t \\right)} = B_{e\\phi, z}{\\left(s,\\phi,t \\right)} B_{ez}{\\left(s,\\phi,t \\right)} + B_{es}{\\left(s,\\phi,t \\right)} \\frac{\\partial}{\\partial s} B_{e\\phi}{\\left(s,\\phi,t \\right)} + \\frac{B_{e\\phi}{\\left(s,\\phi,t \\right)} B_{es}{\\left(s,\\phi,t \\right)}}{s} + \\frac{B_{e\\phi}{\\left(s,\\phi,t \\right)} \\frac{\\partial}{\\partial \\phi} B_{e\\phi}{\\left(s,\\phi,t \\right)}}{s}$"
      ],
      "text/plain": [
       "Eq(L_{e\\phi}(s, \\phi, t), B_{e\\phi, z}(s, \\phi, t)*B_{ez}(s, \\phi, t) + B_{es}(s, \\phi, t)*Derivative(B_{e\\phi}(s, \\phi, t), s) + B_{e\\phi}(s, \\phi, t)*B_{es}(s, \\phi, t)/s + B_{e\\phi}(s, \\phi, t)*Derivative(B_{e\\phi}(s, \\phi, t), \\phi)/s)"
      ]
     },
     "metadata": {},
     "output_type": "display_data"
    }
   ],
   "source": [
    "Ls_sym_expr = 1/s*diff(s*Mss, s) + 1/s*diff(Msp, p) - Mpp/s + (Msz_p_expr - Msz_m_expr) + s/H*(Mss_p_expr + Mss_m_expr)\n",
    "Lp_sym_expr = 1/s*diff(s*Msp, s) + 1/s*diff(Mpp, p) + Msp/s + (Mpz_p_expr - Mpz_m_expr) + s/H*(Msp_p_expr + Msp_m_expr)\n",
    "Lz_asym_expr = 1/s*diff(s*Msz, s) + 1/s*diff(Mpz, p) + (Mzz_p_expr + Mzz_m_expr - 2*Bz_e*Bz_e) + s/H*(Msz_p_expr - Msz_m_expr)\n",
    "Le_p_expr = Bs_e*diff(Bp_e, s) + 1/s*Bp_e*diff(Bp_e, p) + Bz_e*dBp_dz_e + 1/s*Bs_e*Bp_e\n",
    "\n",
    "display(\n",
    "    sympy.Eq(Ls_sym, Ls_sym_expr),\n",
    "    sympy.Eq(Lp_sym, Lp_sym_expr),\n",
    "    sympy.Eq(Lz_asym, Lz_asym_expr),\n",
    "    sympy.Eq(Le_p, Le_p_expr)\n",
    ")"
   ]
  },
  {
   "cell_type": "markdown",
   "id": "6d39468f-82ff-4103-88bf-397ce751e060",
   "metadata": {},
   "source": [
    "### Alternative form in Cartesian components\n",
    "\n",
    "Only moment tensor components are cartesian; the fields are still defined in cylindrical coordinates."
   ]
  },
  {
   "cell_type": "code",
   "execution_count": 9,
   "id": "fcd3f211-0f8a-49e9-a479-e3e1f633058b",
   "metadata": {},
   "outputs": [
    {
     "data": {
      "text/latex": [
       "$\\displaystyle \\frac{s \\left(B^{+}_{s}\\right)^{2}{\\left(s,\\phi,t \\right)}}{H{\\left(s \\right)}} + \\frac{s \\left(B^{-}_{s}\\right)^{2}{\\left(s,\\phi,t \\right)}}{H{\\left(s \\right)}} + B^{+}_{s}{\\left(s,\\phi,t \\right)} B^{+}_{z}{\\left(s,\\phi,t \\right)} - B^{-}_{s}{\\left(s,\\phi,t \\right)} B^{-}_{z}{\\left(s,\\phi,t \\right)} + \\frac{\\partial}{\\partial s} \\left(\\overline{M_{xx}}{\\left(s,\\phi,t \\right)} \\cos^{2}{\\left(\\phi \\right)} + 2 \\overline{M_{xy}}{\\left(s,\\phi,t \\right)} \\sin{\\left(\\phi \\right)} \\cos{\\left(\\phi \\right)} + \\overline{M_{yy}}{\\left(s,\\phi,t \\right)} \\sin^{2}{\\left(\\phi \\right)}\\right) - \\frac{\\overline{M_{xx}}{\\left(s,\\phi,t \\right)} \\sin^{2}{\\left(\\phi \\right)}}{s} + \\frac{\\overline{M_{xx}}{\\left(s,\\phi,t \\right)} \\cos^{2}{\\left(\\phi \\right)}}{s} + \\frac{4 \\overline{M_{xy}}{\\left(s,\\phi,t \\right)} \\sin{\\left(\\phi \\right)} \\cos{\\left(\\phi \\right)}}{s} + \\frac{\\overline{M_{yy}}{\\left(s,\\phi,t \\right)} \\sin^{2}{\\left(\\phi \\right)}}{s} - \\frac{\\overline{M_{yy}}{\\left(s,\\phi,t \\right)} \\cos^{2}{\\left(\\phi \\right)}}{s} + \\frac{\\frac{\\partial}{\\partial \\phi} \\left(- \\overline{M_{xx}}{\\left(s,\\phi,t \\right)} \\sin{\\left(\\phi \\right)} \\cos{\\left(\\phi \\right)} - \\overline{M_{xy}}{\\left(s,\\phi,t \\right)} \\sin^{2}{\\left(\\phi \\right)} + \\overline{M_{xy}}{\\left(s,\\phi,t \\right)} \\cos^{2}{\\left(\\phi \\right)} + \\overline{M_{yy}}{\\left(s,\\phi,t \\right)} \\sin{\\left(\\phi \\right)} \\cos{\\left(\\phi \\right)}\\right)}{s}$"
      ],
      "text/plain": [
       "s*B_s^+(s, \\phi, t)**2/H(s) + s*B_s^-(s, \\phi, t)**2/H(s) + B_s^+(s, \\phi, t)*B_z^+(s, \\phi, t) - B_s^-(s, \\phi, t)*B_z^-(s, \\phi, t) + Derivative(\\overline{M_{xx}}(s, \\phi, t)*cos(\\phi)**2 + 2*\\overline{M_{xy}}(s, \\phi, t)*sin(\\phi)*cos(\\phi) + \\overline{M_{yy}}(s, \\phi, t)*sin(\\phi)**2, s) - \\overline{M_{xx}}(s, \\phi, t)*sin(\\phi)**2/s + \\overline{M_{xx}}(s, \\phi, t)*cos(\\phi)**2/s + 4*\\overline{M_{xy}}(s, \\phi, t)*sin(\\phi)*cos(\\phi)/s + \\overline{M_{yy}}(s, \\phi, t)*sin(\\phi)**2/s - \\overline{M_{yy}}(s, \\phi, t)*cos(\\phi)**2/s + Derivative(-\\overline{M_{xx}}(s, \\phi, t)*sin(\\phi)*cos(\\phi) - \\overline{M_{xy}}(s, \\phi, t)*sin(\\phi)**2 + \\overline{M_{xy}}(s, \\phi, t)*cos(\\phi)**2 + \\overline{M_{yy}}(s, \\phi, t)*sin(\\phi)*cos(\\phi), \\phi)/s"
      ]
     },
     "metadata": {},
     "output_type": "display_data"
    },
    {
     "data": {
      "text/latex": [
       "$\\displaystyle \\frac{s \\left(B^{+}_{s}\\right)^{2}{\\left(s,\\phi,t \\right)}}{H{\\left(s \\right)}} + \\frac{s \\left(B^{-}_{s}\\right)^{2}{\\left(s,\\phi,t \\right)}}{H{\\left(s \\right)}} + B^{+}_{s}{\\left(s,\\phi,t \\right)} B^{+}_{z}{\\left(s,\\phi,t \\right)} - B^{-}_{s}{\\left(s,\\phi,t \\right)} B^{-}_{z}{\\left(s,\\phi,t \\right)} + \\frac{\\partial}{\\partial s} \\left(\\overline{M_{xx}}{\\left(s,\\phi,t \\right)} \\cos^{2}{\\left(\\phi \\right)} + 2 \\overline{M_{xy}}{\\left(s,\\phi,t \\right)} \\sin{\\left(\\phi \\right)} \\cos{\\left(\\phi \\right)} + \\overline{M_{yy}}{\\left(s,\\phi,t \\right)} \\sin^{2}{\\left(\\phi \\right)}\\right) - \\frac{\\overline{M_{xx}}{\\left(s,\\phi,t \\right)} \\sin^{2}{\\left(\\phi \\right)}}{s} + \\frac{\\overline{M_{xx}}{\\left(s,\\phi,t \\right)} \\cos^{2}{\\left(\\phi \\right)}}{s} + \\frac{4 \\overline{M_{xy}}{\\left(s,\\phi,t \\right)} \\sin{\\left(\\phi \\right)} \\cos{\\left(\\phi \\right)}}{s} + \\frac{\\overline{M_{yy}}{\\left(s,\\phi,t \\right)} \\sin^{2}{\\left(\\phi \\right)}}{s} - \\frac{\\overline{M_{yy}}{\\left(s,\\phi,t \\right)} \\cos^{2}{\\left(\\phi \\right)}}{s} + \\frac{\\frac{\\partial}{\\partial \\phi} \\left(- \\overline{M_{xx}}{\\left(s,\\phi,t \\right)} \\sin{\\left(\\phi \\right)} \\cos{\\left(\\phi \\right)} - \\overline{M_{xy}}{\\left(s,\\phi,t \\right)} \\sin^{2}{\\left(\\phi \\right)} + \\overline{M_{xy}}{\\left(s,\\phi,t \\right)} \\cos^{2}{\\left(\\phi \\right)} + \\overline{M_{yy}}{\\left(s,\\phi,t \\right)} \\sin{\\left(\\phi \\right)} \\cos{\\left(\\phi \\right)}\\right)}{s}$"
      ],
      "text/plain": [
       "s*B_s^+(s, \\phi, t)**2/H(s) + s*B_s^-(s, \\phi, t)**2/H(s) + B_s^+(s, \\phi, t)*B_z^+(s, \\phi, t) - B_s^-(s, \\phi, t)*B_z^-(s, \\phi, t) + Derivative(\\overline{M_{xx}}(s, \\phi, t)*cos(\\phi)**2 + 2*\\overline{M_{xy}}(s, \\phi, t)*sin(\\phi)*cos(\\phi) + \\overline{M_{yy}}(s, \\phi, t)*sin(\\phi)**2, s) - \\overline{M_{xx}}(s, \\phi, t)*sin(\\phi)**2/s + \\overline{M_{xx}}(s, \\phi, t)*cos(\\phi)**2/s + 4*\\overline{M_{xy}}(s, \\phi, t)*sin(\\phi)*cos(\\phi)/s + \\overline{M_{yy}}(s, \\phi, t)*sin(\\phi)**2/s - \\overline{M_{yy}}(s, \\phi, t)*cos(\\phi)**2/s + Derivative(-\\overline{M_{xx}}(s, \\phi, t)*sin(\\phi)*cos(\\phi) - \\overline{M_{xy}}(s, \\phi, t)*sin(\\phi)**2 + \\overline{M_{xy}}(s, \\phi, t)*cos(\\phi)**2 + \\overline{M_{yy}}(s, \\phi, t)*sin(\\phi)*cos(\\phi), \\phi)/s"
      ]
     },
     "metadata": {},
     "output_type": "display_data"
    },
    {
     "data": {
      "text/latex": [
       "$\\displaystyle \\frac{s \\left(B^{+}_{s}\\right)^{2}{\\left(s,\\phi,t \\right)}}{H{\\left(s \\right)}} + \\frac{s \\left(B^{-}_{s}\\right)^{2}{\\left(s,\\phi,t \\right)}}{H{\\left(s \\right)}} + B^{+}_{s}{\\left(s,\\phi,t \\right)} B^{+}_{z}{\\left(s,\\phi,t \\right)} - B^{-}_{s}{\\left(s,\\phi,t \\right)} B^{-}_{z}{\\left(s,\\phi,t \\right)} + \\frac{\\partial}{\\partial s} \\left(\\overline{M_{xx}}{\\left(s,\\phi,t \\right)} \\cos^{2}{\\left(\\phi \\right)} + 2 \\overline{M_{xy}}{\\left(s,\\phi,t \\right)} \\sin{\\left(\\phi \\right)} \\cos{\\left(\\phi \\right)} + \\overline{M_{yy}}{\\left(s,\\phi,t \\right)} \\sin^{2}{\\left(\\phi \\right)}\\right) - \\frac{\\overline{M_{xx}}{\\left(s,\\phi,t \\right)} \\sin^{2}{\\left(\\phi \\right)}}{s} + \\frac{\\overline{M_{xx}}{\\left(s,\\phi,t \\right)} \\cos^{2}{\\left(\\phi \\right)}}{s} + \\frac{4 \\overline{M_{xy}}{\\left(s,\\phi,t \\right)} \\sin{\\left(\\phi \\right)} \\cos{\\left(\\phi \\right)}}{s} + \\frac{\\overline{M_{yy}}{\\left(s,\\phi,t \\right)} \\sin^{2}{\\left(\\phi \\right)}}{s} - \\frac{\\overline{M_{yy}}{\\left(s,\\phi,t \\right)} \\cos^{2}{\\left(\\phi \\right)}}{s} + \\frac{\\frac{\\partial}{\\partial \\phi} \\left(- \\overline{M_{xx}}{\\left(s,\\phi,t \\right)} \\sin{\\left(\\phi \\right)} \\cos{\\left(\\phi \\right)} - \\overline{M_{xy}}{\\left(s,\\phi,t \\right)} \\sin^{2}{\\left(\\phi \\right)} + \\overline{M_{xy}}{\\left(s,\\phi,t \\right)} \\cos^{2}{\\left(\\phi \\right)} + \\overline{M_{yy}}{\\left(s,\\phi,t \\right)} \\sin{\\left(\\phi \\right)} \\cos{\\left(\\phi \\right)}\\right)}{s}$"
      ],
      "text/plain": [
       "s*B_s^+(s, \\phi, t)**2/H(s) + s*B_s^-(s, \\phi, t)**2/H(s) + B_s^+(s, \\phi, t)*B_z^+(s, \\phi, t) - B_s^-(s, \\phi, t)*B_z^-(s, \\phi, t) + Derivative(\\overline{M_{xx}}(s, \\phi, t)*cos(\\phi)**2 + 2*\\overline{M_{xy}}(s, \\phi, t)*sin(\\phi)*cos(\\phi) + \\overline{M_{yy}}(s, \\phi, t)*sin(\\phi)**2, s) - \\overline{M_{xx}}(s, \\phi, t)*sin(\\phi)**2/s + \\overline{M_{xx}}(s, \\phi, t)*cos(\\phi)**2/s + 4*\\overline{M_{xy}}(s, \\phi, t)*sin(\\phi)*cos(\\phi)/s + \\overline{M_{yy}}(s, \\phi, t)*sin(\\phi)**2/s - \\overline{M_{yy}}(s, \\phi, t)*cos(\\phi)**2/s + Derivative(-\\overline{M_{xx}}(s, \\phi, t)*sin(\\phi)*cos(\\phi) - \\overline{M_{xy}}(s, \\phi, t)*sin(\\phi)**2 + \\overline{M_{xy}}(s, \\phi, t)*cos(\\phi)**2 + \\overline{M_{yy}}(s, \\phi, t)*sin(\\phi)*cos(\\phi), \\phi)/s"
      ]
     },
     "metadata": {},
     "output_type": "display_data"
    }
   ],
   "source": [
    "Mxx = sympy.Function(r\"\\overline{M_{xx}}\")(s, p, t)\n",
    "Mxy = sympy.Function(r\"\\overline{M_{xy}}\")(s, p, t)\n",
    "Myy = sympy.Function(r\"\\overline{M_{yy}}\")(s, p, t)\n",
    "\n",
    "Mxz = sympy.Function(r\"\\widetilde{M_{xz}}\")(s, p, t)\n",
    "Myz = sympy.Function(r\"\\widetilde{M_{yz}}\")(s, p, t)\n",
    "zMxx = sympy.Function(r\"\\widetilde{zM_{xx}}\")(s, p, t)\n",
    "zMyy = sympy.Function(r\"\\widetilde{zM_{yy}}\")(s, p, t)\n",
    "zMxy = sympy.Function(r\"\\widetilde{zM_{xy}}\")(s, p, t)\n",
    "\n",
    "rank2_tensor_transform = {\n",
    "    Mss: sympy.cos(p)**2*Mxx + sympy.sin(p)**2*Myy + 2*sympy.sin(p)*sympy.cos(p)*Mxy,\n",
    "    Mpp: sympy.sin(p)**2*Mxx + sympy.cos(p)**2*Myy - 2*sympy.sin(p)*sympy.cos(p)*Mxy,\n",
    "    Msp: sympy.cos(p)*sympy.sin(p)*(Myy - Mxx) + (sympy.cos(p)**2 - sympy.sin(p)**2)*Mxy,\n",
    "    Msz: sympy.cos(p)*Mxz + sympy.sin(p)*Myz,\n",
    "    Mpz: -sympy.sin(p)*Mxz + sympy.cos(p)*Myz,\n",
    "    zMss: sympy.cos(p)**2*zMxx + sympy.sin(p)**2*zMyy + 2*sympy.sin(p)*sympy.cos(p)*zMxy,\n",
    "    zMpp: sympy.sin(p)**2*zMxx + sympy.cos(p)**2*zMyy - 2*sympy.sin(p)*sympy.cos(p)*zMxy,\n",
    "    zMsp: sympy.cos(p)*sympy.sin(p)*(zMyy - zMxx) + (sympy.cos(p)**2 - sympy.sin(p)**2)*zMxy,\n",
    "}\n",
    "\n",
    "Ls_sym_expr_cart = Ls_sym_expr.subs(rank2_tensor_transform)\n",
    "Lp_sym_expr_cart = Ls_sym_expr.subs(rank2_tensor_transform)\n",
    "Lz_asym_expr_cart = Ls_sym_expr.subs(rank2_tensor_transform)\n",
    "\n",
    "display(Ls_sym_expr_cart.expand(), Lp_sym_expr_cart.expand(), Lz_asym_expr_cart.expand())"
   ]
  },
  {
   "cell_type": "markdown",
   "id": "2117bab2-603e-4c4f-af07-0ac3bbdaa814",
   "metadata": {},
   "source": [
    "### Induction equation - the magnetic moments"
   ]
  },
  {
   "cell_type": "code",
   "execution_count": 10,
   "id": "f2516463-4492-4257-bc16-f323bac6ba1c",
   "metadata": {},
   "outputs": [
    {
     "data": {
      "text/latex": [
       "$\\displaystyle \\frac{\\partial}{\\partial t} \\overline{M_{ss}}{\\left(s,\\phi,t \\right)} = - \\left(u_{s}{\\left(s,\\phi,t \\right)} \\frac{\\partial}{\\partial s} \\frac{\\overline{M_{ss}}{\\left(s,\\phi,t \\right)}}{H{\\left(s \\right)}} + \\frac{u_{\\phi}{\\left(s,\\phi,t \\right)} \\frac{\\partial}{\\partial \\phi} \\frac{\\overline{M_{ss}}{\\left(s,\\phi,t \\right)}}{H{\\left(s \\right)}}}{s}\\right) H{\\left(s \\right)} + 2 \\overline{M_{ss}}{\\left(s,\\phi,t \\right)} \\frac{\\partial}{\\partial s} u_{s}{\\left(s,\\phi,t \\right)} + \\frac{2 \\overline{M_{s\\phi}}{\\left(s,\\phi,t \\right)} \\frac{\\partial}{\\partial \\phi} u_{s}{\\left(s,\\phi,t \\right)}}{s}$"
      ],
      "text/plain": [
       "Eq(Derivative(\\overline{M_{ss}}(s, \\phi, t), t), -(u_s(s, \\phi, t)*Derivative(\\overline{M_{ss}}(s, \\phi, t)/H(s), s) + u_\\phi(s, \\phi, t)*Derivative(\\overline{M_{ss}}(s, \\phi, t)/H(s), \\phi)/s)*H(s) + 2*\\overline{M_{ss}}(s, \\phi, t)*Derivative(u_s(s, \\phi, t), s) + 2*\\overline{M_{s\\phi}}(s, \\phi, t)*Derivative(u_s(s, \\phi, t), \\phi)/s)"
      ]
     },
     "metadata": {},
     "output_type": "display_data"
    },
    {
     "data": {
      "text/latex": [
       "$\\displaystyle \\frac{\\partial}{\\partial t} \\overline{M_{\\phi\\phi}}{\\left(s,\\phi,t \\right)} = 2 s \\overline{M_{s\\phi}}{\\left(s,\\phi,t \\right)} \\frac{\\partial}{\\partial s} \\frac{u_{\\phi}{\\left(s,\\phi,t \\right)}}{s} - \\frac{u_{s}{\\left(s,\\phi,t \\right)} \\frac{\\partial}{\\partial s} H{\\left(s \\right)} \\overline{M_{\\phi\\phi}}{\\left(s,\\phi,t \\right)} + \\frac{u_{\\phi}{\\left(s,\\phi,t \\right)} \\frac{\\partial}{\\partial \\phi} H{\\left(s \\right)} \\overline{M_{\\phi\\phi}}{\\left(s,\\phi,t \\right)}}{s}}{H{\\left(s \\right)}} - 2 \\overline{M_{\\phi\\phi}}{\\left(s,\\phi,t \\right)} \\frac{\\partial}{\\partial s} u_{s}{\\left(s,\\phi,t \\right)}$"
      ],
      "text/plain": [
       "Eq(Derivative(\\overline{M_{\\phi\\phi}}(s, \\phi, t), t), 2*s*\\overline{M_{s\\phi}}(s, \\phi, t)*Derivative(u_\\phi(s, \\phi, t)/s, s) - (u_s(s, \\phi, t)*Derivative(H(s)*\\overline{M_{\\phi\\phi}}(s, \\phi, t), s) + u_\\phi(s, \\phi, t)*Derivative(H(s)*\\overline{M_{\\phi\\phi}}(s, \\phi, t), \\phi)/s)/H(s) - 2*\\overline{M_{\\phi\\phi}}(s, \\phi, t)*Derivative(u_s(s, \\phi, t), s))"
      ]
     },
     "metadata": {},
     "output_type": "display_data"
    },
    {
     "data": {
      "text/latex": [
       "$\\displaystyle \\frac{\\partial}{\\partial t} \\overline{M_{s\\phi}}{\\left(s,\\phi,t \\right)} = s \\overline{M_{ss}}{\\left(s,\\phi,t \\right)} \\frac{\\partial}{\\partial s} \\frac{u_{\\phi}{\\left(s,\\phi,t \\right)}}{s} - u_{s}{\\left(s,\\phi,t \\right)} \\frac{\\partial}{\\partial s} \\overline{M_{s\\phi}}{\\left(s,\\phi,t \\right)} + \\frac{\\overline{M_{\\phi\\phi}}{\\left(s,\\phi,t \\right)} \\frac{\\partial}{\\partial \\phi} u_{s}{\\left(s,\\phi,t \\right)}}{s} - \\frac{u_{\\phi}{\\left(s,\\phi,t \\right)} \\frac{\\partial}{\\partial \\phi} \\overline{M_{s\\phi}}{\\left(s,\\phi,t \\right)}}{s}$"
      ],
      "text/plain": [
       "Eq(Derivative(\\overline{M_{s\\phi}}(s, \\phi, t), t), s*\\overline{M_{ss}}(s, \\phi, t)*Derivative(u_\\phi(s, \\phi, t)/s, s) - u_s(s, \\phi, t)*Derivative(\\overline{M_{s\\phi}}(s, \\phi, t), s) + \\overline{M_{\\phi\\phi}}(s, \\phi, t)*Derivative(u_s(s, \\phi, t), \\phi)/s - u_\\phi(s, \\phi, t)*Derivative(\\overline{M_{s\\phi}}(s, \\phi, t), \\phi)/s)"
      ]
     },
     "metadata": {},
     "output_type": "display_data"
    },
    {
     "data": {
      "text/latex": [
       "$\\displaystyle \\frac{\\partial}{\\partial t} \\widetilde{M_{sz}}{\\left(s,\\phi,t \\right)} = \\left(\\frac{\\partial}{\\partial s} u_{s}{\\left(s,\\phi,t \\right)} + 2 \\frac{\\partial}{\\partial z} u_{z}{\\left(s,\\phi,z,t \\right)}\\right) \\widetilde{M_{sz}}{\\left(s,\\phi,t \\right)} + \\widetilde{zM_{ss}}{\\left(s,\\phi,t \\right)} \\frac{\\partial}{\\partial s} \\frac{u_{s}{\\left(s,\\phi,t \\right)} \\frac{d}{d s} H{\\left(s \\right)}}{H{\\left(s \\right)}} - u_{s}{\\left(s,\\phi,t \\right)} \\frac{\\partial}{\\partial s} \\widetilde{M_{sz}}{\\left(s,\\phi,t \\right)} + \\frac{\\widetilde{M_{\\phi z}}{\\left(s,\\phi,t \\right)} \\frac{\\partial}{\\partial \\phi} u_{s}{\\left(s,\\phi,t \\right)}}{s} - \\frac{u_{\\phi}{\\left(s,\\phi,t \\right)} \\frac{\\partial}{\\partial \\phi} \\widetilde{M_{sz}}{\\left(s,\\phi,t \\right)}}{s} + \\frac{\\widetilde{zM_{s\\phi}}{\\left(s,\\phi,t \\right)} \\frac{d}{d s} H{\\left(s \\right)} \\frac{\\partial}{\\partial \\phi} u_{s}{\\left(s,\\phi,t \\right)}}{s H{\\left(s \\right)}}$"
      ],
      "text/plain": [
       "Eq(Derivative(\\widetilde{M_{sz}}(s, \\phi, t), t), (Derivative(u_s(s, \\phi, t), s) + 2*Derivative(u_z(s, \\phi, z, t), z))*\\widetilde{M_{sz}}(s, \\phi, t) + \\widetilde{zM_{ss}}(s, \\phi, t)*Derivative(u_s(s, \\phi, t)*Derivative(H(s), s)/H(s), s) - u_s(s, \\phi, t)*Derivative(\\widetilde{M_{sz}}(s, \\phi, t), s) + \\widetilde{M_{\\phi z}}(s, \\phi, t)*Derivative(u_s(s, \\phi, t), \\phi)/s - u_\\phi(s, \\phi, t)*Derivative(\\widetilde{M_{sz}}(s, \\phi, t), \\phi)/s + \\widetilde{zM_{s\\phi}}(s, \\phi, t)*Derivative(H(s), s)*Derivative(u_s(s, \\phi, t), \\phi)/(s*H(s)))"
      ]
     },
     "metadata": {},
     "output_type": "display_data"
    },
    {
     "data": {
      "text/latex": [
       "$\\displaystyle \\frac{\\partial}{\\partial t} \\widetilde{M_{\\phi z}}{\\left(s,\\phi,t \\right)} = \\left(- \\frac{\\partial}{\\partial s} u_{s}{\\left(s,\\phi,t \\right)} + \\frac{\\partial}{\\partial z} u_{z}{\\left(s,\\phi,z,t \\right)}\\right) \\widetilde{M_{\\phi z}}{\\left(s,\\phi,t \\right)} + \\widetilde{zM_{s\\phi}}{\\left(s,\\phi,t \\right)} \\frac{\\partial}{\\partial s} \\frac{u_{s}{\\left(s,\\phi,t \\right)} \\frac{d}{d s} H{\\left(s \\right)}}{H{\\left(s \\right)}} - u_{s}{\\left(s,\\phi,t \\right)} \\frac{\\partial}{\\partial s} \\widetilde{M_{\\phi z}}{\\left(s,\\phi,t \\right)} - \\frac{u_{\\phi}{\\left(s,\\phi,t \\right)} \\frac{\\partial}{\\partial \\phi} \\widetilde{M_{\\phi z}}{\\left(s,\\phi,t \\right)}}{s} + \\frac{\\widetilde{zM_{\\phi\\phi}}{\\left(s,\\phi,t \\right)} \\frac{d}{d s} H{\\left(s \\right)} \\frac{\\partial}{\\partial \\phi} u_{s}{\\left(s,\\phi,t \\right)}}{s H{\\left(s \\right)}}$"
      ],
      "text/plain": [
       "Eq(Derivative(\\widetilde{M_{\\phi z}}(s, \\phi, t), t), (-Derivative(u_s(s, \\phi, t), s) + Derivative(u_z(s, \\phi, z, t), z))*\\widetilde{M_{\\phi z}}(s, \\phi, t) + \\widetilde{zM_{s\\phi}}(s, \\phi, t)*Derivative(u_s(s, \\phi, t)*Derivative(H(s), s)/H(s), s) - u_s(s, \\phi, t)*Derivative(\\widetilde{M_{\\phi z}}(s, \\phi, t), s) - u_\\phi(s, \\phi, t)*Derivative(\\widetilde{M_{\\phi z}}(s, \\phi, t), \\phi)/s + \\widetilde{zM_{\\phi\\phi}}(s, \\phi, t)*Derivative(H(s), s)*Derivative(u_s(s, \\phi, t), \\phi)/(s*H(s)))"
      ]
     },
     "metadata": {},
     "output_type": "display_data"
    },
    {
     "data": {
      "text/latex": [
       "$\\displaystyle \\frac{\\partial}{\\partial t} \\widetilde{zM_{ss}}{\\left(s,\\phi,t \\right)} = \\left(2 \\frac{\\partial}{\\partial s} u_{s}{\\left(s,\\phi,t \\right)} + 2 \\frac{\\partial}{\\partial z} u_{z}{\\left(s,\\phi,z,t \\right)}\\right) \\widetilde{zM_{ss}}{\\left(s,\\phi,t \\right)} - u_{s}{\\left(s,\\phi,t \\right)} \\frac{\\partial}{\\partial s} \\widetilde{zM_{ss}}{\\left(s,\\phi,t \\right)} + \\frac{2 \\widetilde{zM_{s\\phi}}{\\left(s,\\phi,t \\right)} \\frac{\\partial}{\\partial \\phi} u_{s}{\\left(s,\\phi,t \\right)}}{s} - \\frac{u_{\\phi}{\\left(s,\\phi,t \\right)} \\frac{\\partial}{\\partial \\phi} \\widetilde{zM_{ss}}{\\left(s,\\phi,t \\right)}}{s}$"
      ],
      "text/plain": [
       "Eq(Derivative(\\widetilde{zM_{ss}}(s, \\phi, t), t), (2*Derivative(u_s(s, \\phi, t), s) + 2*Derivative(u_z(s, \\phi, z, t), z))*\\widetilde{zM_{ss}}(s, \\phi, t) - u_s(s, \\phi, t)*Derivative(\\widetilde{zM_{ss}}(s, \\phi, t), s) + 2*\\widetilde{zM_{s\\phi}}(s, \\phi, t)*Derivative(u_s(s, \\phi, t), \\phi)/s - u_\\phi(s, \\phi, t)*Derivative(\\widetilde{zM_{ss}}(s, \\phi, t), \\phi)/s)"
      ]
     },
     "metadata": {},
     "output_type": "display_data"
    },
    {
     "data": {
      "text/latex": [
       "$\\displaystyle \\frac{\\partial}{\\partial t} \\widetilde{zM_{\\phi\\phi}}{\\left(s,\\phi,t \\right)} = 2 s \\widetilde{zM_{s\\phi}}{\\left(s,\\phi,t \\right)} \\frac{\\partial}{\\partial s} \\frac{u_{\\phi}{\\left(s,\\phi,t \\right)}}{s} - 2 \\widetilde{zM_{\\phi\\phi}}{\\left(s,\\phi,t \\right)} \\frac{\\partial}{\\partial s} u_{s}{\\left(s,\\phi,t \\right)} - u_{s}{\\left(s,\\phi,t \\right)} \\frac{\\partial}{\\partial s} \\widetilde{zM_{\\phi\\phi}}{\\left(s,\\phi,t \\right)} - \\frac{u_{\\phi}{\\left(s,\\phi,t \\right)} \\frac{\\partial}{\\partial \\phi} \\widetilde{zM_{\\phi\\phi}}{\\left(s,\\phi,t \\right)}}{s}$"
      ],
      "text/plain": [
       "Eq(Derivative(\\widetilde{zM_{\\phi\\phi}}(s, \\phi, t), t), 2*s*\\widetilde{zM_{s\\phi}}(s, \\phi, t)*Derivative(u_\\phi(s, \\phi, t)/s, s) - 2*\\widetilde{zM_{\\phi\\phi}}(s, \\phi, t)*Derivative(u_s(s, \\phi, t), s) - u_s(s, \\phi, t)*Derivative(\\widetilde{zM_{\\phi\\phi}}(s, \\phi, t), s) - u_\\phi(s, \\phi, t)*Derivative(\\widetilde{zM_{\\phi\\phi}}(s, \\phi, t), \\phi)/s)"
      ]
     },
     "metadata": {},
     "output_type": "display_data"
    },
    {
     "data": {
      "text/latex": [
       "$\\displaystyle \\frac{\\partial}{\\partial t} \\widetilde{zM_{s\\phi}}{\\left(s,\\phi,t \\right)} = s \\widetilde{zM_{ss}}{\\left(s,\\phi,t \\right)} \\frac{\\partial}{\\partial s} \\frac{u_{\\phi}{\\left(s,\\phi,t \\right)}}{s} + \\widetilde{zM_{s\\phi}}{\\left(s,\\phi,t \\right)} \\frac{\\partial}{\\partial z} u_{z}{\\left(s,\\phi,z,t \\right)} - u_{s}{\\left(s,\\phi,t \\right)} \\frac{\\partial}{\\partial s} \\widetilde{zM_{s\\phi}}{\\left(s,\\phi,t \\right)} + \\frac{\\widetilde{zM_{\\phi\\phi}}{\\left(s,\\phi,t \\right)} \\frac{\\partial}{\\partial \\phi} u_{s}{\\left(s,\\phi,t \\right)}}{s} - \\frac{u_{\\phi}{\\left(s,\\phi,t \\right)} \\frac{\\partial}{\\partial \\phi} \\widetilde{zM_{s\\phi}}{\\left(s,\\phi,t \\right)}}{s}$"
      ],
      "text/plain": [
       "Eq(Derivative(\\widetilde{zM_{s\\phi}}(s, \\phi, t), t), s*\\widetilde{zM_{ss}}(s, \\phi, t)*Derivative(u_\\phi(s, \\phi, t)/s, s) + \\widetilde{zM_{s\\phi}}(s, \\phi, t)*Derivative(u_z(s, \\phi, z, t), z) - u_s(s, \\phi, t)*Derivative(\\widetilde{zM_{s\\phi}}(s, \\phi, t), s) + \\widetilde{zM_{\\phi\\phi}}(s, \\phi, t)*Derivative(u_s(s, \\phi, t), \\phi)/s - u_\\phi(s, \\phi, t)*Derivative(\\widetilde{zM_{s\\phi}}(s, \\phi, t), \\phi)/s)"
      ]
     },
     "metadata": {},
     "output_type": "display_data"
    }
   ],
   "source": [
    "v_e = (us, up, 0)\n",
    "\n",
    "evo_Mss = cyl_op.grad(Mss/H, evaluate=False)\n",
    "evo_Mss = -H*v3d.dot(v_e, evo_Mss) + 2*diff_u(us, s)*Mss + 2/s*diff_u(us, p)*Msp\n",
    "display(sympy.Eq(diff(Mss, t), evo_Mss))\n",
    "\n",
    "evo_Mpp = cyl_op.grad(H*Mpp, evaluate=False)\n",
    "evo_Mpp = -1/H*v3d.dot(v_e, evo_Mpp) - 2*diff_u(us, s)*Mpp + 2*s*diff_u(up/s, s)*Msp\n",
    "display(sympy.Eq(diff(Mpp, t), evo_Mpp))\n",
    "\n",
    "evo_Msp = cyl_op.grad(Msp, evaluate=False)\n",
    "evo_Msp = -v3d.dot(v_e, evo_Msp) + s*diff_u(up/s, s)*Mss + 1/s*diff_u(us, p)*Mpp\n",
    "display(sympy.Eq(diff(Msp, t), evo_Msp))\n",
    "\n",
    "evo_Msz = cyl_op.grad(Msz, evaluate=False)\n",
    "evo_Msz = -v3d.dot(v_e, evo_Msz) + (diff_u(us, s) + 2*diff_u(uz, z))*Msz + 1/s*diff_u(us, p)*Mpz + diff_u(us/H*diff_u(H, s), s)*zMss + 1/(s*H)*diff_u(H, s)*diff_u(us, p)*zMsp\n",
    "display(sympy.Eq(diff(Msz, t), evo_Msz))\n",
    "\n",
    "evo_Mpz = cyl_op.grad(Mpz, evaluate=False)\n",
    "evo_Mpz = -v3d.dot(v_e, evo_Mpz) + (diff(uz, z) - diff(us, s))*Mpz + diff_u(us/H*diff(H, s), s)*zMsp + 1/(s*H)*diff(H, s)*diff(us, p)*zMpp\n",
    "display(sympy.Eq(diff(Mpz, t), evo_Mpz))\n",
    "\n",
    "evo_zMss = cyl_op.grad(zMss, evaluate=False)\n",
    "evo_zMss = -v3d.dot(v_e, evo_zMss) + 2*(diff(us, s) + diff(uz, z))*zMss + 2/s*diff(us, p)*zMsp\n",
    "display(sympy.Eq(diff(zMss, t), evo_zMss))\n",
    "\n",
    "evo_zMpp = cyl_op.grad(zMpp, evaluate=False)\n",
    "evo_zMpp = -v3d.dot(v_e, evo_zMpp) - 2*diff(us, s)*zMpp + 2*s*diff_u(up/s, s)*zMsp\n",
    "display(sympy.Eq(diff(zMpp, t), evo_zMpp))\n",
    "\n",
    "evo_zMsp = cyl_op.grad(zMsp, evaluate=False)\n",
    "evo_zMsp = -v3d.dot(v_e, evo_zMsp) + diff(uz, z)*zMsp + s*diff_u(up/s, s)*zMss + 1/s*diff(us, p)*zMpp\n",
    "display(sympy.Eq(diff(zMsp, t), evo_zMsp))"
   ]
  },
  {
   "cell_type": "markdown",
   "id": "f46a1841-2182-4ee0-bc56-c20b009958be",
   "metadata": {},
   "source": [
    "### Induction: magnetic field in the equatorial plane"
   ]
  },
  {
   "cell_type": "code",
   "execution_count": 11,
   "id": "81baa9eb-cc4e-4e77-b291-ceaed02378c4",
   "metadata": {},
   "outputs": [
    {
     "data": {
      "text/latex": [
       "$\\displaystyle \\frac{\\partial}{\\partial t} B_{es}{\\left(s,\\phi,t \\right)} = B_{es}{\\left(s,\\phi,t \\right)} \\frac{\\partial}{\\partial s} u_{s}{\\left(s,\\phi,t \\right)} - u_{s}{\\left(s,\\phi,t \\right)} \\frac{\\partial}{\\partial s} B_{es}{\\left(s,\\phi,t \\right)} + \\frac{B_{e\\phi}{\\left(s,\\phi,t \\right)} \\frac{\\partial}{\\partial \\phi} u_{s}{\\left(s,\\phi,t \\right)}}{s} - \\frac{u_{\\phi}{\\left(s,\\phi,t \\right)} \\frac{\\partial}{\\partial \\phi} B_{es}{\\left(s,\\phi,t \\right)}}{s}$"
      ],
      "text/plain": [
       "Eq(Derivative(B_{es}(s, \\phi, t), t), B_{es}(s, \\phi, t)*Derivative(u_s(s, \\phi, t), s) - u_s(s, \\phi, t)*Derivative(B_{es}(s, \\phi, t), s) + B_{e\\phi}(s, \\phi, t)*Derivative(u_s(s, \\phi, t), \\phi)/s - u_\\phi(s, \\phi, t)*Derivative(B_{es}(s, \\phi, t), \\phi)/s)"
      ]
     },
     "metadata": {},
     "output_type": "display_data"
    },
    {
     "data": {
      "text/latex": [
       "$\\displaystyle \\frac{\\partial}{\\partial t} B_{e\\phi}{\\left(s,\\phi,t \\right)} = B_{es}{\\left(s,\\phi,t \\right)} \\frac{\\partial}{\\partial s} u_{\\phi}{\\left(s,\\phi,t \\right)} - u_{s}{\\left(s,\\phi,t \\right)} \\frac{\\partial}{\\partial s} B_{e\\phi}{\\left(s,\\phi,t \\right)} + \\frac{B_{e\\phi}{\\left(s,\\phi,t \\right)} u_{s}{\\left(s,\\phi,t \\right)} - B_{es}{\\left(s,\\phi,t \\right)} u_{\\phi}{\\left(s,\\phi,t \\right)}}{s} + \\frac{B_{e\\phi}{\\left(s,\\phi,t \\right)} \\frac{\\partial}{\\partial \\phi} u_{\\phi}{\\left(s,\\phi,t \\right)}}{s} - \\frac{u_{\\phi}{\\left(s,\\phi,t \\right)} \\frac{\\partial}{\\partial \\phi} B_{e\\phi}{\\left(s,\\phi,t \\right)}}{s}$"
      ],
      "text/plain": [
       "Eq(Derivative(B_{e\\phi}(s, \\phi, t), t), B_{es}(s, \\phi, t)*Derivative(u_\\phi(s, \\phi, t), s) - u_s(s, \\phi, t)*Derivative(B_{e\\phi}(s, \\phi, t), s) + (B_{e\\phi}(s, \\phi, t)*u_s(s, \\phi, t) - B_{es}(s, \\phi, t)*u_\\phi(s, \\phi, t))/s + B_{e\\phi}(s, \\phi, t)*Derivative(u_\\phi(s, \\phi, t), \\phi)/s - u_\\phi(s, \\phi, t)*Derivative(B_{e\\phi}(s, \\phi, t), \\phi)/s)"
      ]
     },
     "metadata": {},
     "output_type": "display_data"
    },
    {
     "data": {
      "text/latex": [
       "$\\displaystyle \\frac{\\partial}{\\partial t} B_{ez}{\\left(s,\\phi,t \\right)} = B_{ez}{\\left(s,\\phi,t \\right)} \\frac{\\partial}{\\partial z} u_{z}{\\left(s,\\phi,z,t \\right)} - u_{s}{\\left(s,\\phi,t \\right)} \\frac{\\partial}{\\partial s} B_{ez}{\\left(s,\\phi,t \\right)} - \\frac{u_{\\phi}{\\left(s,\\phi,t \\right)} \\frac{\\partial}{\\partial \\phi} B_{ez}{\\left(s,\\phi,t \\right)}}{s}$"
      ],
      "text/plain": [
       "Eq(Derivative(B_{ez}(s, \\phi, t), t), B_{ez}(s, \\phi, t)*Derivative(u_z(s, \\phi, z, t), z) - u_s(s, \\phi, t)*Derivative(B_{ez}(s, \\phi, t), s) - u_\\phi(s, \\phi, t)*Derivative(B_{ez}(s, \\phi, t), \\phi)/s)"
      ]
     },
     "metadata": {},
     "output_type": "display_data"
    },
    {
     "data": {
      "text/latex": [
       "$\\displaystyle \\frac{\\partial}{\\partial t} B_{es, z}{\\left(s,\\phi,t \\right)} = B_{es, z}{\\left(s,\\phi,t \\right)} \\frac{\\partial}{\\partial s} u_{s}{\\left(s,\\phi,t \\right)} - B_{es, z}{\\left(s,\\phi,t \\right)} \\frac{\\partial}{\\partial z} u_{z}{\\left(s,\\phi,z,t \\right)} - u_{s}{\\left(s,\\phi,t \\right)} \\frac{\\partial}{\\partial s} B_{es, z}{\\left(s,\\phi,t \\right)} + \\frac{B_{e\\phi, z}{\\left(s,\\phi,t \\right)} \\frac{\\partial}{\\partial \\phi} u_{s}{\\left(s,\\phi,t \\right)}}{s} - \\frac{u_{\\phi}{\\left(s,\\phi,t \\right)} \\frac{\\partial}{\\partial \\phi} B_{es, z}{\\left(s,\\phi,t \\right)}}{s}$"
      ],
      "text/plain": [
       "Eq(Derivative(B_{es, z}(s, \\phi, t), t), B_{es, z}(s, \\phi, t)*Derivative(u_s(s, \\phi, t), s) - B_{es, z}(s, \\phi, t)*Derivative(u_z(s, \\phi, z, t), z) - u_s(s, \\phi, t)*Derivative(B_{es, z}(s, \\phi, t), s) + B_{e\\phi, z}(s, \\phi, t)*Derivative(u_s(s, \\phi, t), \\phi)/s - u_\\phi(s, \\phi, t)*Derivative(B_{es, z}(s, \\phi, t), \\phi)/s)"
      ]
     },
     "metadata": {},
     "output_type": "display_data"
    },
    {
     "data": {
      "text/latex": [
       "$\\displaystyle \\frac{\\partial}{\\partial t} B_{e\\phi, z}{\\left(s,\\phi,t \\right)} = - B_{e\\phi, z}{\\left(s,\\phi,t \\right)} \\frac{\\partial}{\\partial z} u_{z}{\\left(s,\\phi,z,t \\right)} + B_{es, z}{\\left(s,\\phi,t \\right)} \\frac{\\partial}{\\partial s} u_{\\phi}{\\left(s,\\phi,t \\right)} - u_{s}{\\left(s,\\phi,t \\right)} \\frac{\\partial}{\\partial s} B_{e\\phi, z}{\\left(s,\\phi,t \\right)} + \\frac{B_{e\\phi, z}{\\left(s,\\phi,t \\right)} u_{s}{\\left(s,\\phi,t \\right)} - B_{es, z}{\\left(s,\\phi,t \\right)} u_{\\phi}{\\left(s,\\phi,t \\right)}}{s} + \\frac{B_{e\\phi, z}{\\left(s,\\phi,t \\right)} \\frac{\\partial}{\\partial \\phi} u_{\\phi}{\\left(s,\\phi,t \\right)}}{s} - \\frac{u_{\\phi}{\\left(s,\\phi,t \\right)} \\frac{\\partial}{\\partial \\phi} B_{e\\phi, z}{\\left(s,\\phi,t \\right)}}{s}$"
      ],
      "text/plain": [
       "Eq(Derivative(B_{e\\phi, z}(s, \\phi, t), t), -B_{e\\phi, z}(s, \\phi, t)*Derivative(u_z(s, \\phi, z, t), z) + B_{es, z}(s, \\phi, t)*Derivative(u_\\phi(s, \\phi, t), s) - u_s(s, \\phi, t)*Derivative(B_{e\\phi, z}(s, \\phi, t), s) + (B_{e\\phi, z}(s, \\phi, t)*u_s(s, \\phi, t) - B_{es, z}(s, \\phi, t)*u_\\phi(s, \\phi, t))/s + B_{e\\phi, z}(s, \\phi, t)*Derivative(u_\\phi(s, \\phi, t), \\phi)/s - u_\\phi(s, \\phi, t)*Derivative(B_{e\\phi, z}(s, \\phi, t), \\phi)/s)"
      ]
     },
     "metadata": {},
     "output_type": "display_data"
    }
   ],
   "source": [
    "evo_Bs_e = Bs_e*diff(us, s) + 1/s*Bp_e*diff(us, p) - us*diff(Bs_e, s) - 1/s*up*diff(Bs_e, p)\n",
    "evo_Bp_e = Bs_e*diff(up, s) + 1/s*Bp_e*diff(up, p) - us*diff(Bp_e, s) - 1/s*up*diff(Bp_e, p) + (Bp_e*us - up*Bs_e)/s\n",
    "evo_Bz_e = -us*diff(Bz_e, s) - 1/s*up*diff(Bz_e, p) + diff(uz, z)*Bz_e\n",
    "evo_dBs_dz_e = dBs_dz_e*diff(us, s) + 1/s*dBp_dz_e*diff(us, p) - us*diff(dBs_dz_e, s) - 1/s*up*diff(dBs_dz_e, p) - diff(uz, z)*dBs_dz_e\n",
    "evo_dBp_dz_e = dBs_dz_e*diff(up, s) + 1/s*dBp_dz_e*diff(up, p) - us*diff(dBp_dz_e, s) - 1/s*up*diff(dBp_dz_e, p) + (dBp_dz_e*us - up*dBs_dz_e)/s - diff(uz, z)*dBp_dz_e\n",
    "\n",
    "display(sympy.Eq(diff(Bs_e, t), evo_Bs_e))\n",
    "display(sympy.Eq(diff(Bp_e, t), evo_Bp_e))\n",
    "display(sympy.Eq(diff(Bz_e, t), evo_Bz_e))\n",
    "display(sympy.Eq(diff(dBs_dz_e, t), evo_dBs_dz_e))\n",
    "display(sympy.Eq(diff(dBp_dz_e, t), evo_dBp_dz_e))"
   ]
  },
  {
   "cell_type": "markdown",
   "id": "cd0ac685-1d19-4239-be27-5ad2d94fe72d",
   "metadata": {},
   "source": [
    "### Induction: boundary stirring"
   ]
  },
  {
   "cell_type": "code",
   "execution_count": 12,
   "id": "6463cbf6-a9df-45d7-948d-4804472fd1ec",
   "metadata": {},
   "outputs": [
    {
     "data": {
      "text/latex": [
       "$\\displaystyle \\frac{\\partial}{\\partial t} B_{r}{\\left(\\theta,\\phi,t \\right)} = - \\frac{\\frac{\\partial}{\\partial \\phi} B_{r}{\\left(\\theta,\\phi,t \\right)} u_{\\phi}{\\left(r,\\theta,\\phi \\right)}}{r \\sin{\\left(\\theta \\right)}} - \\frac{\\frac{\\partial}{\\partial \\theta} B_{r}{\\left(\\theta,\\phi,t \\right)} u_{\\theta}{\\left(r,\\theta,\\phi \\right)} \\sin{\\left(\\theta \\right)}}{r \\sin{\\left(\\theta \\right)}}$"
      ],
      "text/plain": [
       "Eq(Derivative(B_r(\\theta, \\phi, t), t), -Derivative(B_r(\\theta, \\phi, t)*u_\\phi(r, \\theta, \\phi), \\phi)/(r*sin(\\theta)) - Derivative(B_r(\\theta, \\phi, t)*u_\\theta(r, \\theta, \\phi)*sin(\\theta), \\theta)/(r*sin(\\theta)))"
      ]
     },
     "metadata": {},
     "output_type": "display_data"
    }
   ],
   "source": [
    "ur = sympy.Function(r\"u_r\")(r, theta, p)\n",
    "ut = sympy.Function(r\"u_\\theta\")(r, theta, p)\n",
    "up_sph = sympy.Function(r\"u_\\phi\")(r, theta, p)\n",
    "\n",
    "evo_Br = -sph_op.surface_div((Br*ut, Br*up_sph), evaluate=False)\n",
    "display(sympy.Eq(diff(Br, t), evo_Br))"
   ]
  },
  {
   "cell_type": "markdown",
   "id": "b42cfa94-0d77-4291-8aeb-c0d9946a9b11",
   "metadata": {},
   "source": [
    "## Linearized equations\n",
    "\n",
    "Introduce a small quantity $\\epsilon$"
   ]
  },
  {
   "cell_type": "code",
   "execution_count": 13,
   "id": "7e4af4b8-3b05-45e6-aa39-6566496cb249",
   "metadata": {},
   "outputs": [],
   "source": [
    "eps = sympy.Symbol(\"\\epsilon\")"
   ]
  },
  {
   "cell_type": "markdown",
   "id": "6947988f-7eba-4955-a60f-e82c21de45a5",
   "metadata": {},
   "source": [
    "### Unperturbed fields"
   ]
  },
  {
   "cell_type": "code",
   "execution_count": 57,
   "id": "75d2c44f-3cfb-409e-8195-1dc55e45fb8d",
   "metadata": {},
   "outputs": [],
   "source": [
    "Psi_0 = sympy.Function(r\"\\Psi^0\")(s, p, t)\n",
    "us_0 = sympy.Function(r\"U_s^0\")(s, p, z, t)\n",
    "up_0 = sympy.Function(r\"U_\\phi^0\")(s, p, z, t)\n",
    "uz_0 = sympy.Function(r\"U_z^0\")(s, p, z, t)\n",
    "\n",
    "Mss_0 = sympy.Function(r\"\\overline{M_{ss}}^0\")(s, p, t)\n",
    "Msp_0 = sympy.Function(r\"\\overline{M_{s\\phi}}^0\")(s, p, t)\n",
    "Mpp_0 = sympy.Function(r\"\\overline{M_{\\phi\\phi}}^0\")(s, p, t)\n",
    "\n",
    "Msz_0 = sympy.Function(r\"\\widetilde{M_{sz}}^0\")(s, p, t)\n",
    "Mpz_0 = sympy.Function(r\"\\widetilde{M_{\\phi z}}^0\")(s, p, t)\n",
    "zMss_0 = sympy.Function(r\"\\widetilde{zM_{ss}}^0\")(s, p, t)\n",
    "zMpp_0 = sympy.Function(r\"\\widetilde{zM_{\\phi\\phi}}^0\")(s, p, t)\n",
    "zMsp_0 = sympy.Function(r\"\\widetilde{zM_{s\\phi}}^0\")(s, p, t)\n",
    "\n",
    "Bs_e_0 = sympy.Function(r\"B_{es}^0\")(s, p, t)\n",
    "Bp_e_0 = sympy.Function(r\"B_{e\\phi}^0\")(s, p, t)\n",
    "Bz_e_0 = sympy.Function(r\"B_{ez}^0\")(s, p, t)\n",
    "\n",
    "dBs_dz_e_0 = sympy.Function(r\"B_{es, z}^0\")(s, p, t)\n",
    "dBp_dz_e_0 = sympy.Function(r\"B_{e\\phi, z}^0\")(s, p, t)\n",
    "\n",
    "Br_0 = sympy.Function(r\"B_r^0\")(theta, p, t)\n",
    "\n",
    "list_bg_fields = [Psi_0, Mss_0, Mpp_0, Msp_0, Msz_0, Mpz_0, zMss_0, zMpp_0, zMsp_0, Bs_e_0, Bp_e_0, Bz_e_0, dBs_dz_e_0, dBp_dz_e_0, Br_0]\n",
    "\n",
    "# Boundary terms\n",
    "\n",
    "Bs_p_0 = sympy.Function(r\"B_s^{0+}\")(s, p, t)\n",
    "Bp_p_0 = sympy.Function(r\"B_\\phi^{0+}\")(s, p, t)\n",
    "Bz_p_0 = sympy.Function(r\"B_z^{0+}\")(s, p, t)\n",
    "Bs_m_0 = sympy.Function(r\"B_s^{0-}\")(s, p, t)\n",
    "Bp_m_0 = sympy.Function(r\"B_\\phi^{0-}\")(s, p, t)\n",
    "Bz_m_0 = sympy.Function(r\"B_z^{0-}\")(s, p, t)\n",
    "\n",
    "list_bg_boundaries = [Bs_p_0, Bp_p_0, Bz_p_0, Bs_m_0, Bp_m_0, Bz_m_0]"
   ]
  },
  {
   "cell_type": "markdown",
   "id": "4c2e4a65-a33d-46a7-95a3-cb556388a977",
   "metadata": {},
   "source": [
    "### Perturbation"
   ]
  },
  {
   "cell_type": "code",
   "execution_count": 52,
   "id": "0877de19-8f57-4a4c-83af-d47491b10d6d",
   "metadata": {},
   "outputs": [],
   "source": [
    "psi = sympy.Function(r\"\\psi\")(s, p, t)\n",
    "us_psi = 1/(s*H)*diff(psi, p)\n",
    "up_psi = -1/H*diff(psi, s)\n",
    "uz_psi = z/H*diff(H, s)*us_psi\n",
    "\n",
    "mss = sympy.Function(r\"\\overline{m_{ss}}\")(s, p, t)\n",
    "msp = sympy.Function(r\"\\overline{m_{s\\phi}}\")(s, p, t)\n",
    "mpp = sympy.Function(r\"\\overline{m_{\\phi\\phi}}\")(s, p, t)\n",
    "\n",
    "msz = sympy.Function(r\"\\widetilde{m_{sz}}\")(s, p, t)\n",
    "mpz = sympy.Function(r\"\\widetilde{m_{\\phi z}}\")(s, p, t)\n",
    "zmss = sympy.Function(r\"\\widetilde{zm_{ss}}\")(s, p, t)\n",
    "zmpp = sympy.Function(r\"\\widetilde{zm_{\\phi\\phi}}\")(s, p, t)\n",
    "zmsp = sympy.Function(r\"\\widetilde{zm_{s\\phi}}\")(s, p, t)\n",
    "\n",
    "bs_e = sympy.Function(r\"b_{es}\")(s, p, t)\n",
    "bp_e = sympy.Function(r\"b_{e\\phi}\")(s, p, t)\n",
    "bz_e = sympy.Function(r\"b_{ez}\")(s, p, t)\n",
    "\n",
    "dbs_dz_e = sympy.Function(r\"b_{es, z}\")(s, p, t)\n",
    "dbp_dz_e = sympy.Function(r\"b_{e\\phi, z}\")(s, p, t)\n",
    "\n",
    "br = sympy.Function(r\"b_r\")(theta, p, t)\n",
    "\n",
    "list_perturb_fields = [psi, mss, mpp, msp, msz, mpz, zmss, zmpp, zmsp, bs_e, bp_e, bz_e, dbs_dz_e, dbp_dz_e, br]\n",
    "\n",
    "# Boundary terms\n",
    "\n",
    "bs_p = sympy.Function(r\"b_s^+\")(s, p, t)\n",
    "bp_p = sympy.Function(r\"b_\\phi^+\")(s, p, t)\n",
    "bz_p = sympy.Function(r\"b_z^+\")(s, p, t)\n",
    "bs_m = sympy.Function(r\"b_s^-\")(s, p, t)\n",
    "bp_m = sympy.Function(r\"b_\\phi^-\")(s, p, t)\n",
    "bz_m = sympy.Function(r\"b_z^-\")(s, p, t)\n",
    "\n",
    "list_perturb_boundaries = [bs_p, bp_p, bz_p, bs_m, bp_m, bz_m]"
   ]
  },
  {
   "cell_type": "markdown",
   "id": "b2d3717d-724c-4749-ac84-81b481b7bb7d",
   "metadata": {},
   "source": [
    "First we define the substitutions / expansions"
   ]
  },
  {
   "cell_type": "code",
   "execution_count": 16,
   "id": "098027b4-08a3-4d05-b8d1-6a2f20dd8391",
   "metadata": {},
   "outputs": [],
   "source": [
    "linearization_subs_map = {\n",
    "    list_fields[idx_field]: list_bg_fields[idx_field] + eps*list_perturb_fields[idx_field] for idx_field in range(len(list_fields))\n",
    "}\n",
    "linearization_subs_map.update({\n",
    "    list_boundaries[idx_bound]: list_bg_boundaries[idx_bound] + eps*list_perturb_boundaries[idx_bound] for idx_bound in range(len(list_boundaries))\n",
    "})"
   ]
  },
  {
   "cell_type": "markdown",
   "id": "deacc9f8-d935-46a1-a179-856d937ab48d",
   "metadata": {},
   "source": [
    "### Linearized vorticity equation"
   ]
  },
  {
   "cell_type": "code",
   "execution_count": 27,
   "id": "7d602ed7-7535-4a3d-af09-8e667904ca95",
   "metadata": {},
   "outputs": [
    {
     "data": {
      "text/latex": [
       "$\\displaystyle \\frac{s \\frac{\\partial^{3}}{\\partial t\\partial s^{2}} \\psi{\\left(s,\\phi,t \\right)}}{H{\\left(s \\right)}} - \\frac{s \\frac{d}{d s} H{\\left(s \\right)} \\frac{\\partial^{2}}{\\partial t\\partial s} \\psi{\\left(s,\\phi,t \\right)}}{H^{2}{\\left(s \\right)}} + \\frac{\\frac{\\partial^{2}}{\\partial t\\partial s} \\psi{\\left(s,\\phi,t \\right)}}{H{\\left(s \\right)}} - \\frac{\\frac{d}{d s} H{\\left(s \\right)} \\frac{\\partial^{3}}{\\partial t\\partial \\phi^{2}} \\psi{\\left(s,\\phi,t \\right)}}{2 H^{2}{\\left(s \\right)}} + \\frac{\\frac{\\partial^{3}}{\\partial t\\partial \\phi^{2}} \\psi{\\left(s,\\phi,t \\right)}}{s H{\\left(s \\right)}} = \\frac{s f_{e\\phi}'{\\left(s,\\phi,t \\right)} \\frac{d}{d s} H{\\left(s \\right)}}{H{\\left(s \\right)}} - \\frac{s \\frac{\\partial}{\\partial s} \\overline{f_\\phi}'{\\left(s,\\phi,t \\right)}}{2 H{\\left(s \\right)}} - \\frac{\\overline{f_\\phi}'{\\left(s,\\phi,t \\right)}}{2 H{\\left(s \\right)}} + \\frac{\\frac{d}{d s} H{\\left(s \\right)} \\frac{\\partial}{\\partial \\phi} \\widetilde{f_z}'{\\left(s,\\phi,t \\right)}}{2 H{\\left(s \\right)}} + \\frac{\\frac{\\partial}{\\partial \\phi} \\overline{f_s}'{\\left(s,\\phi,t \\right)}}{2 H{\\left(s \\right)}} - \\frac{2 \\frac{d}{d s} H{\\left(s \\right)} \\frac{\\partial}{\\partial \\phi} \\psi{\\left(s,\\phi,t \\right)}}{H^{2}{\\left(s \\right)}}$"
      ],
      "text/plain": [
       "Eq(s*Derivative(\\psi(s, \\phi, t), (s, 2), t)/H(s) - s*Derivative(H(s), s)*Derivative(\\psi(s, \\phi, t), s, t)/H(s)**2 + Derivative(\\psi(s, \\phi, t), s, t)/H(s) - Derivative(H(s), s)*Derivative(\\psi(s, \\phi, t), (\\phi, 2), t)/(2*H(s)**2) + Derivative(\\psi(s, \\phi, t), (\\phi, 2), t)/(s*H(s)), s*f_{e\\phi}'(s, \\phi, t)*Derivative(H(s), s)/H(s) - s*Derivative(\\overline{f_\\phi}'(s, \\phi, t), s)/(2*H(s)) - \\overline{f_\\phi}'(s, \\phi, t)/(2*H(s)) + Derivative(H(s), s)*Derivative(\\widetilde{f_z}'(s, \\phi, t), \\phi)/(2*H(s)) + Derivative(\\overline{f_s}'(s, \\phi, t), \\phi)/(2*H(s)) - 2*Derivative(H(s), s)*Derivative(\\psi(s, \\phi, t), \\phi)/H(s)**2)"
      ]
     },
     "metadata": {},
     "output_type": "display_data"
    }
   ],
   "source": [
    "fs_sym_perturbed = sympy.Function(\"\\overline{f_s}'\")(s, p, t)\n",
    "fp_sym_perturbed = sympy.Function(\"\\overline{f_\\phi}'\")(s, p, t)\n",
    "fz_asym_perturbed = sympy.Function(\"\\widetilde{f_z}'\")(s, p, t)\n",
    "fe_p_perturbed = sympy.Function(\"f_{e\\phi}'\")(s, p, t)\n",
    "\n",
    "vorticity_var_perturbed = vorticity_var.subs(linearization_subs_map)\n",
    "vorticity_var_lin = vorticity_var_perturbed.simplify().expand().coeff(eps, 1)\n",
    "\n",
    "vorticity_forcing_perturbed = vorticity_forcing.subs(linearization_subs_map)\n",
    "vorticity_forcing_perturbed = vorticity_forcing_perturbed.subs({\n",
    "    fp_sym: fp_sym + eps*fp_sym_perturbed,\n",
    "    fs_sym: fs_sym + eps*fs_sym_perturbed,\n",
    "    fz_asym: fz_asym + eps*fz_asym_perturbed,\n",
    "    fe_p: fe_p + eps*fe_p_perturbed\n",
    "})\n",
    "vorticity_forcing_lin = sympy.collect(vorticity_forcing_perturbed.simplify().expand(), eps).coeff(eps, 1)\n",
    "\n",
    "display(sympy.Eq(vorticity_var_lin, vorticity_forcing_lin))"
   ]
  },
  {
   "cell_type": "markdown",
   "id": "d757b208-af60-4cfc-a4e4-c769c2a488f0",
   "metadata": {},
   "source": [
    "### Linearized Lorentz force\n",
    "\n",
    "Linearized in terms of magnetic fields (for $L_{e\\phi}$) or in terms of magnetic moments (for integrated forces)."
   ]
  },
  {
   "cell_type": "markdown",
   "id": "133f64c7-b84a-4ef8-8c2d-e3d0175f98fa",
   "metadata": {},
   "source": [
    "Lorentz force in the equatorial plane is quadratic in the magnetic field components in the equatorial plane. Linearized form involves cross terms between background magnetic field and perturbational fields.\n",
    "\n",
    "Linearized form of $L_{e\\phi}$:"
   ]
  },
  {
   "cell_type": "code",
   "execution_count": 29,
   "id": "53266308-23e2-4683-87e3-831b9f0ffe45",
   "metadata": {},
   "outputs": [
    {
     "name": "stdout",
     "output_type": "stream",
     "text": [
      "Background terms:\n"
     ]
    },
    {
     "data": {
      "text/latex": [
       "$\\displaystyle B_{e\\phi, z}^0{\\left(s,\\phi,t \\right)} B_{ez}^0{\\left(s,\\phi,t \\right)} + B_{es}^0{\\left(s,\\phi,t \\right)} \\frac{\\partial}{\\partial s} B_{e\\phi}^0{\\left(s,\\phi,t \\right)} + \\frac{B_{e\\phi}^0{\\left(s,\\phi,t \\right)} B_{es}^0{\\left(s,\\phi,t \\right)}}{s} + \\frac{B_{e\\phi}^0{\\left(s,\\phi,t \\right)} \\frac{\\partial}{\\partial \\phi} B_{e\\phi}^0{\\left(s,\\phi,t \\right)}}{s}$"
      ],
      "text/plain": [
       "B_{e\\phi, z}^0(s, \\phi, t)*B_{ez}^0(s, \\phi, t) + B_{es}^0(s, \\phi, t)*Derivative(B_{e\\phi}^0(s, \\phi, t), s) + B_{e\\phi}^0(s, \\phi, t)*B_{es}^0(s, \\phi, t)/s + B_{e\\phi}^0(s, \\phi, t)*Derivative(B_{e\\phi}^0(s, \\phi, t), \\phi)/s"
      ]
     },
     "metadata": {},
     "output_type": "display_data"
    },
    {
     "name": "stdout",
     "output_type": "stream",
     "text": [
      "Linearized terms:\n"
     ]
    },
    {
     "data": {
      "text/latex": [
       "$\\displaystyle B_{e\\phi, z}^0{\\left(s,\\phi,t \\right)} b_{ez}{\\left(s,\\phi,t \\right)} + B_{es}^0{\\left(s,\\phi,t \\right)} \\frac{\\partial}{\\partial s} b_{e\\phi}{\\left(s,\\phi,t \\right)} + B_{ez}^0{\\left(s,\\phi,t \\right)} b_{e\\phi, z}{\\left(s,\\phi,t \\right)} + b_{es}{\\left(s,\\phi,t \\right)} \\frac{\\partial}{\\partial s} B_{e\\phi}^0{\\left(s,\\phi,t \\right)} + \\frac{B_{e\\phi}^0{\\left(s,\\phi,t \\right)} b_{es}{\\left(s,\\phi,t \\right)}}{s} + \\frac{B_{e\\phi}^0{\\left(s,\\phi,t \\right)} \\frac{\\partial}{\\partial \\phi} b_{e\\phi}{\\left(s,\\phi,t \\right)}}{s} + \\frac{B_{es}^0{\\left(s,\\phi,t \\right)} b_{e\\phi}{\\left(s,\\phi,t \\right)}}{s} + \\frac{b_{e\\phi}{\\left(s,\\phi,t \\right)} \\frac{\\partial}{\\partial \\phi} B_{e\\phi}^0{\\left(s,\\phi,t \\right)}}{s}$"
      ],
      "text/plain": [
       "B_{e\\phi, z}^0(s, \\phi, t)*b_{ez}(s, \\phi, t) + B_{es}^0(s, \\phi, t)*Derivative(b_{e\\phi}(s, \\phi, t), s) + B_{ez}^0(s, \\phi, t)*b_{e\\phi, z}(s, \\phi, t) + b_{es}(s, \\phi, t)*Derivative(B_{e\\phi}^0(s, \\phi, t), s) + B_{e\\phi}^0(s, \\phi, t)*b_{es}(s, \\phi, t)/s + B_{e\\phi}^0(s, \\phi, t)*Derivative(b_{e\\phi}(s, \\phi, t), \\phi)/s + B_{es}^0(s, \\phi, t)*b_{e\\phi}(s, \\phi, t)/s + b_{e\\phi}(s, \\phi, t)*Derivative(B_{e\\phi}^0(s, \\phi, t), \\phi)/s"
      ]
     },
     "metadata": {},
     "output_type": "display_data"
    }
   ],
   "source": [
    "Le_p_perturbed = Le_p_expr.subs(linearization_subs_map)\n",
    "Le_p_perturbed = sympy.collect(Le_p_perturbed.simplify().expand(), eps)\n",
    "\n",
    "Le_p_bg = Le_p_perturbed.coeff(eps, 0)\n",
    "Le_p_lin = Le_p_perturbed.coeff(eps, 1)\n",
    "\n",
    "print(\"Background terms:\")\n",
    "display(Le_p_bg)\n",
    "print(\"Linearized terms:\")\n",
    "display(Le_p_lin)"
   ]
  },
  {
   "cell_type": "markdown",
   "id": "a1208517-647f-433c-add8-2bfe96dd4e54",
   "metadata": {},
   "source": [
    "For the integrated quantities, the Lorentz force IS a linear function of magnetic moments. No linearization required. However, the boundary terms and the equatorial terms are quadratic in magnetic fields. These terms need to be linearized.\n",
    "\n",
    "Linearized form for $\\overline{L_s}$"
   ]
  },
  {
   "cell_type": "code",
   "execution_count": 30,
   "id": "02e5efb2-b1db-4de3-9e3f-ce6fcf71bd20",
   "metadata": {},
   "outputs": [
    {
     "name": "stdout",
     "output_type": "stream",
     "text": [
      "Background terms:\n"
     ]
    },
    {
     "data": {
      "text/latex": [
       "$\\displaystyle \\frac{s \\left(B_s^{0+}\\right)^{2}{\\left(s,\\phi,t \\right)}}{H{\\left(s \\right)}} + \\frac{s \\left(B_s^{0-}\\right)^{2}{\\left(s,\\phi,t \\right)}}{H{\\left(s \\right)}} + B_s^{0+}{\\left(s,\\phi,t \\right)} B_z^{0+}{\\left(s,\\phi,t \\right)} - B_s^{0-}{\\left(s,\\phi,t \\right)} B_z^{0-}{\\left(s,\\phi,t \\right)} + \\frac{\\partial}{\\partial s} \\overline{M_{ss}}^0{\\left(s,\\phi,t \\right)} - \\frac{\\overline{M_{\\phi\\phi}}^0{\\left(s,\\phi,t \\right)}}{s} + \\frac{\\overline{M_{ss}}^0{\\left(s,\\phi,t \\right)}}{s} + \\frac{\\frac{\\partial}{\\partial \\phi} \\overline{M_{s\\phi}}^0{\\left(s,\\phi,t \\right)}}{s}$"
      ],
      "text/plain": [
       "s*B_s^{0+}(s, \\phi, t)**2/H(s) + s*B_s^{0-}(s, \\phi, t)**2/H(s) + B_s^{0+}(s, \\phi, t)*B_z^{0+}(s, \\phi, t) - B_s^{0-}(s, \\phi, t)*B_z^{0-}(s, \\phi, t) + Derivative(\\overline{M_{ss}}^0(s, \\phi, t), s) - \\overline{M_{\\phi\\phi}}^0(s, \\phi, t)/s + \\overline{M_{ss}}^0(s, \\phi, t)/s + Derivative(\\overline{M_{s\\phi}}^0(s, \\phi, t), \\phi)/s"
      ]
     },
     "metadata": {},
     "output_type": "display_data"
    },
    {
     "name": "stdout",
     "output_type": "stream",
     "text": [
      "Linearized terms:\n"
     ]
    },
    {
     "data": {
      "text/latex": [
       "$\\displaystyle \\frac{2 s B_s^{0+}{\\left(s,\\phi,t \\right)} b^{+}_{s}{\\left(s,\\phi,t \\right)}}{H{\\left(s \\right)}} + \\frac{2 s B_s^{0-}{\\left(s,\\phi,t \\right)} b^{-}_{s}{\\left(s,\\phi,t \\right)}}{H{\\left(s \\right)}} + B_s^{0+}{\\left(s,\\phi,t \\right)} b^{+}_{z}{\\left(s,\\phi,t \\right)} - B_s^{0-}{\\left(s,\\phi,t \\right)} b^{-}_{z}{\\left(s,\\phi,t \\right)} + B_z^{0+}{\\left(s,\\phi,t \\right)} b^{+}_{s}{\\left(s,\\phi,t \\right)} - B_z^{0-}{\\left(s,\\phi,t \\right)} b^{-}_{s}{\\left(s,\\phi,t \\right)} + \\frac{\\partial}{\\partial s} \\overline{m_{ss}}{\\left(s,\\phi,t \\right)} - \\frac{\\overline{m_{\\phi\\phi}}{\\left(s,\\phi,t \\right)}}{s} + \\frac{\\overline{m_{ss}}{\\left(s,\\phi,t \\right)}}{s} + \\frac{\\frac{\\partial}{\\partial \\phi} \\overline{m_{s\\phi}}{\\left(s,\\phi,t \\right)}}{s}$"
      ],
      "text/plain": [
       "2*s*B_s^{0+}(s, \\phi, t)*b_s^+(s, \\phi, t)/H(s) + 2*s*B_s^{0-}(s, \\phi, t)*b_s^-(s, \\phi, t)/H(s) + B_s^{0+}(s, \\phi, t)*b_z^+(s, \\phi, t) - B_s^{0-}(s, \\phi, t)*b_z^-(s, \\phi, t) + B_z^{0+}(s, \\phi, t)*b_s^+(s, \\phi, t) - B_z^{0-}(s, \\phi, t)*b_s^-(s, \\phi, t) + Derivative(\\overline{m_{ss}}(s, \\phi, t), s) - \\overline{m_{\\phi\\phi}}(s, \\phi, t)/s + \\overline{m_{ss}}(s, \\phi, t)/s + Derivative(\\overline{m_{s\\phi}}(s, \\phi, t), \\phi)/s"
      ]
     },
     "metadata": {},
     "output_type": "display_data"
    }
   ],
   "source": [
    "Ls_sym_perturbed = Ls_sym_expr.subs(linearization_subs_map)\n",
    "Ls_sym_perturbed = sympy.collect(Ls_sym_perturbed.simplify().expand(), eps)\n",
    "\n",
    "Ls_sym_bg = Ls_sym_perturbed.coeff(eps, 0)\n",
    "Ls_sym_lin = Ls_sym_perturbed.coeff(eps, 1)\n",
    "\n",
    "print(\"Background terms:\")\n",
    "display(Ls_sym_bg)\n",
    "print(\"Linearized terms:\")\n",
    "display(Ls_sym_lin)"
   ]
  },
  {
   "cell_type": "markdown",
   "id": "4aef01d5-e5ad-4533-ac5b-5630bbaa3ad2",
   "metadata": {},
   "source": [
    "Linearized form for $\\overline{L_\\phi}$:"
   ]
  },
  {
   "cell_type": "code",
   "execution_count": 31,
   "id": "2d017543-c004-4d25-a274-4ca6c92273d4",
   "metadata": {},
   "outputs": [
    {
     "name": "stdout",
     "output_type": "stream",
     "text": [
      "Background terms:\n"
     ]
    },
    {
     "data": {
      "text/latex": [
       "$\\displaystyle \\frac{s B_\\phi^{0+}{\\left(s,\\phi,t \\right)} B_s^{0+}{\\left(s,\\phi,t \\right)}}{H{\\left(s \\right)}} + \\frac{s B_\\phi^{0-}{\\left(s,\\phi,t \\right)} B_s^{0-}{\\left(s,\\phi,t \\right)}}{H{\\left(s \\right)}} + B_\\phi^{0+}{\\left(s,\\phi,t \\right)} B_z^{0+}{\\left(s,\\phi,t \\right)} - B_\\phi^{0-}{\\left(s,\\phi,t \\right)} B_z^{0-}{\\left(s,\\phi,t \\right)} + \\frac{\\partial}{\\partial s} \\overline{M_{s\\phi}}^0{\\left(s,\\phi,t \\right)} + \\frac{2 \\overline{M_{s\\phi}}^0{\\left(s,\\phi,t \\right)}}{s} + \\frac{\\frac{\\partial}{\\partial \\phi} \\overline{M_{\\phi\\phi}}^0{\\left(s,\\phi,t \\right)}}{s}$"
      ],
      "text/plain": [
       "s*B_\\phi^{0+}(s, \\phi, t)*B_s^{0+}(s, \\phi, t)/H(s) + s*B_\\phi^{0-}(s, \\phi, t)*B_s^{0-}(s, \\phi, t)/H(s) + B_\\phi^{0+}(s, \\phi, t)*B_z^{0+}(s, \\phi, t) - B_\\phi^{0-}(s, \\phi, t)*B_z^{0-}(s, \\phi, t) + Derivative(\\overline{M_{s\\phi}}^0(s, \\phi, t), s) + 2*\\overline{M_{s\\phi}}^0(s, \\phi, t)/s + Derivative(\\overline{M_{\\phi\\phi}}^0(s, \\phi, t), \\phi)/s"
      ]
     },
     "metadata": {},
     "output_type": "display_data"
    },
    {
     "name": "stdout",
     "output_type": "stream",
     "text": [
      "Linearized terms:\n"
     ]
    },
    {
     "data": {
      "text/latex": [
       "$\\displaystyle \\frac{s B_\\phi^{0+}{\\left(s,\\phi,t \\right)} b^{+}_{s}{\\left(s,\\phi,t \\right)}}{H{\\left(s \\right)}} + \\frac{s B_\\phi^{0-}{\\left(s,\\phi,t \\right)} b^{-}_{s}{\\left(s,\\phi,t \\right)}}{H{\\left(s \\right)}} + \\frac{s B_s^{0+}{\\left(s,\\phi,t \\right)} b^{+}_{\\phi}{\\left(s,\\phi,t \\right)}}{H{\\left(s \\right)}} + \\frac{s B_s^{0-}{\\left(s,\\phi,t \\right)} b^{-}_{\\phi}{\\left(s,\\phi,t \\right)}}{H{\\left(s \\right)}} + B_\\phi^{0+}{\\left(s,\\phi,t \\right)} b^{+}_{z}{\\left(s,\\phi,t \\right)} - B_\\phi^{0-}{\\left(s,\\phi,t \\right)} b^{-}_{z}{\\left(s,\\phi,t \\right)} + B_z^{0+}{\\left(s,\\phi,t \\right)} b^{+}_{\\phi}{\\left(s,\\phi,t \\right)} - B_z^{0-}{\\left(s,\\phi,t \\right)} b^{-}_{\\phi}{\\left(s,\\phi,t \\right)} + \\frac{\\partial}{\\partial s} \\overline{m_{s\\phi}}{\\left(s,\\phi,t \\right)} + \\frac{2 \\overline{m_{s\\phi}}{\\left(s,\\phi,t \\right)}}{s} + \\frac{\\frac{\\partial}{\\partial \\phi} \\overline{m_{\\phi\\phi}}{\\left(s,\\phi,t \\right)}}{s}$"
      ],
      "text/plain": [
       "s*B_\\phi^{0+}(s, \\phi, t)*b_s^+(s, \\phi, t)/H(s) + s*B_\\phi^{0-}(s, \\phi, t)*b_s^-(s, \\phi, t)/H(s) + s*B_s^{0+}(s, \\phi, t)*b_\\phi^+(s, \\phi, t)/H(s) + s*B_s^{0-}(s, \\phi, t)*b_\\phi^-(s, \\phi, t)/H(s) + B_\\phi^{0+}(s, \\phi, t)*b_z^+(s, \\phi, t) - B_\\phi^{0-}(s, \\phi, t)*b_z^-(s, \\phi, t) + B_z^{0+}(s, \\phi, t)*b_\\phi^+(s, \\phi, t) - B_z^{0-}(s, \\phi, t)*b_\\phi^-(s, \\phi, t) + Derivative(\\overline{m_{s\\phi}}(s, \\phi, t), s) + 2*\\overline{m_{s\\phi}}(s, \\phi, t)/s + Derivative(\\overline{m_{\\phi\\phi}}(s, \\phi, t), \\phi)/s"
      ]
     },
     "metadata": {},
     "output_type": "display_data"
    }
   ],
   "source": [
    "Lp_sym_perturbed = Lp_sym_expr.subs(linearization_subs_map)\n",
    "Lp_sym_perturbed = sympy.collect(Lp_sym_perturbed.simplify().expand(), eps)\n",
    "\n",
    "Lp_sym_bg = Lp_sym_perturbed.coeff(eps, 0)\n",
    "Lp_sym_lin = Lp_sym_perturbed.coeff(eps, 1)\n",
    "\n",
    "print(\"Background terms:\")\n",
    "display(Lp_sym_bg)\n",
    "print(\"Linearized terms:\")\n",
    "display(Lp_sym_lin)"
   ]
  },
  {
   "cell_type": "markdown",
   "id": "7f0ef368-64c4-474b-9ff5-3dc9652d4442",
   "metadata": {},
   "source": [
    "Linearized form for $\\widetilde{L_z}$:"
   ]
  },
  {
   "cell_type": "code",
   "execution_count": 32,
   "id": "614a2867-8d48-4889-94c4-d8c9709e18d2",
   "metadata": {},
   "outputs": [
    {
     "name": "stdout",
     "output_type": "stream",
     "text": [
      "Background terms:\n"
     ]
    },
    {
     "data": {
      "text/latex": [
       "$\\displaystyle \\frac{s B_s^{0+}{\\left(s,\\phi,t \\right)} B_z^{0+}{\\left(s,\\phi,t \\right)}}{H{\\left(s \\right)}} - \\frac{s B_s^{0-}{\\left(s,\\phi,t \\right)} B_z^{0-}{\\left(s,\\phi,t \\right)}}{H{\\left(s \\right)}} + \\left(B_z^{0+}\\right)^{2}{\\left(s,\\phi,t \\right)} + \\left(B_z^{0-}\\right)^{2}{\\left(s,\\phi,t \\right)} - 2 \\left(B_{ez}^0\\right)^{2}{\\left(s,\\phi,t \\right)} + \\frac{\\partial}{\\partial s} \\widetilde{M_{sz}}^0{\\left(s,\\phi,t \\right)} + \\frac{\\widetilde{M_{sz}}^0{\\left(s,\\phi,t \\right)}}{s} + \\frac{\\frac{\\partial}{\\partial \\phi} \\widetilde{M_{\\phi z}}^0{\\left(s,\\phi,t \\right)}}{s}$"
      ],
      "text/plain": [
       "s*B_s^{0+}(s, \\phi, t)*B_z^{0+}(s, \\phi, t)/H(s) - s*B_s^{0-}(s, \\phi, t)*B_z^{0-}(s, \\phi, t)/H(s) + B_z^{0+}(s, \\phi, t)**2 + B_z^{0-}(s, \\phi, t)**2 - 2*B_{ez}^0(s, \\phi, t)**2 + Derivative(\\widetilde{M_{sz}}^0(s, \\phi, t), s) + \\widetilde{M_{sz}}^0(s, \\phi, t)/s + Derivative(\\widetilde{M_{\\phi z}}^0(s, \\phi, t), \\phi)/s"
      ]
     },
     "metadata": {},
     "output_type": "display_data"
    },
    {
     "name": "stdout",
     "output_type": "stream",
     "text": [
      "Linearized terms:\n"
     ]
    },
    {
     "data": {
      "text/latex": [
       "$\\displaystyle \\frac{s B_s^{0+}{\\left(s,\\phi,t \\right)} b^{+}_{z}{\\left(s,\\phi,t \\right)}}{H{\\left(s \\right)}} - \\frac{s B_s^{0-}{\\left(s,\\phi,t \\right)} b^{-}_{z}{\\left(s,\\phi,t \\right)}}{H{\\left(s \\right)}} + \\frac{s B_z^{0+}{\\left(s,\\phi,t \\right)} b^{+}_{s}{\\left(s,\\phi,t \\right)}}{H{\\left(s \\right)}} - \\frac{s B_z^{0-}{\\left(s,\\phi,t \\right)} b^{-}_{s}{\\left(s,\\phi,t \\right)}}{H{\\left(s \\right)}} + 2 B_z^{0+}{\\left(s,\\phi,t \\right)} b^{+}_{z}{\\left(s,\\phi,t \\right)} + 2 B_z^{0-}{\\left(s,\\phi,t \\right)} b^{-}_{z}{\\left(s,\\phi,t \\right)} - 4 B_{ez}^0{\\left(s,\\phi,t \\right)} b_{ez}{\\left(s,\\phi,t \\right)} + \\frac{\\partial}{\\partial s} \\widetilde{m_{sz}}{\\left(s,\\phi,t \\right)} + \\frac{\\widetilde{m_{sz}}{\\left(s,\\phi,t \\right)}}{s} + \\frac{\\frac{\\partial}{\\partial \\phi} \\widetilde{m_{\\phi z}}{\\left(s,\\phi,t \\right)}}{s}$"
      ],
      "text/plain": [
       "s*B_s^{0+}(s, \\phi, t)*b_z^+(s, \\phi, t)/H(s) - s*B_s^{0-}(s, \\phi, t)*b_z^-(s, \\phi, t)/H(s) + s*B_z^{0+}(s, \\phi, t)*b_s^+(s, \\phi, t)/H(s) - s*B_z^{0-}(s, \\phi, t)*b_s^-(s, \\phi, t)/H(s) + 2*B_z^{0+}(s, \\phi, t)*b_z^+(s, \\phi, t) + 2*B_z^{0-}(s, \\phi, t)*b_z^-(s, \\phi, t) - 4*B_{ez}^0(s, \\phi, t)*b_{ez}(s, \\phi, t) + Derivative(\\widetilde{m_{sz}}(s, \\phi, t), s) + \\widetilde{m_{sz}}(s, \\phi, t)/s + Derivative(\\widetilde{m_{\\phi z}}(s, \\phi, t), \\phi)/s"
      ]
     },
     "metadata": {},
     "output_type": "display_data"
    }
   ],
   "source": [
    "Lz_asym_perturbed = Lz_asym_expr.subs(linearization_subs_map)\n",
    "Lz_asym_perturbed = sympy.collect(Lz_asym_perturbed.simplify().expand(), eps)\n",
    "\n",
    "Lz_asym_bg = Lz_asym_perturbed.coeff(eps, 0)\n",
    "Lz_asym_lin = Lz_asym_perturbed.coeff(eps, 1)\n",
    "\n",
    "print(\"Background terms:\")\n",
    "display(Lz_asym_bg)\n",
    "print(\"Linearized terms:\")\n",
    "display(Lz_asym_lin)"
   ]
  },
  {
   "cell_type": "markdown",
   "id": "df8d9ef8-d4da-4a30-97c3-14ee4ba30489",
   "metadata": {},
   "source": [
    "Curl of horizontal components $\\nabla \\times \\mathbf{L}_e$:"
   ]
  },
  {
   "cell_type": "code",
   "execution_count": 33,
   "id": "32f28f1b-fc87-4569-bdbe-dee004410887",
   "metadata": {},
   "outputs": [
    {
     "data": {
      "text/latex": [
       "$\\displaystyle \\frac{s B_\\phi^{0+}{\\left(s,\\phi,t \\right)} \\frac{\\partial}{\\partial s} b^{+}_{s}{\\left(s,\\phi,t \\right)}}{H{\\left(s \\right)}} - \\frac{s B_\\phi^{0+}{\\left(s,\\phi,t \\right)} b^{+}_{s}{\\left(s,\\phi,t \\right)} \\frac{d}{d s} H{\\left(s \\right)}}{H^{2}{\\left(s \\right)}} + \\frac{s B_\\phi^{0-}{\\left(s,\\phi,t \\right)} \\frac{\\partial}{\\partial s} b^{-}_{s}{\\left(s,\\phi,t \\right)}}{H{\\left(s \\right)}} - \\frac{s B_\\phi^{0-}{\\left(s,\\phi,t \\right)} b^{-}_{s}{\\left(s,\\phi,t \\right)} \\frac{d}{d s} H{\\left(s \\right)}}{H^{2}{\\left(s \\right)}} + \\frac{s B_s^{0+}{\\left(s,\\phi,t \\right)} \\frac{\\partial}{\\partial s} b^{+}_{\\phi}{\\left(s,\\phi,t \\right)}}{H{\\left(s \\right)}} - \\frac{s B_s^{0+}{\\left(s,\\phi,t \\right)} b^{+}_{\\phi}{\\left(s,\\phi,t \\right)} \\frac{d}{d s} H{\\left(s \\right)}}{H^{2}{\\left(s \\right)}} + \\frac{s B_s^{0-}{\\left(s,\\phi,t \\right)} \\frac{\\partial}{\\partial s} b^{-}_{\\phi}{\\left(s,\\phi,t \\right)}}{H{\\left(s \\right)}} - \\frac{s B_s^{0-}{\\left(s,\\phi,t \\right)} b^{-}_{\\phi}{\\left(s,\\phi,t \\right)} \\frac{d}{d s} H{\\left(s \\right)}}{H^{2}{\\left(s \\right)}} + \\frac{s b^{+}_{\\phi}{\\left(s,\\phi,t \\right)} \\frac{\\partial}{\\partial s} B_s^{0+}{\\left(s,\\phi,t \\right)}}{H{\\left(s \\right)}} + \\frac{s b^{-}_{\\phi}{\\left(s,\\phi,t \\right)} \\frac{\\partial}{\\partial s} B_s^{0-}{\\left(s,\\phi,t \\right)}}{H{\\left(s \\right)}} + \\frac{s b^{+}_{s}{\\left(s,\\phi,t \\right)} \\frac{\\partial}{\\partial s} B_\\phi^{0+}{\\left(s,\\phi,t \\right)}}{H{\\left(s \\right)}} + \\frac{s b^{-}_{s}{\\left(s,\\phi,t \\right)} \\frac{\\partial}{\\partial s} B_\\phi^{0-}{\\left(s,\\phi,t \\right)}}{H{\\left(s \\right)}} + B_\\phi^{0+}{\\left(s,\\phi,t \\right)} \\frac{\\partial}{\\partial s} b^{+}_{z}{\\left(s,\\phi,t \\right)} + \\frac{2 B_\\phi^{0+}{\\left(s,\\phi,t \\right)} b^{+}_{s}{\\left(s,\\phi,t \\right)}}{H{\\left(s \\right)}} - B_\\phi^{0-}{\\left(s,\\phi,t \\right)} \\frac{\\partial}{\\partial s} b^{-}_{z}{\\left(s,\\phi,t \\right)} + \\frac{2 B_\\phi^{0-}{\\left(s,\\phi,t \\right)} b^{-}_{s}{\\left(s,\\phi,t \\right)}}{H{\\left(s \\right)}} + \\frac{2 B_s^{0+}{\\left(s,\\phi,t \\right)} b^{+}_{\\phi}{\\left(s,\\phi,t \\right)}}{H{\\left(s \\right)}} - \\frac{2 B_s^{0+}{\\left(s,\\phi,t \\right)} \\frac{\\partial}{\\partial \\phi} b^{+}_{s}{\\left(s,\\phi,t \\right)}}{H{\\left(s \\right)}} + \\frac{2 B_s^{0-}{\\left(s,\\phi,t \\right)} b^{-}_{\\phi}{\\left(s,\\phi,t \\right)}}{H{\\left(s \\right)}} - \\frac{2 B_s^{0-}{\\left(s,\\phi,t \\right)} \\frac{\\partial}{\\partial \\phi} b^{-}_{s}{\\left(s,\\phi,t \\right)}}{H{\\left(s \\right)}} + B_z^{0+}{\\left(s,\\phi,t \\right)} \\frac{\\partial}{\\partial s} b^{+}_{\\phi}{\\left(s,\\phi,t \\right)} - B_z^{0-}{\\left(s,\\phi,t \\right)} \\frac{\\partial}{\\partial s} b^{-}_{\\phi}{\\left(s,\\phi,t \\right)} + b^{+}_{\\phi}{\\left(s,\\phi,t \\right)} \\frac{\\partial}{\\partial s} B_z^{0+}{\\left(s,\\phi,t \\right)} - b^{-}_{\\phi}{\\left(s,\\phi,t \\right)} \\frac{\\partial}{\\partial s} B_z^{0-}{\\left(s,\\phi,t \\right)} + b^{+}_{z}{\\left(s,\\phi,t \\right)} \\frac{\\partial}{\\partial s} B_\\phi^{0+}{\\left(s,\\phi,t \\right)} - b^{-}_{z}{\\left(s,\\phi,t \\right)} \\frac{\\partial}{\\partial s} B_\\phi^{0-}{\\left(s,\\phi,t \\right)} + \\frac{\\partial^{2}}{\\partial s^{2}} \\overline{m_{s\\phi}}{\\left(s,\\phi,t \\right)} - \\frac{2 b^{+}_{s}{\\left(s,\\phi,t \\right)} \\frac{\\partial}{\\partial \\phi} B_s^{0+}{\\left(s,\\phi,t \\right)}}{H{\\left(s \\right)}} - \\frac{2 b^{-}_{s}{\\left(s,\\phi,t \\right)} \\frac{\\partial}{\\partial \\phi} B_s^{0-}{\\left(s,\\phi,t \\right)}}{H{\\left(s \\right)}} + \\frac{B_\\phi^{0+}{\\left(s,\\phi,t \\right)} b^{+}_{z}{\\left(s,\\phi,t \\right)}}{s} - \\frac{B_\\phi^{0-}{\\left(s,\\phi,t \\right)} b^{-}_{z}{\\left(s,\\phi,t \\right)}}{s} - \\frac{B_s^{0+}{\\left(s,\\phi,t \\right)} \\frac{\\partial}{\\partial \\phi} b^{+}_{z}{\\left(s,\\phi,t \\right)}}{s} + \\frac{B_s^{0-}{\\left(s,\\phi,t \\right)} \\frac{\\partial}{\\partial \\phi} b^{-}_{z}{\\left(s,\\phi,t \\right)}}{s} + \\frac{B_z^{0+}{\\left(s,\\phi,t \\right)} b^{+}_{\\phi}{\\left(s,\\phi,t \\right)}}{s} - \\frac{B_z^{0+}{\\left(s,\\phi,t \\right)} \\frac{\\partial}{\\partial \\phi} b^{+}_{s}{\\left(s,\\phi,t \\right)}}{s} - \\frac{B_z^{0-}{\\left(s,\\phi,t \\right)} b^{-}_{\\phi}{\\left(s,\\phi,t \\right)}}{s} + \\frac{B_z^{0-}{\\left(s,\\phi,t \\right)} \\frac{\\partial}{\\partial \\phi} b^{-}_{s}{\\left(s,\\phi,t \\right)}}{s} - \\frac{b^{+}_{s}{\\left(s,\\phi,t \\right)} \\frac{\\partial}{\\partial \\phi} B_z^{0+}{\\left(s,\\phi,t \\right)}}{s} + \\frac{b^{-}_{s}{\\left(s,\\phi,t \\right)} \\frac{\\partial}{\\partial \\phi} B_z^{0-}{\\left(s,\\phi,t \\right)}}{s} - \\frac{b^{+}_{z}{\\left(s,\\phi,t \\right)} \\frac{\\partial}{\\partial \\phi} B_s^{0+}{\\left(s,\\phi,t \\right)}}{s} + \\frac{b^{-}_{z}{\\left(s,\\phi,t \\right)} \\frac{\\partial}{\\partial \\phi} B_s^{0-}{\\left(s,\\phi,t \\right)}}{s} + \\frac{3 \\frac{\\partial}{\\partial s} \\overline{m_{s\\phi}}{\\left(s,\\phi,t \\right)}}{s} + \\frac{\\frac{\\partial^{2}}{\\partial s\\partial \\phi} \\overline{m_{\\phi\\phi}}{\\left(s,\\phi,t \\right)}}{s} - \\frac{\\frac{\\partial^{2}}{\\partial s\\partial \\phi} \\overline{m_{ss}}{\\left(s,\\phi,t \\right)}}{s} + \\frac{\\frac{\\partial}{\\partial \\phi} \\overline{m_{\\phi\\phi}}{\\left(s,\\phi,t \\right)}}{s^{2}} - \\frac{\\frac{\\partial^{2}}{\\partial \\phi^{2}} \\overline{m_{s\\phi}}{\\left(s,\\phi,t \\right)}}{s^{2}} - \\frac{\\frac{\\partial}{\\partial \\phi} \\overline{m_{ss}}{\\left(s,\\phi,t \\right)}}{s^{2}}$"
      ],
      "text/plain": [
       "s*B_\\phi^{0+}(s, \\phi, t)*Derivative(b_s^+(s, \\phi, t), s)/H(s) - s*B_\\phi^{0+}(s, \\phi, t)*b_s^+(s, \\phi, t)*Derivative(H(s), s)/H(s)**2 + s*B_\\phi^{0-}(s, \\phi, t)*Derivative(b_s^-(s, \\phi, t), s)/H(s) - s*B_\\phi^{0-}(s, \\phi, t)*b_s^-(s, \\phi, t)*Derivative(H(s), s)/H(s)**2 + s*B_s^{0+}(s, \\phi, t)*Derivative(b_\\phi^+(s, \\phi, t), s)/H(s) - s*B_s^{0+}(s, \\phi, t)*b_\\phi^+(s, \\phi, t)*Derivative(H(s), s)/H(s)**2 + s*B_s^{0-}(s, \\phi, t)*Derivative(b_\\phi^-(s, \\phi, t), s)/H(s) - s*B_s^{0-}(s, \\phi, t)*b_\\phi^-(s, \\phi, t)*Derivative(H(s), s)/H(s)**2 + s*b_\\phi^+(s, \\phi, t)*Derivative(B_s^{0+}(s, \\phi, t), s)/H(s) + s*b_\\phi^-(s, \\phi, t)*Derivative(B_s^{0-}(s, \\phi, t), s)/H(s) + s*b_s^+(s, \\phi, t)*Derivative(B_\\phi^{0+}(s, \\phi, t), s)/H(s) + s*b_s^-(s, \\phi, t)*Derivative(B_\\phi^{0-}(s, \\phi, t), s)/H(s) + B_\\phi^{0+}(s, \\phi, t)*Derivative(b_z^+(s, \\phi, t), s) + 2*B_\\phi^{0+}(s, \\phi, t)*b_s^+(s, \\phi, t)/H(s) - B_\\phi^{0-}(s, \\phi, t)*Derivative(b_z^-(s, \\phi, t), s) + 2*B_\\phi^{0-}(s, \\phi, t)*b_s^-(s, \\phi, t)/H(s) + 2*B_s^{0+}(s, \\phi, t)*b_\\phi^+(s, \\phi, t)/H(s) - 2*B_s^{0+}(s, \\phi, t)*Derivative(b_s^+(s, \\phi, t), \\phi)/H(s) + 2*B_s^{0-}(s, \\phi, t)*b_\\phi^-(s, \\phi, t)/H(s) - 2*B_s^{0-}(s, \\phi, t)*Derivative(b_s^-(s, \\phi, t), \\phi)/H(s) + B_z^{0+}(s, \\phi, t)*Derivative(b_\\phi^+(s, \\phi, t), s) - B_z^{0-}(s, \\phi, t)*Derivative(b_\\phi^-(s, \\phi, t), s) + b_\\phi^+(s, \\phi, t)*Derivative(B_z^{0+}(s, \\phi, t), s) - b_\\phi^-(s, \\phi, t)*Derivative(B_z^{0-}(s, \\phi, t), s) + b_z^+(s, \\phi, t)*Derivative(B_\\phi^{0+}(s, \\phi, t), s) - b_z^-(s, \\phi, t)*Derivative(B_\\phi^{0-}(s, \\phi, t), s) + Derivative(\\overline{m_{s\\phi}}(s, \\phi, t), (s, 2)) - 2*b_s^+(s, \\phi, t)*Derivative(B_s^{0+}(s, \\phi, t), \\phi)/H(s) - 2*b_s^-(s, \\phi, t)*Derivative(B_s^{0-}(s, \\phi, t), \\phi)/H(s) + B_\\phi^{0+}(s, \\phi, t)*b_z^+(s, \\phi, t)/s - B_\\phi^{0-}(s, \\phi, t)*b_z^-(s, \\phi, t)/s - B_s^{0+}(s, \\phi, t)*Derivative(b_z^+(s, \\phi, t), \\phi)/s + B_s^{0-}(s, \\phi, t)*Derivative(b_z^-(s, \\phi, t), \\phi)/s + B_z^{0+}(s, \\phi, t)*b_\\phi^+(s, \\phi, t)/s - B_z^{0+}(s, \\phi, t)*Derivative(b_s^+(s, \\phi, t), \\phi)/s - B_z^{0-}(s, \\phi, t)*b_\\phi^-(s, \\phi, t)/s + B_z^{0-}(s, \\phi, t)*Derivative(b_s^-(s, \\phi, t), \\phi)/s - b_s^+(s, \\phi, t)*Derivative(B_z^{0+}(s, \\phi, t), \\phi)/s + b_s^-(s, \\phi, t)*Derivative(B_z^{0-}(s, \\phi, t), \\phi)/s - b_z^+(s, \\phi, t)*Derivative(B_s^{0+}(s, \\phi, t), \\phi)/s + b_z^-(s, \\phi, t)*Derivative(B_s^{0-}(s, \\phi, t), \\phi)/s + 3*Derivative(\\overline{m_{s\\phi}}(s, \\phi, t), s)/s + Derivative(\\overline{m_{\\phi\\phi}}(s, \\phi, t), \\phi, s)/s - Derivative(\\overline{m_{ss}}(s, \\phi, t), \\phi, s)/s + Derivative(\\overline{m_{\\phi\\phi}}(s, \\phi, t), \\phi)/s**2 - Derivative(\\overline{m_{s\\phi}}(s, \\phi, t), (\\phi, 2))/s**2 - Derivative(\\overline{m_{ss}}(s, \\phi, t), \\phi)/s**2"
      ]
     },
     "execution_count": 33,
     "metadata": {},
     "output_type": "execute_result"
    }
   ],
   "source": [
    "curl_L = cyl_op.curl((Ls_sym_lin, Lp_sym_lin, 0))[2]\n",
    "\n",
    "curl_L.simplify().expand()"
   ]
  },
  {
   "cell_type": "markdown",
   "id": "b1c22f38-1dc2-4cbf-a56c-c9c8f11117c3",
   "metadata": {},
   "source": [
    "### Linearized induction equation"
   ]
  },
  {
   "cell_type": "code",
   "execution_count": 47,
   "id": "dbf1b1b6-4561-4cb8-aec3-b03321782900",
   "metadata": {},
   "outputs": [
    {
     "data": {
      "text/latex": [
       "$\\displaystyle \\frac{2 \\epsilon^{2} \\overline{m_{ss}}{\\left(s,\\phi,t \\right)} \\frac{\\partial^{2}}{\\partial s\\partial \\phi} \\psi{\\left(s,\\phi,t \\right)}}{s H{\\left(s \\right)}} + \\frac{\\epsilon^{2} \\frac{\\partial}{\\partial \\phi} \\overline{m_{ss}}{\\left(s,\\phi,t \\right)} \\frac{\\partial}{\\partial s} \\psi{\\left(s,\\phi,t \\right)}}{s H{\\left(s \\right)}} - \\frac{\\epsilon^{2} \\frac{\\partial}{\\partial s} \\overline{m_{ss}}{\\left(s,\\phi,t \\right)} \\frac{\\partial}{\\partial \\phi} \\psi{\\left(s,\\phi,t \\right)}}{s H{\\left(s \\right)}} - \\frac{\\epsilon^{2} \\overline{m_{ss}}{\\left(s,\\phi,t \\right)} \\frac{d}{d s} H{\\left(s \\right)} \\frac{\\partial}{\\partial \\phi} \\psi{\\left(s,\\phi,t \\right)}}{s H^{2}{\\left(s \\right)}} + \\frac{2 \\epsilon^{2} \\overline{m_{s\\phi}}{\\left(s,\\phi,t \\right)} \\frac{\\partial^{2}}{\\partial \\phi^{2}} \\psi{\\left(s,\\phi,t \\right)}}{s^{2} H{\\left(s \\right)}} - \\frac{2 \\epsilon^{2} \\overline{m_{ss}}{\\left(s,\\phi,t \\right)} \\frac{\\partial}{\\partial \\phi} \\psi{\\left(s,\\phi,t \\right)}}{s^{2} H{\\left(s \\right)}} + \\frac{2 \\epsilon \\overline{M_{ss}}^0{\\left(s,\\phi,t \\right)} \\frac{\\partial^{2}}{\\partial s\\partial \\phi} \\psi{\\left(s,\\phi,t \\right)}}{s H{\\left(s \\right)}} + \\frac{2 \\epsilon \\overline{m_{ss}}{\\left(s,\\phi,t \\right)} \\frac{\\partial^{2}}{\\partial s\\partial \\phi} \\Psi^{0}{\\left(s,\\phi,t \\right)}}{s H{\\left(s \\right)}} - \\frac{\\epsilon \\frac{\\partial}{\\partial \\phi} \\Psi^{0}{\\left(s,\\phi,t \\right)} \\frac{\\partial}{\\partial s} \\overline{m_{ss}}{\\left(s,\\phi,t \\right)}}{s H{\\left(s \\right)}} + \\frac{\\epsilon \\frac{\\partial}{\\partial s} \\Psi^{0}{\\left(s,\\phi,t \\right)} \\frac{\\partial}{\\partial \\phi} \\overline{m_{ss}}{\\left(s,\\phi,t \\right)}}{s H{\\left(s \\right)}} + \\frac{\\epsilon \\frac{\\partial}{\\partial \\phi} \\overline{M_{ss}}^0{\\left(s,\\phi,t \\right)} \\frac{\\partial}{\\partial s} \\psi{\\left(s,\\phi,t \\right)}}{s H{\\left(s \\right)}} - \\frac{\\epsilon \\frac{\\partial}{\\partial s} \\overline{M_{ss}}^0{\\left(s,\\phi,t \\right)} \\frac{\\partial}{\\partial \\phi} \\psi{\\left(s,\\phi,t \\right)}}{s H{\\left(s \\right)}} - \\frac{\\epsilon \\overline{M_{ss}}^0{\\left(s,\\phi,t \\right)} \\frac{d}{d s} H{\\left(s \\right)} \\frac{\\partial}{\\partial \\phi} \\psi{\\left(s,\\phi,t \\right)}}{s H^{2}{\\left(s \\right)}} - \\frac{\\epsilon \\overline{m_{ss}}{\\left(s,\\phi,t \\right)} \\frac{d}{d s} H{\\left(s \\right)} \\frac{\\partial}{\\partial \\phi} \\Psi^{0}{\\left(s,\\phi,t \\right)}}{s H^{2}{\\left(s \\right)}} + \\frac{2 \\epsilon \\overline{M_{s\\phi}}^0{\\left(s,\\phi,t \\right)} \\frac{\\partial^{2}}{\\partial \\phi^{2}} \\psi{\\left(s,\\phi,t \\right)}}{s^{2} H{\\left(s \\right)}} - \\frac{2 \\epsilon \\overline{M_{ss}}^0{\\left(s,\\phi,t \\right)} \\frac{\\partial}{\\partial \\phi} \\psi{\\left(s,\\phi,t \\right)}}{s^{2} H{\\left(s \\right)}} + \\frac{2 \\epsilon \\overline{m_{s\\phi}}{\\left(s,\\phi,t \\right)} \\frac{\\partial^{2}}{\\partial \\phi^{2}} \\Psi^{0}{\\left(s,\\phi,t \\right)}}{s^{2} H{\\left(s \\right)}} - \\frac{2 \\epsilon \\overline{m_{ss}}{\\left(s,\\phi,t \\right)} \\frac{\\partial}{\\partial \\phi} \\Psi^{0}{\\left(s,\\phi,t \\right)}}{s^{2} H{\\left(s \\right)}} + \\frac{2 \\overline{M_{ss}}^0{\\left(s,\\phi,t \\right)} \\frac{\\partial^{2}}{\\partial s\\partial \\phi} \\Psi^{0}{\\left(s,\\phi,t \\right)}}{s H{\\left(s \\right)}} - \\frac{\\frac{\\partial}{\\partial \\phi} \\Psi^{0}{\\left(s,\\phi,t \\right)} \\frac{\\partial}{\\partial s} \\overline{M_{ss}}^0{\\left(s,\\phi,t \\right)}}{s H{\\left(s \\right)}} + \\frac{\\frac{\\partial}{\\partial s} \\Psi^{0}{\\left(s,\\phi,t \\right)} \\frac{\\partial}{\\partial \\phi} \\overline{M_{ss}}^0{\\left(s,\\phi,t \\right)}}{s H{\\left(s \\right)}} - \\frac{\\overline{M_{ss}}^0{\\left(s,\\phi,t \\right)} \\frac{d}{d s} H{\\left(s \\right)} \\frac{\\partial}{\\partial \\phi} \\Psi^{0}{\\left(s,\\phi,t \\right)}}{s H^{2}{\\left(s \\right)}} + \\frac{2 \\overline{M_{s\\phi}}^0{\\left(s,\\phi,t \\right)} \\frac{\\partial^{2}}{\\partial \\phi^{2}} \\Psi^{0}{\\left(s,\\phi,t \\right)}}{s^{2} H{\\left(s \\right)}} - \\frac{2 \\overline{M_{ss}}^0{\\left(s,\\phi,t \\right)} \\frac{\\partial}{\\partial \\phi} \\Psi^{0}{\\left(s,\\phi,t \\right)}}{s^{2} H{\\left(s \\right)}}$"
      ],
      "text/plain": [
       "2*\\epsilon**2*\\overline{m_{ss}}(s, \\phi, t)*Derivative(\\psi(s, \\phi, t), \\phi, s)/(s*H(s)) + \\epsilon**2*Derivative(\\overline{m_{ss}}(s, \\phi, t), \\phi)*Derivative(\\psi(s, \\phi, t), s)/(s*H(s)) - \\epsilon**2*Derivative(\\overline{m_{ss}}(s, \\phi, t), s)*Derivative(\\psi(s, \\phi, t), \\phi)/(s*H(s)) - \\epsilon**2*\\overline{m_{ss}}(s, \\phi, t)*Derivative(H(s), s)*Derivative(\\psi(s, \\phi, t), \\phi)/(s*H(s)**2) + 2*\\epsilon**2*\\overline{m_{s\\phi}}(s, \\phi, t)*Derivative(\\psi(s, \\phi, t), (\\phi, 2))/(s**2*H(s)) - 2*\\epsilon**2*\\overline{m_{ss}}(s, \\phi, t)*Derivative(\\psi(s, \\phi, t), \\phi)/(s**2*H(s)) + 2*\\epsilon*\\overline{M_{ss}}^0(s, \\phi, t)*Derivative(\\psi(s, \\phi, t), \\phi, s)/(s*H(s)) + 2*\\epsilon*\\overline{m_{ss}}(s, \\phi, t)*Derivative(\\Psi^0(s, \\phi, t), \\phi, s)/(s*H(s)) - \\epsilon*Derivative(\\Psi^0(s, \\phi, t), \\phi)*Derivative(\\overline{m_{ss}}(s, \\phi, t), s)/(s*H(s)) + \\epsilon*Derivative(\\Psi^0(s, \\phi, t), s)*Derivative(\\overline{m_{ss}}(s, \\phi, t), \\phi)/(s*H(s)) + \\epsilon*Derivative(\\overline{M_{ss}}^0(s, \\phi, t), \\phi)*Derivative(\\psi(s, \\phi, t), s)/(s*H(s)) - \\epsilon*Derivative(\\overline{M_{ss}}^0(s, \\phi, t), s)*Derivative(\\psi(s, \\phi, t), \\phi)/(s*H(s)) - \\epsilon*\\overline{M_{ss}}^0(s, \\phi, t)*Derivative(H(s), s)*Derivative(\\psi(s, \\phi, t), \\phi)/(s*H(s)**2) - \\epsilon*\\overline{m_{ss}}(s, \\phi, t)*Derivative(H(s), s)*Derivative(\\Psi^0(s, \\phi, t), \\phi)/(s*H(s)**2) + 2*\\epsilon*\\overline{M_{s\\phi}}^0(s, \\phi, t)*Derivative(\\psi(s, \\phi, t), (\\phi, 2))/(s**2*H(s)) - 2*\\epsilon*\\overline{M_{ss}}^0(s, \\phi, t)*Derivative(\\psi(s, \\phi, t), \\phi)/(s**2*H(s)) + 2*\\epsilon*\\overline{m_{s\\phi}}(s, \\phi, t)*Derivative(\\Psi^0(s, \\phi, t), (\\phi, 2))/(s**2*H(s)) - 2*\\epsilon*\\overline{m_{ss}}(s, \\phi, t)*Derivative(\\Psi^0(s, \\phi, t), \\phi)/(s**2*H(s)) + 2*\\overline{M_{ss}}^0(s, \\phi, t)*Derivative(\\Psi^0(s, \\phi, t), \\phi, s)/(s*H(s)) - Derivative(\\Psi^0(s, \\phi, t), \\phi)*Derivative(\\overline{M_{ss}}^0(s, \\phi, t), s)/(s*H(s)) + Derivative(\\Psi^0(s, \\phi, t), s)*Derivative(\\overline{M_{ss}}^0(s, \\phi, t), \\phi)/(s*H(s)) - \\overline{M_{ss}}^0(s, \\phi, t)*Derivative(H(s), s)*Derivative(\\Psi^0(s, \\phi, t), \\phi)/(s*H(s)**2) + 2*\\overline{M_{s\\phi}}^0(s, \\phi, t)*Derivative(\\Psi^0(s, \\phi, t), (\\phi, 2))/(s**2*H(s)) - 2*\\overline{M_{ss}}^0(s, \\phi, t)*Derivative(\\Psi^0(s, \\phi, t), \\phi)/(s**2*H(s))"
      ]
     },
     "execution_count": 47,
     "metadata": {},
     "output_type": "execute_result"
    }
   ],
   "source": [
    "evo_Mss.subs({us: us_psi, up: up_psi, uz: uz_psi}).subs(linearization_subs_map).simplify().expand()"
   ]
  },
  {
   "cell_type": "code",
   "execution_count": 59,
   "id": "05fb2721-cde4-4c21-af66-aa85d9527745",
   "metadata": {},
   "outputs": [],
   "source": [
    "evo_mss = evo_Mss.subs({us: us_0 + eps*us_psi, up: up_0 + eps*up_psi, uz: uz_0 + eps*uz_psi}).subs(linearization_subs_map)\n",
    "evo_mss = evo_mss.simplify().expand().coeff(eps, 1)\n",
    "\n",
    "evo_mpp = evo_Mpp.subs({us: us_0 + eps*us_psi, up: up_0 + eps*up_psi, uz: uz_0 + eps*uz_psi}).subs(linearization_subs_map)\n",
    "evo_mpp = evo_mpp.simplify().expand().coeff(eps, 1)\n",
    "\n",
    "evo_msp = evo_Msp.subs({us: us_0 + eps*us_psi, up: up_0 + eps*up_psi, uz: uz_0 + eps*uz_psi}).subs(linearization_subs_map)\n",
    "evo_msp = evo_msp.simplify().expand().coeff(eps, 1)\n",
    "\n",
    "evo_msz = evo_Msz.subs({us: us_0 + eps*us_psi, up: up_0 + eps*up_psi, uz: uz_0 + eps*uz_psi}).subs(linearization_subs_map)\n",
    "evo_msz = evo_msz.simplify().expand().coeff(eps, 1)\n",
    "\n",
    "evo_mpz = evo_Mpz.subs({us: us_0 + eps*us_psi, up: up_0 + eps*up_psi, uz: uz_0 + eps*uz_psi}).subs(linearization_subs_map)\n",
    "evo_mpz = evo_mpz.simplify().expand().coeff(eps, 1)\n",
    "\n",
    "evo_zmss = evo_zMss.subs({us: us_0 + eps*us_psi, up: up_0 + eps*up_psi, uz: uz_0 + eps*uz_psi}).subs(linearization_subs_map)\n",
    "evo_zmss = evo_zmss.simplify().expand().coeff(eps, 1)\n",
    "\n",
    "evo_zmpp = evo_zMpp.subs({us: us_0 + eps*us_psi, up: up_0 + eps*up_psi, uz: uz_0 + eps*uz_psi}).subs(linearization_subs_map)\n",
    "evo_zmpp = evo_zmpp.simplify().expand().coeff(eps, 1)\n",
    "\n",
    "evo_zmsp = evo_zMsp.subs({us: us_0 + eps*us_psi, up: up_0 + eps*up_psi, uz: uz_0 + eps*uz_psi}).subs(linearization_subs_map)\n",
    "evo_zmsp = evo_zmsp.simplify().expand().coeff(eps, 1)\n",
    "\n",
    "evo_bs_e = evo_Bs_e.subs({us: us_0 + eps*us_psi, up: up_0 + eps*up_psi, uz: uz_0 + eps*uz_psi}).subs(linearization_subs_map)\n",
    "evo_bs_e = evo_bs_e.simplify().expand().coeff(eps, 1)\n",
    "\n",
    "evo_bp_e = evo_Bp_e.subs({us: us_0 + eps*us_psi, up: up_0 + eps*up_psi, uz: uz_0 + eps*uz_psi}).subs(linearization_subs_map)\n",
    "evo_bp_e = evo_bp_e.simplify().expand().coeff(eps, 1)\n",
    "\n",
    "evo_bz_e = evo_Bz_e.subs({us: us_0 + eps*us_psi, up: up_0 + eps*up_psi, uz: uz_0 + eps*uz_psi}).subs(linearization_subs_map)\n",
    "evo_bz_e = evo_bz_e.simplify().expand().coeff(eps, 1)\n",
    "\n",
    "evo_dbs_dz_e = evo_dBs_dz_e.subs({us: us_0 + eps*us_psi, up: up_0 + eps*up_psi, uz: uz_0 + eps*uz_psi}).subs(linearization_subs_map)\n",
    "evo_dbs_dz_e = evo_dbs_dz_e.simplify().expand().coeff(eps, 1)\n",
    "\n",
    "evo_dbp_dz_e = evo_dBp_dz_e.subs({us: us_0 + eps*us_psi, up: up_0 + eps*up_psi, uz: uz_0 + eps*uz_psi}).subs(linearization_subs_map)\n",
    "evo_dbp_dz_e = evo_dbp_dz_e.simplify().expand().coeff(eps, 1)"
   ]
  },
  {
   "cell_type": "markdown",
   "id": "d70f3e18-7b7c-4761-af9c-ee9d141f8d50",
   "metadata": {},
   "source": [
    "Inspection window"
   ]
  },
  {
   "cell_type": "code",
   "execution_count": 60,
   "id": "1fc1b92f-404c-433e-9b7a-1e41675fd644",
   "metadata": {},
   "outputs": [
    {
     "data": {
      "text/latex": [
       "$\\displaystyle - U^{0}_{s}{\\left(s,\\phi,z,t \\right)} \\frac{\\partial}{\\partial s} \\overline{m_{ss}}{\\left(s,\\phi,t \\right)} + 2 \\overline{m_{ss}}{\\left(s,\\phi,t \\right)} \\frac{\\partial}{\\partial s} U^{0}_{s}{\\left(s,\\phi,z,t \\right)} + \\frac{U^{0}_{s}{\\left(s,\\phi,z,t \\right)} \\overline{m_{ss}}{\\left(s,\\phi,t \\right)} \\frac{d}{d s} H{\\left(s \\right)}}{H{\\left(s \\right)}} - \\frac{U^{0}_{\\phi}{\\left(s,\\phi,z,t \\right)} \\frac{\\partial}{\\partial \\phi} \\overline{m_{ss}}{\\left(s,\\phi,t \\right)}}{s} + \\frac{2 \\overline{m_{s\\phi}}{\\left(s,\\phi,t \\right)} \\frac{\\partial}{\\partial \\phi} U^{0}_{s}{\\left(s,\\phi,z,t \\right)}}{s} + \\frac{2 \\overline{M_{ss}}^0{\\left(s,\\phi,t \\right)} \\frac{\\partial^{2}}{\\partial s\\partial \\phi} \\psi{\\left(s,\\phi,t \\right)}}{s H{\\left(s \\right)}} + \\frac{\\frac{\\partial}{\\partial \\phi} \\overline{M_{ss}}^0{\\left(s,\\phi,t \\right)} \\frac{\\partial}{\\partial s} \\psi{\\left(s,\\phi,t \\right)}}{s H{\\left(s \\right)}} - \\frac{\\frac{\\partial}{\\partial s} \\overline{M_{ss}}^0{\\left(s,\\phi,t \\right)} \\frac{\\partial}{\\partial \\phi} \\psi{\\left(s,\\phi,t \\right)}}{s H{\\left(s \\right)}} - \\frac{\\overline{M_{ss}}^0{\\left(s,\\phi,t \\right)} \\frac{d}{d s} H{\\left(s \\right)} \\frac{\\partial}{\\partial \\phi} \\psi{\\left(s,\\phi,t \\right)}}{s H^{2}{\\left(s \\right)}} + \\frac{2 \\overline{M_{s\\phi}}^0{\\left(s,\\phi,t \\right)} \\frac{\\partial^{2}}{\\partial \\phi^{2}} \\psi{\\left(s,\\phi,t \\right)}}{s^{2} H{\\left(s \\right)}} - \\frac{2 \\overline{M_{ss}}^0{\\left(s,\\phi,t \\right)} \\frac{\\partial}{\\partial \\phi} \\psi{\\left(s,\\phi,t \\right)}}{s^{2} H{\\left(s \\right)}}$"
      ],
      "text/plain": [
       "-U_s^0(s, \\phi, z, t)*Derivative(\\overline{m_{ss}}(s, \\phi, t), s) + 2*\\overline{m_{ss}}(s, \\phi, t)*Derivative(U_s^0(s, \\phi, z, t), s) + U_s^0(s, \\phi, z, t)*\\overline{m_{ss}}(s, \\phi, t)*Derivative(H(s), s)/H(s) - U_\\phi^0(s, \\phi, z, t)*Derivative(\\overline{m_{ss}}(s, \\phi, t), \\phi)/s + 2*\\overline{m_{s\\phi}}(s, \\phi, t)*Derivative(U_s^0(s, \\phi, z, t), \\phi)/s + 2*\\overline{M_{ss}}^0(s, \\phi, t)*Derivative(\\psi(s, \\phi, t), \\phi, s)/(s*H(s)) + Derivative(\\overline{M_{ss}}^0(s, \\phi, t), \\phi)*Derivative(\\psi(s, \\phi, t), s)/(s*H(s)) - Derivative(\\overline{M_{ss}}^0(s, \\phi, t), s)*Derivative(\\psi(s, \\phi, t), \\phi)/(s*H(s)) - \\overline{M_{ss}}^0(s, \\phi, t)*Derivative(H(s), s)*Derivative(\\psi(s, \\phi, t), \\phi)/(s*H(s)**2) + 2*\\overline{M_{s\\phi}}^0(s, \\phi, t)*Derivative(\\psi(s, \\phi, t), (\\phi, 2))/(s**2*H(s)) - 2*\\overline{M_{ss}}^0(s, \\phi, t)*Derivative(\\psi(s, \\phi, t), \\phi)/(s**2*H(s))"
      ]
     },
     "execution_count": 60,
     "metadata": {},
     "output_type": "execute_result"
    }
   ],
   "source": [
    "evo_mss"
   ]
  },
  {
   "cell_type": "code",
   "execution_count": 59,
   "id": "b20dad93-298d-4168-8016-7ffd3e1d5af7",
   "metadata": {},
   "outputs": [
    {
     "data": {
      "text/latex": [
       "$\\displaystyle s \\frac{\\partial}{\\partial s} b^{+}_{z}{\\left(s,\\phi,t \\right)} - s \\frac{\\partial}{\\partial s} b^{-}_{z}{\\left(s,\\phi,t \\right)} + 2 b^{+}_{z}{\\left(s,\\phi,t \\right)} - 2 b^{-}_{z}{\\left(s,\\phi,t \\right)} + \\frac{\\partial^{2}}{\\partial s^{2}} \\overline{m_{s\\phi}}{\\left(s,\\phi,t \\right)} + \\frac{3 \\frac{\\partial}{\\partial s} \\overline{m_{s\\phi}}{\\left(s,\\phi,t \\right)}}{s} + \\frac{\\frac{\\partial^{2}}{\\partial s\\partial \\phi} \\overline{m_{\\phi\\phi}}{\\left(s,\\phi,t \\right)}}{s} - \\frac{\\frac{\\partial^{2}}{\\partial s\\partial \\phi} \\overline{m_{ss}}{\\left(s,\\phi,t \\right)}}{s} + \\frac{\\frac{\\partial}{\\partial \\phi} \\overline{m_{\\phi\\phi}}{\\left(s,\\phi,t \\right)}}{s^{2}} - \\frac{\\frac{\\partial^{2}}{\\partial \\phi^{2}} \\overline{m_{s\\phi}}{\\left(s,\\phi,t \\right)}}{s^{2}} - \\frac{\\frac{\\partial}{\\partial \\phi} \\overline{m_{ss}}{\\left(s,\\phi,t \\right)}}{s^{2}} + \\frac{s^{2} \\frac{\\partial}{\\partial s} b^{+}_{s}{\\left(s,\\phi,t \\right)}}{H} + \\frac{s^{2} \\frac{\\partial}{\\partial s} b^{-}_{s}{\\left(s,\\phi,t \\right)}}{H} + \\frac{3 s b^{+}_{s}{\\left(s,\\phi,t \\right)}}{H} + \\frac{3 s b^{-}_{s}{\\left(s,\\phi,t \\right)}}{H}$"
      ],
      "text/plain": [
       "s*Derivative(b_z^+(s, \\phi, t), s) - s*Derivative(b_z^-(s, \\phi, t), s) + 2*b_z^+(s, \\phi, t) - 2*b_z^-(s, \\phi, t) + Derivative(\\overline{m_{s\\phi}}(s, \\phi, t), (s, 2)) + 3*Derivative(\\overline{m_{s\\phi}}(s, \\phi, t), s)/s + Derivative(\\overline{m_{\\phi\\phi}}(s, \\phi, t), \\phi, s)/s - Derivative(\\overline{m_{ss}}(s, \\phi, t), \\phi, s)/s + Derivative(\\overline{m_{\\phi\\phi}}(s, \\phi, t), \\phi)/s**2 - Derivative(\\overline{m_{s\\phi}}(s, \\phi, t), (\\phi, 2))/s**2 - Derivative(\\overline{m_{ss}}(s, \\phi, t), \\phi)/s**2 + s**2*Derivative(b_s^+(s, \\phi, t), s)/H + s**2*Derivative(b_s^-(s, \\phi, t), s)/H + 3*s*b_s^+(s, \\phi, t)/H + 3*s*b_s^-(s, \\phi, t)/H"
      ]
     },
     "execution_count": 59,
     "metadata": {},
     "output_type": "execute_result"
    }
   ],
   "source": [
    "curl_L_malkus = curl_L.subs({\n",
    "    Bs_p_0: 0,\n",
    "    Bs_m_0: 0,\n",
    "    Bz_p_0: 0,\n",
    "    Bz_m_0: 0,\n",
    "    Bp_p_0: s,\n",
    "    Bp_m_0: s\n",
    "})\n",
    "curl_L_malkus.simplify().expand()"
   ]
  },
  {
   "cell_type": "code",
   "execution_count": null,
   "id": "9d1cd20b-feee-43a1-b3e9-b10a7fe77e22",
   "metadata": {},
   "outputs": [],
   "source": [
    "simplify"
   ]
  }
 ],
 "metadata": {
  "kernelspec": {
   "display_name": "Python3 (geomag)",
   "language": "python",
   "name": "geomag"
  },
  "language_info": {
   "codemirror_mode": {
    "name": "ipython",
    "version": 3
   },
   "file_extension": ".py",
   "mimetype": "text/x-python",
   "name": "python",
   "nbconvert_exporter": "python",
   "pygments_lexer": "ipython3",
   "version": "3.8.13"
  }
 },
 "nbformat": 4,
 "nbformat_minor": 5
}
