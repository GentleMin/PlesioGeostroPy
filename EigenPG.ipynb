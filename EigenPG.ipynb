{
 "cells": [
  {
   "cell_type": "markdown",
   "id": "83bde1b9-0e7c-458f-82d3-c4b5bebb3909",
   "metadata": {
    "tags": []
   },
   "source": [
    "# Hydrodynamic and Hydromagnetic eigenmodes of Plesio-Geostrophy Model\n",
    "\n",
    "This notebook solves the eigenmodes of Plesio-Geostrophy (PG) model in a number of background fields. Plesio-Geostrophy model (see [Jackson and Maffei, 2020](https://doi.org/10.1098/rspa.2020.0513)) is a 2-D reduced model for 3-D MHD in rapidly rotating frame, based on near-geostrophic flows in an axisymmetric cavity.\n",
    "\n",
    "Currently, only the axisymmetric background field is used."
   ]
  },
  {
   "cell_type": "code",
   "execution_count": 1,
   "id": "dbec32e5-dd4e-481d-b2e2-a9a56a78d41e",
   "metadata": {},
   "outputs": [],
   "source": [
    "%load_ext autoreload\n",
    "%autoreload 2\n",
    "\n",
    "# Symbolics\n",
    "import sympy\n",
    "from sympy import *\n",
    "import pg_utils.sympy_supp.vector_calculus_3d as v3d\n",
    "\n",
    "# PG Model\n",
    "from pg_utils.pg_model import *\n",
    "from pg_utils.pg_model import core\n",
    "from pg_utils.pg_model import base_utils as pgutils"
   ]
  },
  {
   "cell_type": "markdown",
   "id": "2cb54883-692e-46c6-976c-70f90d2da2e4",
   "metadata": {},
   "source": [
    "Conventions for fields"
   ]
  },
  {
   "cell_type": "code",
   "execution_count": 2,
   "id": "459c9633-948e-4c1a-bd90-3e2b74fb0f43",
   "metadata": {},
   "outputs": [],
   "source": [
    "def display_eqs(lhs, rhs):\n",
    "    display(*(sympy.Eq(lhs_tmp, rhs[idx]) for idx, lhs_tmp in enumerate(lhs)))"
   ]
  },
  {
   "cell_type": "markdown",
   "id": "ccebf348-90ec-4070-9c94-92078f7a6288",
   "metadata": {
    "tags": []
   },
   "source": [
    "## Select equations\n",
    "\n",
    "- Use linearized equations; \n",
    "- when calculating eigenvalue problems against a zero background velocity field, one can opt to use the linearized form of induction equation in cylindrical coordinates at the boundary, instead of the $B_r$ equation"
   ]
  },
  {
   "cell_type": "code",
   "execution_count": 3,
   "id": "5d9c5002-11c7-4b8a-91ad-9e5c9b29432e",
   "metadata": {},
   "outputs": [],
   "source": [
    "from pg_utils.pg_model import equations as eqs\n",
    "\n",
    "eqs_lin = eqs.eqs_pg_lin.copy()\n",
    "activated = [True if idx != 14 else False for idx in range(eqs_lin.n_fields)]"
   ]
  },
  {
   "cell_type": "markdown",
   "id": "f68ad6aa-223f-4117-83cb-62f6ac1dd27c",
   "metadata": {},
   "source": [
    "### Choose forcing\n",
    "\n",
    "The default is (almost) always to choose Lorentz force, since PG is mainly concerned with the expression with magnetic moments.\n",
    "\n",
    "The following forces are possible but not yet implemented:\n",
    "- viscous force / viscous diffusion: this can be readily expressed in terms of velocity field, which is known everywhere given the PG ansatz\n",
    "- magnetic diffusion: according to Stefano, this is strictly NOT closed in PG variables. There might be ways to approximate them\n",
    "- buoyancy force? It is mentioned in the 2020 paper, but not elaborated on. There is currently no temperature field in PG formulation\n",
    "- boundary layer effects? I see Daria has the formulation of Ekman pumping in the latest notebook."
   ]
  },
  {
   "cell_type": "code",
   "execution_count": 4,
   "id": "2763b05b-c08a-46c9-b65a-2609ec68ad03",
   "metadata": {},
   "outputs": [
    {
     "data": {
      "text/latex": [
       "$\\displaystyle \\frac{s \\frac{\\partial^{3}}{\\partial t\\partial s^{2}} \\psi{\\left(s,\\phi,t \\right)}}{H{\\left(s \\right)}} - \\frac{s \\frac{d}{d s} H{\\left(s \\right)} \\frac{\\partial^{2}}{\\partial t\\partial s} \\psi{\\left(s,\\phi,t \\right)}}{H^{2}{\\left(s \\right)}} + \\frac{\\frac{\\partial^{2}}{\\partial t\\partial s} \\psi{\\left(s,\\phi,t \\right)}}{H{\\left(s \\right)}} - \\frac{\\frac{d}{d s} H{\\left(s \\right)} \\frac{\\partial^{3}}{\\partial t\\partial \\phi^{2}} \\psi{\\left(s,\\phi,t \\right)}}{2 H^{2}{\\left(s \\right)}} + \\frac{\\frac{\\partial^{3}}{\\partial t\\partial \\phi^{2}} \\psi{\\left(s,\\phi,t \\right)}}{s H{\\left(s \\right)}} = \\frac{\\mathrm{Le}^{2} s L_{e\\phi}{\\left(s,\\phi,t \\right)} \\frac{d}{d s} H{\\left(s \\right)}}{H{\\left(s \\right)}} - \\frac{\\mathrm{Le}^{2} \\overline{L_\\phi}{\\left(s,\\phi,t \\right)}}{2 H{\\left(s \\right)}} - \\frac{s \\frac{\\partial}{\\partial s} \\mathrm{Le}^{2} \\overline{L_\\phi}{\\left(s,\\phi,t \\right)}}{2 H{\\left(s \\right)}} + \\frac{\\frac{\\partial}{\\partial \\phi} \\mathrm{Le}^{2} \\overline{L_s}{\\left(s,\\phi,t \\right)}}{2 H{\\left(s \\right)}} + \\frac{\\frac{\\partial}{\\partial \\phi} \\mathrm{Le}^{2} \\widetilde{L_z}{\\left(s,\\phi,t \\right)} \\frac{d}{d s} H{\\left(s \\right)}}{2 H{\\left(s \\right)}} - \\frac{2 \\frac{d}{d s} H{\\left(s \\right)} \\frac{\\partial}{\\partial \\phi} \\psi{\\left(s,\\phi,t \\right)}}{H^{2}{\\left(s \\right)}}$"
      ],
      "text/plain": [
       "Eq(s*Derivative(\\psi(s, \\phi, t), (s, 2), t)/H(s) - s*Derivative(H(s), s)*Derivative(\\psi(s, \\phi, t), s, t)/H(s)**2 + Derivative(\\psi(s, \\phi, t), s, t)/H(s) - Derivative(H(s), s)*Derivative(\\psi(s, \\phi, t), (\\phi, 2), t)/(2*H(s)**2) + Derivative(\\psi(s, \\phi, t), (\\phi, 2), t)/(s*H(s)), \\mathrm{Le}**2*s*L_{e\\phi}(s, \\phi, t)*Derivative(H(s), s)/H(s) - \\mathrm{Le}**2*\\overline{L_\\phi}(s, \\phi, t)/(2*H(s)) - s*Derivative(\\mathrm{Le}**2*\\overline{L_\\phi}(s, \\phi, t), s)/(2*H(s)) + Derivative(\\mathrm{Le}**2*\\overline{L_s}(s, \\phi, t), \\phi)/(2*H(s)) + Derivative(\\mathrm{Le}**2*\\widetilde{L_z}(s, \\phi, t), \\phi)*Derivative(H(s), s)/(2*H(s)) - 2*Derivative(H(s), s)*Derivative(\\psi(s, \\phi, t), \\phi)/H(s)**2)"
      ]
     },
     "execution_count": 4,
     "metadata": {},
     "output_type": "execute_result"
    }
   ],
   "source": [
    "from pg_utils.pg_model import forcing\n",
    "from pg_utils.pg_model import params\n",
    "\n",
    "eqs_lin.Psi = sympy.Eq(eqs_lin.Psi.lhs, eqs_lin.Psi.rhs.subs({\n",
    "    eqs.fe_p: params.Le**2*forcing.Le_p,\n",
    "    eqs.fs_sym: params.Le**2*forcing.Ls_sym,\n",
    "    eqs.fp_sym: params.Le**2*forcing.Lp_sym,\n",
    "    eqs.fz_asym: params.Le**2*forcing.Lz_asym\n",
    "}))\n",
    "eqs_lin.Psi"
   ]
  },
  {
   "cell_type": "markdown",
   "id": "2a7802bc-8418-44de-b64a-239629f651a2",
   "metadata": {},
   "source": [
    "## Background field"
   ]
  },
  {
   "cell_type": "markdown",
   "id": "dd490be2-8ec3-409b-b8b4-bf43e2a0d761",
   "metadata": {},
   "source": [
    "### Background velocity field"
   ]
  },
  {
   "cell_type": "code",
   "execution_count": 5,
   "id": "58dd4313-b541-409c-b87a-2188a214c90a",
   "metadata": {},
   "outputs": [
    {
     "data": {
      "text/latex": [
       "$\\displaystyle U^{0}_{s}{\\left(s,\\phi,z \\right)} = 0$"
      ],
      "text/plain": [
       "Eq(U_s^0(s, \\phi, z), 0)"
      ]
     },
     "metadata": {},
     "output_type": "display_data"
    },
    {
     "data": {
      "text/latex": [
       "$\\displaystyle U^{0}_{\\phi}{\\left(s,\\phi,z \\right)} = 0$"
      ],
      "text/plain": [
       "Eq(U_\\phi^0(s, \\phi, z), 0)"
      ]
     },
     "metadata": {},
     "output_type": "display_data"
    },
    {
     "data": {
      "text/latex": [
       "$\\displaystyle U^{0}_{z}{\\left(s,\\phi,z \\right)} = 0$"
      ],
      "text/plain": [
       "Eq(U_z^0(s, \\phi, z), 0)"
      ]
     },
     "metadata": {},
     "output_type": "display_data"
    }
   ],
   "source": [
    "U0_val = v3d.Vector3D((S.Zero, S.Zero, S.Zero), core.cyl)\n",
    "display_eqs(core.U0_vec, U0_val)"
   ]
  },
  {
   "cell_type": "markdown",
   "id": "683f5621-69f7-49f9-b1ba-f998cb97d80b",
   "metadata": {},
   "source": [
    "### Background magnetic field"
   ]
  },
  {
   "cell_type": "markdown",
   "id": "2d97b6b1-baee-479b-99d2-ac52c18e493d",
   "metadata": {},
   "source": [
    "Case 1. Malkus background field"
   ]
  },
  {
   "cell_type": "code",
   "execution_count": 6,
   "id": "897105dc-4b66-4725-a861-245365030e9b",
   "metadata": {},
   "outputs": [
    {
     "data": {
      "text/latex": [
       "$\\displaystyle B^{0}_{s}{\\left(s,\\phi,z \\right)} = 0$"
      ],
      "text/plain": [
       "Eq(B_s^0(s, \\phi, z), 0)"
      ]
     },
     "metadata": {},
     "output_type": "display_data"
    },
    {
     "data": {
      "text/latex": [
       "$\\displaystyle B^{0}_{\\phi}{\\left(s,\\phi,z \\right)} = s$"
      ],
      "text/plain": [
       "Eq(B_\\phi^0(s, \\phi, z), s)"
      ]
     },
     "metadata": {},
     "output_type": "display_data"
    },
    {
     "data": {
      "text/latex": [
       "$\\displaystyle B^{0}_{z}{\\left(s,\\phi,z \\right)} = 0$"
      ],
      "text/plain": [
       "Eq(B_z^0(s, \\phi, z), 0)"
      ]
     },
     "metadata": {},
     "output_type": "display_data"
    }
   ],
   "source": [
    "B0_val = v3d.Vector3D((S.Zero, s, S.Zero), core.cyl)\n",
    "display_eqs(core.B0_vec, B0_val)"
   ]
  },
  {
   "cell_type": "markdown",
   "id": "de112107-a942-4037-a8ab-dc81d5386666",
   "metadata": {},
   "source": [
    "Case 2. toroidal quadrupolar field"
   ]
  },
  {
   "cell_type": "code",
   "execution_count": null,
   "id": "1864cebc-9189-47e5-9b49-a47e3ec64db8",
   "metadata": {},
   "outputs": [],
   "source": [
    "B0_val = v3d.Vector3D((S.Zero, s*(S.One - s**2 - z**2), S.Zero), core.cyl)\n",
    "display_eqs(core.B0_vec, B0_val)"
   ]
  },
  {
   "cell_type": "markdown",
   "id": "9f04b90c-1f5e-4500-9f96-2a5184c4b424",
   "metadata": {},
   "source": [
    "### Assemble the PG backgrounds"
   ]
  },
  {
   "cell_type": "code",
   "execution_count": 8,
   "id": "cb0c77b2-ecd1-4d71-82e0-dea6539186be",
   "metadata": {},
   "outputs": [
    {
     "data": {
      "text/latex": [
       "$\\displaystyle \\Psi^{0}{\\left(s,\\phi \\right)} = 0$"
      ],
      "text/plain": [
       "Eq(\\Psi^0(s, \\phi), 0)"
      ]
     },
     "metadata": {},
     "output_type": "display_data"
    },
    {
     "data": {
      "text/latex": [
       "$\\displaystyle \\overline{M_{ss}}^0{\\left(s,\\phi \\right)} = 0$"
      ],
      "text/plain": [
       "Eq(\\overline{M_{ss}}^0(s, \\phi), 0)"
      ]
     },
     "metadata": {},
     "output_type": "display_data"
    },
    {
     "data": {
      "text/latex": [
       "$\\displaystyle \\overline{M_{\\phi\\phi}}^0{\\left(s,\\phi \\right)} = 2 s^{2} \\sqrt{1 - s^{2}}$"
      ],
      "text/plain": [
       "Eq(\\overline{M_{\\phi\\phi}}^0(s, \\phi), 2*s**2*sqrt(1 - s**2))"
      ]
     },
     "metadata": {},
     "output_type": "display_data"
    },
    {
     "data": {
      "text/latex": [
       "$\\displaystyle \\overline{M_{s\\phi}}^0{\\left(s,\\phi \\right)} = 0$"
      ],
      "text/plain": [
       "Eq(\\overline{M_{s\\phi}}^0(s, \\phi), 0)"
      ]
     },
     "metadata": {},
     "output_type": "display_data"
    },
    {
     "data": {
      "text/latex": [
       "$\\displaystyle \\widetilde{M_{sz}}^0{\\left(s,\\phi \\right)} = 0$"
      ],
      "text/plain": [
       "Eq(\\widetilde{M_{sz}}^0(s, \\phi), 0)"
      ]
     },
     "metadata": {},
     "output_type": "display_data"
    },
    {
     "data": {
      "text/latex": [
       "$\\displaystyle \\widetilde{M_{\\phi z}}^0{\\left(s,\\phi \\right)} = 0$"
      ],
      "text/plain": [
       "Eq(\\widetilde{M_{\\phi z}}^0(s, \\phi), 0)"
      ]
     },
     "metadata": {},
     "output_type": "display_data"
    },
    {
     "data": {
      "text/latex": [
       "$\\displaystyle \\widetilde{zM_{ss}}^0{\\left(s,\\phi \\right)} = 0$"
      ],
      "text/plain": [
       "Eq(\\widetilde{zM_{ss}}^0(s, \\phi), 0)"
      ]
     },
     "metadata": {},
     "output_type": "display_data"
    },
    {
     "data": {
      "text/latex": [
       "$\\displaystyle \\widetilde{zM_{\\phi\\phi}}^0{\\left(s,\\phi \\right)} = s^{2} \\cdot \\left(1 - s^{2}\\right)$"
      ],
      "text/plain": [
       "Eq(\\widetilde{zM_{\\phi\\phi}}^0(s, \\phi), s**2*(1 - s**2))"
      ]
     },
     "metadata": {},
     "output_type": "display_data"
    },
    {
     "data": {
      "text/latex": [
       "$\\displaystyle \\widetilde{zM_{s\\phi}}^0{\\left(s,\\phi \\right)} = 0$"
      ],
      "text/plain": [
       "Eq(\\widetilde{zM_{s\\phi}}^0(s, \\phi), 0)"
      ]
     },
     "metadata": {},
     "output_type": "display_data"
    },
    {
     "data": {
      "text/latex": [
       "$\\displaystyle B_{es}^0{\\left(s,\\phi \\right)} = 0$"
      ],
      "text/plain": [
       "Eq(B_{es}^0(s, \\phi), 0)"
      ]
     },
     "metadata": {},
     "output_type": "display_data"
    },
    {
     "data": {
      "text/latex": [
       "$\\displaystyle B_{e\\phi}^0{\\left(s,\\phi \\right)} = s$"
      ],
      "text/plain": [
       "Eq(B_{e\\phi}^0(s, \\phi), s)"
      ]
     },
     "metadata": {},
     "output_type": "display_data"
    },
    {
     "data": {
      "text/latex": [
       "$\\displaystyle B_{ez}^0{\\left(s,\\phi \\right)} = 0$"
      ],
      "text/plain": [
       "Eq(B_{ez}^0(s, \\phi), 0)"
      ]
     },
     "metadata": {},
     "output_type": "display_data"
    },
    {
     "data": {
      "text/latex": [
       "$\\displaystyle B_{es, z}^0{\\left(s,\\phi \\right)} = 0$"
      ],
      "text/plain": [
       "Eq(B_{es, z}^0(s, \\phi), 0)"
      ]
     },
     "metadata": {},
     "output_type": "display_data"
    },
    {
     "data": {
      "text/latex": [
       "$\\displaystyle B_{e\\phi, z}^0{\\left(s,\\phi \\right)} = 0$"
      ],
      "text/plain": [
       "Eq(B_{e\\phi, z}^0(s, \\phi), 0)"
      ]
     },
     "metadata": {},
     "output_type": "display_data"
    },
    {
     "data": {
      "text/latex": [
       "$\\displaystyle B_{r1}^0{\\left(\\theta,\\phi \\right)} = 0$"
      ],
      "text/plain": [
       "Eq(B_{r1}^0(\\theta, \\phi), 0)"
      ]
     },
     "metadata": {},
     "output_type": "display_data"
    },
    {
     "data": {
      "text/latex": [
       "$\\displaystyle B_s^{0+}{\\left(s,\\phi \\right)} = 0$"
      ],
      "text/plain": [
       "Eq(B_s^{0+}(s, \\phi), 0)"
      ]
     },
     "metadata": {},
     "output_type": "display_data"
    },
    {
     "data": {
      "text/latex": [
       "$\\displaystyle B_\\phi^{0+}{\\left(s,\\phi \\right)} = s$"
      ],
      "text/plain": [
       "Eq(B_\\phi^{0+}(s, \\phi), s)"
      ]
     },
     "metadata": {},
     "output_type": "display_data"
    },
    {
     "data": {
      "text/latex": [
       "$\\displaystyle B_z^{0+}{\\left(s,\\phi \\right)} = 0$"
      ],
      "text/plain": [
       "Eq(B_z^{0+}(s, \\phi), 0)"
      ]
     },
     "metadata": {},
     "output_type": "display_data"
    },
    {
     "data": {
      "text/latex": [
       "$\\displaystyle B_s^{0-}{\\left(s,\\phi \\right)} = 0$"
      ],
      "text/plain": [
       "Eq(B_s^{0-}(s, \\phi), 0)"
      ]
     },
     "metadata": {},
     "output_type": "display_data"
    },
    {
     "data": {
      "text/latex": [
       "$\\displaystyle B_\\phi^{0-}{\\left(s,\\phi \\right)} = s$"
      ],
      "text/plain": [
       "Eq(B_\\phi^{0-}(s, \\phi), s)"
      ]
     },
     "metadata": {},
     "output_type": "display_data"
    },
    {
     "data": {
      "text/latex": [
       "$\\displaystyle B_z^{0-}{\\left(s,\\phi \\right)} = 0$"
      ],
      "text/plain": [
       "Eq(B_z^{0-}(s, \\phi), 0)"
      ]
     },
     "metadata": {},
     "output_type": "display_data"
    }
   ],
   "source": [
    "pgvar_bg_val = pgutils.assemble_background(B0=B0_val)\n",
    "display_eqs(core.pgvar_bg, pgvar_bg_val)"
   ]
  },
  {
   "cell_type": "markdown",
   "id": "d2b869fe-7fa5-4cd5-adf1-e128a44e4aa7",
   "metadata": {},
   "source": [
    "### Visualization\n",
    "\n",
    "#### magnetic field"
   ]
  },
  {
   "cell_type": "code",
   "execution_count": 9,
   "id": "ffebacfd-911a-4465-aa58-5fd4b174a9f9",
   "metadata": {},
   "outputs": [],
   "source": [
    "import numpy as np\n",
    "import matplotlib.pyplot as plt\n",
    "\n",
    "B_fun = [sympy.lambdify((s, p, z), component, modules=[\"scipy\", \"numpy\"]) for component in B0_val]"
   ]
  },
  {
   "cell_type": "markdown",
   "id": "3d241f9d-b577-4c83-89b8-3df43ae392be",
   "metadata": {},
   "source": [
    "For 1-D axisymmetric case: radial profiles"
   ]
  },
  {
   "cell_type": "code",
   "execution_count": 10,
   "id": "b5761785-e6ce-420c-848f-3ade75c2cb8e",
   "metadata": {},
   "outputs": [
    {
     "data": {
      "image/png": "[encoded data removed]",
      "text/plain": [
       "<Figure size 648x432 with 1 Axes>"
      ]
     },
     "metadata": {
      "needs_background": "light"
     },
     "output_type": "display_data"
    }
   ],
   "source": [
    "s_array = np.linspace(0, 1, num=100)\n",
    "\n",
    "fig, ax = plt.subplots(figsize=(9, 6))\n",
    "for i_comp, component in enumerate(B_fun):\n",
    "    ax.plot(s_array, component(s_array, 0, 0)*np.ones(s_array.shape), label=\"$B_{:s}$\".format(core.cyl.coords[i_comp].name))\n",
    "\n",
    "ax.set_xlabel('s', fontsize=14)\n",
    "ax.grid(True)\n",
    "ax.legend(fontsize=14)\n",
    "plt.tight_layout()\n",
    "plt.show()"
   ]
  },
  {
   "cell_type": "markdown",
   "id": "fa44b999-d7b5-426f-a929-381829f6b60e",
   "metadata": {},
   "source": [
    "For non-axisymmetric case: equatorial and meridional cross-sections"
   ]
  },
  {
   "cell_type": "code",
   "execution_count": 11,
   "id": "767cd5ee-cf6a-413c-a65d-7dc913985cc6",
   "metadata": {},
   "outputs": [
    {
     "data": {
      "image/png": "[encoded data removed]",
      "text/plain": [
       "<Figure size 1080x612 with 12 Axes>"
      ]
     },
     "metadata": {
      "needs_background": "light"
     },
     "output_type": "display_data"
    }
   ],
   "source": [
    "fig, axes = plt.subplots(nrows=2, ncols=3, figsize=(15, 8.5))\n",
    "\n",
    "s_array = np.linspace(0, 1, num=100)\n",
    "p_array = np.linspace(0, np.pi/2, num=100)\n",
    "S_mesh, P_mesh = np.meshgrid(s_array, p_array)\n",
    "X_mesh, Y_mesh = S_mesh*np.cos(P_mesh), S_mesh*np.sin(P_mesh)\n",
    "\n",
    "for i_comp, component in enumerate(B_fun):\n",
    "    ax = axes[0, i_comp]\n",
    "    cm = ax.pcolormesh(X_mesh, Y_mesh, component(S_mesh, P_mesh, np.zeros(S_mesh.shape))*np.ones(S_mesh.shape), shading=\"gouraud\", cmap=\"magma\")\n",
    "    ax.axis(\"equal\")\n",
    "    ax.set_xlabel(\"x\", fontsize=14)\n",
    "    ax.set_ylabel(\"y\", fontsize=14)\n",
    "    ax.set_title(\"$B_{:s}$\".format(core.cyl.coords[i_comp].name), fontsize=16)\n",
    "    plt.colorbar(cm, ax=ax)\n",
    "\n",
    "p_cut = np.pi/2\n",
    "r_array = np.linspace(0, 1, num=100)\n",
    "t_array = np.linspace(0, np.pi/2, num=100)\n",
    "R_mesh, T_mesh = np.meshgrid(r_array, t_array)\n",
    "S_mesh, Z_mesh = R_mesh*np.sin(T_mesh), R_mesh*np.cos(T_mesh)\n",
    "\n",
    "for i_comp, component in enumerate(B_fun):\n",
    "    ax = axes[1, i_comp]\n",
    "    cm = ax.pcolormesh(S_mesh, Z_mesh, component(S_mesh, p_cut*np.ones(S_mesh.shape), Z_mesh)*np.ones(S_mesh.shape), shading=\"gouraud\", cmap=\"magma\")\n",
    "    ax.axis(\"equal\")\n",
    "    ax.set_xlabel(\"s\", fontsize=14)\n",
    "    ax.set_ylabel(\"z\", fontsize=14)\n",
    "    ax.set_title(\"$B_{:s}$\".format(core.cyl.coords[i_comp].name), fontsize=16)\n",
    "    plt.colorbar(cm, ax=ax)\n",
    "\n",
    "plt.tight_layout()\n",
    "plt.show()"
   ]
  },
  {
   "cell_type": "markdown",
   "id": "a8080a58-ec03-45a9-aeae-a57d2dc76464",
   "metadata": {},
   "source": [
    "#### magnetic moments"
   ]
  },
  {
   "cell_type": "code",
   "execution_count": 12,
   "id": "b7b7a13a-67f4-4af1-a9da-b26bc2a31ec2",
   "metadata": {},
   "outputs": [],
   "source": [
    "moments_fun = [sympy.lambdify((s, p, z), component, modules=[\"scipy\", \"numpy\"]) for component in pgvar_bg_val.subset_moments()]"
   ]
  },
  {
   "cell_type": "markdown",
   "id": "afa514ee-e6a2-4a10-8e67-ad670dbe4d1f",
   "metadata": {},
   "source": [
    "For axisymmetric fields: radial profile"
   ]
  },
  {
   "cell_type": "code",
   "execution_count": 13,
   "id": "a0e0308b-40f8-4cbe-a225-e8b00d23f83e",
   "metadata": {},
   "outputs": [
    {
     "data": {
      "image/png": "[encoded data removed]",
      "text/plain": [
       "<Figure size 648x432 with 1 Axes>"
      ]
     },
     "metadata": {
      "needs_background": "light"
     },
     "output_type": "display_data"
    }
   ],
   "source": [
    "s_array = np.linspace(0, 1, num=100)\n",
    "\n",
    "fig, ax = plt.subplots(figsize=(9, 6))\n",
    "for i_comp, component in enumerate(moments_fun):\n",
    "    ax.plot(s_array, component(s_array, 0, 0)*np.ones(s_array.shape), label=\"${:s}$\".format(core.pgvar_bg.subset_moments()[i_comp].name))\n",
    "\n",
    "ax.set_xlabel('s', fontsize=14)\n",
    "ax.grid(True)\n",
    "ax.legend(fontsize=14)\n",
    "plt.tight_layout()\n",
    "plt.show()"
   ]
  },
  {
   "cell_type": "markdown",
   "id": "f6c1ba68-a429-4ce5-a58b-c3c1b3a9877c",
   "metadata": {},
   "source": [
    "For non-axisymmetric case: equatorial cross-sections"
   ]
  },
  {
   "cell_type": "code",
   "execution_count": 14,
   "id": "c90f1b3f-8481-4b13-ae30-c53ba31ee088",
   "metadata": {},
   "outputs": [
    {
     "data": {
      "image/png": "[encoded data removed]",
      "text/plain": [
       "<Figure size 1440x612 with 16 Axes>"
      ]
     },
     "metadata": {
      "needs_background": "light"
     },
     "output_type": "display_data"
    }
   ],
   "source": [
    "fig, axes = plt.subplots(nrows=2, ncols=4, figsize=(20, 8.5))\n",
    "\n",
    "axis_arrangement = [(0, 0), (0, 1), (0, 2), (0, 3), (1, 3), (1, 0), (1, 1), (1, 2)]\n",
    "\n",
    "s_array = np.linspace(0, 1, num=100)\n",
    "p_array = np.linspace(0, np.pi/2, num=100)\n",
    "S_mesh, P_mesh = np.meshgrid(s_array, p_array)\n",
    "X_mesh, Y_mesh = S_mesh*np.cos(P_mesh), S_mesh*np.sin(P_mesh)\n",
    "\n",
    "for i_comp, component in enumerate(moments_fun):\n",
    "    ax = axes[axis_arrangement[i_comp][0], axis_arrangement[i_comp][1]]\n",
    "    cm = ax.pcolormesh(X_mesh, Y_mesh, component(S_mesh, P_mesh, np.zeros(S_mesh.shape))*np.ones(S_mesh.shape), shading=\"gouraud\", cmap=\"magma\")\n",
    "    ax.axis(\"equal\")\n",
    "    ax.set_xlabel(\"x\", fontsize=14)\n",
    "    ax.set_ylabel(\"y\", fontsize=14)\n",
    "    ax.set_title(\"${:s}$\".format(core.pgvar_bg.subset_moments()[i_comp].name), fontsize=16)\n",
    "    plt.colorbar(cm, ax=ax)\n",
    "\n",
    "plt.tight_layout()\n",
    "plt.show()"
   ]
  },
  {
   "cell_type": "markdown",
   "id": "3ed32c47-25f9-4841-bdf0-939874c14be9",
   "metadata": {},
   "source": [
    "### Applying background field"
   ]
  },
  {
   "cell_type": "code",
   "execution_count": 9,
   "id": "48580464-4fce-4684-aa1a-ed655fa2b45c",
   "metadata": {},
   "outputs": [
    {
     "data": {
      "text/latex": [
       "$\\displaystyle \\frac{s^{2} \\frac{\\partial^{2}}{\\partial t\\partial s} \\psi{\\left(s,\\phi,t \\right)}}{H^{3}{\\left(s \\right)}} + \\frac{s \\frac{\\partial^{3}}{\\partial t\\partial s^{2}} \\psi{\\left(s,\\phi,t \\right)}}{H{\\left(s \\right)}} + \\frac{s \\frac{\\partial^{3}}{\\partial t\\partial \\phi^{2}} \\psi{\\left(s,\\phi,t \\right)}}{2 H^{3}{\\left(s \\right)}} + \\frac{\\frac{\\partial^{2}}{\\partial t\\partial s} \\psi{\\left(s,\\phi,t \\right)}}{H{\\left(s \\right)}} + \\frac{\\frac{\\partial^{3}}{\\partial t\\partial \\phi^{2}} \\psi{\\left(s,\\phi,t \\right)}}{s H{\\left(s \\right)}} = - \\frac{\\mathrm{Le}^{2} s^{4} b^{+}_{s}{\\left(s,\\phi,t \\right)}}{2 H^{4}{\\left(s \\right)}} - \\frac{\\mathrm{Le}^{2} s^{4} b^{-}_{s}{\\left(s,\\phi,t \\right)}}{2 H^{4}{\\left(s \\right)}} - \\frac{\\mathrm{Le}^{2} s^{3} \\frac{\\partial}{\\partial s} b^{+}_{s}{\\left(s,\\phi,t \\right)}}{2 H^{2}{\\left(s \\right)}} - \\frac{\\mathrm{Le}^{2} s^{3} \\frac{\\partial}{\\partial s} b^{-}_{s}{\\left(s,\\phi,t \\right)}}{2 H^{2}{\\left(s \\right)}} - \\frac{\\mathrm{Le}^{2} s^{2} \\frac{\\partial}{\\partial s} b^{+}_{z}{\\left(s,\\phi,t \\right)}}{2 H{\\left(s \\right)}} + \\frac{\\mathrm{Le}^{2} s^{2} \\frac{\\partial}{\\partial s} b^{-}_{z}{\\left(s,\\phi,t \\right)}}{2 H{\\left(s \\right)}} - \\frac{3 \\mathrm{Le}^{2} s^{2} b^{+}_{s}{\\left(s,\\phi,t \\right)}}{2 H^{2}{\\left(s \\right)}} - \\frac{3 \\mathrm{Le}^{2} s^{2} b^{-}_{s}{\\left(s,\\phi,t \\right)}}{2 H^{2}{\\left(s \\right)}} - \\frac{2 \\mathrm{Le}^{2} s^{2} b_{es}{\\left(s,\\phi,t \\right)}}{H^{2}{\\left(s \\right)}} - \\frac{\\mathrm{Le}^{2} s^{2} \\frac{\\partial}{\\partial \\phi} b_{e\\phi}{\\left(s,\\phi,t \\right)}}{H^{2}{\\left(s \\right)}} - \\frac{\\mathrm{Le}^{2} s b^{+}_{z}{\\left(s,\\phi,t \\right)}}{H{\\left(s \\right)}} + \\frac{\\mathrm{Le}^{2} s b^{-}_{z}{\\left(s,\\phi,t \\right)}}{H{\\left(s \\right)}} - \\frac{\\mathrm{Le}^{2} s \\frac{\\partial^{2}}{\\partial s^{2}} \\overline{m_{s\\phi}}{\\left(s,\\phi,t \\right)}}{2 H{\\left(s \\right)}} - \\frac{\\mathrm{Le}^{2} s \\frac{\\partial^{2}}{\\partial s\\partial \\phi} \\widetilde{m_{sz}}{\\left(s,\\phi,t \\right)}}{2 H^{2}{\\left(s \\right)}} - \\frac{3 \\mathrm{Le}^{2} \\frac{\\partial}{\\partial s} \\overline{m_{s\\phi}}{\\left(s,\\phi,t \\right)}}{2 H{\\left(s \\right)}} - \\frac{\\mathrm{Le}^{2} \\frac{\\partial^{2}}{\\partial s\\partial \\phi} \\overline{m_{\\phi\\phi}}{\\left(s,\\phi,t \\right)}}{2 H{\\left(s \\right)}} + \\frac{\\mathrm{Le}^{2} \\frac{\\partial^{2}}{\\partial s\\partial \\phi} \\overline{m_{ss}}{\\left(s,\\phi,t \\right)}}{2 H{\\left(s \\right)}} - \\frac{\\mathrm{Le}^{2} \\frac{\\partial^{2}}{\\partial \\phi^{2}} \\widetilde{m_{\\phi z}}{\\left(s,\\phi,t \\right)}}{2 H^{2}{\\left(s \\right)}} - \\frac{\\mathrm{Le}^{2} \\frac{\\partial}{\\partial \\phi} \\widetilde{m_{sz}}{\\left(s,\\phi,t \\right)}}{2 H^{2}{\\left(s \\right)}} - \\frac{\\mathrm{Le}^{2} \\frac{\\partial}{\\partial \\phi} \\overline{m_{\\phi\\phi}}{\\left(s,\\phi,t \\right)}}{2 s H{\\left(s \\right)}} + \\frac{\\mathrm{Le}^{2} \\frac{\\partial^{2}}{\\partial \\phi^{2}} \\overline{m_{s\\phi}}{\\left(s,\\phi,t \\right)}}{2 s H{\\left(s \\right)}} + \\frac{\\mathrm{Le}^{2} \\frac{\\partial}{\\partial \\phi} \\overline{m_{ss}}{\\left(s,\\phi,t \\right)}}{2 s H{\\left(s \\right)}} + \\frac{2 s \\frac{\\partial}{\\partial \\phi} \\psi{\\left(s,\\phi,t \\right)}}{H^{3}{\\left(s \\right)}}$"
      ],
      "text/plain": [
       "Eq(s**2*Derivative(\\psi(s, \\phi, t), s, t)/H(s)**3 + s*Derivative(\\psi(s, \\phi, t), (s, 2), t)/H(s) + s*Derivative(\\psi(s, \\phi, t), (\\phi, 2), t)/(2*H(s)**3) + Derivative(\\psi(s, \\phi, t), s, t)/H(s) + Derivative(\\psi(s, \\phi, t), (\\phi, 2), t)/(s*H(s)), -\\mathrm{Le}**2*s**4*b_s^+(s, \\phi, t)/(2*H(s)**4) - \\mathrm{Le}**2*s**4*b_s^-(s, \\phi, t)/(2*H(s)**4) - \\mathrm{Le}**2*s**3*Derivative(b_s^+(s, \\phi, t), s)/(2*H(s)**2) - \\mathrm{Le}**2*s**3*Derivative(b_s^-(s, \\phi, t), s)/(2*H(s)**2) - \\mathrm{Le}**2*s**2*Derivative(b_z^+(s, \\phi, t), s)/(2*H(s)) + \\mathrm{Le}**2*s**2*Derivative(b_z^-(s, \\phi, t), s)/(2*H(s)) - 3*\\mathrm{Le}**2*s**2*b_s^+(s, \\phi, t)/(2*H(s)**2) - 3*\\mathrm{Le}**2*s**2*b_s^-(s, \\phi, t)/(2*H(s)**2) - 2*\\mathrm{Le}**2*s**2*b_{es}(s, \\phi, t)/H(s)**2 - \\mathrm{Le}**2*s**2*Derivative(b_{e\\phi}(s, \\phi, t), \\phi)/H(s)**2 - \\mathrm{Le}**2*s*b_z^+(s, \\phi, t)/H(s) + \\mathrm{Le}**2*s*b_z^-(s, \\phi, t)/H(s) - \\mathrm{Le}**2*s*Derivative(\\overline{m_{s\\phi}}(s, \\phi, t), (s, 2))/(2*H(s)) - \\mathrm{Le}**2*s*Derivative(\\widetilde{m_{sz}}(s, \\phi, t), \\phi, s)/(2*H(s)**2) - 3*\\mathrm{Le}**2*Derivative(\\overline{m_{s\\phi}}(s, \\phi, t), s)/(2*H(s)) - \\mathrm{Le}**2*Derivative(\\overline{m_{\\phi\\phi}}(s, \\phi, t), \\phi, s)/(2*H(s)) + \\mathrm{Le}**2*Derivative(\\overline{m_{ss}}(s, \\phi, t), \\phi, s)/(2*H(s)) - \\mathrm{Le}**2*Derivative(\\widetilde{m_{\\phi z}}(s, \\phi, t), (\\phi, 2))/(2*H(s)**2) - \\mathrm{Le}**2*Derivative(\\widetilde{m_{sz}}(s, \\phi, t), \\phi)/(2*H(s)**2) - \\mathrm{Le}**2*Derivative(\\overline{m_{\\phi\\phi}}(s, \\phi, t), \\phi)/(2*s*H(s)) + \\mathrm{Le}**2*Derivative(\\overline{m_{s\\phi}}(s, \\phi, t), (\\phi, 2))/(2*s*H(s)) + \\mathrm{Le}**2*Derivative(\\overline{m_{ss}}(s, \\phi, t), \\phi)/(2*s*H(s)) + 2*s*Derivative(\\psi(s, \\phi, t), \\phi)/H(s)**3)"
      ]
     },
     "metadata": {},
     "output_type": "display_data"
    },
    {
     "data": {
      "text/latex": [
       "$\\displaystyle \\frac{\\partial}{\\partial t} \\overline{m_{ss}}{\\left(s,\\phi,t \\right)} = 0$"
      ],
      "text/plain": [
       "Eq(Derivative(\\overline{m_{ss}}(s, \\phi, t), t), 0)"
      ]
     },
     "metadata": {},
     "output_type": "display_data"
    },
    {
     "data": {
      "text/latex": [
       "$\\displaystyle \\frac{\\partial}{\\partial t} \\overline{m_{\\phi\\phi}}{\\left(s,\\phi,t \\right)} = - 4 s \\frac{\\partial^{2}}{\\partial s\\partial \\phi} \\psi{\\left(s,\\phi,t \\right)}$"
      ],
      "text/plain": [
       "Eq(Derivative(\\overline{m_{\\phi\\phi}}(s, \\phi, t), t), -4*s*Derivative(\\psi(s, \\phi, t), \\phi, s))"
      ]
     },
     "metadata": {},
     "output_type": "display_data"
    },
    {
     "data": {
      "text/latex": [
       "$\\displaystyle \\frac{\\partial}{\\partial t} \\overline{m_{s\\phi}}{\\left(s,\\phi,t \\right)} = 2 \\frac{\\partial^{2}}{\\partial \\phi^{2}} \\psi{\\left(s,\\phi,t \\right)}$"
      ],
      "text/plain": [
       "Eq(Derivative(\\overline{m_{s\\phi}}(s, \\phi, t), t), 2*Derivative(\\psi(s, \\phi, t), (\\phi, 2)))"
      ]
     },
     "metadata": {},
     "output_type": "display_data"
    },
    {
     "data": {
      "text/latex": [
       "$\\displaystyle \\frac{\\partial}{\\partial t} \\widetilde{m_{sz}}{\\left(s,\\phi,t \\right)} = 0$"
      ],
      "text/plain": [
       "Eq(Derivative(\\widetilde{m_{sz}}(s, \\phi, t), t), 0)"
      ]
     },
     "metadata": {},
     "output_type": "display_data"
    },
    {
     "data": {
      "text/latex": [
       "$\\displaystyle \\frac{\\partial}{\\partial t} \\widetilde{m_{\\phi z}}{\\left(s,\\phi,t \\right)} = - \\frac{s \\frac{\\partial^{2}}{\\partial \\phi^{2}} \\psi{\\left(s,\\phi,t \\right)}}{H{\\left(s \\right)}}$"
      ],
      "text/plain": [
       "Eq(Derivative(\\widetilde{m_{\\phi z}}(s, \\phi, t), t), -s*Derivative(\\psi(s, \\phi, t), (\\phi, 2))/H(s))"
      ]
     },
     "metadata": {},
     "output_type": "display_data"
    },
    {
     "data": {
      "text/latex": [
       "$\\displaystyle \\frac{\\partial}{\\partial t} \\widetilde{zm_{ss}}{\\left(s,\\phi,t \\right)} = 0$"
      ],
      "text/plain": [
       "Eq(Derivative(\\widetilde{zm_{ss}}(s, \\phi, t), t), 0)"
      ]
     },
     "metadata": {},
     "output_type": "display_data"
    },
    {
     "data": {
      "text/latex": [
       "$\\displaystyle \\frac{\\partial}{\\partial t} \\widetilde{zm_{\\phi\\phi}}{\\left(s,\\phi,t \\right)} = - 2 s H{\\left(s \\right)} \\frac{\\partial^{2}}{\\partial s\\partial \\phi} \\psi{\\left(s,\\phi,t \\right)}$"
      ],
      "text/plain": [
       "Eq(Derivative(\\widetilde{zm_{\\phi\\phi}}(s, \\phi, t), t), -2*s*H(s)*Derivative(\\psi(s, \\phi, t), \\phi, s))"
      ]
     },
     "metadata": {},
     "output_type": "display_data"
    },
    {
     "data": {
      "text/latex": [
       "$\\displaystyle \\frac{\\partial}{\\partial t} \\widetilde{zm_{s\\phi}}{\\left(s,\\phi,t \\right)} = H{\\left(s \\right)} \\frac{\\partial^{2}}{\\partial \\phi^{2}} \\psi{\\left(s,\\phi,t \\right)}$"
      ],
      "text/plain": [
       "Eq(Derivative(\\widetilde{zm_{s\\phi}}(s, \\phi, t), t), H(s)*Derivative(\\psi(s, \\phi, t), (\\phi, 2)))"
      ]
     },
     "metadata": {},
     "output_type": "display_data"
    },
    {
     "data": {
      "text/latex": [
       "$\\displaystyle \\frac{\\partial}{\\partial t} b_{es}{\\left(s,\\phi,t \\right)} = \\frac{\\frac{\\partial^{2}}{\\partial \\phi^{2}} \\psi{\\left(s,\\phi,t \\right)}}{s H{\\left(s \\right)}}$"
      ],
      "text/plain": [
       "Eq(Derivative(b_{es}(s, \\phi, t), t), Derivative(\\psi(s, \\phi, t), (\\phi, 2))/(s*H(s)))"
      ]
     },
     "metadata": {},
     "output_type": "display_data"
    },
    {
     "data": {
      "text/latex": [
       "$\\displaystyle \\frac{\\partial}{\\partial t} b_{e\\phi}{\\left(s,\\phi,t \\right)} = - \\frac{\\frac{\\partial^{2}}{\\partial s\\partial \\phi} \\psi{\\left(s,\\phi,t \\right)}}{H{\\left(s \\right)}}$"
      ],
      "text/plain": [
       "Eq(Derivative(b_{e\\phi}(s, \\phi, t), t), -Derivative(\\psi(s, \\phi, t), \\phi, s)/H(s))"
      ]
     },
     "metadata": {},
     "output_type": "display_data"
    },
    {
     "data": {
      "text/latex": [
       "$\\displaystyle \\frac{\\partial}{\\partial t} b_{ez}{\\left(s,\\phi,t \\right)} = 0$"
      ],
      "text/plain": [
       "Eq(Derivative(b_{ez}(s, \\phi, t), t), 0)"
      ]
     },
     "metadata": {},
     "output_type": "display_data"
    },
    {
     "data": {
      "text/latex": [
       "$\\displaystyle \\frac{\\partial}{\\partial t} b_{es, z}{\\left(s,\\phi,t \\right)} = 0$"
      ],
      "text/plain": [
       "Eq(Derivative(b_{es, z}(s, \\phi, t), t), 0)"
      ]
     },
     "metadata": {},
     "output_type": "display_data"
    },
    {
     "data": {
      "text/latex": [
       "$\\displaystyle \\frac{\\partial}{\\partial t} b_{e\\phi, z}{\\left(s,\\phi,t \\right)} = 0$"
      ],
      "text/plain": [
       "Eq(Derivative(b_{e\\phi, z}(s, \\phi, t), t), 0)"
      ]
     },
     "metadata": {},
     "output_type": "display_data"
    },
    {
     "data": {
      "text/latex": [
       "$\\displaystyle \\frac{\\partial}{\\partial t} b^{+}_{s}{\\left(s,\\phi,t \\right)} = \\frac{\\frac{\\partial^{2}}{\\partial \\phi^{2}} \\psi{\\left(s,\\phi,t \\right)}}{s H{\\left(s \\right)}}$"
      ],
      "text/plain": [
       "Eq(Derivative(b_s^+(s, \\phi, t), t), Derivative(\\psi(s, \\phi, t), (\\phi, 2))/(s*H(s)))"
      ]
     },
     "metadata": {},
     "output_type": "display_data"
    },
    {
     "data": {
      "text/latex": [
       "$\\displaystyle \\frac{\\partial}{\\partial t} b^{+}_{\\phi}{\\left(s,\\phi,t \\right)} = - \\frac{\\frac{\\partial^{2}}{\\partial s\\partial \\phi} \\psi{\\left(s,\\phi,t \\right)}}{H{\\left(s \\right)}}$"
      ],
      "text/plain": [
       "Eq(Derivative(b_\\phi^+(s, \\phi, t), t), -Derivative(\\psi(s, \\phi, t), \\phi, s)/H(s))"
      ]
     },
     "metadata": {},
     "output_type": "display_data"
    },
    {
     "data": {
      "text/latex": [
       "$\\displaystyle \\frac{\\partial}{\\partial t} b^{+}_{z}{\\left(s,\\phi,t \\right)} = - \\frac{\\frac{\\partial^{2}}{\\partial \\phi^{2}} \\psi{\\left(s,\\phi,t \\right)}}{H^{2}{\\left(s \\right)}}$"
      ],
      "text/plain": [
       "Eq(Derivative(b_z^+(s, \\phi, t), t), -Derivative(\\psi(s, \\phi, t), (\\phi, 2))/H(s)**2)"
      ]
     },
     "metadata": {},
     "output_type": "display_data"
    },
    {
     "data": {
      "text/latex": [
       "$\\displaystyle \\frac{\\partial}{\\partial t} b^{-}_{s}{\\left(s,\\phi,t \\right)} = \\frac{\\frac{\\partial^{2}}{\\partial \\phi^{2}} \\psi{\\left(s,\\phi,t \\right)}}{s H{\\left(s \\right)}}$"
      ],
      "text/plain": [
       "Eq(Derivative(b_s^-(s, \\phi, t), t), Derivative(\\psi(s, \\phi, t), (\\phi, 2))/(s*H(s)))"
      ]
     },
     "metadata": {},
     "output_type": "display_data"
    },
    {
     "data": {
      "text/latex": [
       "$\\displaystyle \\frac{\\partial}{\\partial t} b^{-}_{\\phi}{\\left(s,\\phi,t \\right)} = - \\frac{\\frac{\\partial^{2}}{\\partial s\\partial \\phi} \\psi{\\left(s,\\phi,t \\right)}}{H{\\left(s \\right)}}$"
      ],
      "text/plain": [
       "Eq(Derivative(b_\\phi^-(s, \\phi, t), t), -Derivative(\\psi(s, \\phi, t), \\phi, s)/H(s))"
      ]
     },
     "metadata": {},
     "output_type": "display_data"
    },
    {
     "data": {
      "text/latex": [
       "$\\displaystyle \\frac{\\partial}{\\partial t} b^{-}_{z}{\\left(s,\\phi,t \\right)} = \\frac{\\frac{\\partial^{2}}{\\partial \\phi^{2}} \\psi{\\left(s,\\phi,t \\right)}}{H^{2}{\\left(s \\right)}}$"
      ],
      "text/plain": [
       "Eq(Derivative(b_z^-(s, \\phi, t), t), Derivative(\\psi(s, \\phi, t), (\\phi, 2))/H(s)**2)"
      ]
     },
     "metadata": {},
     "output_type": "display_data"
    }
   ],
   "source": [
    "# Explicit form of Lorentz force\n",
    "Lorentz_explicit = {forcing.Le_p: forcing.Le_p_lin, forcing.Ls_sym: forcing.Ls_sym_lin, \n",
    "                    forcing.Lp_sym: forcing.Lp_sym_lin, forcing.Lz_asym: forcing.Lz_asym_lin}\n",
    "\n",
    "# Substitution of background field\n",
    "bg_field_sub = {u_comp: U0_val[i_comp] for i_comp, u_comp in enumerate(core.U0_vec)}\n",
    "bg_field_sub.update({b_comp: B0_val[i_comp] for i_comp, b_comp in enumerate(core.B0_vec)})\n",
    "bg_field_sub.update({pgvar_bg_comp: pgvar_bg_val[i_comp] for i_comp, pgvar_bg_comp in enumerate(core.pgvar_bg)})\n",
    "\n",
    "def apply_bg(field_name, eq):\n",
    "    if field_name == \"Psi\":\n",
    "        new_lhs = eq.lhs.subs(bg_field_sub).subs({H: H_s}).doit().subs({H_s: H}).expand()\n",
    "        new_rhs = eq.rhs.subs(Lorentz_explicit).subs(bg_field_sub).subs({H: H_s}).doit().subs({H_s: H}).expand()\n",
    "    else:\n",
    "        new_lhs = eq.lhs.subs(bg_field_sub).subs({H: H_s}).doit().simplify().expand().subs({H_s: H})\n",
    "        new_rhs = eq.rhs.subs(bg_field_sub).subs({H: H_s}).doit().simplify().expand().subs({H_s: H})\n",
    "    return sympy.Eq(new_lhs, new_rhs)\n",
    "\n",
    "eqs_lin_bg = eqs_lin.apply(apply_bg, inplace=False, metadata=True)\n",
    "\n",
    "# take limit at specific point for specific points\n",
    "eqs_tmp = eqs_lin_bg.subset_B_equator()\n",
    "for i_eq, eq in enumerate(eqs_tmp):\n",
    "    eqs_tmp[i_eq] = sympy.Eq(eqs_tmp[i_eq].lhs, eqs_tmp[i_eq].rhs.subs({z: sympy.S.Zero}))\n",
    "\n",
    "eqs_tmp = eqs_lin_bg.subset_B_bound_cyl()\n",
    "for i_eq, eq in enumerate(eqs_tmp):\n",
    "    if eqs_tmp._sub_names[i_eq][-1] == 'p':\n",
    "        eqs_tmp[i_eq] = sympy.Eq(eqs_tmp[i_eq].lhs, eqs_tmp[i_eq].rhs.subs({z: +H}).doit().simplify().expand().subs({H_s: H, 1-s**2: H**2}))\n",
    "    elif eqs_tmp._sub_names[i_eq][-1] == 'm':\n",
    "        eqs_tmp[i_eq] = sympy.Eq(eqs_tmp[i_eq].lhs, eqs_tmp[i_eq].rhs.subs({z: -H}).doit().simplify().expand().subs({H_s: H, 1-s**2: H**2}))\n",
    "\n",
    "display(*[eq for i_eq, eq in enumerate(eqs_lin_bg) if activated[i_eq]])"
   ]
  },
  {
   "cell_type": "markdown",
   "id": "24d98b53-922a-4687-bcea-48fad4de3662",
   "metadata": {},
   "source": [
    "For actually solving the set of equations, never include the boundary equations in cylindrical coordinates in the algebraic system. These\n",
    "- cannot be time stepped anyway;\n",
    "- should either be ignored (like Daria did in the notebook for Malkus case, and other cases where the boundary terms do vanish) or incorporated (because they are functions of $\\psi$ solely)\n",
    "\n",
    "The following code block extracts the first 14 equations of PG (the non-boundary equations), and store the boundary equations separately."
   ]
  },
  {
   "cell_type": "code",
   "execution_count": 10,
   "id": "15b1c0aa-c9ee-464a-84c7-5fce2a23087d",
   "metadata": {},
   "outputs": [],
   "source": [
    "eqs_solve = base.LabeledCollection(eqs_lin_bg._field_names[:14], **{eqs_lin_bg._field_names[i_eq]: eqs_lin_bg[i_eq] for i_eq in range(14)})\n",
    "eqs_boundary = base.LabeledCollection(eqs_lin_bg._field_names[-6:], **{eqs_lin_bg._field_names[i_eq]: eqs_lin_bg[i_eq] for i_eq in range(15, 21)})"
   ]
  },
  {
   "cell_type": "markdown",
   "id": "ffa28f24-2f9b-4a0f-8fbd-1cd9bb0a1a74",
   "metadata": {},
   "source": [
    "### Reduced form\n",
    "\n",
    "When the eigenvalue problem in PG formulation:\n",
    "- does not involve magnetic diffusion\n",
    "- has zero background velocity\n",
    "then the system which originally involves 15+ variables can be reduced into a first-order system with only two variables (in the sense of dynamical variables).\n",
    "The two relevant dynamical variables are the stream function $\\psi$ and the Lorentz force term, which is denoted as $f_L$ below.\n",
    "For details, please refer to the [formulation document](./formulations/PG_Assim.pdf).\n",
    "\n",
    "Ideally, the reduction of original equations to this form should be done at the time when the forces are assembled.\n",
    "\n",
    "When the forces have already been combined in the system, then extracting different terms can only be done case by case.\n",
    "However, the routine below applies to any eigenvalue problem that only involves Lorentz force and Coriolis force.\n",
    "Eigenvalue problems which involves viscous diffusion, convection term etc. might need extra work.\n",
    "\n",
    "1. Extracting forces corresponding to Lorentz force"
   ]
  },
  {
   "cell_type": "code",
   "execution_count": 62,
   "id": "66fbc28d-54cc-41a8-acb2-f58bf598d5ae",
   "metadata": {},
   "outputs": [],
   "source": [
    "forcing_terms = eqs_lin_bg.Psi.rhs.args\n",
    "f_psi = sympy.S.Zero\n",
    "f_lorentz = sympy.S.Zero\n",
    "\n",
    "for f_term in forcing_terms:\n",
    "    if pgutils.fields_in_term(f_term, core.pgvar_ptb)[0] == core.pgvar_ptb.Psi:\n",
    "        f_psi += f_term\n",
    "    else:\n",
    "        f_lorentz += f_term"
   ]
  },
  {
   "cell_type": "markdown",
   "id": "399e9e49-a4bd-4fff-a603-600d3ffba365",
   "metadata": {},
   "source": [
    "2. The first equation (vorticity eq) now has right hand side of itself $\\psi$ and Lorentz force\n",
    "3. The second equation is the evolution equation for Lorentz force, as a function of $\\psi$"
   ]
  },
  {
   "cell_type": "code",
   "execution_count": 76,
   "id": "7ed4ab36-d1b5-4c71-9536-82b6d6d76b83",
   "metadata": {},
   "outputs": [
    {
     "data": {
      "text/latex": [
       "$\\displaystyle \\frac{s^{2} \\frac{\\partial^{2}}{\\partial t\\partial s} \\psi{\\left(s,\\phi,t \\right)}}{H^{3}{\\left(s \\right)}} + \\frac{s \\frac{\\partial^{3}}{\\partial t\\partial s^{2}} \\psi{\\left(s,\\phi,t \\right)}}{H{\\left(s \\right)}} + \\frac{s \\frac{\\partial^{3}}{\\partial t\\partial \\phi^{2}} \\psi{\\left(s,\\phi,t \\right)}}{2 H^{3}{\\left(s \\right)}} + \\frac{\\frac{\\partial^{2}}{\\partial t\\partial s} \\psi{\\left(s,\\phi,t \\right)}}{H{\\left(s \\right)}} + \\frac{\\frac{\\partial^{3}}{\\partial t\\partial \\phi^{2}} \\psi{\\left(s,\\phi,t \\right)}}{s H{\\left(s \\right)}} = \\frac{2 s \\frac{\\partial}{\\partial \\phi} \\psi{\\left(s,\\phi,t \\right)}}{H^{3}{\\left(s \\right)}} + f_{L}{\\left(s,\\phi,t \\right)}$"
      ],
      "text/plain": [
       "Eq(s**2*Derivative(\\psi(s, \\phi, t), s, t)/H(s)**3 + s*Derivative(\\psi(s, \\phi, t), (s, 2), t)/H(s) + s*Derivative(\\psi(s, \\phi, t), (\\phi, 2), t)/(2*H(s)**3) + Derivative(\\psi(s, \\phi, t), s, t)/H(s) + Derivative(\\psi(s, \\phi, t), (\\phi, 2), t)/(s*H(s)), 2*s*Derivative(\\psi(s, \\phi, t), \\phi)/H(s)**3 + f_L(s, \\phi, t))"
      ]
     },
     "metadata": {},
     "output_type": "display_data"
    },
    {
     "data": {
      "text/latex": [
       "$\\displaystyle \\frac{\\partial}{\\partial t} f_{L}{\\left(s,\\phi,t \\right)} = \\frac{\\mathrm{Le}^{2} s^{2} \\frac{\\partial^{3}}{\\partial s\\partial \\phi^{2}} \\psi{\\left(s,\\phi,t \\right)}}{H^{3}{\\left(s \\right)}} + \\frac{\\mathrm{Le}^{2} s \\frac{\\partial^{4}}{\\partial s^{2}\\partial \\phi^{2}} \\psi{\\left(s,\\phi,t \\right)}}{H{\\left(s \\right)}} - \\frac{2 \\mathrm{Le}^{2} s \\frac{\\partial^{2}}{\\partial \\phi^{2}} \\psi{\\left(s,\\phi,t \\right)}}{H^{3}{\\left(s \\right)}} + \\frac{\\mathrm{Le}^{2} s \\frac{\\partial^{4}}{\\partial \\phi^{4}} \\psi{\\left(s,\\phi,t \\right)}}{2 H^{3}{\\left(s \\right)}} + \\frac{\\mathrm{Le}^{2} \\frac{\\partial^{3}}{\\partial s\\partial \\phi^{2}} \\psi{\\left(s,\\phi,t \\right)}}{H{\\left(s \\right)}} + \\frac{\\mathrm{Le}^{2} \\frac{\\partial^{4}}{\\partial \\phi^{4}} \\psi{\\left(s,\\phi,t \\right)}}{s H{\\left(s \\right)}}$"
      ],
      "text/plain": [
       "Eq(Derivative(f_L(s, \\phi, t), t), \\mathrm{Le}**2*s**2*Derivative(\\psi(s, \\phi, t), (\\phi, 2), s)/H(s)**3 + \\mathrm{Le}**2*s*Derivative(\\psi(s, \\phi, t), (\\phi, 2), (s, 2))/H(s) - 2*\\mathrm{Le}**2*s*Derivative(\\psi(s, \\phi, t), (\\phi, 2))/H(s)**3 + \\mathrm{Le}**2*s*Derivative(\\psi(s, \\phi, t), (\\phi, 4))/(2*H(s)**3) + \\mathrm{Le}**2*Derivative(\\psi(s, \\phi, t), (\\phi, 2), s)/H(s) + \\mathrm{Le}**2*Derivative(\\psi(s, \\phi, t), (\\phi, 4))/(s*H(s)))"
      ]
     },
     "metadata": {},
     "output_type": "display_data"
    }
   ],
   "source": [
    "f_lorentz_field = sympy.Function(r\"f_L\")(s, p, t)\n",
    "eq_psi_reduced = sympy.Eq(eqs_lin_bg.Psi.lhs, f_psi + f_lorentz_field)\n",
    "\n",
    "lorentz_subs = {eqs_lin_bg[i_f].lhs: eqs_lin_bg[i_f].rhs for i_f in range(1, eqs_lin_bg.n_fields) if activated[i_f]}\n",
    "f_lorentz_var = diff(f_lorentz, t).doit().subs(lorentz_subs).doit()\n",
    "f_lorentz_terms = [f_term.subs({H: H_s}).doit().subs({H_s: H}).expand() for f_term in f_lorentz_var.args]\n",
    "f_lorentz_var = sympy.Add(*f_lorentz_terms)\n",
    "eq_lorentz = sympy.Eq(diff(f_lorentz_field, t), f_lorentz_var)\n",
    "\n",
    "display(eq_psi_reduced)\n",
    "display(eq_lorentz)"
   ]
  },
  {
   "cell_type": "markdown",
   "id": "0c2bde04-a725-4bd2-b5f3-d8dab37d8880",
   "metadata": {
    "tags": []
   },
   "source": [
    "## Expanding the system\n",
    "\n",
    "This section expands the PG fields into basis functions and reduces the system to linear systems.\n",
    "This is the bridge between symbolic evaluation and numerical computations.\n",
    "\n",
    "In the first part we shall only work with full system (14 equations)\n",
    "\n",
    "### Recipe setup\n",
    "\n",
    "The standard way to set up the expansion recipe is now to use a configuration file.\n",
    "For an example, see `cfg_expand`."
   ]
  },
  {
   "cell_type": "code",
   "execution_count": 15,
   "id": "4d1a2d3d-e5dd-4a55-8f12-d54485c9d502",
   "metadata": {},
   "outputs": [],
   "source": [
    "from pg_utils.pg_model import expansion as xpd\n",
    "from pg_utils.pg_model import cfg_expand as cfg\n",
    "from pg_utils.pg_model.expansion import omega, n, m, xi"
   ]
  },
  {
   "cell_type": "code",
   "execution_count": 16,
   "id": "46c1e87b-2dbf-4063-b754-9fda83cfec5d",
   "metadata": {},
   "outputs": [],
   "source": [
    "expand_recipe = xpd.ExpansionRecipe(\n",
    "    equations=eqs_solve, \n",
    "    fourier_expand=cfg.fourier_expand,\n",
    "    rad_expand=cfg.rad_expand,\n",
    "    rad_test=cfg.test_s,\n",
    "    inner_prod_op=cfg.inner_prod_op\n",
    ")"
   ]
  },
  {
   "cell_type": "markdown",
   "id": "8d65a28d-9c40-400e-a3a8-e02088cc905c",
   "metadata": {},
   "source": [
    "### Reduce to linear system"
   ]
  },
  {
   "cell_type": "code",
   "execution_count": 17,
   "id": "e01ae7b2-a2d0-48d2-8fa0-496aa28f7f35",
   "metadata": {},
   "outputs": [
    {
     "data": {
      "text/plain": [
       "<pg_utils.pg_model.base.LabeledCollection at 0x277951a8ee0>"
      ]
     },
     "execution_count": 17,
     "metadata": {},
     "output_type": "execute_result"
    }
   ],
   "source": [
    "fourier_map = base.map_collection(cfg.fourier_expand.fields, cfg.fourier_expand)\n",
    "eqs_s = expand_recipe.equations.apply(\n",
    "    lambda eq: sympy.Eq(xpd.FourierExpansions.to_fourier_domain(eq.lhs, fourier_map, cfg.fourier_expand.bases), \n",
    "                        xpd.FourierExpansions.to_fourier_domain(eq.rhs, fourier_map, cfg.fourier_expand.bases)),\n",
    "    inplace=False, metadata=False)\n",
    "\n",
    "rad_map = base.map_collection(cfg.rad_expand.fields, cfg.rad_expand)\n",
    "eig_t = sympy.I*xpd.omega\n",
    "def inner_product_form(f_name, eq):\n",
    "    old_lhs, old_rhs = (eq.lhs.subs(rad_map)/eig_t).doit().expand(), eq.rhs.subs(rad_map).doit().expand()\n",
    "    new_lhs, new_rhs = sympy.S.Zero, sympy.S.Zero\n",
    "    for coeff in cfg.rad_expand.coeffs:\n",
    "        if not old_lhs.coeff(coeff, 1).equals(sympy.S.Zero):\n",
    "            new_lhs += eig_t*coeff*cfg.inner_prod_op[f_name](cfg.test_s[f_name], old_lhs.coeff(coeff, 1))\n",
    "        if not old_rhs.coeff(coeff, 1).equals(sympy.S.Zero):\n",
    "            new_rhs += coeff*cfg.inner_prod_op[f_name](cfg.test_s[f_name], old_rhs.coeff(coeff, 1))\n",
    "    return sympy.Eq(new_lhs, new_rhs)\n",
    "eqs_s.apply(inner_product_form, inplace=True, metadata=True)"
   ]
  },
  {
   "cell_type": "code",
   "execution_count": 18,
   "id": "47bf7482-6dbb-42f1-98cb-e40757547396",
   "metadata": {},
   "outputs": [
    {
     "data": {
      "text/latex": [
       "$\\displaystyle i \\omega C_{\\Psi}^{mn}{\\left(s \\right)} \\left\\langle \\Phi_{\\Psi}^{mn}{\\left(s \\right)} \\, , \\, - \\frac{m^{2} s \\Phi_{\\Psi}^{mn}{\\left(s \\right)}}{2 H^{3}{\\left(s \\right)}} - \\frac{m^{2} \\Phi_{\\Psi}^{mn}{\\left(s \\right)}}{s H{\\left(s \\right)}} + \\frac{s^{2} \\frac{d}{d s} \\Phi_{\\Psi}^{mn}{\\left(s \\right)}}{H^{3}{\\left(s \\right)}} + \\frac{s \\frac{d^{2}}{d s^{2}} \\Phi_{\\Psi}^{mn}{\\left(s \\right)}}{H{\\left(s \\right)}} + \\frac{\\frac{d}{d s} \\Phi_{\\Psi}^{mn}{\\left(s \\right)}}{H{\\left(s \\right)}} \\right\\rangle_{s} = C_{\\Psi}^{mn}{\\left(s \\right)} \\left\\langle \\Phi_{\\Psi}^{mn}{\\left(s \\right)} \\, , \\, \\frac{2 i m s \\Phi_{\\Psi}^{mn}{\\left(s \\right)}}{H^{3}{\\left(s \\right)}} \\right\\rangle_{s} + C_{\\phi z}^{mn}{\\left(s \\right)} \\left\\langle \\Phi_{\\Psi}^{mn}{\\left(s \\right)} \\, , \\, \\frac{\\mathrm{Le}^{2} m^{2} \\Phi_{\\phi z}^{mn}{\\left(s \\right)}}{2 H^{2}{\\left(s \\right)}} \\right\\rangle_{s} + C_{\\phi\\phi}^{mn}{\\left(s \\right)} \\left\\langle \\Phi_{\\Psi}^{mn}{\\left(s \\right)} \\, , \\, - \\frac{i \\mathrm{Le}^{2} m \\frac{d}{d s} \\Phi_{\\phi\\phi}^{mn}{\\left(s \\right)}}{2 H{\\left(s \\right)}} - \\frac{i \\mathrm{Le}^{2} m \\Phi_{\\phi\\phi}^{mn}{\\left(s \\right)}}{2 s H{\\left(s \\right)}} \\right\\rangle_{s} + C_{e\\phi}^{mn}{\\left(s \\right)} \\left\\langle \\Phi_{\\Psi}^{mn}{\\left(s \\right)} \\, , \\, - \\frac{i \\mathrm{Le}^{2} m s^{2} \\Phi_{e\\phi}^{mn}{\\left(s \\right)}}{H^{2}{\\left(s \\right)}} \\right\\rangle_{s} + C_{es}^{mn}{\\left(s \\right)} \\left\\langle \\Phi_{\\Psi}^{mn}{\\left(s \\right)} \\, , \\, - \\frac{i \\mathrm{Le}^{2} m s^{2} \\Phi_{es}^{mn}{\\left(s \\right)}}{H^{2}{\\left(s \\right)}} - \\frac{2 \\mathrm{Le}^{2} s^{2} \\Phi_{es}^{mn}{\\left(s \\right)}}{H^{2}{\\left(s \\right)}} \\right\\rangle_{s} + C_{s\\phi}^{mn}{\\left(s \\right)} \\left\\langle \\Phi_{\\Psi}^{mn}{\\left(s \\right)} \\, , \\, - \\frac{\\mathrm{Le}^{2} m^{2} \\Phi_{s\\phi}^{mn}{\\left(s \\right)}}{2 s H{\\left(s \\right)}} - \\frac{\\mathrm{Le}^{2} s \\frac{d^{2}}{d s^{2}} \\Phi_{s\\phi}^{mn}{\\left(s \\right)}}{2 H{\\left(s \\right)}} - \\frac{3 \\mathrm{Le}^{2} \\frac{d}{d s} \\Phi_{s\\phi}^{mn}{\\left(s \\right)}}{2 H{\\left(s \\right)}} \\right\\rangle_{s} + C_{ss}^{mn}{\\left(s \\right)} \\left\\langle \\Phi_{\\Psi}^{mn}{\\left(s \\right)} \\, , \\, \\frac{i \\mathrm{Le}^{2} m \\frac{d}{d s} \\Phi_{ss}^{mn}{\\left(s \\right)}}{2 H{\\left(s \\right)}} + \\frac{i \\mathrm{Le}^{2} m \\Phi_{ss}^{mn}{\\left(s \\right)}}{2 s H{\\left(s \\right)}} \\right\\rangle_{s} + C_{sz}^{mn}{\\left(s \\right)} \\left\\langle \\Phi_{\\Psi}^{mn}{\\left(s \\right)} \\, , \\, - \\frac{i \\mathrm{Le}^{2} m s \\frac{d}{d s} \\Phi_{sz}^{mn}{\\left(s \\right)}}{2 H^{2}{\\left(s \\right)}} - \\frac{i \\mathrm{Le}^{2} m \\Phi_{sz}^{mn}{\\left(s \\right)}}{2 H^{2}{\\left(s \\right)}} \\right\\rangle_{s}$"
      ],
      "text/plain": [
       "Eq(I*\\omega*C_{\\Psi}^{mn}(s)*InnerProduct1D(\\Phi_{\\Psi}^{mn}(s), -m**2*s*\\Phi_{\\Psi}^{mn}(s)/(2*H(s)**3) - m**2*\\Phi_{\\Psi}^{mn}(s)/(s*H(s)) + s**2*Derivative(\\Phi_{\\Psi}^{mn}(s), s)/H(s)**3 + s*Derivative(\\Phi_{\\Psi}^{mn}(s), (s, 2))/H(s) + Derivative(\\Phi_{\\Psi}^{mn}(s), s)/H(s), 1, s, 0, 1), C_{\\Psi}^{mn}(s)*InnerProduct1D(\\Phi_{\\Psi}^{mn}(s), 2*I*m*s*\\Phi_{\\Psi}^{mn}(s)/H(s)**3, 1, s, 0, 1) + C_{\\phi z}^{mn}(s)*InnerProduct1D(\\Phi_{\\Psi}^{mn}(s), \\mathrm{Le}**2*m**2*\\Phi_{\\phi z}^{mn}(s)/(2*H(s)**2), 1, s, 0, 1) + C_{\\phi\\phi}^{mn}(s)*InnerProduct1D(\\Phi_{\\Psi}^{mn}(s), -I*\\mathrm{Le}**2*m*Derivative(\\Phi_{\\phi\\phi}^{mn}(s), s)/(2*H(s)) - I*\\mathrm{Le}**2*m*\\Phi_{\\phi\\phi}^{mn}(s)/(2*s*H(s)), 1, s, 0, 1) + C_{e\\phi}^{mn}(s)*InnerProduct1D(\\Phi_{\\Psi}^{mn}(s), -I*\\mathrm{Le}**2*m*s**2*\\Phi_{e\\phi}^{mn}(s)/H(s)**2, 1, s, 0, 1) + C_{es}^{mn}(s)*InnerProduct1D(\\Phi_{\\Psi}^{mn}(s), -I*\\mathrm{Le}**2*m*s**2*\\Phi_{es}^{mn}(s)/H(s)**2 - 2*\\mathrm{Le}**2*s**2*\\Phi_{es}^{mn}(s)/H(s)**2, 1, s, 0, 1) + C_{s\\phi}^{mn}(s)*InnerProduct1D(\\Phi_{\\Psi}^{mn}(s), -\\mathrm{Le}**2*m**2*\\Phi_{s\\phi}^{mn}(s)/(2*s*H(s)) - \\mathrm{Le}**2*s*Derivative(\\Phi_{s\\phi}^{mn}(s), (s, 2))/(2*H(s)) - 3*\\mathrm{Le}**2*Derivative(\\Phi_{s\\phi}^{mn}(s), s)/(2*H(s)), 1, s, 0, 1) + C_{ss}^{mn}(s)*InnerProduct1D(\\Phi_{\\Psi}^{mn}(s), I*\\mathrm{Le}**2*m*Derivative(\\Phi_{ss}^{mn}(s), s)/(2*H(s)) + I*\\mathrm{Le}**2*m*\\Phi_{ss}^{mn}(s)/(2*s*H(s)), 1, s, 0, 1) + C_{sz}^{mn}(s)*InnerProduct1D(\\Phi_{\\Psi}^{mn}(s), -I*\\mathrm{Le}**2*m*s*Derivative(\\Phi_{sz}^{mn}(s), s)/(2*H(s)**2) - I*\\mathrm{Le}**2*m*\\Phi_{sz}^{mn}(s)/(2*H(s)**2), 1, s, 0, 1))"
      ]
     },
     "metadata": {},
     "output_type": "display_data"
    },
    {
     "data": {
      "text/latex": [
       "$\\displaystyle i \\omega C_{ss}^{mn}{\\left(s \\right)} \\left\\langle \\Phi_{ss}^{mn}{\\left(s \\right)} \\, , \\, \\Phi_{ss}^{mn}{\\left(s \\right)} \\right\\rangle_{s} = 0$"
      ],
      "text/plain": [
       "Eq(I*\\omega*C_{ss}^{mn}(s)*InnerProduct1D(\\Phi_{ss}^{mn}(s), \\Phi_{ss}^{mn}(s), 1, s, 0, 1), 0)"
      ]
     },
     "metadata": {},
     "output_type": "display_data"
    },
    {
     "data": {
      "text/latex": [
       "$\\displaystyle i \\omega C_{\\phi\\phi}^{mn}{\\left(s \\right)} \\left\\langle \\Phi_{\\phi\\phi}^{mn}{\\left(s \\right)} \\, , \\, \\Phi_{\\phi\\phi}^{mn}{\\left(s \\right)} \\right\\rangle_{s} = C_{\\Psi}^{mn}{\\left(s \\right)} \\left\\langle \\Phi_{\\phi\\phi}^{mn}{\\left(s \\right)} \\, , \\, - 4 i m s \\frac{d}{d s} \\Phi_{\\Psi}^{mn}{\\left(s \\right)} \\right\\rangle_{s}$"
      ],
      "text/plain": [
       "Eq(I*\\omega*C_{\\phi\\phi}^{mn}(s)*InnerProduct1D(\\Phi_{\\phi\\phi}^{mn}(s), \\Phi_{\\phi\\phi}^{mn}(s), 1, s, 0, 1), C_{\\Psi}^{mn}(s)*InnerProduct1D(\\Phi_{\\phi\\phi}^{mn}(s), -4*I*m*s*Derivative(\\Phi_{\\Psi}^{mn}(s), s), 1, s, 0, 1))"
      ]
     },
     "metadata": {},
     "output_type": "display_data"
    },
    {
     "data": {
      "text/latex": [
       "$\\displaystyle i \\omega C_{s\\phi}^{mn}{\\left(s \\right)} \\left\\langle \\Phi_{s\\phi}^{mn}{\\left(s \\right)} \\, , \\, \\Phi_{s\\phi}^{mn}{\\left(s \\right)} \\right\\rangle_{s} = C_{\\Psi}^{mn}{\\left(s \\right)} \\left\\langle \\Phi_{s\\phi}^{mn}{\\left(s \\right)} \\, , \\, - 2 m^{2} \\Phi_{\\Psi}^{mn}{\\left(s \\right)} \\right\\rangle_{s}$"
      ],
      "text/plain": [
       "Eq(I*\\omega*C_{s\\phi}^{mn}(s)*InnerProduct1D(\\Phi_{s\\phi}^{mn}(s), \\Phi_{s\\phi}^{mn}(s), 1, s, 0, 1), C_{\\Psi}^{mn}(s)*InnerProduct1D(\\Phi_{s\\phi}^{mn}(s), -2*m**2*\\Phi_{\\Psi}^{mn}(s), 1, s, 0, 1))"
      ]
     },
     "metadata": {},
     "output_type": "display_data"
    },
    {
     "data": {
      "text/latex": [
       "$\\displaystyle i \\omega C_{sz}^{mn}{\\left(s \\right)} \\left\\langle \\Phi_{sz}^{mn}{\\left(s \\right)} \\, , \\, \\Phi_{sz}^{mn}{\\left(s \\right)} \\right\\rangle_{s} = 0$"
      ],
      "text/plain": [
       "Eq(I*\\omega*C_{sz}^{mn}(s)*InnerProduct1D(\\Phi_{sz}^{mn}(s), \\Phi_{sz}^{mn}(s), 1, s, 0, 1), 0)"
      ]
     },
     "metadata": {},
     "output_type": "display_data"
    },
    {
     "data": {
      "text/latex": [
       "$\\displaystyle i \\omega C_{\\phi z}^{mn}{\\left(s \\right)} \\left\\langle \\Phi_{\\phi z}^{mn}{\\left(s \\right)} \\, , \\, \\Phi_{\\phi z}^{mn}{\\left(s \\right)} \\right\\rangle_{s} = C_{\\Psi}^{mn}{\\left(s \\right)} \\left\\langle \\Phi_{\\phi z}^{mn}{\\left(s \\right)} \\, , \\, \\frac{m^{2} s \\Phi_{\\Psi}^{mn}{\\left(s \\right)}}{H{\\left(s \\right)}} \\right\\rangle_{s}$"
      ],
      "text/plain": [
       "Eq(I*\\omega*C_{\\phi z}^{mn}(s)*InnerProduct1D(\\Phi_{\\phi z}^{mn}(s), \\Phi_{\\phi z}^{mn}(s), 1, s, 0, 1), C_{\\Psi}^{mn}(s)*InnerProduct1D(\\Phi_{\\phi z}^{mn}(s), m**2*s*\\Phi_{\\Psi}^{mn}(s)/H(s), 1, s, 0, 1))"
      ]
     },
     "metadata": {},
     "output_type": "display_data"
    },
    {
     "data": {
      "text/latex": [
       "$\\displaystyle i \\omega C_{zss}^{mn}{\\left(s \\right)} \\left\\langle \\Phi_{zss}^{mn}{\\left(s \\right)} \\, , \\, \\Phi_{zss}^{mn}{\\left(s \\right)} \\right\\rangle_{s} = 0$"
      ],
      "text/plain": [
       "Eq(I*\\omega*C_{zss}^{mn}(s)*InnerProduct1D(\\Phi_{zss}^{mn}(s), \\Phi_{zss}^{mn}(s), 1, s, 0, 1), 0)"
      ]
     },
     "metadata": {},
     "output_type": "display_data"
    },
    {
     "data": {
      "text/latex": [
       "$\\displaystyle i \\omega C_{z\\phi\\phi}^{mn}{\\left(s \\right)} \\left\\langle \\Phi_{z\\phi\\phi}^{mn}{\\left(s \\right)} \\, , \\, \\Phi_{z\\phi\\phi}^{mn}{\\left(s \\right)} \\right\\rangle_{s} = C_{\\Psi}^{mn}{\\left(s \\right)} \\left\\langle \\Phi_{z\\phi\\phi}^{mn}{\\left(s \\right)} \\, , \\, - 2 i m s H{\\left(s \\right)} \\frac{d}{d s} \\Phi_{\\Psi}^{mn}{\\left(s \\right)} \\right\\rangle_{s}$"
      ],
      "text/plain": [
       "Eq(I*\\omega*C_{z\\phi\\phi}^{mn}(s)*InnerProduct1D(\\Phi_{z\\phi\\phi}^{mn}(s), \\Phi_{z\\phi\\phi}^{mn}(s), 1, s, 0, 1), C_{\\Psi}^{mn}(s)*InnerProduct1D(\\Phi_{z\\phi\\phi}^{mn}(s), -2*I*m*s*H(s)*Derivative(\\Phi_{\\Psi}^{mn}(s), s), 1, s, 0, 1))"
      ]
     },
     "metadata": {},
     "output_type": "display_data"
    },
    {
     "data": {
      "text/latex": [
       "$\\displaystyle i \\omega C_{zs\\phi}^{mn}{\\left(s \\right)} \\left\\langle \\Phi_{zs\\phi}^{mn}{\\left(s \\right)} \\, , \\, \\Phi_{zs\\phi}^{mn}{\\left(s \\right)} \\right\\rangle_{s} = C_{\\Psi}^{mn}{\\left(s \\right)} \\left\\langle \\Phi_{zs\\phi}^{mn}{\\left(s \\right)} \\, , \\, - m^{2} H{\\left(s \\right)} \\Phi_{\\Psi}^{mn}{\\left(s \\right)} \\right\\rangle_{s}$"
      ],
      "text/plain": [
       "Eq(I*\\omega*C_{zs\\phi}^{mn}(s)*InnerProduct1D(\\Phi_{zs\\phi}^{mn}(s), \\Phi_{zs\\phi}^{mn}(s), 1, s, 0, 1), C_{\\Psi}^{mn}(s)*InnerProduct1D(\\Phi_{zs\\phi}^{mn}(s), -m**2*H(s)*\\Phi_{\\Psi}^{mn}(s), 1, s, 0, 1))"
      ]
     },
     "metadata": {},
     "output_type": "display_data"
    },
    {
     "data": {
      "text/latex": [
       "$\\displaystyle i \\omega C_{es}^{mn}{\\left(s \\right)} \\left\\langle \\Phi_{es}^{mn}{\\left(s \\right)} \\, , \\, \\Phi_{es}^{mn}{\\left(s \\right)} \\right\\rangle_{s} = C_{\\Psi}^{mn}{\\left(s \\right)} \\left\\langle \\Phi_{es}^{mn}{\\left(s \\right)} \\, , \\, - \\frac{m^{2} \\Phi_{\\Psi}^{mn}{\\left(s \\right)}}{s H{\\left(s \\right)}} \\right\\rangle_{s}$"
      ],
      "text/plain": [
       "Eq(I*\\omega*C_{es}^{mn}(s)*InnerProduct1D(\\Phi_{es}^{mn}(s), \\Phi_{es}^{mn}(s), 1, s, 0, 1), C_{\\Psi}^{mn}(s)*InnerProduct1D(\\Phi_{es}^{mn}(s), -m**2*\\Phi_{\\Psi}^{mn}(s)/(s*H(s)), 1, s, 0, 1))"
      ]
     },
     "metadata": {},
     "output_type": "display_data"
    },
    {
     "data": {
      "text/latex": [
       "$\\displaystyle i \\omega C_{e\\phi}^{mn}{\\left(s \\right)} \\left\\langle \\Phi_{e\\phi}^{mn}{\\left(s \\right)} \\, , \\, \\Phi_{e\\phi}^{mn}{\\left(s \\right)} \\right\\rangle_{s} + i \\omega C_{es}^{mn}{\\left(s \\right)} \\left\\langle \\Phi_{e\\phi}^{mn}{\\left(s \\right)} \\, , \\, \\Phi_{es}^{mn}{\\left(s \\right)} \\right\\rangle_{s} = C_{\\Psi}^{mn}{\\left(s \\right)} \\left\\langle \\Phi_{e\\phi}^{mn}{\\left(s \\right)} \\, , \\, - \\frac{i m \\frac{d}{d s} \\Phi_{\\Psi}^{mn}{\\left(s \\right)}}{H{\\left(s \\right)}} \\right\\rangle_{s}$"
      ],
      "text/plain": [
       "Eq(I*\\omega*C_{e\\phi}^{mn}(s)*InnerProduct1D(\\Phi_{e\\phi}^{mn}(s), \\Phi_{e\\phi}^{mn}(s), 1, s, 0, 1) + I*\\omega*C_{es}^{mn}(s)*InnerProduct1D(\\Phi_{e\\phi}^{mn}(s), \\Phi_{es}^{mn}(s), 1, s, 0, 1), C_{\\Psi}^{mn}(s)*InnerProduct1D(\\Phi_{e\\phi}^{mn}(s), -I*m*Derivative(\\Phi_{\\Psi}^{mn}(s), s)/H(s), 1, s, 0, 1))"
      ]
     },
     "metadata": {},
     "output_type": "display_data"
    },
    {
     "data": {
      "text/latex": [
       "$\\displaystyle i \\omega C_{ez}^{mn}{\\left(s \\right)} \\left\\langle \\Phi_{ez}^{mn}{\\left(s \\right)} \\, , \\, \\Phi_{ez}^{mn}{\\left(s \\right)} \\right\\rangle_{s} = 0$"
      ],
      "text/plain": [
       "Eq(I*\\omega*C_{ez}^{mn}(s)*InnerProduct1D(\\Phi_{ez}^{mn}(s), \\Phi_{ez}^{mn}(s), 1, s, 0, 1), 0)"
      ]
     },
     "metadata": {},
     "output_type": "display_data"
    },
    {
     "data": {
      "text/latex": [
       "$\\displaystyle i \\omega C_{es,z}^{mn}{\\left(s \\right)} \\left\\langle \\Phi_{es,z}^{mn}{\\left(s \\right)} \\, , \\, \\Phi_{es,z}^{mn}{\\left(s \\right)} \\right\\rangle_{s} = 0$"
      ],
      "text/plain": [
       "Eq(I*\\omega*C_{es,z}^{mn}(s)*InnerProduct1D(\\Phi_{es,z}^{mn}(s), \\Phi_{es,z}^{mn}(s), 1, s, 0, 1), 0)"
      ]
     },
     "metadata": {},
     "output_type": "display_data"
    },
    {
     "data": {
      "text/latex": [
       "$\\displaystyle i \\omega C_{e\\phi,z}^{mn}{\\left(s \\right)} \\left\\langle \\Phi_{e\\phi,z}^{mn}{\\left(s \\right)} \\, , \\, \\Phi_{e\\phi,z}^{mn}{\\left(s \\right)} \\right\\rangle_{s} = 0$"
      ],
      "text/plain": [
       "Eq(I*\\omega*C_{e\\phi,z}^{mn}(s)*InnerProduct1D(\\Phi_{e\\phi,z}^{mn}(s), \\Phi_{e\\phi,z}^{mn}(s), 1, s, 0, 1), 0)"
      ]
     },
     "metadata": {},
     "output_type": "display_data"
    }
   ],
   "source": [
    "display(*[eq for i_eq, eq in enumerate(eqs_s) if activated[i_eq]])"
   ]
  },
  {
   "cell_type": "markdown",
   "id": "87b1ee45-7eb3-4db2-a744-c3d87f7665ab",
   "metadata": {},
   "source": [
    "### What are the matrix elements?"
   ]
  },
  {
   "cell_type": "code",
   "execution_count": 19,
   "id": "c1716461-206e-4bd1-bf54-92ebfc834f35",
   "metadata": {},
   "outputs": [],
   "source": [
    "exprs_mass = base.LabeledCollection(eqs_s._field_names, \n",
    "    **{fname: eqs_s[fname].lhs/eig_t for fname in eqs_s._field_names})\n",
    "exprs_stiff = base.LabeledCollection(eqs_s._field_names, \n",
    "    **{fname: eqs_s[fname].rhs for fname in eqs_s._field_names})\n",
    "M_expr = xpd.SystemMatrix(exprs_mass, cfg.coeff_s)\n",
    "K_expr = xpd.SystemMatrix(exprs_stiff, cfg.coeff_s)\n",
    "\n",
    "bases_map = base.map_collection(cfg.bases_s, cfg.bases_s_expression)\n",
    "n_test = sympy.Symbol(\"\\ell\")\n",
    "n_trial = sympy.Symbol(\"\\ell'\")"
   ]
  },
  {
   "cell_type": "code",
   "execution_count": 20,
   "id": "55f20be9-bb1d-4698-8bb7-5734ddef167f",
   "metadata": {},
   "outputs": [
    {
     "data": {
      "text/latex": [
       "$\\displaystyle \\left\\langle \\Phi_{s\\phi}^{mn}{\\left(s \\right)} \\, , \\, \\Phi_{s\\phi}^{mn}{\\left(s \\right)} \\right\\rangle_{s}$"
      ],
      "text/plain": [
       "InnerProduct1D(\\Phi_{s\\phi}^{mn}(s), \\Phi_{s\\phi}^{mn}(s), 1, s, 0, 1)"
      ]
     },
     "metadata": {},
     "output_type": "display_data"
    },
    {
     "data": {
      "text/latex": [
       "$\\displaystyle \\left\\langle s^{\\left|{\\left|{m}\\right| - 2}\\right|} \\left(1 - s^{2}\\right) P_{\\ell}^{\\left(2,\\left|{\\left|{m}\\right| - 2}\\right| - \\frac{1}{2}\\right)}\\left(2 s^{2} - 1\\right) \\, , \\, s^{\\left|{\\left|{m}\\right| - 2}\\right|} \\left(1 - s^{2}\\right) P_{\\ell'}^{\\left(2,\\left|{\\left|{m}\\right| - 2}\\right| - \\frac{1}{2}\\right)}\\left(2 s^{2} - 1\\right) \\right\\rangle_{s}$"
      ],
      "text/plain": [
       "InnerProduct1D(s**Abs(Abs(m) - 2)*(1 - s**2)*jacobi(n, 2, Abs(Abs(m) - 2) - 1/2, 2*s**2 - 1), s**Abs(Abs(m) - 2)*(1 - s**2)*jacobi(n, 2, Abs(Abs(m) - 2) - 1/2, 2*s**2 - 1), 1, s, 0, 1)"
      ]
     },
     "metadata": {},
     "output_type": "display_data"
    },
    {
     "data": {
      "text/latex": [
       "$\\displaystyle \\int\\limits_{0}^{1} s^{2 \\left|{\\left|{m}\\right| - 2}\\right|} \\left(1 - s^{2}\\right)^{2} P_{\\ell}^{\\left(2,\\left|{\\left|{m}\\right| - 2}\\right| - \\frac{1}{2}\\right)}\\left(2 s^{2} - 1\\right) P_{\\ell'}^{\\left(2,\\left|{\\left|{m}\\right| - 2}\\right| - \\frac{1}{2}\\right)}\\left(2 s^{2} - 1\\right)\\, ds$"
      ],
      "text/plain": [
       "Integral(s**(2*Abs(Abs(m) - 2))*(1 - s**2)**2*jacobi(\\ell, 2, Abs(Abs(m) - 2) - 1/2, 2*s**2 - 1)*jacobi(\\ell', 2, Abs(Abs(m) - 2) - 1/2, 2*s**2 - 1), (s, 0, 1))"
      ]
     },
     "metadata": {},
     "output_type": "display_data"
    },
    {
     "data": {
      "text/latex": [
       "$\\displaystyle \\int\\limits_{-1}^{1} \\frac{\\left(\\frac{1}{2} - \\frac{\\xi}{2}\\right)^{2} \\left(\\frac{\\xi}{2} + \\frac{1}{2}\\right)^{\\left|{\\left|{m}\\right| - 2}\\right|} P_{\\ell}^{\\left(2,\\left|{\\left|{m}\\right| - 2}\\right| - \\frac{1}{2}\\right)}\\left(\\xi\\right) P_{\\ell'}^{\\left(2,\\left|{\\left|{m}\\right| - 2}\\right| - \\frac{1}{2}\\right)}\\left(\\xi\\right)}{4 \\sqrt{\\frac{\\xi}{2} + \\frac{1}{2}}}\\, d\\xi$"
      ],
      "text/plain": [
       "Integral((1/2 - \\xi/2)**2*(\\xi/2 + 1/2)**Abs(Abs(m) - 2)*jacobi(\\ell, 2, Abs(Abs(m) - 2) - 1/2, \\xi)*jacobi(\\ell', 2, Abs(Abs(m) - 2) - 1/2, \\xi)/(4*sqrt(\\xi/2 + 1/2)), (\\xi, -1, 1))"
      ]
     },
     "metadata": {},
     "output_type": "display_data"
    }
   ],
   "source": [
    "ele_tmp = M_expr[\"Msp\", \"Msp\"]\n",
    "display(ele_tmp)\n",
    "\n",
    "if isinstance(ele_tmp, xpd.InnerProduct1D):\n",
    "    ele_tmp = ele_tmp.subs(bases_map).subs({H_s: H, H_s**2: H**2}).expand().subs({H: H_s})\n",
    "    ele_tmp._opd_A = ele_tmp._opd_A.subs({n: n_test})\n",
    "    ele_tmp._opd_B = ele_tmp._opd_B.subs({n: n_trial})\n",
    "    display(ele_tmp)\n",
    "    display(ele_tmp.integral_form())\n",
    "\n",
    "    ele_tmp = ele_tmp.change_variable(xi, xpd.s_xi, xpd.xi_s, assuming_positive=True)\n",
    "    display(ele_tmp.integral_form())"
   ]
  },
  {
   "cell_type": "code",
   "execution_count": 164,
   "id": "e09b88ae-544e-4026-8a16-cb80d21ef7c6",
   "metadata": {},
   "outputs": [
    {
     "data": {
      "text/latex": [
       "$\\displaystyle \\left(\\frac{1}{2} - \\frac{\\xi}{2}\\right) \\left(\\frac{\\xi}{2} + \\frac{1}{2}\\right)^{4} P_{\\ell}^{\\left(2,\\frac{15}{2}\\right)}\\left(\\xi\\right)$"
      ],
      "text/plain": [
       "(1/2 - \\xi/2)*(\\xi/2 + 1/2)**4*jacobi(\\ell, 2, 15/2, \\xi)"
      ]
     },
     "metadata": {},
     "output_type": "display_data"
    },
    {
     "name": "stdout",
     "output_type": "stream",
     "text": [
      "[4 0 1]\n"
     ]
    },
    {
     "data": {
      "text/latex": [
       "$\\displaystyle \\frac{\\left(\\frac{1}{2} - \\frac{\\xi}{2}\\right) \\left(\\frac{\\xi}{2} + \\frac{1}{2}\\right)^{\\frac{7}{2}} P_{\\ell'}^{\\left(2,\\frac{15}{2}\\right)}\\left(\\xi\\right)}{4}$"
      ],
      "text/plain": [
       "(1/2 - \\xi/2)*(\\xi/2 + 1/2)**(7/2)*jacobi(\\ell', 2, 15/2, \\xi)/4"
      ]
     },
     "metadata": {},
     "output_type": "display_data"
    },
    {
     "name": "stdout",
     "output_type": "stream",
     "text": [
      "[0 0 0]\n"
     ]
    },
    {
     "data": {
      "text/latex": [
       "$\\displaystyle \\int\\limits_{-1}^{1} \\frac{\\left(\\frac{1}{2} - \\frac{\\xi}{2}\\right)^{2} \\left(\\frac{\\xi}{2} + \\frac{1}{2}\\right)^{\\frac{15}{2}} P_{\\ell}^{\\left(2,\\frac{15}{2}\\right)}\\left(\\xi\\right) P_{\\ell'}^{\\left(2,\\frac{15}{2}\\right)}\\left(\\xi\\right)}{4}\\, d\\xi$"
      ],
      "text/plain": [
       "Integral((1/2 - \\xi/2)**2*(\\xi/2 + 1/2)**(15/2)*jacobi(\\ell, 2, 15/2, \\xi)*jacobi(\\ell', 2, 15/2, \\xi)/4, (\\xi, -1, 1))"
      ]
     },
     "execution_count": 164,
     "metadata": {},
     "output_type": "execute_result"
    }
   ],
   "source": [
    "import numpy as np\n",
    "\n",
    "p1 = sympy.Symbol(\"p_1\", positive=True)\n",
    "p2 = sympy.Symbol(\"p_2\", positive=True)\n",
    "\n",
    "m_val = 10\n",
    "\n",
    "def get_min_power(expr, *args):\n",
    "    if isinstance(term_opB, sympy.Add):\n",
    "        min_tmp = np.array([get_min_power(arg) for arg in expr.args])\n",
    "        return min_tmp.min(axis=0)\n",
    "    else:\n",
    "        expr = expr.factor()\n",
    "        min_powers = np.array([2*Abs(m_val) for symb in args])\n",
    "        for arg in expr.args:\n",
    "            if isinstance(arg, sympy.Pow):\n",
    "                base, exp = arg.as_base_exp()\n",
    "            else:\n",
    "                base, exp = arg, sympy.S.One\n",
    "            for i_symb, symb in enumerate(args):\n",
    "                if base == symb and exp < min_powers[i_symb]:\n",
    "                    min_powers[i_symb] = exp\n",
    "        min_powers[min_powers == 2*Abs(m_val)] = sympy.S.Zero\n",
    "        return min_powers\n",
    "\n",
    "term_opA = ele_tmp._opd_A.subs({m: m_val}).doit()\n",
    "display(term_opA)\n",
    "print(get_min_power(term_opA, 1 + xi, 1 - xi, xi - 1))\n",
    "\n",
    "term_opB = (ele_tmp._wt*ele_tmp._opd_B).subs({m: m_val}).doit().xreplace({1+xi: p1, 1-xi: p2, xi-1: -p2})\n",
    "display(term_opB)\n",
    "print(get_min_power(term_opB, p1, p1, -p2))\n",
    "\n",
    "ele_tmp.integral_form().subs({m: m_val})"
   ]
  },
  {
   "cell_type": "markdown",
   "id": "0e21ceaa-03ca-488f-a2a7-c650ec50da27",
   "metadata": {},
   "source": [
    "## Assembling matrices\n",
    "\n",
    "For axisymmetric background fields, different azimuthal wavenumbers $m$ are decoupled.\n",
    "\n",
    "The following section assembles the mass and stiffness matrices for a specific azimuthal wavenumber."
   ]
  },
  {
   "cell_type": "code",
   "execution_count": 49,
   "id": "19090c07-e92b-40a8-9db7-6a7e892ce7fc",
   "metadata": {},
   "outputs": [],
   "source": [
    "from sympy.integrals import quadrature as quad\n",
    "import numpy as np\n",
    "\n",
    "m_val = 3\n",
    "azm_val = {m: m_val}\n",
    "par_val = {params.Le: 1e-4, params.Lu: 1e-3}\n",
    "\n",
    "Nmax = sympy.Integer(5)\n",
    "Nmoment = 2*Nmax\n",
    "quad_N = Nmoment + 1\n",
    "prec = 32"
   ]
  },
  {
   "cell_type": "markdown",
   "id": "e3f1408d-efba-4759-888e-2614b84d4b4a",
   "metadata": {},
   "source": [
    "#### Mass matrix"
   ]
  },
  {
   "cell_type": "code",
   "execution_count": 50,
   "id": "d363f38b-becd-4172-b14a-7937fab056d2",
   "metadata": {},
   "outputs": [],
   "source": [
    "ip_tmp = M_expr[\"Psi\", \"Psi\"].subs(bases_map)\n",
    "alpha = sympy.Rational(3, 2)\n",
    "beta = m_val\n",
    "xi_quad, wt_quad = quad.gauss_jacobi(quad_N, alpha, beta, prec)\n",
    "\n",
    "ip_tmp = ip_tmp.subs({m: m_val}).subs({H_s: H, H_s**2: H**2}).expand().subs({H: H_s}).change_variable(xi, xpd.s_xi, xpd.xi_s)\n",
    "opd_A = ip_tmp._opd_A.subs({n: n_test})\n",
    "opd_B = ip_tmp._opd_B.subs({n: n_trial})\n",
    "integrand = opd_A*ip_tmp._wt*opd_B/(1 - xi)**alpha/(1 + xi)**beta\n",
    "# display(integrand)\n",
    "\n",
    "def int_jacobi(integrand, Nmax):\n",
    "    M_psi = list()\n",
    "    for n_test_val in range(Nmax + 1):\n",
    "        M_row = list()\n",
    "        for n_trial_val in range(Nmax + 1):\n",
    "            integrand_eval = integrand.subs({n_test: n_test_val, n_trial: n_trial_val}).doit()\n",
    "            quad_pts = [wt_quad[i]*integrand_eval.subs({xi: xi_quad[i]}, n=prec) for i in range(quad_N)]\n",
    "            quad_result = sum(quad_pts)\n",
    "            M_row.append(sympy.nsimplify(quad_result, rational=True, tolerance=1e-20))\n",
    "        M_psi.append(M_row)\n",
    "    return sympy.Matrix(M_psi)"
   ]
  },
  {
   "cell_type": "code",
   "execution_count": 64,
   "id": "666cda0d-33ac-44be-916c-ffd9bfb93c62",
   "metadata": {},
   "outputs": [],
   "source": [
    "integrand_func = sympy.lambdify([n_test, n_trial, xi], integrand.doit(), modules=[\"scipy\", \"numpy\"])"
   ]
  },
  {
   "cell_type": "code",
   "execution_count": 73,
   "id": "1131be55-32ba-41f5-9b51-3e2055415617",
   "metadata": {},
   "outputs": [
    {
     "name": "stdout",
     "output_type": "stream",
     "text": [
      "Created with lambdify. Signature:\n",
      "\n",
      "func(\\ell, \\ell', \\xi)\n",
      "\n",
      "Expression:\n",
      "\n",
      "(1/2 - \\xi/2)**(3/2)*(\\xi/2 + 1/2)*(-9*(1/2 - \\xi/2)*(\\xi/2 +...\n",
      "\n",
      "Source code:\n",
      "\n",
      "def _lambdifygenerated(Dummy_7884, Dummy_7883, Dummy_7882):\n",
      "    return (1/4)*(1/2 - 1/2*Dummy_7882)**(3/2)*((1/2)*Dummy_7882 + 1/2)*(-9*(1/2 - 1/2*Dummy_7882)*((1/2)*Dummy_7882 + 1/2)*eval_jacobi(Dummy_7883, 3/2, 3, Dummy_7882) - 9/2*((1/2)*Dummy_7882 + 1/2)**2*eval_jacobi(Dummy_7883, 3/2, 3, Dummy_7882) + ((1/2)*Dummy_7882 + 1/2)*((1/2 - 1/2*Dummy_7882)**(3/2)*((1/2)*Dummy_7882 + 1/2)*(2*Dummy_7883 + 11)*(((1/2)*Dummy_7882 + 1/2)*(2*Dummy_7883 + 13)*eval_jacobi(Dummy_7883 - 2, 7/2, 5, Dummy_7882) + eval_jacobi(Dummy_7883 - 1, 5/2, 4, Dummy_7882)) + 6*(1/2 - 1/2*Dummy_7882)**(3/2)*((1/2)*Dummy_7882 + 1/2)*(2*Dummy_7883 + 11)*eval_jacobi(Dummy_7883 - 1, 5/2, 4, Dummy_7882) + 6*(1/2 - 1/2*Dummy_7882)**(3/2)*eval_jacobi(Dummy_7883, 3/2, 3, Dummy_7882) - 6*sqrt(1/2 - 1/2*Dummy_7882)*((1/2)*Dummy_7882 + 1/2)**2*(2*Dummy_7883 + 11)*eval_jacobi(Dummy_7883 - 1, 5/2, 4, Dummy_7882) - 18*sqrt(1/2 - 1/2*Dummy_7882)*((1/2)*Dummy_7882 + 1/2)*eval_jacobi(Dummy_7883, 3/2, 3, Dummy_7882) + 3*((1/2)*Dummy_7882 + 1/2)*(-sqrt(1/2 - 1/2*Dummy_7882) + ((1/2)*Dummy_7882 + 1/2)/sqrt(1/2 - 1/2*Dummy_7882))*eval_jacobi(Dummy_7883, 3/2, 3, Dummy_7882))/sqrt(1/2 - 1/2*Dummy_7882) + (4*(1/2 - 1/2*Dummy_7882)**(3/2)*((1/2)*Dummy_7882 + 1/2)**2*((1/2)*Dummy_7883 + 11/4)*eval_jacobi(Dummy_7883 - 1, 5/2, 4, Dummy_7882) + 3*(1/2 - 1/2*Dummy_7882)**(3/2)*((1/2)*Dummy_7882 + 1/2)*eval_jacobi(Dummy_7883, 3/2, 3, Dummy_7882) - 3*sqrt(1/2 - 1/2*Dummy_7882)*((1/2)*Dummy_7882 + 1/2)**2*eval_jacobi(Dummy_7883, 3/2, 3, Dummy_7882))/sqrt(1/2 - 1/2*Dummy_7882) + ((1/2)*Dummy_7882 + 1/2)*(4*(1/2 - 1/2*Dummy_7882)**(3/2)*((1/2)*Dummy_7882 + 1/2)**2*((1/2)*Dummy_7883 + 11/4)*eval_jacobi(Dummy_7883 - 1, 5/2, 4, Dummy_7882) + 3*(1/2 - 1/2*Dummy_7882)**(3/2)*((1/2)*Dummy_7882 + 1/2)*eval_jacobi(Dummy_7883, 3/2, 3, Dummy_7882) - 3*sqrt(1/2 - 1/2*Dummy_7882)*((1/2)*Dummy_7882 + 1/2)**2*eval_jacobi(Dummy_7883, 3/2, 3, Dummy_7882))/(1/2 - 1/2*Dummy_7882)**(3/2))*eval_jacobi(Dummy_7884, 3/2, 3, Dummy_7882)/((1 - Dummy_7882)**(3/2)*(Dummy_7882 + 1)**3)\n",
      "\n",
      "\n",
      "Imported modules:\n",
      "\n",
      "\n"
     ]
    },
    {
     "data": {
      "text/plain": [
       "array([[-0.28173786, -0.32006249],\n",
       "       [ 0.42674999,  0.21130339]])"
      ]
     },
     "execution_count": 73,
     "metadata": {},
     "output_type": "execute_result"
    }
   ],
   "source": [
    "# print(integrand_func.__doc__)\n",
    "integrand_func(np.array([[0, 1], [0, 1]]), np.array([[0, 1], [1, 0]]), np.array([[0., 0.], [0., 0.]]))"
   ]
  },
  {
   "cell_type": "code",
   "execution_count": 72,
   "id": "eeb4720c-92a1-4a41-a975-5e64f89a09c0",
   "metadata": {},
   "outputs": [
    {
     "data": {
      "text/latex": [
       "$\\displaystyle -0.32006249324215310308573375179258$"
      ],
      "text/plain": [
       "-0.32006249324215310308573375179258"
      ]
     },
     "execution_count": 72,
     "metadata": {},
     "output_type": "execute_result"
    }
   ],
   "source": [
    "integrand.subs({n_test: 1, n_trial: 1, xi: 0}).doit().evalf(32)"
   ]
  },
  {
   "cell_type": "code",
   "execution_count": 91,
   "id": "cf92b575-9c30-4448-81d4-3d9523f14a0b",
   "metadata": {},
   "outputs": [],
   "source": [
    "def int_jacobi_numpy(integrand, Nmax):\n",
    "    integrand_func = sympy.lambdify([n_test, n_trial, xi], integrand.doit(), modules=[\"scipy\", \"numpy\"])\n",
    "    Ntest, Ntrial, Xi = np.meshgrid(np.arange(int(Nmax) + 1), np.arange(int(Nmax) + 1), np.array(xi_quad, dtype=np.float64), indexing='ij')\n",
    "    return np.sum(integrand_func(Ntest, Ntrial, Xi)*np.array(wt_quad, dtype=np.float64), axis=-1)"
   ]
  },
  {
   "cell_type": "code",
   "execution_count": 75,
   "id": "fef7d762-8190-45eb-b2e5-ecba13f57b22",
   "metadata": {},
   "outputs": [
    {
     "name": "stdout",
     "output_type": "stream",
     "text": [
      " \n",
      "*** Profile printout saved to text file 'out/quadrature_profile.txt'.\n"
     ]
    }
   ],
   "source": [
    "%%prun -s \"cumulative\" -T out/quadrature_profile.txt -q\n",
    "\n",
    "M_psi = int_jacobi(integrand, Nmax)\n",
    "M_psi"
   ]
  },
  {
   "cell_type": "code",
   "execution_count": 76,
   "id": "5f7937ab-c32d-4f90-8798-4f37e780cbeb",
   "metadata": {},
   "outputs": [
    {
     "data": {
      "text/latex": [
       "$\\displaystyle \\left[\\begin{matrix}- \\frac{136}{385} & 0 & 0 & 0 & 0 & 0\\\\0 & - \\frac{3296}{3465} & 0 & 0 & 0 & 0\\\\0 & 0 & - \\frac{240}{143} & 0 & 0 & 0\\\\0 & 0 & 0 & - \\frac{8160}{3289} & 0 & 0\\\\0 & 0 & 0 & 0 & - \\frac{19880}{5967} & 0\\\\0 & 0 & 0 & 0 & 0 & - \\frac{211008}{50065}\\end{matrix}\\right]$"
      ],
      "text/plain": [
       "Matrix([\n",
       "[-136/385,          0,        0,          0,           0,             0],\n",
       "[       0, -3296/3465,        0,          0,           0,             0],\n",
       "[       0,          0, -240/143,          0,           0,             0],\n",
       "[       0,          0,        0, -8160/3289,           0,             0],\n",
       "[       0,          0,        0,          0, -19880/5967,             0],\n",
       "[       0,          0,        0,          0,           0, -211008/50065]])"
      ]
     },
     "execution_count": 76,
     "metadata": {},
     "output_type": "execute_result"
    }
   ],
   "source": [
    "M_psi"
   ]
  },
  {
   "cell_type": "code",
   "execution_count": 77,
   "id": "b5588329-b0d2-4fe6-9d32-4f6392958da6",
   "metadata": {},
   "outputs": [
    {
     "data": {
      "text/latex": [
       "$\\displaystyle \\left[\\begin{matrix}-0.3532467532 & 0 & 0 & 0 & 0 & 0\\\\0 & -0.9512265512 & 0 & 0 & 0 & 0\\\\0 & 0 & -1.678321678 & 0 & 0 & 0\\\\0 & 0 & 0 & -2.480997264 & 0 & 0\\\\0 & 0 & 0 & 0 & -3.331657449 & 0\\\\0 & 0 & 0 & 0 & 0 & -4.214680915\\end{matrix}\\right]$"
      ],
      "text/plain": [
       "Matrix([\n",
       "[-0.3532467532,             0,            0,            0,            0,            0],\n",
       "[            0, -0.9512265512,            0,            0,            0,            0],\n",
       "[            0,             0, -1.678321678,            0,            0,            0],\n",
       "[            0,             0,            0, -2.480997264,            0,            0],\n",
       "[            0,             0,            0,            0, -3.331657449,            0],\n",
       "[            0,             0,            0,            0,            0, -4.214680915]])"
      ]
     },
     "execution_count": 77,
     "metadata": {},
     "output_type": "execute_result"
    }
   ],
   "source": [
    "M_psi.evalf(10)"
   ]
  },
  {
   "cell_type": "code",
   "execution_count": 92,
   "id": "6ac1dae0-1a7e-4c3a-8ce0-8e295de9b7d1",
   "metadata": {},
   "outputs": [
    {
     "name": "stdout",
     "output_type": "stream",
     "text": [
      " \n",
      "*** Profile printout saved to text file 'out/quadrature_profile_lambdify.txt'.\n"
     ]
    }
   ],
   "source": [
    "%%prun -s \"cumulative\" -T out/quadrature_profile_lambdify.txt -q\n",
    "\n",
    "M_psi = int_jacobi_numpy(integrand, Nmax)"
   ]
  },
  {
   "cell_type": "code",
   "execution_count": 99,
   "id": "100924b5-7b36-47db-b36a-89883ead5fe2",
   "metadata": {},
   "outputs": [
    {
     "data": {
      "text/latex": [
       "$\\displaystyle \\left[\\begin{matrix}- \\frac{136}{385} & 0 & 0 & 0 & 0 & 0\\\\0 & - \\frac{3296}{3465} & 0 & 0 & 0 & 0\\\\0 & 0 & - \\frac{240}{143} & 0 & 0 & 0\\\\0 & 0 & 0 & - \\frac{8160}{3289} & 0 & 0\\\\0 & 0 & 0 & 0 & - \\frac{19880}{5967} & 0\\\\0 & 0 & 0 & 0 & 0 & - \\frac{211008}{50065}\\end{matrix}\\right]$"
      ],
      "text/plain": [
       "[[-136/385, 0, 0, 0, 0, 0], [0, -3296/3465, 0, 0, 0, 0], [0, 0, -240/143, 0, 0, 0], [0, 0, 0, -8160/3289, 0, 0], [0, 0, 0, 0, -19880/5967, 0], [0, 0, 0, 0, 0, -211008/50065]]"
      ]
     },
     "execution_count": 99,
     "metadata": {},
     "output_type": "execute_result"
    }
   ],
   "source": [
    "sympy.nsimplify(M_psi, rational=True, tolerance=1e-9)"
   ]
  },
  {
   "cell_type": "code",
   "execution_count": 51,
   "id": "90d89f20-b0ac-4cce-a17e-bfe3a722420e",
   "metadata": {},
   "outputs": [
    {
     "data": {
      "text/latex": [
       "$\\displaystyle - \\frac{m^{2} s s^{2 \\left|{m}\\right|} \\left(1 - s^{2}\\right)^{\\frac{3}{2}} \\left(P_{n}^{\\left(\\frac{3}{2},\\left|{m}\\right|\\right)}\\left(2 s^{2} - 1\\right)\\right)^{2}}{2} - \\frac{m^{2} s^{2 \\left|{m}\\right|} \\left(1 - s^{2}\\right)^{\\frac{5}{2}} \\left(P_{n}^{\\left(\\frac{3}{2},\\left|{m}\\right|\\right)}\\left(2 s^{2} - 1\\right)\\right)^{2}}{s}$"
      ],
      "text/plain": [
       "-m**2*s*s**(2*Abs(m))*(1 - s**2)**(3/2)*jacobi(n, 3/2, Abs(m), 2*s**2 - 1)**2/2 - m**2*s**(2*Abs(m))*(1 - s**2)**(5/2)*jacobi(n, 3/2, Abs(m), 2*s**2 - 1)**2/s"
      ]
     },
     "execution_count": 51,
     "metadata": {},
     "output_type": "execute_result"
    }
   ],
   "source": [
    "ip_tmp = eqs_s.Psi.lhs.coeff(cfg.rad_expand.coeffs.Psi)\n",
    "integrand = ip_tmp._opd_A*ip_tmp._opd_B/sympy.I/omega\n",
    "integrand = integrand.subs(base.map_collection(cfg.bases_s, cfg.bases_s_expression))\n",
    "integrand = integrand.subs({H_s: H, 1-s**2: H**2}).expand().subs({H: H_s})\n",
    "integrand"
   ]
  },
  {
   "cell_type": "code",
   "execution_count": 61,
   "id": "93dcf887-2ad8-461e-837d-cd07c55b0e5a",
   "metadata": {},
   "outputs": [
    {
     "data": {
      "text/latex": [
       "$\\displaystyle \\left[\\begin{matrix}- \\frac{136}{385} & 0 & 0 & 0 & 0 & 0\\\\0 & - \\frac{3296}{3465} & 0 & 0 & 0 & 0\\\\0 & 0 & - \\frac{240}{143} & 0 & 0 & 0\\\\0 & 0 & 0 & - \\frac{8160}{3289} & 0 & 0\\\\0 & 0 & 0 & 0 & - \\frac{19880}{5967} & 0\\\\0 & 0 & 0 & 0 & 0 & - \\frac{211008}{50065}\\end{matrix}\\right]$"
      ],
      "text/plain": [
       "Matrix([\n",
       "[-136/385,          0,        0,          0,           0,             0],\n",
       "[       0, -3296/3465,        0,          0,           0,             0],\n",
       "[       0,          0, -240/143,          0,           0,             0],\n",
       "[       0,          0,        0, -8160/3289,           0,             0],\n",
       "[       0,          0,        0,          0, -19880/5967,             0],\n",
       "[       0,          0,        0,          0,           0, -211008/50065]])"
      ]
     },
     "execution_count": 61,
     "metadata": {},
     "output_type": "execute_result"
    }
   ],
   "source": [
    "ip_tmp = eqs_s.Psi.lhs.coeff(cfg.rad_expand.coeffs.Psi, 1)\n",
    "alpha = sympy.Rational(3, 2)\n",
    "beta = m_val\n",
    "xi_quad, wt_quad = quad.gauss_jacobi(quad_N, alpha, beta, 32)\n",
    "\n",
    "n_test_array = np.arange(Nmax + 1)\n",
    "n_trial_array = np.arange(Nmax + 1)\n",
    "M_psi = list()\n",
    "bases_map = base.map_collection(cfg.bases_s, cfg.bases_s_expression)\n",
    "\n",
    "for n_test in n_test_array:\n",
    "    M_row = list()\n",
    "    for n_trial in n_trial_array:\n",
    "        integrand = (ip_tmp._opd_B/sympy.I/omega).subs({H_s: H, H_s**2: H**2}).expand().subs({H: H_s}).subs(bases_map).subs({n: n_trial, m: m_val})\n",
    "        integrand = ip_tmp._opd_A.subs(bases_map).subs({n: n_test, m: m_val})*integrand\n",
    "        integrand = integrand.subs({s: expansion.s_xi})/(1 - xi)**alpha/(1 + xi)**beta/(2*sympy.sqrt(2*(xi + 1)))\n",
    "        integrand = integrand.doit()\n",
    "        quad_pts = [wt_quad[i]*integrand.subs({xi: xi_quad[i]}).evalf(32) for i in range(quad_N)]\n",
    "        quad_result = sum(quad_pts)\n",
    "        M_row.append(sympy.nsimplify(quad_result, rational=True, tolerance=1e-20))\n",
    "    M_psi.append(M_row)\n",
    "\n",
    "M_psi = sympy.Matrix(M_psi)\n",
    "M_psi"
   ]
  },
  {
   "cell_type": "markdown",
   "id": "5a50ca2c-9e9c-4f79-926b-096386e9a93c",
   "metadata": {},
   "source": [
    "### Assemble matrices\n",
    "\n",
    "#### Mass matrix"
   ]
  },
  {
   "cell_type": "code",
   "execution_count": 35,
   "id": "12bb498b-4a12-4c40-851e-12a5b9b8208e",
   "metadata": {},
   "outputs": [
    {
     "data": {
      "text/latex": [
       "$\\displaystyle \\left[\\begin{matrix}- \\frac{136}{385} & 0 & 0 & 0 & 0 & 0\\\\0 & - \\frac{3296}{3465} & 0 & 0 & 0 & 0\\\\0 & 0 & - \\frac{240}{143} & 0 & 0 & 0\\\\0 & 0 & 0 & - \\frac{8160}{3289} & 0 & 0\\\\0 & 0 & 0 & 0 & - \\frac{19880}{5967} & 0\\\\0 & 0 & 0 & 0 & 0 & - \\frac{211008}{50065}\\end{matrix}\\right]$"
      ],
      "text/plain": [
       "Matrix([\n",
       "[-136/385,          0,        0,          0,           0,             0],\n",
       "[       0, -3296/3465,        0,          0,           0,             0],\n",
       "[       0,          0, -240/143,          0,           0,             0],\n",
       "[       0,          0,        0, -8160/3289,           0,             0],\n",
       "[       0,          0,        0,          0, -19880/5967,             0],\n",
       "[       0,          0,        0,          0,           0, -211008/50065]])"
      ]
     },
     "execution_count": 35,
     "metadata": {},
     "output_type": "execute_result"
    }
   ],
   "source": [
    "alpha = sympy.Rational(3, 2)\n",
    "beta = m_val\n",
    "xi = sympy.Symbol(r\"\\xi\")\n",
    "xi_quad, wt_quad = quad.gauss_jacobi(quad_N, alpha, beta, 32)\n",
    "\n",
    "n_test_array = np.arange(Nmax + 1)\n",
    "n_trial_array = np.arange(Nmax + 1)\n",
    "M_psi = list()\n",
    "\n",
    "for n_test in n_test_array:\n",
    "    M_row = list()\n",
    "    for n_trial in n_trial_array:\n",
    "        integrand = basis_set.trial_Psi.subs({n: n_test, m: m_val})*eqns_s[0].lhs.coeff(pg_expand.C_Psi, 1).subs({pg_expand.basis_Psi: basis_set.trial_Psi}).subs({n: n_trial, m: m_val})\n",
    "        integrand = integrand.subs({s: sympy.sqrt((1 + xi)/2)})/(1 - xi)**alpha/(1 + xi)**beta/(2*sympy.sqrt(2*(xi + 1)))\n",
    "        integrand = integrand.doit()\n",
    "        quad_pts = [wt_quad[i]*integrand.subs({xi: xi_quad[i]}).evalf(32) for i in range(quad_N)]\n",
    "        quad_result = sum(quad_pts)\n",
    "        M_row.append(sympy.nsimplify(quad_result, rational=True, tolerance=1e-20))\n",
    "    M_psi.append(M_row)\n",
    "\n",
    "M_psi = sympy.Matrix(M_psi)\n",
    "M_psi"
   ]
  },
  {
   "cell_type": "code",
   "execution_count": 123,
   "id": "c2f69bc0-9426-41d6-8eb8-774d37f624d4",
   "metadata": {},
   "outputs": [
    {
     "data": {
      "text/latex": [
       "$\\displaystyle i \\omega \\left(C_{e\\phi}^{mn} s^{\\left|{m}\\right| + 1} P_{n}^{\\left(2,\\left|{m}\\right| - \\frac{1}{2}\\right)}\\left(2 s^{2} - 1\\right) + C_{es}^{mn} s^{\\left|{\\left|{m}\\right| - 1}\\right|} \\left(1 - s^{2}\\right) P_{n}^{\\left(2,\\left|{\\left|{m}\\right| - 1}\\right| - \\frac{1}{2}\\right)}\\left(2 s^{2} - 1\\right)\\right)$"
      ],
      "text/plain": [
       "I*\\omega*(C_{e\\phi}^{mn}*s**(Abs(m) + 1)*jacobi(n, 2, Abs(m) - 1/2, 2*s**2 - 1) + C_{es}^{mn}*s**Abs(Abs(m) - 1)*(1 - s**2)*jacobi(n, 2, Abs(Abs(m) - 1) - 1/2, 2*s**2 - 1))"
      ]
     },
     "execution_count": 123,
     "metadata": {},
     "output_type": "execute_result"
    }
   ],
   "source": [
    "tuple(eqs_s.Bp_e.lhs.atoms(expansion.InnerProduct1D))[0].subs({expansion.pgvar_s.Bp_e: expand_s.Bp_e})._opd_B"
   ]
  },
  {
   "cell_type": "code",
   "execution_count": 144,
   "id": "8f949cc3-71a9-499b-8434-9108dd67c26e",
   "metadata": {},
   "outputs": [],
   "source": [
    "from sympy import *\n",
    "\n",
    "save_expr = eqs_lin_bg.Psi.lhs\n",
    "# exec(\"load_expr = \" + srepr(save_expr))\n",
    "load_expr = parsing.parse_expr(srepr(save_expr))"
   ]
  },
  {
   "cell_type": "code",
   "execution_count": 146,
   "id": "8254727a-c718-49e1-9d7b-a0fcf9482126",
   "metadata": {},
   "outputs": [
    {
     "data": {
      "text/latex": [
       "$\\displaystyle \\frac{\\frac{\\partial^{3}}{\\partial t\\partial \\phi^{2}} \\psi{\\left(1,\\phi,t \\right)}}{H{\\left(1 \\right)}} + \\frac{\\left. \\frac{\\partial^{2}}{\\partial t\\partial s} \\psi{\\left(s,\\phi,t \\right)} \\right|_{\\substack{ s=1 }}}{H{\\left(1 \\right)}} + \\frac{\\left. \\frac{\\partial^{3}}{\\partial t\\partial s^{2}} \\psi{\\left(s,\\phi,t \\right)} \\right|_{\\substack{ s=1 }}}{H{\\left(1 \\right)}} + \\frac{\\frac{\\partial^{3}}{\\partial t\\partial \\phi^{2}} \\psi{\\left(1,\\phi,t \\right)}}{2 H^{3}{\\left(1 \\right)}} + \\frac{\\left. \\frac{\\partial^{2}}{\\partial t\\partial s} \\psi{\\left(s,\\phi,t \\right)} \\right|_{\\substack{ s=1 }}}{H^{3}{\\left(1 \\right)}}$"
      ],
      "text/plain": [
       "Derivative(\\psi(1, \\phi, t), (\\phi, 2), t)/H(1) + Subs(Derivative(\\psi(s, \\phi, t), s, t), s, 1)/H(1) + Subs(Derivative(\\psi(s, \\phi, t), (s, 2), t), s, 1)/H(1) + Derivative(\\psi(1, \\phi, t), (\\phi, 2), t)/(2*H(1)**3) + Subs(Derivative(\\psi(s, \\phi, t), s, t), s, 1)/H(1)**3"
      ]
     },
     "execution_count": 146,
     "metadata": {},
     "output_type": "execute_result"
    }
   ],
   "source": [
    "load_expr.subs({s:1})"
   ]
  },
  {
   "cell_type": "markdown",
   "id": "2050c268-6158-4c50-affa-9a1e8bd6dfb2",
   "metadata": {},
   "source": [
    "### Angular basis: Fourier basis\n",
    "#### Vorticity equation\n",
    "\n",
    "Choose forcing"
   ]
  },
  {
   "cell_type": "code",
   "execution_count": 10,
   "id": "adb7d1c5-f7b4-41ec-adb4-f031210838b7",
   "metadata": {},
   "outputs": [],
   "source": [
    "# Lorentz force only\n",
    "forcing_subs = {\n",
    "    pg_eqns.fe_p: params.Le**2*pg_forcing.Le_p_lin, \n",
    "    pg_eqns.fs_sym: params.Le**2*pg_forcing.Ls_sym_lin, \n",
    "    pg_eqns.fp_sym: params.Le**2*pg_forcing.Lp_sym_lin, \n",
    "    pg_eqns.fz_asym: params.Le**2*pg_forcing.Lz_asym_lin\n",
    "}"
   ]
  },
  {
   "cell_type": "code",
   "execution_count": 11,
   "id": "4c4ec3b9-d600-4bd0-92b6-bc9ba291f41b",
   "metadata": {},
   "outputs": [
    {
     "data": {
      "text/latex": [
       "$\\displaystyle C_{\\Psi}^{mn} \\left(\\frac{m^{2} \\Psi^{mn}{\\left(s \\right)} \\frac{d}{d s} H{\\left(s \\right)}}{2 H^{2}{\\left(s \\right)}} - \\frac{m^{2} \\Psi^{mn}{\\left(s \\right)}}{s H{\\left(s \\right)}} + \\frac{s \\frac{d^{2}}{d s^{2}} \\Psi^{mn}{\\left(s \\right)}}{H{\\left(s \\right)}} - \\frac{s \\frac{d}{d s} H{\\left(s \\right)} \\frac{d}{d s} \\Psi^{mn}{\\left(s \\right)}}{H^{2}{\\left(s \\right)}} + \\frac{\\frac{d}{d s} \\Psi^{mn}{\\left(s \\right)}}{H{\\left(s \\right)}}\\right) = C_s^{mn+} \\left(- \\frac{i \\mathrm{Le}^{2} s^{3} B_s^{mn+}{\\left(s \\right)} \\frac{d}{d s} H{\\left(s \\right)}}{2 \\omega H^{3}{\\left(s \\right)}} + \\frac{i \\mathrm{Le}^{2} s^{3} \\frac{d}{d s} B_s^{mn+}{\\left(s \\right)}}{2 \\omega H^{2}{\\left(s \\right)}} + \\frac{3 i \\mathrm{Le}^{2} s^{2} B_s^{mn+}{\\left(s \\right)}}{2 \\omega H^{2}{\\left(s \\right)}}\\right) + C_s^{mn-} \\left(- \\frac{i \\mathrm{Le}^{2} s^{3} B_s^{mn-}{\\left(s \\right)} \\frac{d}{d s} H{\\left(s \\right)}}{2 \\omega H^{3}{\\left(s \\right)}} + \\frac{i \\mathrm{Le}^{2} s^{3} \\frac{d}{d s} B_s^{mn-}{\\left(s \\right)}}{2 \\omega H^{2}{\\left(s \\right)}} + \\frac{3 i \\mathrm{Le}^{2} s^{2} B_s^{mn-}{\\left(s \\right)}}{2 \\omega H^{2}{\\left(s \\right)}}\\right) + C_z^{mn+} \\left(\\frac{i \\mathrm{Le}^{2} s^{2} \\frac{d}{d s} B_z^{mn+}{\\left(s \\right)}}{2 \\omega H{\\left(s \\right)}} + \\frac{i \\mathrm{Le}^{2} s B_z^{mn+}{\\left(s \\right)}}{\\omega H{\\left(s \\right)}}\\right) + C_z^{mn-} \\left(- \\frac{i \\mathrm{Le}^{2} s^{2} \\frac{d}{d s} B_z^{mn-}{\\left(s \\right)}}{2 \\omega H{\\left(s \\right)}} - \\frac{i \\mathrm{Le}^{2} s B_z^{mn-}{\\left(s \\right)}}{\\omega H{\\left(s \\right)}}\\right) - \\frac{2 C_{\\Psi}^{mn} m \\Psi^{mn}{\\left(s \\right)} \\frac{d}{d s} H{\\left(s \\right)}}{\\omega H^{2}{\\left(s \\right)}} + \\frac{i C_{\\phi z}^{mn} \\mathrm{Le}^{2} m^{2} \\widetilde{M_{\\phi z}}^{mn}{\\left(s \\right)} \\frac{d}{d s} H{\\left(s \\right)}}{2 \\omega s H{\\left(s \\right)}} + C_{\\phi\\phi}^{mn} \\left(- \\frac{\\mathrm{Le}^{2} m \\frac{d}{d s} \\overline{M_{\\phi\\phi}}^{mn}{\\left(s \\right)}}{2 \\omega H{\\left(s \\right)}} - \\frac{\\mathrm{Le}^{2} m \\overline{M_{\\phi\\phi}}^{mn}{\\left(s \\right)}}{2 \\omega s H{\\left(s \\right)}}\\right) + \\frac{C_{e\\phi}^{mn} \\mathrm{Le}^{2} m s B_{e\\phi}^{mn}{\\left(s \\right)} \\frac{d}{d s} H{\\left(s \\right)}}{\\omega H{\\left(s \\right)}} - \\frac{2 i C_{es}^{mn} \\mathrm{Le}^{2} s B_{es}^{mn}{\\left(s \\right)} \\frac{d}{d s} H{\\left(s \\right)}}{\\omega H{\\left(s \\right)}} + C_{s\\phi}^{mn} \\left(\\frac{i \\mathrm{Le}^{2} m^{2} \\overline{M_{s\\phi}}^{mn}{\\left(s \\right)}}{2 \\omega s H{\\left(s \\right)}} + \\frac{i \\mathrm{Le}^{2} s \\frac{d^{2}}{d s^{2}} \\overline{M_{s\\phi}}^{mn}{\\left(s \\right)}}{2 \\omega H{\\left(s \\right)}} + \\frac{3 i \\mathrm{Le}^{2} \\frac{d}{d s} \\overline{M_{s\\phi}}^{mn}{\\left(s \\right)}}{2 \\omega H{\\left(s \\right)}}\\right) + C_{ss}^{mn} \\left(\\frac{\\mathrm{Le}^{2} m \\frac{d}{d s} \\overline{M_{ss}}^{mn}{\\left(s \\right)}}{2 \\omega H{\\left(s \\right)}} + \\frac{\\mathrm{Le}^{2} m \\overline{M_{ss}}^{mn}{\\left(s \\right)}}{2 \\omega s H{\\left(s \\right)}}\\right) + C_{sz}^{mn} \\left(\\frac{\\mathrm{Le}^{2} m \\frac{d}{d s} H{\\left(s \\right)} \\frac{d}{d s} \\widetilde{M_{sz}}^{mn}{\\left(s \\right)}}{2 \\omega H{\\left(s \\right)}} + \\frac{\\mathrm{Le}^{2} m \\widetilde{M_{sz}}^{mn}{\\left(s \\right)} \\frac{d}{d s} H{\\left(s \\right)}}{2 \\omega s H{\\left(s \\right)}}\\right)$"
      ],
      "text/plain": [
       "Eq(C_{\\Psi}^{mn}*(m**2*\\Psi^{mn}(s)*Derivative(H(s), s)/(2*H(s)**2) - m**2*\\Psi^{mn}(s)/(s*H(s)) + s*Derivative(\\Psi^{mn}(s), (s, 2))/H(s) - s*Derivative(H(s), s)*Derivative(\\Psi^{mn}(s), s)/H(s)**2 + Derivative(\\Psi^{mn}(s), s)/H(s)), C_s^{mn+}*(-I*\\mathrm{Le}**2*s**3*B_s^{mn+}(s)*Derivative(H(s), s)/(2*\\omega*H(s)**3) + I*\\mathrm{Le}**2*s**3*Derivative(B_s^{mn+}(s), s)/(2*\\omega*H(s)**2) + 3*I*\\mathrm{Le}**2*s**2*B_s^{mn+}(s)/(2*\\omega*H(s)**2)) + C_s^{mn-}*(-I*\\mathrm{Le}**2*s**3*B_s^{mn-}(s)*Derivative(H(s), s)/(2*\\omega*H(s)**3) + I*\\mathrm{Le}**2*s**3*Derivative(B_s^{mn-}(s), s)/(2*\\omega*H(s)**2) + 3*I*\\mathrm{Le}**2*s**2*B_s^{mn-}(s)/(2*\\omega*H(s)**2)) + C_z^{mn+}*(I*\\mathrm{Le}**2*s**2*Derivative(B_z^{mn+}(s), s)/(2*\\omega*H(s)) + I*\\mathrm{Le}**2*s*B_z^{mn+}(s)/(\\omega*H(s))) + C_z^{mn-}*(-I*\\mathrm{Le}**2*s**2*Derivative(B_z^{mn-}(s), s)/(2*\\omega*H(s)) - I*\\mathrm{Le}**2*s*B_z^{mn-}(s)/(\\omega*H(s))) - 2*C_{\\Psi}^{mn}*m*\\Psi^{mn}(s)*Derivative(H(s), s)/(\\omega*H(s)**2) + I*C_{\\phi z}^{mn}*\\mathrm{Le}**2*m**2*\\widetilde{M_{\\phi z}}^{mn}(s)*Derivative(H(s), s)/(2*\\omega*s*H(s)) + C_{\\phi\\phi}^{mn}*(-\\mathrm{Le}**2*m*Derivative(\\overline{M_{\\phi\\phi}}^{mn}(s), s)/(2*\\omega*H(s)) - \\mathrm{Le}**2*m*\\overline{M_{\\phi\\phi}}^{mn}(s)/(2*\\omega*s*H(s))) + C_{e\\phi}^{mn}*\\mathrm{Le}**2*m*s*B_{e\\phi}^{mn}(s)*Derivative(H(s), s)/(\\omega*H(s)) - 2*I*C_{es}^{mn}*\\mathrm{Le}**2*s*B_{es}^{mn}(s)*Derivative(H(s), s)/(\\omega*H(s)) + C_{s\\phi}^{mn}*(I*\\mathrm{Le}**2*m**2*\\overline{M_{s\\phi}}^{mn}(s)/(2*\\omega*s*H(s)) + I*\\mathrm{Le}**2*s*Derivative(\\overline{M_{s\\phi}}^{mn}(s), (s, 2))/(2*\\omega*H(s)) + 3*I*\\mathrm{Le}**2*Derivative(\\overline{M_{s\\phi}}^{mn}(s), s)/(2*\\omega*H(s))) + C_{ss}^{mn}*(\\mathrm{Le}**2*m*Derivative(\\overline{M_{ss}}^{mn}(s), s)/(2*\\omega*H(s)) + \\mathrm{Le}**2*m*\\overline{M_{ss}}^{mn}(s)/(2*\\omega*s*H(s))) + C_{sz}^{mn}*(\\mathrm{Le}**2*m*Derivative(H(s), s)*Derivative(\\widetilde{M_{sz}}^{mn}(s), s)/(2*\\omega*H(s)) + \\mathrm{Le}**2*m*\\widetilde{M_{sz}}^{mn}(s)*Derivative(H(s), s)/(2*\\omega*s*H(s))))"
      ]
     },
     "execution_count": 11,
     "metadata": {},
     "output_type": "execute_result"
    }
   ],
   "source": [
    "eq_lhs, eq_rhs = pg_eqns.vorticity_var_lin, pg_eqns.vorticity_forcing_lin\n",
    "eq_lhs, eq_rhs = eq_lhs.subs(bg_field_sub), eq_rhs.subs(forcing_subs).subs(bg_field_sub)\n",
    "common_factor = sympy.I*pg_expand.omega\n",
    "eq_vorticity = sympy.Eq(\n",
    "    pg_expand.sort_coeffs((pg_expand.fourier_domain(eq_lhs)/common_factor).expand()),\n",
    "    pg_expand.sort_coeffs((pg_expand.fourier_domain(eq_rhs)/common_factor).expand())\n",
    ")\n",
    "eq_vorticity"
   ]
  },
  {
   "cell_type": "markdown",
   "id": "625e2856-ef12-4943-bea5-6cf3deead6f6",
   "metadata": {},
   "source": [
    "#### Induction equation"
   ]
  },
  {
   "cell_type": "code",
   "execution_count": 126,
   "id": "c548d6c7-b0ed-4f88-ad80-c70974acff12",
   "metadata": {},
   "outputs": [
    {
     "data": {
      "text/latex": [
       "$\\displaystyle C_{s\\phi}^{mn} \\overline{M_{s\\phi}}^{mn}{\\left(s \\right)} = C_{\\psi}^{mn} \\left(\\frac{16 i m^{2} s^{4} \\psi^{mn}{\\left(s \\right)}}{15 \\omega} - \\frac{32 i m^{2} s^{2} \\psi^{mn}{\\left(s \\right)}}{15 \\omega} + \\frac{16 i m^{2} \\psi^{mn}{\\left(s \\right)}}{15 \\omega}\\right)$"
      ],
      "text/plain": [
       "Eq(C_{s\\phi}^{mn}*\\overline{M_{s\\phi}}^{mn}(s), C_{\\psi}^{mn}*(16*I*m**2*s**4*\\psi^{mn}(s)/(15*\\omega) - 32*I*m**2*s**2*\\psi^{mn}(s)/(15*\\omega) + 16*I*m**2*\\psi^{mn}(s)/(15*\\omega)))"
      ]
     },
     "execution_count": 126,
     "metadata": {},
     "output_type": "execute_result"
    }
   ],
   "source": [
    "eq_lhs, eq_rhs = diff(pg_fields.msp, pg_fields.t), pg_eqns.evo_msp\n",
    "eq_lhs, eq_rhs = eq_lhs.subs(bg_field_sub), eq_rhs.subs(bg_field_sub)\n",
    "common_factor = sympy.I*pg_expand.omega\n",
    "eq_view = sympy.Eq(\n",
    "    pg_expand.sort_coeffs((pg_expand.fourier_domain(eq_lhs)/common_factor).expand()),\n",
    "    pg_expand.sort_coeffs((pg_expand.fourier_domain(eq_rhs)/common_factor).subs({pg_fields.H: pg_fields.H_s}).doit().simplify().expand())\n",
    ")\n",
    "eq_view"
   ]
  },
  {
   "cell_type": "markdown",
   "id": "08dc89a1-10d4-4534-85f2-71fcac7534bf",
   "metadata": {},
   "source": [
    "- Boundary induction eq"
   ]
  },
  {
   "cell_type": "code",
   "execution_count": 12,
   "id": "b5dc8795-f1bb-421b-9390-e09330e95dbb",
   "metadata": {},
   "outputs": [
    {
     "data": {
      "text/latex": [
       "$\\displaystyle C_s^{mn+} B_s^{mn+}{\\left(s \\right)} = \\frac{i C_{\\Psi}^{mn} m^{2} \\Psi^{mn}{\\left(s \\right)}}{\\omega s \\sqrt{1 - s^{2}}}$"
      ],
      "text/plain": [
       "Eq(C_s^{mn+}*B_s^{mn+}(s), I*C_{\\Psi}^{mn}*m**2*\\Psi^{mn}(s)/(\\omega*s*sqrt(1 - s**2)))"
      ]
     },
     "metadata": {},
     "output_type": "display_data"
    },
    {
     "data": {
      "text/latex": [
       "$\\displaystyle C_\\phi^{mn+} B_\\phi^{mn+}{\\left(s \\right)} = - \\frac{C_{\\Psi}^{mn} m \\frac{d}{d s} \\Psi^{mn}{\\left(s \\right)}}{\\omega \\sqrt{1 - s^{2}}}$"
      ],
      "text/plain": [
       "Eq(C_\\phi^{mn+}*B_\\phi^{mn+}(s), -C_{\\Psi}^{mn}*m*Derivative(\\Psi^{mn}(s), s)/(\\omega*sqrt(1 - s**2)))"
      ]
     },
     "metadata": {},
     "output_type": "display_data"
    },
    {
     "data": {
      "text/latex": [
       "$\\displaystyle C_z^{mn+} B_z^{mn+}{\\left(s \\right)} = - \\frac{i C_{\\Psi}^{mn} m^{2} \\Psi^{mn}{\\left(s \\right)}}{\\omega \\left(1 - s^{2}\\right)}$"
      ],
      "text/plain": [
       "Eq(C_z^{mn+}*B_z^{mn+}(s), -I*C_{\\Psi}^{mn}*m**2*\\Psi^{mn}(s)/(\\omega*(1 - s**2)))"
      ]
     },
     "metadata": {},
     "output_type": "display_data"
    },
    {
     "data": {
      "text/latex": [
       "$\\displaystyle C_s^{mn-} B_s^{mn-}{\\left(s \\right)} = \\frac{i C_{\\Psi}^{mn} m^{2} \\Psi^{mn}{\\left(s \\right)}}{\\omega s \\sqrt{1 - s^{2}}}$"
      ],
      "text/plain": [
       "Eq(C_s^{mn-}*B_s^{mn-}(s), I*C_{\\Psi}^{mn}*m**2*\\Psi^{mn}(s)/(\\omega*s*sqrt(1 - s**2)))"
      ]
     },
     "metadata": {},
     "output_type": "display_data"
    },
    {
     "data": {
      "text/latex": [
       "$\\displaystyle C_\\phi^{mn-} B_\\phi^{mn-}{\\left(s \\right)} = - \\frac{C_{\\Psi}^{mn} m \\frac{d}{d s} \\Psi^{mn}{\\left(s \\right)}}{\\omega \\sqrt{1 - s^{2}}}$"
      ],
      "text/plain": [
       "Eq(C_\\phi^{mn-}*B_\\phi^{mn-}(s), -C_{\\Psi}^{mn}*m*Derivative(\\Psi^{mn}(s), s)/(\\omega*sqrt(1 - s**2)))"
      ]
     },
     "metadata": {},
     "output_type": "display_data"
    },
    {
     "data": {
      "text/latex": [
       "$\\displaystyle C_z^{mn-} B_z^{mn-}{\\left(s \\right)} = \\frac{i C_{\\Psi}^{mn} m^{2} \\Psi^{mn}{\\left(s \\right)}}{\\omega \\left(1 - s^{2}\\right)}$"
      ],
      "text/plain": [
       "Eq(C_z^{mn-}*B_z^{mn-}(s), I*C_{\\Psi}^{mn}*m**2*\\Psi^{mn}(s)/(\\omega*(1 - s**2)))"
      ]
     },
     "metadata": {},
     "output_type": "display_data"
    }
   ],
   "source": [
    "bfield_sub = {\n",
    "    pg_fields.Bs0: B_bg[0],\n",
    "    pg_fields.Bp0: B_bg[1],\n",
    "    pg_fields.Bz0: B_bg[2]\n",
    "}\n",
    "common_factor = sympy.I*pg_expand.omega\n",
    "eq_boundary = [\n",
    "    sympy.Eq(pg_expand.C_Bs_p*pg_expand.basis_Bs_p, pg_expand.fourier_domain(pg_eqns.evo_bs.subs(bfield_sub)).subs({z: H_s})/common_factor).subs({H: H_s}).doit(),\n",
    "    sympy.Eq(pg_expand.C_Bp_p*pg_expand.basis_Bp_p, pg_expand.fourier_domain(pg_eqns.evo_bp.subs(bfield_sub)).subs({z: H_s})/common_factor).subs({H: H_s}).doit(),\n",
    "    sympy.Eq(pg_expand.C_Bz_p*pg_expand.basis_Bz_p, pg_expand.fourier_domain(pg_eqns.evo_bz.subs(bfield_sub)).subs({z: H_s})/common_factor).subs({H: H_s}).doit(),\n",
    "    sympy.Eq(pg_expand.C_Bs_m*pg_expand.basis_Bs_m, pg_expand.fourier_domain(pg_eqns.evo_bs.subs(bfield_sub)).subs({z: -H_s})/common_factor).subs({H: H_s}).doit(),\n",
    "    sympy.Eq(pg_expand.C_Bp_m*pg_expand.basis_Bp_m, pg_expand.fourier_domain(pg_eqns.evo_bp.subs(bfield_sub)).subs({z: -H_s})/common_factor).subs({H: H_s}).doit(),\n",
    "    sympy.Eq(pg_expand.C_Bz_m*pg_expand.basis_Bz_m, pg_expand.fourier_domain(pg_eqns.evo_bz.subs(bfield_sub)).subs({z: -H_s})/common_factor).subs({H: H_s}).doit()\n",
    "]\n",
    "display(*eq_boundary)"
   ]
  },
  {
   "cell_type": "markdown",
   "id": "8e8b4c67-5b9b-42a8-81d7-a1f9651de9b2",
   "metadata": {},
   "source": [
    "#### Eq collection"
   ]
  },
  {
   "cell_type": "code",
   "execution_count": 13,
   "id": "170c51f7-6659-412a-872c-7456b788b23b",
   "metadata": {},
   "outputs": [
    {
     "data": {
      "text/latex": [
       "$\\displaystyle C_{\\Psi}^{mn} \\left(- \\frac{m^{2} s \\Psi^{mn}{\\left(s \\right)}}{2 \\left(1 - s^{2}\\right)^{\\frac{3}{2}}} - \\frac{m^{2} \\Psi^{mn}{\\left(s \\right)}}{s \\sqrt{1 - s^{2}}} + \\frac{s^{2} \\frac{d}{d s} \\Psi^{mn}{\\left(s \\right)}}{\\left(1 - s^{2}\\right)^{\\frac{3}{2}}} + \\frac{s \\frac{d^{2}}{d s^{2}} \\Psi^{mn}{\\left(s \\right)}}{\\sqrt{1 - s^{2}}} + \\frac{\\frac{d}{d s} \\Psi^{mn}{\\left(s \\right)}}{\\sqrt{1 - s^{2}}}\\right) = C_s^{mn+} \\left(\\frac{i \\mathrm{Le}^{2} s^{4} B_s^{mn+}{\\left(s \\right)}}{2 \\omega \\left(1 - s^{2}\\right)^{2}} + \\frac{i \\mathrm{Le}^{2} s^{3} \\frac{d}{d s} B_s^{mn+}{\\left(s \\right)}}{2 \\omega \\left(1 - s^{2}\\right)} + \\frac{3 i \\mathrm{Le}^{2} s^{2} B_s^{mn+}{\\left(s \\right)}}{2 \\omega \\left(1 - s^{2}\\right)}\\right) + C_s^{mn-} \\left(\\frac{i \\mathrm{Le}^{2} s^{4} B_s^{mn-}{\\left(s \\right)}}{2 \\omega \\left(1 - s^{2}\\right)^{2}} + \\frac{i \\mathrm{Le}^{2} s^{3} \\frac{d}{d s} B_s^{mn-}{\\left(s \\right)}}{2 \\omega \\left(1 - s^{2}\\right)} + \\frac{3 i \\mathrm{Le}^{2} s^{2} B_s^{mn-}{\\left(s \\right)}}{2 \\omega \\left(1 - s^{2}\\right)}\\right) + C_z^{mn+} \\left(\\frac{i \\mathrm{Le}^{2} s^{2} \\frac{d}{d s} B_z^{mn+}{\\left(s \\right)}}{2 \\omega \\sqrt{1 - s^{2}}} + \\frac{i \\mathrm{Le}^{2} s B_z^{mn+}{\\left(s \\right)}}{\\omega \\sqrt{1 - s^{2}}}\\right) + C_z^{mn-} \\left(- \\frac{i \\mathrm{Le}^{2} s^{2} \\frac{d}{d s} B_z^{mn-}{\\left(s \\right)}}{2 \\omega \\sqrt{1 - s^{2}}} - \\frac{i \\mathrm{Le}^{2} s B_z^{mn-}{\\left(s \\right)}}{\\omega \\sqrt{1 - s^{2}}}\\right) + \\frac{2 C_{\\Psi}^{mn} m s \\Psi^{mn}{\\left(s \\right)}}{\\omega \\left(1 - s^{2}\\right)^{\\frac{3}{2}}} - \\frac{i C_{\\phi z}^{mn} \\mathrm{Le}^{2} m^{2} \\widetilde{M_{\\phi z}}^{mn}{\\left(s \\right)}}{2 \\omega \\left(1 - s^{2}\\right)} + C_{\\phi\\phi}^{mn} \\left(- \\frac{\\mathrm{Le}^{2} m \\frac{d}{d s} \\overline{M_{\\phi\\phi}}^{mn}{\\left(s \\right)}}{2 \\omega \\sqrt{1 - s^{2}}} - \\frac{\\mathrm{Le}^{2} m \\overline{M_{\\phi\\phi}}^{mn}{\\left(s \\right)}}{2 \\omega s \\sqrt{1 - s^{2}}}\\right) - \\frac{C_{e\\phi}^{mn} \\mathrm{Le}^{2} m s^{2} B_{e\\phi}^{mn}{\\left(s \\right)}}{\\omega \\left(1 - s^{2}\\right)} + \\frac{2 i C_{es}^{mn} \\mathrm{Le}^{2} s^{2} B_{es}^{mn}{\\left(s \\right)}}{\\omega \\left(1 - s^{2}\\right)} + C_{s\\phi}^{mn} \\left(\\frac{i \\mathrm{Le}^{2} m^{2} \\overline{M_{s\\phi}}^{mn}{\\left(s \\right)}}{2 \\omega s \\sqrt{1 - s^{2}}} + \\frac{i \\mathrm{Le}^{2} s \\frac{d^{2}}{d s^{2}} \\overline{M_{s\\phi}}^{mn}{\\left(s \\right)}}{2 \\omega \\sqrt{1 - s^{2}}} + \\frac{3 i \\mathrm{Le}^{2} \\frac{d}{d s} \\overline{M_{s\\phi}}^{mn}{\\left(s \\right)}}{2 \\omega \\sqrt{1 - s^{2}}}\\right) + C_{ss}^{mn} \\left(\\frac{\\mathrm{Le}^{2} m \\frac{d}{d s} \\overline{M_{ss}}^{mn}{\\left(s \\right)}}{2 \\omega \\sqrt{1 - s^{2}}} + \\frac{\\mathrm{Le}^{2} m \\overline{M_{ss}}^{mn}{\\left(s \\right)}}{2 \\omega s \\sqrt{1 - s^{2}}}\\right) + C_{sz}^{mn} \\left(- \\frac{\\mathrm{Le}^{2} m s \\frac{d}{d s} \\widetilde{M_{sz}}^{mn}{\\left(s \\right)}}{2 \\omega \\left(1 - s^{2}\\right)} - \\frac{\\mathrm{Le}^{2} m \\widetilde{M_{sz}}^{mn}{\\left(s \\right)}}{2 \\omega \\left(1 - s^{2}\\right)}\\right)$"
      ],
      "text/plain": [
       "Eq(C_{\\Psi}^{mn}*(-m**2*s*\\Psi^{mn}(s)/(2*(1 - s**2)**(3/2)) - m**2*\\Psi^{mn}(s)/(s*sqrt(1 - s**2)) + s**2*Derivative(\\Psi^{mn}(s), s)/(1 - s**2)**(3/2) + s*Derivative(\\Psi^{mn}(s), (s, 2))/sqrt(1 - s**2) + Derivative(\\Psi^{mn}(s), s)/sqrt(1 - s**2)), C_s^{mn+}*(I*\\mathrm{Le}**2*s**4*B_s^{mn+}(s)/(2*\\omega*(1 - s**2)**2) + I*\\mathrm{Le}**2*s**3*Derivative(B_s^{mn+}(s), s)/(2*\\omega*(1 - s**2)) + 3*I*\\mathrm{Le}**2*s**2*B_s^{mn+}(s)/(2*\\omega*(1 - s**2))) + C_s^{mn-}*(I*\\mathrm{Le}**2*s**4*B_s^{mn-}(s)/(2*\\omega*(1 - s**2)**2) + I*\\mathrm{Le}**2*s**3*Derivative(B_s^{mn-}(s), s)/(2*\\omega*(1 - s**2)) + 3*I*\\mathrm{Le}**2*s**2*B_s^{mn-}(s)/(2*\\omega*(1 - s**2))) + C_z^{mn+}*(I*\\mathrm{Le}**2*s**2*Derivative(B_z^{mn+}(s), s)/(2*\\omega*sqrt(1 - s**2)) + I*\\mathrm{Le}**2*s*B_z^{mn+}(s)/(\\omega*sqrt(1 - s**2))) + C_z^{mn-}*(-I*\\mathrm{Le}**2*s**2*Derivative(B_z^{mn-}(s), s)/(2*\\omega*sqrt(1 - s**2)) - I*\\mathrm{Le}**2*s*B_z^{mn-}(s)/(\\omega*sqrt(1 - s**2))) + 2*C_{\\Psi}^{mn}*m*s*\\Psi^{mn}(s)/(\\omega*(1 - s**2)**(3/2)) - I*C_{\\phi z}^{mn}*\\mathrm{Le}**2*m**2*\\widetilde{M_{\\phi z}}^{mn}(s)/(2*\\omega*(1 - s**2)) + C_{\\phi\\phi}^{mn}*(-\\mathrm{Le}**2*m*Derivative(\\overline{M_{\\phi\\phi}}^{mn}(s), s)/(2*\\omega*sqrt(1 - s**2)) - \\mathrm{Le}**2*m*\\overline{M_{\\phi\\phi}}^{mn}(s)/(2*\\omega*s*sqrt(1 - s**2))) - C_{e\\phi}^{mn}*\\mathrm{Le}**2*m*s**2*B_{e\\phi}^{mn}(s)/(\\omega*(1 - s**2)) + 2*I*C_{es}^{mn}*\\mathrm{Le}**2*s**2*B_{es}^{mn}(s)/(\\omega*(1 - s**2)) + C_{s\\phi}^{mn}*(I*\\mathrm{Le}**2*m**2*\\overline{M_{s\\phi}}^{mn}(s)/(2*\\omega*s*sqrt(1 - s**2)) + I*\\mathrm{Le}**2*s*Derivative(\\overline{M_{s\\phi}}^{mn}(s), (s, 2))/(2*\\omega*sqrt(1 - s**2)) + 3*I*\\mathrm{Le}**2*Derivative(\\overline{M_{s\\phi}}^{mn}(s), s)/(2*\\omega*sqrt(1 - s**2))) + C_{ss}^{mn}*(\\mathrm{Le}**2*m*Derivative(\\overline{M_{ss}}^{mn}(s), s)/(2*\\omega*sqrt(1 - s**2)) + \\mathrm{Le}**2*m*\\overline{M_{ss}}^{mn}(s)/(2*\\omega*s*sqrt(1 - s**2))) + C_{sz}^{mn}*(-\\mathrm{Le}**2*m*s*Derivative(\\widetilde{M_{sz}}^{mn}(s), s)/(2*\\omega*(1 - s**2)) - \\mathrm{Le}**2*m*\\widetilde{M_{sz}}^{mn}(s)/(2*\\omega*(1 - s**2))))"
      ]
     },
     "metadata": {},
     "output_type": "display_data"
    },
    {
     "data": {
      "text/latex": [
       "$\\displaystyle C_{ss}^{mn} \\overline{M_{ss}}^{mn}{\\left(s \\right)} = 0$"
      ],
      "text/plain": [
       "Eq(C_{ss}^{mn}*\\overline{M_{ss}}^{mn}(s), 0)"
      ]
     },
     "metadata": {},
     "output_type": "display_data"
    },
    {
     "data": {
      "text/latex": [
       "$\\displaystyle C_{\\phi\\phi}^{mn} \\overline{M_{\\phi\\phi}}^{mn}{\\left(s \\right)} = - \\frac{4 C_{\\Psi}^{mn} m s \\frac{d}{d s} \\Psi^{mn}{\\left(s \\right)}}{\\omega}$"
      ],
      "text/plain": [
       "Eq(C_{\\phi\\phi}^{mn}*\\overline{M_{\\phi\\phi}}^{mn}(s), -4*C_{\\Psi}^{mn}*m*s*Derivative(\\Psi^{mn}(s), s)/\\omega)"
      ]
     },
     "metadata": {},
     "output_type": "display_data"
    },
    {
     "data": {
      "text/latex": [
       "$\\displaystyle C_{s\\phi}^{mn} \\overline{M_{s\\phi}}^{mn}{\\left(s \\right)} = \\frac{2 i C_{\\Psi}^{mn} m^{2} \\Psi^{mn}{\\left(s \\right)}}{\\omega}$"
      ],
      "text/plain": [
       "Eq(C_{s\\phi}^{mn}*\\overline{M_{s\\phi}}^{mn}(s), 2*I*C_{\\Psi}^{mn}*m**2*\\Psi^{mn}(s)/\\omega)"
      ]
     },
     "metadata": {},
     "output_type": "display_data"
    },
    {
     "data": {
      "text/latex": [
       "$\\displaystyle C_{sz}^{mn} \\widetilde{M_{sz}}^{mn}{\\left(s \\right)} = 0$"
      ],
      "text/plain": [
       "Eq(C_{sz}^{mn}*\\widetilde{M_{sz}}^{mn}(s), 0)"
      ]
     },
     "metadata": {},
     "output_type": "display_data"
    },
    {
     "data": {
      "text/latex": [
       "$\\displaystyle C_{\\phi z}^{mn} \\widetilde{M_{\\phi z}}^{mn}{\\left(s \\right)} = - \\frac{i C_{\\Psi}^{mn} m^{2} s \\Psi^{mn}{\\left(s \\right)}}{\\omega \\sqrt{1 - s^{2}}}$"
      ],
      "text/plain": [
       "Eq(C_{\\phi z}^{mn}*\\widetilde{M_{\\phi z}}^{mn}(s), -I*C_{\\Psi}^{mn}*m**2*s*\\Psi^{mn}(s)/(\\omega*sqrt(1 - s**2)))"
      ]
     },
     "metadata": {},
     "output_type": "display_data"
    },
    {
     "data": {
      "text/latex": [
       "$\\displaystyle C_{zss}^{mn} \\widetilde{zM_{ss}}^{mn}{\\left(s \\right)} = 0$"
      ],
      "text/plain": [
       "Eq(C_{zss}^{mn}*\\widetilde{zM_{ss}}^{mn}(s), 0)"
      ]
     },
     "metadata": {},
     "output_type": "display_data"
    },
    {
     "data": {
      "text/latex": [
       "$\\displaystyle C_{z\\phi\\phi}^{mn} \\widetilde{zM_{\\phi\\phi}}^{mn}{\\left(s \\right)} = - \\frac{2 C_{\\Psi}^{mn} m s \\sqrt{1 - s^{2}} \\frac{d}{d s} \\Psi^{mn}{\\left(s \\right)}}{\\omega}$"
      ],
      "text/plain": [
       "Eq(C_{z\\phi\\phi}^{mn}*\\widetilde{zM_{\\phi\\phi}}^{mn}(s), -2*C_{\\Psi}^{mn}*m*s*sqrt(1 - s**2)*Derivative(\\Psi^{mn}(s), s)/\\omega)"
      ]
     },
     "metadata": {},
     "output_type": "display_data"
    },
    {
     "data": {
      "text/latex": [
       "$\\displaystyle C_{zs\\phi}^{mn} \\widetilde{zM_{\\phi s}}^{mn}{\\left(s \\right)} = \\frac{i C_{\\Psi}^{mn} m^{2} \\sqrt{1 - s^{2}} \\Psi^{mn}{\\left(s \\right)}}{\\omega}$"
      ],
      "text/plain": [
       "Eq(C_{zs\\phi}^{mn}*\\widetilde{zM_{\\phi s}}^{mn}(s), I*C_{\\Psi}^{mn}*m**2*sqrt(1 - s**2)*\\Psi^{mn}(s)/\\omega)"
      ]
     },
     "metadata": {},
     "output_type": "display_data"
    },
    {
     "data": {
      "text/latex": [
       "$\\displaystyle C_{es}^{mn} B_{es}^{mn}{\\left(s \\right)} = \\frac{i C_{\\Psi}^{mn} m^{2} \\Psi^{mn}{\\left(s \\right)}}{\\omega s \\sqrt{1 - s^{2}}}$"
      ],
      "text/plain": [
       "Eq(C_{es}^{mn}*B_{es}^{mn}(s), I*C_{\\Psi}^{mn}*m**2*\\Psi^{mn}(s)/(\\omega*s*sqrt(1 - s**2)))"
      ]
     },
     "metadata": {},
     "output_type": "display_data"
    },
    {
     "data": {
      "text/latex": [
       "$\\displaystyle C_{e\\phi}^{mn} B_{e\\phi}^{mn}{\\left(s \\right)} = - \\frac{C_{\\Psi}^{mn} m \\frac{d}{d s} \\Psi^{mn}{\\left(s \\right)}}{\\omega \\sqrt{1 - s^{2}}}$"
      ],
      "text/plain": [
       "Eq(C_{e\\phi}^{mn}*B_{e\\phi}^{mn}(s), -C_{\\Psi}^{mn}*m*Derivative(\\Psi^{mn}(s), s)/(\\omega*sqrt(1 - s**2)))"
      ]
     },
     "metadata": {},
     "output_type": "display_data"
    },
    {
     "data": {
      "text/latex": [
       "$\\displaystyle C_{ez}^{mn} B_{ez}^{mn}{\\left(s \\right)} = 0$"
      ],
      "text/plain": [
       "Eq(C_{ez}^{mn}*B_{ez}^{mn}(s), 0)"
      ]
     },
     "metadata": {},
     "output_type": "display_data"
    },
    {
     "data": {
      "text/latex": [
       "$\\displaystyle C_{es,z}^{mn} B_{es, z}^{mn}{\\left(s \\right)} = 0$"
      ],
      "text/plain": [
       "Eq(C_{es,z}^{mn}*B_{es, z}^{mn}(s), 0)"
      ]
     },
     "metadata": {},
     "output_type": "display_data"
    },
    {
     "data": {
      "text/latex": [
       "$\\displaystyle C_{e\\phi,z}^{mn} B_{e\\phi, z}^{mn}{\\left(s \\right)} = 0$"
      ],
      "text/plain": [
       "Eq(C_{e\\phi,z}^{mn}*B_{e\\phi, z}^{mn}(s), 0)"
      ]
     },
     "metadata": {},
     "output_type": "display_data"
    }
   ],
   "source": [
    "eqns_s = list()\n",
    "eqns_s.append(eq_vorticity.subs({pg_fields.H: pg_fields.H_s}).doit())\n",
    "\n",
    "for fname in list_field_names_lin[1:]:\n",
    "    eq_tmp = getattr(pg_eqns.eqs_induction_lin, fname)\n",
    "    eq_lhs, eq_rhs = eq_tmp.lhs, eq_tmp.rhs\n",
    "    eq_lhs, eq_rhs = eq_lhs.subs(bg_field_sub), eq_rhs.subs(bg_field_sub)\n",
    "    common_factor = sympy.I*pg_expand.omega\n",
    "    eqns_s.append(sympy.Eq(\n",
    "        pg_expand.sort_coeffs((pg_expand.fourier_domain(eq_lhs)/common_factor).expand()),\n",
    "        pg_expand.sort_coeffs((pg_expand.fourier_domain(eq_rhs)/common_factor).subs({pg_fields.H: pg_fields.H_s}).doit().simplify().expand())))\n",
    "\n",
    "display(*eqns_s)"
   ]
  },
  {
   "cell_type": "markdown",
   "id": "08191057-dc47-4bfa-b6c3-d988a0108d88",
   "metadata": {},
   "source": [
    "#### Optional: system reduction\n",
    "\n",
    "Merging into one vorticity equatio"
   ]
  },
  {
   "cell_type": "code",
   "execution_count": 16,
   "id": "af5397dd-00bc-4eab-b606-1f104c40ce46",
   "metadata": {},
   "outputs": [
    {
     "data": {
      "text/latex": [
       "$\\displaystyle - \\frac{m^{2} s \\Psi^{mn}{\\left(s \\right)}}{2 H^{3}{\\left(s \\right)}} - \\frac{m^{2} \\Psi^{mn}{\\left(s \\right)}}{s H{\\left(s \\right)}} + \\frac{s^{2} \\frac{d}{d s} \\Psi^{mn}{\\left(s \\right)}}{H^{3}{\\left(s \\right)}} + \\frac{s \\frac{d^{2}}{d s^{2}} \\Psi^{mn}{\\left(s \\right)}}{H{\\left(s \\right)}} + \\frac{\\frac{d}{d s} \\Psi^{mn}{\\left(s \\right)}}{H{\\left(s \\right)}} = - \\frac{\\mathrm{Le}^{2} m^{4} s \\Psi^{mn}{\\left(s \\right)}}{2 \\omega^{2} H^{3}{\\left(s \\right)}} - \\frac{\\mathrm{Le}^{2} m^{4} \\Psi^{mn}{\\left(s \\right)}}{\\omega^{2} s H{\\left(s \\right)}} + \\frac{\\mathrm{Le}^{2} m^{2} s^{2} \\frac{d}{d s} \\Psi^{mn}{\\left(s \\right)}}{\\omega^{2} H^{3}{\\left(s \\right)}} + \\frac{\\mathrm{Le}^{2} m^{2} s \\frac{d^{2}}{d s^{2}} \\Psi^{mn}{\\left(s \\right)}}{\\omega^{2} H{\\left(s \\right)}} - \\frac{2 \\mathrm{Le}^{2} m^{2} s \\Psi^{mn}{\\left(s \\right)}}{\\omega^{2} H^{3}{\\left(s \\right)}} + \\frac{\\mathrm{Le}^{2} m^{2} \\frac{d}{d s} \\Psi^{mn}{\\left(s \\right)}}{\\omega^{2} H{\\left(s \\right)}} + \\frac{2 m s \\Psi^{mn}{\\left(s \\right)}}{\\omega H^{3}{\\left(s \\right)}}$"
      ],
      "text/plain": [
       "Eq(-m**2*s*\\Psi^{mn}(s)/(2*H(s)**3) - m**2*\\Psi^{mn}(s)/(s*H(s)) + s**2*Derivative(\\Psi^{mn}(s), s)/H(s)**3 + s*Derivative(\\Psi^{mn}(s), (s, 2))/H(s) + Derivative(\\Psi^{mn}(s), s)/H(s), -\\mathrm{Le}**2*m**4*s*\\Psi^{mn}(s)/(2*\\omega**2*H(s)**3) - \\mathrm{Le}**2*m**4*\\Psi^{mn}(s)/(\\omega**2*s*H(s)) + \\mathrm{Le}**2*m**2*s**2*Derivative(\\Psi^{mn}(s), s)/(\\omega**2*H(s)**3) + \\mathrm{Le}**2*m**2*s*Derivative(\\Psi^{mn}(s), (s, 2))/(\\omega**2*H(s)) - 2*\\mathrm{Le}**2*m**2*s*\\Psi^{mn}(s)/(\\omega**2*H(s)**3) + \\mathrm{Le}**2*m**2*Derivative(\\Psi^{mn}(s), s)/(\\omega**2*H(s)) + 2*m*s*\\Psi^{mn}(s)/(\\omega*H(s)**3))"
      ]
     },
     "execution_count": 16,
     "metadata": {},
     "output_type": "execute_result"
    }
   ],
   "source": [
    "mag_to_psi = {pg_expand.list_s_basis[i]: eqns_s[i].rhs/pg_expand.list_coeffs_fields[i] for i in range(1, len(eqns_s))}\n",
    "mag_to_psi.update({pg_expand.list_s_basis_boundary_cyl[i]: eq_boundary[i].rhs/pg_expand.list_coeffs_boundary_cyl[i] for i in range(len(eq_boundary))})\n",
    "\n",
    "reduced_rhs = eqns_s[0].rhs.subs(mag_to_psi).doit()\n",
    "reduced_rhs = reduced_rhs.subs({H_s: H}).expand()\n",
    "\n",
    "reduced_eq = sympy.Eq(eqns_s[0].lhs.subs({H_s: H})/pg_expand.C_Psi, pg_expand.sort_coeffs(reduced_rhs)/pg_expand.C_Psi)\n",
    "reduced_eq"
   ]
  },
  {
   "cell_type": "markdown",
   "id": "ffe4034d-4940-4b6c-8214-baeb0a1959f1",
   "metadata": {},
   "source": [
    "### Radial basis"
   ]
  },
  {
   "cell_type": "code",
   "execution_count": 17,
   "id": "0243d636-eaa7-4df5-8260-5a056e769613",
   "metadata": {},
   "outputs": [],
   "source": [
    "basis_set = pg_expand.Basis_std"
   ]
  },
  {
   "cell_type": "markdown",
   "id": "4781ddc9-def1-4e4a-8ad8-ad07fadefd71",
   "metadata": {},
   "source": [
    "- Then visualize one function\n",
    "- Optionally, one can assign a specific m"
   ]
  },
  {
   "cell_type": "code",
   "execution_count": 16,
   "id": "dda0a406-63d0-4a37-8a62-b21c1ade835b",
   "metadata": {},
   "outputs": [
    {
     "data": {
      "text/latex": [
       "$\\displaystyle \\overline{M_{ss}}^{mn}{\\left(s \\right)} = \\sqrt{1 - s^{2}} \\left(\\begin{cases} 1 & \\text{for}\\: m = 0 \\\\s & \\text{for}\\: \\left|{m}\\right| = 1 \\\\s^{\\left|{m}\\right| - 2} & \\text{for}\\: \\left|{m}\\right| > 1 \\end{cases}\\right) P_{n}^{\\left(1,\\begin{cases} - \\frac{1}{2} & \\text{for}\\: m = 0 \\\\\\frac{1}{2} & \\text{for}\\: \\left|{m}\\right| = 1 \\\\\\left|{m}\\right| - \\frac{5}{2} & \\text{for}\\: \\left|{m}\\right| > 1 \\end{cases}\\right)}\\left(2 s^{2} - 1\\right)$"
      ],
      "text/plain": [
       "Eq(\\overline{M_{ss}}^{mn}(s), sqrt(1 - s**2)*Piecewise((1, Eq(m, 0)), (s, Eq(Abs(m), 1)), (s**(Abs(m) - 2), Abs(m) > 1))*jacobi(n, 1, Piecewise((-1/2, Eq(m, 0)), (1/2, Eq(Abs(m), 1)), (Abs(m) - 5/2, Abs(m) > 1)), 2*s**2 - 1))"
      ]
     },
     "execution_count": 16,
     "metadata": {},
     "output_type": "execute_result"
    }
   ],
   "source": [
    "# The overall form\n",
    "sympy.Eq(pg_expand.basis_Mss, basis_set.trial_Mss)\n",
    "\n",
    "# The form with specific m\n",
    "# m_val = 0\n",
    "# sympy.Eq(pg_expand.basis_Mss.subs({pg_fields.m: m_val}), pg_expand.basisfun_Mss.subs({pg_fields.m: m_val}))"
   ]
  },
  {
   "cell_type": "markdown",
   "id": "a4a42ba7-2e5e-481c-a779-ed54884c2806",
   "metadata": {},
   "source": [
    "## Eigenvalue problem using full system"
   ]
  },
  {
   "cell_type": "code",
   "execution_count": 34,
   "id": "727f0cda-a6e9-4150-8013-00a45380c19a",
   "metadata": {},
   "outputs": [],
   "source": [
    "from sympy.integrals import quadrature as quad\n",
    "\n",
    "m_val = 3\n",
    "azm_val = {m: m_val}\n",
    "par_val = {params.Le: 1e-4, params.Lu: 1e-3}\n",
    "\n",
    "Nmax = sympy.Integer(5)\n",
    "Nmoment = 2*Nmax\n",
    "quad_N = Nmoment + 1"
   ]
  },
  {
   "cell_type": "markdown",
   "id": "eadba23c-ec14-4bce-96d1-8afd316acd6f",
   "metadata": {},
   "source": [
    "### Assemble matrices\n",
    "\n",
    "#### Mass matrix"
   ]
  },
  {
   "cell_type": "code",
   "execution_count": 35,
   "id": "fc031ca7-e035-4126-a960-1cdd66e62ea4",
   "metadata": {},
   "outputs": [
    {
     "data": {
      "text/latex": [
       "$\\displaystyle \\left[\\begin{matrix}- \\frac{136}{385} & 0 & 0 & 0 & 0 & 0\\\\0 & - \\frac{3296}{3465} & 0 & 0 & 0 & 0\\\\0 & 0 & - \\frac{240}{143} & 0 & 0 & 0\\\\0 & 0 & 0 & - \\frac{8160}{3289} & 0 & 0\\\\0 & 0 & 0 & 0 & - \\frac{19880}{5967} & 0\\\\0 & 0 & 0 & 0 & 0 & - \\frac{211008}{50065}\\end{matrix}\\right]$"
      ],
      "text/plain": [
       "Matrix([\n",
       "[-136/385,          0,        0,          0,           0,             0],\n",
       "[       0, -3296/3465,        0,          0,           0,             0],\n",
       "[       0,          0, -240/143,          0,           0,             0],\n",
       "[       0,          0,        0, -8160/3289,           0,             0],\n",
       "[       0,          0,        0,          0, -19880/5967,             0],\n",
       "[       0,          0,        0,          0,           0, -211008/50065]])"
      ]
     },
     "execution_count": 35,
     "metadata": {},
     "output_type": "execute_result"
    }
   ],
   "source": [
    "alpha = sympy.Rational(3, 2)\n",
    "beta = m_val\n",
    "xi = sympy.Symbol(r\"\\xi\")\n",
    "xi_quad, wt_quad = quad.gauss_jacobi(quad_N, alpha, beta, 32)\n",
    "\n",
    "n_test_array = np.arange(Nmax + 1)\n",
    "n_trial_array = np.arange(Nmax + 1)\n",
    "M_psi = list()\n",
    "\n",
    "for n_test in n_test_array:\n",
    "    M_row = list()\n",
    "    for n_trial in n_trial_array:\n",
    "        integrand = basis_set.trial_Psi.subs({n: n_test, m: m_val})*eqns_s[0].lhs.coeff(pg_expand.C_Psi, 1).subs({pg_expand.basis_Psi: basis_set.trial_Psi}).subs({n: n_trial, m: m_val})\n",
    "        integrand = integrand.subs({s: sympy.sqrt((1 + xi)/2)})/(1 - xi)**alpha/(1 + xi)**beta/(2*sympy.sqrt(2*(xi + 1)))\n",
    "        integrand = integrand.doit()\n",
    "        quad_pts = [wt_quad[i]*integrand.subs({xi: xi_quad[i]}).evalf(32) for i in range(quad_N)]\n",
    "        quad_result = sum(quad_pts)\n",
    "        M_row.append(sympy.nsimplify(quad_result, rational=True, tolerance=1e-20))\n",
    "    M_psi.append(M_row)\n",
    "\n",
    "M_psi = sympy.Matrix(M_psi)\n",
    "M_psi"
   ]
  },
  {
   "cell_type": "code",
   "execution_count": 37,
   "id": "6eff434e-cb61-4139-ac4f-f2e3e12da585",
   "metadata": {},
   "outputs": [
    {
     "data": {
      "text/latex": [
       "$\\displaystyle \\left[\\begin{array}{ccccccccccc}\\frac{2}{15} & 0 & 0 & 0 & 0 & 0 & 0 & 0 & 0 & 0 & 0\\\\0 & \\frac{4}{45} & 0 & 0 & 0 & 0 & 0 & 0 & 0 & 0 & 0\\\\0 & 0 & \\frac{6}{91} & 0 & 0 & 0 & 0 & 0 & 0 & 0 & 0\\\\0 & 0 & 0 & \\frac{8}{153} & 0 & 0 & 0 & 0 & 0 & 0 & 0\\\\0 & 0 & 0 & 0 & \\frac{10}{231} & 0 & 0 & 0 & 0 & 0 & 0\\\\0 & 0 & 0 & 0 & 0 & \\frac{12}{325} & 0 & 0 & 0 & 0 & 0\\\\0 & 0 & 0 & 0 & 0 & 0 & \\frac{14}{435} & 0 & 0 & 0 & 0\\\\0 & 0 & 0 & 0 & 0 & 0 & 0 & \\frac{16}{561} & 0 & 0 & 0\\\\0 & 0 & 0 & 0 & 0 & 0 & 0 & 0 & \\frac{18}{703} & 0 & 0\\\\0 & 0 & 0 & 0 & 0 & 0 & 0 & 0 & 0 & \\frac{20}{861} & 0\\\\0 & 0 & 0 & 0 & 0 & 0 & 0 & 0 & 0 & 0 & \\frac{22}{1035}\\end{array}\\right]$"
      ],
      "text/plain": [
       "Matrix([\n",
       "[2/15,    0,    0,     0,      0,      0,      0,      0,      0,      0,       0],\n",
       "[   0, 4/45,    0,     0,      0,      0,      0,      0,      0,      0,       0],\n",
       "[   0,    0, 6/91,     0,      0,      0,      0,      0,      0,      0,       0],\n",
       "[   0,    0,    0, 8/153,      0,      0,      0,      0,      0,      0,       0],\n",
       "[   0,    0,    0,     0, 10/231,      0,      0,      0,      0,      0,       0],\n",
       "[   0,    0,    0,     0,      0, 12/325,      0,      0,      0,      0,       0],\n",
       "[   0,    0,    0,     0,      0,      0, 14/435,      0,      0,      0,       0],\n",
       "[   0,    0,    0,     0,      0,      0,      0, 16/561,      0,      0,       0],\n",
       "[   0,    0,    0,     0,      0,      0,      0,      0, 18/703,      0,       0],\n",
       "[   0,    0,    0,     0,      0,      0,      0,      0,      0, 20/861,       0],\n",
       "[   0,    0,    0,     0,      0,      0,      0,      0,      0,      0, 22/1035]])"
      ]
     },
     "execution_count": 37,
     "metadata": {},
     "output_type": "execute_result"
    }
   ],
   "source": [
    "alpha = sympy.Integer(1)\n",
    "beta = pg_expand.beta_m.subs(azm_val)\n",
    "xi_quad, wt_quad = quad.gauss_jacobi(quad_N, alpha, beta, 32)\n",
    "\n",
    "n_test_array = np.arange(Nmoment + 1)\n",
    "n_trial_array = np.arange(Nmoment + 1)\n",
    "M_Mpp = list()\n",
    "\n",
    "for n_test in n_test_array:\n",
    "    M_row = list()\n",
    "    for n_trial in n_trial_array:\n",
    "        integrand = basis_set.trial_Mpp.subs({n: n_test, m: m_val})*eqns_s[2].lhs.coeff(pg_expand.C_Mpp, 1).subs({pg_expand.basis_Mpp: basis_set.trial_Mpp}).subs({n: n_trial, m: m_val})\n",
    "        integrand = integrand.subs({s: sympy.sqrt((1 + xi)/2)})/(1 - xi)**alpha/(1 + xi)**beta/(2*sympy.sqrt(2*(xi + 1)))\n",
    "        integrand = integrand.doit()\n",
    "        quad_pts = [wt_quad[i]*integrand.subs({xi: xi_quad[i]}).evalf(32) for i in range(quad_N)]\n",
    "        quad_result = sum(quad_pts)\n",
    "        M_row.append(sympy.nsimplify(quad_result, rational=True, tolerance=1e-20))\n",
    "    M_Mpp.append(M_row)\n",
    "\n",
    "M_Mpp = sympy.Matrix(M_Mpp)\n",
    "M_Mpp"
   ]
  },
  {
   "cell_type": "code",
   "execution_count": 39,
   "id": "934afdc5-35bb-486d-9e3d-0558860f9c07",
   "metadata": {},
   "outputs": [
    {
     "data": {
      "text/latex": [
       "$\\displaystyle \\left[\\begin{array}{ccccccccccc}\\frac{8}{105} & 0 & 0 & 0 & 0 & 0 & 0 & 0 & 0 & 0 & 0\\\\0 & \\frac{24}{385} & 0 & 0 & 0 & 0 & 0 & 0 & 0 & 0 & 0\\\\0 & 0 & \\frac{16}{315} & 0 & 0 & 0 & 0 & 0 & 0 & 0 & 0\\\\0 & 0 & 0 & \\frac{80}{1881} & 0 & 0 & 0 & 0 & 0 & 0 & 0\\\\0 & 0 & 0 & 0 & \\frac{120}{3289} & 0 & 0 & 0 & 0 & 0 & 0\\\\0 & 0 & 0 & 0 & 0 & \\frac{56}{1755} & 0 & 0 & 0 & 0 & 0\\\\0 & 0 & 0 & 0 & 0 & 0 & \\frac{224}{7905} & 0 & 0 & 0 & 0\\\\0 & 0 & 0 & 0 & 0 & 0 & 0 & \\frac{288}{11305} & 0 & 0 & 0\\\\0 & 0 & 0 & 0 & 0 & 0 & 0 & 0 & \\frac{40}{1729} & 0 & 0\\\\0 & 0 & 0 & 0 & 0 & 0 & 0 & 0 & 0 & \\frac{440}{20769} & 0\\\\0 & 0 & 0 & 0 & 0 & 0 & 0 & 0 & 0 & 0 & \\frac{528}{27025}\\end{array}\\right]$"
      ],
      "text/plain": [
       "Matrix([\n",
       "[8/105,      0,      0,       0,        0,       0,        0,         0,       0,         0,         0],\n",
       "[    0, 24/385,      0,       0,        0,       0,        0,         0,       0,         0,         0],\n",
       "[    0,      0, 16/315,       0,        0,       0,        0,         0,       0,         0,         0],\n",
       "[    0,      0,      0, 80/1881,        0,       0,        0,         0,       0,         0,         0],\n",
       "[    0,      0,      0,       0, 120/3289,       0,        0,         0,       0,         0,         0],\n",
       "[    0,      0,      0,       0,        0, 56/1755,        0,         0,       0,         0,         0],\n",
       "[    0,      0,      0,       0,        0,       0, 224/7905,         0,       0,         0,         0],\n",
       "[    0,      0,      0,       0,        0,       0,        0, 288/11305,       0,         0,         0],\n",
       "[    0,      0,      0,       0,        0,       0,        0,         0, 40/1729,         0,         0],\n",
       "[    0,      0,      0,       0,        0,       0,        0,         0,       0, 440/20769,         0],\n",
       "[    0,      0,      0,       0,        0,       0,        0,         0,       0,         0, 528/27025]])"
      ]
     },
     "execution_count": 39,
     "metadata": {},
     "output_type": "execute_result"
    }
   ],
   "source": [
    "alpha = sympy.Integer(1)\n",
    "beta = pg_expand.beta_m.subs(azm_val)\n",
    "xi_quad, wt_quad = quad.gauss_jacobi(quad_N, alpha, beta, 32)\n",
    "\n",
    "n_test_array = np.arange(Nmoment + 1)\n",
    "n_trial_array = np.arange(Nmoment + 1)\n",
    "M_Msp = list()\n",
    "\n",
    "for n_test in n_test_array:\n",
    "    M_row = list()\n",
    "    for n_trial in n_trial_array:\n",
    "        integrand = basis_set.trial_Msp.subs({n: n_test, m: m_val})*eqns_s[3].lhs.coeff(pg_expand.C_Msp, 1).subs({pg_expand.basis_Msp: basis_set.trial_Msp}).subs({n: n_trial, m: m_val})\n",
    "        integrand = integrand.subs({s: sympy.sqrt((1 + xi)/2)})/(1 - xi)**alpha/(1 + xi)**beta/(2*sympy.sqrt(2*(xi + 1)))\n",
    "        integrand = integrand.doit()\n",
    "        quad_pts = [wt_quad[i]*integrand.subs({xi: xi_quad[i]}).evalf(32) for i in range(quad_N)]\n",
    "        quad_result = sum(quad_pts)\n",
    "        M_row.append(sympy.nsimplify(quad_result, rational=True, tolerance=1e-20))\n",
    "    M_Msp.append(M_row)\n",
    "\n",
    "M_Msp = sympy.Matrix(M_Msp)\n",
    "M_Msp"
   ]
  },
  {
   "cell_type": "code",
   "execution_count": 43,
   "id": "ac083a10-7b51-4b15-b690-e67b57c1f284",
   "metadata": {},
   "outputs": [
    {
     "data": {
      "text/latex": [
       "$\\displaystyle \\left[\\begin{array}{ccccccccccc}\\frac{8}{315} & 0 & 0 & 0 & 0 & 0 & 0 & 0 & 0 & 0 & 0\\\\0 & \\frac{8}{273} & 0 & 0 & 0 & 0 & 0 & 0 & 0 & 0 & 0\\\\0 & 0 & \\frac{16}{561} & 0 & 0 & 0 & 0 & 0 & 0 & 0 & 0\\\\0 & 0 & 0 & \\frac{80}{3003} & 0 & 0 & 0 & 0 & 0 & 0 & 0\\\\0 & 0 & 0 & 0 & \\frac{8}{325} & 0 & 0 & 0 & 0 & 0 & 0\\\\0 & 0 & 0 & 0 & 0 & \\frac{56}{2465} & 0 & 0 & 0 & 0 & 0\\\\0 & 0 & 0 & 0 & 0 & 0 & \\frac{224}{10659} & 0 & 0 & 0 & 0\\\\0 & 0 & 0 & 0 & 0 & 0 & 0 & \\frac{96}{4921} & 0 & 0 & 0\\\\0 & 0 & 0 & 0 & 0 & 0 & 0 & 0 & \\frac{120}{6601} & 0 & 0\\\\0 & 0 & 0 & 0 & 0 & 0 & 0 & 0 & 0 & \\frac{88}{5175} & 0\\\\0 & 0 & 0 & 0 & 0 & 0 & 0 & 0 & 0 & 0 & \\frac{176}{11025}\\end{array}\\right]$"
      ],
      "text/plain": [
       "Matrix([\n",
       "[8/315,     0,      0,       0,     0,       0,         0,       0,        0,       0,         0],\n",
       "[    0, 8/273,      0,       0,     0,       0,         0,       0,        0,       0,         0],\n",
       "[    0,     0, 16/561,       0,     0,       0,         0,       0,        0,       0,         0],\n",
       "[    0,     0,      0, 80/3003,     0,       0,         0,       0,        0,       0,         0],\n",
       "[    0,     0,      0,       0, 8/325,       0,         0,       0,        0,       0,         0],\n",
       "[    0,     0,      0,       0,     0, 56/2465,         0,       0,        0,       0,         0],\n",
       "[    0,     0,      0,       0,     0,       0, 224/10659,       0,        0,       0,         0],\n",
       "[    0,     0,      0,       0,     0,       0,         0, 96/4921,        0,       0,         0],\n",
       "[    0,     0,      0,       0,     0,       0,         0,       0, 120/6601,       0,         0],\n",
       "[    0,     0,      0,       0,     0,       0,         0,       0,        0, 88/5175,         0],\n",
       "[    0,     0,      0,       0,     0,       0,         0,       0,        0,       0, 176/11025]])"
      ]
     },
     "execution_count": 43,
     "metadata": {},
     "output_type": "execute_result"
    }
   ],
   "source": [
    "alpha = sympy.Integer(2)\n",
    "beta = pg_expand.m_abs.subs(azm_val) - sympy.Rational(3, 2)\n",
    "xi_quad, wt_quad = quad.gauss_jacobi(quad_N, alpha, beta, 32)\n",
    "\n",
    "n_test_array = np.arange(Nmoment + 1)\n",
    "n_trial_array = np.arange(Nmoment + 1)\n",
    "M_Mpz = list()\n",
    "\n",
    "for n_test in n_test_array:\n",
    "    M_row = list()\n",
    "    for n_trial in n_trial_array:\n",
    "        integrand = basis_set.trial_Mpz.subs({n: n_test, m: m_val})*eqns_s[5].lhs.coeff(pg_expand.C_Mpz, 1).subs({pg_expand.basis_Mpz: basis_set.trial_Mpz}).subs({n: n_trial, m: m_val})\n",
    "        integrand = integrand.subs({s: sympy.sqrt((1 + xi)/2)})/(1 - xi)**alpha/(1 + xi)**beta/(2*sympy.sqrt(2*(xi + 1)))\n",
    "        integrand = integrand.doit()\n",
    "        quad_pts = [wt_quad[i]*integrand.subs({xi: xi_quad[i]}).evalf(32) for i in range(quad_N)]\n",
    "        quad_result = sum(quad_pts)\n",
    "        M_row.append(sympy.nsimplify(quad_result, rational=True, tolerance=1e-20))\n",
    "    M_Mpz.append(M_row)\n",
    "\n",
    "M_Mpz = sympy.Matrix(M_Mpz)\n",
    "M_Mpz"
   ]
  },
  {
   "cell_type": "code",
   "execution_count": 44,
   "id": "1069753b-cee7-4377-b71f-7a79a7e05297",
   "metadata": {},
   "outputs": [
    {
     "data": {
      "text/latex": [
       "$\\displaystyle \\left[\\begin{array}{ccccccccccc}\\frac{8}{105} & 0 & 0 & 0 & 0 & 0 & 0 & 0 & 0 & 0 & 0\\\\0 & \\frac{24}{385} & 0 & 0 & 0 & 0 & 0 & 0 & 0 & 0 & 0\\\\0 & 0 & \\frac{16}{315} & 0 & 0 & 0 & 0 & 0 & 0 & 0 & 0\\\\0 & 0 & 0 & \\frac{80}{1881} & 0 & 0 & 0 & 0 & 0 & 0 & 0\\\\0 & 0 & 0 & 0 & \\frac{120}{3289} & 0 & 0 & 0 & 0 & 0 & 0\\\\0 & 0 & 0 & 0 & 0 & \\frac{56}{1755} & 0 & 0 & 0 & 0 & 0\\\\0 & 0 & 0 & 0 & 0 & 0 & \\frac{224}{7905} & 0 & 0 & 0 & 0\\\\0 & 0 & 0 & 0 & 0 & 0 & 0 & \\frac{288}{11305} & 0 & 0 & 0\\\\0 & 0 & 0 & 0 & 0 & 0 & 0 & 0 & \\frac{40}{1729} & 0 & 0\\\\0 & 0 & 0 & 0 & 0 & 0 & 0 & 0 & 0 & \\frac{440}{20769} & 0\\\\0 & 0 & 0 & 0 & 0 & 0 & 0 & 0 & 0 & 0 & \\frac{528}{27025}\\end{array}\\right]$"
      ],
      "text/plain": [
       "Matrix([\n",
       "[8/105,      0,      0,       0,        0,       0,        0,         0,       0,         0,         0],\n",
       "[    0, 24/385,      0,       0,        0,       0,        0,         0,       0,         0,         0],\n",
       "[    0,      0, 16/315,       0,        0,       0,        0,         0,       0,         0,         0],\n",
       "[    0,      0,      0, 80/1881,        0,       0,        0,         0,       0,         0,         0],\n",
       "[    0,      0,      0,       0, 120/3289,       0,        0,         0,       0,         0,         0],\n",
       "[    0,      0,      0,       0,        0, 56/1755,        0,         0,       0,         0,         0],\n",
       "[    0,      0,      0,       0,        0,       0, 224/7905,         0,       0,         0,         0],\n",
       "[    0,      0,      0,       0,        0,       0,        0, 288/11305,       0,         0,         0],\n",
       "[    0,      0,      0,       0,        0,       0,        0,         0, 40/1729,         0,         0],\n",
       "[    0,      0,      0,       0,        0,       0,        0,         0,       0, 440/20769,         0],\n",
       "[    0,      0,      0,       0,        0,       0,        0,         0,       0,         0, 528/27025]])"
      ]
     },
     "execution_count": 44,
     "metadata": {},
     "output_type": "execute_result"
    }
   ],
   "source": [
    "alpha = sympy.Integer(2)\n",
    "beta = pg_expand.beta_m.subs(azm_val)\n",
    "xi_quad, wt_quad = quad.gauss_jacobi(quad_N, alpha, beta, 32)\n",
    "\n",
    "n_test_array = np.arange(Nmoment + 1)\n",
    "n_trial_array = np.arange(Nmoment + 1)\n",
    "M_zMpp = list()\n",
    "\n",
    "for n_test in n_test_array:\n",
    "    M_row = list()\n",
    "    for n_trial in n_trial_array:\n",
    "        integrand = basis_set.trial_zMpp.subs({n: n_test, m: m_val})*eqns_s[7].lhs.coeff(pg_expand.C_zMpp, 1).subs({pg_expand.basis_zMpp: basis_set.trial_zMpp}).subs({n: n_trial, m: m_val})\n",
    "        integrand = integrand.subs({s: sympy.sqrt((1 + xi)/2)})/(1 - xi)**alpha/(1 + xi)**beta/(2*sympy.sqrt(2*(xi + 1)))\n",
    "        integrand = integrand.doit()\n",
    "        quad_pts = [wt_quad[i]*integrand.subs({xi: xi_quad[i]}).evalf(32) for i in range(quad_N)]\n",
    "        quad_result = sum(quad_pts)\n",
    "        M_row.append(sympy.nsimplify(quad_result, rational=True, tolerance=1e-20))\n",
    "    M_zMpp.append(M_row)\n",
    "\n",
    "M_zMpp = sympy.Matrix(M_zMpp)\n",
    "M_zMpp"
   ]
  },
  {
   "cell_type": "code",
   "execution_count": 47,
   "id": "3c440bf0-6098-4312-a372-04669b2f4ae3",
   "metadata": {},
   "outputs": [
    {
     "data": {
      "text/latex": [
       "$\\displaystyle \\left[\\begin{matrix}\\frac{8}{315} & 0 & 0 & 0 & 0 & 0\\\\0 & \\frac{8}{273} & 0 & 0 & 0 & 0\\\\0 & 0 & \\frac{16}{561} & 0 & 0 & 0\\\\0 & 0 & 0 & \\frac{80}{3003} & 0 & 0\\\\0 & 0 & 0 & 0 & \\frac{8}{325} & 0\\\\0 & 0 & 0 & 0 & 0 & \\frac{56}{2465}\\end{matrix}\\right]$"
      ],
      "text/plain": [
       "Matrix([\n",
       "[8/315,     0,      0,       0,     0,       0],\n",
       "[    0, 8/273,      0,       0,     0,       0],\n",
       "[    0,     0, 16/561,       0,     0,       0],\n",
       "[    0,     0,      0, 80/3003,     0,       0],\n",
       "[    0,     0,      0,       0, 8/325,       0],\n",
       "[    0,     0,      0,       0,     0, 56/2465]])"
      ]
     },
     "execution_count": 47,
     "metadata": {},
     "output_type": "execute_result"
    }
   ],
   "source": [
    "alpha = sympy.Integer(2)\n",
    "beta = pg_expand.m_abs.subs(azm_val) - sympy.Rational(3, 2)\n",
    "xi_quad, wt_quad = quad.gauss_jacobi(quad_N, alpha, beta, 32)\n",
    "\n",
    "n_test_array = np.arange(Nmax + 1)\n",
    "n_trial_array = np.arange(Nmax + 1)\n",
    "M_Bs_e = list()\n",
    "\n",
    "for n_test in n_test_array:\n",
    "    M_row = list()\n",
    "    for n_trial in n_trial_array:\n",
    "        integrand = basis_set.trial_Bs_e.subs({n: n_test, m: m_val})*eqns_s[9].lhs.coeff(pg_expand.C_Bs_e, 1).subs({pg_expand.basis_Bs_e: basis_set.trial_Bs_e}).subs({n: n_trial, m: m_val})\n",
    "        integrand = integrand.subs({s: sympy.sqrt((1 + xi)/2)})/(1 - xi)**alpha/(1 + xi)**beta/(2*sympy.sqrt(2*(xi + 1)))\n",
    "        integrand = integrand.doit()\n",
    "        quad_pts = [wt_quad[i]*integrand.subs({xi: xi_quad[i]}).evalf(32) for i in range(quad_N)]\n",
    "        quad_result = sum(quad_pts)\n",
    "        M_row.append(sympy.nsimplify(quad_result, rational=True, tolerance=1e-20))\n",
    "    M_Bs_e.append(M_row)\n",
    "\n",
    "M_Bs_e = sympy.Matrix(M_Bs_e)\n",
    "M_Bs_e"
   ]
  },
  {
   "cell_type": "markdown",
   "id": "ca024cbc-c23b-4f7f-aa52-7e42f0b9257d",
   "metadata": {},
   "source": [
    "#### Stiffness matrix"
   ]
  },
  {
   "cell_type": "code",
   "execution_count": 59,
   "id": "0601dec1-0266-42a2-a6e7-4c80534b42e2",
   "metadata": {},
   "outputs": [
    {
     "data": {
      "text/latex": [
       "$\\displaystyle C_s^{mn+} \\left(\\frac{i \\mathrm{Le}^{2} s^{4} B_s^{mn+}{\\left(s \\right)}}{2 H^{4}{\\left(s \\right)}} + \\frac{i \\mathrm{Le}^{2} s^{3} \\frac{d}{d s} B_s^{mn+}{\\left(s \\right)}}{2 H^{2}{\\left(s \\right)}} + \\frac{3 i \\mathrm{Le}^{2} s^{2} B_s^{mn+}{\\left(s \\right)}}{2 H^{2}{\\left(s \\right)}}\\right) + C_s^{mn-} \\left(\\frac{i \\mathrm{Le}^{2} s^{4} B_s^{mn-}{\\left(s \\right)}}{2 H^{4}{\\left(s \\right)}} + \\frac{i \\mathrm{Le}^{2} s^{3} \\frac{d}{d s} B_s^{mn-}{\\left(s \\right)}}{2 H^{2}{\\left(s \\right)}} + \\frac{3 i \\mathrm{Le}^{2} s^{2} B_s^{mn-}{\\left(s \\right)}}{2 H^{2}{\\left(s \\right)}}\\right) + C_z^{mn+} \\left(\\frac{i \\mathrm{Le}^{2} s^{2} \\frac{d}{d s} B_z^{mn+}{\\left(s \\right)}}{2 H{\\left(s \\right)}} + \\frac{i \\mathrm{Le}^{2} s B_z^{mn+}{\\left(s \\right)}}{H{\\left(s \\right)}}\\right) + C_z^{mn-} \\left(- \\frac{i \\mathrm{Le}^{2} s^{2} \\frac{d}{d s} B_z^{mn-}{\\left(s \\right)}}{2 H{\\left(s \\right)}} - \\frac{i \\mathrm{Le}^{2} s B_z^{mn-}{\\left(s \\right)}}{H{\\left(s \\right)}}\\right) + \\frac{2 C_{\\Psi}^{mn} m s \\Psi^{mn}{\\left(s \\right)}}{H^{3}{\\left(s \\right)}} - \\frac{i C_{\\phi z}^{mn} \\mathrm{Le}^{2} m^{2} \\widetilde{M_{\\phi z}}^{mn}{\\left(s \\right)}}{2 H^{2}{\\left(s \\right)}} + C_{\\phi\\phi}^{mn} \\left(- \\frac{\\mathrm{Le}^{2} m \\frac{d}{d s} \\overline{M_{\\phi\\phi}}^{mn}{\\left(s \\right)}}{2 H{\\left(s \\right)}} - \\frac{\\mathrm{Le}^{2} m \\overline{M_{\\phi\\phi}}^{mn}{\\left(s \\right)}}{2 s H{\\left(s \\right)}}\\right) - \\frac{C_{e\\phi}^{mn} \\mathrm{Le}^{2} m s^{2} B_{e\\phi}^{mn}{\\left(s \\right)}}{H^{2}{\\left(s \\right)}} + \\frac{2 i C_{es}^{mn} \\mathrm{Le}^{2} s^{2} B_{es}^{mn}{\\left(s \\right)}}{H^{2}{\\left(s \\right)}} + C_{s\\phi}^{mn} \\left(\\frac{i \\mathrm{Le}^{2} m^{2} \\overline{M_{s\\phi}}^{mn}{\\left(s \\right)}}{2 s H{\\left(s \\right)}} + \\frac{i \\mathrm{Le}^{2} s \\frac{d^{2}}{d s^{2}} \\overline{M_{s\\phi}}^{mn}{\\left(s \\right)}}{2 H{\\left(s \\right)}} + \\frac{3 i \\mathrm{Le}^{2} \\frac{d}{d s} \\overline{M_{s\\phi}}^{mn}{\\left(s \\right)}}{2 H{\\left(s \\right)}}\\right) + C_{ss}^{mn} \\left(\\frac{\\mathrm{Le}^{2} m \\frac{d}{d s} \\overline{M_{ss}}^{mn}{\\left(s \\right)}}{2 H{\\left(s \\right)}} + \\frac{\\mathrm{Le}^{2} m \\overline{M_{ss}}^{mn}{\\left(s \\right)}}{2 s H{\\left(s \\right)}}\\right) + C_{sz}^{mn} \\left(- \\frac{\\mathrm{Le}^{2} m s \\frac{d}{d s} \\widetilde{M_{sz}}^{mn}{\\left(s \\right)}}{2 H^{2}{\\left(s \\right)}} - \\frac{\\mathrm{Le}^{2} m \\widetilde{M_{sz}}^{mn}{\\left(s \\right)}}{2 H^{2}{\\left(s \\right)}}\\right)$"
      ],
      "text/plain": [
       "C_s^{mn+}*(I*\\mathrm{Le}**2*s**4*B_s^{mn+}(s)/(2*H(s)**4) + I*\\mathrm{Le}**2*s**3*Derivative(B_s^{mn+}(s), s)/(2*H(s)**2) + 3*I*\\mathrm{Le}**2*s**2*B_s^{mn+}(s)/(2*H(s)**2)) + C_s^{mn-}*(I*\\mathrm{Le}**2*s**4*B_s^{mn-}(s)/(2*H(s)**4) + I*\\mathrm{Le}**2*s**3*Derivative(B_s^{mn-}(s), s)/(2*H(s)**2) + 3*I*\\mathrm{Le}**2*s**2*B_s^{mn-}(s)/(2*H(s)**2)) + C_z^{mn+}*(I*\\mathrm{Le}**2*s**2*Derivative(B_z^{mn+}(s), s)/(2*H(s)) + I*\\mathrm{Le}**2*s*B_z^{mn+}(s)/H(s)) + C_z^{mn-}*(-I*\\mathrm{Le}**2*s**2*Derivative(B_z^{mn-}(s), s)/(2*H(s)) - I*\\mathrm{Le}**2*s*B_z^{mn-}(s)/H(s)) + 2*C_{\\Psi}^{mn}*m*s*\\Psi^{mn}(s)/H(s)**3 - I*C_{\\phi z}^{mn}*\\mathrm{Le}**2*m**2*\\widetilde{M_{\\phi z}}^{mn}(s)/(2*H(s)**2) + C_{\\phi\\phi}^{mn}*(-\\mathrm{Le}**2*m*Derivative(\\overline{M_{\\phi\\phi}}^{mn}(s), s)/(2*H(s)) - \\mathrm{Le}**2*m*\\overline{M_{\\phi\\phi}}^{mn}(s)/(2*s*H(s))) - C_{e\\phi}^{mn}*\\mathrm{Le}**2*m*s**2*B_{e\\phi}^{mn}(s)/H(s)**2 + 2*I*C_{es}^{mn}*\\mathrm{Le}**2*s**2*B_{es}^{mn}(s)/H(s)**2 + C_{s\\phi}^{mn}*(I*\\mathrm{Le}**2*m**2*\\overline{M_{s\\phi}}^{mn}(s)/(2*s*H(s)) + I*\\mathrm{Le}**2*s*Derivative(\\overline{M_{s\\phi}}^{mn}(s), (s, 2))/(2*H(s)) + 3*I*\\mathrm{Le}**2*Derivative(\\overline{M_{s\\phi}}^{mn}(s), s)/(2*H(s))) + C_{ss}^{mn}*(\\mathrm{Le}**2*m*Derivative(\\overline{M_{ss}}^{mn}(s), s)/(2*H(s)) + \\mathrm{Le}**2*m*\\overline{M_{ss}}^{mn}(s)/(2*s*H(s))) + C_{sz}^{mn}*(-\\mathrm{Le}**2*m*s*Derivative(\\widetilde{M_{sz}}^{mn}(s), s)/(2*H(s)**2) - \\mathrm{Le}**2*m*\\widetilde{M_{sz}}^{mn}(s)/(2*H(s)**2))"
      ]
     },
     "execution_count": 59,
     "metadata": {},
     "output_type": "execute_result"
    }
   ],
   "source": [
    "rhs_tmp = eqns_s[0].rhs*omega\n",
    "rhs_tmp = pg_expand.sort_coeffs(rhs_tmp.subs({H_s: H}).expand())\n",
    "rhs_tmp"
   ]
  },
  {
   "cell_type": "code",
   "execution_count": 83,
   "id": "f5cd38e9-5d09-4ead-bb8b-d2fa3d0d3119",
   "metadata": {},
   "outputs": [
    {
     "data": {
      "text/latex": [
       "$\\displaystyle 11$"
      ],
      "text/plain": [
       "11"
      ]
     },
     "execution_count": 83,
     "metadata": {},
     "output_type": "execute_result"
    }
   ],
   "source": [
    "quad_N"
   ]
  },
  {
   "cell_type": "code",
   "execution_count": 89,
   "id": "1e1fde48-ff62-4d4b-b054-f91287c1d887",
   "metadata": {},
   "outputs": [
    {
     "data": {
      "text/latex": [
       "$\\displaystyle \\left[\\begin{matrix}0.08311688311950507714107545096519186268970096442699614262153911377 & -0.00000000001052456203035018600494619397767597849361487252678376276158693154 & 0.00000000002643219472880809798702485312673920603016966890302292281159311303 & -0.00000000005316514870122681389846293664273682893904783360686761779049982122 & 0.00000000009367155465004939453183165770571065185381900852162837627792535482 & -0.0000000001510616577517094026554936439811691680805378232307857447941611261\\\\-0.00000000001052456203035018600494619397767597849361487252678376276158693154 & 0.1108225108647569358001345379930384057501094180407597917784217598 & -0.0000000001061016806731859629386849353447108888217322253149635023528882566 & 0.0000000002134144989294686042218295224203025906058700624191966768905679728 & -0.0000000003760226802341429953063988778474133308462023629574435383689548764 & 0.0000000006064173240894133509313580076106137549556354531663114819836730876\\\\0.00000000002643219472880809798702485312673920603016966890302292281159311303 & -0.0000000001061016806731859629386849353447108888217322253149635023528882566 & 0.1177769601487039271997151687602899106688731343196939691222314035 & -0.0000000005360163605076525154410548831772707122904135489411346542835033356 & 0.0000000009444534511633252551870142344705082456634269428646707195901122533 & -0.000000001523184936738705417427035309748163616080724643577619407563667981\\\\-0.00000000005316514870122681389846293664273682893904783360686761779049982122 & 0.0000000002134144989294686042218295224203025906058700624191966768905679728 & -0.0000000005360163605076525154410548831772707122904135489411346542835033356 & 0.1167528134831951044023995647434632961172622399311645155052836888 & -0.000000001899856486710339122816053104498007629037166821036740816493657807 & 0.000000003064156464989069231543568865780382003864334517486669893326213845\\\\0.00000000009367155465004939453183165770571065185381900852162837627792535482 & -0.0000000003760226802341429953063988778474133308462023629574435383689548764 & 0.0000000009444534511633252551870142344705082456634269428646707195901122533 & -0.000000001899856486710339122816053104498007629037166821036740816493657807 & 0.1126194100848363119661121821393215182065936504472864044148747413 & -0.00000000539969301068552355699951498630570336397783467769726251685824808\\\\-0.0000000001510616577517094026554936439811691680805378232307857447941611261 & 0.0000000006064173240894133509313580076106137549556354531663114819836730876 & -0.000000001523184936738705417427035309748163616080724643577619407563667981 & 0.000000003064156464989069231543568865780382003864334517486669893326213845 & -0.00000000539969301068552355699951498630570336397783467769726251685824808 & 0.1073804141826479017042442985209363765336854290855960332276811073\\end{matrix}\\right]$"
      ],
      "text/plain": [
       "Matrix([\n",
       "[          0.08311688311950507714107545096519186268970096442699614262153911377, -0.00000000001052456203035018600494619397767597849361487252678376276158693154, 0.00000000002643219472880809798702485312673920603016966890302292281159311303, -0.00000000005316514870122681389846293664273682893904783360686761779049982122, 0.00000000009367155465004939453183165770571065185381900852162837627792535482, -0.0000000001510616577517094026554936439811691680805378232307857447941611261],\n",
       "[-0.00000000001052456203035018600494619397767597849361487252678376276158693154,            0.1108225108647569358001345379930384057501094180407597917784217598, -0.0000000001061016806731859629386849353447108888217322253149635023528882566,   0.0000000002134144989294686042218295224203025906058700624191966768905679728, -0.0000000003760226802341429953063988778474133308462023629574435383689548764,  0.0000000006064173240894133509313580076106137549556354531663114819836730876],\n",
       "[ 0.00000000002643219472880809798702485312673920603016966890302292281159311303,  -0.0000000001061016806731859629386849353447108888217322253149635023528882566,           0.1177769601487039271997151687602899106688731343196939691222314035,  -0.0000000005360163605076525154410548831772707122904135489411346542835033356,  0.0000000009444534511633252551870142344705082456634269428646707195901122533,  -0.000000001523184936738705417427035309748163616080724643577619407563667981],\n",
       "[-0.00000000005316514870122681389846293664273682893904783360686761779049982122,   0.0000000002134144989294686042218295224203025906058700624191966768905679728, -0.0000000005360163605076525154410548831772707122904135489411346542835033356,            0.1167528134831951044023995647434632961172622399311645155052836888,  -0.000000001899856486710339122816053104498007629037166821036740816493657807,   0.000000003064156464989069231543568865780382003864334517486669893326213845],\n",
       "[ 0.00000000009367155465004939453183165770571065185381900852162837627792535482,  -0.0000000003760226802341429953063988778474133308462023629574435383689548764,  0.0000000009444534511633252551870142344705082456634269428646707195901122533,   -0.000000001899856486710339122816053104498007629037166821036740816493657807,           0.1126194100848363119661121821393215182065936504472864044148747413,   -0.00000000539969301068552355699951498630570336397783467769726251685824808],\n",
       "[ -0.0000000001510616577517094026554936439811691680805378232307857447941611261,   0.0000000006064173240894133509313580076106137549556354531663114819836730876,  -0.000000001523184936738705417427035309748163616080724643577619407563667981,    0.000000003064156464989069231543568865780382003864334517486669893326213845,   -0.00000000539969301068552355699951498630570336397783467769726251685824808,           0.1073804141826479017042442985209363765336854290855960332276811073]])"
      ]
     },
     "execution_count": 89,
     "metadata": {},
     "output_type": "execute_result"
    }
   ],
   "source": [
    "alpha = sympy.Rational(3, 2)\n",
    "beta = sympy.Rational(pg_expand.m_abs.subs(azm_val) + sympy.Integer(2), 2)\n",
    "# beta = pg_expand.m_abs.subs(azm_val)\n",
    "xi_quad, wt_quad = quad.gauss_jacobi(3*quad_N, alpha, beta, 64)\n",
    "\n",
    "n_test_array = np.arange(Nmax + 1)\n",
    "n_trial_array = np.arange(Nmax + 1)\n",
    "K_psi = list()\n",
    "\n",
    "rhs_tmp = eqns_s[0].rhs*omega\n",
    "rhs_tmp = pg_expand.sort_coeffs(rhs_tmp.subs({H_s: H}).expand()).subs({H: H_s})\n",
    "\n",
    "for n_test in n_test_array:\n",
    "    K_row = list()\n",
    "    for n_trial in n_trial_array:\n",
    "        integrand = basis_set.trial_Psi.subs({n: n_test, m: m_val})*rhs_tmp.coeff(pg_expand.C_Psi, 1).subs({pg_expand.basis_Psi: basis_set.trial_Psi}).subs({n: n_trial, m: m_val})\n",
    "        integrand = integrand.subs({s: sympy.sqrt((1 + xi)/2)})/(1 - xi)**alpha/(1 + xi)**beta/(2*sympy.sqrt(2*(xi + 1)))\n",
    "        integrand = integrand.doit()\n",
    "        quad_pts = [wt_quad[i]*integrand.subs({xi: xi_quad[i]}).subs(par_val).evalf(32) for i in range(3*quad_N)]\n",
    "        quad_result = sum(quad_pts)\n",
    "        # K_row.append(sympy.nsimplify(quad_result, rational=True, tolerance=1e-20))\n",
    "        K_row.append(quad_result)\n",
    "    K_psi.append(K_row)\n",
    "\n",
    "K_psi = sympy.Matrix(K_psi)\n",
    "K_psi"
   ]
  },
  {
   "cell_type": "code",
   "execution_count": 81,
   "id": "54840eb7-973a-4b17-97d2-ad40d79de602",
   "metadata": {},
   "outputs": [
    {
     "data": {
      "text/latex": [
       "$\\displaystyle \\frac{1875 \\sqrt{2 \\xi + 2}}{4}$"
      ],
      "text/plain": [
       "1875*sqrt(2*\\xi + 2)/4"
      ]
     },
     "execution_count": 81,
     "metadata": {},
     "output_type": "execute_result"
    }
   ],
   "source": [
    "integrand = basis_set.trial_Psi.subs({n: 0, m: 3})*rhs_tmp.coeff(pg_expand.C_Psi, 1).subs({pg_expand.basis_Psi: basis_set.trial_Psi}).subs({n: 0, m: 3})\n",
    "integrand = integrand.subs({s: sympy.sqrt((1 + xi)/2)})/(1 - xi)**alpha/(1 + xi)**beta/(2*sympy.sqrt(2*(xi + 1)))\n",
    "integrand = integrand.doit().simplify()\n",
    "(integrand/par_val[params.Le]).nsimplify()"
   ]
  },
  {
   "cell_type": "code",
   "execution_count": 87,
   "id": "8e86049c-44af-486c-9566-cd7895163ded",
   "metadata": {},
   "outputs": [
    {
     "data": {
      "text/plain": [
       "[-0.98683956635772328879614531366792,\n",
       " -0.96733466377313368974672638195108,\n",
       " -0.94030743275139864921651188482663,\n",
       " -0.90593806760816288172022542814367,\n",
       " -0.86448883571864687848713522095952,\n",
       " -0.81628194352198891749273862137114,\n",
       " -0.76169377965056235177572518944202,\n",
       " -0.70115114603607100746279779576787,\n",
       " -0.63512764748424281951499171546088,\n",
       " -0.56413988016224196087726668812304,\n",
       " -0.48874334250874821813937735487513,\n",
       " -0.40952806554875109027087986054713,\n",
       " -0.32711398361910990967584057331270,\n",
       " -0.24214607622365316218838635287895,\n",
       " -0.15528931653825973566198520331445,\n",
       " -0.067223464885884353554589177991781,\n",
       " 0.021362252695210331731380768367093,\n",
       " 0.10977453948040300110875842971525,\n",
       " 0.19732145465261035586568365855744,\n",
       " 0.28331782910415668367911501475260,\n",
       " 0.36709062813230622992100894829581,\n",
       " 0.44798421910835940988868715034193,\n",
       " 0.52536550293627361421984985832046,\n",
       " 0.59862886918829649202385524319892,\n",
       " 0.66720093621011806703304424588074,\n",
       " 0.73054503923616580097878110060212,\n",
       " 0.78816543169169900438063219685032,\n",
       " 0.83961116754172577101168719005795,\n",
       " 0.88447963635117911178743154008024,\n",
       " 0.92241972996632732171473714752698,\n",
       " 0.95313464188154301000538502531017,\n",
       " 0.97638441515635347395023226050278,\n",
       " 0.99198949048442266385248155570170]"
      ]
     },
     "execution_count": 87,
     "metadata": {},
     "output_type": "execute_result"
    }
   ],
   "source": [
    "xi_quad"
   ]
  },
  {
   "cell_type": "markdown",
   "id": "2c6fc388-b04c-4395-9e57-2cf7079452cb",
   "metadata": {},
   "source": [
    "## Eigenvalue problem using reduced equation\n",
    "\n",
    "Define resolution (spectral truncation `Nmax`), azimuthal wavenumber (`m`), Jacobi polynomial constants $\\alpha$ and $\\beta$."
   ]
  },
  {
   "cell_type": "code",
   "execution_count": 32,
   "id": "e71fb5f5-5895-48d7-9d88-9d59fc14ee25",
   "metadata": {},
   "outputs": [],
   "source": [
    "from sympy.integrals import quadrature as quad\n",
    "\n",
    "m_val = sympy.Integer(3)\n",
    "Le_val = 1e-4\n",
    "\n",
    "alpha = sympy.Rational(3, 2)\n",
    "beta = m_val\n",
    "\n",
    "Nmax = sympy.Integer(5)\n",
    "quad_N = Nmax + 1\n",
    "\n",
    "xi = sympy.Symbol(r\"\\xi\")\n",
    "xi_quad, wt_quad = quad.gauss_jacobi(quad_N, alpha, beta, 32)"
   ]
  },
  {
   "cell_type": "markdown",
   "id": "a9de413e-eaae-4ad3-bfa6-aa9fc7ca1cca",
   "metadata": {},
   "source": [
    "### Assemble matrices"
   ]
  },
  {
   "cell_type": "markdown",
   "id": "088000bb-8f2a-48f8-9c0e-707625633ca2",
   "metadata": {},
   "source": [
    "#### Mass matrix"
   ]
  },
  {
   "cell_type": "code",
   "execution_count": 33,
   "id": "3092ca8a-b99c-4344-83c8-40a210c2f96b",
   "metadata": {},
   "outputs": [],
   "source": [
    "n_test_array = np.arange(Nmax + 1)\n",
    "n_trial_array = np.arange(Nmax + 1)\n",
    "M_psi = list()\n",
    "\n",
    "for n_test in n_test_array:\n",
    "    M_row = list()\n",
    "    for n_trial in n_trial_array:\n",
    "        integrand = basis_set.trial_psi.subs({n: n_test, m: m_val})*eqns_s[0].lhs.coeff(pg_expand.C_psi, 1).subs({pg_expand.basis_psi: basis_set.trial_psi}).subs({n: n_trial, m: m_val})\n",
    "        integrand = integrand.subs({s: sympy.sqrt((1 + xi)/2)})/(1 - xi)**alpha/(1 + xi)**beta/(2*sympy.sqrt(2*(xi + 1)))\n",
    "        integrand = integrand.doit()\n",
    "        quad_pts = [wt_quad[i]*integrand.subs({xi: xi_quad[i]}).evalf(32) for i in range(quad_N)]\n",
    "        quad_result = sum(quad_pts)\n",
    "        M_row.append(sympy.nsimplify(quad_result, rational=True, tolerance=1e-20))\n",
    "    M_psi.append(M_row)\n",
    "\n",
    "M_psi = sympy.Matrix(M_psi)"
   ]
  },
  {
   "cell_type": "code",
   "execution_count": 34,
   "id": "98829fc7-044d-4f98-a502-d2df8f324e01",
   "metadata": {},
   "outputs": [
    {
     "data": {
      "text/latex": [
       "$\\displaystyle \\left[\\begin{matrix}- \\frac{136}{385} & 0 & 0 & 0 & 0 & 0\\\\0 & - \\frac{3296}{3465} & 0 & 0 & 0 & 0\\\\0 & 0 & - \\frac{240}{143} & 0 & 0 & 0\\\\0 & 0 & 0 & - \\frac{8160}{3289} & 0 & 0\\\\0 & 0 & 0 & 0 & - \\frac{19880}{5967} & 0\\\\0 & 0 & 0 & 0 & 0 & - \\frac{211008}{50065}\\end{matrix}\\right]$"
      ],
      "text/plain": [
       "Matrix([\n",
       "[-136/385,          0,        0,          0,           0,             0],\n",
       "[       0, -3296/3465,        0,          0,           0,             0],\n",
       "[       0,          0, -240/143,          0,           0,             0],\n",
       "[       0,          0,        0, -8160/3289,           0,             0],\n",
       "[       0,          0,        0,          0, -19880/5967,             0],\n",
       "[       0,          0,        0,          0,           0, -211008/50065]])"
      ]
     },
     "execution_count": 34,
     "metadata": {},
     "output_type": "execute_result"
    }
   ],
   "source": [
    "M_psi"
   ]
  },
  {
   "cell_type": "markdown",
   "id": "82ccb692-9a46-42b8-8582-991d5a697eb4",
   "metadata": {},
   "source": [
    "Convert to sparse numpy array"
   ]
  },
  {
   "cell_type": "code",
   "execution_count": null,
   "id": "68faf915-169c-46af-a9ea-cf6d41d6c2bc",
   "metadata": {},
   "outputs": [
    {
     "data": {
      "text/plain": [
       "matrix([[-0.35324675,  0.        ,  0.        ,  0.        ,  0.        ,\n",
       "          0.        ],\n",
       "        [ 0.        , -0.95122655,  0.        ,  0.        ,  0.        ,\n",
       "          0.        ],\n",
       "        [ 0.        ,  0.        , -1.67832168,  0.        ,  0.        ,\n",
       "          0.        ],\n",
       "        [ 0.        ,  0.        ,  0.        , -2.48099726,  0.        ,\n",
       "          0.        ],\n",
       "        [ 0.        ,  0.        ,  0.        ,  0.        , -3.33165745,\n",
       "          0.        ],\n",
       "        [ 0.        ,  0.        ,  0.        ,  0.        ,  0.        ,\n",
       "         -4.21468091]])"
      ]
     },
     "execution_count": 38,
     "metadata": {},
     "output_type": "execute_result"
    }
   ],
   "source": [
    "from scipy import sparse\n",
    "\n",
    "diag_M = np.array(M_psi.diagonal()).astype(np.float64).flatten()\n",
    "M_mat = sparse.diags(diag_M)\n",
    "M_mat.todense()"
   ]
  },
  {
   "cell_type": "markdown",
   "id": "d7402485-08fb-4835-98d8-cfe2670546e1",
   "metadata": {},
   "source": [
    "#### Stiffness matrix"
   ]
  },
  {
   "cell_type": "code",
   "execution_count": null,
   "id": "e9ef8a49-d6f8-425c-958e-68932437b5e2",
   "metadata": {},
   "outputs": [],
   "source": [
    "K_psi = list()\n",
    "\n",
    "for n_test in n_test_array:\n",
    "    K_row = list()\n",
    "    for n_trial in n_trial_array:\n",
    "        integrand = basis_set.trial_psi.subs({n: n_test, m: m_val})*reduced_eq.rhs.subs({params.Le: Le_val, H: H_s}).subs({pg_expand.basis_psi: basis_set.trial_psi}).subs({n: n_trial, m: m_val})\n",
    "        integrand = integrand.subs({s: sympy.sqrt((1 + xi)/2)})/(1 - xi)**alpha/(1 + xi)**beta/(2*sympy.sqrt(2*(xi + 1)))\n",
    "        integrand = integrand.doit()\n",
    "        quad_pts = [wt_quad[i]*integrand.subs({xi: xi_quad[i]}).evalf(32) for i in range(quad_N)]\n",
    "        quad_result = sum(quad_pts)\n",
    "        K_row.append(sympy.nsimplify(quad_result, rational=True, tolerance=1e-20))\n",
    "    K_psi.append(M_row)\n",
    "\n",
    "K_psi = sympy.Matrix(K_psi)"
   ]
  },
  {
   "cell_type": "code",
   "execution_count": 51,
   "id": "7645c64f-6d52-49f9-a5e6-25165a8c344c",
   "metadata": {},
   "outputs": [
    {
     "data": {
      "text/latex": [
       "$\\displaystyle \\left[\\begin{array}{cccccccccccc}0 & 0 & 0 & 0 & 0 & - \\frac{211008}{50065} & \\frac{32}{385 \\omega} - \\frac{1974503224390}{57589677378041666531 \\omega^{2}} & 0 & 0 & 0 & 0 & 0\\\\0 & 0 & 0 & 0 & 0 & - \\frac{211008}{50065} & \\frac{32}{385 \\omega} - \\frac{1974503224390}{57589677378041666531 \\omega^{2}} & 0 & 0 & 0 & 0 & 0\\\\0 & 0 & 0 & 0 & 0 & - \\frac{211008}{50065} & \\frac{32}{385 \\omega} - \\frac{1974503224390}{57589677378041666531 \\omega^{2}} & 0 & 0 & 0 & 0 & 0\\\\0 & 0 & 0 & 0 & 0 & - \\frac{211008}{50065} & \\frac{32}{385 \\omega} - \\frac{1974503224390}{57589677378041666531 \\omega^{2}} & 0 & 0 & 0 & 0 & 0\\\\0 & 0 & 0 & 0 & 0 & - \\frac{211008}{50065} & \\frac{32}{385 \\omega} - \\frac{1974503224390}{57589677378041666531 \\omega^{2}} & 0 & 0 & 0 & 0 & 0\\\\0 & 0 & 0 & 0 & 0 & - \\frac{211008}{50065} & \\frac{32}{385 \\omega} - \\frac{1974503224390}{57589677378041666531 \\omega^{2}} & 0 & 0 & 0 & 0 & 0\\end{array}\\right]$"
      ],
      "text/plain": [
       "Matrix([\n",
       "[0, 0, 0, 0, 0, -211008/50065, 32/(385*\\omega) - 1974503224390/(57589677378041666531*\\omega**2), 0, 0, 0, 0, 0],\n",
       "[0, 0, 0, 0, 0, -211008/50065, 32/(385*\\omega) - 1974503224390/(57589677378041666531*\\omega**2), 0, 0, 0, 0, 0],\n",
       "[0, 0, 0, 0, 0, -211008/50065, 32/(385*\\omega) - 1974503224390/(57589677378041666531*\\omega**2), 0, 0, 0, 0, 0],\n",
       "[0, 0, 0, 0, 0, -211008/50065, 32/(385*\\omega) - 1974503224390/(57589677378041666531*\\omega**2), 0, 0, 0, 0, 0],\n",
       "[0, 0, 0, 0, 0, -211008/50065, 32/(385*\\omega) - 1974503224390/(57589677378041666531*\\omega**2), 0, 0, 0, 0, 0],\n",
       "[0, 0, 0, 0, 0, -211008/50065, 32/(385*\\omega) - 1974503224390/(57589677378041666531*\\omega**2), 0, 0, 0, 0, 0]])"
      ]
     },
     "execution_count": 51,
     "metadata": {},
     "output_type": "execute_result"
    }
   ],
   "source": [
    "K_psi"
   ]
  },
  {
   "cell_type": "code",
   "execution_count": 52,
   "id": "94315620-be1a-4133-8545-8ae70ebef268",
   "metadata": {},
   "outputs": [
    {
     "data": {
      "text/plain": [
       "<module 'pg_utils.pg_model.params' from 'C:\\\\Users\\\\gentle\\\\Documents\\\\Projects\\\\PG-Assim\\\\pg_utils\\\\pg_model\\\\params.py'>"
      ]
     },
     "execution_count": 52,
     "metadata": {},
     "output_type": "execute_result"
    }
   ],
   "source": [
    "params"
   ]
  },
  {
   "cell_type": "code",
   "execution_count": 22,
   "id": "8fe8f3ff-6082-4b9f-a901-df98f3b5626a",
   "metadata": {},
   "outputs": [
    {
     "data": {
      "text/plain": [
       "-192.39851049927907"
      ]
     },
     "execution_count": 22,
     "metadata": {},
     "output_type": "execute_result"
    }
   ],
   "source": [
    "n_tmp = 6\n",
    "m_tmp = 2\n",
    "Le_tmp = 1e-4\n",
    "\n",
    "omega_3d = -2/(m_tmp + 2)*(np.sqrt(1 + (m_tmp*(m_tmp+2))/(n_tmp*(2*n_tmp + 2*m_tmp + 1))) - 1)\n",
    "omega_pg = omega_3d/2/Le_tmp*(1 + np.sqrt(1 + 4*Le_tmp**2*m_tmp*(m_tmp - omega_3d)/omega_3d**2))\n",
    "omega_pg"
   ]
  },
  {
   "cell_type": "code",
   "execution_count": 90,
   "id": "c60b4ab4-a3f2-4cb2-84fb-ce75b93a91c7",
   "metadata": {},
   "outputs": [],
   "source": [
    "from sympy import IndexedBase, Sum"
   ]
  },
  {
   "cell_type": "code",
   "execution_count": 91,
   "id": "a7bda1d4-2b3c-41e1-81c6-3962950cd4eb",
   "metadata": {},
   "outputs": [],
   "source": [
    "C_psi = IndexedBase(r\"C_\\psi\")"
   ]
  },
  {
   "cell_type": "code",
   "execution_count": 101,
   "id": "2a83fc6b-c446-4c15-bac0-16a9a5e2daa1",
   "metadata": {},
   "outputs": [
    {
     "data": {
      "text/latex": [
       "$\\displaystyle 2 \\sum_{m=-\\infty}^{\\infty} \\psi{\\left(s,\\phi,t \\right)} {C_{\\psi}}_{m}$"
      ],
      "text/plain": [
       "2*Sum(\\psi(s, \\phi, t)*C_\\psi[m], (m, -oo, oo))"
      ]
     },
     "execution_count": 101,
     "metadata": {},
     "output_type": "execute_result"
    }
   ],
   "source": [
    "Sum(C_psi[m]*core.pgvar_ptb.Psi, (m, -sympy.oo, sympy.oo)) + Sum(C_psi[m]*core.pgvar_ptb.Psi, (m, -sympy.oo, sympy.oo))"
   ]
  },
  {
   "cell_type": "code",
   "execution_count": null,
   "id": "3539472b-fa48-4458-afbd-c6802ef8bdf4",
   "metadata": {},
   "outputs": [],
   "source": []
  }
 ],
 "metadata": {
  "kernelspec": {
   "display_name": "Python3 (geomag)",
   "language": "python",
   "name": "geomag"
  },
  "language_info": {
   "codemirror_mode": {
    "name": "ipython",
    "version": 3
   },
   "file_extension": ".py",
   "mimetype": "text/x-python",
   "name": "python",
   "nbconvert_exporter": "python",
   "pygments_lexer": "ipython3",
   "version": "3.8.13"
  },
  "toc-autonumbering": false
 },
 "nbformat": 4,
 "nbformat_minor": 5
}
